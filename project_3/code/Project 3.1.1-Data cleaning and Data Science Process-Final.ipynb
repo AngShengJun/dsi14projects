{
 "cells": [
  {
   "cell_type": "markdown",
   "metadata": {},
   "source": [
    "# Project 3.1.1 Data Cleaning and Data Science Process - Final\n",
    "---\n",
    "Following scraping textual information from reddit posts, we now continue with the data science process of data cleaning, EDA, model building, evaluation and lastly recommendation of business solutions."
   ]
  },
  {
   "cell_type": "code",
   "execution_count": 1,
   "metadata": {},
   "outputs": [],
   "source": [
    "# Import libraries\n",
    "import pandas as pd\n",
    "import matplotlib.pyplot as plt\n",
    "# increase default figure and font sizes for easier viewing\n",
    "plt.rcParams['figure.figsize'] = (8, 6)\n",
    "plt.rcParams['font.size'] = 14\n",
    "\n",
    "# always be stylish\n",
    "plt.style.use('ggplot')\n",
    "\n",
    "from bs4 import BeautifulSoup\n",
    "import re\n",
    "from nltk.corpus import stopwords\n",
    "from nltk.stem.porter import PorterStemmer\n",
    "\n",
    "from sklearn.model_selection import train_test_split, GridSearchCV\n",
    "from sklearn.pipeline import Pipeline\n",
    "from sklearn.feature_extraction.text import CountVectorizer\n",
    "from sklearn.linear_model import LogisticRegression\n",
    "from sklearn.naive_bayes import MultinomialNB\n",
    "from sklearn import svm\n",
    "from sklearn.metrics import confusion_matrix\n",
    "from sklearn.metrics import roc_auc_score"
   ]
  },
  {
   "cell_type": "code",
   "execution_count": 2,
   "metadata": {},
   "outputs": [
    {
     "data": {
      "text/html": [
       "<div>\n",
       "<style scoped>\n",
       "    .dataframe tbody tr th:only-of-type {\n",
       "        vertical-align: middle;\n",
       "    }\n",
       "\n",
       "    .dataframe tbody tr th {\n",
       "        vertical-align: top;\n",
       "    }\n",
       "\n",
       "    .dataframe thead th {\n",
       "        text-align: right;\n",
       "    }\n",
       "</style>\n",
       "<table border=\"1\" class=\"dataframe\">\n",
       "  <thead>\n",
       "    <tr style=\"text-align: right;\">\n",
       "      <th></th>\n",
       "      <th>approved_at_utc</th>\n",
       "      <th>subreddit</th>\n",
       "      <th>selftext</th>\n",
       "      <th>author_fullname</th>\n",
       "      <th>saved</th>\n",
       "      <th>mod_reason_title</th>\n",
       "      <th>gilded</th>\n",
       "      <th>clicked</th>\n",
       "      <th>title</th>\n",
       "      <th>link_flair_richtext</th>\n",
       "      <th>...</th>\n",
       "      <th>media</th>\n",
       "      <th>is_video</th>\n",
       "      <th>link_flair_template_id</th>\n",
       "      <th>post_hint</th>\n",
       "      <th>preview</th>\n",
       "      <th>media_metadata</th>\n",
       "      <th>crosspost_parent_list</th>\n",
       "      <th>crosspost_parent</th>\n",
       "      <th>author_cakeday</th>\n",
       "      <th>poll_data</th>\n",
       "    </tr>\n",
       "  </thead>\n",
       "  <tbody>\n",
       "    <tr>\n",
       "      <th>0</th>\n",
       "      <td>NaN</td>\n",
       "      <td>googlehome</td>\n",
       "      <td>[\\[FAQ - Frequently Asked Questions\\]](https:/...</td>\n",
       "      <td>t2_q648wkk</td>\n",
       "      <td>False</td>\n",
       "      <td>NaN</td>\n",
       "      <td>0</td>\n",
       "      <td>False</td>\n",
       "      <td>FAQ: Please read the subreddit FAQ before post...</td>\n",
       "      <td>[]</td>\n",
       "      <td>...</td>\n",
       "      <td>NaN</td>\n",
       "      <td>False</td>\n",
       "      <td>NaN</td>\n",
       "      <td>NaN</td>\n",
       "      <td>NaN</td>\n",
       "      <td>NaN</td>\n",
       "      <td>NaN</td>\n",
       "      <td>NaN</td>\n",
       "      <td>NaN</td>\n",
       "      <td>NaN</td>\n",
       "    </tr>\n",
       "    <tr>\n",
       "      <th>1</th>\n",
       "      <td>NaN</td>\n",
       "      <td>googlehome</td>\n",
       "      <td>Do you want to liberate your Google so it can ...</td>\n",
       "      <td>t2_8hlsb</td>\n",
       "      <td>False</td>\n",
       "      <td>NaN</td>\n",
       "      <td>0</td>\n",
       "      <td>False</td>\n",
       "      <td>My Google has Coronavirus! - Monthly Rants and...</td>\n",
       "      <td>[]</td>\n",
       "      <td>...</td>\n",
       "      <td>NaN</td>\n",
       "      <td>False</td>\n",
       "      <td>NaN</td>\n",
       "      <td>NaN</td>\n",
       "      <td>NaN</td>\n",
       "      <td>NaN</td>\n",
       "      <td>NaN</td>\n",
       "      <td>NaN</td>\n",
       "      <td>NaN</td>\n",
       "      <td>NaN</td>\n",
       "    </tr>\n",
       "    <tr>\n",
       "      <th>2</th>\n",
       "      <td>NaN</td>\n",
       "      <td>googlehome</td>\n",
       "      <td>Because that's all it is.</td>\n",
       "      <td>t2_1mgxh</td>\n",
       "      <td>False</td>\n",
       "      <td>NaN</td>\n",
       "      <td>0</td>\n",
       "      <td>False</td>\n",
       "      <td>[Subreddit Request] Can we rename this subredd...</td>\n",
       "      <td>[]</td>\n",
       "      <td>...</td>\n",
       "      <td>NaN</td>\n",
       "      <td>False</td>\n",
       "      <td>489ab03e-b78e-11e6-8fd6-0e00dc2f4472</td>\n",
       "      <td>NaN</td>\n",
       "      <td>NaN</td>\n",
       "      <td>NaN</td>\n",
       "      <td>NaN</td>\n",
       "      <td>NaN</td>\n",
       "      <td>NaN</td>\n",
       "      <td>NaN</td>\n",
       "    </tr>\n",
       "    <tr>\n",
       "      <th>3</th>\n",
       "      <td>NaN</td>\n",
       "      <td>googlehome</td>\n",
       "      <td>NaN</td>\n",
       "      <td>t2_mnm0w</td>\n",
       "      <td>False</td>\n",
       "      <td>NaN</td>\n",
       "      <td>0</td>\n",
       "      <td>False</td>\n",
       "      <td>This one really takes the cake.</td>\n",
       "      <td>[]</td>\n",
       "      <td>...</td>\n",
       "      <td>NaN</td>\n",
       "      <td>False</td>\n",
       "      <td>NaN</td>\n",
       "      <td>image</td>\n",
       "      <td>{'images': [{'source': {'url': 'https://extern...</td>\n",
       "      <td>NaN</td>\n",
       "      <td>NaN</td>\n",
       "      <td>NaN</td>\n",
       "      <td>NaN</td>\n",
       "      <td>NaN</td>\n",
       "    </tr>\n",
       "    <tr>\n",
       "      <th>4</th>\n",
       "      <td>NaN</td>\n",
       "      <td>googlehome</td>\n",
       "      <td>NaN</td>\n",
       "      <td>t2_me5yarn</td>\n",
       "      <td>False</td>\n",
       "      <td>NaN</td>\n",
       "      <td>0</td>\n",
       "      <td>False</td>\n",
       "      <td>Where did my routines go to? They're still in ...</td>\n",
       "      <td>[]</td>\n",
       "      <td>...</td>\n",
       "      <td>NaN</td>\n",
       "      <td>False</td>\n",
       "      <td>0ab35abe-b78e-11e6-9303-0ed3c72a1f42</td>\n",
       "      <td>image</td>\n",
       "      <td>{'images': [{'source': {'url': 'https://previe...</td>\n",
       "      <td>NaN</td>\n",
       "      <td>NaN</td>\n",
       "      <td>NaN</td>\n",
       "      <td>NaN</td>\n",
       "      <td>NaN</td>\n",
       "    </tr>\n",
       "  </tbody>\n",
       "</table>\n",
       "<p>5 rows × 111 columns</p>\n",
       "</div>"
      ],
      "text/plain": [
       "   approved_at_utc   subreddit  \\\n",
       "0              NaN  googlehome   \n",
       "1              NaN  googlehome   \n",
       "2              NaN  googlehome   \n",
       "3              NaN  googlehome   \n",
       "4              NaN  googlehome   \n",
       "\n",
       "                                            selftext author_fullname  saved  \\\n",
       "0  [\\[FAQ - Frequently Asked Questions\\]](https:/...      t2_q648wkk  False   \n",
       "1  Do you want to liberate your Google so it can ...        t2_8hlsb  False   \n",
       "2                          Because that's all it is.        t2_1mgxh  False   \n",
       "3                                                NaN        t2_mnm0w  False   \n",
       "4                                                NaN      t2_me5yarn  False   \n",
       "\n",
       "   mod_reason_title  gilded  clicked  \\\n",
       "0               NaN       0    False   \n",
       "1               NaN       0    False   \n",
       "2               NaN       0    False   \n",
       "3               NaN       0    False   \n",
       "4               NaN       0    False   \n",
       "\n",
       "                                               title link_flair_richtext  ...  \\\n",
       "0  FAQ: Please read the subreddit FAQ before post...                  []  ...   \n",
       "1  My Google has Coronavirus! - Monthly Rants and...                  []  ...   \n",
       "2  [Subreddit Request] Can we rename this subredd...                  []  ...   \n",
       "3                    This one really takes the cake.                  []  ...   \n",
       "4  Where did my routines go to? They're still in ...                  []  ...   \n",
       "\n",
       "  media  is_video                link_flair_template_id  post_hint  \\\n",
       "0   NaN     False                                   NaN        NaN   \n",
       "1   NaN     False                                   NaN        NaN   \n",
       "2   NaN     False  489ab03e-b78e-11e6-8fd6-0e00dc2f4472        NaN   \n",
       "3   NaN     False                                   NaN      image   \n",
       "4   NaN     False  0ab35abe-b78e-11e6-9303-0ed3c72a1f42      image   \n",
       "\n",
       "                                             preview  media_metadata  \\\n",
       "0                                                NaN             NaN   \n",
       "1                                                NaN             NaN   \n",
       "2                                                NaN             NaN   \n",
       "3  {'images': [{'source': {'url': 'https://extern...             NaN   \n",
       "4  {'images': [{'source': {'url': 'https://previe...             NaN   \n",
       "\n",
       "   crosspost_parent_list crosspost_parent  author_cakeday poll_data  \n",
       "0                    NaN              NaN             NaN       NaN  \n",
       "1                    NaN              NaN             NaN       NaN  \n",
       "2                    NaN              NaN             NaN       NaN  \n",
       "3                    NaN              NaN             NaN       NaN  \n",
       "4                    NaN              NaN             NaN       NaN  \n",
       "\n",
       "[5 rows x 111 columns]"
      ]
     },
     "execution_count": 2,
     "metadata": {},
     "output_type": "execute_result"
    }
   ],
   "source": [
    "# Read in google home reddit data\n",
    "df_gh = pd.read_csv('./reddit_gh.csv')\n",
    "df_gh.head()"
   ]
  },
  {
   "cell_type": "markdown",
   "metadata": {},
   "source": [
    "The columns with the more relevant textual data are from subreddit, selftext and title. "
   ]
  },
  {
   "cell_type": "code",
   "execution_count": 3,
   "metadata": {},
   "outputs": [
    {
     "data": {
      "text/plain": [
       "(996, 3)"
      ]
     },
     "execution_count": 3,
     "metadata": {},
     "output_type": "execute_result"
    }
   ],
   "source": [
    "# Set a new dataframe with the columns we want ()\n",
    "df_gh1 = pd.DataFrame(df_gh[['subreddit', 'selftext', 'title']])\n",
    "# Shape of dataframe\n",
    "df_gh1.shape"
   ]
  },
  {
   "cell_type": "code",
   "execution_count": 4,
   "metadata": {},
   "outputs": [
    {
     "data": {
      "text/plain": [
       "(825, 3)"
      ]
     },
     "execution_count": 4,
     "metadata": {},
     "output_type": "execute_result"
    }
   ],
   "source": [
    "# Drop duplicates in selftext column\n",
    "df_gh1.drop_duplicates(subset='selftext',inplace=True)\n",
    "# Shape of dataframe after removing duplicates\n",
    "df_gh1.shape"
   ]
  },
  {
   "cell_type": "code",
   "execution_count": 5,
   "metadata": {},
   "outputs": [
    {
     "data": {
      "text/plain": [
       "(824, 3)"
      ]
     },
     "execution_count": 5,
     "metadata": {},
     "output_type": "execute_result"
    }
   ],
   "source": [
    "# Drop NAs.\n",
    "df_gh1.dropna(inplace=True)\n",
    "# Shape of dataframe after removing NAs\n",
    "df_gh1.shape"
   ]
  },
  {
   "cell_type": "code",
   "execution_count": 6,
   "metadata": {},
   "outputs": [
    {
     "data": {
      "text/html": [
       "<div>\n",
       "<style scoped>\n",
       "    .dataframe tbody tr th:only-of-type {\n",
       "        vertical-align: middle;\n",
       "    }\n",
       "\n",
       "    .dataframe tbody tr th {\n",
       "        vertical-align: top;\n",
       "    }\n",
       "\n",
       "    .dataframe thead th {\n",
       "        text-align: right;\n",
       "    }\n",
       "</style>\n",
       "<table border=\"1\" class=\"dataframe\">\n",
       "  <thead>\n",
       "    <tr style=\"text-align: right;\">\n",
       "      <th></th>\n",
       "      <th>subreddit</th>\n",
       "      <th>selftext</th>\n",
       "      <th>title</th>\n",
       "    </tr>\n",
       "  </thead>\n",
       "  <tbody>\n",
       "    <tr>\n",
       "      <th>0</th>\n",
       "      <td>googlehome</td>\n",
       "      <td>[\\[FAQ - Frequently Asked Questions\\]](https:/...</td>\n",
       "      <td>FAQ: Please read the subreddit FAQ before post...</td>\n",
       "    </tr>\n",
       "    <tr>\n",
       "      <th>1</th>\n",
       "      <td>googlehome</td>\n",
       "      <td>Do you want to liberate your Google so it can ...</td>\n",
       "      <td>My Google has Coronavirus! - Monthly Rants and...</td>\n",
       "    </tr>\n",
       "    <tr>\n",
       "      <th>2</th>\n",
       "      <td>googlehome</td>\n",
       "      <td>Because that's all it is.</td>\n",
       "      <td>[Subreddit Request] Can we rename this subredd...</td>\n",
       "    </tr>\n",
       "    <tr>\n",
       "      <th>6</th>\n",
       "      <td>googlehome</td>\n",
       "      <td>So I set an alarm there and Google responded '...</td>\n",
       "      <td>Google just said no problem</td>\n",
       "    </tr>\n",
       "    <tr>\n",
       "      <th>7</th>\n",
       "      <td>googlehome</td>\n",
       "      <td>Recently got a Nest WiFi router. I currently l...</td>\n",
       "      <td>Nest WiFi - who can access router settings?</td>\n",
       "    </tr>\n",
       "  </tbody>\n",
       "</table>\n",
       "</div>"
      ],
      "text/plain": [
       "    subreddit                                           selftext  \\\n",
       "0  googlehome  [\\[FAQ - Frequently Asked Questions\\]](https:/...   \n",
       "1  googlehome  Do you want to liberate your Google so it can ...   \n",
       "2  googlehome                          Because that's all it is.   \n",
       "6  googlehome  So I set an alarm there and Google responded '...   \n",
       "7  googlehome  Recently got a Nest WiFi router. I currently l...   \n",
       "\n",
       "                                               title  \n",
       "0  FAQ: Please read the subreddit FAQ before post...  \n",
       "1  My Google has Coronavirus! - Monthly Rants and...  \n",
       "2  [Subreddit Request] Can we rename this subredd...  \n",
       "6                        Google just said no problem  \n",
       "7        Nest WiFi - who can access router settings?  "
      ]
     },
     "execution_count": 6,
     "metadata": {},
     "output_type": "execute_result"
    }
   ],
   "source": [
    "# Review first 5 rows of dataframe\n",
    "df_gh1.head()"
   ]
  },
  {
   "cell_type": "code",
   "execution_count": 7,
   "metadata": {},
   "outputs": [
    {
     "data": {
      "text/html": [
       "<div>\n",
       "<style scoped>\n",
       "    .dataframe tbody tr th:only-of-type {\n",
       "        vertical-align: middle;\n",
       "    }\n",
       "\n",
       "    .dataframe tbody tr th {\n",
       "        vertical-align: top;\n",
       "    }\n",
       "\n",
       "    .dataframe thead th {\n",
       "        text-align: right;\n",
       "    }\n",
       "</style>\n",
       "<table border=\"1\" class=\"dataframe\">\n",
       "  <thead>\n",
       "    <tr style=\"text-align: right;\">\n",
       "      <th></th>\n",
       "      <th>approved_at_utc</th>\n",
       "      <th>subreddit</th>\n",
       "      <th>selftext</th>\n",
       "      <th>author_fullname</th>\n",
       "      <th>saved</th>\n",
       "      <th>mod_reason_title</th>\n",
       "      <th>gilded</th>\n",
       "      <th>clicked</th>\n",
       "      <th>title</th>\n",
       "      <th>link_flair_richtext</th>\n",
       "      <th>...</th>\n",
       "      <th>event_start</th>\n",
       "      <th>post_hint</th>\n",
       "      <th>preview</th>\n",
       "      <th>event_end</th>\n",
       "      <th>event_is_live</th>\n",
       "      <th>link_flair_template_id</th>\n",
       "      <th>media_metadata</th>\n",
       "      <th>poll_data</th>\n",
       "      <th>crosspost_parent_list</th>\n",
       "      <th>crosspost_parent</th>\n",
       "    </tr>\n",
       "  </thead>\n",
       "  <tbody>\n",
       "    <tr>\n",
       "      <th>0</th>\n",
       "      <td>NaN</td>\n",
       "      <td>GooglePixel</td>\n",
       "      <td>This is the weekly photo megathread. Photos ca...</td>\n",
       "      <td>t2_6l4z3</td>\n",
       "      <td>False</td>\n",
       "      <td>NaN</td>\n",
       "      <td>0</td>\n",
       "      <td>False</td>\n",
       "      <td>Weekly #madebygoogle Photos Megathread - May 0...</td>\n",
       "      <td>[]</td>\n",
       "      <td>...</td>\n",
       "      <td>NaN</td>\n",
       "      <td>NaN</td>\n",
       "      <td>NaN</td>\n",
       "      <td>NaN</td>\n",
       "      <td>NaN</td>\n",
       "      <td>NaN</td>\n",
       "      <td>NaN</td>\n",
       "      <td>NaN</td>\n",
       "      <td>NaN</td>\n",
       "      <td>NaN</td>\n",
       "    </tr>\n",
       "    <tr>\n",
       "      <th>1</th>\n",
       "      <td>NaN</td>\n",
       "      <td>GooglePixel</td>\n",
       "      <td>*If you were redirected here from a removed po...</td>\n",
       "      <td>t2_zmjf4</td>\n",
       "      <td>False</td>\n",
       "      <td>NaN</td>\n",
       "      <td>0</td>\n",
       "      <td>False</td>\n",
       "      <td>The May 2020 Superthread: Pixel 4a, Battery, \"...</td>\n",
       "      <td>[]</td>\n",
       "      <td>...</td>\n",
       "      <td>1.588345e+09</td>\n",
       "      <td>self</td>\n",
       "      <td>{'images': [{'source': {'url': 'https://extern...</td>\n",
       "      <td>1.588360e+09</td>\n",
       "      <td>False</td>\n",
       "      <td>NaN</td>\n",
       "      <td>NaN</td>\n",
       "      <td>NaN</td>\n",
       "      <td>NaN</td>\n",
       "      <td>NaN</td>\n",
       "    </tr>\n",
       "    <tr>\n",
       "      <th>2</th>\n",
       "      <td>NaN</td>\n",
       "      <td>GooglePixel</td>\n",
       "      <td>It was supposed to take up to 10 days. But it ...</td>\n",
       "      <td>t2_10j65hn2</td>\n",
       "      <td>False</td>\n",
       "      <td>NaN</td>\n",
       "      <td>0</td>\n",
       "      <td>False</td>\n",
       "      <td>So I had some troubles with my phone, and sent...</td>\n",
       "      <td>[{'e': 'text', 't': 'Pixel 3a'}]</td>\n",
       "      <td>...</td>\n",
       "      <td>NaN</td>\n",
       "      <td>NaN</td>\n",
       "      <td>NaN</td>\n",
       "      <td>NaN</td>\n",
       "      <td>NaN</td>\n",
       "      <td>bd247e74-7476-11e9-b802-0e2121dcd2a2</td>\n",
       "      <td>NaN</td>\n",
       "      <td>NaN</td>\n",
       "      <td>NaN</td>\n",
       "      <td>NaN</td>\n",
       "    </tr>\n",
       "    <tr>\n",
       "      <th>3</th>\n",
       "      <td>NaN</td>\n",
       "      <td>GooglePixel</td>\n",
       "      <td>Yall weren't kidding about the battery. It's p...</td>\n",
       "      <td>t2_zfetx</td>\n",
       "      <td>False</td>\n",
       "      <td>NaN</td>\n",
       "      <td>0</td>\n",
       "      <td>False</td>\n",
       "      <td>Had my pixel 4 for a few days already and holy...</td>\n",
       "      <td>[{'e': 'text', 't': 'Pixel 4'}]</td>\n",
       "      <td>...</td>\n",
       "      <td>NaN</td>\n",
       "      <td>NaN</td>\n",
       "      <td>NaN</td>\n",
       "      <td>NaN</td>\n",
       "      <td>NaN</td>\n",
       "      <td>8697ce76-f2dc-11e9-8412-0eae23347634</td>\n",
       "      <td>NaN</td>\n",
       "      <td>NaN</td>\n",
       "      <td>NaN</td>\n",
       "      <td>NaN</td>\n",
       "    </tr>\n",
       "    <tr>\n",
       "      <th>4</th>\n",
       "      <td>NaN</td>\n",
       "      <td>GooglePixel</td>\n",
       "      <td>NaN</td>\n",
       "      <td>t2_bkfyp</td>\n",
       "      <td>False</td>\n",
       "      <td>NaN</td>\n",
       "      <td>0</td>\n",
       "      <td>False</td>\n",
       "      <td>Pixel 3a black screen after overnight charging</td>\n",
       "      <td>[{'e': 'text', 't': 'Pixel 3a'}]</td>\n",
       "      <td>...</td>\n",
       "      <td>NaN</td>\n",
       "      <td>hosted:video</td>\n",
       "      <td>{'images': [{'source': {'url': 'https://extern...</td>\n",
       "      <td>NaN</td>\n",
       "      <td>NaN</td>\n",
       "      <td>bd247e74-7476-11e9-b802-0e2121dcd2a2</td>\n",
       "      <td>NaN</td>\n",
       "      <td>NaN</td>\n",
       "      <td>NaN</td>\n",
       "      <td>NaN</td>\n",
       "    </tr>\n",
       "  </tbody>\n",
       "</table>\n",
       "<p>5 rows × 113 columns</p>\n",
       "</div>"
      ],
      "text/plain": [
       "   approved_at_utc    subreddit  \\\n",
       "0              NaN  GooglePixel   \n",
       "1              NaN  GooglePixel   \n",
       "2              NaN  GooglePixel   \n",
       "3              NaN  GooglePixel   \n",
       "4              NaN  GooglePixel   \n",
       "\n",
       "                                            selftext author_fullname  saved  \\\n",
       "0  This is the weekly photo megathread. Photos ca...        t2_6l4z3  False   \n",
       "1  *If you were redirected here from a removed po...        t2_zmjf4  False   \n",
       "2  It was supposed to take up to 10 days. But it ...     t2_10j65hn2  False   \n",
       "3  Yall weren't kidding about the battery. It's p...        t2_zfetx  False   \n",
       "4                                                NaN        t2_bkfyp  False   \n",
       "\n",
       "   mod_reason_title  gilded  clicked  \\\n",
       "0               NaN       0    False   \n",
       "1               NaN       0    False   \n",
       "2               NaN       0    False   \n",
       "3               NaN       0    False   \n",
       "4               NaN       0    False   \n",
       "\n",
       "                                               title  \\\n",
       "0  Weekly #madebygoogle Photos Megathread - May 0...   \n",
       "1  The May 2020 Superthread: Pixel 4a, Battery, \"...   \n",
       "2  So I had some troubles with my phone, and sent...   \n",
       "3  Had my pixel 4 for a few days already and holy...   \n",
       "4     Pixel 3a black screen after overnight charging   \n",
       "\n",
       "                link_flair_richtext  ...   event_start     post_hint  \\\n",
       "0                                []  ...           NaN           NaN   \n",
       "1                                []  ...  1.588345e+09          self   \n",
       "2  [{'e': 'text', 't': 'Pixel 3a'}]  ...           NaN           NaN   \n",
       "3   [{'e': 'text', 't': 'Pixel 4'}]  ...           NaN           NaN   \n",
       "4  [{'e': 'text', 't': 'Pixel 3a'}]  ...           NaN  hosted:video   \n",
       "\n",
       "                                             preview     event_end  \\\n",
       "0                                                NaN           NaN   \n",
       "1  {'images': [{'source': {'url': 'https://extern...  1.588360e+09   \n",
       "2                                                NaN           NaN   \n",
       "3                                                NaN           NaN   \n",
       "4  {'images': [{'source': {'url': 'https://extern...           NaN   \n",
       "\n",
       "   event_is_live                link_flair_template_id  media_metadata  \\\n",
       "0            NaN                                   NaN             NaN   \n",
       "1          False                                   NaN             NaN   \n",
       "2            NaN  bd247e74-7476-11e9-b802-0e2121dcd2a2             NaN   \n",
       "3            NaN  8697ce76-f2dc-11e9-8412-0eae23347634             NaN   \n",
       "4            NaN  bd247e74-7476-11e9-b802-0e2121dcd2a2             NaN   \n",
       "\n",
       "  poll_data  crosspost_parent_list crosspost_parent  \n",
       "0       NaN                    NaN              NaN  \n",
       "1       NaN                    NaN              NaN  \n",
       "2       NaN                    NaN              NaN  \n",
       "3       NaN                    NaN              NaN  \n",
       "4       NaN                    NaN              NaN  \n",
       "\n",
       "[5 rows x 113 columns]"
      ]
     },
     "execution_count": 7,
     "metadata": {},
     "output_type": "execute_result"
    }
   ],
   "source": [
    "# Read in google pixel reddit data\n",
    "df_gp = pd.read_csv('./reddit_gp.csv')\n",
    "df_gp.head()"
   ]
  },
  {
   "cell_type": "code",
   "execution_count": 8,
   "metadata": {},
   "outputs": [
    {
     "data": {
      "text/plain": [
       "(980, 3)"
      ]
     },
     "execution_count": 8,
     "metadata": {},
     "output_type": "execute_result"
    }
   ],
   "source": [
    "# Set a new dataframe with the columns we want ()\n",
    "df_gp1 = pd.DataFrame(df_gp[['subreddit', 'selftext', 'title']])\n",
    "# Shape of dataframe\n",
    "df_gp1.shape"
   ]
  },
  {
   "cell_type": "code",
   "execution_count": 9,
   "metadata": {},
   "outputs": [
    {
     "data": {
      "text/plain": [
       "(803, 3)"
      ]
     },
     "execution_count": 9,
     "metadata": {},
     "output_type": "execute_result"
    }
   ],
   "source": [
    "# Drop duplicates in selftext column\n",
    "df_gp1.drop_duplicates(subset='selftext',inplace=True)\n",
    "# Shape of dataframe after removing duplicates\n",
    "df_gp1.shape"
   ]
  },
  {
   "cell_type": "code",
   "execution_count": 10,
   "metadata": {},
   "outputs": [
    {
     "data": {
      "text/plain": [
       "(802, 3)"
      ]
     },
     "execution_count": 10,
     "metadata": {},
     "output_type": "execute_result"
    }
   ],
   "source": [
    "# Drop NAs.\n",
    "df_gp1.dropna(inplace=True)\n",
    "# Shape of dataframe after removing NAs\n",
    "df_gp1.shape"
   ]
  },
  {
   "cell_type": "code",
   "execution_count": 11,
   "metadata": {},
   "outputs": [
    {
     "data": {
      "text/plain": [
       "(1626, 3)"
      ]
     },
     "execution_count": 11,
     "metadata": {},
     "output_type": "execute_result"
    }
   ],
   "source": [
    "# Join the two dataframes together\n",
    "df = pd.concat([df_gh1,df_gp1])\n",
    "df.reset_index(drop=True, inplace=True)\n",
    "# Shape of concatenated dataframe \n",
    "df.shape"
   ]
  },
  {
   "cell_type": "code",
   "execution_count": 12,
   "metadata": {},
   "outputs": [
    {
     "data": {
      "text/plain": [
       "googlehome     824\n",
       "GooglePixel    802\n",
       "Name: subreddit, dtype: int64"
      ]
     },
     "execution_count": 12,
     "metadata": {},
     "output_type": "execute_result"
    }
   ],
   "source": [
    "# Review number of googlehome and google pixel counts\n",
    "df['subreddit'].value_counts()"
   ]
  },
  {
   "cell_type": "code",
   "execution_count": 13,
   "metadata": {},
   "outputs": [
    {
     "data": {
      "text/html": [
       "<div>\n",
       "<style scoped>\n",
       "    .dataframe tbody tr th:only-of-type {\n",
       "        vertical-align: middle;\n",
       "    }\n",
       "\n",
       "    .dataframe tbody tr th {\n",
       "        vertical-align: top;\n",
       "    }\n",
       "\n",
       "    .dataframe thead th {\n",
       "        text-align: right;\n",
       "    }\n",
       "</style>\n",
       "<table border=\"1\" class=\"dataframe\">\n",
       "  <thead>\n",
       "    <tr style=\"text-align: right;\">\n",
       "      <th></th>\n",
       "      <th>subreddit</th>\n",
       "      <th>selftext</th>\n",
       "      <th>title</th>\n",
       "      <th>googlehome</th>\n",
       "    </tr>\n",
       "  </thead>\n",
       "  <tbody>\n",
       "    <tr>\n",
       "      <th>0</th>\n",
       "      <td>googlehome</td>\n",
       "      <td>[\\[FAQ - Frequently Asked Questions\\]](https:/...</td>\n",
       "      <td>FAQ: Please read the subreddit FAQ before post...</td>\n",
       "      <td>1</td>\n",
       "    </tr>\n",
       "    <tr>\n",
       "      <th>1</th>\n",
       "      <td>googlehome</td>\n",
       "      <td>Do you want to liberate your Google so it can ...</td>\n",
       "      <td>My Google has Coronavirus! - Monthly Rants and...</td>\n",
       "      <td>1</td>\n",
       "    </tr>\n",
       "  </tbody>\n",
       "</table>\n",
       "</div>"
      ],
      "text/plain": [
       "    subreddit                                           selftext  \\\n",
       "0  googlehome  [\\[FAQ - Frequently Asked Questions\\]](https:/...   \n",
       "1  googlehome  Do you want to liberate your Google so it can ...   \n",
       "\n",
       "                                               title  googlehome  \n",
       "0  FAQ: Please read the subreddit FAQ before post...           1  \n",
       "1  My Google has Coronavirus! - Monthly Rants and...           1  "
      ]
     },
     "execution_count": 13,
     "metadata": {},
     "output_type": "execute_result"
    }
   ],
   "source": [
    "# Engineer a feature to turn subreddit into a 1/0 column, where 1 indicates googlehome.\n",
    "df['googlehome'] = df['subreddit'].map({'googlehome': 1, 'GooglePixel': 0})\n",
    "df.head(2)"
   ]
  },
  {
   "cell_type": "code",
   "execution_count": 14,
   "metadata": {},
   "outputs": [
    {
     "data": {
      "text/plain": [
       "1    0.506765\n",
       "0    0.493235\n",
       "Name: googlehome, dtype: float64"
      ]
     },
     "execution_count": 14,
     "metadata": {},
     "output_type": "execute_result"
    }
   ],
   "source": [
    "df['googlehome'].value_counts(normalize=True)"
   ]
  },
  {
   "cell_type": "markdown",
   "metadata": {},
   "source": [
    "The distribution of the classes is quite balanced. If the class is imblanced, the resulting model is likely to have low predictive accuracy for the infrequent class."
   ]
  },
  {
   "cell_type": "markdown",
   "metadata": {},
   "source": [
    "### Basic EDA\n",
    "---\n",
    "Building good performing classifers from data with easily separable classes is relatively straightforward but care should be excercised to determine if such data is representative of the actual world environment. In most real world environment, samples from different classes share similar characteristics or are overlapped. This means the boundaries of each class may not be clearly defined as desired. \n",
    "\n",
    "Common practices to address this problem includes:\n",
    "- i) modifying the original data by introducing/removing features which decrease the overlapping region,\n",
    "- ii) adapting algorithms to reduce the negative impact of overlapping features.\n",
    "\n",
    "Through the basic EDA process, we set out to discover what are the prevalent key words among the reddit posts, and their distribution across text data of googlehome and googlepixel reddit posts. With these insights we would then be in better position to fine-tune the subsequent models."
   ]
  },
  {
   "cell_type": "code",
   "execution_count": 15,
   "metadata": {},
   "outputs": [
    {
     "data": {
      "text/plain": [
       "0    [\\[FAQ - Frequently Asked Questions\\]](https:/...\n",
       "1    Do you want to liberate your Google so it can ...\n",
       "2                            Because that's all it is.\n",
       "3    So I set an alarm there and Google responded '...\n",
       "4    Recently got a Nest WiFi router. I currently l...\n",
       "Name: selftext, dtype: object"
      ]
     },
     "execution_count": 15,
     "metadata": {},
     "output_type": "execute_result"
    }
   ],
   "source": [
    "# First five rows\n",
    "text = df['selftext']\n",
    "text.head()"
   ]
  },
  {
   "cell_type": "code",
   "execution_count": 16,
   "metadata": {},
   "outputs": [],
   "source": [
    "'''\n",
    "create a document term matrix with:\n",
    "-ngram range 1,2\n",
    "-minimum document appearance for any term = 2\n",
    "-removal of all English stop words\n",
    "'''\n",
    "# Instantiate countvectorizer\n",
    "cvec = CountVectorizer(ngram_range=(1, 2), stop_words='english', min_df=2)\n",
    "matrix = cvec.fit_transform(text)"
   ]
  },
  {
   "cell_type": "code",
   "execution_count": 17,
   "metadata": {},
   "outputs": [],
   "source": [
    "# Create a dataframe with feature names = words\n",
    "tf = pd.DataFrame(cvec.fit_transform(text).toarray(), columns=cvec.get_feature_names())"
   ]
  },
  {
   "cell_type": "code",
   "execution_count": 18,
   "metadata": {},
   "outputs": [
    {
     "data": {
      "text/plain": [
       "google         1731\n",
       "home           1054\n",
       "pixel           993\n",
       "phone           882\n",
       "just            736\n",
       "google home     606\n",
       "buds            559\n",
       "ve              547\n",
       "like            533\n",
       "app             429\n",
       "dtype: int64"
      ]
     },
     "execution_count": 18,
     "metadata": {},
     "output_type": "execute_result"
    }
   ],
   "source": [
    "# see most common terms\n",
    "tf.sum().sort_values(ascending=False).head(10)"
   ]
  },
  {
   "cell_type": "code",
   "execution_count": 19,
   "metadata": {},
   "outputs": [
    {
     "data": {
      "text/html": [
       "<div>\n",
       "<style scoped>\n",
       "    .dataframe tbody tr th:only-of-type {\n",
       "        vertical-align: middle;\n",
       "    }\n",
       "\n",
       "    .dataframe tbody tr th {\n",
       "        vertical-align: top;\n",
       "    }\n",
       "\n",
       "    .dataframe thead th {\n",
       "        text-align: right;\n",
       "    }\n",
       "</style>\n",
       "<table border=\"1\" class=\"dataframe\">\n",
       "  <thead>\n",
       "    <tr style=\"text-align: right;\">\n",
       "      <th></th>\n",
       "      <th>subreddit</th>\n",
       "      <th>selftext</th>\n",
       "      <th>title</th>\n",
       "      <th>googlehome</th>\n",
       "    </tr>\n",
       "  </thead>\n",
       "  <tbody>\n",
       "    <tr>\n",
       "      <th>0</th>\n",
       "      <td>googlehome</td>\n",
       "      <td>[\\[FAQ - Frequently Asked Questions\\]](https:/...</td>\n",
       "      <td>FAQ: Please read the subreddit FAQ before post...</td>\n",
       "      <td>1</td>\n",
       "    </tr>\n",
       "    <tr>\n",
       "      <th>1</th>\n",
       "      <td>googlehome</td>\n",
       "      <td>Do you want to liberate your Google so it can ...</td>\n",
       "      <td>My Google has Coronavirus! - Monthly Rants and...</td>\n",
       "      <td>1</td>\n",
       "    </tr>\n",
       "    <tr>\n",
       "      <th>2</th>\n",
       "      <td>googlehome</td>\n",
       "      <td>Because that's all it is.</td>\n",
       "      <td>[Subreddit Request] Can we rename this subredd...</td>\n",
       "      <td>1</td>\n",
       "    </tr>\n",
       "    <tr>\n",
       "      <th>3</th>\n",
       "      <td>googlehome</td>\n",
       "      <td>So I set an alarm there and Google responded '...</td>\n",
       "      <td>Google just said no problem</td>\n",
       "      <td>1</td>\n",
       "    </tr>\n",
       "    <tr>\n",
       "      <th>4</th>\n",
       "      <td>googlehome</td>\n",
       "      <td>Recently got a Nest WiFi router. I currently l...</td>\n",
       "      <td>Nest WiFi - who can access router settings?</td>\n",
       "      <td>1</td>\n",
       "    </tr>\n",
       "  </tbody>\n",
       "</table>\n",
       "</div>"
      ],
      "text/plain": [
       "    subreddit                                           selftext  \\\n",
       "0  googlehome  [\\[FAQ - Frequently Asked Questions\\]](https:/...   \n",
       "1  googlehome  Do you want to liberate your Google so it can ...   \n",
       "2  googlehome                          Because that's all it is.   \n",
       "3  googlehome  So I set an alarm there and Google responded '...   \n",
       "4  googlehome  Recently got a Nest WiFi router. I currently l...   \n",
       "\n",
       "                                               title  googlehome  \n",
       "0  FAQ: Please read the subreddit FAQ before post...           1  \n",
       "1  My Google has Coronavirus! - Monthly Rants and...           1  \n",
       "2  [Subreddit Request] Can we rename this subredd...           1  \n",
       "3                        Google just said no problem           1  \n",
       "4        Nest WiFi - who can access router settings?           1  "
      ]
     },
     "execution_count": 19,
     "metadata": {},
     "output_type": "execute_result"
    }
   ],
   "source": [
    "# Create googlehome text df\n",
    "googlehome_tdf = df[df['googlehome'] ==1]\n",
    "googlehome_tdf.shape\n",
    "googlehome_tdf.head()"
   ]
  },
  {
   "cell_type": "code",
   "execution_count": 20,
   "metadata": {},
   "outputs": [
    {
     "data": {
      "text/plain": [
       "(802, 4)"
      ]
     },
     "execution_count": 20,
     "metadata": {},
     "output_type": "execute_result"
    }
   ],
   "source": [
    "# Create googlepixel text df\n",
    "googlepixel_tdf = df[df['googlehome'] == 0]\n",
    "googlepixel_tdf.shape"
   ]
  },
  {
   "cell_type": "code",
   "execution_count": 21,
   "metadata": {},
   "outputs": [],
   "source": [
    "# vectorize selftext from googlehome text\n",
    "tf1 = pd.DataFrame(cvec.fit_transform(googlehome_tdf['selftext']).toarray(), columns=cvec.get_feature_names())"
   ]
  },
  {
   "cell_type": "code",
   "execution_count": 22,
   "metadata": {},
   "outputs": [
    {
     "data": {
      "text/plain": [
       "(824, 4502)"
      ]
     },
     "execution_count": 22,
     "metadata": {},
     "output_type": "execute_result"
    }
   ],
   "source": [
    "# No.of features fitted\n",
    "tf1.shape"
   ]
  },
  {
   "cell_type": "code",
   "execution_count": 23,
   "metadata": {},
   "outputs": [
    {
     "data": {
      "text/plain": [
       "google         1260\n",
       "home            992\n",
       "google home     600\n",
       "just            312\n",
       "play            283\n",
       "app             265\n",
       "ve              254\n",
       "nest            248\n",
       "set             246\n",
       "mini            230\n",
       "dtype: int64"
      ]
     },
     "execution_count": 23,
     "metadata": {},
     "output_type": "execute_result"
    }
   ],
   "source": [
    "# check value counts\n",
    "tf1.sum().sort_values(ascending=False).head(10)"
   ]
  },
  {
   "cell_type": "markdown",
   "metadata": {},
   "source": [
    "As expected, the words `google`, `home` and `google home` have high prevalence in google home reddit posts."
   ]
  },
  {
   "cell_type": "code",
   "execution_count": 24,
   "metadata": {},
   "outputs": [],
   "source": [
    "# vectorize selftext from googlehome text\n",
    "tf2 = pd.DataFrame(cvec.fit_transform(googlepixel_tdf['selftext']).toarray(), columns=cvec.get_feature_names())"
   ]
  },
  {
   "cell_type": "code",
   "execution_count": 25,
   "metadata": {},
   "outputs": [
    {
     "data": {
      "text/plain": [
       "(802, 5352)"
      ]
     },
     "execution_count": 25,
     "metadata": {},
     "output_type": "execute_result"
    }
   ],
   "source": [
    "# No.of features fitted\n",
    "tf2.shape"
   ]
  },
  {
   "cell_type": "code",
   "execution_count": 26,
   "metadata": {},
   "outputs": [
    {
     "data": {
      "text/plain": [
       "pixel         980\n",
       "phone         672\n",
       "buds          559\n",
       "google        471\n",
       "just          424\n",
       "like          321\n",
       "ve            293\n",
       "pixel buds    265\n",
       "battery       225\n",
       "don           208\n",
       "dtype: int64"
      ]
     },
     "execution_count": 26,
     "metadata": {},
     "output_type": "execute_result"
    }
   ],
   "source": [
    "# check value counts\n",
    "tf2.sum().sort_values(ascending=False).head(10)"
   ]
  },
  {
   "cell_type": "markdown",
   "metadata": {},
   "source": [
    "The words `google`, `phone` and `pixel` have high prevalence in google pixel reddit posts. Are any of these words common among the two reddit groups, and what is their distribution? Let's find out."
   ]
  },
  {
   "cell_type": "code",
   "execution_count": 27,
   "metadata": {},
   "outputs": [
    {
     "name": "stdout",
     "output_type": "stream",
     "text": [
      "              0_x   0_y\n",
      "00            4.0   2.0\n",
      "04            NaN   5.0\n",
      "05            NaN   2.0\n",
      "09            NaN   2.0\n",
      "10           38.0  77.0\n",
      "...           ...   ...\n",
      "zero issues   NaN   2.0\n",
      "zoom          NaN  24.0\n",
      "zoom app      NaN   2.0\n",
      "zoom video    NaN   2.0\n",
      "zoomed        NaN   2.0\n",
      "\n",
      "[8019 rows x 2 columns]\n"
     ]
    }
   ],
   "source": [
    "# word counts of googlehome text and google pixel text\n",
    "\"\"\"Merge the two dataframes on Outer join, align with both dataframe indexes.\"\"\"\n",
    "word_counts = pd.merge(pd.DataFrame(data=tf1.sum().sort_values(ascending=False)),\\\n",
    "                       pd.DataFrame(data=tf2.sum().sort_values(ascending=False)),\\\n",
    "                       how='outer',left_index=True,right_index=True)\n",
    "print(word_counts)"
   ]
  },
  {
   "cell_type": "code",
   "execution_count": 28,
   "metadata": {},
   "outputs": [],
   "source": [
    "# rename columns\n",
    "word_counts.columns = ['googlehome', 'googlepixel']"
   ]
  },
  {
   "cell_type": "code",
   "execution_count": 29,
   "metadata": {},
   "outputs": [
    {
     "data": {
      "text/html": [
       "<div>\n",
       "<style scoped>\n",
       "    .dataframe tbody tr th:only-of-type {\n",
       "        vertical-align: middle;\n",
       "    }\n",
       "\n",
       "    .dataframe tbody tr th {\n",
       "        vertical-align: top;\n",
       "    }\n",
       "\n",
       "    .dataframe thead th {\n",
       "        text-align: right;\n",
       "    }\n",
       "</style>\n",
       "<table border=\"1\" class=\"dataframe\">\n",
       "  <thead>\n",
       "    <tr style=\"text-align: right;\">\n",
       "      <th></th>\n",
       "      <th>googlehome</th>\n",
       "      <th>googlepixel</th>\n",
       "    </tr>\n",
       "  </thead>\n",
       "  <tbody>\n",
       "    <tr>\n",
       "      <th>00</th>\n",
       "      <td>4.0</td>\n",
       "      <td>2.0</td>\n",
       "    </tr>\n",
       "    <tr>\n",
       "      <th>04</th>\n",
       "      <td>NaN</td>\n",
       "      <td>5.0</td>\n",
       "    </tr>\n",
       "  </tbody>\n",
       "</table>\n",
       "</div>"
      ],
      "text/plain": [
       "    googlehome  googlepixel\n",
       "00         4.0          2.0\n",
       "04         NaN          5.0"
      ]
     },
     "execution_count": 29,
     "metadata": {},
     "output_type": "execute_result"
    }
   ],
   "source": [
    "# view the df to ensure correct column naming\n",
    "word_counts.head(2)"
   ]
  },
  {
   "cell_type": "code",
   "execution_count": 30,
   "metadata": {},
   "outputs": [
    {
     "data": {
      "text/html": [
       "<div>\n",
       "<style scoped>\n",
       "    .dataframe tbody tr th:only-of-type {\n",
       "        vertical-align: middle;\n",
       "    }\n",
       "\n",
       "    .dataframe tbody tr th {\n",
       "        vertical-align: top;\n",
       "    }\n",
       "\n",
       "    .dataframe thead th {\n",
       "        text-align: right;\n",
       "    }\n",
       "</style>\n",
       "<table border=\"1\" class=\"dataframe\">\n",
       "  <thead>\n",
       "    <tr style=\"text-align: right;\">\n",
       "      <th></th>\n",
       "      <th>googlehome</th>\n",
       "      <th>googlepixel</th>\n",
       "      <th>sum</th>\n",
       "    </tr>\n",
       "  </thead>\n",
       "  <tbody>\n",
       "    <tr>\n",
       "      <th>google</th>\n",
       "      <td>1260.0</td>\n",
       "      <td>471.0</td>\n",
       "      <td>1731.0</td>\n",
       "    </tr>\n",
       "    <tr>\n",
       "      <th>home</th>\n",
       "      <td>992.0</td>\n",
       "      <td>62.0</td>\n",
       "      <td>1054.0</td>\n",
       "    </tr>\n",
       "    <tr>\n",
       "      <th>pixel</th>\n",
       "      <td>13.0</td>\n",
       "      <td>980.0</td>\n",
       "      <td>993.0</td>\n",
       "    </tr>\n",
       "    <tr>\n",
       "      <th>phone</th>\n",
       "      <td>210.0</td>\n",
       "      <td>672.0</td>\n",
       "      <td>882.0</td>\n",
       "    </tr>\n",
       "    <tr>\n",
       "      <th>just</th>\n",
       "      <td>312.0</td>\n",
       "      <td>424.0</td>\n",
       "      <td>736.0</td>\n",
       "    </tr>\n",
       "    <tr>\n",
       "      <th>google home</th>\n",
       "      <td>600.0</td>\n",
       "      <td>6.0</td>\n",
       "      <td>606.0</td>\n",
       "    </tr>\n",
       "    <tr>\n",
       "      <th>ve</th>\n",
       "      <td>254.0</td>\n",
       "      <td>293.0</td>\n",
       "      <td>547.0</td>\n",
       "    </tr>\n",
       "    <tr>\n",
       "      <th>like</th>\n",
       "      <td>212.0</td>\n",
       "      <td>321.0</td>\n",
       "      <td>533.0</td>\n",
       "    </tr>\n",
       "    <tr>\n",
       "      <th>app</th>\n",
       "      <td>265.0</td>\n",
       "      <td>164.0</td>\n",
       "      <td>429.0</td>\n",
       "    </tr>\n",
       "    <tr>\n",
       "      <th>use</th>\n",
       "      <td>197.0</td>\n",
       "      <td>177.0</td>\n",
       "      <td>374.0</td>\n",
       "    </tr>\n",
       "  </tbody>\n",
       "</table>\n",
       "</div>"
      ],
      "text/plain": [
       "             googlehome  googlepixel     sum\n",
       "google           1260.0        471.0  1731.0\n",
       "home              992.0         62.0  1054.0\n",
       "pixel              13.0        980.0   993.0\n",
       "phone             210.0        672.0   882.0\n",
       "just              312.0        424.0   736.0\n",
       "google home       600.0          6.0   606.0\n",
       "ve                254.0        293.0   547.0\n",
       "like              212.0        321.0   533.0\n",
       "app               265.0        164.0   429.0\n",
       "use               197.0        177.0   374.0"
      ]
     },
     "execution_count": 30,
     "metadata": {},
     "output_type": "execute_result"
    }
   ],
   "source": [
    "# Find sum of word counts between both googlehome and googlepixel posts\n",
    "word_counts['sum'] = word_counts['googlehome'] + word_counts['googlepixel']\n",
    "# Sort by most occurrence to least occurrence\n",
    "word_counts.sort_values(['sum'], ascending=False).head(10)"
   ]
  },
  {
   "cell_type": "code",
   "execution_count": 31,
   "metadata": {},
   "outputs": [
    {
     "data": {
      "text/html": [
       "<div>\n",
       "<style scoped>\n",
       "    .dataframe tbody tr th:only-of-type {\n",
       "        vertical-align: middle;\n",
       "    }\n",
       "\n",
       "    .dataframe tbody tr th {\n",
       "        vertical-align: top;\n",
       "    }\n",
       "\n",
       "    .dataframe thead th {\n",
       "        text-align: right;\n",
       "    }\n",
       "</style>\n",
       "<table border=\"1\" class=\"dataframe\">\n",
       "  <thead>\n",
       "    <tr style=\"text-align: right;\">\n",
       "      <th></th>\n",
       "      <th>googlehome</th>\n",
       "      <th>googlepixel</th>\n",
       "      <th>sum</th>\n",
       "    </tr>\n",
       "  </thead>\n",
       "  <tbody>\n",
       "    <tr>\n",
       "      <th>does recognize</th>\n",
       "      <td>2.0</td>\n",
       "      <td>2.0</td>\n",
       "      <td>4.0</td>\n",
       "    </tr>\n",
       "    <tr>\n",
       "      <th>google help</th>\n",
       "      <td>2.0</td>\n",
       "      <td>2.0</td>\n",
       "      <td>4.0</td>\n",
       "    </tr>\n",
       "    <tr>\n",
       "      <th>just getting</th>\n",
       "      <td>2.0</td>\n",
       "      <td>2.0</td>\n",
       "      <td>4.0</td>\n",
       "    </tr>\n",
       "    <tr>\n",
       "      <th>refusing</th>\n",
       "      <td>2.0</td>\n",
       "      <td>2.0</td>\n",
       "      <td>4.0</td>\n",
       "    </tr>\n",
       "    <tr>\n",
       "      <th>app issue</th>\n",
       "      <td>2.0</td>\n",
       "      <td>2.0</td>\n",
       "      <td>4.0</td>\n",
       "    </tr>\n",
       "  </tbody>\n",
       "</table>\n",
       "</div>"
      ],
      "text/plain": [
       "                googlehome  googlepixel  sum\n",
       "does recognize         2.0          2.0  4.0\n",
       "google help            2.0          2.0  4.0\n",
       "just getting           2.0          2.0  4.0\n",
       "refusing               2.0          2.0  4.0\n",
       "app issue              2.0          2.0  4.0"
      ]
     },
     "execution_count": 31,
     "metadata": {},
     "output_type": "execute_result"
    }
   ],
   "source": [
    "# Minimum occurrence of words\n",
    "word_counts.sort_values(['sum'], ascending=True).head(5)"
   ]
  },
  {
   "cell_type": "code",
   "execution_count": 32,
   "metadata": {},
   "outputs": [
    {
     "data": {
      "image/png": "[encoded data removed]",
      "text/plain": [
       "<Figure size 1080x432 with 1 Axes>"
      ]
     },
     "metadata": {},
     "output_type": "display_data"
    }
   ],
   "source": [
    "# Plot 30 most used words\n",
    "word_counts.sort_values(['sum'], ascending=False).drop('sum', axis=1).head(30).\\\n",
    "plot(kind='bar',figsize=(15,6),fontsize=12,title='Top 30 common words across reddits');"
   ]
  },
  {
   "cell_type": "code",
   "execution_count": 33,
   "metadata": {},
   "outputs": [
    {
     "name": "stdout",
     "output_type": "stream",
     "text": [
      "googlehome total posts: 824, word count: 39648.0\n",
      "googlepixel total posts: 802, word count: 45369.0\n"
     ]
    }
   ],
   "source": [
    "print(f\"googlehome total posts: {df_gh1.shape[0]}, word count: {word_counts['googlehome'].sum()}\")\n",
    "print(f\"googlepixel total posts: {df_gp1.shape[0]}, word count: {word_counts['googlepixel'].sum()}\")"
   ]
  },
  {
   "cell_type": "markdown",
   "metadata": {},
   "source": [
    "While the word `google` is unexpectedly common with 1731 instances, an interestingly observation is that it is not as prevalent for google pixel posts compared to google home. This could be due to consumers referring the google handphone simply as `pixel`. \n",
    "For (binary) classification problem, the ideal case is perfect separation in features for the classes. However, this is rarely the case in actual world environment. \n",
    "\n",
    "To improve generalizability of the model, certain words that help with distinct classification are also removed. These are (`First set words`): ['google', 'home', 'google home', 'nest', 'mini', 'hub' 'pixel' and 'buds']. `nest`, `mini`, `hub` `pixel` and `buds` are added for good measure. Observe from the plot that there are some words that are common between `googlehome` and `googlepixel`. To potentially improve classification ability of model, we remove the words (`Second set words`) that have following two characteristics:\n",
    "- significant overlaps (smallest difference in word count occurrence in both classes)\n",
    "- occur frequently. From the plot above, word count occurrence of more than 200 is determined emphirically to be a suitable  measure. \n",
    "\n",
    "The approach would thus be to evaluate model performance on removal of `First set words` followed by removing both `First set words` and `Second set words`. "
   ]
  },
  {
   "cell_type": "code",
   "execution_count": 34,
   "metadata": {},
   "outputs": [
    {
     "data": {
      "text/html": [
       "<div>\n",
       "<style scoped>\n",
       "    .dataframe tbody tr th:only-of-type {\n",
       "        vertical-align: middle;\n",
       "    }\n",
       "\n",
       "    .dataframe tbody tr th {\n",
       "        vertical-align: top;\n",
       "    }\n",
       "\n",
       "    .dataframe thead th {\n",
       "        text-align: right;\n",
       "    }\n",
       "</style>\n",
       "<table border=\"1\" class=\"dataframe\">\n",
       "  <thead>\n",
       "    <tr style=\"text-align: right;\">\n",
       "      <th></th>\n",
       "      <th>googlehome</th>\n",
       "      <th>googlepixel</th>\n",
       "      <th>sum</th>\n",
       "      <th>gap</th>\n",
       "    </tr>\n",
       "  </thead>\n",
       "  <tbody>\n",
       "    <tr>\n",
       "      <th>work</th>\n",
       "      <td>150.0</td>\n",
       "      <td>158.0</td>\n",
       "      <td>308.0</td>\n",
       "      <td>8.0</td>\n",
       "    </tr>\n",
       "    <tr>\n",
       "      <th>time</th>\n",
       "      <td>164.0</td>\n",
       "      <td>174.0</td>\n",
       "      <td>338.0</td>\n",
       "      <td>10.0</td>\n",
       "    </tr>\n",
       "    <tr>\n",
       "      <th>use</th>\n",
       "      <td>197.0</td>\n",
       "      <td>177.0</td>\n",
       "      <td>374.0</td>\n",
       "      <td>20.0</td>\n",
       "    </tr>\n",
       "    <tr>\n",
       "      <th>ve</th>\n",
       "      <td>254.0</td>\n",
       "      <td>293.0</td>\n",
       "      <td>547.0</td>\n",
       "      <td>39.0</td>\n",
       "    </tr>\n",
       "  </tbody>\n",
       "</table>\n",
       "</div>"
      ],
      "text/plain": [
       "      googlehome  googlepixel    sum   gap\n",
       "work       150.0        158.0  308.0   8.0\n",
       "time       164.0        174.0  338.0  10.0\n",
       "use        197.0        177.0  374.0  20.0\n",
       "ve         254.0        293.0  547.0  39.0"
      ]
     },
     "execution_count": 34,
     "metadata": {},
     "output_type": "execute_result"
    }
   ],
   "source": [
    "# Find words with \n",
    "# 1. significant overlaps\n",
    "# 2. measure by gap (difference of word count between googlehome & googlepixel class)\n",
    "# 3. identify the more significant occuring ones by population proportion\n",
    "word_counts['gap'] = abs(word_counts['googlehome'] - word_counts['googlepixel'])\n",
    "# sort by most used values\n",
    "word_counts.sort_values(['gap'], ascending=True).loc[(word_counts['sum']>300) & (word_counts['gap']<50)]"
   ]
  },
  {
   "cell_type": "code",
   "execution_count": 35,
   "metadata": {},
   "outputs": [
    {
     "data": {
      "text/html": [
       "<div>\n",
       "<style scoped>\n",
       "    .dataframe tbody tr th:only-of-type {\n",
       "        vertical-align: middle;\n",
       "    }\n",
       "\n",
       "    .dataframe tbody tr th {\n",
       "        vertical-align: top;\n",
       "    }\n",
       "\n",
       "    .dataframe thead th {\n",
       "        text-align: right;\n",
       "    }\n",
       "</style>\n",
       "<table border=\"1\" class=\"dataframe\">\n",
       "  <thead>\n",
       "    <tr style=\"text-align: right;\">\n",
       "      <th></th>\n",
       "      <th>googlehome</th>\n",
       "      <th>googlepixel</th>\n",
       "      <th>sum</th>\n",
       "      <th>gap</th>\n",
       "    </tr>\n",
       "  </thead>\n",
       "  <tbody>\n",
       "    <tr>\n",
       "      <th>does</th>\n",
       "      <td>138.0</td>\n",
       "      <td>140.0</td>\n",
       "      <td>278.0</td>\n",
       "      <td>2.0</td>\n",
       "    </tr>\n",
       "    <tr>\n",
       "      <th>work</th>\n",
       "      <td>150.0</td>\n",
       "      <td>158.0</td>\n",
       "      <td>308.0</td>\n",
       "      <td>8.0</td>\n",
       "    </tr>\n",
       "    <tr>\n",
       "      <th>time</th>\n",
       "      <td>164.0</td>\n",
       "      <td>174.0</td>\n",
       "      <td>338.0</td>\n",
       "      <td>10.0</td>\n",
       "    </tr>\n",
       "    <tr>\n",
       "      <th>want</th>\n",
       "      <td>139.0</td>\n",
       "      <td>120.0</td>\n",
       "      <td>259.0</td>\n",
       "      <td>19.0</td>\n",
       "    </tr>\n",
       "    <tr>\n",
       "      <th>use</th>\n",
       "      <td>197.0</td>\n",
       "      <td>177.0</td>\n",
       "      <td>374.0</td>\n",
       "      <td>20.0</td>\n",
       "    </tr>\n",
       "    <tr>\n",
       "      <th>using</th>\n",
       "      <td>129.0</td>\n",
       "      <td>162.0</td>\n",
       "      <td>291.0</td>\n",
       "      <td>33.0</td>\n",
       "    </tr>\n",
       "    <tr>\n",
       "      <th>way</th>\n",
       "      <td>155.0</td>\n",
       "      <td>121.0</td>\n",
       "      <td>276.0</td>\n",
       "      <td>34.0</td>\n",
       "    </tr>\n",
       "    <tr>\n",
       "      <th>assistant</th>\n",
       "      <td>138.0</td>\n",
       "      <td>102.0</td>\n",
       "      <td>240.0</td>\n",
       "      <td>36.0</td>\n",
       "    </tr>\n",
       "    <tr>\n",
       "      <th>ve</th>\n",
       "      <td>254.0</td>\n",
       "      <td>293.0</td>\n",
       "      <td>547.0</td>\n",
       "      <td>39.0</td>\n",
       "    </tr>\n",
       "    <tr>\n",
       "      <th>tried</th>\n",
       "      <td>156.0</td>\n",
       "      <td>116.0</td>\n",
       "      <td>272.0</td>\n",
       "      <td>40.0</td>\n",
       "    </tr>\n",
       "  </tbody>\n",
       "</table>\n",
       "</div>"
      ],
      "text/plain": [
       "           googlehome  googlepixel    sum   gap\n",
       "does            138.0        140.0  278.0   2.0\n",
       "work            150.0        158.0  308.0   8.0\n",
       "time            164.0        174.0  338.0  10.0\n",
       "want            139.0        120.0  259.0  19.0\n",
       "use             197.0        177.0  374.0  20.0\n",
       "using           129.0        162.0  291.0  33.0\n",
       "way             155.0        121.0  276.0  34.0\n",
       "assistant       138.0        102.0  240.0  36.0\n",
       "ve              254.0        293.0  547.0  39.0\n",
       "tried           156.0        116.0  272.0  40.0"
      ]
     },
     "execution_count": 35,
     "metadata": {},
     "output_type": "execute_result"
    }
   ],
   "source": [
    "sorted_list = word_counts.sort_values(['gap'], ascending=True).loc[(word_counts['sum']>200) & (word_counts['gap']<50)]\n",
    "sorted_list"
   ]
  },
  {
   "cell_type": "code",
   "execution_count": 37,
   "metadata": {},
   "outputs": [
    {
     "data": {
      "image/png": "[encoded data removed]",
      "text/plain": [
       "<Figure size 1080x432 with 1 Axes>"
      ]
     },
     "metadata": {},
     "output_type": "display_data"
    }
   ],
   "source": [
    "sorted_list['gap'].\\\n",
    "plot(kind='bar', figsize=(15,6),fontsize=12,title='Equally prevalent words (overlaps)', color = 'green');"
   ]
  },
  {
   "cell_type": "markdown",
   "metadata": {},
   "source": [
    "The top 10 words commonly overlapping words are [`does`, `work`, `time`, `want`, `use`, `using`, `way`, `assistant`, `ve`, `tried`] are the more common words among the two reddits with significant overlap (similar distribution, with word count aprrox. 200). To measure the impact on model predictive accuracy, it is proposed compare a logreg model without removing these key words and another logreg model with these key words removed.  "
   ]
  },
  {
   "cell_type": "markdown",
   "metadata": {},
   "source": [
    "### Word Art\n",
    "---\n",
    "Following the EDA process, we received a request from the marketing department. They wanted to understand the hot topics for google home and google pixel by inference of the keywords from Reddit posts. While word cloud is technically not data science, we make a small detour to help them out."
   ]
  },
  {
   "cell_type": "code",
   "execution_count": 109,
   "metadata": {},
   "outputs": [],
   "source": [
    "# Import libraries\n",
    "from wordcloud import WordCloud, STOPWORDS, ImageColorGenerator\n",
    "\n",
    "from matplotlib.pyplot import imread\n",
    "%matplotlib inline\n",
    "\n",
    "import numpy as np"
   ]
  },
  {
   "cell_type": "code",
   "execution_count": 110,
   "metadata": {},
   "outputs": [],
   "source": [
    "# create a list of all the text from googlehome\n",
    "wa_gh = pd.DataFrame(cvec.fit_transform(googlehome_tdf['selftext']).toarray(), columns=cvec.get_feature_names())\n",
    "all_textgh = []\n",
    "for x in wa_gh:\n",
    "    all_textgh.append(x)"
   ]
  },
  {
   "cell_type": "code",
   "execution_count": 111,
   "metadata": {},
   "outputs": [],
   "source": [
    "# create a list of all the text from googlepixel\n",
    "wa_gp = pd.DataFrame(cvec.fit_transform(googlepixel_tdf['selftext']).toarray(), columns=cvec.get_feature_names())\n",
    "all_textgp = []\n",
    "for x in wa_gp:\n",
    "    all_textgp.append(x)"
   ]
  },
  {
   "cell_type": "code",
   "execution_count": 112,
   "metadata": {},
   "outputs": [],
   "source": [
    "# format it into str\n",
    "# In Python 3, unicode has been renamed to str.\n",
    "googlehome_text = str(all_textgh)\n",
    "googlepixel_text = str(all_textgp)"
   ]
  },
  {
   "cell_type": "code",
   "execution_count": 113,
   "metadata": {},
   "outputs": [],
   "source": [
    "# Define function to generate wordart (wordcloud)\n",
    "def cloud(source_text):\n",
    "    stop_words = [\"ve'\"] + list(STOPWORDS)\n",
    "    wordcloud = WordCloud(max_words=200,\\\n",
    "                          stopwords=stop_words,\\\n",
    "                          background_color=\"white\",\\\n",
    "                          min_font_size=10,\\\n",
    "                          colormap='viridis').generate(source_text)\n",
    "    \n",
    "    plt.figure(figsize=(12,12))\n",
    "    plt.imshow(wordcloud)\n",
    "    plt.axis(\"off\")\n",
    "    plt.show()"
   ]
  },
  {
   "cell_type": "code",
   "execution_count": 114,
   "metadata": {},
   "outputs": [
    {
     "data": {
      "image/png": "[encoded data removed]",
      "text/plain": [
       "<Figure size 864x864 with 1 Axes>"
      ]
     },
     "metadata": {
      "needs_background": "light"
     },
     "output_type": "display_data"
    }
   ],
   "source": [
    "# Generate word cloud image for googlehome\n",
    "cloud(googlehome_text)"
   ]
  },
  {
   "cell_type": "code",
   "execution_count": 115,
   "metadata": {},
   "outputs": [
    {
     "data": {
      "image/png": "[encoded data removed]",
      "text/plain": [
       "<Figure size 864x864 with 1 Axes>"
      ]
     },
     "metadata": {
      "needs_background": "light"
     },
     "output_type": "display_data"
    }
   ],
   "source": [
    "# Generate word cloud image for googlepixel\n",
    "cloud(googlepixel_text)"
   ]
  },
  {
   "cell_type": "markdown",
   "metadata": {},
   "source": [
    "### Model Prep\n",
    "---\n",
    "In model learning, data is usually segregated into \n",
    "- training set; where model learns from the pattern within this set of data,\n",
    "- validate set; where model or group of models are evaluated. This is the performance the model is expected to have on unseen data.  \n",
    "- test set; the best performing model is then shortlisted and tested on the test set.\n",
    "\n",
    "We first split data into i) train and test set, then split the train set into train subsets and validate subsets.\n",
    "\n",
    "Dataleakage is an issue where a learned model is overfitted on the train data and not generalize well to new, unseen data. This can be mitigated by spliting the data upfront, fitting only on the train set and transform the validate set. This is to prevent data leakage from the validate set to the train set. (Similar principle applies on test set). This also means excercise caution not to inadvertently countvectorize (a transformer) the data first before doing train-test-split."
   ]
  },
  {
   "cell_type": "code",
   "execution_count": 116,
   "metadata": {},
   "outputs": [],
   "source": [
    "# Create Train-Test split (80-20 split)\n",
    "# X is selftext. y is googlehome.\n",
    "X_train,X_test,y_train,y_test = train_test_split(df[['selftext']],df['googlehome'],test_size=0.20,\\\n",
    "                                                 stratify=df['googlehome'],\\\n",
    "                                                 random_state=42)"
   ]
  },
  {
   "cell_type": "code",
   "execution_count": 117,
   "metadata": {},
   "outputs": [
    {
     "name": "stdout",
     "output_type": "stream",
     "text": [
      "1    659\n",
      "0    641\n",
      "Name: googlehome, dtype: int64\n"
     ]
    },
    {
     "data": {
      "text/plain": [
       "1    165\n",
       "0    161\n",
       "Name: googlehome, dtype: int64"
      ]
     },
     "execution_count": 117,
     "metadata": {},
     "output_type": "execute_result"
    }
   ],
   "source": [
    "# Equal proportion of classes split across train and test set\n",
    "print(y_train.value_counts())\n",
    "y_test.value_counts()"
   ]
  },
  {
   "cell_type": "code",
   "execution_count": 118,
   "metadata": {},
   "outputs": [],
   "source": [
    "# Create Train-Validate subsets (80-20 split) from the parent Train set\n",
    "# X is selftext. y is googlehome.\n",
    "X_trainf,X_validate,y_trainf,y_validate = train_test_split(X_train[['selftext']],y_train,test_size=0.20,\\\n",
    "                                                           stratify=y_train,random_state=42)"
   ]
  },
  {
   "cell_type": "code",
   "execution_count": 119,
   "metadata": {},
   "outputs": [
    {
     "name": "stdout",
     "output_type": "stream",
     "text": [
      "Lines in train set: 1040.\n",
      "Lines in validate set: 260.\n",
      "Lines in test set: 326.\n"
     ]
    }
   ],
   "source": [
    "# Lines of text in train set, validate set and test set\n",
    "lines_trainf = X_trainf.shape[0]\n",
    "lines_validate = X_validate.shape[0]\n",
    "lines_test = X_test.shape[0]\n",
    "print(f\"Lines in train set: {lines_trainf}.\")\n",
    "print(f\"Lines in validate set: {lines_validate}.\")\n",
    "print(f\"Lines in test set: {lines_test}.\")"
   ]
  },
  {
   "cell_type": "code",
   "execution_count": 120,
   "metadata": {},
   "outputs": [],
   "source": [
    "# Instantiate porterstemmer\n",
    "p_stemmer = PorterStemmer()"
   ]
  },
  {
   "cell_type": "code",
   "execution_count": 121,
   "metadata": {},
   "outputs": [],
   "source": [
    "# Create the two list of custom stopwords\n",
    "# Built upon nltk stopwords (english)\n",
    "\"\"\"Define the stopword lists\"\"\"\n",
    "s_words = stopwords.words('english')\n",
    "firstset_words = ['google', 'home', 'google home', 'nest', 'mini', 'hub', 'pixel', 'buds']\n",
    "secondset_words = ['does', 'work', 'time', 'want', 'use', 'using', 'way', 'assistant', 've', 'tried']\n"
   ]
  },
  {
   "cell_type": "code",
   "execution_count": 122,
   "metadata": {},
   "outputs": [],
   "source": [
    "# Stop words with firstset_words\n",
    "s_words.extend(firstset_words)"
   ]
  },
  {
   "cell_type": "code",
   "execution_count": 123,
   "metadata": {
    "scrolled": true
   },
   "outputs": [
    {
     "data": {
      "text/plain": [
       "['nest', 'mini', 'hub', 'pixel', 'buds']"
      ]
     },
     "execution_count": 123,
     "metadata": {},
     "output_type": "execute_result"
    }
   ],
   "source": [
    "# Check the addition of firstset_words\n",
    "s_words[-5:]"
   ]
  },
  {
   "cell_type": "markdown",
   "metadata": {},
   "source": [
    "##### Implement Stopwords with Firstset words"
   ]
  },
  {
   "cell_type": "code",
   "execution_count": 124,
   "metadata": {},
   "outputs": [],
   "source": [
    "# Define function to convert a raw selftext to a string of words\n",
    "# The input is a single string (a raw selftext), and \n",
    "# The output is a single string (a preprocessed selftext)\n",
    "# For Stop words with firstset_words\n",
    "\n",
    "def selftext_to_words(raw_selftext):\n",
    "    \n",
    "    # 1. Remove HTML.\n",
    "    selftext_text = BeautifulSoup(raw_selftext).get_text()\n",
    "    \n",
    "    # 2. Remove non-letters.\n",
    "    letters_only = re.sub(\"[^a-zA-Z]\", \" \", selftext_text)\n",
    "    \n",
    "    # 3. Convert to lower case, split into individual words\n",
    "    words = letters_only.lower().split()\n",
    "    \n",
    "    # 4. In Python, searching a set is much faster than searching\n",
    "    # a list, so convert the stopwords to a set.\n",
    "    stops = set(s_words)\n",
    "\n",
    "    # 5. Remove stopwords.\n",
    "    meaningful_words = [w for w in words if w not in stops]\n",
    "    \n",
    "    # 5.5 Stemming of words\n",
    "    meaningful_words = [p_stemmer.stem(w) for w in words]\n",
    "    \n",
    "    # 6. Join the words back into one string separated by space, \n",
    "    # and return the result\n",
    "    return(\" \".join(meaningful_words))"
   ]
  },
  {
   "cell_type": "code",
   "execution_count": 125,
   "metadata": {},
   "outputs": [
    {
     "name": "stderr",
     "output_type": "stream",
     "text": [
      "C:\\Users\\65943\\anaconda3\\lib\\site-packages\\bs4\\__init__.py:389: UserWarning: \"https://imgur.com/a/Wp9EwEn\" looks like a URL. Beautiful Soup is not an HTTP client. You should probably use an HTTP client like requests to get the document behind the URL, and feed that document to Beautiful Soup.\n",
      "  ' that document to Beautiful Soup.' % decoded_markup\n",
      "C:\\Users\\65943\\anaconda3\\lib\\site-packages\\bs4\\__init__.py:389: UserWarning: \"https://imgur.com/a/obeUnIH\" looks like a URL. Beautiful Soup is not an HTTP client. You should probably use an HTTP client like requests to get the document behind the URL, and feed that document to Beautiful Soup.\n",
      "  ' that document to Beautiful Soup.' % decoded_markup\n",
      "C:\\Users\\65943\\anaconda3\\lib\\site-packages\\bs4\\__init__.py:389: UserWarning: \"https://imgur.com/a/telb95S\" looks like a URL. Beautiful Soup is not an HTTP client. You should probably use an HTTP client like requests to get the document behind the URL, and feed that document to Beautiful Soup.\n",
      "  ' that document to Beautiful Soup.' % decoded_markup\n"
     ]
    },
    {
     "name": "stdout",
     "output_type": "stream",
     "text": [
      "Clean & parse 1000 of 1626.\n",
      "Clean and parse 1626 of 1626.\n"
     ]
    }
   ],
   "source": [
    "# Initialize an empty list to hold the clean reviews.\n",
    "# This is for the Stop words with firstset_words\n",
    "X_trainf_clean1 = []\n",
    "X_validate_clean1 = []\n",
    "X_test_clean1 = []\n",
    "\n",
    "#For train set\n",
    "# Instantiate counter.\n",
    "j = 0\n",
    "for text in X_trainf['selftext']:\n",
    "    \"\"\"Convert text to words, then append to X_trainf_clean.\"\"\"\n",
    "    X_trainf_clean1.append(selftext_to_words(text))\n",
    "    \n",
    "    # If the index is divisible by 1000, print a message.\n",
    "    if (j + 1) % 1000 == 0:\n",
    "        print(f'Clean & parse {j + 1} of {lines_trainf+lines_validate+lines_test}.')\n",
    "    \n",
    "    j += 1\n",
    "    \n",
    "# For validate set\n",
    "for text in X_validate['selftext']:\n",
    "    \"\"\"Convert text to words, then append to X_validate_clean.\"\"\"\n",
    "    X_validate_clean1.append(selftext_to_words(text))\n",
    "    \n",
    "    # If the index is divisible by 1629, print a message.\n",
    "    if (j + 1) % (lines_trainf+lines_validate+lines_test) == 0:\n",
    "        print(f'Clean and parse {j + 1} of {lines_train+lines_test}.')\n",
    "    \n",
    "    j += 1\n",
    "    \n",
    "# For test set\n",
    "for text in X_test['selftext']:\n",
    "    \"\"\"Convert text to words, then append to X_test_clean.\"\"\"\n",
    "    X_test_clean1.append(selftext_to_words(text))\n",
    "    \n",
    "    # If the index is divisible by 1629, print a message.\n",
    "    if (j + 1) % (lines_trainf+lines_validate+lines_test) == 0:\n",
    "        print(f'Clean and parse {j + 1} of {lines_trainf+lines_validate+lines_test}.')\n",
    "    \n",
    "    j += 1"
   ]
  },
  {
   "cell_type": "markdown",
   "metadata": {},
   "source": [
    "##### Implement Stopwords with Firstset words & Secondset words"
   ]
  },
  {
   "cell_type": "code",
   "execution_count": 126,
   "metadata": {},
   "outputs": [],
   "source": [
    "# Stop words with firstset_words & secondset_words\n",
    "s_words.extend(secondset_words)"
   ]
  },
  {
   "cell_type": "code",
   "execution_count": 127,
   "metadata": {
    "scrolled": true
   },
   "outputs": [
    {
     "name": "stdout",
     "output_type": "stream",
     "text": [
      "['nest', 'mini', 'hub', 'pixel', 'buds', 'does', 'work', 'time', 'want', 'use', 'using', 'way', 'assistant', 've', 'tried']\n"
     ]
    }
   ],
   "source": [
    "# Check the addition of secondset_words\n",
    "print(s_words[-15:])"
   ]
  },
  {
   "cell_type": "code",
   "execution_count": 128,
   "metadata": {},
   "outputs": [],
   "source": [
    "# Define function to convert a raw selftext to a string of words\n",
    "# The input is a single string (a raw selftext), and \n",
    "# The output is a single string (a preprocessed selftext)\n",
    "# For Stop words with firstset_words and secondset_words\n",
    "\n",
    "def selftext_to_words(raw_selftext):\n",
    "    \n",
    "    # 1. Remove HTML.\n",
    "    selftext_text = BeautifulSoup(raw_selftext).get_text()\n",
    "    \n",
    "    # 2. Remove non-letters.\n",
    "    letters_only = re.sub(\"[^a-zA-Z]\", \" \", selftext_text)\n",
    "    \n",
    "    # 3. Convert to lower case, split into individual words\n",
    "    words = letters_only.lower().split()\n",
    "    \n",
    "    # 4. In Python, searching a set is much faster than searching\n",
    "    # a list, so convert the stopwords to a set.\n",
    "    stops = set(s_words)\n",
    "\n",
    "    # 5. Remove stopwords.\n",
    "    meaningful_words = [w for w in words if w not in stops]\n",
    "    \n",
    "    # 5.5 Stemming of words\n",
    "    meaningful_words = [p_stemmer.stem(w) for w in words]\n",
    "    \n",
    "    # 6. Join the words back into one string separated by space, \n",
    "    # and return the result\n",
    "    return(\" \".join(meaningful_words))"
   ]
  },
  {
   "cell_type": "code",
   "execution_count": 129,
   "metadata": {},
   "outputs": [
    {
     "name": "stdout",
     "output_type": "stream",
     "text": [
      "Clean & parse 1000 of 1626.\n",
      "Clean and parse 1626 of 1626.\n"
     ]
    }
   ],
   "source": [
    "# Initialize an empty list to hold the clean reviews.\n",
    "# This is for the Stop words with firstset_words & secondset_words\n",
    "X_trainf_clean2 = []\n",
    "X_validate_clean2 = []\n",
    "X_test_clean2 = []\n",
    "\n",
    "#For train set\n",
    "# Instantiate counter.\n",
    "j = 0\n",
    "for text in X_trainf['selftext']:\n",
    "    \"\"\"Convert text to words, then append to X_trainf_clean.\"\"\"\n",
    "    X_trainf_clean2.append(selftext_to_words(text))\n",
    "    \n",
    "    # If the index is divisible by 1000, print a message.\n",
    "    if (j + 1) % 1000 == 0:\n",
    "        print(f'Clean & parse {j + 1} of {lines_trainf+lines_validate+lines_test}.')\n",
    "    \n",
    "    j += 1\n",
    "    \n",
    "# For validate set\n",
    "for text in X_validate['selftext']:\n",
    "    \"\"\"Convert text to words, then append to X_validate_clean.\"\"\"\n",
    "    X_validate_clean2.append(selftext_to_words(text))\n",
    "    \n",
    "    # If the index is divisible by 1629, print a message.\n",
    "    if (j + 1) % (lines_trainf+lines_validate+lines_test) == 0:\n",
    "        print(f'Clean and parse {j + 1} of {lines_train+lines_test}.')\n",
    "    \n",
    "    j += 1\n",
    "    \n",
    "# For test set\n",
    "for text in X_test['selftext']:\n",
    "    \"\"\"Convert text to words, then append to X_test_clean.\"\"\"\n",
    "    X_test_clean2.append(selftext_to_words(text))\n",
    "    \n",
    "    # If the index is divisible by 1629, print a message.\n",
    "    if (j + 1) % (lines_trainf+lines_validate+lines_test) == 0:\n",
    "        print(f'Clean and parse {j + 1} of {lines_trainf+lines_validate+lines_test}.')\n",
    "    \n",
    "    j += 1"
   ]
  },
  {
   "cell_type": "markdown",
   "metadata": {},
   "source": [
    "### Baseline accuracy\n",
    "---\n",
    "We first derive the baseline accuracy so as to be able to determine if the subsequent models are better than the baseline (null) model (predicting the plurality class)."
   ]
  },
  {
   "cell_type": "code",
   "execution_count": 130,
   "metadata": {},
   "outputs": [
    {
     "data": {
      "text/plain": [
       "1    0.506135\n",
       "0    0.493865\n",
       "Name: googlehome, dtype: float64"
      ]
     },
     "execution_count": 130,
     "metadata": {},
     "output_type": "execute_result"
    }
   ],
   "source": [
    "y_test.value_counts(normalize=True)"
   ]
  },
  {
   "cell_type": "markdown",
   "metadata": {},
   "source": [
    "The Baseline accuracy is the percentage of the majority class. In this case, the baseline accuracy is 0.506135. \n",
    "This serves as benchmark for measuring model performance (i.e. model accuracy should be higher than this baseline)."
   ]
  },
  {
   "cell_type": "markdown",
   "metadata": {},
   "source": [
    "### Logistic Regression Model\n",
    "---\n",
    "For this project, Logistic Regression and Naive Bayes models are explored. Logistic Regression models are examined in this section."
   ]
  },
  {
   "cell_type": "code",
   "execution_count": 131,
   "metadata": {},
   "outputs": [],
   "source": [
    "# Set up a pipeline with two stages\n",
    "# 1.CountVectorizer (transformer)\n",
    "# 2.LogisticRegression (estimator)\n",
    "\n",
    "pipe1 = Pipeline([('cvec',CountVectorizer()),\\\n",
    "                 ('logreg',LogisticRegression(solver='lbfgs',max_iter=200,random_state=42))\\\n",
    "                ])"
   ]
  },
  {
   "cell_type": "code",
   "execution_count": 132,
   "metadata": {
    "scrolled": true
   },
   "outputs": [
    {
     "data": {
      "text/plain": [
       "{'memory': None,\n",
       " 'steps': [('cvec',\n",
       "   CountVectorizer(analyzer='word', binary=False, decode_error='strict',\n",
       "                   dtype=<class 'numpy.int64'>, encoding='utf-8', input='content',\n",
       "                   lowercase=True, max_df=1.0, max_features=None, min_df=1,\n",
       "                   ngram_range=(1, 1), preprocessor=None, stop_words=None,\n",
       "                   strip_accents=None, token_pattern='(?u)\\\\b\\\\w\\\\w+\\\\b',\n",
       "                   tokenizer=None, vocabulary=None)),\n",
       "  ('logreg',\n",
       "   LogisticRegression(C=1.0, class_weight=None, dual=False, fit_intercept=True,\n",
       "                      intercept_scaling=1, l1_ratio=None, max_iter=200,\n",
       "                      multi_class='auto', n_jobs=None, penalty='l2',\n",
       "                      random_state=42, solver='lbfgs', tol=0.0001, verbose=0,\n",
       "                      warm_start=False))],\n",
       " 'verbose': False,\n",
       " 'cvec': CountVectorizer(analyzer='word', binary=False, decode_error='strict',\n",
       "                 dtype=<class 'numpy.int64'>, encoding='utf-8', input='content',\n",
       "                 lowercase=True, max_df=1.0, max_features=None, min_df=1,\n",
       "                 ngram_range=(1, 1), preprocessor=None, stop_words=None,\n",
       "                 strip_accents=None, token_pattern='(?u)\\\\b\\\\w\\\\w+\\\\b',\n",
       "                 tokenizer=None, vocabulary=None),\n",
       " 'logreg': LogisticRegression(C=1.0, class_weight=None, dual=False, fit_intercept=True,\n",
       "                    intercept_scaling=1, l1_ratio=None, max_iter=200,\n",
       "                    multi_class='auto', n_jobs=None, penalty='l2',\n",
       "                    random_state=42, solver='lbfgs', tol=0.0001, verbose=0,\n",
       "                    warm_start=False),\n",
       " 'cvec__analyzer': 'word',\n",
       " 'cvec__binary': False,\n",
       " 'cvec__decode_error': 'strict',\n",
       " 'cvec__dtype': numpy.int64,\n",
       " 'cvec__encoding': 'utf-8',\n",
       " 'cvec__input': 'content',\n",
       " 'cvec__lowercase': True,\n",
       " 'cvec__max_df': 1.0,\n",
       " 'cvec__max_features': None,\n",
       " 'cvec__min_df': 1,\n",
       " 'cvec__ngram_range': (1, 1),\n",
       " 'cvec__preprocessor': None,\n",
       " 'cvec__stop_words': None,\n",
       " 'cvec__strip_accents': None,\n",
       " 'cvec__token_pattern': '(?u)\\\\b\\\\w\\\\w+\\\\b',\n",
       " 'cvec__tokenizer': None,\n",
       " 'cvec__vocabulary': None,\n",
       " 'logreg__C': 1.0,\n",
       " 'logreg__class_weight': None,\n",
       " 'logreg__dual': False,\n",
       " 'logreg__fit_intercept': True,\n",
       " 'logreg__intercept_scaling': 1,\n",
       " 'logreg__l1_ratio': None,\n",
       " 'logreg__max_iter': 200,\n",
       " 'logreg__multi_class': 'auto',\n",
       " 'logreg__n_jobs': None,\n",
       " 'logreg__penalty': 'l2',\n",
       " 'logreg__random_state': 42,\n",
       " 'logreg__solver': 'lbfgs',\n",
       " 'logreg__tol': 0.0001,\n",
       " 'logreg__verbose': 0,\n",
       " 'logreg__warm_start': False}"
      ]
     },
     "execution_count": 132,
     "metadata": {},
     "output_type": "execute_result"
    }
   ],
   "source": [
    "# Parameters of pipeline object\n",
    "pipe1.get_params()"
   ]
  },
  {
   "cell_type": "code",
   "execution_count": 133,
   "metadata": {},
   "outputs": [],
   "source": [
    "# Load pipeline object into GridSearchCV to tune CountVectorizer\n",
    "# Search over the following values of hyperparameters:\n",
    "# Maximum number of features fit (top no. frequent occur words): 2000, 3000, 4000, 5000\n",
    "# Minimum number of documents (collection of text) needed to include token: 2, 3\n",
    "# Maximum number of documents needed to include token: 90%, 95%\n",
    "# Check (individual tokens) and also check (individual tokens and 2-grams).\n",
    "\n",
    "# n-gram: 1 token, 1-gram, or 1 token, 2-gram.\n",
    "pipe_params = {\n",
    "    'cvec__max_features': [2_000,3_000,4_000,5_000],\\\n",
    "    'cvec__min_df': [2,3],\\\n",
    "    'cvec__max_df': [0.9,0.95],\\\n",
    "    'cvec__ngram_range': [(1, 1), (1,2)]\\\n",
    "}"
   ]
  },
  {
   "cell_type": "code",
   "execution_count": 134,
   "metadata": {},
   "outputs": [],
   "source": [
    "# Instantiate GridSearchCV.\n",
    "\"\"\"pipe1 refers to the object to optimize.\"\"\"\n",
    "\"\"\"param_grid refer to parameter values to search.\"\"\"\n",
    "\"\"\"10 folds for cross-validate.\"\"\"\n",
    "gs1 = GridSearchCV(pipe1,\\\n",
    "                  param_grid=pipe_params,\\\n",
    "                  cv=10)"
   ]
  },
  {
   "cell_type": "code",
   "execution_count": 135,
   "metadata": {},
   "outputs": [
    {
     "data": {
      "text/plain": [
       "GridSearchCV(cv=10, error_score=nan,\n",
       "             estimator=Pipeline(memory=None,\n",
       "                                steps=[('cvec',\n",
       "                                        CountVectorizer(analyzer='word',\n",
       "                                                        binary=False,\n",
       "                                                        decode_error='strict',\n",
       "                                                        dtype=<class 'numpy.int64'>,\n",
       "                                                        encoding='utf-8',\n",
       "                                                        input='content',\n",
       "                                                        lowercase=True,\n",
       "                                                        max_df=1.0,\n",
       "                                                        max_features=None,\n",
       "                                                        min_df=1,\n",
       "                                                        ngram_range=(1, 1),\n",
       "                                                        preprocessor=None,\n",
       "                                                        stop_words=None,\n",
       "                                                        strip_accents=None,\n",
       "                                                        token_pattern='(?u...\n",
       "                                                           n_jobs=None,\n",
       "                                                           penalty='l2',\n",
       "                                                           random_state=42,\n",
       "                                                           solver='lbfgs',\n",
       "                                                           tol=0.0001,\n",
       "                                                           verbose=0,\n",
       "                                                           warm_start=False))],\n",
       "                                verbose=False),\n",
       "             iid='deprecated', n_jobs=None,\n",
       "             param_grid={'cvec__max_df': [0.9, 0.95],\n",
       "                         'cvec__max_features': [2000, 3000, 4000, 5000],\n",
       "                         'cvec__min_df': [2, 3],\n",
       "                         'cvec__ngram_range': [(1, 1), (1, 2)]},\n",
       "             pre_dispatch='2*n_jobs', refit=True, return_train_score=False,\n",
       "             scoring=None, verbose=0)"
      ]
     },
     "execution_count": 135,
     "metadata": {},
     "output_type": "execute_result"
    }
   ],
   "source": [
    "# Fit GridSearch to the cleaned training data.\n",
    "# with Stopwords and firstset_words removed\n",
    "# i.e. model fit on X_trainfclean1\n",
    "gs1.fit(X_trainf_clean1,y_trainf)"
   ]
  },
  {
   "cell_type": "code",
   "execution_count": 136,
   "metadata": {},
   "outputs": [
    {
     "name": "stdout",
     "output_type": "stream",
     "text": [
      "Best parameters: {'cvec__max_df': 0.9, 'cvec__max_features': 3000, 'cvec__min_df': 2, 'cvec__ngram_range': (1, 1)}\n",
      "Best score: 0.9307692307692308\n"
     ]
    }
   ],
   "source": [
    "# Check the results of the grid search\n",
    "\n",
    "print(f\"Best parameters: {gs1.best_params_}\")\n",
    "print(f\"Best score: {gs1.best_score_}\")"
   ]
  },
  {
   "cell_type": "code",
   "execution_count": 137,
   "metadata": {},
   "outputs": [],
   "source": [
    "# Save best model as model_1\n",
    "\n",
    "model_1 = gs1.best_estimator_"
   ]
  },
  {
   "cell_type": "code",
   "execution_count": 138,
   "metadata": {},
   "outputs": [
    {
     "name": "stdout",
     "output_type": "stream",
     "text": [
      "Accuracy on train set: 0.9980769230769231\n",
      "Accuracy on validate set: 0.9307692307692308\n"
     ]
    }
   ],
   "source": [
    "# Score model on train set and validate set\n",
    "print(f\"Accuracy on train set: {model_1.score(X_trainf_clean1, y_trainf)}\")\n",
    "print(f\"Accuracy on validate set: {model_1.score(X_validate_clean1, y_validate)}\")"
   ]
  },
  {
   "cell_type": "markdown",
   "metadata": {},
   "source": [
    "The model accuracy is higher than the baseline accuracy (0.506), modelling helps with classification. The model is overfitted with about 7% drop in test accuracy compared to train accuracy."
   ]
  },
  {
   "cell_type": "code",
   "execution_count": 139,
   "metadata": {},
   "outputs": [
    {
     "data": {
      "text/html": [
       "<div>\n",
       "<style scoped>\n",
       "    .dataframe tbody tr th:only-of-type {\n",
       "        vertical-align: middle;\n",
       "    }\n",
       "\n",
       "    .dataframe tbody tr th {\n",
       "        vertical-align: top;\n",
       "    }\n",
       "\n",
       "    .dataframe thead th {\n",
       "        text-align: right;\n",
       "    }\n",
       "</style>\n",
       "<table border=\"1\" class=\"dataframe\">\n",
       "  <thead>\n",
       "    <tr style=\"text-align: right;\">\n",
       "      <th></th>\n",
       "      <th>pred googlepixel</th>\n",
       "      <th>pred googlehome</th>\n",
       "    </tr>\n",
       "  </thead>\n",
       "  <tbody>\n",
       "    <tr>\n",
       "      <th>Actual googlepixel</th>\n",
       "      <td>119</td>\n",
       "      <td>9</td>\n",
       "    </tr>\n",
       "    <tr>\n",
       "      <th>Actual googlehome</th>\n",
       "      <td>9</td>\n",
       "      <td>123</td>\n",
       "    </tr>\n",
       "  </tbody>\n",
       "</table>\n",
       "</div>"
      ],
      "text/plain": [
       "                    pred googlepixel  pred googlehome\n",
       "Actual googlepixel               119                9\n",
       "Actual googlehome                  9              123"
      ]
     },
     "execution_count": 139,
     "metadata": {},
     "output_type": "execute_result"
    }
   ],
   "source": [
    "# Confusion matrix on the first log reg model\n",
    "# Pass in true values, predicted values to confusion matrix\n",
    "# Convert confusion matrix into dataframe\n",
    "# Positive class (class 1) is googlehome\n",
    "preds = gs1.predict(X_validate_clean1)\n",
    "cm = confusion_matrix(y_validate, preds)\n",
    "cm_df = pd.DataFrame(cm,columns=['pred googlepixel','pred googlehome'], index=['Actual googlepixel','Actual googlehome'])\n",
    "cm_df"
   ]
  },
  {
   "cell_type": "markdown",
   "metadata": {},
   "source": [
    "The positive class (class 1) refers to `googlehome`. False positive means the observation is classified as `googlehome` when it is actually `googlepixel`. \n",
    "False negative means the ovservation is classified as `googlepixel` when it is actually `googlehome`."
   ]
  },
  {
   "cell_type": "code",
   "execution_count": 140,
   "metadata": {},
   "outputs": [],
   "source": [
    "# return nparray as a 1-D array.\n",
    "confusion_matrix(y_validate, preds).ravel()\n",
    "# Save TN/FP/FN/TP values.\n",
    "tn, fp, fn, tp = confusion_matrix(y_validate,preds).ravel()"
   ]
  },
  {
   "cell_type": "code",
   "execution_count": 141,
   "metadata": {},
   "outputs": [
    {
     "name": "stdout",
     "output_type": "stream",
     "text": [
      "Specificity: 0.9297\n",
      "Sensitivity: 0.9318\n"
     ]
    }
   ],
   "source": [
    "# Summary of metrics for first log reg model\n",
    "spec = tn/(tn+fp)\n",
    "sens = tp/(tp+fn)\n",
    "print(f\"Specificity: {round(spec,4)}\")\n",
    "print(f\"Sensitivity: {round(sens,4)}\")"
   ]
  },
  {
   "cell_type": "markdown",
   "metadata": {},
   "source": [
    "The Receiver Operating Characteristic curve is a way to visualize the overlap between our positive class and negative class by moving our classification threshold from 0 to 1. \n",
    "\n",
    "The ROC curve shows the trade-off between sensitivity (or TruePositiveRate) and specificity (1 – FalsePositiveRate). Classifiers that give curves closer to the top-left corner indicate a better performance. As a baseline, a no-skill classifier is expected to give points lying along the diagonal (FPRate = TPRate). The closer the curve is to the diagonal line, the less accurate the classifier is. \n",
    "\n",
    "Hence, the more area under the blue curve, the better separated the class distributions are. The best trade-off between sensitivity and specificity is the top-left point along the ROC curve."
   ]
  },
  {
   "cell_type": "code",
   "execution_count": 142,
   "metadata": {},
   "outputs": [
    {
     "data": {
      "text/html": [
       "<div>\n",
       "<style scoped>\n",
       "    .dataframe tbody tr th:only-of-type {\n",
       "        vertical-align: middle;\n",
       "    }\n",
       "\n",
       "    .dataframe tbody tr th {\n",
       "        vertical-align: top;\n",
       "    }\n",
       "\n",
       "    .dataframe thead th {\n",
       "        text-align: right;\n",
       "    }\n",
       "</style>\n",
       "<table border=\"1\" class=\"dataframe\">\n",
       "  <thead>\n",
       "    <tr style=\"text-align: right;\">\n",
       "      <th></th>\n",
       "      <th>validate_values</th>\n",
       "      <th>pred_probs</th>\n",
       "    </tr>\n",
       "  </thead>\n",
       "  <tbody>\n",
       "    <tr>\n",
       "      <th>1445</th>\n",
       "      <td>0</td>\n",
       "      <td>3.905379e-02</td>\n",
       "    </tr>\n",
       "    <tr>\n",
       "      <th>1152</th>\n",
       "      <td>0</td>\n",
       "      <td>1.932087e-09</td>\n",
       "    </tr>\n",
       "    <tr>\n",
       "      <th>216</th>\n",
       "      <td>1</td>\n",
       "      <td>4.094079e-01</td>\n",
       "    </tr>\n",
       "    <tr>\n",
       "      <th>1001</th>\n",
       "      <td>0</td>\n",
       "      <td>4.466822e-06</td>\n",
       "    </tr>\n",
       "    <tr>\n",
       "      <th>1120</th>\n",
       "      <td>0</td>\n",
       "      <td>2.030855e-03</td>\n",
       "    </tr>\n",
       "  </tbody>\n",
       "</table>\n",
       "</div>"
      ],
      "text/plain": [
       "      validate_values    pred_probs\n",
       "1445                0  3.905379e-02\n",
       "1152                0  1.932087e-09\n",
       "216                 1  4.094079e-01\n",
       "1001                0  4.466822e-06\n",
       "1120                0  2.030855e-03"
      ]
     },
     "execution_count": 142,
     "metadata": {},
     "output_type": "execute_result"
    }
   ],
   "source": [
    "# To visualize the ROC AUC curve, first\n",
    "# Create a dataframe called pred_df that contains:\n",
    "# 1. The list of true values of our validate set.\n",
    "# 2. The list of predicted probabilities based on our model.\n",
    "\n",
    "pred_proba = [i[1] for i in gs1.predict_proba(X_validate_clean1)]\n",
    "\n",
    "pred_df = pd.DataFrame({'validate_values': y_validate,\n",
    "                        'pred_probs':pred_proba})\n",
    "pred_df.head()"
   ]
  },
  {
   "cell_type": "code",
   "execution_count": 143,
   "metadata": {},
   "outputs": [
    {
     "data": {
      "text/plain": [
       "0.9909741950757576"
      ]
     },
     "execution_count": 143,
     "metadata": {},
     "output_type": "execute_result"
    }
   ],
   "source": [
    "# Calculate ROC AUC.\n",
    "roc_auc_score(pred_df['validate_values'],pred_df['pred_probs'])"
   ]
  },
  {
   "cell_type": "code",
   "execution_count": 144,
   "metadata": {},
   "outputs": [
    {
     "data": {
      "image/png": "[encoded data removed]",
      "text/plain": [
       "<Figure size 720x504 with 1 Axes>"
      ]
     },
     "metadata": {
      "needs_background": "light"
     },
     "output_type": "display_data"
    }
   ],
   "source": [
    "#Create figure\n",
    "plt.figure(figsize = (10,7))\n",
    "\n",
    "# Create threshold values. (Dashed orange line in plot.)\n",
    "thresholds = np.linspace(0, 1, 200)\n",
    "\n",
    "# Define function to calculate sensitivity. (True positive rate.)\n",
    "def TPR(df, true_col, pred_prob_col, threshold):\n",
    "    true_positive = df[(df[true_col] == 1) & (df[pred_prob_col] >= threshold)].shape[0]\n",
    "    false_negative = df[(df[true_col] == 1) & (df[pred_prob_col] < threshold)].shape[0]\n",
    "    return true_positive / (true_positive + false_negative)\n",
    "    \n",
    "# Define function to calculate 1 - specificity. (False positive rate.)\n",
    "def FPR(df, true_col, pred_prob_col, threshold):\n",
    "    true_negative = df[(df[true_col] == 0) & (df[pred_prob_col] <= threshold)].shape[0]\n",
    "    false_positive = df[(df[true_col] == 0) & (df[pred_prob_col] > threshold)].shape[0]\n",
    "    return 1 - (true_negative / (true_negative + false_positive))\n",
    "    \n",
    "# Calculate sensitivity & 1-specificity for each threshold between 0 and 1.\n",
    "tpr_values = [TPR(pred_df, 'validate_values', 'pred_probs', prob) for prob in thresholds]\n",
    "fpr_values = [FPR(pred_df, 'validate_values', 'pred_probs', prob) for prob in thresholds]\n",
    "\n",
    "# Plot ROC curve.\n",
    "plt.plot(fpr_values, # False Positive Rate on X-axis\n",
    "         tpr_values, # True Positive Rate on Y-axis\n",
    "         label='ROC Curve')\n",
    "\n",
    "# Plot baseline. (Perfect overlap between the two populations.)\n",
    "plt.plot(np.linspace(0, 1, 200),\n",
    "         np.linspace(0, 1, 200),\n",
    "         label='baseline',\n",
    "         linestyle='--')\n",
    "\n",
    "# Label axes.\n",
    "plt.title(f'ROC Curve with AUC = {round(roc_auc_score(pred_df[\"validate_values\"], pred_df[\"pred_probs\"]),4)}', fontsize=22)\n",
    "plt.ylabel('Sensitivity', fontsize=18)\n",
    "plt.xlabel('1 - Specificity', fontsize=18)\n",
    "\n",
    "# Create legend.\n",
    "plt.legend(fontsize=16);"
   ]
  },
  {
   "cell_type": "markdown",
   "metadata": {},
   "source": [
    "An ROC AUC of 1 means the positive and negative populations are perfectly separated and that the model is as good as it can get. The closer the ROC AUC is to 1, the better. (1 is the maximum score.)"
   ]
  },
  {
   "cell_type": "markdown",
   "metadata": {},
   "source": [
    "What would be the impact on model accuracy with the removal of the discovered overlapping key words? Let's find out."
   ]
  },
  {
   "cell_type": "code",
   "execution_count": 145,
   "metadata": {},
   "outputs": [
    {
     "data": {
      "text/plain": [
       "GridSearchCV(cv=10, error_score=nan,\n",
       "             estimator=Pipeline(memory=None,\n",
       "                                steps=[('cvec',\n",
       "                                        CountVectorizer(analyzer='word',\n",
       "                                                        binary=False,\n",
       "                                                        decode_error='strict',\n",
       "                                                        dtype=<class 'numpy.int64'>,\n",
       "                                                        encoding='utf-8',\n",
       "                                                        input='content',\n",
       "                                                        lowercase=True,\n",
       "                                                        max_df=1.0,\n",
       "                                                        max_features=None,\n",
       "                                                        min_df=1,\n",
       "                                                        ngram_range=(1, 1),\n",
       "                                                        preprocessor=None,\n",
       "                                                        stop_words=None,\n",
       "                                                        strip_accents=None,\n",
       "                                                        token_pattern='(?u...\n",
       "                                                           n_jobs=None,\n",
       "                                                           penalty='l2',\n",
       "                                                           random_state=42,\n",
       "                                                           solver='lbfgs',\n",
       "                                                           tol=0.0001,\n",
       "                                                           verbose=0,\n",
       "                                                           warm_start=False))],\n",
       "                                verbose=False),\n",
       "             iid='deprecated', n_jobs=None,\n",
       "             param_grid={'cvec__max_df': [0.9, 0.95],\n",
       "                         'cvec__max_features': [2000, 3000, 4000, 5000],\n",
       "                         'cvec__min_df': [2, 3],\n",
       "                         'cvec__ngram_range': [(1, 1), (1, 2)]},\n",
       "             pre_dispatch='2*n_jobs', refit=True, return_train_score=False,\n",
       "             scoring=None, verbose=0)"
      ]
     },
     "execution_count": 145,
     "metadata": {},
     "output_type": "execute_result"
    }
   ],
   "source": [
    "# Fit GridSearch to the cleaned training data.\n",
    "# with Stopwords, firstset_words and secondset_words removed\n",
    "# i.e. model fit on X_trainfclean2\n",
    "gs1.fit(X_trainf_clean2,y_trainf)"
   ]
  },
  {
   "cell_type": "code",
   "execution_count": 146,
   "metadata": {},
   "outputs": [
    {
     "name": "stdout",
     "output_type": "stream",
     "text": [
      "Best parameters: {'cvec__max_df': 0.9, 'cvec__max_features': 3000, 'cvec__min_df': 2, 'cvec__ngram_range': (1, 1)}\n",
      "Best score: 0.9307692307692308\n"
     ]
    }
   ],
   "source": [
    "print(f\"Best parameters: {gs1.best_params_}\")\n",
    "print(f\"Best score: {gs1.best_score_}\")"
   ]
  },
  {
   "cell_type": "code",
   "execution_count": 147,
   "metadata": {},
   "outputs": [],
   "source": [
    "# Save best model as model_2\n",
    "\n",
    "model_2 = gs1.best_estimator_"
   ]
  },
  {
   "cell_type": "code",
   "execution_count": 148,
   "metadata": {},
   "outputs": [
    {
     "name": "stdout",
     "output_type": "stream",
     "text": [
      "First Logistic Regression Model\n",
      "Accuracy on train set: 0.9980769230769231\n",
      "Accuracy on validate set: 0.9307692307692308\n",
      "\n",
      "Second Logistic Regression Model\n",
      "Accuracy on train set: 0.9980769230769231\n",
      "Accuracy on validate set: 0.9307692307692308\n"
     ]
    }
   ],
   "source": [
    "# Score model on training set & validate set\n",
    "print(f\"First Logistic Regression Model\")\n",
    "print(f\"Accuracy on train set: {model_1.score(X_trainf_clean1, y_trainf)}\")\n",
    "print(f\"Accuracy on validate set: {model_1.score(X_validate_clean1, y_validate)}\")\n",
    "print()\n",
    "print(f\"Second Logistic Regression Model\")\n",
    "print(f\"Accuracy on train set: {model_2.score(X_trainf_clean2, y_trainf)}\")\n",
    "print(f\"Accuracy on validate set: {model_2.score(X_validate_clean2, y_validate)}\")"
   ]
  },
  {
   "cell_type": "markdown",
   "metadata": {},
   "source": [
    "The removal of the identified key words has very slightly improved the model accuracy on the validate set. The extent of overfit is similar for both first and second logistic regression model (approx. 7%)"
   ]
  },
  {
   "cell_type": "code",
   "execution_count": 149,
   "metadata": {},
   "outputs": [
    {
     "data": {
      "text/html": [
       "<div>\n",
       "<style scoped>\n",
       "    .dataframe tbody tr th:only-of-type {\n",
       "        vertical-align: middle;\n",
       "    }\n",
       "\n",
       "    .dataframe tbody tr th {\n",
       "        vertical-align: top;\n",
       "    }\n",
       "\n",
       "    .dataframe thead th {\n",
       "        text-align: right;\n",
       "    }\n",
       "</style>\n",
       "<table border=\"1\" class=\"dataframe\">\n",
       "  <thead>\n",
       "    <tr style=\"text-align: right;\">\n",
       "      <th></th>\n",
       "      <th>pred googlepixel</th>\n",
       "      <th>pred googlehome</th>\n",
       "    </tr>\n",
       "  </thead>\n",
       "  <tbody>\n",
       "    <tr>\n",
       "      <th>Actual googlepixel</th>\n",
       "      <td>119</td>\n",
       "      <td>9</td>\n",
       "    </tr>\n",
       "    <tr>\n",
       "      <th>Actual googlehome</th>\n",
       "      <td>9</td>\n",
       "      <td>123</td>\n",
       "    </tr>\n",
       "  </tbody>\n",
       "</table>\n",
       "</div>"
      ],
      "text/plain": [
       "                    pred googlepixel  pred googlehome\n",
       "Actual googlepixel               119                9\n",
       "Actual googlehome                  9              123"
      ]
     },
     "execution_count": 149,
     "metadata": {},
     "output_type": "execute_result"
    }
   ],
   "source": [
    "# Confusion matrix on the second log reg model\n",
    "# Pass in true values, predicted values to confusion matrix\n",
    "# Convert Confusion matrix into dataframe\n",
    "# Positive class (class 1) is googlehome\n",
    "preds2 = gs1.predict(X_validate_clean2)\n",
    "cm = confusion_matrix(y_validate, preds2)\n",
    "cm_df = pd.DataFrame(cm,columns=['pred googlepixel','pred googlehome'], index=['Actual googlepixel','Actual googlehome'])\n",
    "cm_df"
   ]
  },
  {
   "cell_type": "markdown",
   "metadata": {},
   "source": [
    "The removal of the common overlapping words has no effect on the number of false positives and false negatives for the second logistic regression model. "
   ]
  },
  {
   "cell_type": "code",
   "execution_count": 150,
   "metadata": {},
   "outputs": [],
   "source": [
    "# return nparray as a 1-D array.\n",
    "confusion_matrix(y_validate, preds2).ravel()\n",
    "# Save TN/FP/FN/TP values.\n",
    "tn, fp, fn, tp = confusion_matrix(y_validate,preds2).ravel()"
   ]
  },
  {
   "cell_type": "code",
   "execution_count": 151,
   "metadata": {},
   "outputs": [
    {
     "name": "stdout",
     "output_type": "stream",
     "text": [
      "Specificity: 0.9297\n",
      "Sensitivity: 0.9318\n"
     ]
    }
   ],
   "source": [
    "# Summary of metrics for second log reg model\n",
    "spec = tn/(tn+fp)\n",
    "sens = tp/(tp+fn)\n",
    "print(f\"Specificity: {round(spec,4)}\")\n",
    "print(f\"Sensitivity: {round(sens,4)}\")"
   ]
  },
  {
   "cell_type": "markdown",
   "metadata": {},
   "source": [
    "Since the number of false positives and false negatives between both logistic regression models are the same, the sensitivity and specificity scores would be the same."
   ]
  },
  {
   "cell_type": "code",
   "execution_count": 152,
   "metadata": {},
   "outputs": [
    {
     "data": {
      "text/html": [
       "<div>\n",
       "<style scoped>\n",
       "    .dataframe tbody tr th:only-of-type {\n",
       "        vertical-align: middle;\n",
       "    }\n",
       "\n",
       "    .dataframe tbody tr th {\n",
       "        vertical-align: top;\n",
       "    }\n",
       "\n",
       "    .dataframe thead th {\n",
       "        text-align: right;\n",
       "    }\n",
       "</style>\n",
       "<table border=\"1\" class=\"dataframe\">\n",
       "  <thead>\n",
       "    <tr style=\"text-align: right;\">\n",
       "      <th></th>\n",
       "      <th>validate_values</th>\n",
       "      <th>pred_probs</th>\n",
       "    </tr>\n",
       "  </thead>\n",
       "  <tbody>\n",
       "    <tr>\n",
       "      <th>1445</th>\n",
       "      <td>0</td>\n",
       "      <td>3.905379e-02</td>\n",
       "    </tr>\n",
       "    <tr>\n",
       "      <th>1152</th>\n",
       "      <td>0</td>\n",
       "      <td>1.932087e-09</td>\n",
       "    </tr>\n",
       "    <tr>\n",
       "      <th>216</th>\n",
       "      <td>1</td>\n",
       "      <td>4.094079e-01</td>\n",
       "    </tr>\n",
       "    <tr>\n",
       "      <th>1001</th>\n",
       "      <td>0</td>\n",
       "      <td>4.466822e-06</td>\n",
       "    </tr>\n",
       "    <tr>\n",
       "      <th>1120</th>\n",
       "      <td>0</td>\n",
       "      <td>2.030855e-03</td>\n",
       "    </tr>\n",
       "  </tbody>\n",
       "</table>\n",
       "</div>"
      ],
      "text/plain": [
       "      validate_values    pred_probs\n",
       "1445                0  3.905379e-02\n",
       "1152                0  1.932087e-09\n",
       "216                 1  4.094079e-01\n",
       "1001                0  4.466822e-06\n",
       "1120                0  2.030855e-03"
      ]
     },
     "execution_count": 152,
     "metadata": {},
     "output_type": "execute_result"
    }
   ],
   "source": [
    "# To visualize the ROC AUC curve, first\n",
    "# Create a dataframe called pred_df that contains:\n",
    "# 1. The list of true values of our validate set.\n",
    "# 2. The list of predicted probabilities based on our model.\n",
    "\n",
    "pred_proba = [i[1] for i in gs1.predict_proba(X_validate_clean2)]\n",
    "\n",
    "pred_df = pd.DataFrame({'validate_values': y_validate,\n",
    "                        'pred_probs':pred_proba})\n",
    "pred_df.head()"
   ]
  },
  {
   "cell_type": "code",
   "execution_count": 153,
   "metadata": {},
   "outputs": [
    {
     "data": {
      "text/plain": [
       "0.9909741950757576"
      ]
     },
     "execution_count": 153,
     "metadata": {},
     "output_type": "execute_result"
    }
   ],
   "source": [
    "# Calculate ROC AUC.\n",
    "roc_auc_score(pred_df['validate_values'],pred_df['pred_probs'])"
   ]
  },
  {
   "cell_type": "code",
   "execution_count": 154,
   "metadata": {},
   "outputs": [
    {
     "data": {
      "image/png": "[encoded data removed]",
      "text/plain": [
       "<Figure size 720x504 with 1 Axes>"
      ]
     },
     "metadata": {
      "needs_background": "light"
     },
     "output_type": "display_data"
    }
   ],
   "source": [
    "#Create figure\n",
    "plt.figure(figsize = (10,7))\n",
    "\n",
    "# Create threshold values. (Dashed orange line in plot.)\n",
    "thresholds = np.linspace(0, 1, 200)\n",
    "\n",
    "# Define function to calculate sensitivity. (True positive rate.)\n",
    "def TPR(df, true_col, pred_prob_col, threshold):\n",
    "    true_positive = df[(df[true_col] == 1) & (df[pred_prob_col] >= threshold)].shape[0]\n",
    "    false_negative = df[(df[true_col] == 1) & (df[pred_prob_col] < threshold)].shape[0]\n",
    "    return true_positive / (true_positive + false_negative)\n",
    "    \n",
    "# Define function to calculate 1 - specificity. (False positive rate.)\n",
    "def FPR(df, true_col, pred_prob_col, threshold):\n",
    "    true_negative = df[(df[true_col] == 0) & (df[pred_prob_col] <= threshold)].shape[0]\n",
    "    false_positive = df[(df[true_col] == 0) & (df[pred_prob_col] > threshold)].shape[0]\n",
    "    return 1 - (true_negative / (true_negative + false_positive))\n",
    "    \n",
    "# Calculate sensitivity & 1-specificity for each threshold between 0 and 1.\n",
    "tpr_values = [TPR(pred_df, 'validate_values', 'pred_probs', prob) for prob in thresholds]\n",
    "fpr_values = [FPR(pred_df, 'validate_values', 'pred_probs', prob) for prob in thresholds]\n",
    "\n",
    "# Plot ROC curve.\n",
    "plt.plot(fpr_values, # False Positive Rate on X-axis\n",
    "         tpr_values, # True Positive Rate on Y-axis\n",
    "         label='ROC Curve')\n",
    "\n",
    "# Plot baseline. (Perfect overlap between the two populations.)\n",
    "plt.plot(np.linspace(0, 1, 200),\n",
    "         np.linspace(0, 1, 200),\n",
    "         label='baseline',\n",
    "         linestyle='--')\n",
    "\n",
    "# Label axes.\n",
    "plt.title(f'ROC Curve with AUC = {round(roc_auc_score(pred_df[\"validate_values\"], pred_df[\"pred_probs\"]),4)}', fontsize=22)\n",
    "plt.ylabel('Sensitivity', fontsize=18)\n",
    "plt.xlabel('1 - Specificity', fontsize=18)\n",
    "\n",
    "# Create legend.\n",
    "plt.legend(fontsize=16);"
   ]
  },
  {
   "cell_type": "markdown",
   "metadata": {},
   "source": [
    "The roc_auc score of the second logistic regression model is the same as the first logistic regression model. The removal of the identified common overlapping words no significant effect on logistic regression models (accuracy, sensitivity, specificity and roc_auc)."
   ]
  },
  {
   "cell_type": "markdown",
   "metadata": {},
   "source": [
    "### Naive Bayes Model\n",
    "---\n",
    "We explore the Naive Bayes Model, and apply the removal of identifed common overlapped words identified earlier. "
   ]
  },
  {
   "cell_type": "code",
   "execution_count": 155,
   "metadata": {},
   "outputs": [],
   "source": [
    "# Set up a pipeline, p2 with two stages\n",
    "# 1.CountVectorizer (transformer)\n",
    "# 2.Naive Bayes(multinomial) (estimator)\n",
    "pipe2 = Pipeline([('cvec',CountVectorizer()),\\\n",
    "                  ('nb',MultinomialNB())\\\n",
    "                 ])"
   ]
  },
  {
   "cell_type": "code",
   "execution_count": 156,
   "metadata": {
    "scrolled": true
   },
   "outputs": [
    {
     "data": {
      "text/plain": [
       "{'memory': None,\n",
       " 'steps': [('cvec',\n",
       "   CountVectorizer(analyzer='word', binary=False, decode_error='strict',\n",
       "                   dtype=<class 'numpy.int64'>, encoding='utf-8', input='content',\n",
       "                   lowercase=True, max_df=1.0, max_features=None, min_df=1,\n",
       "                   ngram_range=(1, 1), preprocessor=None, stop_words=None,\n",
       "                   strip_accents=None, token_pattern='(?u)\\\\b\\\\w\\\\w+\\\\b',\n",
       "                   tokenizer=None, vocabulary=None)),\n",
       "  ('nb', MultinomialNB(alpha=1.0, class_prior=None, fit_prior=True))],\n",
       " 'verbose': False,\n",
       " 'cvec': CountVectorizer(analyzer='word', binary=False, decode_error='strict',\n",
       "                 dtype=<class 'numpy.int64'>, encoding='utf-8', input='content',\n",
       "                 lowercase=True, max_df=1.0, max_features=None, min_df=1,\n",
       "                 ngram_range=(1, 1), preprocessor=None, stop_words=None,\n",
       "                 strip_accents=None, token_pattern='(?u)\\\\b\\\\w\\\\w+\\\\b',\n",
       "                 tokenizer=None, vocabulary=None),\n",
       " 'nb': MultinomialNB(alpha=1.0, class_prior=None, fit_prior=True),\n",
       " 'cvec__analyzer': 'word',\n",
       " 'cvec__binary': False,\n",
       " 'cvec__decode_error': 'strict',\n",
       " 'cvec__dtype': numpy.int64,\n",
       " 'cvec__encoding': 'utf-8',\n",
       " 'cvec__input': 'content',\n",
       " 'cvec__lowercase': True,\n",
       " 'cvec__max_df': 1.0,\n",
       " 'cvec__max_features': None,\n",
       " 'cvec__min_df': 1,\n",
       " 'cvec__ngram_range': (1, 1),\n",
       " 'cvec__preprocessor': None,\n",
       " 'cvec__stop_words': None,\n",
       " 'cvec__strip_accents': None,\n",
       " 'cvec__token_pattern': '(?u)\\\\b\\\\w\\\\w+\\\\b',\n",
       " 'cvec__tokenizer': None,\n",
       " 'cvec__vocabulary': None,\n",
       " 'nb__alpha': 1.0,\n",
       " 'nb__class_prior': None,\n",
       " 'nb__fit_prior': True}"
      ]
     },
     "execution_count": 156,
     "metadata": {},
     "output_type": "execute_result"
    }
   ],
   "source": [
    "# Parameters of pipeline object\n",
    "pipe2.get_params()"
   ]
  },
  {
   "cell_type": "code",
   "execution_count": 157,
   "metadata": {},
   "outputs": [],
   "source": [
    "# Load pipeline object into GridSearchCV to tune CountVectorizer\n",
    "# Search over the following values of hyperparameters:\n",
    "# Maximum number of features fit (top no. frequent occur words): 2000, 3000, 4000, 5000\n",
    "# Minimum number of documents (collection of text) needed to include token: 2, 3\n",
    "# Maximum number of documents needed to include token: 90%, 95%\n",
    "# Check (individual tokens) and also check (individual tokens and 2-grams).\n",
    "\n",
    "# n-gram: 1 token, 1-gram, or 1 token, 2-gram.\n",
    "pipe_params = {\n",
    "    'cvec__max_features': [2_000,3_000,4_000,5_000],\\\n",
    "    'cvec__min_df': [2,3],\\\n",
    "    'cvec__max_df': [0.9,0.95],\\\n",
    "    'cvec__ngram_range': [(1, 1), (1,2)]\\\n",
    "}"
   ]
  },
  {
   "cell_type": "code",
   "execution_count": 158,
   "metadata": {},
   "outputs": [],
   "source": [
    "# Instantiate GridSearchCV.\n",
    "\"\"\"pipe refers to the object to optimize.\"\"\"\n",
    "\"\"\"param_grid refer to parameter values to search.\"\"\"\n",
    "\"\"\"cv refers to number of cross-validate fold.\"\"\"\n",
    "gs2 = GridSearchCV(pipe2,\\\n",
    "                  param_grid=pipe_params,\\\n",
    "                  cv=10)"
   ]
  },
  {
   "cell_type": "code",
   "execution_count": 159,
   "metadata": {},
   "outputs": [
    {
     "data": {
      "text/plain": [
       "GridSearchCV(cv=10, error_score=nan,\n",
       "             estimator=Pipeline(memory=None,\n",
       "                                steps=[('cvec',\n",
       "                                        CountVectorizer(analyzer='word',\n",
       "                                                        binary=False,\n",
       "                                                        decode_error='strict',\n",
       "                                                        dtype=<class 'numpy.int64'>,\n",
       "                                                        encoding='utf-8',\n",
       "                                                        input='content',\n",
       "                                                        lowercase=True,\n",
       "                                                        max_df=1.0,\n",
       "                                                        max_features=None,\n",
       "                                                        min_df=1,\n",
       "                                                        ngram_range=(1, 1),\n",
       "                                                        preprocessor=None,\n",
       "                                                        stop_words=None,\n",
       "                                                        strip_accents=None,\n",
       "                                                        token_pattern='(?u...\n",
       "                                                        tokenizer=None,\n",
       "                                                        vocabulary=None)),\n",
       "                                       ('nb',\n",
       "                                        MultinomialNB(alpha=1.0,\n",
       "                                                      class_prior=None,\n",
       "                                                      fit_prior=True))],\n",
       "                                verbose=False),\n",
       "             iid='deprecated', n_jobs=None,\n",
       "             param_grid={'cvec__max_df': [0.9, 0.95],\n",
       "                         'cvec__max_features': [2000, 3000, 4000, 5000],\n",
       "                         'cvec__min_df': [2, 3],\n",
       "                         'cvec__ngram_range': [(1, 1), (1, 2)]},\n",
       "             pre_dispatch='2*n_jobs', refit=True, return_train_score=False,\n",
       "             scoring=None, verbose=0)"
      ]
     },
     "execution_count": 159,
     "metadata": {},
     "output_type": "execute_result"
    }
   ],
   "source": [
    "# Fit GridSearch to the cleaned training data.\n",
    "# with Stopwords and firstset_words removed\n",
    "# i.e. model fit on X_trainfclean1\n",
    "gs2.fit(X_trainf_clean1,y_trainf)"
   ]
  },
  {
   "cell_type": "code",
   "execution_count": 160,
   "metadata": {},
   "outputs": [
    {
     "name": "stdout",
     "output_type": "stream",
     "text": [
      "Best parameters: {'cvec__max_df': 0.9, 'cvec__max_features': 4000, 'cvec__min_df': 3, 'cvec__ngram_range': (1, 2)}\n",
      "Best score: 0.9442307692307692\n"
     ]
    }
   ],
   "source": [
    "print(f\"Best parameters: {gs2.best_params_}\")\n",
    "print(f\"Best score: {gs2.best_score_}\")"
   ]
  },
  {
   "cell_type": "code",
   "execution_count": 161,
   "metadata": {},
   "outputs": [],
   "source": [
    "# Save best model as gs3_model.\n",
    "\n",
    "model_3 = gs2.best_estimator_"
   ]
  },
  {
   "cell_type": "code",
   "execution_count": 162,
   "metadata": {},
   "outputs": [
    {
     "name": "stdout",
     "output_type": "stream",
     "text": [
      "First Logistic Regression Model\n",
      "Accuracy on train set: 0.9980769230769231\n",
      "Accuracy on validate set: 0.9307692307692308\n",
      "\n",
      "First Naive Bayes Model\n",
      "Accuracy on train set: 0.9701923076923077\n",
      "Accuracy on validate set: 0.9423076923076923\n"
     ]
    }
   ],
   "source": [
    "# Score model on training set & validate set\n",
    "print(f\"First Logistic Regression Model\")\n",
    "print(f\"Accuracy on train set: {model_1.score(X_trainf_clean1, y_trainf)}\")\n",
    "print(f\"Accuracy on validate set: {model_1.score(X_validate_clean1, y_validate)}\")\n",
    "print()\n",
    "print(f\"First Naive Bayes Model\")\n",
    "print(f\"Accuracy on train set: {model_3.score(X_trainf_clean1, y_trainf)}\")\n",
    "print(f\"Accuracy on validate set: {model_3.score(X_validate_clean1, y_validate)}\")"
   ]
  },
  {
   "cell_type": "markdown",
   "metadata": {},
   "source": [
    "The Naive Bayes model is overfitted on the train data, with lower validate accuracy compared to the train accuracy. It is performing better than the first logisitc regression model, with an increased validate accuracy. Compared to the first logistic regression model, it has a smaller overfit (approx. 3%, half as overfit). \n",
    "\n",
    "We review the sensitivity and specificity, and roc_auc scores next."
   ]
  },
  {
   "cell_type": "code",
   "execution_count": 163,
   "metadata": {},
   "outputs": [
    {
     "data": {
      "text/html": [
       "<div>\n",
       "<style scoped>\n",
       "    .dataframe tbody tr th:only-of-type {\n",
       "        vertical-align: middle;\n",
       "    }\n",
       "\n",
       "    .dataframe tbody tr th {\n",
       "        vertical-align: top;\n",
       "    }\n",
       "\n",
       "    .dataframe thead th {\n",
       "        text-align: right;\n",
       "    }\n",
       "</style>\n",
       "<table border=\"1\" class=\"dataframe\">\n",
       "  <thead>\n",
       "    <tr style=\"text-align: right;\">\n",
       "      <th></th>\n",
       "      <th>pred googlepixel</th>\n",
       "      <th>pred googlehome</th>\n",
       "    </tr>\n",
       "  </thead>\n",
       "  <tbody>\n",
       "    <tr>\n",
       "      <th>Actual googlepixel</th>\n",
       "      <td>116</td>\n",
       "      <td>12</td>\n",
       "    </tr>\n",
       "    <tr>\n",
       "      <th>Actual googlehome</th>\n",
       "      <td>3</td>\n",
       "      <td>129</td>\n",
       "    </tr>\n",
       "  </tbody>\n",
       "</table>\n",
       "</div>"
      ],
      "text/plain": [
       "                    pred googlepixel  pred googlehome\n",
       "Actual googlepixel               116               12\n",
       "Actual googlehome                  3              129"
      ]
     },
     "execution_count": 163,
     "metadata": {},
     "output_type": "execute_result"
    }
   ],
   "source": [
    "# Confusion matrix on the first naive bayes model\n",
    "# Pass in true values, predicted values to confusion matrix\n",
    "# Convert Confusion matrix into dataframe\n",
    "# Positive class (class 1) is googlehome\n",
    "preds3 = gs2.predict(X_validate_clean2)\n",
    "cm = confusion_matrix(y_validate, preds3)\n",
    "cm_df = pd.DataFrame(cm,columns=['pred googlepixel','pred googlehome'], index=['Actual googlepixel','Actual googlehome'])\n",
    "cm_df"
   ]
  },
  {
   "cell_type": "code",
   "execution_count": 164,
   "metadata": {},
   "outputs": [],
   "source": [
    "# return nparray as a 1-D array.\n",
    "confusion_matrix(y_validate, preds3).ravel()\n",
    "# Save TN/FP/FN/TP values.\n",
    "tn, fp, fn, tp = confusion_matrix(y_validate,preds3).ravel()"
   ]
  },
  {
   "cell_type": "code",
   "execution_count": 165,
   "metadata": {},
   "outputs": [
    {
     "name": "stdout",
     "output_type": "stream",
     "text": [
      "Specificity: 0.9062\n",
      "Sensitivity: 0.9773\n"
     ]
    }
   ],
   "source": [
    "# Summary of metrics for first naive bayes model\n",
    "spec = tn/(tn+fp)\n",
    "sens = tp/(tp+fn)\n",
    "print(f\"Specificity: {round(spec,4)}\")\n",
    "print(f\"Sensitivity: {round(sens,4)}\")"
   ]
  },
  {
   "cell_type": "code",
   "execution_count": 166,
   "metadata": {},
   "outputs": [
    {
     "data": {
      "text/html": [
       "<div>\n",
       "<style scoped>\n",
       "    .dataframe tbody tr th:only-of-type {\n",
       "        vertical-align: middle;\n",
       "    }\n",
       "\n",
       "    .dataframe tbody tr th {\n",
       "        vertical-align: top;\n",
       "    }\n",
       "\n",
       "    .dataframe thead th {\n",
       "        text-align: right;\n",
       "    }\n",
       "</style>\n",
       "<table border=\"1\" class=\"dataframe\">\n",
       "  <thead>\n",
       "    <tr style=\"text-align: right;\">\n",
       "      <th></th>\n",
       "      <th>validate_values</th>\n",
       "      <th>pred_probs</th>\n",
       "    </tr>\n",
       "  </thead>\n",
       "  <tbody>\n",
       "    <tr>\n",
       "      <th>1445</th>\n",
       "      <td>0</td>\n",
       "      <td>3.253193e-13</td>\n",
       "    </tr>\n",
       "    <tr>\n",
       "      <th>1152</th>\n",
       "      <td>0</td>\n",
       "      <td>9.396531e-28</td>\n",
       "    </tr>\n",
       "    <tr>\n",
       "      <th>216</th>\n",
       "      <td>1</td>\n",
       "      <td>9.662100e-01</td>\n",
       "    </tr>\n",
       "    <tr>\n",
       "      <th>1001</th>\n",
       "      <td>0</td>\n",
       "      <td>1.550664e-22</td>\n",
       "    </tr>\n",
       "    <tr>\n",
       "      <th>1120</th>\n",
       "      <td>0</td>\n",
       "      <td>7.710370e-12</td>\n",
       "    </tr>\n",
       "  </tbody>\n",
       "</table>\n",
       "</div>"
      ],
      "text/plain": [
       "      validate_values    pred_probs\n",
       "1445                0  3.253193e-13\n",
       "1152                0  9.396531e-28\n",
       "216                 1  9.662100e-01\n",
       "1001                0  1.550664e-22\n",
       "1120                0  7.710370e-12"
      ]
     },
     "execution_count": 166,
     "metadata": {},
     "output_type": "execute_result"
    }
   ],
   "source": [
    "# To visualize the ROC AUC curve, first\n",
    "# Create a dataframe called pred_df that contains:\n",
    "# 1. The list of true values of our test set.\n",
    "# 2. The list of predicted probabilities based on our model.\n",
    "\n",
    "pred_proba = [i[1] for i in gs2.predict_proba(X_validate_clean1)]\n",
    "\n",
    "pred_df = pd.DataFrame({'validate_values': y_validate,\n",
    "                        'pred_probs':pred_proba})\n",
    "pred_df.head()"
   ]
  },
  {
   "cell_type": "code",
   "execution_count": 167,
   "metadata": {},
   "outputs": [
    {
     "data": {
      "text/plain": [
       "0.9923946496212122"
      ]
     },
     "execution_count": 167,
     "metadata": {},
     "output_type": "execute_result"
    }
   ],
   "source": [
    "# Calculate ROC AUC.\n",
    "roc_auc_score(pred_df['validate_values'],pred_df['pred_probs'])"
   ]
  },
  {
   "cell_type": "code",
   "execution_count": 168,
   "metadata": {},
   "outputs": [
    {
     "data": {
      "image/png": "[encoded data removed]",
      "text/plain": [
       "<Figure size 720x504 with 1 Axes>"
      ]
     },
     "metadata": {
      "needs_background": "light"
     },
     "output_type": "display_data"
    }
   ],
   "source": [
    "#Create figure\n",
    "plt.figure(figsize = (10,7))\n",
    "\n",
    "# Create threshold values. (Dashed blue line in plot.)\n",
    "thresholds = np.linspace(0, 1, 200)\n",
    "\n",
    "# Define function to calculate sensitivity. (True positive rate.)\n",
    "def TPR(df, true_col, pred_prob_col, threshold):\n",
    "    true_positive = df[(df[true_col] == 1) & (df[pred_prob_col] >= threshold)].shape[0]\n",
    "    false_negative = df[(df[true_col] == 1) & (df[pred_prob_col] < threshold)].shape[0]\n",
    "    return true_positive / (true_positive + false_negative)\n",
    "    \n",
    "# Define function to calculate 1 - specificity. (False positive rate.)\n",
    "def FPR(df, true_col, pred_prob_col, threshold):\n",
    "    true_negative = df[(df[true_col] == 0) & (df[pred_prob_col] <= threshold)].shape[0]\n",
    "    false_positive = df[(df[true_col] == 0) & (df[pred_prob_col] > threshold)].shape[0]\n",
    "    return 1 - (true_negative / (true_negative + false_positive))\n",
    "    \n",
    "# Calculate sensitivity & 1-specificity for each threshold between 0 and 1.\n",
    "tpr_values = [TPR(pred_df, 'validate_values', 'pred_probs', prob) for prob in thresholds]\n",
    "fpr_values = [FPR(pred_df, 'validate_values', 'pred_probs', prob) for prob in thresholds]\n",
    "\n",
    "# Plot ROC curve.\n",
    "plt.plot(fpr_values, # False Positive Rate on X-axis\n",
    "         tpr_values, # True Positive Rate on Y-axis\n",
    "         label='ROC Curve')\n",
    "\n",
    "# Plot baseline. (Perfect overlap between the two populations.)\n",
    "plt.plot(np.linspace(0, 1, 200),\n",
    "         np.linspace(0, 1, 200),\n",
    "         label='baseline',\n",
    "         linestyle='--')\n",
    "\n",
    "# Label axes.\n",
    "plt.title(f'ROC Curve with AUC = {round(roc_auc_score(pred_df[\"validate_values\"], pred_df[\"pred_probs\"]),4)}', fontsize=22)\n",
    "plt.ylabel('Sensitivity', fontsize=18)\n",
    "plt.xlabel('1 - Specificity', fontsize=18)\n",
    "\n",
    "# Create legend.\n",
    "plt.legend(fontsize=16);"
   ]
  },
  {
   "cell_type": "markdown",
   "metadata": {},
   "source": [
    "The roc_auc of the Naive Bayes model is higher than that of both logistic regression models. We review the effect of common overlapping words ['does', 'work', 'time', 'want', 'use', 'using', 'way', 'assistant', 've', 'tried'] on Naive Bayes model."
   ]
  },
  {
   "cell_type": "code",
   "execution_count": 173,
   "metadata": {},
   "outputs": [
    {
     "data": {
      "text/plain": [
       "GridSearchCV(cv=10, error_score=nan,\n",
       "             estimator=Pipeline(memory=None,\n",
       "                                steps=[('cvec',\n",
       "                                        CountVectorizer(analyzer='word',\n",
       "                                                        binary=False,\n",
       "                                                        decode_error='strict',\n",
       "                                                        dtype=<class 'numpy.int64'>,\n",
       "                                                        encoding='utf-8',\n",
       "                                                        input='content',\n",
       "                                                        lowercase=True,\n",
       "                                                        max_df=1.0,\n",
       "                                                        max_features=None,\n",
       "                                                        min_df=1,\n",
       "                                                        ngram_range=(1, 1),\n",
       "                                                        preprocessor=None,\n",
       "                                                        stop_words=None,\n",
       "                                                        strip_accents=None,\n",
       "                                                        token_pattern='(?u...\n",
       "                                                        tokenizer=None,\n",
       "                                                        vocabulary=None)),\n",
       "                                       ('nb',\n",
       "                                        MultinomialNB(alpha=1.0,\n",
       "                                                      class_prior=None,\n",
       "                                                      fit_prior=True))],\n",
       "                                verbose=False),\n",
       "             iid='deprecated', n_jobs=None,\n",
       "             param_grid={'cvec__max_df': [0.9, 0.95],\n",
       "                         'cvec__max_features': [2000, 3000, 4000, 5000],\n",
       "                         'cvec__min_df': [2, 3],\n",
       "                         'cvec__ngram_range': [(1, 1), (1, 2)]},\n",
       "             pre_dispatch='2*n_jobs', refit=True, return_train_score=False,\n",
       "             scoring=None, verbose=0)"
      ]
     },
     "execution_count": 173,
     "metadata": {},
     "output_type": "execute_result"
    }
   ],
   "source": [
    "# Fit GridSearch to the cleaned training data.\n",
    "# with Stopwords, firstset_words and secondset_words removed\n",
    "# i.e. model fit on X_trainfclean2\n",
    "gs2.fit(X_trainf_clean2,y_trainf)"
   ]
  },
  {
   "cell_type": "code",
   "execution_count": 174,
   "metadata": {
    "scrolled": true
   },
   "outputs": [
    {
     "name": "stdout",
     "output_type": "stream",
     "text": [
      "Best parameters: {'cvec__max_df': 0.9, 'cvec__max_features': 4000, 'cvec__min_df': 3, 'cvec__ngram_range': (1, 2)}\n",
      "Best score: 0.9442307692307692\n"
     ]
    }
   ],
   "source": [
    "# Check the results of the grid search\n",
    "\n",
    "print(f\"Best parameters: {gs2.best_params_}\")\n",
    "print(f\"Best score: {gs2.best_score_}\")"
   ]
  },
  {
   "cell_type": "code",
   "execution_count": 175,
   "metadata": {},
   "outputs": [],
   "source": [
    "# Save best model as gs4_model.\n",
    "\n",
    "model_4 = gs2.best_estimator_"
   ]
  },
  {
   "cell_type": "code",
   "execution_count": 176,
   "metadata": {
    "scrolled": true
   },
   "outputs": [
    {
     "name": "stdout",
     "output_type": "stream",
     "text": [
      "First Naive Bayes Model\n",
      "Accuracy on train set: 0.9701923076923077\n",
      "Accuracy on validate set: 0.9423076923076923\n",
      "\n",
      "Second Naive Bayes Model\n",
      "Accuracy on train set: 0.9701923076923077\n",
      "Accuracy on validate set: 0.9423076923076923\n"
     ]
    }
   ],
   "source": [
    "# Score model on training set & validate set\n",
    "print(f\"First Naive Bayes Model\")\n",
    "print(f\"Accuracy on train set: {model_3.score(X_trainf_clean1, y_trainf)}\")\n",
    "print(f\"Accuracy on validate set: {model_3.score(X_validate_clean1, y_validate)}\")\n",
    "print()\n",
    "print(f\"Second Naive Bayes Model\")\n",
    "print(f\"Accuracy on train set: {model_4.score(X_trainf_clean2, y_trainf)}\")\n",
    "print(f\"Accuracy on validate set: {model_4.score(X_validate_clean2, y_validate)}\")"
   ]
  },
  {
   "cell_type": "markdown",
   "metadata": {},
   "source": [
    "The removal of the identified words for the naive bayes model has minimal effect on improving the validate accuracy.\n",
    "\n",
    "We review the sensitivity and specificity, and roc_auc scores before concluding which of the models is the better performing one."
   ]
  },
  {
   "cell_type": "code",
   "execution_count": 177,
   "metadata": {
    "scrolled": false
   },
   "outputs": [
    {
     "data": {
      "text/html": [
       "<div>\n",
       "<style scoped>\n",
       "    .dataframe tbody tr th:only-of-type {\n",
       "        vertical-align: middle;\n",
       "    }\n",
       "\n",
       "    .dataframe tbody tr th {\n",
       "        vertical-align: top;\n",
       "    }\n",
       "\n",
       "    .dataframe thead th {\n",
       "        text-align: right;\n",
       "    }\n",
       "</style>\n",
       "<table border=\"1\" class=\"dataframe\">\n",
       "  <thead>\n",
       "    <tr style=\"text-align: right;\">\n",
       "      <th></th>\n",
       "      <th>pred googlepixel</th>\n",
       "      <th>pred googlehome</th>\n",
       "    </tr>\n",
       "  </thead>\n",
       "  <tbody>\n",
       "    <tr>\n",
       "      <th>Actual googlepixel</th>\n",
       "      <td>116</td>\n",
       "      <td>12</td>\n",
       "    </tr>\n",
       "    <tr>\n",
       "      <th>Actual googlehome</th>\n",
       "      <td>3</td>\n",
       "      <td>129</td>\n",
       "    </tr>\n",
       "  </tbody>\n",
       "</table>\n",
       "</div>"
      ],
      "text/plain": [
       "                    pred googlepixel  pred googlehome\n",
       "Actual googlepixel               116               12\n",
       "Actual googlehome                  3              129"
      ]
     },
     "execution_count": 177,
     "metadata": {},
     "output_type": "execute_result"
    }
   ],
   "source": [
    "# Confusion matrix on the first naive bayes model\n",
    "# Pass in true values, predicted values to confusion matrix\n",
    "# Convert Confusion matrix into dataframe\n",
    "# Positive class (class 1) is googlehome\n",
    "preds4 = gs2.predict(X_validate_clean2)\n",
    "cm = confusion_matrix(y_validate, preds4)\n",
    "cm_df = pd.DataFrame(cm,columns=['pred googlepixel','pred googlehome'], index=['Actual googlepixel','Actual googlehome'])\n",
    "cm_df"
   ]
  },
  {
   "cell_type": "markdown",
   "metadata": {},
   "source": [
    "There is no change to the number of false positives and false negatives in validate prediction for the second Naive Bayes model."
   ]
  },
  {
   "cell_type": "code",
   "execution_count": 178,
   "metadata": {},
   "outputs": [],
   "source": [
    "# return nparray as a 1-D array.\n",
    "confusion_matrix(y_validate, preds4).ravel()\n",
    "# Save TN/FP/FN/TP values.\n",
    "tn, fp, fn, tp = confusion_matrix(y_validate,preds4).ravel()"
   ]
  },
  {
   "cell_type": "code",
   "execution_count": 179,
   "metadata": {},
   "outputs": [
    {
     "name": "stdout",
     "output_type": "stream",
     "text": [
      "Specificity: 0.9062\n",
      "Sensitivity: 0.9773\n"
     ]
    }
   ],
   "source": [
    "# Summary of metrics for first naive bayes model\n",
    "spec = tn/(tn+fp)\n",
    "sens = tp/(tp+fn)\n",
    "print(f\"Specificity: {round(spec,4)}\")\n",
    "print(f\"Sensitivity: {round(sens,4)}\")"
   ]
  },
  {
   "cell_type": "code",
   "execution_count": 180,
   "metadata": {},
   "outputs": [
    {
     "data": {
      "text/html": [
       "<div>\n",
       "<style scoped>\n",
       "    .dataframe tbody tr th:only-of-type {\n",
       "        vertical-align: middle;\n",
       "    }\n",
       "\n",
       "    .dataframe tbody tr th {\n",
       "        vertical-align: top;\n",
       "    }\n",
       "\n",
       "    .dataframe thead th {\n",
       "        text-align: right;\n",
       "    }\n",
       "</style>\n",
       "<table border=\"1\" class=\"dataframe\">\n",
       "  <thead>\n",
       "    <tr style=\"text-align: right;\">\n",
       "      <th></th>\n",
       "      <th>validate_values</th>\n",
       "      <th>pred_probs</th>\n",
       "    </tr>\n",
       "  </thead>\n",
       "  <tbody>\n",
       "    <tr>\n",
       "      <th>1445</th>\n",
       "      <td>0</td>\n",
       "      <td>3.253193e-13</td>\n",
       "    </tr>\n",
       "    <tr>\n",
       "      <th>1152</th>\n",
       "      <td>0</td>\n",
       "      <td>9.396531e-28</td>\n",
       "    </tr>\n",
       "    <tr>\n",
       "      <th>216</th>\n",
       "      <td>1</td>\n",
       "      <td>9.662100e-01</td>\n",
       "    </tr>\n",
       "    <tr>\n",
       "      <th>1001</th>\n",
       "      <td>0</td>\n",
       "      <td>1.550664e-22</td>\n",
       "    </tr>\n",
       "    <tr>\n",
       "      <th>1120</th>\n",
       "      <td>0</td>\n",
       "      <td>7.710370e-12</td>\n",
       "    </tr>\n",
       "  </tbody>\n",
       "</table>\n",
       "</div>"
      ],
      "text/plain": [
       "      validate_values    pred_probs\n",
       "1445                0  3.253193e-13\n",
       "1152                0  9.396531e-28\n",
       "216                 1  9.662100e-01\n",
       "1001                0  1.550664e-22\n",
       "1120                0  7.710370e-12"
      ]
     },
     "execution_count": 180,
     "metadata": {},
     "output_type": "execute_result"
    }
   ],
   "source": [
    "# To visualize the ROC AUC curve, first\n",
    "# Create a dataframe called pred_df that contains:\n",
    "# 1. The list of true values of our test set.\n",
    "# 2. The list of predicted probabilities based on our model.\n",
    "\n",
    "pred_proba = [i[1] for i in gs2.predict_proba(X_validate_clean2)]\n",
    "\n",
    "pred_df = pd.DataFrame({'validate_values': y_validate,\n",
    "                        'pred_probs':pred_proba})\n",
    "pred_df.head()"
   ]
  },
  {
   "cell_type": "code",
   "execution_count": 181,
   "metadata": {},
   "outputs": [
    {
     "data": {
      "text/plain": [
       "0.9923946496212122"
      ]
     },
     "execution_count": 181,
     "metadata": {},
     "output_type": "execute_result"
    }
   ],
   "source": [
    "# Calculate ROC AUC.\n",
    "roc_auc_score(pred_df['validate_values'],pred_df['pred_probs'])"
   ]
  },
  {
   "cell_type": "code",
   "execution_count": 182,
   "metadata": {},
   "outputs": [
    {
     "data": {
      "image/png": "[encoded data removed]",
      "text/plain": [
       "<Figure size 720x504 with 1 Axes>"
      ]
     },
     "metadata": {
      "needs_background": "light"
     },
     "output_type": "display_data"
    }
   ],
   "source": [
    "#Create figure\n",
    "plt.figure(figsize = (10,7))\n",
    "\n",
    "# Create threshold values. (Dashed blue line in plot.)\n",
    "thresholds = np.linspace(0, 1, 200)\n",
    "\n",
    "# Define function to calculate sensitivity. (True positive rate.)\n",
    "def TPR(df, true_col, pred_prob_col, threshold):\n",
    "    true_positive = df[(df[true_col] == 1) & (df[pred_prob_col] >= threshold)].shape[0]\n",
    "    false_negative = df[(df[true_col] == 1) & (df[pred_prob_col] < threshold)].shape[0]\n",
    "    return true_positive / (true_positive + false_negative)\n",
    "    \n",
    "# Define function to calculate 1 - specificity. (False positive rate.)\n",
    "def FPR(df, true_col, pred_prob_col, threshold):\n",
    "    true_negative = df[(df[true_col] == 0) & (df[pred_prob_col] <= threshold)].shape[0]\n",
    "    false_positive = df[(df[true_col] == 0) & (df[pred_prob_col] > threshold)].shape[0]\n",
    "    return 1 - (true_negative / (true_negative + false_positive))\n",
    "    \n",
    "# Calculate sensitivity & 1-specificity for each threshold between 0 and 1.\n",
    "tpr_values = [TPR(pred_df, 'validate_values', 'pred_probs', prob) for prob in thresholds]\n",
    "fpr_values = [FPR(pred_df, 'validate_values', 'pred_probs', prob) for prob in thresholds]\n",
    "\n",
    "# Plot ROC curve.\n",
    "plt.plot(fpr_values, # False Positive Rate on X-axis\n",
    "         tpr_values, # True Positive Rate on Y-axis\n",
    "         label='ROC Curve')\n",
    "\n",
    "# Plot baseline. (Perfect overlap between the two populations.)\n",
    "plt.plot(np.linspace(0, 1, 200),\n",
    "         np.linspace(0, 1, 200),\n",
    "         label='baseline',\n",
    "         linestyle='--')\n",
    "\n",
    "# Label axes.\n",
    "plt.title(f'ROC Curve with AUC = {round(roc_auc_score(pred_df[\"validate_values\"], pred_df[\"pred_probs\"]),4)}', fontsize=22)\n",
    "plt.ylabel('Sensitivity', fontsize=18)\n",
    "plt.xlabel('1 - Specificity', fontsize=18)\n",
    "\n",
    "# Create legend.\n",
    "plt.legend(fontsize=16);"
   ]
  },
  {
   "cell_type": "code",
   "execution_count": 183,
   "metadata": {},
   "outputs": [
    {
     "data": {
      "text/html": [
       "<div>\n",
       "<style scoped>\n",
       "    .dataframe tbody tr th:only-of-type {\n",
       "        vertical-align: middle;\n",
       "    }\n",
       "\n",
       "    .dataframe tbody tr th {\n",
       "        vertical-align: top;\n",
       "    }\n",
       "\n",
       "    .dataframe thead th {\n",
       "        text-align: right;\n",
       "    }\n",
       "</style>\n",
       "<table border=\"1\" class=\"dataframe\">\n",
       "  <thead>\n",
       "    <tr style=\"text-align: right;\">\n",
       "      <th></th>\n",
       "      <th>LogReg_1</th>\n",
       "      <th>LogReg_2</th>\n",
       "      <th>NB_1</th>\n",
       "      <th>NB_2</th>\n",
       "    </tr>\n",
       "  </thead>\n",
       "  <tbody>\n",
       "    <tr>\n",
       "      <th>accuracy</th>\n",
       "      <td>0.9308</td>\n",
       "      <td>0.9308</td>\n",
       "      <td>0.9423</td>\n",
       "      <td>0.9423</td>\n",
       "    </tr>\n",
       "    <tr>\n",
       "      <th>specificity</th>\n",
       "      <td>0.9297</td>\n",
       "      <td>0.9297</td>\n",
       "      <td>0.9062</td>\n",
       "      <td>0.9062</td>\n",
       "    </tr>\n",
       "    <tr>\n",
       "      <th>sensitivity</th>\n",
       "      <td>0.9318</td>\n",
       "      <td>0.9318</td>\n",
       "      <td>0.9773</td>\n",
       "      <td>0.9773</td>\n",
       "    </tr>\n",
       "    <tr>\n",
       "      <th>roc_auc</th>\n",
       "      <td>0.9910</td>\n",
       "      <td>0.9910</td>\n",
       "      <td>0.9924</td>\n",
       "      <td>0.9924</td>\n",
       "    </tr>\n",
       "  </tbody>\n",
       "</table>\n",
       "</div>"
      ],
      "text/plain": [
       "             LogReg_1  LogReg_2    NB_1    NB_2\n",
       "accuracy       0.9308    0.9308  0.9423  0.9423\n",
       "specificity    0.9297    0.9297  0.9062  0.9062\n",
       "sensitivity    0.9318    0.9318  0.9773  0.9773\n",
       "roc_auc        0.9910    0.9910  0.9924  0.9924"
      ]
     },
     "execution_count": 183,
     "metadata": {},
     "output_type": "execute_result"
    }
   ],
   "source": [
    "# Summary of Model scores in Dataframe\n",
    "summary_df = pd.DataFrame({'accuracy' : [0.9308, 0.9308, 0.9423, 0.9423],\n",
    "                          'specificity' : [0.9297, 0.9297, 0.9062, 0.9062],\n",
    "                          'sensitivity' : [0.9318, 0.9318, 0.9773, 0.9773],\n",
    "                          'roc_auc' : [0.9910, 0.9910, 0.9924, 0.9924]})\n",
    "# Transpose dataframe\n",
    "summary_dft = summary_df.T\n",
    "# Rename columns\n",
    "summary_dft.columns = ['LogReg_1','LogReg_2', 'NB_1', 'NB_2']\n",
    "summary_dft"
   ]
  },
  {
   "cell_type": "markdown",
   "metadata": {},
   "source": [
    "In general, we see there is insignificant effect of removal of the common overlapping words on performance of the Logistic Regression model and the Naive Bayes model. \n",
    "\n",
    "The team prioritization is on correct classification of Google Home posts as google home devices holds the greater proportion of Google IoT devices. In this regard, we would want to pick the model with highest True Positive Rate (sensitivity), for as much correct classification of the google home posts as possible. Considering the models with highest roc_auc, and highest sensitivity (lowest false positives (Type I error)), we pick the first Naive Bayes model (NB_1) as the production model."
   ]
  },
  {
   "cell_type": "markdown",
   "metadata": {},
   "source": [
    "Deeper Look at the Production (Naive Bayes) Model \n",
    "---\n",
    "For the test accuracy and roc_auc scores, the Naive Bayes is selected as the better performing model. This section examines \n",
    "- model performance on test data\n",
    "- the features that helps with negative (googlepixel) and positive (googlehome) classifications,\n",
    "- what could be the features that lead to misclassifications."
   ]
  },
  {
   "cell_type": "code",
   "execution_count": 184,
   "metadata": {},
   "outputs": [],
   "source": [
    "# Retset the stopwords\n",
    "# Built upon nltk stopwords (english)\n",
    "\"\"\"Define the stopword lists\"\"\"\n",
    "s_words = stopwords.words('english')\n",
    "firstset_words = ['google', 'home', 'google home', 'nest', 'mini', 'hub', 'pixel', 'buds']\n",
    "# Stop words with firstset_words\n",
    "s_words.extend(firstset_words)"
   ]
  },
  {
   "cell_type": "code",
   "execution_count": 185,
   "metadata": {},
   "outputs": [],
   "source": [
    "# Define function to convert a raw selftext to a string of words\n",
    "# The input is a single string (a raw selftext), and \n",
    "# The output is a single string (a preprocessed selftext)\n",
    "# For Stop words with firstset_words\n",
    "\n",
    "def selftext_to_words(raw_selftext):\n",
    "    \n",
    "    # 1. Remove HTML.\n",
    "    selftext_text = BeautifulSoup(raw_selftext).get_text()\n",
    "    \n",
    "    # 2. Remove non-letters.\n",
    "    letters_only = re.sub(\"[^a-zA-Z]\", \" \", selftext_text)\n",
    "    \n",
    "    # 3. Convert to lower case, split into individual words\n",
    "    words = letters_only.lower().split()\n",
    "    \n",
    "    # 4. In Python, searching a set is much faster than searching\n",
    "    # a list, so convert the stopwords to a set.\n",
    "    stops = set(s_words)\n",
    "\n",
    "    # 5. Remove stopwords.\n",
    "    meaningful_words = [w for w in words if w not in stops]\n",
    "    \n",
    "    # 5.5 Stemming of words\n",
    "    meaningful_words = [p_stemmer.stem(w) for w in words]\n",
    "    \n",
    "    # 6. Join the words back into one string separated by space, \n",
    "    # and return the result\n",
    "    return(\" \".join(meaningful_words))"
   ]
  },
  {
   "cell_type": "code",
   "execution_count": 186,
   "metadata": {},
   "outputs": [
    {
     "name": "stderr",
     "output_type": "stream",
     "text": [
      "C:\\Users\\65943\\anaconda3\\lib\\site-packages\\bs4\\__init__.py:389: UserWarning: \"https://imgur.com/a/telb95S\" looks like a URL. Beautiful Soup is not an HTTP client. You should probably use an HTTP client like requests to get the document behind the URL, and feed that document to Beautiful Soup.\n",
      "  ' that document to Beautiful Soup.' % decoded_markup\n",
      "C:\\Users\\65943\\anaconda3\\lib\\site-packages\\bs4\\__init__.py:389: UserWarning: \"https://imgur.com/a/obeUnIH\" looks like a URL. Beautiful Soup is not an HTTP client. You should probably use an HTTP client like requests to get the document behind the URL, and feed that document to Beautiful Soup.\n",
      "  ' that document to Beautiful Soup.' % decoded_markup\n",
      "C:\\Users\\65943\\anaconda3\\lib\\site-packages\\bs4\\__init__.py:389: UserWarning: \"https://imgur.com/a/Wp9EwEn\" looks like a URL. Beautiful Soup is not an HTTP client. You should probably use an HTTP client like requests to get the document behind the URL, and feed that document to Beautiful Soup.\n",
      "  ' that document to Beautiful Soup.' % decoded_markup\n"
     ]
    }
   ],
   "source": [
    "#Initialize an empty list to hold the clean reviews.\n",
    "X_train_clean = []\n",
    "\n",
    "# Using whole of train set (i.e. trainf and validate set)\n",
    "# Instantiate counter.\n",
    "j = 0\n",
    "for text in X_train['selftext']:\n",
    "    \"\"\"Convert text to words, then append to X_trainf_clean.\"\"\"\n",
    "    X_train_clean.append(selftext_to_words(text))"
   ]
  },
  {
   "cell_type": "code",
   "execution_count": 187,
   "metadata": {},
   "outputs": [],
   "source": [
    "# Review model coefficients to see which word is helping with negative / positive classifications)\n",
    "# As GridSearchCV' object has no attribute 'feature_log_prob_,\n",
    "# Build separate naive bayes model to enable model coefficient extraction\n",
    "# using best parameters discovered above in gs4\n",
    "\n",
    "# Instantiate our CountVectorizer\n",
    "cv = CountVectorizer(ngram_range=(1,2),max_df=0.9,min_df=3,max_features=4000)\n",
    "\n",
    "# Fit and transform on whole training data\n",
    "X_train_cleancv = cv.fit_transform(X_train_clean)\n",
    "\n",
    "# Transform test data\n",
    "X_test_cleancv = cv.transform(X_test_clean1)"
   ]
  },
  {
   "cell_type": "code",
   "execution_count": 188,
   "metadata": {},
   "outputs": [],
   "source": [
    "# Instantiate model\n",
    "nb = MultinomialNB()\n",
    "\n",
    "# Fit model on whole training data\n",
    "model = nb.fit(X_train_cleancv,y_train)\n",
    "\n",
    "# Generate predictions from test set\n",
    "predictions = nb.predict(X_test_cleancv)"
   ]
  },
  {
   "cell_type": "code",
   "execution_count": 189,
   "metadata": {},
   "outputs": [
    {
     "name": "stdout",
     "output_type": "stream",
     "text": [
      "Accuracy on whole test set: 0.9539877300613497\n"
     ]
    }
   ],
   "source": [
    "print(f\"Accuracy on whole test set: {model.score(X_test_cleancv, y_test)}\")"
   ]
  },
  {
   "cell_type": "code",
   "execution_count": 190,
   "metadata": {
    "scrolled": false
   },
   "outputs": [
    {
     "data": {
      "text/html": [
       "<div>\n",
       "<style scoped>\n",
       "    .dataframe tbody tr th:only-of-type {\n",
       "        vertical-align: middle;\n",
       "    }\n",
       "\n",
       "    .dataframe tbody tr th {\n",
       "        vertical-align: top;\n",
       "    }\n",
       "\n",
       "    .dataframe thead th {\n",
       "        text-align: right;\n",
       "    }\n",
       "</style>\n",
       "<table border=\"1\" class=\"dataframe\">\n",
       "  <thead>\n",
       "    <tr style=\"text-align: right;\">\n",
       "      <th></th>\n",
       "      <th>pred googlepixel</th>\n",
       "      <th>pred googlehome</th>\n",
       "    </tr>\n",
       "  </thead>\n",
       "  <tbody>\n",
       "    <tr>\n",
       "      <th>Actual googlepixel</th>\n",
       "      <td>153</td>\n",
       "      <td>8</td>\n",
       "    </tr>\n",
       "    <tr>\n",
       "      <th>Actual googlehome</th>\n",
       "      <td>7</td>\n",
       "      <td>158</td>\n",
       "    </tr>\n",
       "  </tbody>\n",
       "</table>\n",
       "</div>"
      ],
      "text/plain": [
       "                    pred googlepixel  pred googlehome\n",
       "Actual googlepixel               153                8\n",
       "Actual googlehome                  7              158"
      ]
     },
     "execution_count": 190,
     "metadata": {},
     "output_type": "execute_result"
    }
   ],
   "source": [
    "# Confusion matrix for test set using NB model\n",
    "# Pass in true values, predicted values to confusion matrix\n",
    "# Convert Confusion matrix into dataframe\n",
    "# Positive class (class 1) is googlehome\n",
    "cm = confusion_matrix(y_test, predictions)\n",
    "cm_df = pd.DataFrame(cm,columns=['pred googlepixel','pred googlehome'], index=['Actual googlepixel','Actual googlehome'])\n",
    "cm_df"
   ]
  },
  {
   "cell_type": "code",
   "execution_count": 191,
   "metadata": {},
   "outputs": [],
   "source": [
    "# return nparray as a 1-D array.\n",
    "confusion_matrix(y_test, predictions).ravel()\n",
    "# Save TN/FP/FN/TP values.\n",
    "tn, fp, fn, tp = confusion_matrix(y_test, predictions).ravel()"
   ]
  },
  {
   "cell_type": "code",
   "execution_count": 192,
   "metadata": {},
   "outputs": [
    {
     "name": "stdout",
     "output_type": "stream",
     "text": [
      "Specificity: 0.9503\n",
      "Sensitivity: 0.9576\n"
     ]
    }
   ],
   "source": [
    "# Summary of metrics for first naive bayes model\n",
    "spec = tn/(tn+fp)\n",
    "sens = tp/(tp+fn)\n",
    "print(f\"Specificity: {round(spec,4)}\")\n",
    "print(f\"Sensitivity: {round(sens,4)}\")"
   ]
  },
  {
   "cell_type": "code",
   "execution_count": 193,
   "metadata": {},
   "outputs": [],
   "source": [
    "# To visualize the ROC AUC curve, first\n",
    "# Create a dataframe called pred_df that contains:\n",
    "# 1. The list of true values of our test set.\n",
    "# 2. The list of predicted probabilities based on our model.\n",
    "\n",
    "pred_proba = [i[1] for i in nb.predict_proba(X_test_cleancv)]\n",
    "\n",
    "pred_df = pd.DataFrame({'test_values': y_test,\n",
    "                        'pred_probs':pred_proba})"
   ]
  },
  {
   "cell_type": "code",
   "execution_count": 194,
   "metadata": {},
   "outputs": [
    {
     "data": {
      "text/plain": [
       "0.9838509316770186"
      ]
     },
     "execution_count": 194,
     "metadata": {},
     "output_type": "execute_result"
    }
   ],
   "source": [
    "# Calculate ROC AUC.\n",
    "roc_auc_score(pred_df['test_values'],pred_df['pred_probs'])"
   ]
  },
  {
   "cell_type": "code",
   "execution_count": 195,
   "metadata": {},
   "outputs": [
    {
     "data": {
      "text/html": [
       "<div>\n",
       "<style scoped>\n",
       "    .dataframe tbody tr th:only-of-type {\n",
       "        vertical-align: middle;\n",
       "    }\n",
       "\n",
       "    .dataframe tbody tr th {\n",
       "        vertical-align: top;\n",
       "    }\n",
       "\n",
       "    .dataframe thead th {\n",
       "        text-align: right;\n",
       "    }\n",
       "</style>\n",
       "<table border=\"1\" class=\"dataframe\">\n",
       "  <thead>\n",
       "    <tr style=\"text-align: right;\">\n",
       "      <th></th>\n",
       "      <th>Whole Train set</th>\n",
       "      <th>Test set</th>\n",
       "    </tr>\n",
       "  </thead>\n",
       "  <tbody>\n",
       "    <tr>\n",
       "      <th>accuracy</th>\n",
       "      <td>0.9423</td>\n",
       "      <td>0.9540</td>\n",
       "    </tr>\n",
       "    <tr>\n",
       "      <th>specificity</th>\n",
       "      <td>0.9062</td>\n",
       "      <td>0.9503</td>\n",
       "    </tr>\n",
       "    <tr>\n",
       "      <th>sensitivity</th>\n",
       "      <td>0.9773</td>\n",
       "      <td>0.9576</td>\n",
       "    </tr>\n",
       "    <tr>\n",
       "      <th>roc_auc</th>\n",
       "      <td>0.9924</td>\n",
       "      <td>0.9840</td>\n",
       "    </tr>\n",
       "  </tbody>\n",
       "</table>\n",
       "</div>"
      ],
      "text/plain": [
       "             Whole Train set  Test set\n",
       "accuracy              0.9423    0.9540\n",
       "specificity           0.9062    0.9503\n",
       "sensitivity           0.9773    0.9576\n",
       "roc_auc               0.9924    0.9840"
      ]
     },
     "execution_count": 195,
     "metadata": {},
     "output_type": "execute_result"
    }
   ],
   "source": [
    "# Summary of the production NB Model scores in Dataframe\n",
    "summary_df = pd.DataFrame({'accuracy' : [0.9423, 0.9540],\n",
    "                          'specificity' : [0.9062, 0.9503],\n",
    "                          'sensitivity' : [0.9773, 0.9576],\n",
    "                          'roc_auc' : [0.9924, 0.9840]})\n",
    "# Transpose dataframe\n",
    "summary_dft = summary_df.T\n",
    "# Rename columns\n",
    "summary_dft.columns = ['Whole Train set','Test set']\n",
    "summary_dft"
   ]
  },
  {
   "cell_type": "markdown",
   "metadata": {},
   "source": [
    "There is a slight drop in sensitivity (approx. 2%) and roc_auc (approx. 1%) for the test score of the production model. Model does not appear to be overfitted on the whole train dataset, since the test accuracy is higher than accuracy from the whole train set. We review the top features for positive and negative classifications."
   ]
  },
  {
   "cell_type": "code",
   "execution_count": 196,
   "metadata": {},
   "outputs": [],
   "source": [
    "# The Naive Bayes 'feature_log_prob_' is similar to '.coef_ for MultinomialNB' \n",
    "# Utilize this to find the top words (features) in the positive and negative class\n",
    "import numpy as np\n",
    "#prob for positive class\n",
    "pos_class_prob_sorted = nb.feature_log_prob_[1, :].argsort()\n",
    "#prob for negative class\n",
    "neg_class_prob_sorted = nb.feature_log_prob_[0, :].argsort()\n",
    "#getting the top features \n",
    "pos_top_features = np.take(cv.get_feature_names(), pos_class_prob_sorted)\n",
    "neg_top_features = np.take(cv.get_feature_names(), neg_class_prob_sorted)"
   ]
  },
  {
   "cell_type": "code",
   "execution_count": 197,
   "metadata": {},
   "outputs": [
    {
     "name": "stdout",
     "output_type": "stream",
     "text": [
      "['damn' 'as soon' 'the headphon' 'the iphon' 'charger and' 'chat with'\n",
      " 'pattern' 'patch' 'the may' 'check for' 'charger' 'panel' 'the pair'\n",
      " 'paid' 'the pixel' 'packag' 'overal' 'com galleri' 'com googlepixel'\n",
      " 'other headphon' 'aptx' 'pair them' 'the replac' 'the galaxi' 'charg the'\n",
      " 'cellular' 'chanc' 'the batteri' 'persist' 'the bud' 'the buzz'\n",
      " 'percentag' 'charg and' 'the charg' 'the full' 'the charger' 'the comput'\n",
      " 'the cord' 'the design' 'the ear' 'the earbud' 'the experi' 'charg it'\n",
      " 'the fit' 'the flagship' 'charg case' 'the seri' 'comfort' 'optim'\n",
      " 'thi phone']\n"
     ]
    }
   ],
   "source": [
    "# List of top 50 words that helps in 'googlehome' (positive) classification\n",
    "print(pos_top_features[:50])"
   ]
  },
  {
   "cell_type": "markdown",
   "metadata": {},
   "source": [
    " **Googlehome**: For positive class (googlehome), some of the more common words are charger related. `damn` being a top feature for positive classification is unexpected; and could be looked into deeper to to understand its underlying context. There are some words that were could be considered to further tune the production model. These words are `googlepixel` and `bud` (currently removed words include `pixel` and `buds`)."
   ]
  },
  {
   "cell_type": "code",
   "execution_count": 198,
   "metadata": {},
   "outputs": [
    {
     "name": "stdout",
     "output_type": "stream",
     "text": [
      "['googl nest' 'mi' 'broadcast' 'googl mini' 'when cast' 'googl rememb'\n",
      " 'googl stop' 'googl turn' 'outlet' 'googl what' 'googl wifi'\n",
      " 'smart display' 'googlehom' 'googlehom comment' 'unlink' 'with nest'\n",
      " 'max and' 'googlenest' 'unplug' 'wireless network' 'bluetooth speaker'\n",
      " 'smart light' 'radio station' 'spotifi premium' 'googl keep' 'hue light'\n",
      " 'tv is' 'smart devic' 'music through' 'to trigger' 'where my' 'tell it'\n",
      " 'ifttt' 'ge app' 'relink' 'ghm' 'sleep timer' 'gmail account' 'mini to'\n",
      " 'tri it' 'mini that' 'an audio' 'mini or' 'recip' 'tunein' 'smart bulb'\n",
      " 'mini is' 'mini in' 'mini googl' 'mini and']\n"
     ]
    }
   ],
   "source": [
    "# List of top 50 words that helps in 'googlepixel' (negative) classification\n",
    "print(neg_top_features[:50])"
   ]
  },
  {
   "cell_type": "markdown",
   "metadata": {},
   "source": [
    "**Googlepixel**: For negative class (googlepixel), there are word features that are related to spotify (`bluetooth speaker`, `spotifi premium`; pixel phone can be used as bluetooth speaker) and controlling of smart light (`hue light`, `smart light`; the pixel can function as point of control in the smarthome set-ups). There are some words that were could be considered to further tune the production model. These words are `google nest` and `google mini` (currently words include `nest`)."
   ]
  },
  {
   "cell_type": "markdown",
   "metadata": {},
   "source": [
    "**Reviewing the misclassified samples**: What could be the word features that lead to misclassifications?"
   ]
  },
  {
   "cell_type": "markdown",
   "metadata": {},
   "source": [
    "Recap on the false classifications:\n",
    "\n",
    "**False Positive**: Predicted as googlehome post but is actually googlepixel post.\n",
    "**False Negative**: Predicted as googlepixel post but is actually googlehome post. \n",
    "To gain insights into what are the words that led to misclassification of post, we further compare the words with the list of words that are strongly associated with the correct classes. \n",
    "\n",
    "Compare common words in :\n",
    "- false positive with the words in true positive class,\n",
    "- false negative with the words in true negative class"
   ]
  },
  {
   "cell_type": "code",
   "execution_count": 199,
   "metadata": {
    "scrolled": true
   },
   "outputs": [
    {
     "data": {
      "text/html": [
       "<div>\n",
       "<style scoped>\n",
       "    .dataframe tbody tr th:only-of-type {\n",
       "        vertical-align: middle;\n",
       "    }\n",
       "\n",
       "    .dataframe tbody tr th {\n",
       "        vertical-align: top;\n",
       "    }\n",
       "\n",
       "    .dataframe thead th {\n",
       "        text-align: right;\n",
       "    }\n",
       "</style>\n",
       "<table border=\"1\" class=\"dataframe\">\n",
       "  <thead>\n",
       "    <tr style=\"text-align: right;\">\n",
       "      <th></th>\n",
       "      <th>googlehome</th>\n",
       "      <th>predicted_googlehome</th>\n",
       "      <th>selftext</th>\n",
       "    </tr>\n",
       "  </thead>\n",
       "  <tbody>\n",
       "    <tr>\n",
       "      <th>919</th>\n",
       "      <td>0</td>\n",
       "      <td>0</td>\n",
       "      <td>so i bought pixel after my phone die and i m s...</td>\n",
       "    </tr>\n",
       "    <tr>\n",
       "      <th>1029</th>\n",
       "      <td>0</td>\n",
       "      <td>0</td>\n",
       "      <td>hello i have a pixel xl the last time i use it...</td>\n",
       "    </tr>\n",
       "    <tr>\n",
       "      <th>764</th>\n",
       "      <td>1</td>\n",
       "      <td>0</td>\n",
       "      <td>but make sure no kid are around http photo app...</td>\n",
       "    </tr>\n",
       "    <tr>\n",
       "      <th>962</th>\n",
       "      <td>0</td>\n",
       "      <td>0</td>\n",
       "      <td>i ve had my p axl sinc launch still haven t go...</td>\n",
       "    </tr>\n",
       "    <tr>\n",
       "      <th>1064</th>\n",
       "      <td>0</td>\n",
       "      <td>0</td>\n",
       "      <td>i had a voicemail with case id and the number ...</td>\n",
       "    </tr>\n",
       "  </tbody>\n",
       "</table>\n",
       "</div>"
      ],
      "text/plain": [
       "      googlehome  predicted_googlehome  \\\n",
       "919            0                     0   \n",
       "1029           0                     0   \n",
       "764            1                     0   \n",
       "962            0                     0   \n",
       "1064           0                     0   \n",
       "\n",
       "                                               selftext  \n",
       "919   so i bought pixel after my phone die and i m s...  \n",
       "1029  hello i have a pixel xl the last time i use it...  \n",
       "764   but make sure no kid are around http photo app...  \n",
       "962   i ve had my p axl sinc launch still haven t go...  \n",
       "1064  i had a voicemail with case id and the number ...  "
      ]
     },
     "execution_count": 199,
     "metadata": {},
     "output_type": "execute_result"
    }
   ],
   "source": [
    "# Pass y_test (pandas series) into dataframe first\n",
    "# in order to use the original selftext indexes for traceability\n",
    "actual = pd.Series(y_test)\n",
    "df_rvw = actual.to_frame()\n",
    "\n",
    "# Create column of predicted classes from Naive Bayes model\n",
    "df_rvw['predicted_googlehome'] = predictions\n",
    "\n",
    "# Include the selftext data\n",
    "df_rvw['selftext'] = X_test_clean1\n",
    "\n",
    "# Review the dataframe\n",
    "df_rvw.head()"
   ]
  },
  {
   "cell_type": "code",
   "execution_count": 200,
   "metadata": {},
   "outputs": [
    {
     "data": {
      "text/plain": [
       "Int64Index([764, 525, 1571, 108, 469, 1498, 749, 1215, 1024, 888, 1316, 864,\n",
       "            276, 922, 117],\n",
       "           dtype='int64')"
      ]
     },
     "execution_count": 200,
     "metadata": {},
     "output_type": "execute_result"
    }
   ],
   "source": [
    "# Index of misclassified classes\n",
    "row_ids = df_rvw[df_rvw['googlehome'] != df_rvw['predicted_googlehome']].index\n",
    "row_ids"
   ]
  },
  {
   "cell_type": "code",
   "execution_count": 202,
   "metadata": {},
   "outputs": [],
   "source": [
    "# Create sub-dataframes of positive positive and false negative classifications\n",
    "df_msc = pd.DataFrame(df_rvw[df_rvw['googlehome'] != df_rvw['predicted_googlehome']])\n",
    "df_fp = pd.DataFrame(df_msc.loc[df_msc['predicted_googlehome'] == 0])\n",
    "df_fn = pd.DataFrame(df_msc.loc[df_msc['predicted_googlehome'] == 1])"
   ]
  },
  {
   "cell_type": "code",
   "execution_count": 203,
   "metadata": {},
   "outputs": [],
   "source": [
    "# Empty list to hold false positive words\n",
    "fp_words = []\n",
    "# Split string in false positive selftext to individual words\n",
    "# Populate the empty list\n",
    "for i in df_fp.index:\n",
    "    words = df_fp['selftext'][i].split()\n",
    "    fp_words.extend(words)"
   ]
  },
  {
   "cell_type": "code",
   "execution_count": 204,
   "metadata": {},
   "outputs": [],
   "source": [
    "# Empty list to hold false negative words\n",
    "fn_words = []\n",
    "# Split string in false positive selftext to individual words\n",
    "# Populate the empty list\n",
    "for i in df_fn.index:\n",
    "    words = df_fn['selftext'][i].split()\n",
    "    fn_words.extend(words)"
   ]
  },
  {
   "cell_type": "code",
   "execution_count": 205,
   "metadata": {},
   "outputs": [],
   "source": [
    "# Convert numpy array of words stongly associated with googlehome post into a list\n",
    "pos_list = pos_top_features.tolist()\n",
    "# Convert numpy array of words stongly associated with googlepixel post into a list\n",
    "neg_list = neg_top_features.tolist()"
   ]
  },
  {
   "cell_type": "code",
   "execution_count": 206,
   "metadata": {},
   "outputs": [
    {
     "name": "stdout",
     "output_type": "stream",
     "text": [
      "{'we', 'plug', 'play', 'third', 'go', 'are', 'target', 'for', 'past', 'they', 'start', 'lol', 'caus', 'befor', 'sure', 'either', 'buy', 'see', 'look', 'tomorrow', 'an', 'reddit', 'gl', 'light', 'poll', 'appreci', 'power', 'problem', 'store', 'sale', 'as', 'got', 'my', 'make', 'els', 'clock', 'fuck', 'updat', 'can', 'doesn', 'mini', 'it', 'replac', 'differ', 'view', 'link', 'the', 'goo', 'yesterday', 'to', 'parti', 'will', 'time', 'http', 'of', 'more', 'say', 'last', 'through', 'everi', 'photo', 'than', 'no', 'but', 'product', 'home', 'here', 'never', 'll', 'on', 'had', 'smart', 'around', 'back', 'issu', 'ani', 'kid', 'and', 'cord', 'gave', 'rang', 'imgur', 'today', 'sinc', 'also', 'work', 'low', 'thi', 'believ', 'notic', 'is', 'saw', 'me', 'anyon', 'up', 'with', 'if', 'well', 'figur', 'would', 'life', 'support', 'app', 'similar', 'googl', 'happen', 'ha', 'post', 'be', 'just', 'until', 'imag', 'adapt', 'at', 'get', 'idea', 'fix', 'help', 'been', 'about', 'somehow', 'preview', 'page', 'onli', 'there', 'that', 'nest', 'jack', 'someth', 'or', 'fine', 'set', 'www', 'have', 'wa', 'hell', 'what', 'com', 'went'}\n"
     ]
    }
   ],
   "source": [
    "# Print the words that likely contributed to false positive classification\n",
    "print(set(fp_words) & set(pos_list))"
   ]
  },
  {
   "cell_type": "code",
   "execution_count": 207,
   "metadata": {},
   "outputs": [
    {
     "name": "stdout",
     "output_type": "stream",
     "text": [
      "{'feet', 'unabl', 'answer', 'check', 'advanc', 'play', 'third', 'screen', 'music', 'simpl', 'fail', 'android', 'off', 'in', 'are', 'go', 'when', 'now', 'for', 'reboot', 'past', 'everyth', 'either', 'xl', 'did', 'whi', 'affect', 'keep', 'short', 'final', 'thank', 'multipl', 'drive', 'didn', 'default', 'phone', 'mic', 'an', 'later', 'desktop', 'alway', 'those', 'okay', 'wall', 'edit', 'found', 'talk', 'one', 'question', 'side', 'video', 'hi', 'outsid', 'two', 'text', 'pixel', 'internet', 'as', 'my', 'top', 'mode', 'instead', 'again', 'name', 'move', 'make', 'first', 'yard', 'then', 'cours', 'updat', 'headset', 'can', 'hous', 'doesn', 'record', 'it', 'differ', 'invest', 'connect', 'welcom', 'the', 'cannot', 'most', 'do', 'to', 'network', 'from', 'will', 'state', 'time', 'respons', 'ghz', 'more', 'of', 'although', 'color', 'say', 'through', 'crazi', 'audibl', 'chang', 'camera', 'photo', 'friend', 'no', 'so', 'howev', 'whenev', 'use', 'not', 'but', 'am', 'home', 'you', 'on', 'type', 'had', 'live', 'lead', 'know', 'bit', 'upload', 'back', 'ani', 'where', 'issu', 'miss', 'and', 'avail', 'how', 'bar', 'rang', 'such', 'all', 'week', 'search', 'point', 'access', 'work', 'method', 'thi', 'manual', 'bunch', 'icon', 'is', 'stuck', 'me', 'anyon', 'keyboard', 'display', 'up', 'possibl', 'too', 'with', 'suggest', 'wake', 'respond', 'ask', 'if', 'anybodi', 'would', 'tri', 'show', 'youtub', 'app', 'googl', 'find', 'wifi', 'ha', 'countri', 'happen', 've', 'recogn', 'way', 'away', 'be', 'just', 'assist', 'instanc', 'english', 'microphon', 'doe', 'at', 'get', 'group', 'idea', 'usual', 'stop', 'bad', 'audio', 'think', 'kill', 'fix', 'switch', 'help', 'router', 'abov', 'recent', 'by', 'some', 'perfectli', 'slow', 'bluetooth', 'been', 'into', 'about', 'out', 'tablet', 'size', 'page', 'wouldn', 'onli', 'there', 'guy', 'inform', 'that', 'safe', 'volum', 'or', 'voic', 'even', 'roll', 'set', 'fine', 'tap', 'have', 'wa', 'what', 'close', 're', 'realli', 'click', 'went'}\n"
     ]
    }
   ],
   "source": [
    "# Print the words that likely contributed to false negative classification\n",
    "print(set(fn_words) & set(neg_list))"
   ]
  },
  {
   "cell_type": "markdown",
   "metadata": {},
   "source": [
    "The removal of such words could help in reduction of false positives and false negatives. However, there is a limit to how much of these words can be removed. Care should be excercised to not overtune the model such that it loses it's generalizability and ends up with increased false positives and false negatives in the predictions.\n"
   ]
  },
  {
   "cell_type": "markdown",
   "metadata": {},
   "source": [
    "### Recommendations and Way Forward\n",
    "---\n",
    "For the classification of googlehome and googlepixel reddit posts, the first Naive Bayes model emerged as the one with highest sensitivity score and roc_auc score on the validate set. Further evaluation using the whole train data set and test set indicates the model is not overfitted on the whole train dataset, since the test accuracy is higher than accuracy from the whole train set. With a sensitivity of approx. 95% on the test set, the production model is assessed to be adequate for deployment. \n",
    "\n",
    "Potential enhancements to the model could be implemented post-deployment by removing the words identified to attribute to false classifications, however, care should be excercised to prevent model from shifting away from the current sweet spot and ending up with increased false positives, or losing its generalizability. It is also recommended to re-assess the list of words that have been removed should it be redeployed to classify rival's product reddit posts (e.g.Apple Iphone, Amazon Alexa)."
   ]
  },
  {
   "cell_type": "code",
   "execution_count": null,
   "metadata": {},
   "outputs": [],
   "source": []
  }
 ],
 "metadata": {
  "kernelspec": {
   "display_name": "Python 3",
   "language": "python",
   "name": "python3"
  },
  "language_info": {
   "codemirror_mode": {
    "name": "ipython",
    "version": 3
   },
   "file_extension": ".py",
   "mimetype": "text/x-python",
   "name": "python",
   "nbconvert_exporter": "python",
   "pygments_lexer": "ipython3",
   "version": "3.7.6"
  }
 },
 "nbformat": 4,
 "nbformat_minor": 4
}
