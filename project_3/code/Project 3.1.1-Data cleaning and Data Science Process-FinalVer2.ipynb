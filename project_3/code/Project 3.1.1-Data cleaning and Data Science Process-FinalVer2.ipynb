{
 "cells": [
  {
   "cell_type": "markdown",
   "metadata": {},
   "source": [
    "# Project 3.1.1 Data Cleaning and Data Science Process - Finalver2.\n",
    "---\n",
    "Following scraping textual information from reddit posts, we now continue with the data science process of data cleaning, EDA, model building, evaluation and lastly recommendation of business solutions."
   ]
  },
  {
   "cell_type": "code",
   "execution_count": 1,
   "metadata": {},
   "outputs": [],
   "source": [
    "# Import libraries\n",
    "import pandas as pd\n",
    "import matplotlib.pyplot as plt\n",
    "# increase default figure and font sizes for easier viewing\n",
    "plt.rcParams['figure.figsize'] = (8, 6)\n",
    "plt.rcParams['font.size'] = 14\n",
    "\n",
    "# always be stylish\n",
    "plt.style.use('ggplot')\n",
    "\n",
    "from bs4 import BeautifulSoup\n",
    "import re\n",
    "from nltk.corpus import stopwords\n",
    "from nltk.stem.porter import PorterStemmer\n",
    "\n",
    "from sklearn.model_selection import train_test_split, GridSearchCV\n",
    "from sklearn.pipeline import Pipeline\n",
    "from sklearn.feature_extraction.text import CountVectorizer\n",
    "from sklearn.linear_model import LogisticRegression\n",
    "from sklearn.naive_bayes import MultinomialNB\n",
    "from sklearn import svm\n",
    "from sklearn.metrics import confusion_matrix"
   ]
  },
  {
   "cell_type": "code",
   "execution_count": 2,
   "metadata": {},
   "outputs": [
    {
     "data": {
      "text/html": [
       "<div>\n",
       "<style scoped>\n",
       "    .dataframe tbody tr th:only-of-type {\n",
       "        vertical-align: middle;\n",
       "    }\n",
       "\n",
       "    .dataframe tbody tr th {\n",
       "        vertical-align: top;\n",
       "    }\n",
       "\n",
       "    .dataframe thead th {\n",
       "        text-align: right;\n",
       "    }\n",
       "</style>\n",
       "<table border=\"1\" class=\"dataframe\">\n",
       "  <thead>\n",
       "    <tr style=\"text-align: right;\">\n",
       "      <th></th>\n",
       "      <th>approved_at_utc</th>\n",
       "      <th>subreddit</th>\n",
       "      <th>selftext</th>\n",
       "      <th>author_fullname</th>\n",
       "      <th>saved</th>\n",
       "      <th>mod_reason_title</th>\n",
       "      <th>gilded</th>\n",
       "      <th>clicked</th>\n",
       "      <th>title</th>\n",
       "      <th>link_flair_richtext</th>\n",
       "      <th>...</th>\n",
       "      <th>media</th>\n",
       "      <th>is_video</th>\n",
       "      <th>link_flair_template_id</th>\n",
       "      <th>post_hint</th>\n",
       "      <th>preview</th>\n",
       "      <th>media_metadata</th>\n",
       "      <th>crosspost_parent_list</th>\n",
       "      <th>crosspost_parent</th>\n",
       "      <th>author_cakeday</th>\n",
       "      <th>poll_data</th>\n",
       "    </tr>\n",
       "  </thead>\n",
       "  <tbody>\n",
       "    <tr>\n",
       "      <th>0</th>\n",
       "      <td>NaN</td>\n",
       "      <td>googlehome</td>\n",
       "      <td>[\\[FAQ - Frequently Asked Questions\\]](https:/...</td>\n",
       "      <td>t2_q648wkk</td>\n",
       "      <td>False</td>\n",
       "      <td>NaN</td>\n",
       "      <td>0</td>\n",
       "      <td>False</td>\n",
       "      <td>FAQ: Please read the subreddit FAQ before post...</td>\n",
       "      <td>[]</td>\n",
       "      <td>...</td>\n",
       "      <td>NaN</td>\n",
       "      <td>False</td>\n",
       "      <td>NaN</td>\n",
       "      <td>NaN</td>\n",
       "      <td>NaN</td>\n",
       "      <td>NaN</td>\n",
       "      <td>NaN</td>\n",
       "      <td>NaN</td>\n",
       "      <td>NaN</td>\n",
       "      <td>NaN</td>\n",
       "    </tr>\n",
       "    <tr>\n",
       "      <th>1</th>\n",
       "      <td>NaN</td>\n",
       "      <td>googlehome</td>\n",
       "      <td>Do you want to liberate your Google so it can ...</td>\n",
       "      <td>t2_8hlsb</td>\n",
       "      <td>False</td>\n",
       "      <td>NaN</td>\n",
       "      <td>0</td>\n",
       "      <td>False</td>\n",
       "      <td>My Google has Coronavirus! - Monthly Rants and...</td>\n",
       "      <td>[]</td>\n",
       "      <td>...</td>\n",
       "      <td>NaN</td>\n",
       "      <td>False</td>\n",
       "      <td>NaN</td>\n",
       "      <td>NaN</td>\n",
       "      <td>NaN</td>\n",
       "      <td>NaN</td>\n",
       "      <td>NaN</td>\n",
       "      <td>NaN</td>\n",
       "      <td>NaN</td>\n",
       "      <td>NaN</td>\n",
       "    </tr>\n",
       "    <tr>\n",
       "      <th>2</th>\n",
       "      <td>NaN</td>\n",
       "      <td>googlehome</td>\n",
       "      <td>Because that's all it is.</td>\n",
       "      <td>t2_1mgxh</td>\n",
       "      <td>False</td>\n",
       "      <td>NaN</td>\n",
       "      <td>0</td>\n",
       "      <td>False</td>\n",
       "      <td>[Subreddit Request] Can we rename this subredd...</td>\n",
       "      <td>[]</td>\n",
       "      <td>...</td>\n",
       "      <td>NaN</td>\n",
       "      <td>False</td>\n",
       "      <td>489ab03e-b78e-11e6-8fd6-0e00dc2f4472</td>\n",
       "      <td>NaN</td>\n",
       "      <td>NaN</td>\n",
       "      <td>NaN</td>\n",
       "      <td>NaN</td>\n",
       "      <td>NaN</td>\n",
       "      <td>NaN</td>\n",
       "      <td>NaN</td>\n",
       "    </tr>\n",
       "    <tr>\n",
       "      <th>3</th>\n",
       "      <td>NaN</td>\n",
       "      <td>googlehome</td>\n",
       "      <td>NaN</td>\n",
       "      <td>t2_mnm0w</td>\n",
       "      <td>False</td>\n",
       "      <td>NaN</td>\n",
       "      <td>0</td>\n",
       "      <td>False</td>\n",
       "      <td>This one really takes the cake.</td>\n",
       "      <td>[]</td>\n",
       "      <td>...</td>\n",
       "      <td>NaN</td>\n",
       "      <td>False</td>\n",
       "      <td>NaN</td>\n",
       "      <td>image</td>\n",
       "      <td>{'images': [{'source': {'url': 'https://extern...</td>\n",
       "      <td>NaN</td>\n",
       "      <td>NaN</td>\n",
       "      <td>NaN</td>\n",
       "      <td>NaN</td>\n",
       "      <td>NaN</td>\n",
       "    </tr>\n",
       "    <tr>\n",
       "      <th>4</th>\n",
       "      <td>NaN</td>\n",
       "      <td>googlehome</td>\n",
       "      <td>NaN</td>\n",
       "      <td>t2_me5yarn</td>\n",
       "      <td>False</td>\n",
       "      <td>NaN</td>\n",
       "      <td>0</td>\n",
       "      <td>False</td>\n",
       "      <td>Where did my routines go to? They're still in ...</td>\n",
       "      <td>[]</td>\n",
       "      <td>...</td>\n",
       "      <td>NaN</td>\n",
       "      <td>False</td>\n",
       "      <td>0ab35abe-b78e-11e6-9303-0ed3c72a1f42</td>\n",
       "      <td>image</td>\n",
       "      <td>{'images': [{'source': {'url': 'https://previe...</td>\n",
       "      <td>NaN</td>\n",
       "      <td>NaN</td>\n",
       "      <td>NaN</td>\n",
       "      <td>NaN</td>\n",
       "      <td>NaN</td>\n",
       "    </tr>\n",
       "  </tbody>\n",
       "</table>\n",
       "<p>5 rows × 111 columns</p>\n",
       "</div>"
      ],
      "text/plain": [
       "   approved_at_utc   subreddit  \\\n",
       "0              NaN  googlehome   \n",
       "1              NaN  googlehome   \n",
       "2              NaN  googlehome   \n",
       "3              NaN  googlehome   \n",
       "4              NaN  googlehome   \n",
       "\n",
       "                                            selftext author_fullname  saved  \\\n",
       "0  [\\[FAQ - Frequently Asked Questions\\]](https:/...      t2_q648wkk  False   \n",
       "1  Do you want to liberate your Google so it can ...        t2_8hlsb  False   \n",
       "2                          Because that's all it is.        t2_1mgxh  False   \n",
       "3                                                NaN        t2_mnm0w  False   \n",
       "4                                                NaN      t2_me5yarn  False   \n",
       "\n",
       "   mod_reason_title  gilded  clicked  \\\n",
       "0               NaN       0    False   \n",
       "1               NaN       0    False   \n",
       "2               NaN       0    False   \n",
       "3               NaN       0    False   \n",
       "4               NaN       0    False   \n",
       "\n",
       "                                               title link_flair_richtext  ...  \\\n",
       "0  FAQ: Please read the subreddit FAQ before post...                  []  ...   \n",
       "1  My Google has Coronavirus! - Monthly Rants and...                  []  ...   \n",
       "2  [Subreddit Request] Can we rename this subredd...                  []  ...   \n",
       "3                    This one really takes the cake.                  []  ...   \n",
       "4  Where did my routines go to? They're still in ...                  []  ...   \n",
       "\n",
       "  media  is_video                link_flair_template_id  post_hint  \\\n",
       "0   NaN     False                                   NaN        NaN   \n",
       "1   NaN     False                                   NaN        NaN   \n",
       "2   NaN     False  489ab03e-b78e-11e6-8fd6-0e00dc2f4472        NaN   \n",
       "3   NaN     False                                   NaN      image   \n",
       "4   NaN     False  0ab35abe-b78e-11e6-9303-0ed3c72a1f42      image   \n",
       "\n",
       "                                             preview  media_metadata  \\\n",
       "0                                                NaN             NaN   \n",
       "1                                                NaN             NaN   \n",
       "2                                                NaN             NaN   \n",
       "3  {'images': [{'source': {'url': 'https://extern...             NaN   \n",
       "4  {'images': [{'source': {'url': 'https://previe...             NaN   \n",
       "\n",
       "   crosspost_parent_list crosspost_parent  author_cakeday poll_data  \n",
       "0                    NaN              NaN             NaN       NaN  \n",
       "1                    NaN              NaN             NaN       NaN  \n",
       "2                    NaN              NaN             NaN       NaN  \n",
       "3                    NaN              NaN             NaN       NaN  \n",
       "4                    NaN              NaN             NaN       NaN  \n",
       "\n",
       "[5 rows x 111 columns]"
      ]
     },
     "execution_count": 2,
     "metadata": {},
     "output_type": "execute_result"
    }
   ],
   "source": [
    "# Read in google home reddit data\n",
    "df_gh = pd.read_csv('./reddit_gh.csv')\n",
    "df_gh.head()"
   ]
  },
  {
   "cell_type": "markdown",
   "metadata": {},
   "source": [
    "The columns with the more relevant textual data are from subreddit, selftext and title. "
   ]
  },
  {
   "cell_type": "code",
   "execution_count": 3,
   "metadata": {},
   "outputs": [
    {
     "data": {
      "text/plain": [
       "(996, 3)"
      ]
     },
     "execution_count": 3,
     "metadata": {},
     "output_type": "execute_result"
    }
   ],
   "source": [
    "# Set a new dataframe with the columns we want ()\n",
    "df_gh1 = pd.DataFrame(df_gh[['subreddit', 'selftext', 'title']])\n",
    "# Shape of dataframe\n",
    "df_gh1.shape"
   ]
  },
  {
   "cell_type": "code",
   "execution_count": 4,
   "metadata": {},
   "outputs": [
    {
     "data": {
      "text/plain": [
       "(825, 3)"
      ]
     },
     "execution_count": 4,
     "metadata": {},
     "output_type": "execute_result"
    }
   ],
   "source": [
    "# Drop duplicates in selftext column\n",
    "df_gh1.drop_duplicates(subset='selftext',inplace=True)\n",
    "# Shape of dataframe after removing duplicates\n",
    "df_gh1.shape"
   ]
  },
  {
   "cell_type": "code",
   "execution_count": 5,
   "metadata": {},
   "outputs": [
    {
     "data": {
      "text/plain": [
       "(824, 3)"
      ]
     },
     "execution_count": 5,
     "metadata": {},
     "output_type": "execute_result"
    }
   ],
   "source": [
    "# Drop NAs.\n",
    "df_gh1.dropna(inplace=True)\n",
    "# Shape of dataframe after removing NAs\n",
    "df_gh1.shape"
   ]
  },
  {
   "cell_type": "code",
   "execution_count": 6,
   "metadata": {},
   "outputs": [
    {
     "data": {
      "text/html": [
       "<div>\n",
       "<style scoped>\n",
       "    .dataframe tbody tr th:only-of-type {\n",
       "        vertical-align: middle;\n",
       "    }\n",
       "\n",
       "    .dataframe tbody tr th {\n",
       "        vertical-align: top;\n",
       "    }\n",
       "\n",
       "    .dataframe thead th {\n",
       "        text-align: right;\n",
       "    }\n",
       "</style>\n",
       "<table border=\"1\" class=\"dataframe\">\n",
       "  <thead>\n",
       "    <tr style=\"text-align: right;\">\n",
       "      <th></th>\n",
       "      <th>subreddit</th>\n",
       "      <th>selftext</th>\n",
       "      <th>title</th>\n",
       "    </tr>\n",
       "  </thead>\n",
       "  <tbody>\n",
       "    <tr>\n",
       "      <th>0</th>\n",
       "      <td>googlehome</td>\n",
       "      <td>[\\[FAQ - Frequently Asked Questions\\]](https:/...</td>\n",
       "      <td>FAQ: Please read the subreddit FAQ before post...</td>\n",
       "    </tr>\n",
       "    <tr>\n",
       "      <th>1</th>\n",
       "      <td>googlehome</td>\n",
       "      <td>Do you want to liberate your Google so it can ...</td>\n",
       "      <td>My Google has Coronavirus! - Monthly Rants and...</td>\n",
       "    </tr>\n",
       "    <tr>\n",
       "      <th>2</th>\n",
       "      <td>googlehome</td>\n",
       "      <td>Because that's all it is.</td>\n",
       "      <td>[Subreddit Request] Can we rename this subredd...</td>\n",
       "    </tr>\n",
       "    <tr>\n",
       "      <th>6</th>\n",
       "      <td>googlehome</td>\n",
       "      <td>So I set an alarm there and Google responded '...</td>\n",
       "      <td>Google just said no problem</td>\n",
       "    </tr>\n",
       "    <tr>\n",
       "      <th>7</th>\n",
       "      <td>googlehome</td>\n",
       "      <td>Recently got a Nest WiFi router. I currently l...</td>\n",
       "      <td>Nest WiFi - who can access router settings?</td>\n",
       "    </tr>\n",
       "  </tbody>\n",
       "</table>\n",
       "</div>"
      ],
      "text/plain": [
       "    subreddit                                           selftext  \\\n",
       "0  googlehome  [\\[FAQ - Frequently Asked Questions\\]](https:/...   \n",
       "1  googlehome  Do you want to liberate your Google so it can ...   \n",
       "2  googlehome                          Because that's all it is.   \n",
       "6  googlehome  So I set an alarm there and Google responded '...   \n",
       "7  googlehome  Recently got a Nest WiFi router. I currently l...   \n",
       "\n",
       "                                               title  \n",
       "0  FAQ: Please read the subreddit FAQ before post...  \n",
       "1  My Google has Coronavirus! - Monthly Rants and...  \n",
       "2  [Subreddit Request] Can we rename this subredd...  \n",
       "6                        Google just said no problem  \n",
       "7        Nest WiFi - who can access router settings?  "
      ]
     },
     "execution_count": 6,
     "metadata": {},
     "output_type": "execute_result"
    }
   ],
   "source": [
    "# Review first 5 rows of dataframe\n",
    "df_gh1.head()"
   ]
  },
  {
   "cell_type": "code",
   "execution_count": 7,
   "metadata": {},
   "outputs": [
    {
     "data": {
      "text/html": [
       "<div>\n",
       "<style scoped>\n",
       "    .dataframe tbody tr th:only-of-type {\n",
       "        vertical-align: middle;\n",
       "    }\n",
       "\n",
       "    .dataframe tbody tr th {\n",
       "        vertical-align: top;\n",
       "    }\n",
       "\n",
       "    .dataframe thead th {\n",
       "        text-align: right;\n",
       "    }\n",
       "</style>\n",
       "<table border=\"1\" class=\"dataframe\">\n",
       "  <thead>\n",
       "    <tr style=\"text-align: right;\">\n",
       "      <th></th>\n",
       "      <th>approved_at_utc</th>\n",
       "      <th>subreddit</th>\n",
       "      <th>selftext</th>\n",
       "      <th>author_fullname</th>\n",
       "      <th>saved</th>\n",
       "      <th>mod_reason_title</th>\n",
       "      <th>gilded</th>\n",
       "      <th>clicked</th>\n",
       "      <th>title</th>\n",
       "      <th>link_flair_richtext</th>\n",
       "      <th>...</th>\n",
       "      <th>event_start</th>\n",
       "      <th>post_hint</th>\n",
       "      <th>preview</th>\n",
       "      <th>event_end</th>\n",
       "      <th>event_is_live</th>\n",
       "      <th>link_flair_template_id</th>\n",
       "      <th>media_metadata</th>\n",
       "      <th>poll_data</th>\n",
       "      <th>crosspost_parent_list</th>\n",
       "      <th>crosspost_parent</th>\n",
       "    </tr>\n",
       "  </thead>\n",
       "  <tbody>\n",
       "    <tr>\n",
       "      <th>0</th>\n",
       "      <td>NaN</td>\n",
       "      <td>GooglePixel</td>\n",
       "      <td>This is the weekly photo megathread. Photos ca...</td>\n",
       "      <td>t2_6l4z3</td>\n",
       "      <td>False</td>\n",
       "      <td>NaN</td>\n",
       "      <td>0</td>\n",
       "      <td>False</td>\n",
       "      <td>Weekly #madebygoogle Photos Megathread - May 0...</td>\n",
       "      <td>[]</td>\n",
       "      <td>...</td>\n",
       "      <td>NaN</td>\n",
       "      <td>NaN</td>\n",
       "      <td>NaN</td>\n",
       "      <td>NaN</td>\n",
       "      <td>NaN</td>\n",
       "      <td>NaN</td>\n",
       "      <td>NaN</td>\n",
       "      <td>NaN</td>\n",
       "      <td>NaN</td>\n",
       "      <td>NaN</td>\n",
       "    </tr>\n",
       "    <tr>\n",
       "      <th>1</th>\n",
       "      <td>NaN</td>\n",
       "      <td>GooglePixel</td>\n",
       "      <td>*If you were redirected here from a removed po...</td>\n",
       "      <td>t2_zmjf4</td>\n",
       "      <td>False</td>\n",
       "      <td>NaN</td>\n",
       "      <td>0</td>\n",
       "      <td>False</td>\n",
       "      <td>The May 2020 Superthread: Pixel 4a, Battery, \"...</td>\n",
       "      <td>[]</td>\n",
       "      <td>...</td>\n",
       "      <td>1.588345e+09</td>\n",
       "      <td>self</td>\n",
       "      <td>{'images': [{'source': {'url': 'https://extern...</td>\n",
       "      <td>1.588360e+09</td>\n",
       "      <td>False</td>\n",
       "      <td>NaN</td>\n",
       "      <td>NaN</td>\n",
       "      <td>NaN</td>\n",
       "      <td>NaN</td>\n",
       "      <td>NaN</td>\n",
       "    </tr>\n",
       "    <tr>\n",
       "      <th>2</th>\n",
       "      <td>NaN</td>\n",
       "      <td>GooglePixel</td>\n",
       "      <td>It was supposed to take up to 10 days. But it ...</td>\n",
       "      <td>t2_10j65hn2</td>\n",
       "      <td>False</td>\n",
       "      <td>NaN</td>\n",
       "      <td>0</td>\n",
       "      <td>False</td>\n",
       "      <td>So I had some troubles with my phone, and sent...</td>\n",
       "      <td>[{'e': 'text', 't': 'Pixel 3a'}]</td>\n",
       "      <td>...</td>\n",
       "      <td>NaN</td>\n",
       "      <td>NaN</td>\n",
       "      <td>NaN</td>\n",
       "      <td>NaN</td>\n",
       "      <td>NaN</td>\n",
       "      <td>bd247e74-7476-11e9-b802-0e2121dcd2a2</td>\n",
       "      <td>NaN</td>\n",
       "      <td>NaN</td>\n",
       "      <td>NaN</td>\n",
       "      <td>NaN</td>\n",
       "    </tr>\n",
       "    <tr>\n",
       "      <th>3</th>\n",
       "      <td>NaN</td>\n",
       "      <td>GooglePixel</td>\n",
       "      <td>Yall weren't kidding about the battery. It's p...</td>\n",
       "      <td>t2_zfetx</td>\n",
       "      <td>False</td>\n",
       "      <td>NaN</td>\n",
       "      <td>0</td>\n",
       "      <td>False</td>\n",
       "      <td>Had my pixel 4 for a few days already and holy...</td>\n",
       "      <td>[{'e': 'text', 't': 'Pixel 4'}]</td>\n",
       "      <td>...</td>\n",
       "      <td>NaN</td>\n",
       "      <td>NaN</td>\n",
       "      <td>NaN</td>\n",
       "      <td>NaN</td>\n",
       "      <td>NaN</td>\n",
       "      <td>8697ce76-f2dc-11e9-8412-0eae23347634</td>\n",
       "      <td>NaN</td>\n",
       "      <td>NaN</td>\n",
       "      <td>NaN</td>\n",
       "      <td>NaN</td>\n",
       "    </tr>\n",
       "    <tr>\n",
       "      <th>4</th>\n",
       "      <td>NaN</td>\n",
       "      <td>GooglePixel</td>\n",
       "      <td>NaN</td>\n",
       "      <td>t2_bkfyp</td>\n",
       "      <td>False</td>\n",
       "      <td>NaN</td>\n",
       "      <td>0</td>\n",
       "      <td>False</td>\n",
       "      <td>Pixel 3a black screen after overnight charging</td>\n",
       "      <td>[{'e': 'text', 't': 'Pixel 3a'}]</td>\n",
       "      <td>...</td>\n",
       "      <td>NaN</td>\n",
       "      <td>hosted:video</td>\n",
       "      <td>{'images': [{'source': {'url': 'https://extern...</td>\n",
       "      <td>NaN</td>\n",
       "      <td>NaN</td>\n",
       "      <td>bd247e74-7476-11e9-b802-0e2121dcd2a2</td>\n",
       "      <td>NaN</td>\n",
       "      <td>NaN</td>\n",
       "      <td>NaN</td>\n",
       "      <td>NaN</td>\n",
       "    </tr>\n",
       "  </tbody>\n",
       "</table>\n",
       "<p>5 rows × 113 columns</p>\n",
       "</div>"
      ],
      "text/plain": [
       "   approved_at_utc    subreddit  \\\n",
       "0              NaN  GooglePixel   \n",
       "1              NaN  GooglePixel   \n",
       "2              NaN  GooglePixel   \n",
       "3              NaN  GooglePixel   \n",
       "4              NaN  GooglePixel   \n",
       "\n",
       "                                            selftext author_fullname  saved  \\\n",
       "0  This is the weekly photo megathread. Photos ca...        t2_6l4z3  False   \n",
       "1  *If you were redirected here from a removed po...        t2_zmjf4  False   \n",
       "2  It was supposed to take up to 10 days. But it ...     t2_10j65hn2  False   \n",
       "3  Yall weren't kidding about the battery. It's p...        t2_zfetx  False   \n",
       "4                                                NaN        t2_bkfyp  False   \n",
       "\n",
       "   mod_reason_title  gilded  clicked  \\\n",
       "0               NaN       0    False   \n",
       "1               NaN       0    False   \n",
       "2               NaN       0    False   \n",
       "3               NaN       0    False   \n",
       "4               NaN       0    False   \n",
       "\n",
       "                                               title  \\\n",
       "0  Weekly #madebygoogle Photos Megathread - May 0...   \n",
       "1  The May 2020 Superthread: Pixel 4a, Battery, \"...   \n",
       "2  So I had some troubles with my phone, and sent...   \n",
       "3  Had my pixel 4 for a few days already and holy...   \n",
       "4     Pixel 3a black screen after overnight charging   \n",
       "\n",
       "                link_flair_richtext  ...   event_start     post_hint  \\\n",
       "0                                []  ...           NaN           NaN   \n",
       "1                                []  ...  1.588345e+09          self   \n",
       "2  [{'e': 'text', 't': 'Pixel 3a'}]  ...           NaN           NaN   \n",
       "3   [{'e': 'text', 't': 'Pixel 4'}]  ...           NaN           NaN   \n",
       "4  [{'e': 'text', 't': 'Pixel 3a'}]  ...           NaN  hosted:video   \n",
       "\n",
       "                                             preview     event_end  \\\n",
       "0                                                NaN           NaN   \n",
       "1  {'images': [{'source': {'url': 'https://extern...  1.588360e+09   \n",
       "2                                                NaN           NaN   \n",
       "3                                                NaN           NaN   \n",
       "4  {'images': [{'source': {'url': 'https://extern...           NaN   \n",
       "\n",
       "   event_is_live                link_flair_template_id  media_metadata  \\\n",
       "0            NaN                                   NaN             NaN   \n",
       "1          False                                   NaN             NaN   \n",
       "2            NaN  bd247e74-7476-11e9-b802-0e2121dcd2a2             NaN   \n",
       "3            NaN  8697ce76-f2dc-11e9-8412-0eae23347634             NaN   \n",
       "4            NaN  bd247e74-7476-11e9-b802-0e2121dcd2a2             NaN   \n",
       "\n",
       "  poll_data  crosspost_parent_list crosspost_parent  \n",
       "0       NaN                    NaN              NaN  \n",
       "1       NaN                    NaN              NaN  \n",
       "2       NaN                    NaN              NaN  \n",
       "3       NaN                    NaN              NaN  \n",
       "4       NaN                    NaN              NaN  \n",
       "\n",
       "[5 rows x 113 columns]"
      ]
     },
     "execution_count": 7,
     "metadata": {},
     "output_type": "execute_result"
    }
   ],
   "source": [
    "# Read in google pixel reddit data\n",
    "df_gp = pd.read_csv('./reddit_gp.csv')\n",
    "df_gp.head()"
   ]
  },
  {
   "cell_type": "code",
   "execution_count": 8,
   "metadata": {},
   "outputs": [
    {
     "data": {
      "text/plain": [
       "(980, 3)"
      ]
     },
     "execution_count": 8,
     "metadata": {},
     "output_type": "execute_result"
    }
   ],
   "source": [
    "# Set a new dataframe with the columns we want ()\n",
    "df_gp1 = pd.DataFrame(df_gp[['subreddit', 'selftext', 'title']])\n",
    "# Shape of dataframe\n",
    "df_gp1.shape"
   ]
  },
  {
   "cell_type": "code",
   "execution_count": 9,
   "metadata": {},
   "outputs": [
    {
     "data": {
      "text/plain": [
       "(803, 3)"
      ]
     },
     "execution_count": 9,
     "metadata": {},
     "output_type": "execute_result"
    }
   ],
   "source": [
    "# Drop duplicates in selftext column\n",
    "df_gp1.drop_duplicates(subset='selftext',inplace=True)\n",
    "# Shape of dataframe after removing duplicates\n",
    "df_gp1.shape"
   ]
  },
  {
   "cell_type": "code",
   "execution_count": 10,
   "metadata": {},
   "outputs": [
    {
     "data": {
      "text/plain": [
       "(802, 3)"
      ]
     },
     "execution_count": 10,
     "metadata": {},
     "output_type": "execute_result"
    }
   ],
   "source": [
    "# Drop NAs.\n",
    "df_gp1.dropna(inplace=True)\n",
    "# Shape of dataframe after removing NAs\n",
    "df_gp1.shape"
   ]
  },
  {
   "cell_type": "code",
   "execution_count": 11,
   "metadata": {},
   "outputs": [
    {
     "data": {
      "text/plain": [
       "(1626, 3)"
      ]
     },
     "execution_count": 11,
     "metadata": {},
     "output_type": "execute_result"
    }
   ],
   "source": [
    "# Join the two dataframes together\n",
    "df = pd.concat([df_gh1,df_gp1])\n",
    "df.reset_index(drop=True, inplace=True)\n",
    "# Shape of concatenated dataframe \n",
    "df.shape"
   ]
  },
  {
   "cell_type": "code",
   "execution_count": 12,
   "metadata": {},
   "outputs": [
    {
     "data": {
      "text/plain": [
       "googlehome     824\n",
       "GooglePixel    802\n",
       "Name: subreddit, dtype: int64"
      ]
     },
     "execution_count": 12,
     "metadata": {},
     "output_type": "execute_result"
    }
   ],
   "source": [
    "df['subreddit'].value_counts()"
   ]
  },
  {
   "cell_type": "code",
   "execution_count": 13,
   "metadata": {},
   "outputs": [
    {
     "data": {
      "text/html": [
       "<div>\n",
       "<style scoped>\n",
       "    .dataframe tbody tr th:only-of-type {\n",
       "        vertical-align: middle;\n",
       "    }\n",
       "\n",
       "    .dataframe tbody tr th {\n",
       "        vertical-align: top;\n",
       "    }\n",
       "\n",
       "    .dataframe thead th {\n",
       "        text-align: right;\n",
       "    }\n",
       "</style>\n",
       "<table border=\"1\" class=\"dataframe\">\n",
       "  <thead>\n",
       "    <tr style=\"text-align: right;\">\n",
       "      <th></th>\n",
       "      <th>subreddit</th>\n",
       "      <th>selftext</th>\n",
       "      <th>title</th>\n",
       "      <th>googlehome</th>\n",
       "    </tr>\n",
       "  </thead>\n",
       "  <tbody>\n",
       "    <tr>\n",
       "      <th>0</th>\n",
       "      <td>googlehome</td>\n",
       "      <td>[\\[FAQ - Frequently Asked Questions\\]](https:/...</td>\n",
       "      <td>FAQ: Please read the subreddit FAQ before post...</td>\n",
       "      <td>1</td>\n",
       "    </tr>\n",
       "    <tr>\n",
       "      <th>1</th>\n",
       "      <td>googlehome</td>\n",
       "      <td>Do you want to liberate your Google so it can ...</td>\n",
       "      <td>My Google has Coronavirus! - Monthly Rants and...</td>\n",
       "      <td>1</td>\n",
       "    </tr>\n",
       "  </tbody>\n",
       "</table>\n",
       "</div>"
      ],
      "text/plain": [
       "    subreddit                                           selftext  \\\n",
       "0  googlehome  [\\[FAQ - Frequently Asked Questions\\]](https:/...   \n",
       "1  googlehome  Do you want to liberate your Google so it can ...   \n",
       "\n",
       "                                               title  googlehome  \n",
       "0  FAQ: Please read the subreddit FAQ before post...           1  \n",
       "1  My Google has Coronavirus! - Monthly Rants and...           1  "
      ]
     },
     "execution_count": 13,
     "metadata": {},
     "output_type": "execute_result"
    }
   ],
   "source": [
    "# Engineer a feature to turn subreddit into a 1/0 column, where 1 indicates googlehome.\n",
    "df['googlehome'] = df['subreddit'].map({'googlehome': 1, 'GooglePixel': 0})\n",
    "df.head(2)"
   ]
  },
  {
   "cell_type": "code",
   "execution_count": 14,
   "metadata": {},
   "outputs": [
    {
     "data": {
      "text/plain": [
       "1    0.506765\n",
       "0    0.493235\n",
       "Name: googlehome, dtype: float64"
      ]
     },
     "execution_count": 14,
     "metadata": {},
     "output_type": "execute_result"
    }
   ],
   "source": [
    "df['googlehome'].value_counts(normalize=True)"
   ]
  },
  {
   "cell_type": "markdown",
   "metadata": {},
   "source": [
    "The distribution of the classes is quite balanced. If the class is imblanced, the resulting model is likely to have low predictive accuracy for the infrequent class."
   ]
  },
  {
   "cell_type": "markdown",
   "metadata": {},
   "source": [
    "### Basic EDA\n",
    "---\n",
    "Building good performing classifers from data with easily separable classes is relatively straightforward but care should be excercised to determine if such data is representative of the actual world environment. In most real world environment, samples from different classes share similar characteristics or are overlapped. This means the boundaries of each class may not be clearly defined as desired. \n",
    "\n",
    "Common practices to address this problem includes:\n",
    "- i) modifying the original data by introducing/removing features which decrease the overlapping region,\n",
    "- ii) adapting algorithms to reduce the negative impact of overlapping features.\n",
    "\n",
    "Through the basic EDA process, we set out to discover what are the prevalent key words among the reddit posts, and their distribution across text data of googlehome and googlepixel reddit posts. With these insights we would then be in better position to fine-tune the subsequent models."
   ]
  },
  {
   "cell_type": "code",
   "execution_count": 15,
   "metadata": {},
   "outputs": [
    {
     "data": {
      "text/plain": [
       "0    [\\[FAQ - Frequently Asked Questions\\]](https:/...\n",
       "1    Do you want to liberate your Google so it can ...\n",
       "2                            Because that's all it is.\n",
       "3    So I set an alarm there and Google responded '...\n",
       "4    Recently got a Nest WiFi router. I currently l...\n",
       "Name: selftext, dtype: object"
      ]
     },
     "execution_count": 15,
     "metadata": {},
     "output_type": "execute_result"
    }
   ],
   "source": [
    "text = df['selftext']\n",
    "text[0:5]"
   ]
  },
  {
   "cell_type": "code",
   "execution_count": 16,
   "metadata": {},
   "outputs": [],
   "source": [
    "'''\n",
    "create a document term matrix with:\n",
    "-ngram range 1,2\n",
    "-minimum document appearance for any term = 2\n",
    "-removal of all English stop words\n",
    "'''\n",
    "# Instantiate countvectorizer\n",
    "cvec = CountVectorizer(ngram_range=(1, 2), stop_words='english', min_df=2)\n",
    "matrix = cvec.fit_transform(text)"
   ]
  },
  {
   "cell_type": "code",
   "execution_count": 17,
   "metadata": {},
   "outputs": [],
   "source": [
    "# Create a dataframe with feature names = words\n",
    "tf = pd.DataFrame(cvec.fit_transform(text).toarray(), columns=cvec.get_feature_names())"
   ]
  },
  {
   "cell_type": "code",
   "execution_count": 18,
   "metadata": {},
   "outputs": [
    {
     "data": {
      "text/plain": [
       "google         1731\n",
       "home           1054\n",
       "pixel           993\n",
       "phone           882\n",
       "just            736\n",
       "google home     606\n",
       "buds            559\n",
       "ve              547\n",
       "like            533\n",
       "app             429\n",
       "dtype: int64"
      ]
     },
     "execution_count": 18,
     "metadata": {},
     "output_type": "execute_result"
    }
   ],
   "source": [
    "# see most common terms\n",
    "tf.sum().sort_values(ascending=False).head(10)"
   ]
  },
  {
   "cell_type": "code",
   "execution_count": 19,
   "metadata": {},
   "outputs": [
    {
     "data": {
      "text/html": [
       "<div>\n",
       "<style scoped>\n",
       "    .dataframe tbody tr th:only-of-type {\n",
       "        vertical-align: middle;\n",
       "    }\n",
       "\n",
       "    .dataframe tbody tr th {\n",
       "        vertical-align: top;\n",
       "    }\n",
       "\n",
       "    .dataframe thead th {\n",
       "        text-align: right;\n",
       "    }\n",
       "</style>\n",
       "<table border=\"1\" class=\"dataframe\">\n",
       "  <thead>\n",
       "    <tr style=\"text-align: right;\">\n",
       "      <th></th>\n",
       "      <th>subreddit</th>\n",
       "      <th>selftext</th>\n",
       "      <th>title</th>\n",
       "      <th>googlehome</th>\n",
       "    </tr>\n",
       "  </thead>\n",
       "  <tbody>\n",
       "    <tr>\n",
       "      <th>0</th>\n",
       "      <td>googlehome</td>\n",
       "      <td>[\\[FAQ - Frequently Asked Questions\\]](https:/...</td>\n",
       "      <td>FAQ: Please read the subreddit FAQ before post...</td>\n",
       "      <td>1</td>\n",
       "    </tr>\n",
       "    <tr>\n",
       "      <th>1</th>\n",
       "      <td>googlehome</td>\n",
       "      <td>Do you want to liberate your Google so it can ...</td>\n",
       "      <td>My Google has Coronavirus! - Monthly Rants and...</td>\n",
       "      <td>1</td>\n",
       "    </tr>\n",
       "    <tr>\n",
       "      <th>2</th>\n",
       "      <td>googlehome</td>\n",
       "      <td>Because that's all it is.</td>\n",
       "      <td>[Subreddit Request] Can we rename this subredd...</td>\n",
       "      <td>1</td>\n",
       "    </tr>\n",
       "    <tr>\n",
       "      <th>3</th>\n",
       "      <td>googlehome</td>\n",
       "      <td>So I set an alarm there and Google responded '...</td>\n",
       "      <td>Google just said no problem</td>\n",
       "      <td>1</td>\n",
       "    </tr>\n",
       "    <tr>\n",
       "      <th>4</th>\n",
       "      <td>googlehome</td>\n",
       "      <td>Recently got a Nest WiFi router. I currently l...</td>\n",
       "      <td>Nest WiFi - who can access router settings?</td>\n",
       "      <td>1</td>\n",
       "    </tr>\n",
       "  </tbody>\n",
       "</table>\n",
       "</div>"
      ],
      "text/plain": [
       "    subreddit                                           selftext  \\\n",
       "0  googlehome  [\\[FAQ - Frequently Asked Questions\\]](https:/...   \n",
       "1  googlehome  Do you want to liberate your Google so it can ...   \n",
       "2  googlehome                          Because that's all it is.   \n",
       "3  googlehome  So I set an alarm there and Google responded '...   \n",
       "4  googlehome  Recently got a Nest WiFi router. I currently l...   \n",
       "\n",
       "                                               title  googlehome  \n",
       "0  FAQ: Please read the subreddit FAQ before post...           1  \n",
       "1  My Google has Coronavirus! - Monthly Rants and...           1  \n",
       "2  [Subreddit Request] Can we rename this subredd...           1  \n",
       "3                        Google just said no problem           1  \n",
       "4        Nest WiFi - who can access router settings?           1  "
      ]
     },
     "execution_count": 19,
     "metadata": {},
     "output_type": "execute_result"
    }
   ],
   "source": [
    "# Create googlehome text df\n",
    "googlehome_tdf = df[df['googlehome'] ==1]\n",
    "googlehome_tdf.shape\n",
    "googlehome_tdf.head()"
   ]
  },
  {
   "cell_type": "code",
   "execution_count": 20,
   "metadata": {},
   "outputs": [
    {
     "data": {
      "text/plain": [
       "(802, 4)"
      ]
     },
     "execution_count": 20,
     "metadata": {},
     "output_type": "execute_result"
    }
   ],
   "source": [
    "# Create googlepixel text df\n",
    "googlepixel_tdf = df[df['googlehome'] == 0]\n",
    "googlepixel_tdf.shape"
   ]
  },
  {
   "cell_type": "code",
   "execution_count": 21,
   "metadata": {},
   "outputs": [],
   "source": [
    "# vectorize selftext from googlehome text\n",
    "tf1 = pd.DataFrame(cvec.fit_transform(googlehome_tdf['selftext']).toarray(), columns=cvec.get_feature_names())"
   ]
  },
  {
   "cell_type": "code",
   "execution_count": 22,
   "metadata": {},
   "outputs": [
    {
     "data": {
      "text/plain": [
       "(824, 4502)"
      ]
     },
     "execution_count": 22,
     "metadata": {},
     "output_type": "execute_result"
    }
   ],
   "source": [
    "# No.of features fitted\n",
    "tf1.shape"
   ]
  },
  {
   "cell_type": "code",
   "execution_count": 23,
   "metadata": {},
   "outputs": [
    {
     "data": {
      "text/plain": [
       "google         1260\n",
       "home            992\n",
       "google home     600\n",
       "just            312\n",
       "play            283\n",
       "app             265\n",
       "ve              254\n",
       "nest            248\n",
       "set             246\n",
       "mini            230\n",
       "dtype: int64"
      ]
     },
     "execution_count": 23,
     "metadata": {},
     "output_type": "execute_result"
    }
   ],
   "source": [
    "# check value counts\n",
    "tf1.sum().sort_values(ascending=False).head(10)"
   ]
  },
  {
   "cell_type": "markdown",
   "metadata": {},
   "source": [
    "As expected, the words `google`, `home` and `google home` have high prevalence in google home reddit posts."
   ]
  },
  {
   "cell_type": "code",
   "execution_count": 24,
   "metadata": {},
   "outputs": [],
   "source": [
    "# vectorize selftext from googlehome text\n",
    "tf2 = pd.DataFrame(cvec.fit_transform(googlepixel_tdf['selftext']).toarray(), columns=cvec.get_feature_names())"
   ]
  },
  {
   "cell_type": "code",
   "execution_count": 25,
   "metadata": {},
   "outputs": [
    {
     "data": {
      "text/plain": [
       "(802, 5352)"
      ]
     },
     "execution_count": 25,
     "metadata": {},
     "output_type": "execute_result"
    }
   ],
   "source": [
    "# No.of features fitted\n",
    "tf2.shape"
   ]
  },
  {
   "cell_type": "code",
   "execution_count": 26,
   "metadata": {},
   "outputs": [
    {
     "data": {
      "text/plain": [
       "pixel         980\n",
       "phone         672\n",
       "buds          559\n",
       "google        471\n",
       "just          424\n",
       "like          321\n",
       "ve            293\n",
       "pixel buds    265\n",
       "battery       225\n",
       "don           208\n",
       "dtype: int64"
      ]
     },
     "execution_count": 26,
     "metadata": {},
     "output_type": "execute_result"
    }
   ],
   "source": [
    "# check value counts\n",
    "tf2.sum().sort_values(ascending=False).head(10)"
   ]
  },
  {
   "cell_type": "markdown",
   "metadata": {},
   "source": [
    "The words `google`, `phone` and `pixel` have high prevalence in google pixel reddit posts. Are any of these words common among the two reddit groups, and what is their distribution? Let's find out."
   ]
  },
  {
   "cell_type": "code",
   "execution_count": 27,
   "metadata": {},
   "outputs": [
    {
     "name": "stdout",
     "output_type": "stream",
     "text": [
      "              0_x   0_y\n",
      "00            4.0   2.0\n",
      "04            NaN   5.0\n",
      "05            NaN   2.0\n",
      "09            NaN   2.0\n",
      "10           38.0  77.0\n",
      "...           ...   ...\n",
      "zero issues   NaN   2.0\n",
      "zoom          NaN  24.0\n",
      "zoom app      NaN   2.0\n",
      "zoom video    NaN   2.0\n",
      "zoomed        NaN   2.0\n",
      "\n",
      "[8019 rows x 2 columns]\n"
     ]
    }
   ],
   "source": [
    "# word counts of googlehome text and google pixel text\n",
    "\"\"\"Merge the two dataframes on Outer join, align with both dataframe indexes.\"\"\"\n",
    "word_counts = pd.merge(pd.DataFrame(data=tf1.sum().sort_values(ascending=False)),\\\n",
    "                       pd.DataFrame(data=tf2.sum().sort_values(ascending=False)),\\\n",
    "                       how='outer',left_index=True,right_index=True)\n",
    "print(word_counts)"
   ]
  },
  {
   "cell_type": "code",
   "execution_count": 28,
   "metadata": {},
   "outputs": [],
   "source": [
    "# rename columns\n",
    "word_counts.columns = ['googlehome', 'googlepixel']"
   ]
  },
  {
   "cell_type": "code",
   "execution_count": 29,
   "metadata": {},
   "outputs": [
    {
     "data": {
      "text/html": [
       "<div>\n",
       "<style scoped>\n",
       "    .dataframe tbody tr th:only-of-type {\n",
       "        vertical-align: middle;\n",
       "    }\n",
       "\n",
       "    .dataframe tbody tr th {\n",
       "        vertical-align: top;\n",
       "    }\n",
       "\n",
       "    .dataframe thead th {\n",
       "        text-align: right;\n",
       "    }\n",
       "</style>\n",
       "<table border=\"1\" class=\"dataframe\">\n",
       "  <thead>\n",
       "    <tr style=\"text-align: right;\">\n",
       "      <th></th>\n",
       "      <th>googlehome</th>\n",
       "      <th>googlepixel</th>\n",
       "    </tr>\n",
       "  </thead>\n",
       "  <tbody>\n",
       "    <tr>\n",
       "      <th>00</th>\n",
       "      <td>4.0</td>\n",
       "      <td>2.0</td>\n",
       "    </tr>\n",
       "    <tr>\n",
       "      <th>04</th>\n",
       "      <td>NaN</td>\n",
       "      <td>5.0</td>\n",
       "    </tr>\n",
       "  </tbody>\n",
       "</table>\n",
       "</div>"
      ],
      "text/plain": [
       "    googlehome  googlepixel\n",
       "00         4.0          2.0\n",
       "04         NaN          5.0"
      ]
     },
     "execution_count": 29,
     "metadata": {},
     "output_type": "execute_result"
    }
   ],
   "source": [
    "# view the df to ensure correct column naming\n",
    "word_counts.head(2)"
   ]
  },
  {
   "cell_type": "code",
   "execution_count": 30,
   "metadata": {},
   "outputs": [
    {
     "data": {
      "text/html": [
       "<div>\n",
       "<style scoped>\n",
       "    .dataframe tbody tr th:only-of-type {\n",
       "        vertical-align: middle;\n",
       "    }\n",
       "\n",
       "    .dataframe tbody tr th {\n",
       "        vertical-align: top;\n",
       "    }\n",
       "\n",
       "    .dataframe thead th {\n",
       "        text-align: right;\n",
       "    }\n",
       "</style>\n",
       "<table border=\"1\" class=\"dataframe\">\n",
       "  <thead>\n",
       "    <tr style=\"text-align: right;\">\n",
       "      <th></th>\n",
       "      <th>googlehome</th>\n",
       "      <th>googlepixel</th>\n",
       "      <th>sum</th>\n",
       "    </tr>\n",
       "  </thead>\n",
       "  <tbody>\n",
       "    <tr>\n",
       "      <th>google</th>\n",
       "      <td>1260.0</td>\n",
       "      <td>471.0</td>\n",
       "      <td>1731.0</td>\n",
       "    </tr>\n",
       "    <tr>\n",
       "      <th>home</th>\n",
       "      <td>992.0</td>\n",
       "      <td>62.0</td>\n",
       "      <td>1054.0</td>\n",
       "    </tr>\n",
       "    <tr>\n",
       "      <th>pixel</th>\n",
       "      <td>13.0</td>\n",
       "      <td>980.0</td>\n",
       "      <td>993.0</td>\n",
       "    </tr>\n",
       "    <tr>\n",
       "      <th>phone</th>\n",
       "      <td>210.0</td>\n",
       "      <td>672.0</td>\n",
       "      <td>882.0</td>\n",
       "    </tr>\n",
       "    <tr>\n",
       "      <th>just</th>\n",
       "      <td>312.0</td>\n",
       "      <td>424.0</td>\n",
       "      <td>736.0</td>\n",
       "    </tr>\n",
       "    <tr>\n",
       "      <th>google home</th>\n",
       "      <td>600.0</td>\n",
       "      <td>6.0</td>\n",
       "      <td>606.0</td>\n",
       "    </tr>\n",
       "    <tr>\n",
       "      <th>ve</th>\n",
       "      <td>254.0</td>\n",
       "      <td>293.0</td>\n",
       "      <td>547.0</td>\n",
       "    </tr>\n",
       "    <tr>\n",
       "      <th>like</th>\n",
       "      <td>212.0</td>\n",
       "      <td>321.0</td>\n",
       "      <td>533.0</td>\n",
       "    </tr>\n",
       "    <tr>\n",
       "      <th>app</th>\n",
       "      <td>265.0</td>\n",
       "      <td>164.0</td>\n",
       "      <td>429.0</td>\n",
       "    </tr>\n",
       "    <tr>\n",
       "      <th>use</th>\n",
       "      <td>197.0</td>\n",
       "      <td>177.0</td>\n",
       "      <td>374.0</td>\n",
       "    </tr>\n",
       "  </tbody>\n",
       "</table>\n",
       "</div>"
      ],
      "text/plain": [
       "             googlehome  googlepixel     sum\n",
       "google           1260.0        471.0  1731.0\n",
       "home              992.0         62.0  1054.0\n",
       "pixel              13.0        980.0   993.0\n",
       "phone             210.0        672.0   882.0\n",
       "just              312.0        424.0   736.0\n",
       "google home       600.0          6.0   606.0\n",
       "ve                254.0        293.0   547.0\n",
       "like              212.0        321.0   533.0\n",
       "app               265.0        164.0   429.0\n",
       "use               197.0        177.0   374.0"
      ]
     },
     "execution_count": 30,
     "metadata": {},
     "output_type": "execute_result"
    }
   ],
   "source": [
    "# find sums\n",
    "word_counts['sum'] = word_counts['googlehome'] + word_counts['googlepixel']\n",
    "# sort by most used values\n",
    "word_counts.sort_values(['sum'], ascending=False).head(10)"
   ]
  },
  {
   "cell_type": "code",
   "execution_count": 31,
   "metadata": {},
   "outputs": [
    {
     "data": {
      "text/html": [
       "<div>\n",
       "<style scoped>\n",
       "    .dataframe tbody tr th:only-of-type {\n",
       "        vertical-align: middle;\n",
       "    }\n",
       "\n",
       "    .dataframe tbody tr th {\n",
       "        vertical-align: top;\n",
       "    }\n",
       "\n",
       "    .dataframe thead th {\n",
       "        text-align: right;\n",
       "    }\n",
       "</style>\n",
       "<table border=\"1\" class=\"dataframe\">\n",
       "  <thead>\n",
       "    <tr style=\"text-align: right;\">\n",
       "      <th></th>\n",
       "      <th>googlehome</th>\n",
       "      <th>googlepixel</th>\n",
       "      <th>sum</th>\n",
       "    </tr>\n",
       "  </thead>\n",
       "  <tbody>\n",
       "    <tr>\n",
       "      <th>does recognize</th>\n",
       "      <td>2.0</td>\n",
       "      <td>2.0</td>\n",
       "      <td>4.0</td>\n",
       "    </tr>\n",
       "    <tr>\n",
       "      <th>google help</th>\n",
       "      <td>2.0</td>\n",
       "      <td>2.0</td>\n",
       "      <td>4.0</td>\n",
       "    </tr>\n",
       "    <tr>\n",
       "      <th>just getting</th>\n",
       "      <td>2.0</td>\n",
       "      <td>2.0</td>\n",
       "      <td>4.0</td>\n",
       "    </tr>\n",
       "    <tr>\n",
       "      <th>refusing</th>\n",
       "      <td>2.0</td>\n",
       "      <td>2.0</td>\n",
       "      <td>4.0</td>\n",
       "    </tr>\n",
       "    <tr>\n",
       "      <th>app issue</th>\n",
       "      <td>2.0</td>\n",
       "      <td>2.0</td>\n",
       "      <td>4.0</td>\n",
       "    </tr>\n",
       "  </tbody>\n",
       "</table>\n",
       "</div>"
      ],
      "text/plain": [
       "                googlehome  googlepixel  sum\n",
       "does recognize         2.0          2.0  4.0\n",
       "google help            2.0          2.0  4.0\n",
       "just getting           2.0          2.0  4.0\n",
       "refusing               2.0          2.0  4.0\n",
       "app issue              2.0          2.0  4.0"
      ]
     },
     "execution_count": 31,
     "metadata": {},
     "output_type": "execute_result"
    }
   ],
   "source": [
    "# Minimum occurrence of words\n",
    "word_counts.sort_values(['sum'], ascending=True).head(5)"
   ]
  },
  {
   "cell_type": "code",
   "execution_count": 136,
   "metadata": {},
   "outputs": [
    {
     "data": {
      "text/html": [
       "<div>\n",
       "<style scoped>\n",
       "    .dataframe tbody tr th:only-of-type {\n",
       "        vertical-align: middle;\n",
       "    }\n",
       "\n",
       "    .dataframe tbody tr th {\n",
       "        vertical-align: top;\n",
       "    }\n",
       "\n",
       "    .dataframe thead th {\n",
       "        text-align: right;\n",
       "    }\n",
       "</style>\n",
       "<table border=\"1\" class=\"dataframe\">\n",
       "  <thead>\n",
       "    <tr style=\"text-align: right;\">\n",
       "      <th></th>\n",
       "      <th>00</th>\n",
       "      <th>04</th>\n",
       "      <th>05</th>\n",
       "      <th>09</th>\n",
       "      <th>10</th>\n",
       "      <th>10 battery</th>\n",
       "      <th>10 days</th>\n",
       "      <th>10 desktop</th>\n",
       "      <th>10 minutes</th>\n",
       "      <th>10 month</th>\n",
       "      <th>...</th>\n",
       "      <th>youtube video</th>\n",
       "      <th>youtube videos</th>\n",
       "      <th>yt</th>\n",
       "      <th>yt music</th>\n",
       "      <th>zero</th>\n",
       "      <th>zero issues</th>\n",
       "      <th>zoom</th>\n",
       "      <th>zoom app</th>\n",
       "      <th>zoom video</th>\n",
       "      <th>zoomed</th>\n",
       "    </tr>\n",
       "  </thead>\n",
       "  <tbody>\n",
       "    <tr>\n",
       "      <th>0</th>\n",
       "      <td>0</td>\n",
       "      <td>0</td>\n",
       "      <td>0</td>\n",
       "      <td>0</td>\n",
       "      <td>0</td>\n",
       "      <td>0</td>\n",
       "      <td>0</td>\n",
       "      <td>0</td>\n",
       "      <td>0</td>\n",
       "      <td>0</td>\n",
       "      <td>...</td>\n",
       "      <td>0</td>\n",
       "      <td>0</td>\n",
       "      <td>0</td>\n",
       "      <td>0</td>\n",
       "      <td>0</td>\n",
       "      <td>0</td>\n",
       "      <td>0</td>\n",
       "      <td>0</td>\n",
       "      <td>0</td>\n",
       "      <td>0</td>\n",
       "    </tr>\n",
       "    <tr>\n",
       "      <th>1</th>\n",
       "      <td>0</td>\n",
       "      <td>0</td>\n",
       "      <td>0</td>\n",
       "      <td>0</td>\n",
       "      <td>0</td>\n",
       "      <td>0</td>\n",
       "      <td>0</td>\n",
       "      <td>0</td>\n",
       "      <td>0</td>\n",
       "      <td>0</td>\n",
       "      <td>...</td>\n",
       "      <td>0</td>\n",
       "      <td>0</td>\n",
       "      <td>0</td>\n",
       "      <td>0</td>\n",
       "      <td>0</td>\n",
       "      <td>0</td>\n",
       "      <td>0</td>\n",
       "      <td>0</td>\n",
       "      <td>0</td>\n",
       "      <td>0</td>\n",
       "    </tr>\n",
       "    <tr>\n",
       "      <th>2</th>\n",
       "      <td>0</td>\n",
       "      <td>0</td>\n",
       "      <td>0</td>\n",
       "      <td>0</td>\n",
       "      <td>1</td>\n",
       "      <td>0</td>\n",
       "      <td>1</td>\n",
       "      <td>0</td>\n",
       "      <td>0</td>\n",
       "      <td>0</td>\n",
       "      <td>...</td>\n",
       "      <td>0</td>\n",
       "      <td>0</td>\n",
       "      <td>0</td>\n",
       "      <td>0</td>\n",
       "      <td>0</td>\n",
       "      <td>0</td>\n",
       "      <td>0</td>\n",
       "      <td>0</td>\n",
       "      <td>0</td>\n",
       "      <td>0</td>\n",
       "    </tr>\n",
       "    <tr>\n",
       "      <th>3</th>\n",
       "      <td>0</td>\n",
       "      <td>0</td>\n",
       "      <td>0</td>\n",
       "      <td>0</td>\n",
       "      <td>1</td>\n",
       "      <td>0</td>\n",
       "      <td>0</td>\n",
       "      <td>0</td>\n",
       "      <td>0</td>\n",
       "      <td>0</td>\n",
       "      <td>...</td>\n",
       "      <td>0</td>\n",
       "      <td>0</td>\n",
       "      <td>0</td>\n",
       "      <td>0</td>\n",
       "      <td>0</td>\n",
       "      <td>0</td>\n",
       "      <td>0</td>\n",
       "      <td>0</td>\n",
       "      <td>0</td>\n",
       "      <td>0</td>\n",
       "    </tr>\n",
       "    <tr>\n",
       "      <th>4</th>\n",
       "      <td>0</td>\n",
       "      <td>0</td>\n",
       "      <td>0</td>\n",
       "      <td>0</td>\n",
       "      <td>0</td>\n",
       "      <td>0</td>\n",
       "      <td>0</td>\n",
       "      <td>0</td>\n",
       "      <td>0</td>\n",
       "      <td>0</td>\n",
       "      <td>...</td>\n",
       "      <td>0</td>\n",
       "      <td>0</td>\n",
       "      <td>0</td>\n",
       "      <td>0</td>\n",
       "      <td>0</td>\n",
       "      <td>0</td>\n",
       "      <td>0</td>\n",
       "      <td>0</td>\n",
       "      <td>0</td>\n",
       "      <td>0</td>\n",
       "    </tr>\n",
       "    <tr>\n",
       "      <th>...</th>\n",
       "      <td>...</td>\n",
       "      <td>...</td>\n",
       "      <td>...</td>\n",
       "      <td>...</td>\n",
       "      <td>...</td>\n",
       "      <td>...</td>\n",
       "      <td>...</td>\n",
       "      <td>...</td>\n",
       "      <td>...</td>\n",
       "      <td>...</td>\n",
       "      <td>...</td>\n",
       "      <td>...</td>\n",
       "      <td>...</td>\n",
       "      <td>...</td>\n",
       "      <td>...</td>\n",
       "      <td>...</td>\n",
       "      <td>...</td>\n",
       "      <td>...</td>\n",
       "      <td>...</td>\n",
       "      <td>...</td>\n",
       "      <td>...</td>\n",
       "    </tr>\n",
       "    <tr>\n",
       "      <th>797</th>\n",
       "      <td>0</td>\n",
       "      <td>0</td>\n",
       "      <td>0</td>\n",
       "      <td>0</td>\n",
       "      <td>0</td>\n",
       "      <td>0</td>\n",
       "      <td>0</td>\n",
       "      <td>0</td>\n",
       "      <td>0</td>\n",
       "      <td>0</td>\n",
       "      <td>...</td>\n",
       "      <td>0</td>\n",
       "      <td>0</td>\n",
       "      <td>0</td>\n",
       "      <td>0</td>\n",
       "      <td>0</td>\n",
       "      <td>0</td>\n",
       "      <td>0</td>\n",
       "      <td>0</td>\n",
       "      <td>0</td>\n",
       "      <td>0</td>\n",
       "    </tr>\n",
       "    <tr>\n",
       "      <th>798</th>\n",
       "      <td>0</td>\n",
       "      <td>0</td>\n",
       "      <td>0</td>\n",
       "      <td>0</td>\n",
       "      <td>0</td>\n",
       "      <td>0</td>\n",
       "      <td>0</td>\n",
       "      <td>0</td>\n",
       "      <td>0</td>\n",
       "      <td>0</td>\n",
       "      <td>...</td>\n",
       "      <td>0</td>\n",
       "      <td>0</td>\n",
       "      <td>0</td>\n",
       "      <td>0</td>\n",
       "      <td>0</td>\n",
       "      <td>0</td>\n",
       "      <td>0</td>\n",
       "      <td>0</td>\n",
       "      <td>0</td>\n",
       "      <td>0</td>\n",
       "    </tr>\n",
       "    <tr>\n",
       "      <th>799</th>\n",
       "      <td>0</td>\n",
       "      <td>0</td>\n",
       "      <td>0</td>\n",
       "      <td>0</td>\n",
       "      <td>0</td>\n",
       "      <td>0</td>\n",
       "      <td>0</td>\n",
       "      <td>0</td>\n",
       "      <td>0</td>\n",
       "      <td>0</td>\n",
       "      <td>...</td>\n",
       "      <td>0</td>\n",
       "      <td>0</td>\n",
       "      <td>0</td>\n",
       "      <td>0</td>\n",
       "      <td>0</td>\n",
       "      <td>0</td>\n",
       "      <td>0</td>\n",
       "      <td>0</td>\n",
       "      <td>0</td>\n",
       "      <td>0</td>\n",
       "    </tr>\n",
       "    <tr>\n",
       "      <th>800</th>\n",
       "      <td>0</td>\n",
       "      <td>0</td>\n",
       "      <td>0</td>\n",
       "      <td>0</td>\n",
       "      <td>0</td>\n",
       "      <td>0</td>\n",
       "      <td>0</td>\n",
       "      <td>0</td>\n",
       "      <td>0</td>\n",
       "      <td>0</td>\n",
       "      <td>...</td>\n",
       "      <td>0</td>\n",
       "      <td>0</td>\n",
       "      <td>0</td>\n",
       "      <td>0</td>\n",
       "      <td>0</td>\n",
       "      <td>0</td>\n",
       "      <td>0</td>\n",
       "      <td>0</td>\n",
       "      <td>0</td>\n",
       "      <td>0</td>\n",
       "    </tr>\n",
       "    <tr>\n",
       "      <th>801</th>\n",
       "      <td>0</td>\n",
       "      <td>0</td>\n",
       "      <td>0</td>\n",
       "      <td>0</td>\n",
       "      <td>0</td>\n",
       "      <td>0</td>\n",
       "      <td>0</td>\n",
       "      <td>0</td>\n",
       "      <td>0</td>\n",
       "      <td>0</td>\n",
       "      <td>...</td>\n",
       "      <td>0</td>\n",
       "      <td>0</td>\n",
       "      <td>0</td>\n",
       "      <td>0</td>\n",
       "      <td>0</td>\n",
       "      <td>0</td>\n",
       "      <td>0</td>\n",
       "      <td>0</td>\n",
       "      <td>0</td>\n",
       "      <td>0</td>\n",
       "    </tr>\n",
       "  </tbody>\n",
       "</table>\n",
       "<p>802 rows × 5352 columns</p>\n",
       "</div>"
      ],
      "text/plain": [
       "     00  04  05  09  10  10 battery  10 days  10 desktop  10 minutes  \\\n",
       "0     0   0   0   0   0           0        0           0           0   \n",
       "1     0   0   0   0   0           0        0           0           0   \n",
       "2     0   0   0   0   1           0        1           0           0   \n",
       "3     0   0   0   0   1           0        0           0           0   \n",
       "4     0   0   0   0   0           0        0           0           0   \n",
       "..   ..  ..  ..  ..  ..         ...      ...         ...         ...   \n",
       "797   0   0   0   0   0           0        0           0           0   \n",
       "798   0   0   0   0   0           0        0           0           0   \n",
       "799   0   0   0   0   0           0        0           0           0   \n",
       "800   0   0   0   0   0           0        0           0           0   \n",
       "801   0   0   0   0   0           0        0           0           0   \n",
       "\n",
       "     10 month  ...  youtube video  youtube videos  yt  yt music  zero  \\\n",
       "0           0  ...              0               0   0         0     0   \n",
       "1           0  ...              0               0   0         0     0   \n",
       "2           0  ...              0               0   0         0     0   \n",
       "3           0  ...              0               0   0         0     0   \n",
       "4           0  ...              0               0   0         0     0   \n",
       "..        ...  ...            ...             ...  ..       ...   ...   \n",
       "797         0  ...              0               0   0         0     0   \n",
       "798         0  ...              0               0   0         0     0   \n",
       "799         0  ...              0               0   0         0     0   \n",
       "800         0  ...              0               0   0         0     0   \n",
       "801         0  ...              0               0   0         0     0   \n",
       "\n",
       "     zero issues  zoom  zoom app  zoom video  zoomed  \n",
       "0              0     0         0           0       0  \n",
       "1              0     0         0           0       0  \n",
       "2              0     0         0           0       0  \n",
       "3              0     0         0           0       0  \n",
       "4              0     0         0           0       0  \n",
       "..           ...   ...       ...         ...     ...  \n",
       "797            0     0         0           0       0  \n",
       "798            0     0         0           0       0  \n",
       "799            0     0         0           0       0  \n",
       "800            0     0         0           0       0  \n",
       "801            0     0         0           0       0  \n",
       "\n",
       "[802 rows x 5352 columns]"
      ]
     },
     "execution_count": 136,
     "metadata": {},
     "output_type": "execute_result"
    }
   ],
   "source": [
    "# expt\n",
    "tf2"
   ]
  },
  {
   "cell_type": "code",
   "execution_count": 137,
   "metadata": {},
   "outputs": [
    {
     "data": {
      "image/png": "[encoded data removed]",
      "text/plain": [
       "<Figure size 1080x432 with 1 Axes>"
      ]
     },
     "metadata": {
      "needs_background": "light"
     },
     "output_type": "display_data"
    }
   ],
   "source": [
    "# plot 30 most used words\n",
    "word_counts.sort_values(['googlehome','googlepixel'], ascending=False).drop('sum', axis=1).head(30).\\\n",
    "plot(kind='bar',figsize=(15,6),fontsize=12,title='Top 30 common words across reddits');"
   ]
  },
  {
   "cell_type": "code",
   "execution_count": 33,
   "metadata": {},
   "outputs": [
    {
     "name": "stdout",
     "output_type": "stream",
     "text": [
      "googlehome total posts: 824, word count: 39648.0\n",
      "googlepixel total posts: 802, word count: 45369.0\n"
     ]
    }
   ],
   "source": [
    "print(f\"googlehome total posts: {df_gh1.shape[0]}, word count: {word_counts['googlehome'].sum()}\")\n",
    "print(f\"googlepixel total posts: {df_gp1.shape[0]}, word count: {word_counts['googlepixel'].sum()}\")"
   ]
  },
  {
   "cell_type": "markdown",
   "metadata": {},
   "source": [
    "While the word `google` is unexpectedly common with 1731 instances, an interestingly observation is that it is not as prevalent for google pixel posts compared to google home. This could be due to consumers referring the google handphone simply as `pixel`. \n",
    "For (binary) classification problem, the ideal case is perfect separation in features for the classes. However, this is rarely the case in actual world environment. \n",
    "\n",
    "To improve generalizability of the model, certain words that help with distinct classification are also removed. These are (`First set words`): ['google', 'home', 'google home', 'nest', 'mini', 'hub' and 'pixel']. Observe that there are words that are common between `googlehome` and `googlepixel`. We will also remove words (`Second set words`) that have following two characteristics:\n",
    "- significant overlaps (smallest difference in word count occurrence in both classes)\n",
    "- occur frequently. From the plot above, word count occurrence of more than 200 is determined emphirically to be a suitable  measure. \n",
    "\n",
    "The approach would thus be to evaluate model performance on removal of `First set words` followed by removing both `First set words` and `Second set words`. "
   ]
  },
  {
   "cell_type": "code",
   "execution_count": 34,
   "metadata": {},
   "outputs": [
    {
     "data": {
      "text/html": [
       "<div>\n",
       "<style scoped>\n",
       "    .dataframe tbody tr th:only-of-type {\n",
       "        vertical-align: middle;\n",
       "    }\n",
       "\n",
       "    .dataframe tbody tr th {\n",
       "        vertical-align: top;\n",
       "    }\n",
       "\n",
       "    .dataframe thead th {\n",
       "        text-align: right;\n",
       "    }\n",
       "</style>\n",
       "<table border=\"1\" class=\"dataframe\">\n",
       "  <thead>\n",
       "    <tr style=\"text-align: right;\">\n",
       "      <th></th>\n",
       "      <th>googlehome</th>\n",
       "      <th>googlepixel</th>\n",
       "      <th>sum</th>\n",
       "      <th>gap</th>\n",
       "    </tr>\n",
       "  </thead>\n",
       "  <tbody>\n",
       "    <tr>\n",
       "      <th>work</th>\n",
       "      <td>150.0</td>\n",
       "      <td>158.0</td>\n",
       "      <td>308.0</td>\n",
       "      <td>8.0</td>\n",
       "    </tr>\n",
       "    <tr>\n",
       "      <th>time</th>\n",
       "      <td>164.0</td>\n",
       "      <td>174.0</td>\n",
       "      <td>338.0</td>\n",
       "      <td>10.0</td>\n",
       "    </tr>\n",
       "    <tr>\n",
       "      <th>use</th>\n",
       "      <td>197.0</td>\n",
       "      <td>177.0</td>\n",
       "      <td>374.0</td>\n",
       "      <td>20.0</td>\n",
       "    </tr>\n",
       "    <tr>\n",
       "      <th>ve</th>\n",
       "      <td>254.0</td>\n",
       "      <td>293.0</td>\n",
       "      <td>547.0</td>\n",
       "      <td>39.0</td>\n",
       "    </tr>\n",
       "  </tbody>\n",
       "</table>\n",
       "</div>"
      ],
      "text/plain": [
       "      googlehome  googlepixel    sum   gap\n",
       "work       150.0        158.0  308.0   8.0\n",
       "time       164.0        174.0  338.0  10.0\n",
       "use        197.0        177.0  374.0  20.0\n",
       "ve         254.0        293.0  547.0  39.0"
      ]
     },
     "execution_count": 34,
     "metadata": {},
     "output_type": "execute_result"
    }
   ],
   "source": [
    "# find words with \n",
    "# 1. significant overlaps\n",
    "# 2. measure by gap (difference of word count between googlehome & googlepixel class)\n",
    "# 3. identify the more significant occuring ones by population proportion\n",
    "word_counts['gap'] = abs(word_counts['googlehome'] - word_counts['googlepixel'])\n",
    "# sort by most used values\n",
    "word_counts.sort_values(['gap'], ascending=True).loc[(word_counts['sum']>300) & (word_counts['gap']<50)]"
   ]
  },
  {
   "cell_type": "code",
   "execution_count": 35,
   "metadata": {},
   "outputs": [
    {
     "data": {
      "text/html": [
       "<div>\n",
       "<style scoped>\n",
       "    .dataframe tbody tr th:only-of-type {\n",
       "        vertical-align: middle;\n",
       "    }\n",
       "\n",
       "    .dataframe tbody tr th {\n",
       "        vertical-align: top;\n",
       "    }\n",
       "\n",
       "    .dataframe thead th {\n",
       "        text-align: right;\n",
       "    }\n",
       "</style>\n",
       "<table border=\"1\" class=\"dataframe\">\n",
       "  <thead>\n",
       "    <tr style=\"text-align: right;\">\n",
       "      <th></th>\n",
       "      <th>googlehome</th>\n",
       "      <th>googlepixel</th>\n",
       "      <th>sum</th>\n",
       "      <th>gap</th>\n",
       "    </tr>\n",
       "  </thead>\n",
       "  <tbody>\n",
       "    <tr>\n",
       "      <th>does</th>\n",
       "      <td>138.0</td>\n",
       "      <td>140.0</td>\n",
       "      <td>278.0</td>\n",
       "      <td>2.0</td>\n",
       "    </tr>\n",
       "    <tr>\n",
       "      <th>work</th>\n",
       "      <td>150.0</td>\n",
       "      <td>158.0</td>\n",
       "      <td>308.0</td>\n",
       "      <td>8.0</td>\n",
       "    </tr>\n",
       "    <tr>\n",
       "      <th>time</th>\n",
       "      <td>164.0</td>\n",
       "      <td>174.0</td>\n",
       "      <td>338.0</td>\n",
       "      <td>10.0</td>\n",
       "    </tr>\n",
       "    <tr>\n",
       "      <th>want</th>\n",
       "      <td>139.0</td>\n",
       "      <td>120.0</td>\n",
       "      <td>259.0</td>\n",
       "      <td>19.0</td>\n",
       "    </tr>\n",
       "    <tr>\n",
       "      <th>use</th>\n",
       "      <td>197.0</td>\n",
       "      <td>177.0</td>\n",
       "      <td>374.0</td>\n",
       "      <td>20.0</td>\n",
       "    </tr>\n",
       "    <tr>\n",
       "      <th>using</th>\n",
       "      <td>129.0</td>\n",
       "      <td>162.0</td>\n",
       "      <td>291.0</td>\n",
       "      <td>33.0</td>\n",
       "    </tr>\n",
       "    <tr>\n",
       "      <th>way</th>\n",
       "      <td>155.0</td>\n",
       "      <td>121.0</td>\n",
       "      <td>276.0</td>\n",
       "      <td>34.0</td>\n",
       "    </tr>\n",
       "    <tr>\n",
       "      <th>assistant</th>\n",
       "      <td>138.0</td>\n",
       "      <td>102.0</td>\n",
       "      <td>240.0</td>\n",
       "      <td>36.0</td>\n",
       "    </tr>\n",
       "    <tr>\n",
       "      <th>ve</th>\n",
       "      <td>254.0</td>\n",
       "      <td>293.0</td>\n",
       "      <td>547.0</td>\n",
       "      <td>39.0</td>\n",
       "    </tr>\n",
       "    <tr>\n",
       "      <th>tried</th>\n",
       "      <td>156.0</td>\n",
       "      <td>116.0</td>\n",
       "      <td>272.0</td>\n",
       "      <td>40.0</td>\n",
       "    </tr>\n",
       "  </tbody>\n",
       "</table>\n",
       "</div>"
      ],
      "text/plain": [
       "           googlehome  googlepixel    sum   gap\n",
       "does            138.0        140.0  278.0   2.0\n",
       "work            150.0        158.0  308.0   8.0\n",
       "time            164.0        174.0  338.0  10.0\n",
       "want            139.0        120.0  259.0  19.0\n",
       "use             197.0        177.0  374.0  20.0\n",
       "using           129.0        162.0  291.0  33.0\n",
       "way             155.0        121.0  276.0  34.0\n",
       "assistant       138.0        102.0  240.0  36.0\n",
       "ve              254.0        293.0  547.0  39.0\n",
       "tried           156.0        116.0  272.0  40.0"
      ]
     },
     "execution_count": 35,
     "metadata": {},
     "output_type": "execute_result"
    }
   ],
   "source": [
    "word_counts.sort_values(['gap'], ascending=True).loc[(word_counts['sum']>200) & (word_counts['gap']<50)]"
   ]
  },
  {
   "cell_type": "markdown",
   "metadata": {},
   "source": [
    "The top 10 words commonly overlapping words are [`does`, `work`, `time`, `want`, `use`, `using`, `way`, `assistant`, `ve`, `tried`] are the more common words among the two reddits with significant overlap (similar distribution, with word count aprrox. 200). To measure the impact on model predictive accuracy, it is proposed compare a logreg model without removing these key words and another logreg model with these key words removed.  "
   ]
  },
  {
   "cell_type": "markdown",
   "metadata": {},
   "source": [
    "### Word Art\n",
    "---\n",
    "Following the EDA process, we received a request from the marketing department. They wanted to understand the hot topics for google home and google pixel by inference of the keywords from Reddit posts. While word cloud is technically not data science, we make a small detour to help them out."
   ]
  },
  {
   "cell_type": "code",
   "execution_count": 36,
   "metadata": {},
   "outputs": [],
   "source": [
    "# Import libraries\n",
    "from wordcloud import WordCloud, STOPWORDS, ImageColorGenerator\n",
    "\n",
    "from matplotlib.pyplot import imread\n",
    "%matplotlib inline\n",
    "\n",
    "import numpy as np"
   ]
  },
  {
   "cell_type": "code",
   "execution_count": 37,
   "metadata": {},
   "outputs": [],
   "source": [
    "# create a list of all the text from googlehome\n",
    "wa_gh = pd.DataFrame(cvec.fit_transform(googlehome_tdf['selftext']).toarray(), columns=cvec.get_feature_names())\n",
    "all_textgh = []\n",
    "for x in wa_gh:\n",
    "    all_textgh.append(x)"
   ]
  },
  {
   "cell_type": "code",
   "execution_count": 38,
   "metadata": {},
   "outputs": [],
   "source": [
    "# create a list of all the text from googlepixel\n",
    "wa_gp = pd.DataFrame(cvec.fit_transform(googlepixel_tdf['selftext']).toarray(), columns=cvec.get_feature_names())\n",
    "all_textgp = []\n",
    "for x in wa_gp:\n",
    "    all_textgp.append(x)"
   ]
  },
  {
   "cell_type": "code",
   "execution_count": 39,
   "metadata": {},
   "outputs": [],
   "source": [
    "# format it into str\n",
    "# In Python 3, unicode has been renamed to str.\n",
    "googlehome_text = str(all_textgh)\n",
    "googlepixel_text = str(all_textgp)"
   ]
  },
  {
   "cell_type": "code",
   "execution_count": 40,
   "metadata": {},
   "outputs": [],
   "source": [
    "# Define function to generate wordart (wordcloud)\n",
    "def cloud(source_text):\n",
    "    stop_words = [\"ve'\"] + list(STOPWORDS)\n",
    "    wordcloud = WordCloud(max_words=200,\\\n",
    "                          stopwords=stop_words,\\\n",
    "                          background_color=\"white\",\\\n",
    "                          min_font_size=10,\\\n",
    "                          colormap='viridis').generate(source_text)\n",
    "    \n",
    "    plt.figure(figsize=(12,12))\n",
    "    plt.imshow(wordcloud)\n",
    "    plt.axis(\"off\")\n",
    "    plt.show()"
   ]
  },
  {
   "cell_type": "code",
   "execution_count": 41,
   "metadata": {},
   "outputs": [
    {
     "data": {
      "image/png": "[encoded data removed]",
      "text/plain": [
       "<Figure size 864x864 with 1 Axes>"
      ]
     },
     "metadata": {
      "needs_background": "light"
     },
     "output_type": "display_data"
    }
   ],
   "source": [
    "# Generate word cloud image for googlehome\n",
    "cloud(googlehome_text)"
   ]
  },
  {
   "cell_type": "code",
   "execution_count": 42,
   "metadata": {},
   "outputs": [
    {
     "data": {
      "image/png": "[encoded data removed]",
      "text/plain": [
       "<Figure size 864x864 with 1 Axes>"
      ]
     },
     "metadata": {
      "needs_background": "light"
     },
     "output_type": "display_data"
    }
   ],
   "source": [
    "# Generate word cloud image for googlepixel\n",
    "cloud(googlepixel_text)"
   ]
  },
  {
   "cell_type": "markdown",
   "metadata": {},
   "source": [
    "### Model Prep\n",
    "---\n",
    "In model learning, data is usually segregated into \n",
    "- training set; where model learns from the pattern within this set of data,\n",
    "- validate set; where model or group of models are evaluated. This is the performance the model is expected to have on unseen data.  \n",
    "- test set; the best performing model is then shortlisted and tested on the test set.\n",
    "\n",
    "We first split data into i) train and test set, then split the train set into train subsets and validate subsets.\n",
    "\n",
    "Dataleakage is an issue where a learned model is overfitted on the train data and not generalize well to new, unseen data. This can be mitigated by spliting the data upfront, fitting only on the train set and transform the validate set. This is to prevent data leakage from the validate set to the train set. (Similar principle applies on test set). This also means excercise caution not to inadvertently countvectorize (a transformer) the data first before doing train-test-split."
   ]
  },
  {
   "cell_type": "code",
   "execution_count": 43,
   "metadata": {},
   "outputs": [],
   "source": [
    "# Create Train-Test split (80-20 split)\n",
    "# X is selftext. y is googlehome.\n",
    "X_train,X_test,y_train,y_test = train_test_split(df[['selftext']],df['googlehome'],test_size=0.20,\\\n",
    "                                                 stratify=df['googlehome'],\\\n",
    "                                                 random_state=42)"
   ]
  },
  {
   "cell_type": "code",
   "execution_count": 44,
   "metadata": {},
   "outputs": [
    {
     "name": "stdout",
     "output_type": "stream",
     "text": [
      "1    659\n",
      "0    641\n",
      "Name: googlehome, dtype: int64\n"
     ]
    },
    {
     "data": {
      "text/plain": [
       "1    165\n",
       "0    161\n",
       "Name: googlehome, dtype: int64"
      ]
     },
     "execution_count": 44,
     "metadata": {},
     "output_type": "execute_result"
    }
   ],
   "source": [
    "# Equal proportion of classes split across train and test set\n",
    "print(y_train.value_counts())\n",
    "y_test.value_counts()"
   ]
  },
  {
   "cell_type": "code",
   "execution_count": 45,
   "metadata": {},
   "outputs": [],
   "source": [
    "# Create Train-Validate subsets (80-20 split) from the parent Train set\n",
    "# X is selftext. y is googlehome.\n",
    "X_trainf,X_validate,y_trainf,y_validate = train_test_split(X_train[['selftext']],y_train,test_size=0.20,\\\n",
    "                                                           stratify=y_train,random_state=42)"
   ]
  },
  {
   "cell_type": "code",
   "execution_count": 46,
   "metadata": {},
   "outputs": [
    {
     "name": "stdout",
     "output_type": "stream",
     "text": [
      "Lines in train set: 1040.\n",
      "Lines in validate set: 260.\n",
      "Lines in test set: 326.\n"
     ]
    }
   ],
   "source": [
    "# Lines of text in train set, validate set and test set\n",
    "lines_trainf = X_trainf.shape[0]\n",
    "lines_validate = X_validate.shape[0]\n",
    "lines_test = X_test.shape[0]\n",
    "print(f\"Lines in train set: {lines_trainf}.\")\n",
    "print(f\"Lines in validate set: {lines_validate}.\")\n",
    "print(f\"Lines in test set: {lines_test}.\")"
   ]
  },
  {
   "cell_type": "code",
   "execution_count": 47,
   "metadata": {},
   "outputs": [],
   "source": [
    "# Instantiate porterstemmer\n",
    "p_stemmer = PorterStemmer()"
   ]
  },
  {
   "cell_type": "code",
   "execution_count": 48,
   "metadata": {},
   "outputs": [],
   "source": [
    "# Define function to convert a raw selftext to a string of words\n",
    "# The input is a single string (a raw selftext), and \n",
    "# the output is a single string (a preprocessed selftext)\n",
    "\n",
    "def selftext_to_words(raw_selftext):\n",
    "    \n",
    "    # 1. Remove HTML.\n",
    "    selftext_text = BeautifulSoup(raw_selftext).get_text()\n",
    "    \n",
    "    # 2. Remove non-letters.\n",
    "    letters_only = re.sub(\"[^a-zA-Z]\", \" \", selftext_text)\n",
    "    \n",
    "    # 3. Convert to lower case, split into individual words\n",
    "    words = letters_only.lower().split()\n",
    "    \n",
    "    # 4. In Python, searching a set is much faster than searching\n",
    "    # a list, so convert the stopwords to a set.\n",
    "    stops = set(stopwords.words('english'))\n",
    "\n",
    "    # 5. Remove stopwords.\n",
    "    meaningful_words = [w for w in words if w not in stops]\n",
    "    \n",
    "    # 5.5 Stemming of words\n",
    "    meaningful_words = [p_stemmer.stem(w) for w in words]\n",
    "    \n",
    "    # 6. Join the words back into one string separated by space, \n",
    "    # and return the result\n",
    "    return(\" \".join(meaningful_words))"
   ]
  },
  {
   "cell_type": "code",
   "execution_count": 49,
   "metadata": {},
   "outputs": [
    {
     "name": "stderr",
     "output_type": "stream",
     "text": [
      "C:\\Users\\65943\\anaconda3\\lib\\site-packages\\bs4\\__init__.py:389: UserWarning: \"https://imgur.com/a/Wp9EwEn\" looks like a URL. Beautiful Soup is not an HTTP client. You should probably use an HTTP client like requests to get the document behind the URL, and feed that document to Beautiful Soup.\n",
      "  ' that document to Beautiful Soup.' % decoded_markup\n",
      "C:\\Users\\65943\\anaconda3\\lib\\site-packages\\bs4\\__init__.py:389: UserWarning: \"https://imgur.com/a/obeUnIH\" looks like a URL. Beautiful Soup is not an HTTP client. You should probably use an HTTP client like requests to get the document behind the URL, and feed that document to Beautiful Soup.\n",
      "  ' that document to Beautiful Soup.' % decoded_markup\n",
      "C:\\Users\\65943\\anaconda3\\lib\\site-packages\\bs4\\__init__.py:389: UserWarning: \"https://imgur.com/a/telb95S\" looks like a URL. Beautiful Soup is not an HTTP client. You should probably use an HTTP client like requests to get the document behind the URL, and feed that document to Beautiful Soup.\n",
      "  ' that document to Beautiful Soup.' % decoded_markup\n"
     ]
    },
    {
     "name": "stdout",
     "output_type": "stream",
     "text": [
      "Clean & parse 1000 of 1626.\n",
      "Clean and parse 1626 of 1626.\n"
     ]
    }
   ],
   "source": [
    "#Initialize an empty list to hold the clean reviews.\n",
    "X_trainf_clean = []\n",
    "X_validate_clean = []\n",
    "X_test_clean = []\n",
    "\n",
    "#For train set\n",
    "# Instantiate counter.\n",
    "j = 0\n",
    "for text in X_trainf['selftext']:\n",
    "    \"\"\"Convert text to words, then append to X_trainf_clean.\"\"\"\n",
    "    X_trainf_clean.append(selftext_to_words(text))\n",
    "    \n",
    "    # If the index is divisible by 1000, print a message.\n",
    "    if (j + 1) % 1000 == 0:\n",
    "        print(f'Clean & parse {j + 1} of {lines_trainf+lines_validate+lines_test}.')\n",
    "    \n",
    "    j += 1\n",
    "    \n",
    "# For validate set\n",
    "for text in X_validate['selftext']:\n",
    "    \"\"\"Convert text to words, then append to X_validate_clean.\"\"\"\n",
    "    X_validate_clean.append(selftext_to_words(text))\n",
    "    \n",
    "    # If the index is divisible by 1629, print a message.\n",
    "    if (j + 1) % (lines_trainf+lines_validate+lines_test) == 0:\n",
    "        print(f'Clean and parse {j + 1} of {lines_train+lines_test}.')\n",
    "    \n",
    "    j += 1\n",
    "    \n",
    "# For test set\n",
    "for text in X_test['selftext']:\n",
    "    \"\"\"Convert text to words, then append to X_test_clean.\"\"\"\n",
    "    X_test_clean.append(selftext_to_words(text))\n",
    "    \n",
    "    # If the index is divisible by 1629, print a message.\n",
    "    if (j + 1) % (lines_trainf+lines_validate+lines_test) == 0:\n",
    "        print(f'Clean and parse {j + 1} of {lines_trainf+lines_validate+lines_test}.')\n",
    "    \n",
    "    j += 1"
   ]
  },
  {
   "cell_type": "markdown",
   "metadata": {},
   "source": [
    "### Baseline accuracy\n",
    "---\n",
    "We first derive the baseline accuracy so as to be able to determine if the subsequent models are better than the baseline (null) model (predicting the plurality class)."
   ]
  },
  {
   "cell_type": "code",
   "execution_count": 50,
   "metadata": {},
   "outputs": [
    {
     "data": {
      "text/plain": [
       "1    0.506135\n",
       "0    0.493865\n",
       "Name: googlehome, dtype: float64"
      ]
     },
     "execution_count": 50,
     "metadata": {},
     "output_type": "execute_result"
    }
   ],
   "source": [
    "y_test.value_counts(normalize=True)"
   ]
  },
  {
   "cell_type": "markdown",
   "metadata": {},
   "source": [
    "The Baseline accuracy is the percentage of the majority class. In this case, the baseline accuracy is 0.506135. \n",
    "This serves as benchmark for measuring model performance (i.e. model accuracy should be higher than this baseline)."
   ]
  },
  {
   "cell_type": "code",
   "execution_count": 138,
   "metadata": {},
   "outputs": [
    {
     "data": {
      "text/plain": [
       "['so i bought pixel after my phone die and i m struggl sinc i m have hard time to unlock my phone when i m lie or in the night becaus it doe not recogn my face the button are not exist sometim i want to do home it it scroll down sometim i want to scroll to the side in the play store and it click back on android click home twice will bring my last use app here there is some weird diagon swing that i haven t figur out yet or manag to do it of the time sinc there are no button i find it harder to oper it in one hand but mayb the fact that i don t have cover for it yet is the reason so i guess that some folk here made thi transit too do you guy have some tip to make the use experi more smooth',\n",
       " 'hello i have a pixel xl the last time i use it wa about a week ago and i use it again today and notic it wa dead so i charg it and it came on but wa on a load screen with the googl logo for the whole night and i tri to restart it from there and i haven t been abl to turn it on sinc',\n",
       " 'but make sure no kid are around http photo app goo gl sgoz ob wwmrh we',\n",
       " 'i ve had my p axl sinc launch still haven t gotten use to googl photo came from galaxi for year switch to simpl galleri and i m sick of it lose pictur did a littl read through the sub and found piktur but a few thread are older seem like someth i d like anyon have ani fault with it i should watch for',\n",
       " 'i had a voicemail with case id and the number to call it said that my order went through and i need to updat my ship address and payment inform i call the number after hour and the bud were out of stock and that my order wa cancel is there anyon who got the bud seem like they receiv a batch today',\n",
       " 'when i first set up my devic it took hour but afterward they work flawlessli as of recent i have notic a seriou chang in all devic in term of their abil to execut command accur or even at all devic one day work then suddenli i either cannot find that devic or it s not set up chromecast stutter lag or straight up skip second of video spotifi will say it is be use by anoth account will suddenli stop and play through my phone or it will play a complet differ song than request as of late all devic no longer respond to my wife s voic my wife ha to yell to me in order to turn on light as it will tell her that the devic isn t work or it will tell her it receiv her command yet do noth i will then say the same command and it will do it perfectli and it s not becaus server are overload with quarantin caus thi shit start befor hell broke loos edit devic are clean also play with set and had to re add my wife as a member it show her as a member with onli devic the fuck now it doesn t recogn livingroom tv factori reset on livingroom tv doesn t recogn livingroom tv',\n",
       " 'i have a bit of delay on my new pixel bud about a quarter to a half of a second i have seen in mani review that there is no notic delay on these but i am not abl to game or anyth with them becaus of the delay is there ani set i need to chang to optim latenc i wasn t expect much sinc they are bluetooth after all but if there is a way to minim latenc i would like to do that',\n",
       " 'anyon have similar issu sinc lastest updat and or have a fix plug have been work smoothli until thi last round of updat',\n",
       " 'okay friend my googl assist ha stop talk to me when i ask question when i access the assist either by say okay googl squeez the side or tap the app the assist wake up color bar move and display the assist s respons such as thi is what i found and the answer inform to my question but no verbal assist volum are up if i go into googl more set googl assist assist assist voic the assist will talk audibl in all of the or differ voic but when i go back and access the assist as i state abov the assist will do what i ask but it doesn t verbal the respons i have check everyth i can think of for the past week to no avail thi is drive me nut thank for ani help assist no pun intend edit further updat went into safe mode again i then tap the assist icon on the googl search bar the first two time the assist did what i ask but did not verbal the third and fourth fifth and sixth time it final respond verbal reboot and tap the icon assist did what i ask but no verbal respons thi woman is kill me and i cannot find an app that i upload recent that would have affect the assist voic it get weirder a bit later i wa do a search in googl manual tap the search bar and get the screen with the keyboard and the search suggest as you type slow me i had forgotten about the microphon icon at the top of the page i tap the icon the assist beep i ask a question and the assist display my answer on screen and wtf answer verbal howev it didn t answer in the british femal voic that i have set but in the default american femal voic of cours tri access the assist again by the usual method icon on home screen search bar squeez the side or tap the assist app icon and of cours wouldn t you know the assist display answer on screen but no verbal respons what did i do to piss off thi english woman',\n",
       " 'i have my tv a vizio hook to my googl home when i first hook it up i could turn my tv off and on but now when i say turn tv off it say sorri power control not yet support i can still turn the tv on but it will not turn it off anymor can someon pleas help',\n",
       " 'would it not be awesom if the new pixel a come with a color variant where the camera bump is white like opposit of the white model where there s a black camera bump and i d like if someon here make a photoshop imag of that',\n",
       " 'we have multipl mini hub and the guard for our secur anyway i have notic that one of our googl hub keep engag as if someon said hey googl even though nobodi is say it anyon have thi problem befor',\n",
       " 'first gen pixel xl here person the best phone i ve ever use liter no issu in the year i ve had with the except of batteri life understand so a friend of mine told me about the offer i had no intent of get a new one i wa wait till octob to get a new one but the discount is too tempt fingerprint scanner on the back is the most intuit featur i ve seen on a smartphon and veri hard to let go if i could carv one myself on the newer pixel i would drive down to the nearest best buy thi even',\n",
       " 'so i don t use the paid storag servic my free gb is near full capac space use by drive gmail googl photo photo were upload in origin qualiti befor i had pixel s free storag is there as way i can see which photo were upload that are take space so i can back them elsewher and delet them',\n",
       " 'the kid like listen to stori podcast while they sleep and i d like to be abl to listen to it and the other stori podcast i m subscrib to but everi time i tell googl to listen to my podcast it give me a spiel about episod and start off with the joe rogan experi never heard of the guy befor don t want to listen to the guy not subscrib to the guy ani tip',\n",
       " 'look like they will be deliv around the th for me oof',\n",
       " 'i sent it in last week they got it friday still noth in my bank account ani idea of how long it will take to get a refund',\n",
       " 'i have a googl nest hub and a googl mini when start a broadcast on the nest hub it ll send a messag to the mini but won t broadcast the messag on itself when start a broadcast on the mini it ll play the messag on itself but not the hub when start a broadcast on my phone it ll play a messag on the mini onli thi lead me to believ the issu is with the nest hub night mode wa on the nest hub i disabl it turn the hub off and on but it still didn t fix the issu dnd wa never on for the hub or mini anyon have ani other suggest to fix thi thank in advanc',\n",
       " 'hello just recent move from an s to a pixel xl i like everyth about thi phone except one thing so far with the samsung in the bluetooth menu for the connect to my car there wa an option to play messag so if i m drive and not plug in it would ding and read the messag over the radio that option doe not show up on the pixel the onli way i can get it to read messag is have aa connect is that how it work or am i miss a step somewher i realli prefer to keep it not plug in unless i m on a long drive somewher thank',\n",
       " 'i m wonder if the adapt sound mode is fulli bake into the new pixel bud or whether there is some tie back to your android phone retir for it to function is assum there the former case but can t find anyth that say one way or the other i m about to head out to my garag for a bit with my chromebook and zoom and will be use my pb with constantli chang sound so mayb i ll find out',\n",
       " 'it suddenli ha no sound what so ever then back to normal in just sec is it just me',\n",
       " 'hi guy and gal to enabl my grandmoth to commun better with my famili in lockdown i m realli worri about her mental state i want to buy her a googl nest hub max for her birthday later thi month so she can receiv video call with the rest of us and get us into her home figur need your advic though my plan will be to buy the devic and do as much set up as possibl in my own place as my grandma will be and it not remot possibl for me to walk her through it and then travel to her connect it to her router from outsid her apart and leav it outsid sanitis so she can bring it in and just turn it on and go i have determin i can get within metr of her front door enough to pick up her internet signal and connect to an extend power lead so as to avoid me go anywher near here or insid i plan to be entir suit up in protect gear glove goggl mask apron as well as sanitis anyth i touch includ the devic i ll be actual in the stairwel of her build where she never goe as well as spray me feet and wear minim woolli cloth i can do it safe howev i ve never use a best hub max befor how much can i do befor i get to her place doe she need an email address regist specif to the devic can i set it up on my wifi and she just connect to her and bingo it s readi if i set it up outsid her door and unplug it so it is off when she move it back in if she plug it back in will it just turn on and be readi to go immedi no sign in need just plug and play i can call her immedi if she want to turn it in and off at night will it ever need her to do anyth other than click answer when we call realli appreci your help thank',\n",
       " 'so i instal the latest updat on my pixel just thi morn australia and sinc then i got two random call from my mum but she didn t actual call me i didn t answer it in time to see what it wa and my girlfriend just messag me ask whi i call her even though i didn t thought thi wa an issu with my phone but could it also possibl be one of those scam thing where someon is call number by spoof other number it just coincident that they re call my contact from my contact so i m tri to rule that out as a possibl x b am i the onli one so far',\n",
       " 'i am observ sever screen burn in issu on my pixel xl if anyon know how to resolv thi pleas let me know thank in advanc imag http photo app goo gl incnxhmybfzbnn',\n",
       " 'i use turn off my wifi in pixel xl dure night time but it is get turn on automat within few minut ani solut',\n",
       " 'what s is the opinion about the googl pixel a xl',\n",
       " 'i just like have immedi access to button like speaker the dialer mute etc at the onset and even in the middl of a call i might be nitpick but with the bubbl it add anoth tap to the process of quickli mute or go on and off the speaker mayb i ve notic it more these day sinc i m go confer call on my mobil more than i did befor the pandem either way i couldn t find a way to make the app go straight to the phone screen when answer a call anywher just wonder if anyon els is bother by thi featur',\n",
       " 'the product page onli say w power adaptor dc power jack there are no replac cord on the googl store and i can t get through to support i m fine with get a third parti adapt but i m afraid i ll buy someth that either doesn t work with the nest mini or will somehow fri it ha anyon els had to replac the cord if i get an adapt that is more than w is that a problem or is w just a minimum ani help would be appreci',\n",
       " 'so far i m like my bud overal music sound pretti good and the occasion youtub video i watch on my phone are well sync with the audio howev when pair with ani of my window machin an msi laptop with th gen intel i and desktop with th gen i s and asu rog b i motherboard there is notic latenc between the audio and video i plan on mostli use them with my phone but realli want to have the option of use them for pc game when i don t need voic chat i have a coupl other bluetooth headset that i ve use with these comput with no lag the differ i ve notic is that they support aptx and it doesn t seem like the pixel bud do ha anyon els been abl to use these with a window comput without lag if so what hardwar are there newer better bluetooth usb adapt i could use to solv thi',\n",
       " 'hi everyon so just about minut ago my pixel wa soft lock by sever tik tok notif that appear all at onc and rapidli flash between them i wa watch youtub at the time and the last notif stay on the screen and wa unrespons to ani input youtub itself work and i could paus start the video but upon somehow exit youtub a messag state system ui is not respond pop up anyon know what happen',\n",
       " 'so ha anyon actual gotten past the initi confirm email',\n",
       " 'i recent link my googl and nest account after i set up my nest hub max and even though i had member in my googl home my link process never show me the invit member screen and now i am the onli one with access to the nest home as it remov all the nest account member after the link i tri to invit peopl by via the nest app which redirect to the googl home app and give me the error it look like the invit to join thi home no longer exist doe anyon have ani idea about what i can do',\n",
       " 'curiou how mani peopl here that skip the pixel are interest in the a i person am i love my xl but it batteri life isn t what it use to be i am tempt to get the a mostli as i am not a fan of facial recognit and prefer to keep a fingerprint scanner i also love to take pictur but the extra len on the isn t one that i would make use of so i feel the a is the better choic for me',\n",
       " 'i just ask myself whi can t thi wallpap chang to the dark variant when darkmod activ when the sun rise i realli hope googl will updat more wallpap to support auto darkmod i hate it to chang the wallpap myself or stay at dark light mode all time x b exampl wallpap http photo app goo gl revex fwxyvc usa view poll http www reddit com poll gdwrym',\n",
       " 'i use to use the googl ambient sound in my bedtim routin but recent switch to sleep sound becaus of the wider array of sound avail howev sinc you re not abl to commun with the googl assist while use sleep sound i haven t found a way to do thi yet are there ani obviou solut to thi so i don t have to have a brightli lit screen on all night say screen off seem to onli work like out of time',\n",
       " 'as you see sleep timer set hasn t work for day thank to u theugli i have found a solut it may be a littl inconveni but it work instead of set sleep timer for an amount time you can tri set a sleep timer for specif time so it s a littl complic than the previou way sinc you need to know the time when set the timer',\n",
       " 'okay so thing you should know i wa veri bake and i realli like mayonnais i wa make food and put a veri veri larg heap of mayo on my plate and had my plate on my knee while eat forget i had my phone in my hand i tri to get some chip fri and the speaker end of my phone end up cover in mayo the sound wa extrem quiet and muffl as there wa mayo stuck in the speaker so i blast bass boost music for a while to tri blow it out eventu of the volum return and that s how it ha stay the qualiti ha drop drastic tho anyth with slight bass or anyth on fill volum sound s veri veri low qualiti ani tip on how i could clean the speaker or get rid of the mayo ohh i forgot to mention my phone is a googl pixel',\n",
       " 'for some reason whenev i have my bud connect and i open my camera my phone vibrat doesn t matter what app either if ig start to access the camera it vibrat not use a pixel phone it s a oneplu pro but i am on android sure it can be fix either with a firmwar updat or an updat to the bud app',\n",
       " 'doe anyon know of a dimmabl smart plug that work with googl assist that is uk pin plug',\n",
       " 'hey guy ha anyon use a og pixel xl to take a photo for a passport photo i m wonder if the qualiti is consid good enough to pass for a passport photo',\n",
       " 'i wa think thi morn how i would like to be abl to say good morn googl and a space heater would turn on in my garag on weekday if the temperatur is below degre i feel like other autom system have that do you think it ll ever come to googl anoth one i could see would be ok googl watch a movi where it turn on and dim the light onli if the sun ha alreadi set',\n",
       " 'i have a bit of a dilemma and i wa hope that the fine peopl of thi subreddit might be abl to help me come to a decis i upgrad to a pixel from my old essenti ph which still work just a bit slow purchas the pixel on with the sale price use synchroni financ with the phone arriv on after a few day with the phone i realli enjoy it but i think i made a mistak by onli get the instead of the xl i am still within my return period with googl so i can still send it back for a refund minu ship and a restock fee howev in the time it will take to send the phone back and await my refund the current sale on pixel will expir and i won t be abl to afford the xl at it s normal price i realli would like the xl and i don t mind go back to my essenti for a few more week or so if need be doe anyon think that googl will enact a perman price drop on the xl anytim soon like with the releas of the a or anyth or should i just suck it up and stand by my origin decis of the pixel ani advic would be greatli appreci',\n",
       " 'i have two roku bedroom and live room i went to chang the name of the roku in the live room in the googl home app but it didn t appear there but i can still cast to it no problem it appear to be complet undiscover in the home app',\n",
       " 'i do not know what featur i turn off but i am on track to get hr sot on my pixel xl which is amaz month old pixel from t mobil offer got it unlock and been use it sinc',\n",
       " 'i love my pixel it s still quick take awesom photo allow me to view and edit document present and i love squeez the phone to get to the assist i especi love take photo with my pixel and i know the pixel ha an incred camera especi for night shot it s a littl over two year old now and the batteri doesn t last longer than hour the charg port is loos and the usb c come out of the port way too easili and i have littl storag left on my phone the pixel is off right now and i m serious consid go for the gb version that be said i ve onli been do research for a coupl of day and have seen a lot of conflict advic about the pro and con of upgrad to the pixel what do you think is upgrad realli worth it should i wait for the next gen',\n",
       " 'is there ani way to make my googl home play turkish song everytim i tri to even pronounc it in english it never work i can make it work by spell the name but that make too long doe anyon have an idea although googl asist on my phone support turkish googl home doesnt',\n",
       " 'if i play music from either phone or macbook then is there a way to have both of these connect to the speaker via bluetooth all the time',\n",
       " 'i may be crazi but i have experienc the connect issu like a lot of you i got the ota updat for the may patch for my pixel today and updat i don t know what chang but i have been use my bud sinc and i have not had one drop or weird connect issu sinc go on hour now also bud are drain evenli now and they were all mess up befor i may be nut or mayb googl did slip someth in that help with bluetooth connect issu who know but all i know is it took someth i wa piss about and made it work for me at least anyon els edit punctuat correct',\n",
       " 'i have a floor lamp and a smart bulb in my sit room in googl home app they are group togeth if prefer tho if they were separ is thi even possibl',\n",
       " 'hey guy i just got my new pixel bud and i m curiou do you leav your bluetooth on all the time for the super speedi quick pair or do you turn it on and off view poll http www reddit com poll gffylx',\n",
       " 'foa i m sorri if thi wa answer alreadi i did search but found a lot of mix opinion therefor i decid to make a post when i first had contact with googl home i found it cool but i thought ok i m not gonna use that then i stay at an airbnb that had alexa and we use it everyday mostli to check the weather and play music our internet search and more complex question were frustrat then i did a comparison between googl home and alexa and decid to get googl nest mini second gener plu ultra turbo although it s two major issu are have to say hey googl ok googl everi time and depend on the environ it won t listen to you now i ve been studi more about it to justifi my purchas see which thing i can do on the short and long run long run be automat thing in my home on the short run i d like to use it to help me wake up now that i ve been work from home everyday i ve been have a hard time wake up xd so i wa think can i set up a routin that play a specif song when my alarm play i also use it to play music while i cook i read that it can read recip how good use is thi function also i would like to ask what were the first thing you did with you googl home nest mini one last thing i do have googl assist in my phone i ve tri creat thi wake up routin but then it ask me to choos a speaker i can t use my phone for that thank you',\n",
       " 'i uncov one unwrap og one hub unwrap hub and one home mini two tp link multi color light bulb and two tp link smart plug o i d like to know when i bought those first two item guess i ll keep them for backup oh wait now i rememb thanksgiv of last year and i bought them for backup lol home depot deal should i keep all the cabl that were in the empti box all my nest mini are in mini backpack are the cabl for all the devic the same power wise three usb and four barrel connector i ve got og nest hub home mini and nest mini in use i m in the mood mode to throw them all out but i guess i should save at least one of each type i don t now how like these thing are to need replac',\n",
       " 'so i m plan on buy the pixel bud next week when i get paid and i wa just wonder if there are ani tip or concern about them',\n",
       " 'as someon who ha a lot of kit and who know hi way around hi devic and a phone i find the whole experi to be veri pain the question they ask are probabl script and i don t necessarili have a solut to the problem i just wish there wa a process that more savvi user could follow to say ye i ve uninstal and reinstal the app no there are no updat ye i ve restart my devic no but i ve tri throw it out the window argh anyway just a littl rant',\n",
       " 'seem like the fingerprint sensor work well when i first got the phone last decemb now it won t read my print no matter what i do shortli after ad a new print ha anyon els found their sensor to be picki like thi it s frustrat can t login to ani of my app with the sensor',\n",
       " 'that hiss static kick in everi time sound is transmit through which includ short burst of nois like what i mention in the titl i have test it on and off and can notic the differ if you turn those featur off tri haptic instead of sound on keyboard that hiss will not activ dure silenc i know it s an unfortun workaround hope googl can elimin the issu via softwar i m not hold my breath as i think it s hardwar relat i had a pair of airpod that suffer through the issu softwar updat did not fix it an applecar replac did',\n",
       " 'i want to see if thi wa possibl as a babi monitor',\n",
       " 'silli question how do i tell which are the origin and which are the new one when buy onlin',\n",
       " 'we re consid a nest hub for our kitchen as we do a lot of cook exclus use new york time recip if you haven t tri them yet you won t regret it i ve read onlin that there is a site call rezeptho that allow you to add recip and access them through the nest hub my hesit in purchas the hub is that i ve onli found two brief post on reddit and a few googl forum post that discuss rezeptho work with the nest hub and that featur is an absolut necess for us doe anyon on here have experi use the rezeptho integr on nest hub',\n",
       " 'i have a nintendo switch and when i want to play it i ask googl to turn on the switch thi action is control in harmoni and turn on the tv and receiv to the correct set i also have two ge smart fan control wall switch in my home to control my ceil fan i have them name bedroom fan and live room fan googl home automat set the devic type on the fan to switch so now when i ask googl home to turn on the switch not onli doe it trigger the harmoni action but it also trigger the two fan to turn on i m look for a way to either chang the devic type on the fan or have them ignor when i ask googl home to turn the switch on doe anyon know how to do thi',\n",
       " 'all of a sudden my bottom speaker stop work onli the top speaker work now and i can t seem to take call on speaker i haven t drop it or anyth i even restart to see if it get fix nada still broken anybodi have a clue what it s about or should i send it to googl for repair',\n",
       " 'hi all i had a pixel a last year and the phone wa amaz the camera batteri and perform all did a great job on a day to day basi the onli downsid is when i would record band practic at a loud volum use the a i tri sever record app and it wa worst sound audio i ve ever heard i compar the audio record to my bandmat iphon xr and pixel record and there s no comparison the a s record wa clip with ton of distort it sound like it wa record on a moto g a cheap budget phone with a cheap mic and audio chip i guess the a is a cheaper budget phone so there ya go i m think about the get the a but i m worri it ll have the same issu i e googl will make the perform and batteri better than the a but will still have cheap part mic to keep the price down ani thought on thi thank',\n",
       " 'so order the tip after see a few post about it on here but didn t like the fact the case wouldn t fulli close all the way took an exacto knife and cut small portion off the small bud not the tip that go into your ear but the side that goe on the bud themselv repeat not the tip in ear still fit great and and now the case close all the way first imag is how much i cut off second imag is origin small tip left and compli t right insid the case third imag is cover close without have to shut it with forc pixel bud http imgur com a nm bdxx',\n",
       " 'i have two big room in which i want a speaker connect to googl home should i get two googl home devic or a sono and a googl home the sono is capabl of voic activ right what are advantag of either setup in term of respons audio qualiti',\n",
       " 'until now when ask to play music i ask my googl mini to play on of my playlist on spotifi by specifi it name it work without fail for the past coupl of year howev start around mid april googl doe not play my playlist anymor instead it just pick some random music base on whatev keyword it find the most relev in the playlist name and when i ask a for one of my playlist name after an artist it alway pick the spotifi thi is playlist instead same for my routin i have not chang anyth but now my goodnight routin start blast some metal band or other instead of my goodnight playlist x b anybodi els notic that chang',\n",
       " 'it work fine when set up but now it s stop entir i ve tri delet and re ad the smart life account as well as reset the light strip light themselv i set it up on ghz wi fi as need but all my devic such as my pixel and galaxi tab se use ghz as standard and lose about mgb s speed if i switch to my home mini also won t recognis the light just say they re not avail i know thi ha been ask a thousand time but i thought i d see if anyon s experienc it more recent and ha a solut',\n",
       " 'i have a z wave lock and a thermostat connect to my cpi system i have also instal a smartth hub and have autom everyth els in my hous how do i disconnect the lock from the cpi system so that the smartth hub can connect to it',\n",
       " 'hello i am tri to correct an undesir behavior when i tap the bottom right squar recent app button on my first gener pixel i m use android and everyth els work well i use cpl custom pixel launcher and the pixel icon pack not sure if that s relev my issu is trigger upon restart the phone my desir behavior is the screenshot time with just a black screen no time app dock after restart the phone and tap the squar i see a screen like the screenshot time or with the app dock sometim with the time weather as well over a period of a coupl day the behavior alway revert to the desir behavior howev i don t know what trigger it to go back to the way i like it i d like to be abl to open some app set and trigger the desir behavior even manual after everi restart would be fine ani help would be appreci thank x b http preview redd it oc w egzx png width format png auto webp s ea fb d d e f da eb bc f b',\n",
       " 'i tri to verifi my number in the mobil call set but i cant for some reason it won t let me tap it am i do someth wrong',\n",
       " 'i had explicitli turn it off a few week ago i just check to see if i had gotten ani recent googl play system updat after read about that contact trace stuff and notic that find my devic wa on again what give anyon els experi your set be chang back like thi og pixel android for refer if that even matter',\n",
       " 'i m debat between the echo show and nest hub which one or both will actual display timer on the screen i have both the echo and the googl home in my kitchen gh is far superior for most activ except timer alexa will actual announc what timer is ring wherea googl home will just have the ring ring sound thi make manag multipl timer veri annoy unless you ask gh what timer is ring which defeat the conveni factor thank in advanc',\n",
       " 'one specif light switch will not turn on by my voic command it say the devic hasn t been connect yet they will turn off on my voic command everyth look and work correctli through the app anoth strang thing it work fine for my wife it s onli my voic profil that can t turn on the light ani suggest',\n",
       " 'just wonder if anyon bought from in a store yet i expect them to arriv on shelv today th and it s still too earli in the morn for most store to be open that s the date walmart origin had on their websit a coupl day back although i can t even find them on walmart app ani more best buy appear sold out onlin as well',\n",
       " 'curiou if anyon can compar the two',\n",
       " 'view poll http www reddit com poll g h ar',\n",
       " 'someon a random stranger on reddit said that the pixel a won t have squeez is it true',\n",
       " 'whooh i ve had time to work on my system which wa formerli just light and basic googl home function i ve ad thi week a googl nest e expand phillip hue to my entir hous set up a bunch of new routin and my person favorit is set up a googl home control coffe maker my good morn routin now turn on light in the live room kitchen and dine room read me weather calendar and news and turn on my coffe maker to start a pot of coffe i m pretti pump about thi addit oh also i ad play the minion univers theme to my movi time routin it pretti great look to add some home enabl lock on my door next',\n",
       " 'when do a long press of the pixel bud to hear text messag notif that come through after it read it allow there are four to five chime that happen and then it goe silent i ve tri to give voic command to see if you can repli but it doesn t seem to respond to anyth doe anyon have ani idea what thi doe',\n",
       " 'hi i have a nest wifi and a home at two end of a fairli larg room which ha creat the perfect opportun to test their capabl against one anoth directli in theori they should perform the same recogn the same word know the same thing that is not the case the home in my unscientif studi is far superior i am wonder whi x b a few exampl nest wifi tell me all the time i haven t select a default music provid i have it s spotifi and home ha no problem with it i can liter walk to the other end of the room say the same word and have it work nest wifi doesn t know which tv i m talk about home doe which is kind of ridicul becaus in the home app wifi is in the same room as the tv but home isn t bizarr when i ask nest wifi for thing it can t find them on the internet when home doe after get the exact question happen with weather random search x b basic what i m encount is that nest wifi is a great littl router applianc doe a good job as a speaker that i control from my phone with chromecast but suck suck suck as a smart devic it would seem to me that the softwar on board is the same but it appear not ha anyon had similar experi is there some way i could kick start the brain on the nest wifi to make it as effect as a year old home',\n",
       " 'think about take the plung my pixel while still run smoothli onli last just short of hour from charg to charg and onli give me around hour screen on i m consid my option but be on sale the and xl look the best my issu is find one that i don t have to put all the money down at onc t mobil ha stop sell it amazon is onli do payment with approv for a credit card and the googl store itself seem to affect your credit as well my question is anyon sell it on good old fashion payment plan edit have the money to buy it outright with no second thought want to do it differ for the sake of flexibl didn t know that meant i wa some kind of miscreant who shouldn t be look for a phone and wa unworthi of post here fuck me right',\n",
       " 'i just got my pixel bud in the mail and they aren t connect to my phone i have a pixel xl and i thought by just open the case that it would pair automat i tri restart my phone and i even reset my bluetooth set but it still won t pair ani suggest would be greatli appreci',\n",
       " 'hi team ani news on gsuit user be abl to be invit to a googl home account i realli don t know whi thi is actual an issu i would like to be abl to use my custom gmail domain for everyth rather than have an individu gmail just for googl home',\n",
       " 'i ve been listen to the radio via tunein by say hey googl play wkix and a few problem after about second it stop i say hey googl resum and half of the time it give me resum servic weird but ok after an hour it quit and i have to start again is there someth i can do to googl these for that matter i have creat a playlist in youtub with or so song how can i get googl home to play these honestli i couldn t care about the video just want it to play those song i d love to play thi playlist thank',\n",
       " 'we recent had to take away our kid s googl mini from their room due to abus now they are complain about the lack of music to help them sleep now i wonder are there ani cast to onli googl speaker devic out yet i realli love the chromecast audio i realli wish they d kept that around are there ani essenti chromecast audio speaker it s import they do not have a mic',\n",
       " 'with air pod and the iphon you open the case a and a pop up that cover half the screen will display the batteri of the earbud and the case i want to know what happen with the pixel phone when you open the case for the pixel bud is there a similar pop up that happen on io',\n",
       " 'there is a set that i disabl a long time ago that let you stream an app instead of display the correspond webpag if i open a cbc articl it would display the cbc app to display it then remov the app when i wa done view the articl i feel like i m experienc the mandela effect as even pixel support didn t know what i wa talk about anyon abl to tell me where to find thi set',\n",
       " 'hi all just got myself a googl nest mini so far it s been pretti great and i ve been realli enjoy have it around that said i can t seem to get it to work with my youtub music premium account whenev i tri to play a song it just say youtub music isn t avail in your countri i know for a fact that youtub music is avail in the countri i m in right now malaysia as i have premium on it and i pay for it in the local currenc too i ve check the home address set on my googl home app as well and it s correctli set weather and all work fine pleas help it s infuriatingli iron that googl s own music platform won t work with it smart hub edit want to add that malaysia is in the list of the countri support by youtub music',\n",
       " 'seem everyday i ask it someth the mini say the devic isn t set up and i need to go to my googl home app noth chang it s alway plug in no chang to wifi alway my voic ani suggest',\n",
       " 'i am get thi error on my googl mini thi devic isn t setup yet to get start download the googl home soon on a phone or tablet it s almost time everyday i get thi sinc past week and after get thi error my app android doesn t even detect my devic locat and wifi on tri unplug plug the devic so everytim i liter delet my devic on the app and set it up again and i am so frustrat pleas help',\n",
       " 'i haven t been thi excit for a new product in a long time so when the pixel bud were releas i bought me a pair the first day when they arriv i immedi start use them i love the touch control and how flush they were in the ear i could even lay my head down on my pillow and it didn t budg them but then i start find issu i went for a walk with my phone in my pocket and the bud start disconnect randomli it made it unbear to listen to so i put them up for the night and tri them out again in the morn they were connect better now but now i could hear a static in the background when listen to a podcast my left bud start pop out of my ear while walk around and after about minut or so my ear were start to get sore the spatial vent wa suppos to reduc that plug ear feel but i couldn t notic it be ani differ all in all i feel like i paid nearli to beta test a product for googl if i m pay the price that i am i expect the product to work i could mayb excus just one of these issu but with all of these togeth it made for a horribl experi',\n",
       " 'i saw someon on youtub receiv a brand new pixel xl a few month ago and wa wonder where i could get one that s also brand new and for a reason price too',\n",
       " 'i have a yr old and the hub is like a magnet to her i can t move it to anoth place unfortun and she is forev turn light on and off set thermostat etc is there a screen protector or guard i can put over the screen so i can still use my voic but not touch to control it',\n",
       " 'hi all i ve been eye the pixel bud for a long time been save up to buy them i m so excit to mayb make the purchas after my final i get a discount deal somewher but i wa curiou if the quit mint ha ever been in stock from what i ve seen the white ha either been in stock or refil easili but i haven t seen the other color i m on the waitlist but i just want to know if anyon ha ani lead if they re go to be restock or if they ve never been out befor sorri if thi isn t a fun question i just love the color and think it ll go well with my white pixel thank',\n",
       " 'i ve notic my pixel take around two hour to reach a charg and sometim doe a percent a minut is thi normal for some context i use my nintendo switch charger for my pixel for about twenti percent and it charg veri slow then when i use my regular pixel charger it still had quit a slow charg except it kept disconnect and even froze my phone upon a reboot did i mess up my devic those issu haven t happen sinc but i m just worri about the devic health',\n",
       " 'took my phone to ubreakifix yesterday to get a batteri replac everyth wa work great but i didn t notic until today that my rington alarm stop work googl around and it look like it s a known issu but most of the post were older i tri reset app set and do not disturb is turn off but still no luck wa wonder if anyon had ani recent solut thank in advanc',\n",
       " 'strawpol http www strawpol me http www strawpol me is pixel a gonna be better in these way from most import to least price compar or better display than galaxi a what are the main site that test the display qualiti of phone bright color everyth els about display etc so we can compar ha to at the bare minim have similar resolut screen size or better better or compar gp antenna than galaxi a how doe the gp antenna compar to other one ani test analysi what compani made the gp antenna phone option what newer or old phone have compar resolut and dispali size and cost less than and is better good site to find better phone what site could we look at onc a year or onc everi month to see that those new phone are better cpu where you dont notic anyth slow is perform notic slow under minim set for regular stuff on a weekli basi like use googl map say you turn off phone anim and other nonsens consist reliabl os updat guess iphon se pixel is best at thi part doe have os updat matter if so whi exactli energi batteri doesnt matter yea co that s what powerbank are for ui ha anyon use all of the main android modifi ui recent within last month and abl to compar them anyth els help or insight to know pleas recommend phone better than other phone in these way and ani of the question here that you know would be help',\n",
       " 'hi i have sever mini in the home all the home member can ask the temperatur and have the repli in celsiu howev when my daughter child account ask she get a repli in fahrenheit i have look thru set and the weather set is set to celsiu ani recommend',\n",
       " 'so from the look of thing look like i am one of the unlucki few who have gotten a pair of malfunct pixel bud they work great that first night i pair them to my samsung galaxi note plu g but the follow morn i notic that they don t automat connect to my phone when i flip open the case lid i have to manual go into my phone s bluetooth set and connect them there and even then onli the left earbud is connect even the pixel bud app can t detect them so i factori reset them onc and went through the whole set up process again a few minut later from not use them here we go again we are have the same issu yet again so i factori reset them again and go through the whole pair process again i went through the whole troubleshoot process with googl thi morn and now i can t get them into pair mode again they don t even show up anymor in my bluetooth set or the pixel bud app anybodi els have these issu or am i one of the unlucki few who got a pair of pixel dud googl is review my case to hope make an exchang and get sent anoth pair',\n",
       " 'http www reddit com r android comment gfrzxc oppo outright confirm to us that their w after read the comment there i want to stop use my fast charger for the pixel and use a slow w charger that i can plug into a wall anyon have a recommend',\n",
       " 'after a month or so of no problem my partner and i have start have troubl sync our lightbulb through the geeni extens through googl home we ve tri reset the devic and reinstal log out of the geeni app but googl home won t let us forget the geeni extens to do a true reset instead it just jump straight into a account link success pop up and geeni and it s devic that are sync just go ghost on the googl home app geeni still let us chang the light s color and turn them on and off through their app but noth show up on googl home doe anyon have ani other suggest to tri and do a true reset for geeni s inform on googl home without lose all of our other devic that are save and work properli',\n",
       " 'when i connect my laptop to my googl home mini use bluetooth and play someth it play fine for a while and then drop out and the sound continu from my laptop speaker doe thi happen to anyon els doe anyon know how to fix it would be grate for ani pointer',\n",
       " 'tl dr at the bottom first off i m sorri for anoth of these post but i hope it will be inform the comfort level is immens they are way less intrus than the galaxi bud and quit a bit lighter they do not feel like much at all the thorn i find way more comfort than the wingtip on the galaxi bud but i don t think the galaxi bud wingtip wa uncomfort next up is featur the passiv nois thing is basic on the perfect level it is veri help when you have music paus or are not play someth but when music is play it is not notic at all i do want to mention the hiss for me the hiss or white nois onli occur for second top after paus music and after that is silenc i have not been abl to test out ambient mode yet but i will updat thi post if i do next is touch control while not customiz they are the best i ve seen on an earbud the answer and declin call is easi and intuit have volum control is phenomen access to googl assist without wake word and notif and the normal gestur on top are standard and work well the notif are great they do not start speak as they come in instead when you are readi you touch and hold ani earbud until you hear a chime then it will read you the time tell you if you have dnd on and then it will read you your notif paus to let you repli hand free to messag you can also touch and hold an earbud and start talk while hold the bud then releas when you are done talk to use the googl assist without the wake up word next up is the actual googl assist integr name how good is it i have not use it much but there are a coupl thing i feel a need to mention i wa surpris but you can send text call peopl start music or podcast and use googl assist routin all on the bud anoth note when use the wake word it will answer on your bud first everytim that is honestli the best the googl assist integr on the bud is great by my experi the sound qualiti is good but i m not great at audiophil review the case is incred smooth but solid it doesn t feel fragil at all the case magnet are also veri strong both on the lid and the bud holder as mani other have said the fast pair is great and so is the in ear detect tl dr the bud are extrem comfort sound great and includ amaz googl assist integr the case is also veri solid and feel great the touch control and notif are also implement veri well i think they were total worth the wait edit if peopl did not know alreadi you can translat by say ok googl help me speak languag and you do not need to have your phone open or on the translat app to translat other languag you just can t repli without the translat app edit someth i haven t seen peopl touch on yet is the chime the one for when it s in your ear when the volum goe up or down if you skip a track answer a call take out an earbud play or paus etc the chime are realli well made and they feel veri googl it s the small thing like that that enhanc the experi edit i also found out that you can mute the volum with your voic by say ok googl mute it will continu play what is on your phone but the volum will be mute you can unmut by turn up or down the volum on the bud with a swipe if there are ani question i ll answer as mani as i can',\n",
       " 'sinc we are expand our googl home network with two more googl home mini soon which we got for a good price we were think of overal expand our home with more devic what are some recommend for exampl for stuff like light smart plug a coffe machin that either stay on after the plug is turn of or a smart coffe machin both should be either a fulli automat coffe machin or a filter coffe machin i realli don t like pad tab machin also just overal stuff that you would recommend for a smart home',\n",
       " 'i like to plan my work schedul manual everi week with googl calendar i includ break and lunch as well i can ask it when my next lunch is and it will recogn it and tell me but if i ask it when my next break is it doesn t recogn it for some reason nor doe it recogn some of the other event in my schedul have ani of you guy run into thi issu when you ask the home to read specif event in your calendar',\n",
       " 'how is it possibl googl advertis a stabl bluetooth connect through multipl wall of a hous or yard outsid and it can t keep a stabl connect feet away through nike gym short crazi',\n",
       " 'start last night i can no longer play my white nois on my googl home max and turn off the display onc i tell it to turn off display it stop the playback just notic thi and never had problem befor now when i play my sleep list the display stay on as bright as can be while i tri to sleep must be an updat they did pleas fix it',\n",
       " 'i m look to instal a googl nest mini in our garden but don t want to have to bring it in are there ani waterproof hous or recommend build',\n",
       " 'thi is a new issu i just start run into today i don t often use the voic assist on my nvidia shield but today i hit the voic button and it prompt me to like re setup the entir thing and author it odd but i step through it ever sinc then me say to turn the tv on hasn t work and it wa say it doesn t know which the tv to turn on alright odd but i wa abl to solv that by go into my actual home and delet what wa an old shield tv devic that said it wa unavail pretti easi no big deal x b but now when i go to the assist tab in my account it show both the old and new tv there and there s no option to delet thi old tv doe anyon know how to get thi unlink like thi http i imgur com ixitcl jpg http i imgur com ixitcl jpg then with no way to delet http i imgur com pvdli jpg http i imgur com pvdli jpg i also made a post about the aiy voic kit here recent i wa abl to unlink thata an assist and now i have the opposit problem where i can t rmeov the aiy voic kit from my home see other post here http www reddit com r googlehom comment gex i delet an old aiy voic kit from googl home http www reddit com r googlehom comment gex i delet an old aiy voic kit from googl home',\n",
       " 'so i set an alarm there and googl respond no problem thi isn t normal behaviour is it usual it read back everi singl command in excruci detail i can t actual rememb it ever say no problem befor',\n",
       " 'i hope it just a lazi pictur i would realli prefer a black case',\n",
       " 'i have a mini a roku and a nest thermostat my wife and i both have pixel phone ever sinc we got the mini a coupl of year ago and have been struggl with the setup my wife i share a gmail account and i want that to be the owner of the home with myself and wife as member she doesn t seem to have troubl with the mini but it doesn t recogn ani of the set i have for my account or the famili account i figur i need to wipe everyth and start over and hope to have some good advic on all of thi thank',\n",
       " 'doe anyon know if the new ear bud will be avail in my countri belgium and if not is there an easi way to still get them',\n",
       " 'titl should we expect them rel soon',\n",
       " 'i have multipl phone so i don t know if thi is possibl but i d like to find a similar font to use on them or mayb even on my pc laptop pic http i imgur com xzybiej jpg',\n",
       " 'is there anyway to stop notif appear over full screen video like youtub or netflix i ve tri googl but all the result seem quit complex or not specif enough think i need an eli for refer i ve got the pixel xl softwar is all up to date',\n",
       " 'hello i have a brick googl home mini that wa hit by the brick firmwar updat howev i don t feel like rma ing it is there a way to bring it back to life or re purpos it trough hardwar or softwar mod',\n",
       " 'so i m current make a routin that turn the downstair light off then turn the upstair land light on at the bottom of the routin there is a section that s say and then play and it ha white nois in sleep sound doe anyon know of a way i can get that white nois to play to a specif devic which ever devic i start the routin on seem the be the one which play the white nois which isn t what i would like',\n",
       " 'i don t want to see my room mate anyth i also do not want to connect or accident connect which it keep do on it own is there a way to keep everyth separ i don t want to share anyth let alon what i m watch',\n",
       " 'i have gosund light that i can chang with music individu but i m tri to figur out how to make them all chang in unison use my googl home i ve been tri to figur it out for week but i m not veri tech savvi could anyon give me some advic thank in advanc',\n",
       " 'becaus that s all it is',\n",
       " 'hi i ve been read through thi channel for about six month now and all i see is complaint and such i find that sad i m super happi with my googl home setup and we re just in the begin of smart assist and smart home there is definit room for improv but i m pretti amaz of how far we ve human race have come regard these thing thank you googl for creat googl home and a nice foundat for thing to come',\n",
       " 'i ve had my phone sinc decemb and i ve never drop it or put it in water yet it seem the back adhes is failimg and the back glass is come off slowli i have devic protect so i m not that worri but thi seem like it would be a common issu as i do noth out of the ordinari would thi fall under manufactur warranti or wear and tear thi doe seem like a defect',\n",
       " 'so i think it final got me devic origin purchas octob so there s two scenario that occur speaker work but mic doesn t both speaker and mic don t work no lock sound touch sound or ani intern sound at all googl play music just freak out thi whole mess start when it happen one particular time around march where i notic peopl couldn t hear me in phone call i wa run factori imag android at the so i figur i d use thi opportun to flash to android on the sound issu seem to be more often and a hard reboot didn t alway fix the issu either sometim the mic work sometim it doesn t i m gonna tri a last ditch effort and flash back to android or android but assum thi is a hardwar issu thi is pretti much it for thi phone right',\n",
       " 'when will pre order start',\n",
       " 'so i have pixel phone one og pixel and x a s all of them suffer the same symptom at random moment dure use the wifi connect would lose internet connect not wifi connect would not load anyth at all to fix it either i wait long enough and the phone disconnect and reconnect itself to the same wifi or i have to do it manual i have other phone as well and none of them do thi so it can t be a network issu also it doe thi on all wifi network i say all becaus i haven t test all my connect but all that i have use more than minut have had the same result anyon els see thi happen',\n",
       " 'i ad my wife to our googl home setup about a year ago and sinc then a weird thing ha been happen at random interv i have a notif say wife s email ha remov the devic devicenam from your home the mini alway the same one is sure enough remov from my home and renam to the default nestminixxxx i have to re set it up she swear she s not do anyth and i believ her it s happen when she s at work and not on the same wifi whi is one devic be remov and whi is googl home blame my wife',\n",
       " 'hello i have success connect the meross account to my googl home i can close the garag door and check if it s open or close howev i can t tell it the pin when open the door it will go like thi ok googl open garag door can i have your secur code i tell it my code without a new ok googl sorri i m not sure how to help with that anyon run into thi problem edit here s my respons after a few day of them tell me to do obviou thing such as restart it and stuff they even googl thing their tech support seem pretti incompet thank you darren we will report thi issu to googl side again to see if we can get some more hint at the same time you can also report it to googl to get faster updat again sorri for the troubl and inconveni caus',\n",
       " 'a slightli bizarr thing just happen a while ago i gave away one of my old st gen googl home mini to a friend who now ha it set up in their own flat befor i gave them it i had perform a reset but i didn t specif remov it from my all speaker speaker group sinc then occasion when i d ask googl to play someth on that group she would listen not respond and not play ani music i ve now discov that when thi had been happen it had been play through my old home mini now in a differ flat set up use a differ googl account on a differ wifi network on the other side of my citi i onli realis thi after tri to get rid of the problem by delet my origin speaker group and make a new one i got a messag from my friend say their mini had randomli start play muse earlier that even when i d ask assist to play them on all my speaker it wasn t show in the list of devic from that group anymor either the mysteri song have sinc stop play but my speaker group now aren t work at all sorri someth went wrong i m complet perplex',\n",
       " 'faq frequent ask question http www reddit com r googlehom wiki faq we ve alreadi answer most of the basic for exampl there is no way to chang the wake word there is no set for less talk respons but there is a use workaround command http www reddit com r googlehom wiki command read the list of favorit command to use with your googl home the topic will give you help idea for what you can do with your devic new featur http www reddit com r googlehom wiki new featur if you are curiou about the new featur that have roll out late then read thi list it is updat as we find out about new releas from googl check the subreddit wiki sidebar for more help link includ avail rd parti app action app http assist googl com explor and fun easter egg http www reddit com r googlehom wiki easteregg',\n",
       " 'so i ve tri almost everyth i could find but those corner hint won t stop show everi time i swipe up to go the the home screen when i first got my phone they went away after day or so but now they re alreadi there for like week i wa on the android dp but went back to android so had to do a factori reset that s whi they re show up again',\n",
       " 'my video stutter and make an audibl sound when i m in the camera app and move the camera around what could it be can it be fix see thi short second video http youtu be xxup udzwb also when i shake my phone it sound like someth is move in the inner part of the phone not as audibl as in the video thank ani help would do',\n",
       " 'will a dual bluetooth transmitt from a projector allow me to connect to two googl home mini or nest mini simultan in my live room i have been use a bluetooth transmitt plug in to a cheap projector to connect to my soundbar underneath the project imag the soundbar recent broke and have sinc been use a cheap speaker would buy a dual bluetooth transmitt allow me to ask googl home to connect to it therebi give me stereo speaker on each side of the couch',\n",
       " 'i know it ha that featur where you can have your phone ask the caller to state their name befor your phone actual ring which help avoid spam caller how doe that work when it is a robo call doe the phone still record what the robo call say and then make my phone ring or doe it know it is not a real person and not bug me at all is there a way to set the screen to below hz so that it will save batteri i person don t care for hz as much as i care for longer last batteri would it even make a notic differ to bring it down to hz if it s even an option',\n",
       " 'i just got my new lg tv but i can t link it to googl home it say link but then it goe back and the account isn t link',\n",
       " 'just got my pixel today tri restart updat chang cabl etc when connect to a pc or mac it will be recogn by the os etc but it won t charg under set batteri it will show the messag plug in can t charg right now charg with a charger work fine ani help would be appreci',\n",
       " 'thi is a rustic solut but work for me i don know it s possibl without an pc first you need the video in your pc vlc instal if you have more than one googl home creat a group onli with googl home s not chromecast drop the video in a googl chrome and send it to chromecast open the video with vlc and use the option processor for send to googl home group you need stop and play the video in chrome for synchron the sound with the video if you have a yeelight bulb check thi http github com ripper hl foco http github com ripper hl foco',\n",
       " 'not look to talk to it just need a conveni recip screen in the kitchen',\n",
       " 'the bull play everi fuck time wtf thi just start happen i never had thi issu befor',\n",
       " 'hey all the power button fell off my pixel look like two small spring and the black plastic piec itself i can still press on the small metal button with a proper clip but it s too small for a finger look onlin i can find plenti of replac for pixel and xl but not pixel anyon know if the button are the same dimens or if i can just snap a new one on ani insight is help',\n",
       " 'i hook up a new modem and router yesterday and did a fresh setup on all of our googl home devic when i tri to set up the smart plug we use googl home wa unabl to find them i reset everyth in the kasa app and the plug work through that what els should i tri',\n",
       " 'i got the phone for me mum a bit ago and i hope i didn t set her up for failur somehow the phone seem fine to me',\n",
       " 'i recent bought a yeelight in addit to a googl nest i would like to set it up so i can say someth like hey googl turn on my sunris alarm for then have googl set an alarm for that time and have my yeelight start the sunris scene around minut befor then i understand that phillip hue ha someth similar which i think is made by them i ve tri look into ifttt but it doesn t seem like it would work even though may be wrong on thi the reason i don t think ifttt would work is becaus i don t have a regular schedul so i would need it to be flexibl and chang henc the empti time in my prefer command i have an iphon and a super old android not my primari so not veri reliabl and am moder tech savvi also i couldn t find much on thi topic on reddit befor but if thi is the wrong sub well my bad but anyway ani help in set thi up would be appreci',\n",
       " 'anyon els s googl home start play porn randomli happen time alreadi onc on the kitchen display and twice on the googl home mini we did not cast it but it make the nois it doe when someon is cast then porn start play ani solut',\n",
       " 'doe anyon know of a way to chromecast to window f e to a chromecast app so i can use my window tablet as a chromecast display certain app can t display on window but can cast to a chromecast devic from my smartphon thi would help my situat',\n",
       " 'i have a googl home mini and befor i unplug it there were never ani problem i use to tell it to play a song or album and it would do so fine when i request a song it would autoplay relat song after but now it just repeat that one song it doe start autoplay if i tell it to skip which isn t too big of a problem but the album play featur is mess up and it s drive me crazi i like listen to full album and i ll tell it to play one and it play a song from the album on repeat and if i say skip it will start play relat song i can t get it to stay on the album i can t find a reboot option on the app but i tri manual reboot it again by unplug it and even unlink my music account which is spotifi premium ani help would be appreci',\n",
       " 'with the ongo crisi mani vulner and elderli peopl are confin at home or in a nurs home given how mani post i ve seen ask for advic i thought i would share my experi in set up a googl nest hub max dure quarantin to commun with an elderli rel confin within a nurs home background my rel is year old with earli dementia doe not have a smartphon ha veri littl experi of use technolog and is confin in her room in a nurs home the home ha been close off to visitor sinc the quarantin began whi a nest hub max i chose googl s product becaus i found the interfac to be more elderli friendli and discreet for peopl not use to digit devic in their room the ambient display perform realli well and the tablet just look like a photofram when not in use and dim when you switch off the light what is it use for video call messag and drop in use the routin featur more on that below display famili photo on the hub background use a googl photo album which you can manag remot remot control the devic to play music for her live tv replay and youtub content what you need googl home nest hub max smartphon prefer a spare to avoid mix googl account g router option see below travel router option see below unpack and initi set up after have the hub max deliv to my home address i set it up on home wifi to begin with use a spare android phone pair with a googl account i creat for my rel thi android phone doe not have a sim card and will effect serv as my rel s stand in smartphon for the set up and other function i keep thi one with me to remot control the hub max use the googl home app on the android phone i creat a new home elderi rel s home and link my newli creat rel s googl duo account no phone number yet see below link my rel s spotifi account and set spotifi as the prefer music player set the background to display a share famili googl photo album set up the nest cam if requir pleas be mind of privaci issu here invit myself use my day to day googl account to elderli rel s home instal tunein for radio and some live tv app on the android phone you ll want to make sure you test out and get familiar with all the command function etc befor move ahead nurs home drop off and set up scenario befor you go ani further pleas note that in order to chang the wifi on a hub max you must first forget the exist network while connect to it unplug it and move to a new locat without do so will result in your hub max seek the previou network wifi without a captiv portal make sure you complet the step abov and head to the nurs home plug in the nest hub max and use the android phone connect the hub max to the nurs home wifi onc thi is complet hand over the hub max to staff and they can just plug it in the room as long as the ssid and encrypt are the same pleas bear in mind thi will be a public network with potenti privaci issu and network polici which might interfer with the hub max note you can turn off the set that allow other to cast to your devic in devic set let other control your cast media nurs home wifi with captiv portal and travel router in my case the nurs home had a captiv portal network similar to hotel and airport which prompt a log in page the first time you connect the nest hub max can t handl these so to get around it you ll need to get a travel router gl inet gl mt n and have it bridg the nurs home wifi make sure to complet the captiv portal log in use a devic with a browser the first time you bridg thi ha a number of advantag in that the nest hub will be connect to a privat network emit by the travel router which you can set up beforehand note some captiv network period ask you to log in again in which case you d have to connect to the travel router again independ g network if use the nurs home wifi end up be too complic or uncertain you can decid to use a g router or plug in a g key into a travel router provid recept is adequ of cours thi is the easiest albeit more expens option dure quarantin you could even send both devic in the post onc you ve set up the hub to connect to the router s network i end go with the g modem as the nurs home is in a citi with veri good g coverag i just drop off a bag with a g router and the hub max the staff plug in both devic and voila video call with my rel after sever week of confin onc quarantin is over i ll head over there to set up a travel router to bridg the wifi googl duo the set up is fairli simpl apart from need a mobil number so other user can find you thi prove a problem for my rel as she wa unabl to read the text messag with the confirm code which expir in second it turn out you can call duo user who have regist their phone number use an email onli account in a browser window befor we were abl to get someon to give us the text code from her flip phone i ad friend and famili to my rel s googl contact i then call them by type their number in duo in a browser from my home pc to allow them to find my rel s account they could use the recent activ to call my rel on the hub max in the nurs home note that group call are not avail on the hub max yet mirror drop in featur the drop in featur allow user to connect to an echo devic without the other person need to answer thi ha obviou privaci issu but can come in handi when your rel ha troubl answer call or use the devic arthriti or bed ridden for exampl you can mirror thi function on a nest hub max with duo by use a routin that call a particular contact in thi case i set up a routin through the googl home app on the spare android phone with my rel s googl account with call contact s name in the assist action i can then remot activ the routin wifi or cellular use the googl home app to start a call from my rel s hub max pleas be mind and broadcast to let them know beforehand control the hub max remot honestli one of the coolest thing about thi set up is be abl to remot control my rel s hub max from the spare android phone or my own phone wifi and cellular to play music spotifi playlist or just live tv i ll call her beforehand and ask what she want to see listen to to do thi you can simpli type a command into googl assist use an account from that home for exampl play song by artist on hub name i thought she would be keen to tri out some of the voic command but thi prove realli difficult for her despit have written them on label around the hub the concept of talk to the tablet seem difficult to grasp and is made wors by have to say ok googl befor anyth addit comment and tip arthriti and nail can make it hard to use a touch screen i end make my rel a homemad stylu use a long paint brush a rubber tip from a pen and some thin wire plenti of tutori onlin if you use a googl photo album as a background on the hub you can insert a few slide with some instruct on how to use the tablet i e how to listen to music it s quit handi as they don t get lost like paper note and you can swipe through them the cardboard form work that the hub max come in make for a great support for label and instruct i just cut out some area at the back for heat sound and cabl and have the hub sit in it with label around it e g to call someon ok googl call x b overal i think smart display have the potenti to be incred use devic for the elderli whether to stay in touch access music or video content set remind or answer gener question i can imagin they will becom regular fixtur in retir home that s all i can think of for now but i ll be sure to add thing to thi guid pleas let me know if you ve had other issu or thing you would like to see ad edit ad option to turn off cast from other non home devic on the same network credit u olyrori',\n",
       " 'hello i m a research from the univers of liverpool uk we are current research virtual assist like googl assist and how they relat to employ and accent we are investig thi to analys how use and benefici virtual assist like googl assist are at work and also to analys the commonli report problem of peopl with certain accent find it harder for virtual assist to interpret their command onc we have collect enough data it will be forward to the r d divis of all the relev compani like googl so if you help us out you may actual have an impact on how virtual assist are design if you would like to complet the short survey it will take around minut and is avail at the link below http liverpoolmanag eu qualtric com jfe form sv t wcafnhhewacz http liverpoolmanag eu qualtric com jfe form sv t wcafnhhewacz thank you for your time',\n",
       " 'can anyon advis me how to do splitter stdfeo googl home max speaker to left anf right',\n",
       " 'i ve got about hue bulb in my home and i have the hallway kitchen and one of the live room light all turn on in nightlight mode as part of the goodnight routin the good morn routin turn them off but if i use a vocal command to turn one of them on again dure the day it come back on at the same nightlight level and i have to give it a second vocal command to bring it back to full bright i ve gotten around thi by ask my home everi morn to turn all light to full bright then again turn all light off but i d rather find some sort of way to reset the nightlight bulb to max in the am without ani verbal command idea',\n",
       " 'a bit of a rant but need to vent i use a pixel for full year love it upgrad to a pixel non xl about month ago and i have to say thi is the first time i ve ever regret buy a phone i don t know what is wors the absolut horrif batteri life or the constant freez the onli rd parti app i have instal are firefox reddit and protonmail yet thi phone is an absolut miser experi to use i think googl lost me on thi one i want so bad to like thi phone hope that updat would resolv issu nope it s a freak amaz camera wrap in a low qualiti embarrass smart phone',\n",
       " 'hi i m on my phone a pixel and whenev i m ask the googl assist to play music it alway doe so through youtub instead of youtub music doe anyon know how to fix thi thank you in advanc le if you re live in a countri where yt music is not avail for googl home even if it s roll out for phone desktop and tablet then you re gonna have a bad time',\n",
       " 'hello i ve been look to upgrad my galaxi s and have been consid the pixel i have found thi deal http www ebay com itm googl pixel gb white unlock at t t mobil verizon sprint epid hash item daf e b g i oaaoswwkfemivb and have been think it seem like a good bet howev i m not sure and would just like ani input from peopl who know more than i do i ve also seen they may be end secur support for the pixel later thi year is that someth to be worri about or doe that happen to most older phone thank you for read x b edit thank everyon for the help i am purchas it now',\n",
       " 'i ve play the song quiz and it tell me someon is play against me somewher els is there realli anoth person play',\n",
       " 'so i ve got my googl home devic connect to the internet via ethernet yay i use a chromecast plug to make the connect befor that i use a socket screwdriv heat over a ga stove flame to burn a hole in my ghome s base melt through the fabric and plastic honeycomb http preview redd it fxl yb rwu jpg width format pjpg auto webp s aec b ffa a cc a b happili the ghome seem to have auto disabl the wifi as i cannot see it on my phone nor on my macbook s airport but i cannot figur out how to control my ghome as i would via wifi use the home app on my phone is there a workaround to thi i ve tri look for a plugin for the chrome browser no luck i ve tri search for an app for the macbook osx no luck but there seem to be softwar for pc s i ve even tri look for the devic in my local network use mac s system prefer and the tplink app http tplink app i use to control my ethernet over powerlin network no luck anyon have suggest tag some folk who seem to have experi with thi mystikincarn http www reddit com user mystikincarn u joss u thegabenuel u mryellow u gicasso u baldrekr u dmtexplor http www reddit com user dmtexplor u leonjwood http www reddit com user leonjwood u breddit http www reddit com user breddit u mackadoo http www reddit com user mackadoo u ab c http www reddit com user ab c u heisdeadjim au http www reddit com user heisdeadjim au u eee http www reddit com user eee thank in advanc to anyon who might offer idea macbook pro os x',\n",
       " 'at you can see in mkbhd s review that there is a notif statu for your bud s current charg i also notic that there is a pixel bud app in the app drawer as well i don t see either of those on my pixel xl anyon els notic thi http youtu be bk mmjgre',\n",
       " 'i want a googl home hub for the kitchen and given the current discount now seem like the time to do it but i m wonder if it is worth wait for the next gen product i tri to find info on what is on the horizon but couldn t find anyth ani thought',\n",
       " 'seem like thi featur work and say the correct phone it s call but it doesn t actual call what s up with thi',\n",
       " 'i wa just wonder about what mm speaker driver are in the pixel usb c wire headphon doe anyon know',\n",
       " 'i m not sure where els to check but suddenli today all my globe suit plug and bulb are offlin my philip and geeni bulb along with my tv all respond just fine',\n",
       " 'so i just got my pixel bud today and i like them a lot after i spend more time with them i m go to post some impress here but in the meantim i ve got a few question ha anyon had their charg case report batteri stuck at and if so how did you fix it should the case connect to my phone and show me my batteri whenev i open it regardless of if the bud are in the case or not or doe that onli happen when i take the bud out thank also a quick tip in develop set set avrcp to help me have a good stabl connect even when nowher near my phone',\n",
       " 'the cast icon is at the top of the screen and it give me the option of cast to ani of my group or individu speaker cool',\n",
       " 'at thi time it seem that routin tigger are limit to voic command and time of day schedul howev i d like to autom if then routin here s a few exampl if i physic set my nest alarm then i d like my roomba to start clean if my front door nest cam detect a person then make an announc or sound notif on my googl speaker if the outsid temp reach a certain temperatur turn on or chang temp of nest thermostat if nest detect detect a door open or motion dure a certain time turn on smart light googl remov compat with ifttt but didn t replac it with anyth compar',\n",
       " 'hello everyon i recent bought a googl pixel a and i honestli love the phone the one thing that is bother me though i am constantli lose connect when it come to phone call and will have a call drop at least onc dure a convers i have notic that my signal is usual or bar while at home even though my old phone and my famili s signal is at to in the same locat and that the phone reli exclus on wifi call in addit whenev a call is drop i have to either restart my phone or wait a bit befor call back becaus the call won t go through i assum until connect is restablish i am by no mean tech savvi but i have had the sim card switch taken to t mobil to have it look at and wa told to keep mobil data on at all time to resolv the issu but noth seem to be work ha anyon experienc thi befor i am about to ask t mobil to take the phone back becaus i cannot work with thi kind of bug thank in advanc for your help',\n",
       " 'hello all just wonder if anyon know what is go on with the home max speaker i have one and love it would like to pickup anoth to have stereo in a larg space but wa wonder if there are ani plan out there for an updat model i haven t even seen the home max on sale like most the other googl product',\n",
       " 'howdi all i current use a homekit add on devic to control my two garag door from my iphon home app howev i ve been slowli transit over to googl home due to buy some fantast product from nest current have the hello doorbel and the outdoor iq and the outstand perform of the googl assist i m a bit puzzl though on how to control my garag door from within googl home or googl assist myq built in to the two open it appear that i m suppos to subscrib to a chamberlain servic then ask googl to then ask myq if the door are open or close seem like there would be an easier way to do thi am i miss anyth',\n",
       " 'we all want to reduc screen time for our kid especi for the realli young one i want the same for my year old follow up from my last voic app book reader at http reddit app link ori c zsw i start look to build new app for googl home especi focus to help young parent while in quarantin in that endeavour i ve built a voic app which play nurseri rhyme over googl assist just say your assist to talk to rhyme box it should keep your child occupi for half hour happili listen to their favourit rhyme trust me it s test on year old the directori list is at http assist googl com servic a uid bd c dd d ps for those who want to build their own app for voic assist get in touch i ve build a templat which allow to rapidli build new app with minim code',\n",
       " 'anyon know when ani other color besid white will be avail for googl bud i want teal or orang',\n",
       " 'i have a group text that i chang the group name but it say it will onli show on my phone i have been unabl to find a way to have it show on everybodi s phone i am use the default android messeng doe anybodi know if thi is possibl',\n",
       " 'current i speak loudli from my offic so that the mini hear me in the kitchen and open blind adjust light etc i don t activ assist on my mobil or laptop samsung galaxi becaus it alway doubl the respons when i speak to the home devic but i now have an unus chromebook and i m just wonder if it s feesibl to powerwash it put on dev for the screensav featur and activ assist and expect it to function seamlessli with the other home devic ani recommend or thought ha someon done thi befor',\n",
       " 'if you use it what do you use it for most of the time i am tri to grasp how useful it can be',\n",
       " 'hi yall so i ve been tri to play six sword on my googl home but it just say i can t help and i dunno what to do mayb it becaus im from itali let me know pleas',\n",
       " 'it all start last night when my home mini woke me up by repeatedli say the mic is off and the mic is back on i thought that the mute switch somehow got stuck even though i never use that switch so i just flip it off and then on and it seem to work so i went back to sleep now thi morn i heard it again thi time it onli said the mic is off and sinc then it never turn back on the mute switch is in on posit the light are red and it s not respond to ani voic command the speaker itself is function i can cast music to it or i can tell my home hub to play someth on home group and it work i tri reset restart it but no luck is there a softwar command that can mute unmut the mic or that physic switch is the onli way',\n",
       " 'so i am still rock my pixel xl it beat to death been struggl with bad batteri for month now realli want to pull the trigger on get either a xl or a a i am current on t mobil i rememb when the a came out they had some insan deal for the a like trade in older pixel for almost a free phone these deal did not happen right away when the phone came out though do you think it worth wait for t mobil to get some sort of deal or just buy from googl store',\n",
       " 'hey everyon i m curiou if there are ani workaround to use the hub max in my offic as anoth monitor connect to my macbook air anyon been abl to do thi',\n",
       " 'i ve been tri to fix thi for day i have it connect to the wifi my phone is connect to the wifi the wifi is on i m close to the wifi i ve reset the devic multipl time i ve turn the wifi on my phone on and off again multipl time i ve reset the wifi i ve chang the room and home when i reset the insignia speaker and start the process all over again which i have done multipl time it tell me to connect to the wifi i connect it to the wifi do all the other step but when i go to click on it it say can t see room speaker on thi wi fi network check that it s onlin and that your phone or tablet is connect to the same wi fi network what s wrong with it',\n",
       " 'so my wireless bud i ve been use final gave out on me and i use them all day at my job i need new one i realli want the pixel bud but am current wait for the orang one current i m wonder if it s a good idea to buy the white one tri them out and see if it s worth wait for the orang one to come out and then return the white one and either wait or go with someth els is thi wrong is it abus googl s return polici or is it just stupid should i just buy some cheap one off amazon and wait it out or forget it all togeth not sure what i want to do here thank for thought advic in advanc',\n",
       " 'so i ve had my pixel xl sinc novemb and over the last coupl of week i notic that my phone wa randomli reboot dure mayb four or five day or so ago my devic happen to be sit in front of me at my work desk i have a pixel stand and i took note of the time of the reboot as it turn out it s reboot at the same time everi day pm are there ani log file or anyth els under the hood that i could look at to figur out what s go on',\n",
       " 'i had a random reboot today whilst in snapchat and i sent the log to a telegram group i m part of and appar the voltag regul of my xl are die is there ani way for me to get a repair out of warranti i m in melbourn if that help',\n",
       " 'i m stuck work at home and i have to make a bunch of short welcom type video i ve been tri and fail to use a bluetooth headset to record audio pixel default to the camera mic is there a simpl fix i m miss in set or do i have to invest in an app thank',\n",
       " 'switch from pixel xl to xl after almost year veri much look forward to the activ edg featur my question be are there ani requir i need to look out for when buy a case that would not interfer with the squeez assist',\n",
       " 'i ve own a lot of phone over the year a lot i consid certain phone to be great for certain purpos as well as certain phone be perfect for one do a coupl thing perfect back in decemb i purchas the realm x pro great mid rang phone amaz screen extrem batteri life with insan charg speed and a veri fast processor it s a good packag howev over the year i ve felt that phone have miss the mark with offer all of the littl function item that i find myself yearn for after use a phone for a few month item such as wifi call built in voicemail call screen smooth googl assist integr etc last time i felt like i wa super comfort with a phone that offer everyth wa with my origin pixel googl s recent price drop of the pixel ha been teas me sinc it happen and i final broke down last night and order a black pixel for i want to be abl to use a phone with one hand again i want amaz pictur i want caller id and call filter option i want volt and wifi call i want a super smooth softwar experi u want googl assist to work when the screen is off and i call out to it u want the batteri to last me at least one full day with heavi usag tell me did i hit a home run get thi phone at thi price or wa it unnecessari and the a wa the better choic thank you in advanc',\n",
       " 'recent got a nest wifi router i current live on my own but i m wonder how thi work in case i have guest over can anyon connect to my network mess with my router if they have the googl home app or is there some piec i m miss that will prevent that',\n",
       " 'http imgur com xz awvn it say that it s on for app but click it take me to a blank screen anyon have more info about thi more importantli how do i disabl it',\n",
       " 'hi i have a googl home in my live room one in the kid room and in my room i wa wonder if it wa possibl to creat a good night routin or ani type of routin use the same command for each room for exampl if i say okay googl good night in the live room the light in the live room will turn off and the door will lock while if the kid or i say okay googl good night in our bedroom the light will onli turn of there thank you in advanc',\n",
       " 'hey yall those who got new bud how long doe your last while listen to music mine goe for hour on each side',\n",
       " 'when i bought my og pixel xl on novemb st veri soon after launch it wa the best phone experi i ve ever had i knew i wa go to ride thi to it grave today that day ha come over the past week it start sputter and freez and restart randomli today out of nowher it shut off for the last time it s been a great year time for a new pixel',\n",
       " 'i have a googl home in my bedroom and my bathroom when the bathroom door is open both googl home hear my command and usual the nest mini in the bathroom awnser me would it be possibl to make the other devic domin a e when multip devic hear the command then one devic will alway awnser',\n",
       " 'so i ve had my current googl home for about two year now i ve never had a problem and i use it all the time but a littl while ago i heard it play music by itself from the other room i ask it to stop and it did but probabl minut later it did it again and then an hour after that it did it again i wa kinda freak out so i unplug it there wa no loud nois i know of that may have turn it on i ve been tri to look into thi and all i ve been abl to find are peopl complain about the same problem but i haven t yet found anyon with a solut i am on a secur wifi i turn on factor authent and i chang the password on my account on the histori it ha no record of anyon ask it to turn on just me ask it to stop time doe anyon know a solut for thi or what i should do at the veri least do you think it s ok to plug it in again i m scare it ll go off while i m sleep',\n",
       " 'i have a a and don t use my phone that much batteri doe not impact me that much and my dad said he would get me a if we could trade in my a i had a nexu befor and i miss wireless charg a lot i also want to play with the hz and all the other cool featur i also am a fan of face id compar to the fingerprint scanner i could probabl get a for cheap when the come out i just want to see the opinion of user that have the pixel right now and whether they think i should upgrad to thi or just go for the a',\n",
       " 'after get the hz iss resolv here http www reddit com r googlepixel comment gcsguw forc hz with tasker i now have an enhanc power save mode with tasker trigger either manual with a quick set tile or when the batteri hit a certain level no root requir it doe set normal power save mode turn off bluetooth turn off motion sens forc hz refresh rate reduc bright turn off auto bright set display timeout to second i have a parallel task to set everyth back to normal export descript if anyon want to do someth similar a custom set type secur name awar enabl valu use root off read set to a bluetooth set off a power mode mode batteri saver a display bright level disabl safeguard off ignor current level off immedi effect off a auto bright set off a display timeout sec min hour a custom set type system name peak refresh rate valu use root off read set to',\n",
       " 'ive been use phillip hue bt bulb x for about a month now connect them with gh and use them daili no issu today i bought more and ad them to the hue app howev when i tri to connect them to the gh app to be abl to control them with my voic they wouldnt show up so i unlink my hue bt account with googl to then relink it except now it now show up and i cant control ani of the light bulb search everywer for an answer and cant find a solut that work for me also tri sync my devi to no avail tri uninstal both app and reinstal to no avail edit ive been tri to fix thi for hour now ill liter venmo someon if they can help me find a work solut edit in some old thread some peopl are say just wait oitu out work somehow will updat thi thread if that work',\n",
       " 'i instal the may secur patch thi morn and now whenev i tri to use my phone it lock up and then reboot it doesn t lock up and reboot as long as i don t do the initi unlock after the reboot thi happen when i am on the home screen as well as when i can open app i instal the updat through the check for updat in the set my phone is not root nor unlock i am not sure how to go about fix thi problem doe anyon have ani idea on what i can do edit my issu is resolv i boot into safe mode and it work with no problem so i start to uninstal app i don t use anymor and now my phone work fine i don t know what app wa the culprit through',\n",
       " 'thi is get annoy rather than let the home answer and turn off my phone say the devic doesn t exist despit the home success turn off the light globe smart suit is the bulb',\n",
       " 'is thi true my whole set up on googl home is run on an email that is anoth domain to clarifi i ve creat a googl account use my own email domain account and use that googl account to manag my gh set up',\n",
       " 'hi everyon okay so i drop my pixel a in the toilet thank it wa unus i dri it off immedi and put it in rice to dri out for a few day i know the rice probabl wasnt a great idea when i turn it on the screen start act strang like app randomli open and thing were get click on without me do anyth after a few day though thi stop happen and just some part of the screen were unrespons that wa month ago and i have been get by use it with the unrespons part of the screen becaus i couldnt afford to repair it and i wa oversea when thi happen i wa just wonder if it is at all repair now or if i should look into get a new phone the phone is work fine now the unrespons area are the onli issu but not sure if there ani hidden damag would love to hear ani advic also i live in australia if that chang anyth',\n",
       " 'can anyon point me toward some use and hope easi to follow instruct for creat my own devic control by the googl assist i wan to connect my forg to googl for youtub video i want to be abl to yell out hey googl light the forg and have googl repli with someth witti befor the forg flare to life would need to control the main power connect open the ga valv then spark the ignit',\n",
       " 'okay so the keyboard in landscap mode is absolut horrend my word of the week here s whi thi is your typic landscap keyboard layout http i postimg cc c zyyzi imag png the red area is the problem becaus you can actual click tap through it when i m play a landscap game and tri to chat to peopl i find myself accid touch thi area and instead of noth happen it will actual tap the game which is underneath the keyboard i actual use swiftkey keyboard anyway so it doesn t take up of my screen but the problem have the transpar click area is still there so doe anyon have a solut to thi problem i ve never had such an issu on ani other android phone there doesn t seem to be anyway to turn it off',\n",
       " 'i haven t unbox electron brand new for a veri long time year at least when i got my pixel in the mail i notic a realli sweet smell from the box like someon spray some cheap perfum into the it when they were pack it ha anyon els had thi happen to them as well i m wonder if thi is someth that just happen or if i should be worri about my phone can someon assuag my fear and tell me i m just be paranoid',\n",
       " 'my pixel may have been recent updat it keep get stuck on the lock screen for exampl i will boot my phone up first thing in the morn and after load normal it will show my lock screen with the time typic i use the fingerprint scanner to unlock it or i hit the power key and type in my pin neither do anyth sometim i have to hard reset the phone other time it just snap out of it after time i have no idea what is go wrong',\n",
       " 'my pixel a had that new compact googl assist design that doesn t take up the whole screen but it kinda disappear a while ago and hasn t return switch back to the full screen one anyon els had thi',\n",
       " 'so i have one of those router with one wifi network but if you move closer to it it switch from ghz to ghz my pixel use to connect to the ghz perfectli fine but now it can t although it recogn and tri to connect it can t realli connect thi lead to an issu where i can t be connect to the internet if i get too close to my router ani idea as to whi thi is happen and how to fix it pixel xl android',\n",
       " 'can someon pleas tell ani one of the two googl engin or their one traine to add compat with temperatur sensor not everyon ha central heat or thermostat i just want to read temperatur and humid off of sensor pleas make that happen i m so bore out of my mind in thi quarentin that all my xiaomi temperatur sensor are now thermostat in googl home it work so obvious thi is possibl make it happen thank you kindli and btw it work veri well i m quit surpris',\n",
       " 'my nest hub ha stop tell me when i have a remind i can check them on it by swipe to the left but the point of remind is that i don t rememb them so i don t think to check it i don t think it even notifi me about event anymor ani idea how i can fix thi',\n",
       " 'hey everyon sorri if thi ha been ask befor i have a googl home mini and i have a calendar i m subscrib too i m wonder it there is a way for googl home to play a custom mp sound when the event in my calendar start i ve play around with ifttt but haven t found what im look for i m primarili use an iphon for thi but i have a random android phone lie around i can use if that easier to set up with thank and feel free to ask question if i need to clarifi someth',\n",
       " 'i got some smart bulb from amazon today philip hue pair compar with alexa and googl home so i screw the bulb in i open the hue app i regist it and all that other weird stuff i never thought i d have to do reg a bulb realli wow big brother and the bulb even updat to it latest softwar how cute the app work fine the bulb work fine it dim it turn off and on so i go and tri and set it up with googl home thi start about hour and beer ago too the googl thing won t recogn the bulb can t find it i reset googl home i reboot googl home i unplug it and i even threaten to throw the littl shit out the window still noth i ve tri both bulb and the same effect appar my phone can access it thru it s own app it whi googl gotta be a pain it take me to some meethu page where it s ask for a bridg i don t need that it s not relev to me whi can t thi just be a simpl plug and play is there someth that i m miss thank for ani help',\n",
       " 'so ive notic when zoom in on a tripod the imag in the camera wobbl around as though the stabil motor is constantli move around is thi a fault with the sensor i ll tri to get a video to explain better but ha anyon els notic thi',\n",
       " 'have train it to onli respond to violenc',\n",
       " 'when i call from googl home it show on their id as unknown or privat anyway to fix thi to show my number',\n",
       " 'when i use ani rd parti launcher i tri nova custom pixel launcher and niagara launcher i get a small delay until my pixel xl resum full respons when return to the home screen it take a second or until i can switch home screen or open the app drawer when use the pixel launcher everyth is fine thi happen with the newest gestur navig did anyon els have thi problem and could find a fix for it',\n",
       " 'i m in the uk my vodafon contract ha finish and i m want to find a cheaper contract three ha a great contract for me but it doesn t list pixel under it compat phone just the pixel and up will the sim card work in my phone edit i ve realis it specifi support devic not compat i m not sure if thi chang anyth',\n",
       " 'i am babysit at my mom hous and someon call the home mini it state the number i didn t recogn it i pick up the home to see if there wa an off button and it pick up the call some woman kept tri to talk to me and final hung up i didn t recogn the voic i have an alexa so i m not sure how thi googl one work can just anyon call it how can i get it to tell me the number that call again i ve googl and came up empti i m super confus and my mom doesn t know anyth about it either',\n",
       " 'which one is better wait for the a or don t i don t mind about the price i just want the best',\n",
       " 'when the bud reconnect to window the default and onli playback devic is headset with the bud the audio playback in thi mode suck and sound like a phone call in order for window to see the headphon mode with the bud is to manual disconnect and reconnect are other peopl see thi problem and is there a workaround fix',\n",
       " 'hello everyon i just bought the pixel a a sever month ago and i have an annoy problem with the galleri so i do a lot photo edit on my comput upload it to googl drive and download it on my phone so far so good but if i open up googl s photo app the photo doesn t show up immedi thu i download an other photo album app and there the photo appear immedi the problem is a lot of app like whatsapp go through googl s photo app if i want to share a pictur so it s pretti annoy to alway open up the other photo album app first and share it from there some app don t even allow you to do so and it s such a pain to wait until the photo final appear in googl s photo app also when i download photo from my googl drive and want to post on instagram sometim imag is not show up when i press the icon on ig doe someon had the same experi yet',\n",
       " 'for some reason today googl is ignor a lot of request it won t turn on off chromecast tv or third parti switch bulb kasa and annoyingli for my other half ignor a request for a timer it briefli told me the time earlier bit is now ignor that too anyon els with these issu edit seem to have been local or isp issu but the issu affect my phone on g as well so not sure went through step includ reset whole home network which may have had a delay posit effect but it s not clear',\n",
       " 'yr old son want a googl home for awhil and notic everywher it down to from perman price drop so threw it in hi easter basket instead of more damn vbuck set it up for him and impress with sound qualiti first thing he decid to ask it wa what my fart smell like which appar didnt regist as it describ where jet fuel wa made hmm mayb it did work lol so know there are a lot of silli command but is there ani fun i can make it do from the other room such as make it blast some metallica out of nowher i may get my own at least the mini as it seem like a fun toy anyth we can use them for togeth thank',\n",
       " 'i m a part of home mine and my girlfriend s at my hous when i go into her home in googl home my nvidia shield and googl mini speaker show up under other cast devic under my home her stuff doesn t show up which is correct what give',\n",
       " 'how loud is the googl home compar to the mini i place a mini outsid but i am want someth louder should i purchas the regular googl home',\n",
       " 'i have pixel stand on my desk at home on my nightstand at home on my desk at work i d like to be abl to silenc my phone the first time i put my phone on my stand at work and unsil it the first time i put it on a stand at home i know that the stand nativ support do not disturb but i d want to have more of a toggl option that chang behavior base on when i put it on a stand or not i ve use ifttt for similar behavior locat base but it wa fairli inaccur and would chang if i happen to be drive near my home or work for whatev reason i m not sure if tasker support interact with the pixel stand either ani idea',\n",
       " 'i read that after i link the ring doorbel to my googl assist that it would be abl to notifi me the onli thing it seem to do is tell me the last time there wa motion or the bell wa rang anyon know if thi is possibl i know amazon own ring and alexa will notifi us but i am a googl fan and didn t know a year ago that ring wa own by amazon',\n",
       " 'don t know what s go on but for as long as i can rememb the strangest glitch happen when it come to me start up a stream of a radio station and then do a sleep timer at the same time too on my home hub nest hub when i do all of what i need to do to make that happen the assist first repli back with stream radio station from stream sourc and proceed to start play but then a second later the audio will stop temporarili to the assist say someth went wrong pleas tri again i then have to say stop play in x minut then i know it ll work when the assist repli back with name of devic will stop play in specifi amount of time anyon els experienc thi same issu',\n",
       " 'i just got my pixel xl and i m veri excit my carrier is xfiniti mobil and they are current close so i can t call them can i just switch the sim card from my iphon into my new pixel i know thi ha been post befor but it s been a coupl year edit if anyon find thi post from googl i wa abl to just chang the sim and it activ perfectli without need to call or anyt took less than two second',\n",
       " 'when we go to bed we ask the googl home mini to play a radio station we then ask it to switch off in minut and thi ha been work fine but suddenli it doesn t she now say sorri i didn t understand everyth els we ask work fine just thi one thing ani idea how we fix thi pleas cheer',\n",
       " 'thi must ve been ask and answer but googl came up short i have a few home nest mini but i d like to up my sound game to stereo i m lean toward the max but get two regular home equival of x where i live and pair them up in stereo mode seem interest even a smaller footprint in a way and cheaper for me on the other hand i have airplay via an airport express bridg and i know that goe into a jack on a home max which is kind of nice i would guess the sound would be better i like have one thing one power cabl into the wall instead of two it s the kind of minim i like about home have ani of you tri the regular home in stereo ani opinion',\n",
       " 'i ve seen argument for both but right now both are ident in price at otherwis i would just go with the mini realist is there current anyth a nest mini doe that a home doesn t should i be concern that the home is from so an end of life may be a risk i own a googl home now and like it enough and the bass in it is great i m curiou how the audio stack up between each other for play music as well',\n",
       " 'in the last i ve been get a lot of spam be text to my number obvious i blacklist them but the problem is that the spammer consist use differ phone number so anoth one is sent the next hour with a number that hasn t been block what are some way you guy deal with text messag spam i m current use textra',\n",
       " 'ani idea when they ll be avail in the eu i haven t seen ani date but what about base on other product releas delay',\n",
       " 'thi featur wa just releas so i suppos it may be a bug but i can add my android tv into my speaker group now howev i have found that when play music on googl play music it is veri choppi been tri all sort of other stream it seem to be fine though is it just me',\n",
       " 'i have a p xl i use to run the beta and it did it then now that i m on the stabl build and have been for a while it still doe it about onc everi week it will just not respond to ok googl when i go into the set it show the hey googl set switch off x b anyon els see thi i contact googl support and they just had me wipe the phone geniu which of cours didn t work',\n",
       " 'hey y all after sell my pixel xl for more than what i paid i felt the lack of android wa miss in my heart sure i use iphon but realli like android as well today i bought a pixel unlock gb for tax includ from swappa addit month of gb for free from mint did i do good on thi deal',\n",
       " 'wait for month that googl is enabl thi in german is there ani inform about thi googl s way to commun such thing is realli abysm',\n",
       " 'not sure of i m go complet crazi but i ve notic that when use a varieti of headphon wire and wireless there appear to be some sort of limit in place an exampl when watch netflix in thi particular instanc i m use a pair of bose qc the volum of speech seem fairli quiet consid the volum level is up veri high i ve use the same set of headphon on my laptop and the overal potenti of the exactli the same set is superior is there an obviou set i m miss somewher',\n",
       " 'wa get into bed last night and for giggl said okay googl nox and out went my light made me smile',\n",
       " 'today i tri to use the googl command sync my devic but it did not work and show sync unavail for the assist anyon with the same issu',\n",
       " 'i want to buy type c earphon for my pixel xl so i want to know if the samsung akg type c earphon is compat with my devic thank you',\n",
       " 'hey hope someon can help me here is there a way for my smart light to flash or chang colour when i receiv a notif from my iphon i e email or snapchat notif is there a way that my googl home can announc when my iphon get a notif i have been tri to figur thi one out for a long time and ani help is appreci warm regard jack',\n",
       " 'with the amount of video confer go on i m constantli use zoom and other video chat my pixel s overh and shut down around or time now anyon els with similar issu',\n",
       " 'hi i m not sure if i m not the onli one but recent my nest doesn t repeat the time back to me after ad it it just day ok is there a way to make it repeat and confirm the time automat like it use to',\n",
       " 'after first instal the nest cam everyth work fine if i said hey googl show name of camera it would show the stream but now it s not work not realli sure what chang i am write thi dure a min break where by some miracl all kid under are nap i have extrem littl time to troubleshoot thi kind of issu so i m realli hope reddit can give me some tri thi pointer',\n",
       " 'it s pretti sad that i cannot chang my time zone my citi is in eastern but my counti say central even if i chang my address my googl home devic still show and say central time i think it may be time to jump ship and head to alexa anyon els have issu with timezon',\n",
       " 'not sure if thi is becaus of the latest patch but whenev i record a slow motion video the resolut drop under p same happen to the pxcamera i m also not abl to edit the video probabl i mean it wa never a thing in the galleri app but i have now frame drop befor slow motion start doesn t matter where i put the start marker',\n",
       " 'doe anyon know how these compar the sd vs the sd how much of an improv is there how much more effici batteri life wise is the sd just wonder what kind of jump it is i know the gb of ram up from gb is huge and go from emmc to uf is big too',\n",
       " 'i m not sure if thi tech exist i want to add outdoor speaker on my patio ideal instal in ceil option one wire them like normal and run them to a receiv with a chromecast while i can make thi solut work it isn t ideal for me and i want to avoid it if possibl i am wonder if there are wifi enabl speaker that can be instal in the ceil that googl home assist is compat with i do not need it to be a microphon i just want to be abl to have googl assit cast audio to it as part of a group if you have ani input suggest it is greatli appreci thank you',\n",
       " 'anyon els have issu where spotifi playback randomli skip or end a track and then won t start playback again until you tell it to my bluetooth speaker work flawlessli so i have to suspect it s a home issu',\n",
       " 'i went past the smart home section at low s yesterday and saw it wa on sale for went back today and it rang up i went and got the tag and we notic it start tomorrow they gave it to me for i also saw a post here that target is have it on sale for start tomorrow as well',\n",
       " 'hey pixel user here my face unlock wa work mostli fine befor in instal the may secur patch but after i updat my phone it s not work anymor on the lock screen or in the set when it didn t work on the lock screen i delet face data but when i tri to enrol my face in the set i get fit your face in the inner frame which i am do and it shouldn t be too hard becaus i m bald and my head look like an egg did anyon els have their face unlock system broken on pixel after the latest updat',\n",
       " 'bust my screen on a a xl replac it and turn on usb debug now window won t read the phone when i switch usb to file transfer it know it there it will read as a ptp ani suggest',\n",
       " 'i ve recent gone back to the pixel xl hold up extrem well i ve been enjoy the gestur input of android but i ve notic that when i have gestur on the screen seem to requir a firmer touch and more often a doubl tap befor it regist touch the reason i attribut thi touch issu to the gestur is that when i switch to the button navig there are zero issu with touch input i don t mind button navig but i prefer the gestur for one hand use and more avail screen estat doe anyon have ani suggest how i could keep the gestur navig but improv the touch respons of the screen',\n",
       " 'i wa look to buy the new pixel bud but everywher i go to buy them say it will take a month to deliv i m in california do ani of you know of a site that deliv quicker',\n",
       " 'i m basic look for someth like thi http www amazon co uk thermomet temperatur extern refriger inrigor dp b bsc xd ref sr dchild keyword outdoor thermomet with probe qid sr xiaomi ha a smart thermomet but it s not compat with googl home doe anyon know if thi exist or how it would be doabl i just need to read the outsid and indoor temperatur that s all',\n",
       " 'i got the new googl pixel bud on friday if i cup my hand around the left or right bud in my ear the left ear bud stop play and give some intermitt feedback notic the same thing lay down with a pillow wrap around my head notic the right ear bud drain faster i use a fitbit charg hr could that be interf is mine defect',\n",
       " 'just a curiou question i m one of those peopl who usual buy thing right when they are releas or avail for pre order i did thi with my pixel and stadia but now i m head to colleg next year and need to wast my money veri wise i know they tend to have an end of the year or someth like that i realli want to buy the pixel bud and the pixelbook go for when i head to colleg when do you buy googl product',\n",
       " 'so i did some look around and there seem to be a lot of complic when it come to find wireless charger that ll be abl to fast charg the pixel to make my life easier doe anyon have ani link to wireless charger in the rang that fast charg the pixel it ll be much appreci also doe a normal qc wall charger work on pixel in regard of fast charg or do i need a pd charger in order to fast charg the pixel thank in advanc',\n",
       " 'as of late i haven t been abl to add new devic or connect a third parti servic ie tp link or hue it send me to the authent page where i log in with the develop a bubbl say sign in and then link your x account but it just send me back to the add new devic screen everi time i go further into the menu and it onli show previous link servic i ve tri use chrome instead of firefox clear googl home data and cach unpair servic on my googl assist they show up on the web portal',\n",
       " 'current i m use a oneplu t thi phone still serv me fine in term of regular use coupl with few game session camera lol let s not go there i m curiou those who upgrad from a year old flagship to the a is there an increas in perform ignor app load time is the phone as smooth as a pixel how is the ram manag on the a plan to upgrad to the a depend on review and the experi of those who are use a would be great',\n",
       " 'is there a way to prioritis the hub while still have the assist on my phone enabl don t know whi it s just begun do thi',\n",
       " 'they were fulli charg right out of the box and pair to my pixel as soon as i open the case befor the firmwar updat from to the sound wa ok if a bit tinni and volum control of the phone and bud were independ of each other firmwar is instal without our input at all and it took me a coupl of tri to get the bud to updat just put them in their case didn t seem to work after ten minut so i decid to test the wireless charg for a minut and when i check they had updat to firmwar after the updat the sound had improv greatli and the bud are now on univers volum the sound qualiti is what you would expect for ear bud my bose soundsport free have better sound but horribl batteri life the creativ outlier are cheaper and sound just as good as the pixel bud the few call i made were clear and the peopl on the other end said i wa amazingli clear now we re get into the problem googl assist when use the wake phrase work like a dream but the long press ha mix result when i tri with littl pressur when move my finger slide and i chang the volum when i increas the pressur it push the mic into my skin and it can t understand me the bud also seem to use batteri life at differ rate depend on which one connect first there have been connect issu after the pixel bud app get updat on my phone restart the phone and then the pixel bud seem to fix it overal i m optimist that googl is go to do their usual miracl of improv the product with updat',\n",
       " 'recent bought a pair of jaybird tarah pro sold on the googl assist featur so when i m run i can stash my phone in my run vest ask it to play diff artist podcast etc without the need to stop fish my phone out you re suppos to be abl to doubl click the middl button on the control built into the cord on the headphon for it to listen it kinda work if you doubl click the middl button it bring up googl assist on my pixel xl but the dot along the bottom don t bounc if i manual click the dot then they bounc i can ask it to play an artist it work but i obvious can t stop do thi whilst run as it defeat the whole point i ve tri it on my partner s pixel and it work absolut fine ani help',\n",
       " 'so is there ani way for it to tell me whose call instead of just ring in my ear i mean it s not a big deal when my phone is in my pocket but if it s not near me i d like to know if i should screen or not lol edit i alreadi have contact share check on',\n",
       " 'i ve had my googl home mini for about two year i take it with me to colleg and bring it back when i come back for the summer when i left school at the begin of quarantin i unplug it and left it in my apart i final went and pick it up and now it s not connect to my home internet it take about minut say connect then say someth went wrong i ve tri all the suggest in the app and now i m at a loss it s been on thi network befor so i know it should be work the onli chang in our network is that we ve ad some rang extend but i don t know how that would make a differ',\n",
       " 'ha anyon tri send a text use the assist through the bud if i say send text to name it get as far as take the messag then say i m sorri i cant help with that i have all the latest firmwar on the bud and i use a pixel xl but i also pair it to anoth pixel differ phone and differ user and it did the same thing to them i tri factori reset on the bud and re pair to the phone clear cach in the googl app on phone and noth work just wonder if it wa an issu for someon els',\n",
       " 'play spotifi on the first floor play on the floor by the lumin on the first floor speaker group play spotifi on the whole hous play bore in the hous by tyga on the whole hous speaker group how should i be say to make my speaker group pick up whatev i wa listen to on spotifi on my phone or comput and not play a new song',\n",
       " 'i wa wait for the a to come out when i see that the pixel and xl are off at mani retail includ amazon best buy and the googl store so the gb pixel is too good of a deal to pass up and dont have to wait for the a you can get the phone today best buy with curb side pick up seem to be us onli',\n",
       " 'i solv the frustrat camera issu on my pixel for the past few month i had issu with my pixel s camera i couldn t take photo or video clearli as it look like the camera can t focu on an item and the pictur is kinda shake i contact googl support but they couldn t help me and my devic is no longer under warranti so i can t get replac devic i replac camera new origin but it didn t solv the problem i order camera from part and replac it with the instal camera and still the same problem i didn t know what els i can do i decid to open the batteri cover and tri to solv it myself and i did the problem wa that there wa a tini dirt on the glass that protect the camera len and there s a sticker around it that cover the len in few millimetr i clean the len and it cover and remov a littl bit thi sticker the camera work perfect no focu issu nor thi shake',\n",
       " 'if you were redirect here from a remov post or a megathread link pleas scroll down welcom to the may superthread the pixel a may releas thi month so keep an eye out for it some use link are below if the photo megathread is not sticki use thi link http www reddit com r googlepixel search q not batteri author automoder restrict sr sort new to pull up the latest post you can also share your photo on r pixelographi to open to which pixel should i buy megathread click here http www reddit com r googlepixel comment gbjvki which pixel should i buy may megathread if the link is out of date search for the latest thread here http www reddit com r googlepixel search q which pixel author automoder restrict sr sort new to open the ship megathread home of order relat comment issu and suggest follow thi link http www reddit com r googlepixel comment dkcxa madebygoogl ship megathread to access the batteri megathread for all support regard batteri life and condit go here http www reddit com r googlepixel comment gbjvgg batteri megathread may if the month is wrong get the latest megathread with thi search http www reddit com r googlepixel search q batteri author aautomoder restrict sr sort new link subreddit discord server http discord gg googlepixel subreddit telegram chat http t me joinchat aawexuc b jimij wjl q madebygoogl rumor http www reddit com r googlepixel wiki madebygooglerumor rule http www reddit com r googlepixel wiki guidelin wiki http www reddit com r googlepixel wiki index reddit request for if you ever need more help with googl support http gprr dmzapp com thi thread will be lock to provid feedback messag the moder here http reddit com messag compos to r googlepixel',\n",
       " 'as the titl say there is seemingli no voic command that will play my playlist it play other weird playlist that have seemingli no connect phonet or content wise to the request playlist there seem to be a few other peopl with similar issu but i couldn t find one exactli the same',\n",
       " 'am i miss someth here is there a way to make these two app on the googl nest hub more user friendli both app when open show recommend show video absolut no way to search for someth and absolut no way to choos a differ channel youtub tv on youtub tv of what is watch is stuff for my toddler disney pb etc the other is sport for me but on the recommend video it s sport pretti pathet and embarrass from googl',\n",
       " 'anyon know a a radio physic not internet base that work with googl home lot of stream radio but havent found one that got an actual tuner for local station',\n",
       " 'how is the touch sensit of nest hub max mine is not as fluid as you expect a capacit touchscreen to behav it is more like a resist touchscreen and i have no screen protector on it i did ask thi question onc befor and did not get ani respons from the member ani help would be appreci thank you',\n",
       " 'what would caus the differ in level here http imgur com galleri inq td',\n",
       " 'hi all we use our googl home mini devic and chromecast audio to stream digit radio around the hous unfortun our internet is unstabl lead to lose connect time per day on averag we lose our connect and it come back after around minut thi isn t intern noth to do with my network it is the line and out of our hand there is a requir to experi more than dropout in a day for it to be consid a fault by the network provid and strang it never seem to go abov when thi happen googl stop the stream and then i have to ask it again to start the stream thi is annoy after the nd time especi as i have to do it everi day we are work from home at the moment mean that it is almost alway on in the background ani tip to get it to pick up the stream again automat after connect resum cheer',\n",
       " 'i went through the pin faq and didn t see thi question but i m sure it s been ask in the past but i can t seem to find a post about it i m tri to plan a movi date night with my wife sinc we can t go to the theater and i want my googl home to play my playlist i creat on youtub on my chromecast it work find yesterday but now it won t do it and just play some other peopl s random music playlist and ask if i want to play it on the tv or not what happen',\n",
       " 'how do you guy deal with have one in multipl room close by like i have in my bedroom bathroom kitchen and offic but when i speak to half of the other can hear me and sometim the wrong one respond also how can i get my android phone from go off everytim i speak to the googl',\n",
       " 'hi guy ani idea whi my photo size rang from mb but some up to mb no set have been chang just point and click live photo is on in all instanc thank',\n",
       " 'the messag say the sim card ha lock pleas power cycl the devic and if the problem persist contact custom servic i ve tri reset it and it doesn t fix anyth',\n",
       " 'in the last week text from certain peopl are come in as download doe anyon know whi thi is happen and if thi can be fix thank you in advanc',\n",
       " 'i apolog if thi ha been ask befor i did a quick search tri to find an old post but didn t see anyth i m sure thi is an issu that appli to ani nest accessori but mine is specif with the hub max i have sever other nest devic set up and use the nest wifi router as well in the app it prompt me to select a nearbi devic and the hub max show up on the list select hit next my home app display connect to nest hub max and give me the anim but then won t connect doesn t give me ani option for troubleshoot either it just tell me to make sure the devic is nearbi and then let me tri again i m not great with troubleshoot thing so i haven t tri a lot yet i have tri restart the router and that didn t help thi is basic the end of my technolog expertis when it come to fix issu',\n",
       " 'last night i notic a slight imag distort in the top left of the screen on my a and look close to find a tini bump under the glass within a coupl of hour the singl bump turn into a path of multipl bump with a creas go down the center of the path thi wa while sit at home no travel no moistur no bump no bruis i did my best at take a coupl of pictur here http i imgur com cb b m jpg and here http i imgur com i yb d jpg but they don t do it justic the glass is perfectli smooth and even though the photo make it look like the bump are float abov the amol panel in real life they look like they re push up from the undersid of the panel and photograph the slight creas effect is beyond me i couldn t get it captur no matter what i tri i m still under warranti but i ve been burnt by googl custom support in the past and the ubreakifix locat in my area don t have the most inspir review everyth els work fine on thi phone and i don t want to trade one problem for anoth so i ll probabl just ignor it and hold onto the phone as is but i wa curiou about two thing ha thi happen to anyon els and might thi be an indic of someth els fail intern',\n",
       " 'ha anyon els notic that when use googl assist to control smart home devic that assist no longer accept the such as turn on the live room light when the devic is name live room light in the home app i use to be abl to say the abov sentenc and assist would turn on the light now it tell me that the devic is not setup or that it cannot help me at thi time even in my routin assist doe not say the anymor when i use my bedtim routin assist just say front door is alreadi lock and it use to say the front door is alreadi lock i know thi is a trivial differ but i wa use to say my command one way and now it seem that it is no longer accept and it ha taken me a minut to retrain myself with the command that assist will work with',\n",
       " 'just a specul for the time be on the upcom pixel sinc it s rumor to be run on a snapdragon g processor i m guess it s ole screen will be run at either full hd at either hz or hz anyon want to take a wild guess if it go to be the case sourc snapdragon g to support full hd hz http www xda develop com qualcomm snapdragon processor specif featur amp',\n",
       " 'i just got the new pixel bud and love them so far i howev also own a chromebook i want to use my pixel bud with a chromebook and my pixel i read that fast pair wa suppos to work with a chromebook as well and be abl to sync to bluetooth across your devic doe anybodi know if it s work or how to get to work',\n",
       " 'on pixel xl realli annoy i ll put my bluetooth bud in and out of the case dure the day to recharg usual no issu but late i ve had a problem where it say the bud are connect but when i go to play someth it play through the phone speaker even though the media set are set to play through the connect bluetooth devic actual pretti embarrass at work when my music or podcast start blare for all to hear oddli enough it s solv by reboot the phone but i hate have to do thi constantli',\n",
       " 'http imgur com a g kxf t http imgur com a g kxf t can t believ i have to make a post about thi but what the hell is go on here lol i can t for the life of me figur what set is caus my flip clock light to look differ than the preview imag see imgur link ani idea',\n",
       " 'hey guy i bought a pixel from amazon at the begin of march and love it i recent drop the phone in about waist heigh feet of water i pull the phone our immedi and dri it it wa work but after about minut the screen start glitch and now the devic will power on but the screen wont veri disappoint in thi current i am soak it in silica gel but i am afraid that the damag ha alreadi been done what are my option to move forward',\n",
       " 'i bought a new router and i chang the wifi name so i had to reset all my devic i have either a googl speaker or sono beam with googl assist in each room befor all of thi i would just say hey googl turn of the light and onli the light in that room would turn off but now it s turn off all the light in my hous ani idea what s wrong i have all philip hue light',\n",
       " 'it will be interest to see how googl and other innov to serv the public as we emerg from quarentin will face unlock shift to a retina scan is that practic will googl glass be market to consum again will pixel bud and voic activ be the norm when googl user are in public i have a pixel and fossil gen and would like to avoid touch then in public so as to avoid the need to clean them everi time i arriv somewher',\n",
       " 'is there ani way to get x zoom on a pixel camera i have a pixel xl have had it sinc launch onli thing i wish thi could do is x zoom like iphon and samsung have these day ani way to do thi',\n",
       " 'anyon experi thi ill put it in my pocket lock ill come back unlock it and it restart',\n",
       " 'hi the featur where googl can search and do recip with you is pretti neat i ve been digit my recip into a mediawiki host on my local network is it at all possibl to have googl search in my own wiki and then read out recip like it doe for recip host on onlin site i don t want to expos my wiki to the internet if i can at all help it thank',\n",
       " 'hello all x b so i got my new pixel xl the other day and notic that it ha a green tint when the bright is below with a gray background when in a dark room dure the day it s not notic doe anyon have thi problem i look it up and some peopl have said that it went away after certain updat and it sound like it s a softwar issu x b googl is offer to replac my devic but i want to know if anyon had thi problem befor and if it s worth the hassl x b edit pictur for exampl http imgur com k vaubc',\n",
       " 'shower thoght',\n",
       " 'hey everyon sorri if thi issu ha been post befor but i couldn t find anyth i ve been have thi on go issu that happen randomli it s been happen to me for at least a year as you can see in the video the music is stop and start rapidli it doesn t happen veri often but it s still an annoy bug i have tri forc close the home app and the spotifi app but the onli way to stop it is to press stop cast in the home app when thi happen the touch control for play stop on my googl home doe not respond i ve had thi issu on a home mini which i upgrad to a home so i assum the issu is with spotifi is anyon els have thi issu ani idea on how to fix thi x b http reddit com link gdckp video o h vc ybrw player',\n",
       " 'hi guy i drop my pixel a xl in water about cm in height and everyth is work except for the speaker the bottom and front fire speaker are both dead ani help or suggest',\n",
       " 'have two ecobe thermostat one got upstair and one for downstair as of today i can no longer control them with voic i can log into the googl home app and control both devic but i cannot turn them on with ok googl turn on ac or make it cooler or anyth like that if it s turn on through the app or manual i can howev turn it off or two googl to set it to a differ temperatur but if it s alreadi turn off and i ask it to turn on ac or ani similar command it alway say sorri someth went wrong and i m unabl to control your home devic honestli i m get pretti sick of googl home late as thi seem to be a constant battl with everi devic in my home stuff i have tri i have log back into the ecobe app i have unlink my ecobe from googl home and ad it again like it wa brand new current they re name upstair and downstair but i have tri other name i would like to be about to control the thermostat with my googl home devic too otherwis what s their point thi error messag happen whether i use the googl home or my phone howev like i said it onli happen if the devic is not current turn on if it s turn on it work fine and will chang the temperatur or turn off',\n",
       " 'when i ask my googl home to play a particular song it play that song from spotifi and then it would play song similar start today it just repeat the same song over spotifi issu pay member or googl home issu',\n",
       " 'just got googl nest wifi with one access point while it is nice they need to give advanc user more option',\n",
       " 'what game if ani can you play util the tv especi group',\n",
       " 'sinc both are wireless i wa wonder if anyon of you guy found or know of a wireless charg pad i can use that charg both of these side by side kinda like the iphon appl watch combo stand',\n",
       " 'rear camera nexu x p soni imx mp f um laser af no ei and oi mm origin pixel soni imx mp f m pdaf laser af ei no oi mm pixel soni imx mp f m dppdaf oi ei laser af mm pixel soni imx mp f m dppdaf oi ei mm pixel a soni imx mp f m dppdaf oi ei mm pixel soni imx mp f m dppdaf oi ei mm pixel ha a telephoto len of mp which i thought might impress but it is mostli averag onli it bare give x magnif in h w and slightli clearer photo on zoom but not much pixel a soni imx mp f m dppdaf oi ei mm for year the camera sensor hardwar ha almost been the same nearli ident thi ha been a bit disappoint for me it in fact reduc from um to um when move from pixel to pixel mayb for the dppdaf portrait mode enabl featur the pixel may again come with the same sensor of imx which would be pretti disappoint or they might upgrad it to imx um which would be a good upgrad but still feel sorta increment what you guy think what are the area the futur pixel phone camera can make seriou improv in captur super fast action much better color scienc hdr video improv slow motion super high iso x zoom periscop cam etc do you feel the next huge h w upgrad and leap of the camera sensor and tech would come in the pixel or an interest shift in pixel would be the custom samsung exyno processor which mean mayb we can no longer use gcam in cheaper snapdragon phone',\n",
       " 'so i watch anim in japanes and my googl will respond to it for some reason i think it hilari',\n",
       " 'locat prompt http imgur com a ikm an no matter what i do i m unabl to click on allow or deni whenev thi prompt come up i just have to swipe for the back gestur to exit out of the window doe anyon els have thi issu',\n",
       " 'i feel like i m a fairli tech savvi person but i m realli at a loss so i just got three new nest mini nd gen to replac my amazon setup today i wa excit about it as soon as i saw how easi it wa to add the devic and set it all up cue the disappoint is good at that i link my roku tv fairli new inch tcl i wa so excit to tell it to launch hulu my tv immedi said pleas use the remot to enter command or someth similar googl bark at me that thi devic doesn t support that so i went into googl home select the roku tv press power poof it went off great next logic step can it then turn it back on click dark no logo no home screen dark i could move around the menu and hear everyth like normal but absolut no pictur i have alreadi tri the hard reboot unplug second unlink roku unplug all input and internet and hard reboot factori reset by remot combin factori reset by reset pin on the tv hold power for second on remot note when it s hard reset it doe show roku on the screen for one frame clearli befor it s back to dark it s like it s fine until it read some set and goe right back to black thi is definit directli due to me power it off via googl home ha anyon els heard of thi mad befor pleas help',\n",
       " 'out of nowher one of my googl home mini start play music three time around am am check the speaker and onli two account have access to it accord to the googl home app when play our devic state that spotifi wa stream to it howev neither phone ha spotifi instal check googl activ histori on both googl account and found no interact with googl check and there were no timer or alarm set check all third parti app which have access to our googl account to make sure none of them had the abil to initi command for music play through assist even check wifi to see if mayb someon had gain access to our wifi network and they had not i am out of idea to tri but it seem to have stop happen i am wonder if anyon els ha encount thi befor',\n",
       " 'thi is probabl the worst place to ask thi question but i wa wonder if ani of you have a pixel and mayb prefer galaxi bud i current have a note which is kind curs becaus i m in thi subreddit and want to know which one you guy might prefer',\n",
       " 'i got a pixel unlock carrier that i want to root and i m stuck at unlock the bootload i m abl to reset the devic and set the unlock oem option in dev set but in order to get to that i have to connect to wifi otherwis it s gray out i m abl to adb reboot into the bootload screen but when i use the command fastboot flash unlock it say fail remot flash unlock is not allow whi would thi be i have the usb driver instal etc and thi isn t the verizon version of the phone',\n",
       " 'is anyon expect the a to be announc tomorrow i know the keynot wa meant to be tomorrow where the phone could have been announc',\n",
       " 'my home and mini stop work recent they won t play music or control smart devic everi command is sorri someth went wrong give it anoth tri when you re readi i ve tri reset both of them thi just start yesterday ani idea',\n",
       " 'doe anyon know if googl will add group video chat to nest hub max',\n",
       " 'hello nest cam owner suffer a known issu wherebi the stream sent to a chromecast disconnect after a set interv often most minut thi is similar to how an idl youtub receiv will return to ambient display automat after a set interv on chromecast except the nest cam is activ stream at the time i d like to hear from home hub nest hub max owner on whether thi is also the case when cast the camera stream to their smart display or if it stream uninterrupt indefinit pleas and thank you',\n",
       " 'doe anyon know how to turn off the featur that allow a phone s physic volum control to chang the volum on a googl home and or chromecast i have both and sometim i am listen to music on the googl home or watch a show on the chromecast then go to check someth on my phone and need to adjust just the volum on my phone but the physic button on the phone chang the volum of other devic for exampl i open an app like instagram increas the volum to listen to the video then all of a sudden my googl home is play loud becaus it respond to my physic volum control button and i cant hear the video on the phone i have an iphon i have search and search so it might not even be a possibl to disabl thi hope someon here ha a trick thank you',\n",
       " 'hi i ve just recent bought a nest home mini and a mi box with a chromecast ultra built in howev i am use thi on a monitor with no inbuilt speaker the intent of these purchas were to be abl to connect the chromecast to the googl nest speaker and use that instead but i just seem to find myself struggl to get it to happen pleas ani advic or guid would realli be appreci',\n",
       " 'just got my pair super excit i ve set them up with my pixel xl howev everi time i tri to test out the find my phone on the earbud they alway just give me the instruct on how to do it i alreadi know how to activ it whi won t it actual just find my phone instead of repeat the instruct over and over again',\n",
       " 'my nest hub max use to display both person and googl art at the same time then i went to the photo frame section on devic set now i am onli abl to select either my photo or googl or the default art galleri i can no longer select both to display at the same time ani way to fix thi',\n",
       " 'when switch app in io with googl home mini ghm connect via bluetooth the ghm automat set it volum up to max volum on the io devic doe not seem to have been chang how do you prevent thi volum chang in ghm',\n",
       " 'so i just pick up the pixel bud and have been highli anticip them throughout the spring i ve never had nice bluetooth earbud just a coupl pair of the cheap one on amazon i do howev heavili use and love my soni xm s wh xm s for music phone call and ps i pick up the pixel bud look for that seamless integr with my pixel xl so after my first work from home day here are my impress i got what i want seamless integr with the pixel xl setup wa quick and easi the bud pair almost instantli when you open the case you get a nice overview of batteri level for each individu earbud and for the case itself in the set menu speak of batteri i ve found that the earbud batteri life is about accur to what googl say at hr of music playback and hr of talk time it doesn t compet with other earbud in the price rang howev thi hasn t been an issu for me so far becaus when i ve been on phone call today i ve just been use one earbud at a time i absolut love thi featur and it seem to work veri well want to use just one earbud take one out of the case and stick it in your ear the phone recogn which one you re use and which one is charg in the case i took my first hour long call thi morn with the left earbud and drain it down to batteri then swap for the second consecut hour call in matter of like sec i think i ll be do thi for most of my use case even when travel but if you re someon that need both earbud for long phone call session over hr at a time i wouldn t recommend these sound is much differ than my soni s but i love it you can easili hear the outsid world and there is crisp clear music kind of just happen in your ear it s much differ than the anc xm s you re kind of in your own isol world with those headphon it sound that way and certainli feel that way as well i imagin i ll be use the soni s and pixel bud in differ scenario from now on if i m just listen to music at my desk or on a plane i ll be use the soni s if i m exercis take call or work in the lab while on a call i ll be use the pixel in fact i think i ll be take most of my call with the pixel bud from now on comfort for my ear these are veri comfort they don t form a seal like other earbud but the littl rubber spine fit perfectli i don t think i could shake them out if i tri i do have a cheap pair of aukey taotron airpod knock off and when i m on a call with those i purpos have to loosen them from my ear a bit becaus it s hard to talk with a perfect seal on your ear anyway the pixel bud are pretti comfort for me for the first hour or two of wear after that i felt like i want to take them out and let my ear breath howev my wife tri them and they absolut do not work for her ear the littl rubber spine just doe not have a place to rest for her ear that be said she know she ha weird ear and ha a lot of troubl find earbud that work for her in gener she primarili use the bose s later in the afternoon i gave a test call to my wife from the car and result were great use the googl assist via the headphon to place the call and that work immedi just like use it from my phone at first i had just the right earbud in and my wife said the audio wa clear and she couldn t hear ani of the background nois from insid the car she couldn t tell i wa actual call from the car i pop the other earbud in and she said the audio got a bit louder but still just as clear then i roll down the window expect the mic to pick up the wind whip around in the car but noth seem like whatev trick googl came up with to cut out background nois realli work and call qualiti is great overal i m love the new pixel bud i ve seen some review mention that they re a bit overpr especi compar to the samsung bud i haven t tri those so i m not in a posit to compar valu but i will say that i don t feel like i paid too much i m veri happi with the featur build qualiti and sound qualiti enough so to write up a review on them tl dr good sound good comfort great call qualiti great build qualiti great featur seamless integr with my pixel meh batteri life i m a happi custom on the whole edit i actual have the taotron not aukey airpod knock off did a littl layman s sound comparison with them my wh xm s and the bud in one of the comment below edit i have the over the ear wh xm s not the wf xm bud i knew about soni s bud but didn t know they re also name the xm s',\n",
       " 'smartphon to tr adapt are a thing but onli for batteri power mic pocket oper run on batteri so i wa wonder if it could be done befor i make a purchas anybodi got the juic on thi',\n",
       " 'hello i ve link my googl home app on my iphon to my googl nest mini then i went to the assist s set in my home app and set the app bring as my list provid so that when i ask googl to add bread to my shop list it will add it to bring and not to the horribl default shop list but it just won t work the assist will keep ad the bread to the googl default list instead i can see the list in bring is link to the assist correctli but it won t updat the exact same procedur work great on my wife s android phone ha thi happen to anyon els thank you',\n",
       " 'so when i ask gh to remind me at pm to take the chicken out of the oven i realli don t get a remind gh put a remind on my calendar that doesn t help me i need an actual voic announc at pm help suggest',\n",
       " 'from what i understood you can onli play music on the speaker but i have been abl to play spotifi on it from a differ wifi my phone is connect to a differ network than what googl speaker is connect to i don t know much of the setup sinc i don t live at my home anymor but just curiou becaus i seem to be now have issu play spotifi',\n",
       " 'i got my pixel bud last week and i wa have connect issu as mani peopl here have post about my main problem wa lose connect when go on a walk outsid i decid to chat with a googl rep to see what they would suggest for the fix i immedi told him that i had alreadi reset the bud sever time so he proceed to not even ask me to do that howev he did have me check the googl play servic and os were up to date after that i wa told to find the googl app on the play store and uninstal it after uninstal it i instal it again and then restart my phone thi wa done yesterday and so far i haven t had ani issu it might be a bit earli to say thi issu is fix but it s worth the tri i m on pixel xl if that make a differ',\n",
       " 'we ve been abl to do thi sinc we bought our hub over a year ago it would break from time to time and we d have to go into the app and turn the featur off and back on again well it hasn t work sinc last week and we ve tri everyth we could think of to get thi work anyon els have an issu with thi',\n",
       " 'sorri if thi is a basic question but i realli don t know usual without a quarantin go on i go to verizon and buy my phone but i m tri to avoid that and then i saw the pixel on sale on the googl store i also see a verizon option though that come with a sim card but it full price current i have a pixel with verizon and a sim card in it doe that mean i can buy the unlock pixel and then just move my sim card into that one or is it not as easi as that',\n",
       " 'i saw awhil ago that lenovo wa make ambient mode tablet to could partial function as a smart display googl home display ha anyon use on of these are they ani good',\n",
       " 'i m extrem rude to my googl home like me hey googl who s still in the democrat primari her i m sorri i can t help you with that me that s caus you re a fuck idiot initi i think i did it as a joke but now it s clearli an unconsci habit am i alon or do you all do thi too doe she hear me do you think she s program to report convers that end thi way becaus they lead to googl home s limit i e i never act aggress after a weather report becaus she s good at that in the not too distant futur will we judg peopl base on how they treat robot i bet you peopl were allow to be rude to servic worker like year ago mayb robot are the same',\n",
       " 'the studi aim to understand how variou household member interact with the smart devic in a home in particular we re look to interview at least two member of a household that contain smart home devic smart home devic can includ but are not limit to smart thermostat e g googl nest ecobe smart thermostat smart light bulb e g philip hue smart plug voic assist e g amazon alexa googl home smartth hub etc smart lock secur camera motion sensor the studi will take approxim hour and each particip will be reward a amazon giftcard for particip if you would like to particip in the studi pleas fill out thi sign up form http form gle cnjzatr u egbye and have your other particip household member do so as well the sign up form doe collect contact inform so pleas feel free to email vinay koshi at vkoshi illinoi edu mailto vkoshi illinoi edu first if you have ani question or concern about the studi contact inform collect will onli be use to contact you about thi particular studi and will be delet after the studi s complet if you qualifi for the studi you will be sent an email to schedul a time for the interview conduct via video chat thi studi ha been approv by the univers of illinoi irb offic http opr research illinoi edu thank you',\n",
       " 'right befor the coronaviru ravag the world i wa in dublin on a vacat i decid to test out the zoom while wait for the train in the citi one night i forgot i had them until today here s the link to the photo http imgur com galleri ffvd http imgur com galleri ffvd first is no zoom second is zoom in all the way third is a screenshot of me zoom in on the second photo to see how close you can actual get i think the zoom is realli impress and i know it s a hot topic of convers but i am happier with my zoom len than i would be with a wide angl ha anyon els gotten to util the zoom abil of the pixel at all would love to see what you guy got']"
      ]
     },
     "execution_count": 138,
     "metadata": {},
     "output_type": "execute_result"
    }
   ],
   "source": [
    "# Review of the X_test_clean words\n",
    "# Because some of the words were stemmatized\n",
    "# google converted to googl\n",
    "# excercise care when removing these words subsequently\n",
    "X_test_clean"
   ]
  },
  {
   "cell_type": "markdown",
   "metadata": {},
   "source": [
    "### Logistic Regression Model\n",
    "---\n",
    "For this project, Logistic Regression and Naive Bayes models are explored. Logistic Regression models are examined in this section."
   ]
  },
  {
   "cell_type": "code",
   "execution_count": 225,
   "metadata": {},
   "outputs": [],
   "source": [
    "# Set up a pipeline with two stages\n",
    "# 1.CountVectorizer (transformer)\n",
    "# 1.1 ['google', 'home', 'google home', 'nest', 'mini' and 'hub'] words remove to improve model generalizivity\n",
    "# 2.LogisticRegression (estimator)\n",
    "pipe1 = Pipeline([('cvec',CountVectorizer(stop_words=['googl', 'home', 'googl home', 'googlehom',\\\n",
    "                                                      'pixel', 'googlepixel', 'nest', 'mini', 'hub'])),\\\n",
    "                 ('logreg',LogisticRegression(solver='lbfgs',max_iter=200,random_state=42))\\\n",
    "                ])"
   ]
  },
  {
   "cell_type": "code",
   "execution_count": 226,
   "metadata": {
    "scrolled": true
   },
   "outputs": [
    {
     "data": {
      "text/plain": [
       "{'memory': None,\n",
       " 'steps': [('cvec',\n",
       "   CountVectorizer(analyzer='word', binary=False, decode_error='strict',\n",
       "                   dtype=<class 'numpy.int64'>, encoding='utf-8', input='content',\n",
       "                   lowercase=True, max_df=1.0, max_features=None, min_df=1,\n",
       "                   ngram_range=(1, 1), preprocessor=None,\n",
       "                   stop_words=['googl', 'home', 'googl home', 'googlehom', 'pixel',\n",
       "                               'googlepixel', 'nest', 'mini', 'hub'],\n",
       "                   strip_accents=None, token_pattern='(?u)\\\\b\\\\w\\\\w+\\\\b',\n",
       "                   tokenizer=None, vocabulary=None)),\n",
       "  ('logreg',\n",
       "   LogisticRegression(C=1.0, class_weight=None, dual=False, fit_intercept=True,\n",
       "                      intercept_scaling=1, l1_ratio=None, max_iter=200,\n",
       "                      multi_class='auto', n_jobs=None, penalty='l2',\n",
       "                      random_state=42, solver='lbfgs', tol=0.0001, verbose=0,\n",
       "                      warm_start=False))],\n",
       " 'verbose': False,\n",
       " 'cvec': CountVectorizer(analyzer='word', binary=False, decode_error='strict',\n",
       "                 dtype=<class 'numpy.int64'>, encoding='utf-8', input='content',\n",
       "                 lowercase=True, max_df=1.0, max_features=None, min_df=1,\n",
       "                 ngram_range=(1, 1), preprocessor=None,\n",
       "                 stop_words=['googl', 'home', 'googl home', 'googlehom', 'pixel',\n",
       "                             'googlepixel', 'nest', 'mini', 'hub'],\n",
       "                 strip_accents=None, token_pattern='(?u)\\\\b\\\\w\\\\w+\\\\b',\n",
       "                 tokenizer=None, vocabulary=None),\n",
       " 'logreg': LogisticRegression(C=1.0, class_weight=None, dual=False, fit_intercept=True,\n",
       "                    intercept_scaling=1, l1_ratio=None, max_iter=200,\n",
       "                    multi_class='auto', n_jobs=None, penalty='l2',\n",
       "                    random_state=42, solver='lbfgs', tol=0.0001, verbose=0,\n",
       "                    warm_start=False),\n",
       " 'cvec__analyzer': 'word',\n",
       " 'cvec__binary': False,\n",
       " 'cvec__decode_error': 'strict',\n",
       " 'cvec__dtype': numpy.int64,\n",
       " 'cvec__encoding': 'utf-8',\n",
       " 'cvec__input': 'content',\n",
       " 'cvec__lowercase': True,\n",
       " 'cvec__max_df': 1.0,\n",
       " 'cvec__max_features': None,\n",
       " 'cvec__min_df': 1,\n",
       " 'cvec__ngram_range': (1, 1),\n",
       " 'cvec__preprocessor': None,\n",
       " 'cvec__stop_words': ['googl',\n",
       "  'home',\n",
       "  'googl home',\n",
       "  'googlehom',\n",
       "  'pixel',\n",
       "  'googlepixel',\n",
       "  'nest',\n",
       "  'mini',\n",
       "  'hub'],\n",
       " 'cvec__strip_accents': None,\n",
       " 'cvec__token_pattern': '(?u)\\\\b\\\\w\\\\w+\\\\b',\n",
       " 'cvec__tokenizer': None,\n",
       " 'cvec__vocabulary': None,\n",
       " 'logreg__C': 1.0,\n",
       " 'logreg__class_weight': None,\n",
       " 'logreg__dual': False,\n",
       " 'logreg__fit_intercept': True,\n",
       " 'logreg__intercept_scaling': 1,\n",
       " 'logreg__l1_ratio': None,\n",
       " 'logreg__max_iter': 200,\n",
       " 'logreg__multi_class': 'auto',\n",
       " 'logreg__n_jobs': None,\n",
       " 'logreg__penalty': 'l2',\n",
       " 'logreg__random_state': 42,\n",
       " 'logreg__solver': 'lbfgs',\n",
       " 'logreg__tol': 0.0001,\n",
       " 'logreg__verbose': 0,\n",
       " 'logreg__warm_start': False}"
      ]
     },
     "execution_count": 226,
     "metadata": {},
     "output_type": "execute_result"
    }
   ],
   "source": [
    "# Parameters of pipeline object\n",
    "pipe1.get_params()"
   ]
  },
  {
   "cell_type": "code",
   "execution_count": 227,
   "metadata": {},
   "outputs": [],
   "source": [
    "# Load pipeline object into GridSearchCV to tune CountVectorizer\n",
    "# Search over the following values of hyperparameters:\n",
    "# Maximum number of features fit (top no. frequent occur words): 2000, 3000, 4000, 5000\n",
    "# Minimum number of documents (collection of text) needed to include token: 2, 3\n",
    "# Maximum number of documents needed to include token: 90%, 95%\n",
    "# Check (individual tokens) and also check (individual tokens and 2-grams).\n",
    "\n",
    "# n-gram: 1 token, 1-gram, or 1 token, 2-gram.\n",
    "pipe_params = {\n",
    "    'cvec__max_features': [2_000,3_000,4_000,5_000],\\\n",
    "    'cvec__min_df': [2,3],\\\n",
    "    'cvec__max_df': [0.9,0.95],\\\n",
    "    'cvec__ngram_range': [(1, 1), (1,2)]\\\n",
    "}"
   ]
  },
  {
   "cell_type": "code",
   "execution_count": 228,
   "metadata": {},
   "outputs": [],
   "source": [
    "# Instantiate GridSearchCV.\n",
    "\"\"\"pipe refers to the object to optimize.\"\"\"\n",
    "\"\"\"param_grid refer to parameter values to search.\"\"\"\n",
    "\"\"\"cv refers to number of cross-validate fold.\"\"\"\n",
    "gs1 = GridSearchCV(pipe1,\\\n",
    "                  param_grid=pipe_params,\\\n",
    "                  cv=10)"
   ]
  },
  {
   "cell_type": "code",
   "execution_count": 229,
   "metadata": {},
   "outputs": [
    {
     "data": {
      "text/plain": [
       "GridSearchCV(cv=10, error_score=nan,\n",
       "             estimator=Pipeline(memory=None,\n",
       "                                steps=[('cvec',\n",
       "                                        CountVectorizer(analyzer='word',\n",
       "                                                        binary=False,\n",
       "                                                        decode_error='strict',\n",
       "                                                        dtype=<class 'numpy.int64'>,\n",
       "                                                        encoding='utf-8',\n",
       "                                                        input='content',\n",
       "                                                        lowercase=True,\n",
       "                                                        max_df=1.0,\n",
       "                                                        max_features=None,\n",
       "                                                        min_df=1,\n",
       "                                                        ngram_range=(1, 1),\n",
       "                                                        preprocessor=None,\n",
       "                                                        stop_words=['googl',\n",
       "                                                                    'home',\n",
       "                                                                    'googl '\n",
       "                                                                    'home',\n",
       "                                                                    'googlehom',...\n",
       "                                                           n_jobs=None,\n",
       "                                                           penalty='l2',\n",
       "                                                           random_state=42,\n",
       "                                                           solver='lbfgs',\n",
       "                                                           tol=0.0001,\n",
       "                                                           verbose=0,\n",
       "                                                           warm_start=False))],\n",
       "                                verbose=False),\n",
       "             iid='deprecated', n_jobs=None,\n",
       "             param_grid={'cvec__max_df': [0.9, 0.95],\n",
       "                         'cvec__max_features': [2000, 3000, 4000, 5000],\n",
       "                         'cvec__min_df': [2, 3],\n",
       "                         'cvec__ngram_range': [(1, 1), (1, 2)]},\n",
       "             pre_dispatch='2*n_jobs', refit=True, return_train_score=False,\n",
       "             scoring=None, verbose=0)"
      ]
     },
     "execution_count": 229,
     "metadata": {},
     "output_type": "execute_result"
    }
   ],
   "source": [
    "# Fit GridSearch to the cleaned training data.\n",
    "gs1.fit(X_trainf_clean,y_trainf)"
   ]
  },
  {
   "cell_type": "code",
   "execution_count": 230,
   "metadata": {},
   "outputs": [
    {
     "name": "stdout",
     "output_type": "stream",
     "text": [
      "Best parameters: {'cvec__max_df': 0.9, 'cvec__max_features': 3000, 'cvec__min_df': 2, 'cvec__ngram_range': (1, 1)}\n",
      "Best score: 0.8884615384615385\n"
     ]
    }
   ],
   "source": [
    "# Check the results of the grid search\n",
    "\n",
    "print(f\"Best parameters: {gs1.best_params_}\")\n",
    "print(f\"Best score: {gs1.best_score_}\")"
   ]
  },
  {
   "cell_type": "code",
   "execution_count": 231,
   "metadata": {},
   "outputs": [],
   "source": [
    "# Save best model as gs1_model.\n",
    "\n",
    "gs1_model = gs1.best_estimator_"
   ]
  },
  {
   "cell_type": "code",
   "execution_count": 232,
   "metadata": {},
   "outputs": [
    {
     "name": "stdout",
     "output_type": "stream",
     "text": [
      "Accuracy on train set: 0.9971153846153846\n",
      "Accuracy on validate set: 0.8730769230769231\n"
     ]
    }
   ],
   "source": [
    "# Score model on training set & testing set\n",
    "print(f\"Accuracy on train set: {gs1_model.score(X_trainf_clean, y_trainf)}\")\n",
    "print(f\"Accuracy on validate set: {gs1_model.score(X_validate_clean, y_validate)}\")"
   ]
  },
  {
   "cell_type": "markdown",
   "metadata": {},
   "source": [
    "The model accuracy is higher than the baseline accuracy (0.506). However, the model is overfitted with about 12% drop in test accuracy compared to train accuracy."
   ]
  },
  {
   "cell_type": "code",
   "execution_count": 233,
   "metadata": {},
   "outputs": [
    {
     "data": {
      "text/html": [
       "<div>\n",
       "<style scoped>\n",
       "    .dataframe tbody tr th:only-of-type {\n",
       "        vertical-align: middle;\n",
       "    }\n",
       "\n",
       "    .dataframe tbody tr th {\n",
       "        vertical-align: top;\n",
       "    }\n",
       "\n",
       "    .dataframe thead th {\n",
       "        text-align: right;\n",
       "    }\n",
       "</style>\n",
       "<table border=\"1\" class=\"dataframe\">\n",
       "  <thead>\n",
       "    <tr style=\"text-align: right;\">\n",
       "      <th></th>\n",
       "      <th>pred googlepixel</th>\n",
       "      <th>pred googlehome</th>\n",
       "    </tr>\n",
       "  </thead>\n",
       "  <tbody>\n",
       "    <tr>\n",
       "      <th>Actual googlepixel</th>\n",
       "      <td>108</td>\n",
       "      <td>20</td>\n",
       "    </tr>\n",
       "    <tr>\n",
       "      <th>Actual googlehome</th>\n",
       "      <td>13</td>\n",
       "      <td>119</td>\n",
       "    </tr>\n",
       "  </tbody>\n",
       "</table>\n",
       "</div>"
      ],
      "text/plain": [
       "                    pred googlepixel  pred googlehome\n",
       "Actual googlepixel               108               20\n",
       "Actual googlehome                 13              119"
      ]
     },
     "execution_count": 233,
     "metadata": {},
     "output_type": "execute_result"
    }
   ],
   "source": [
    "# Confusion matrix on the first log reg model\n",
    "# Pass in true values, predicted values to confusion matrix\n",
    "# Convert Confusion matrix into dataframe\n",
    "# Positive class (class 1) is googlehome\n",
    "preds = gs1.predict(X_validate_clean)\n",
    "cm = confusion_matrix(y_validate, preds)\n",
    "cm_df = pd.DataFrame(cm,columns=['pred googlepixel','pred googlehome'], index=['Actual googlepixel','Actual googlehome'])\n",
    "cm_df"
   ]
  },
  {
   "cell_type": "markdown",
   "metadata": {},
   "source": [
    "The positive class (class 1) refers to `googlehome`. False positive means the observation is classified as `googlehome` when it is actually `googlepixel`. \n",
    "False negative means the ovservation is classified as `googlepixel` when it is actually `googlehome`."
   ]
  },
  {
   "cell_type": "code",
   "execution_count": 234,
   "metadata": {},
   "outputs": [],
   "source": [
    "# return nparray as a 1-D array.\n",
    "confusion_matrix(y_validate, preds).ravel()\n",
    "# Save TN/FP/FN/TP values.\n",
    "tn, fp, fn, tp = confusion_matrix(y_validate,preds).ravel()"
   ]
  },
  {
   "cell_type": "code",
   "execution_count": 235,
   "metadata": {},
   "outputs": [
    {
     "name": "stdout",
     "output_type": "stream",
     "text": [
      "Specificity: 0.8438\n",
      "Sensitivity: 0.9015\n"
     ]
    }
   ],
   "source": [
    "# Summary of metrics for first log reg model\n",
    "spec = tn/(tn+fp)\n",
    "sens = tp/(tp+fn)\n",
    "print(f\"Specificity: {round(spec,4)}\")\n",
    "print(f\"Sensitivity: {round(sens,4)}\")"
   ]
  },
  {
   "cell_type": "markdown",
   "metadata": {},
   "source": [
    "The Receiver Operating Characteristic curve is a way to visualize the overlap between our positive class and negative class by moving our classification threshold from 0 to 1. \n",
    "\n",
    "The ROC curve shows the trade-off between sensitivity (or TruePositiveRate) and specificity (1 – FalsePositiveRate). Classifiers that give curves closer to the top-left corner indicate a better performance. As a baseline, a no-skill classifier is expected to give points lying along the diagonal (FPRate = TPRate). The closer the curve is to the diagonal line, the less accurate the classifier is. \n",
    "\n",
    "Hence, the more area under the blue curve, the better separated the class distributions are. The best trade-off between sensitivity and specificity is the top-left point along the ROC curve."
   ]
  },
  {
   "cell_type": "code",
   "execution_count": 236,
   "metadata": {},
   "outputs": [
    {
     "data": {
      "text/html": [
       "<div>\n",
       "<style scoped>\n",
       "    .dataframe tbody tr th:only-of-type {\n",
       "        vertical-align: middle;\n",
       "    }\n",
       "\n",
       "    .dataframe tbody tr th {\n",
       "        vertical-align: top;\n",
       "    }\n",
       "\n",
       "    .dataframe thead th {\n",
       "        text-align: right;\n",
       "    }\n",
       "</style>\n",
       "<table border=\"1\" class=\"dataframe\">\n",
       "  <thead>\n",
       "    <tr style=\"text-align: right;\">\n",
       "      <th></th>\n",
       "      <th>validate_values</th>\n",
       "      <th>pred_probs</th>\n",
       "    </tr>\n",
       "  </thead>\n",
       "  <tbody>\n",
       "    <tr>\n",
       "      <th>1445</th>\n",
       "      <td>0</td>\n",
       "      <td>0.112767</td>\n",
       "    </tr>\n",
       "    <tr>\n",
       "      <th>1152</th>\n",
       "      <td>0</td>\n",
       "      <td>0.000006</td>\n",
       "    </tr>\n",
       "    <tr>\n",
       "      <th>216</th>\n",
       "      <td>1</td>\n",
       "      <td>0.464080</td>\n",
       "    </tr>\n",
       "    <tr>\n",
       "      <th>1001</th>\n",
       "      <td>0</td>\n",
       "      <td>0.001519</td>\n",
       "    </tr>\n",
       "    <tr>\n",
       "      <th>1120</th>\n",
       "      <td>0</td>\n",
       "      <td>0.103259</td>\n",
       "    </tr>\n",
       "  </tbody>\n",
       "</table>\n",
       "</div>"
      ],
      "text/plain": [
       "      validate_values  pred_probs\n",
       "1445                0    0.112767\n",
       "1152                0    0.000006\n",
       "216                 1    0.464080\n",
       "1001                0    0.001519\n",
       "1120                0    0.103259"
      ]
     },
     "execution_count": 236,
     "metadata": {},
     "output_type": "execute_result"
    }
   ],
   "source": [
    "# To visualize the ROC AUC curve, first\n",
    "# Create a dataframe called pred_df that contains:\n",
    "# 1. The list of true values of our validate set.\n",
    "# 2. The list of predicted probabilities based on our model.\n",
    "\n",
    "pred_proba = [i[1] for i in gs1.predict_proba(X_validate_clean)]\n",
    "\n",
    "pred_df = pd.DataFrame({'validate_values': y_validate,\n",
    "                        'pred_probs':pred_proba})\n",
    "pred_df.head()"
   ]
  },
  {
   "cell_type": "code",
   "execution_count": 237,
   "metadata": {},
   "outputs": [],
   "source": [
    "# Import roc_auc_score.\n",
    "from sklearn.metrics import roc_auc_score"
   ]
  },
  {
   "cell_type": "code",
   "execution_count": 238,
   "metadata": {},
   "outputs": [
    {
     "data": {
      "text/plain": [
       "0.9632753314393939"
      ]
     },
     "execution_count": 238,
     "metadata": {},
     "output_type": "execute_result"
    }
   ],
   "source": [
    "# Calculate ROC AUC.\n",
    "roc_auc_score(pred_df['validate_values'],pred_df['pred_probs'])"
   ]
  },
  {
   "cell_type": "code",
   "execution_count": 239,
   "metadata": {},
   "outputs": [
    {
     "data": {
      "image/png": "[encoded data removed]",
      "text/plain": [
       "<Figure size 720x504 with 1 Axes>"
      ]
     },
     "metadata": {
      "needs_background": "light"
     },
     "output_type": "display_data"
    }
   ],
   "source": [
    "#Create figure\n",
    "plt.figure(figsize = (10,7))\n",
    "\n",
    "# Create threshold values. (Dashed orange line in plot.)\n",
    "thresholds = np.linspace(0, 1, 200)\n",
    "\n",
    "# Define function to calculate sensitivity. (True positive rate.)\n",
    "def TPR(df, true_col, pred_prob_col, threshold):\n",
    "    true_positive = df[(df[true_col] == 1) & (df[pred_prob_col] >= threshold)].shape[0]\n",
    "    false_negative = df[(df[true_col] == 1) & (df[pred_prob_col] < threshold)].shape[0]\n",
    "    return true_positive / (true_positive + false_negative)\n",
    "    \n",
    "# Define function to calculate 1 - specificity. (False positive rate.)\n",
    "def FPR(df, true_col, pred_prob_col, threshold):\n",
    "    true_negative = df[(df[true_col] == 0) & (df[pred_prob_col] <= threshold)].shape[0]\n",
    "    false_positive = df[(df[true_col] == 0) & (df[pred_prob_col] > threshold)].shape[0]\n",
    "    return 1 - (true_negative / (true_negative + false_positive))\n",
    "    \n",
    "# Calculate sensitivity & 1-specificity for each threshold between 0 and 1.\n",
    "tpr_values = [TPR(pred_df, 'validate_values', 'pred_probs', prob) for prob in thresholds]\n",
    "fpr_values = [FPR(pred_df, 'validate_values', 'pred_probs', prob) for prob in thresholds]\n",
    "\n",
    "# Plot ROC curve.\n",
    "plt.plot(fpr_values, # False Positive Rate on X-axis\n",
    "         tpr_values, # True Positive Rate on Y-axis\n",
    "         label='ROC Curve')\n",
    "\n",
    "# Plot baseline. (Perfect overlap between the two populations.)\n",
    "plt.plot(np.linspace(0, 1, 200),\n",
    "         np.linspace(0, 1, 200),\n",
    "         label='baseline',\n",
    "         linestyle='--')\n",
    "\n",
    "# Label axes.\n",
    "plt.title(f'ROC Curve with AUC = {round(roc_auc_score(pred_df[\"validate_values\"], pred_df[\"pred_probs\"]),4)}', fontsize=22)\n",
    "plt.ylabel('Sensitivity', fontsize=18)\n",
    "plt.xlabel('1 - Specificity', fontsize=18)\n",
    "\n",
    "# Create legend.\n",
    "plt.legend(fontsize=16);"
   ]
  },
  {
   "cell_type": "markdown",
   "metadata": {},
   "source": [
    "An ROC AUC of 1 means the positive and negative populations are perfectly separated and that the model is as good as it can get. The closer the ROC AUC is to 1, the better. (1 is the maximum score.)"
   ]
  },
  {
   "cell_type": "markdown",
   "metadata": {},
   "source": [
    "What would be the impact on model accuracy with the removal of the discovered overlapping key words? Let's find out."
   ]
  },
  {
   "cell_type": "code",
   "execution_count": 240,
   "metadata": {},
   "outputs": [],
   "source": [
    "# Set up a pipeline, pipe2 with two stages\n",
    "# 1.CountVectorizer (transformer)\n",
    "# 1.1 ['google', 'home', 'google home', 'nest', 'mini' and 'hub'] words remove to improve model generalizivity\n",
    "# 2.LogisticRegression (estimator)\n",
    "# 3.Remove the words ['does', 'work', 'time', 'want', 'use', 'using', 'way', 'assistant', 've', 'tried'] \n",
    "# via CountVectorizer\n",
    "pipe2 = Pipeline([('cvec',CountVectorizer(stop_words=['googl', 'home', 'googl home', 'googlehom','pixel', 'googlepixel',\\\n",
    "                                                      'nest', 'mini', 'hub', 'does', 'work', 'time', 'want', 'use',\\\n",
    "                                                      'using', 'way', 'assistant', 've', 'tried'])),\\\n",
    "                  ('logreg',LogisticRegression(solver='lbfgs',max_iter=200,random_state=42))\\\n",
    "                 ])"
   ]
  },
  {
   "cell_type": "code",
   "execution_count": 241,
   "metadata": {},
   "outputs": [
    {
     "data": {
      "text/plain": [
       "{'memory': None,\n",
       " 'steps': [('cvec',\n",
       "   CountVectorizer(analyzer='word', binary=False, decode_error='strict',\n",
       "                   dtype=<class 'numpy.int64'>, encoding='utf-8', input='content',\n",
       "                   lowercase=True, max_df=1.0, max_features=None, min_df=1,\n",
       "                   ngram_range=(1, 1), preprocessor=None,\n",
       "                   stop_words=['googl', 'home', 'googl home', 'googlehom', 'pixel',\n",
       "                               'googlepixel', 'nest', 'mini', 'hub', 'does',\n",
       "                               'work', 'time', 'want', 'use', 'using', 'way',\n",
       "                               'assistant', 've', 'tried'],\n",
       "                   strip_accents=None, token_pattern='(?u)\\\\b\\\\w\\\\w+\\\\b',\n",
       "                   tokenizer=None, vocabulary=None)),\n",
       "  ('logreg',\n",
       "   LogisticRegression(C=1.0, class_weight=None, dual=False, fit_intercept=True,\n",
       "                      intercept_scaling=1, l1_ratio=None, max_iter=200,\n",
       "                      multi_class='auto', n_jobs=None, penalty='l2',\n",
       "                      random_state=42, solver='lbfgs', tol=0.0001, verbose=0,\n",
       "                      warm_start=False))],\n",
       " 'verbose': False,\n",
       " 'cvec': CountVectorizer(analyzer='word', binary=False, decode_error='strict',\n",
       "                 dtype=<class 'numpy.int64'>, encoding='utf-8', input='content',\n",
       "                 lowercase=True, max_df=1.0, max_features=None, min_df=1,\n",
       "                 ngram_range=(1, 1), preprocessor=None,\n",
       "                 stop_words=['googl', 'home', 'googl home', 'googlehom', 'pixel',\n",
       "                             'googlepixel', 'nest', 'mini', 'hub', 'does',\n",
       "                             'work', 'time', 'want', 'use', 'using', 'way',\n",
       "                             'assistant', 've', 'tried'],\n",
       "                 strip_accents=None, token_pattern='(?u)\\\\b\\\\w\\\\w+\\\\b',\n",
       "                 tokenizer=None, vocabulary=None),\n",
       " 'logreg': LogisticRegression(C=1.0, class_weight=None, dual=False, fit_intercept=True,\n",
       "                    intercept_scaling=1, l1_ratio=None, max_iter=200,\n",
       "                    multi_class='auto', n_jobs=None, penalty='l2',\n",
       "                    random_state=42, solver='lbfgs', tol=0.0001, verbose=0,\n",
       "                    warm_start=False),\n",
       " 'cvec__analyzer': 'word',\n",
       " 'cvec__binary': False,\n",
       " 'cvec__decode_error': 'strict',\n",
       " 'cvec__dtype': numpy.int64,\n",
       " 'cvec__encoding': 'utf-8',\n",
       " 'cvec__input': 'content',\n",
       " 'cvec__lowercase': True,\n",
       " 'cvec__max_df': 1.0,\n",
       " 'cvec__max_features': None,\n",
       " 'cvec__min_df': 1,\n",
       " 'cvec__ngram_range': (1, 1),\n",
       " 'cvec__preprocessor': None,\n",
       " 'cvec__stop_words': ['googl',\n",
       "  'home',\n",
       "  'googl home',\n",
       "  'googlehom',\n",
       "  'pixel',\n",
       "  'googlepixel',\n",
       "  'nest',\n",
       "  'mini',\n",
       "  'hub',\n",
       "  'does',\n",
       "  'work',\n",
       "  'time',\n",
       "  'want',\n",
       "  'use',\n",
       "  'using',\n",
       "  'way',\n",
       "  'assistant',\n",
       "  've',\n",
       "  'tried'],\n",
       " 'cvec__strip_accents': None,\n",
       " 'cvec__token_pattern': '(?u)\\\\b\\\\w\\\\w+\\\\b',\n",
       " 'cvec__tokenizer': None,\n",
       " 'cvec__vocabulary': None,\n",
       " 'logreg__C': 1.0,\n",
       " 'logreg__class_weight': None,\n",
       " 'logreg__dual': False,\n",
       " 'logreg__fit_intercept': True,\n",
       " 'logreg__intercept_scaling': 1,\n",
       " 'logreg__l1_ratio': None,\n",
       " 'logreg__max_iter': 200,\n",
       " 'logreg__multi_class': 'auto',\n",
       " 'logreg__n_jobs': None,\n",
       " 'logreg__penalty': 'l2',\n",
       " 'logreg__random_state': 42,\n",
       " 'logreg__solver': 'lbfgs',\n",
       " 'logreg__tol': 0.0001,\n",
       " 'logreg__verbose': 0,\n",
       " 'logreg__warm_start': False}"
      ]
     },
     "execution_count": 241,
     "metadata": {},
     "output_type": "execute_result"
    }
   ],
   "source": [
    "# Parameters of pipeline object\n",
    "pipe2.get_params()"
   ]
  },
  {
   "cell_type": "code",
   "execution_count": 242,
   "metadata": {},
   "outputs": [],
   "source": [
    "# Load pipeline object into GridSearchCV to tune CountVectorizer\n",
    "# Search over the following values of hyperparameters:\n",
    "# Maximum number of features fit (top no. frequent occur words): 2000, 3000, 4000, 5000\n",
    "# Minimum number of documents (collection of text) needed to include token: 2, 3\n",
    "# Maximum number of documents needed to include token: 90%, 95%\n",
    "# Check (individual tokens) and also check (individual tokens and 2-grams).\n",
    "\n",
    "# n-gram: 1 token, 1-gram, or 1 token, 2-gram.\n",
    "pipe2_params = {\n",
    "    'cvec__max_features': [2_000,3_000,4_000,5_000],\\\n",
    "    'cvec__min_df': [2,3],\\\n",
    "    'cvec__max_df': [0.9,0.95],\\\n",
    "    'cvec__ngram_range': [(1, 1), (1,2)]\\\n",
    "}"
   ]
  },
  {
   "cell_type": "code",
   "execution_count": 243,
   "metadata": {},
   "outputs": [],
   "source": [
    "# Instantiate GridSearchCV.\n",
    "\"\"\"pipe refers to the object to optimize.\"\"\"\n",
    "\"\"\"param_grid refer to parameter values to search.\"\"\"\n",
    "\"\"\"cv refers to number of cross-validate fold.\"\"\"\n",
    "gs2 = GridSearchCV(pipe2,\\\n",
    "                  param_grid=pipe2_params,\\\n",
    "                  cv=10)"
   ]
  },
  {
   "cell_type": "code",
   "execution_count": 244,
   "metadata": {},
   "outputs": [
    {
     "data": {
      "text/plain": [
       "GridSearchCV(cv=10, error_score=nan,\n",
       "             estimator=Pipeline(memory=None,\n",
       "                                steps=[('cvec',\n",
       "                                        CountVectorizer(analyzer='word',\n",
       "                                                        binary=False,\n",
       "                                                        decode_error='strict',\n",
       "                                                        dtype=<class 'numpy.int64'>,\n",
       "                                                        encoding='utf-8',\n",
       "                                                        input='content',\n",
       "                                                        lowercase=True,\n",
       "                                                        max_df=1.0,\n",
       "                                                        max_features=None,\n",
       "                                                        min_df=1,\n",
       "                                                        ngram_range=(1, 1),\n",
       "                                                        preprocessor=None,\n",
       "                                                        stop_words=['googl',\n",
       "                                                                    'home',\n",
       "                                                                    'googl '\n",
       "                                                                    'home',\n",
       "                                                                    'googlehom',...\n",
       "                                                           n_jobs=None,\n",
       "                                                           penalty='l2',\n",
       "                                                           random_state=42,\n",
       "                                                           solver='lbfgs',\n",
       "                                                           tol=0.0001,\n",
       "                                                           verbose=0,\n",
       "                                                           warm_start=False))],\n",
       "                                verbose=False),\n",
       "             iid='deprecated', n_jobs=None,\n",
       "             param_grid={'cvec__max_df': [0.9, 0.95],\n",
       "                         'cvec__max_features': [2000, 3000, 4000, 5000],\n",
       "                         'cvec__min_df': [2, 3],\n",
       "                         'cvec__ngram_range': [(1, 1), (1, 2)]},\n",
       "             pre_dispatch='2*n_jobs', refit=True, return_train_score=False,\n",
       "             scoring=None, verbose=0)"
      ]
     },
     "execution_count": 244,
     "metadata": {},
     "output_type": "execute_result"
    }
   ],
   "source": [
    "# Fit GridSearch to the cleaned training data.\n",
    "gs2.fit(X_trainf_clean,y_trainf)"
   ]
  },
  {
   "cell_type": "code",
   "execution_count": 245,
   "metadata": {},
   "outputs": [
    {
     "name": "stdout",
     "output_type": "stream",
     "text": [
      "Best parameters: {'cvec__max_df': 0.9, 'cvec__max_features': 3000, 'cvec__min_df': 2, 'cvec__ngram_range': (1, 1)}\n",
      "Best score: 0.8884615384615385\n"
     ]
    }
   ],
   "source": [
    "print(f\"Best parameters: {gs2.best_params_}\")\n",
    "print(f\"Best score: {gs2.best_score_}\")"
   ]
  },
  {
   "cell_type": "code",
   "execution_count": 246,
   "metadata": {},
   "outputs": [],
   "source": [
    "# Save best model as gs2_model.\n",
    "\n",
    "gs2_model = gs2.best_estimator_"
   ]
  },
  {
   "cell_type": "code",
   "execution_count": 247,
   "metadata": {},
   "outputs": [
    {
     "name": "stdout",
     "output_type": "stream",
     "text": [
      "First Logistic Regression Model\n",
      "Accuracy on train set: 0.9971153846153846\n",
      "Accuracy on validate set: 0.8730769230769231\n",
      "\n",
      "Second Logistic Regression Model\n",
      "Accuracy on train set: 0.9971153846153846\n",
      "Accuracy on validate set: 0.8653846153846154\n"
     ]
    }
   ],
   "source": [
    "# Score model on training set & testing set\n",
    "print(f\"First Logistic Regression Model\")\n",
    "print(f\"Accuracy on train set: {gs1_model.score(X_trainf_clean, y_trainf)}\")\n",
    "print(f\"Accuracy on validate set: {gs1_model.score(X_validate_clean, y_validate)}\")\n",
    "print()\n",
    "print(f\"Second Logistic Regression Model\")\n",
    "print(f\"Accuracy on train set: {gs2_model.score(X_trainf_clean, y_trainf)}\")\n",
    "print(f\"Accuracy on validate set: {gs2_model.score(X_validate_clean, y_validate)}\")"
   ]
  },
  {
   "cell_type": "markdown",
   "metadata": {},
   "source": [
    "The removal of the identified key words has slightly reduced the prediction accuracy on the validate set. Effect of overfit more pronounced in the second logistic regression model."
   ]
  },
  {
   "cell_type": "code",
   "execution_count": 248,
   "metadata": {},
   "outputs": [
    {
     "data": {
      "text/html": [
       "<div>\n",
       "<style scoped>\n",
       "    .dataframe tbody tr th:only-of-type {\n",
       "        vertical-align: middle;\n",
       "    }\n",
       "\n",
       "    .dataframe tbody tr th {\n",
       "        vertical-align: top;\n",
       "    }\n",
       "\n",
       "    .dataframe thead th {\n",
       "        text-align: right;\n",
       "    }\n",
       "</style>\n",
       "<table border=\"1\" class=\"dataframe\">\n",
       "  <thead>\n",
       "    <tr style=\"text-align: right;\">\n",
       "      <th></th>\n",
       "      <th>pred googlepixel</th>\n",
       "      <th>pred googlehome</th>\n",
       "    </tr>\n",
       "  </thead>\n",
       "  <tbody>\n",
       "    <tr>\n",
       "      <th>Actual googlepixel</th>\n",
       "      <td>106</td>\n",
       "      <td>22</td>\n",
       "    </tr>\n",
       "    <tr>\n",
       "      <th>Actual googlehome</th>\n",
       "      <td>13</td>\n",
       "      <td>119</td>\n",
       "    </tr>\n",
       "  </tbody>\n",
       "</table>\n",
       "</div>"
      ],
      "text/plain": [
       "                    pred googlepixel  pred googlehome\n",
       "Actual googlepixel               106               22\n",
       "Actual googlehome                 13              119"
      ]
     },
     "execution_count": 248,
     "metadata": {},
     "output_type": "execute_result"
    }
   ],
   "source": [
    "# Confusion matrix on the second log reg model\n",
    "# Pass in true values, predicted values to confusion matrix\n",
    "# Convert Confusion matrix into dataframe\n",
    "# Positive class (class 1) is googlehome\n",
    "preds2 = gs2.predict(X_validate_clean)\n",
    "cm = confusion_matrix(y_validate, preds2)\n",
    "cm_df = pd.DataFrame(cm,columns=['pred googlepixel','pred googlehome'], index=['Actual googlepixel','Actual googlehome'])\n",
    "cm_df"
   ]
  },
  {
   "cell_type": "markdown",
   "metadata": {},
   "source": [
    "The removal of the common overlapping words led to a slight increase in the number of false positives and false negatives."
   ]
  },
  {
   "cell_type": "code",
   "execution_count": 249,
   "metadata": {},
   "outputs": [],
   "source": [
    "# return nparray as a 1-D array.\n",
    "confusion_matrix(y_validate, preds2).ravel()\n",
    "# Save TN/FP/FN/TP values.\n",
    "tn, fp, fn, tp = confusion_matrix(y_validate,preds2).ravel()"
   ]
  },
  {
   "cell_type": "code",
   "execution_count": 250,
   "metadata": {},
   "outputs": [
    {
     "name": "stdout",
     "output_type": "stream",
     "text": [
      "Specificity: 0.8281\n",
      "Sensitivity: 0.9015\n"
     ]
    }
   ],
   "source": [
    "# Summary of metrics for second log reg model\n",
    "spec = tn/(tn+fp)\n",
    "sens = tp/(tp+fn)\n",
    "print(f\"Specificity: {round(spec,4)}\")\n",
    "print(f\"Sensitivity: {round(sens,4)}\")"
   ]
  },
  {
   "cell_type": "markdown",
   "metadata": {},
   "source": [
    "Compared to the first logistic regression model, the second logistic regression model has almost similar specificity (True Negative Rate) and sensitivity (True Positive Rate) values. "
   ]
  },
  {
   "cell_type": "code",
   "execution_count": 251,
   "metadata": {},
   "outputs": [
    {
     "data": {
      "text/html": [
       "<div>\n",
       "<style scoped>\n",
       "    .dataframe tbody tr th:only-of-type {\n",
       "        vertical-align: middle;\n",
       "    }\n",
       "\n",
       "    .dataframe tbody tr th {\n",
       "        vertical-align: top;\n",
       "    }\n",
       "\n",
       "    .dataframe thead th {\n",
       "        text-align: right;\n",
       "    }\n",
       "</style>\n",
       "<table border=\"1\" class=\"dataframe\">\n",
       "  <thead>\n",
       "    <tr style=\"text-align: right;\">\n",
       "      <th></th>\n",
       "      <th>validate_values</th>\n",
       "      <th>pred_probs</th>\n",
       "    </tr>\n",
       "  </thead>\n",
       "  <tbody>\n",
       "    <tr>\n",
       "      <th>1445</th>\n",
       "      <td>0</td>\n",
       "      <td>0.108936</td>\n",
       "    </tr>\n",
       "    <tr>\n",
       "      <th>1152</th>\n",
       "      <td>0</td>\n",
       "      <td>0.000004</td>\n",
       "    </tr>\n",
       "    <tr>\n",
       "      <th>216</th>\n",
       "      <td>1</td>\n",
       "      <td>0.486618</td>\n",
       "    </tr>\n",
       "    <tr>\n",
       "      <th>1001</th>\n",
       "      <td>0</td>\n",
       "      <td>0.001455</td>\n",
       "    </tr>\n",
       "    <tr>\n",
       "      <th>1120</th>\n",
       "      <td>0</td>\n",
       "      <td>0.115972</td>\n",
       "    </tr>\n",
       "  </tbody>\n",
       "</table>\n",
       "</div>"
      ],
      "text/plain": [
       "      validate_values  pred_probs\n",
       "1445                0    0.108936\n",
       "1152                0    0.000004\n",
       "216                 1    0.486618\n",
       "1001                0    0.001455\n",
       "1120                0    0.115972"
      ]
     },
     "execution_count": 251,
     "metadata": {},
     "output_type": "execute_result"
    }
   ],
   "source": [
    "# To visualize the ROC AUC curve, first\n",
    "# Create a dataframe called pred_df that contains:\n",
    "# 1. The list of true values of our validate set.\n",
    "# 2. The list of predicted probabilities based on our model.\n",
    "\n",
    "pred_proba = [i[1] for i in gs2.predict_proba(X_validate_clean)]\n",
    "\n",
    "pred_df = pd.DataFrame({'validate_values': y_validate,\n",
    "                        'pred_probs':pred_proba})\n",
    "pred_df.head()"
   ]
  },
  {
   "cell_type": "code",
   "execution_count": 252,
   "metadata": {},
   "outputs": [
    {
     "data": {
      "text/plain": [
       "0.9626834753787878"
      ]
     },
     "execution_count": 252,
     "metadata": {},
     "output_type": "execute_result"
    }
   ],
   "source": [
    "# Calculate ROC AUC.\n",
    "roc_auc_score(pred_df['validate_values'],pred_df['pred_probs'])"
   ]
  },
  {
   "cell_type": "code",
   "execution_count": 253,
   "metadata": {},
   "outputs": [
    {
     "data": {
      "image/png": "[encoded data removed]",
      "text/plain": [
       "<Figure size 720x504 with 1 Axes>"
      ]
     },
     "metadata": {
      "needs_background": "light"
     },
     "output_type": "display_data"
    }
   ],
   "source": [
    "#Create figure\n",
    "plt.figure(figsize = (10,7))\n",
    "\n",
    "# Create threshold values. (Dashed orange line in plot.)\n",
    "thresholds = np.linspace(0, 1, 200)\n",
    "\n",
    "# Define function to calculate sensitivity. (True positive rate.)\n",
    "def TPR(df, true_col, pred_prob_col, threshold):\n",
    "    true_positive = df[(df[true_col] == 1) & (df[pred_prob_col] >= threshold)].shape[0]\n",
    "    false_negative = df[(df[true_col] == 1) & (df[pred_prob_col] < threshold)].shape[0]\n",
    "    return true_positive / (true_positive + false_negative)\n",
    "    \n",
    "# Define function to calculate 1 - specificity. (False positive rate.)\n",
    "def FPR(df, true_col, pred_prob_col, threshold):\n",
    "    true_negative = df[(df[true_col] == 0) & (df[pred_prob_col] <= threshold)].shape[0]\n",
    "    false_positive = df[(df[true_col] == 0) & (df[pred_prob_col] > threshold)].shape[0]\n",
    "    return 1 - (true_negative / (true_negative + false_positive))\n",
    "    \n",
    "# Calculate sensitivity & 1-specificity for each threshold between 0 and 1.\n",
    "tpr_values = [TPR(pred_df, 'validate_values', 'pred_probs', prob) for prob in thresholds]\n",
    "fpr_values = [FPR(pred_df, 'validate_values', 'pred_probs', prob) for prob in thresholds]\n",
    "\n",
    "# Plot ROC curve.\n",
    "plt.plot(fpr_values, # False Positive Rate on X-axis\n",
    "         tpr_values, # True Positive Rate on Y-axis\n",
    "         label='ROC Curve')\n",
    "\n",
    "# Plot baseline. (Perfect overlap between the two populations.)\n",
    "plt.plot(np.linspace(0, 1, 200),\n",
    "         np.linspace(0, 1, 200),\n",
    "         label='baseline',\n",
    "         linestyle='--')\n",
    "\n",
    "# Label axes.\n",
    "plt.title(f'ROC Curve with AUC = {round(roc_auc_score(pred_df[\"validate_values\"], pred_df[\"pred_probs\"]),4)}', fontsize=22)\n",
    "plt.ylabel('Sensitivity', fontsize=18)\n",
    "plt.xlabel('1 - Specificity', fontsize=18)\n",
    "\n",
    "# Create legend.\n",
    "plt.legend(fontsize=16);"
   ]
  },
  {
   "cell_type": "markdown",
   "metadata": {},
   "source": [
    "Compared the second logistic regression model with the first, we see that effect in removal of the identified common overlapping words has a small but negligible effect on the roc_auc."
   ]
  },
  {
   "cell_type": "markdown",
   "metadata": {},
   "source": [
    "### Naive Bayes Model\n",
    "---\n",
    "We explore the Naive Bayes Model, and apply the removal of identifed common overlapped words identified earlier. "
   ]
  },
  {
   "cell_type": "code",
   "execution_count": 254,
   "metadata": {},
   "outputs": [],
   "source": [
    "# Set up a pipeline, p3 with two stages\n",
    "# 1.CountVectorizer (transformer)\n",
    "# 1.1 ['google', 'home', 'google home', 'nest', 'mini' and 'hub'] words remove to improve model generalizivity\n",
    "# 2.Naive Bayes(multinomial) (estimator)\n",
    "pipe3 = Pipeline([('cvec',CountVectorizer(stop_words=['googl', 'home', 'googl home', 'googlehom',\\\n",
    "                                                      'pixel', 'googlepixel', 'nest', 'mini', 'hub'])),\\\n",
    "                  ('nb',MultinomialNB())\\\n",
    "                 ])"
   ]
  },
  {
   "cell_type": "code",
   "execution_count": 255,
   "metadata": {
    "scrolled": true
   },
   "outputs": [
    {
     "data": {
      "text/plain": [
       "{'memory': None,\n",
       " 'steps': [('cvec',\n",
       "   CountVectorizer(analyzer='word', binary=False, decode_error='strict',\n",
       "                   dtype=<class 'numpy.int64'>, encoding='utf-8', input='content',\n",
       "                   lowercase=True, max_df=1.0, max_features=None, min_df=1,\n",
       "                   ngram_range=(1, 1), preprocessor=None,\n",
       "                   stop_words=['googl', 'home', 'googl home', 'googlehom', 'pixel',\n",
       "                               'googlepixel', 'nest', 'mini', 'hub'],\n",
       "                   strip_accents=None, token_pattern='(?u)\\\\b\\\\w\\\\w+\\\\b',\n",
       "                   tokenizer=None, vocabulary=None)),\n",
       "  ('nb', MultinomialNB(alpha=1.0, class_prior=None, fit_prior=True))],\n",
       " 'verbose': False,\n",
       " 'cvec': CountVectorizer(analyzer='word', binary=False, decode_error='strict',\n",
       "                 dtype=<class 'numpy.int64'>, encoding='utf-8', input='content',\n",
       "                 lowercase=True, max_df=1.0, max_features=None, min_df=1,\n",
       "                 ngram_range=(1, 1), preprocessor=None,\n",
       "                 stop_words=['googl', 'home', 'googl home', 'googlehom', 'pixel',\n",
       "                             'googlepixel', 'nest', 'mini', 'hub'],\n",
       "                 strip_accents=None, token_pattern='(?u)\\\\b\\\\w\\\\w+\\\\b',\n",
       "                 tokenizer=None, vocabulary=None),\n",
       " 'nb': MultinomialNB(alpha=1.0, class_prior=None, fit_prior=True),\n",
       " 'cvec__analyzer': 'word',\n",
       " 'cvec__binary': False,\n",
       " 'cvec__decode_error': 'strict',\n",
       " 'cvec__dtype': numpy.int64,\n",
       " 'cvec__encoding': 'utf-8',\n",
       " 'cvec__input': 'content',\n",
       " 'cvec__lowercase': True,\n",
       " 'cvec__max_df': 1.0,\n",
       " 'cvec__max_features': None,\n",
       " 'cvec__min_df': 1,\n",
       " 'cvec__ngram_range': (1, 1),\n",
       " 'cvec__preprocessor': None,\n",
       " 'cvec__stop_words': ['googl',\n",
       "  'home',\n",
       "  'googl home',\n",
       "  'googlehom',\n",
       "  'pixel',\n",
       "  'googlepixel',\n",
       "  'nest',\n",
       "  'mini',\n",
       "  'hub'],\n",
       " 'cvec__strip_accents': None,\n",
       " 'cvec__token_pattern': '(?u)\\\\b\\\\w\\\\w+\\\\b',\n",
       " 'cvec__tokenizer': None,\n",
       " 'cvec__vocabulary': None,\n",
       " 'nb__alpha': 1.0,\n",
       " 'nb__class_prior': None,\n",
       " 'nb__fit_prior': True}"
      ]
     },
     "execution_count": 255,
     "metadata": {},
     "output_type": "execute_result"
    }
   ],
   "source": [
    "# Parameters of pipeline object\n",
    "pipe3.get_params()"
   ]
  },
  {
   "cell_type": "code",
   "execution_count": 256,
   "metadata": {},
   "outputs": [],
   "source": [
    "# Load pipeline object into GridSearchCV to tune CountVectorizer\n",
    "# Search over the following values of hyperparameters:\n",
    "# Maximum number of features fit (top no. frequent occur words): 2000, 3000, 4000, 5000\n",
    "# Minimum number of documents (collection of text) needed to include token: 2, 3\n",
    "# Maximum number of documents needed to include token: 90%, 95%\n",
    "# Check (individual tokens) and also check (individual tokens and 2-grams).\n",
    "\n",
    "# n-gram: 1 token, 1-gram, or 1 token, 2-gram.\n",
    "pipe_params = {\n",
    "    'cvec__max_features': [2_000,3_000,4_000,5_000],\\\n",
    "    'cvec__min_df': [2,3],\\\n",
    "    'cvec__max_df': [0.9,0.95],\\\n",
    "    'cvec__ngram_range': [(1, 1), (1,2)]\\\n",
    "}"
   ]
  },
  {
   "cell_type": "code",
   "execution_count": 257,
   "metadata": {},
   "outputs": [],
   "source": [
    "# Instantiate GridSearchCV.\n",
    "\"\"\"pipe refers to the object to optimize.\"\"\"\n",
    "\"\"\"param_grid refer to parameter values to search.\"\"\"\n",
    "\"\"\"cv refers to number of cross-validate fold.\"\"\"\n",
    "gs3 = GridSearchCV(pipe3,\\\n",
    "                  param_grid=pipe_params,\\\n",
    "                  cv=10)"
   ]
  },
  {
   "cell_type": "code",
   "execution_count": 258,
   "metadata": {},
   "outputs": [
    {
     "data": {
      "text/plain": [
       "GridSearchCV(cv=10, error_score=nan,\n",
       "             estimator=Pipeline(memory=None,\n",
       "                                steps=[('cvec',\n",
       "                                        CountVectorizer(analyzer='word',\n",
       "                                                        binary=False,\n",
       "                                                        decode_error='strict',\n",
       "                                                        dtype=<class 'numpy.int64'>,\n",
       "                                                        encoding='utf-8',\n",
       "                                                        input='content',\n",
       "                                                        lowercase=True,\n",
       "                                                        max_df=1.0,\n",
       "                                                        max_features=None,\n",
       "                                                        min_df=1,\n",
       "                                                        ngram_range=(1, 1),\n",
       "                                                        preprocessor=None,\n",
       "                                                        stop_words=['googl',\n",
       "                                                                    'home',\n",
       "                                                                    'googl '\n",
       "                                                                    'home',\n",
       "                                                                    'googlehom',...\n",
       "                                                        tokenizer=None,\n",
       "                                                        vocabulary=None)),\n",
       "                                       ('nb',\n",
       "                                        MultinomialNB(alpha=1.0,\n",
       "                                                      class_prior=None,\n",
       "                                                      fit_prior=True))],\n",
       "                                verbose=False),\n",
       "             iid='deprecated', n_jobs=None,\n",
       "             param_grid={'cvec__max_df': [0.9, 0.95],\n",
       "                         'cvec__max_features': [2000, 3000, 4000, 5000],\n",
       "                         'cvec__min_df': [2, 3],\n",
       "                         'cvec__ngram_range': [(1, 1), (1, 2)]},\n",
       "             pre_dispatch='2*n_jobs', refit=True, return_train_score=False,\n",
       "             scoring=None, verbose=0)"
      ]
     },
     "execution_count": 258,
     "metadata": {},
     "output_type": "execute_result"
    }
   ],
   "source": [
    "# Fit GridSearch to the cleaned training data.\n",
    "gs3.fit(X_trainf_clean,y_trainf)"
   ]
  },
  {
   "cell_type": "code",
   "execution_count": 259,
   "metadata": {},
   "outputs": [
    {
     "name": "stdout",
     "output_type": "stream",
     "text": [
      "Best parameters: {'cvec__max_df': 0.9, 'cvec__max_features': 5000, 'cvec__min_df': 3, 'cvec__ngram_range': (1, 2)}\n",
      "Best score: 0.9096153846153847\n"
     ]
    }
   ],
   "source": [
    "print(f\"Best parameters: {gs3.best_params_}\")\n",
    "print(f\"Best score: {gs3.best_score_}\")"
   ]
  },
  {
   "cell_type": "code",
   "execution_count": 260,
   "metadata": {},
   "outputs": [],
   "source": [
    "# Save best model as gs3_model.\n",
    "\n",
    "gs3_model = gs3.best_estimator_"
   ]
  },
  {
   "cell_type": "code",
   "execution_count": 261,
   "metadata": {},
   "outputs": [
    {
     "name": "stdout",
     "output_type": "stream",
     "text": [
      "First Logistic Regression Model\n",
      "Accuracy on train set: 0.9971153846153846\n",
      "Accuracy on validate set: 0.8730769230769231\n",
      "\n",
      "First Naive Bayes Model\n",
      "Accuracy on train set: 0.9528846153846153\n",
      "Accuracy on validate set: 0.8961538461538462\n"
     ]
    }
   ],
   "source": [
    "# Score model on training set & testing set\n",
    "print(f\"First Logistic Regression Model\")\n",
    "print(f\"Accuracy on train set: {gs1_model.score(X_trainf_clean, y_trainf)}\")\n",
    "print(f\"Accuracy on validate set: {gs1_model.score(X_validate_clean, y_validate)}\")\n",
    "print()\n",
    "print(f\"First Naive Bayes Model\")\n",
    "print(f\"Accuracy on train set: {gs3_model.score(X_trainf_clean, y_trainf)}\")\n",
    "print(f\"Accuracy on validate set: {gs3_model.score(X_validate_clean, y_validate)}\")"
   ]
  },
  {
   "cell_type": "markdown",
   "metadata": {},
   "source": [
    "The naive bayes is overfitted on the train data, with lower validate accuracy compared to the train accuracy. Compared to the first logistic regression model, it has a similar gap (also about 6%) between train accuracy and validate accuracy. In terms of accuracy, it is performing better than the logisitc regression models.\n",
    "\n",
    "We review the sensitivity and specificity, and roc_auc scores next."
   ]
  },
  {
   "cell_type": "code",
   "execution_count": 262,
   "metadata": {},
   "outputs": [
    {
     "data": {
      "text/html": [
       "<div>\n",
       "<style scoped>\n",
       "    .dataframe tbody tr th:only-of-type {\n",
       "        vertical-align: middle;\n",
       "    }\n",
       "\n",
       "    .dataframe tbody tr th {\n",
       "        vertical-align: top;\n",
       "    }\n",
       "\n",
       "    .dataframe thead th {\n",
       "        text-align: right;\n",
       "    }\n",
       "</style>\n",
       "<table border=\"1\" class=\"dataframe\">\n",
       "  <thead>\n",
       "    <tr style=\"text-align: right;\">\n",
       "      <th></th>\n",
       "      <th>pred googlepixel</th>\n",
       "      <th>pred googlehome</th>\n",
       "    </tr>\n",
       "  </thead>\n",
       "  <tbody>\n",
       "    <tr>\n",
       "      <th>Actual googlepixel</th>\n",
       "      <td>112</td>\n",
       "      <td>16</td>\n",
       "    </tr>\n",
       "    <tr>\n",
       "      <th>Actual googlehome</th>\n",
       "      <td>11</td>\n",
       "      <td>121</td>\n",
       "    </tr>\n",
       "  </tbody>\n",
       "</table>\n",
       "</div>"
      ],
      "text/plain": [
       "                    pred googlepixel  pred googlehome\n",
       "Actual googlepixel               112               16\n",
       "Actual googlehome                 11              121"
      ]
     },
     "execution_count": 262,
     "metadata": {},
     "output_type": "execute_result"
    }
   ],
   "source": [
    "# Confusion matrix on the first naive bayes model\n",
    "# Pass in true values, predicted values to confusion matrix\n",
    "# Convert Confusion matrix into dataframe\n",
    "# Positive class (class 1) is googlehome\n",
    "preds3 = gs3.predict(X_validate_clean)\n",
    "cm = confusion_matrix(y_validate, preds3)\n",
    "cm_df = pd.DataFrame(cm,columns=['pred googlepixel','pred googlehome'], index=['Actual googlepixel','Actual googlehome'])\n",
    "cm_df"
   ]
  },
  {
   "cell_type": "code",
   "execution_count": 263,
   "metadata": {},
   "outputs": [],
   "source": [
    "# return nparray as a 1-D array.\n",
    "confusion_matrix(y_validate, preds3).ravel()\n",
    "# Save TN/FP/FN/TP values.\n",
    "tn, fp, fn, tp = confusion_matrix(y_validate,preds3).ravel()"
   ]
  },
  {
   "cell_type": "code",
   "execution_count": 264,
   "metadata": {},
   "outputs": [
    {
     "name": "stdout",
     "output_type": "stream",
     "text": [
      "Specificity: 0.875\n",
      "Sensitivity: 0.9167\n"
     ]
    }
   ],
   "source": [
    "# Summary of metrics for first naive bayes model\n",
    "spec = tn/(tn+fp)\n",
    "sens = tp/(tp+fn)\n",
    "print(f\"Specificity: {round(spec,4)}\")\n",
    "print(f\"Sensitivity: {round(sens,4)}\")"
   ]
  },
  {
   "cell_type": "code",
   "execution_count": 265,
   "metadata": {},
   "outputs": [
    {
     "data": {
      "text/html": [
       "<div>\n",
       "<style scoped>\n",
       "    .dataframe tbody tr th:only-of-type {\n",
       "        vertical-align: middle;\n",
       "    }\n",
       "\n",
       "    .dataframe tbody tr th {\n",
       "        vertical-align: top;\n",
       "    }\n",
       "\n",
       "    .dataframe thead th {\n",
       "        text-align: right;\n",
       "    }\n",
       "</style>\n",
       "<table border=\"1\" class=\"dataframe\">\n",
       "  <thead>\n",
       "    <tr style=\"text-align: right;\">\n",
       "      <th></th>\n",
       "      <th>validate_values</th>\n",
       "      <th>pred_probs</th>\n",
       "    </tr>\n",
       "  </thead>\n",
       "  <tbody>\n",
       "    <tr>\n",
       "      <th>1445</th>\n",
       "      <td>0</td>\n",
       "      <td>1.189434e-10</td>\n",
       "    </tr>\n",
       "    <tr>\n",
       "      <th>1152</th>\n",
       "      <td>0</td>\n",
       "      <td>4.492673e-22</td>\n",
       "    </tr>\n",
       "    <tr>\n",
       "      <th>216</th>\n",
       "      <td>1</td>\n",
       "      <td>9.884097e-01</td>\n",
       "    </tr>\n",
       "    <tr>\n",
       "      <th>1001</th>\n",
       "      <td>0</td>\n",
       "      <td>2.755636e-11</td>\n",
       "    </tr>\n",
       "    <tr>\n",
       "      <th>1120</th>\n",
       "      <td>0</td>\n",
       "      <td>6.300529e-09</td>\n",
       "    </tr>\n",
       "  </tbody>\n",
       "</table>\n",
       "</div>"
      ],
      "text/plain": [
       "      validate_values    pred_probs\n",
       "1445                0  1.189434e-10\n",
       "1152                0  4.492673e-22\n",
       "216                 1  9.884097e-01\n",
       "1001                0  2.755636e-11\n",
       "1120                0  6.300529e-09"
      ]
     },
     "execution_count": 265,
     "metadata": {},
     "output_type": "execute_result"
    }
   ],
   "source": [
    "# To visualize the ROC AUC curve, first\n",
    "# Create a dataframe called pred_df that contains:\n",
    "# 1. The list of true values of our test set.\n",
    "# 2. The list of predicted probabilities based on our model.\n",
    "\n",
    "pred_proba = [i[1] for i in gs3.predict_proba(X_validate_clean)]\n",
    "\n",
    "pred_df = pd.DataFrame({'validate_values': y_validate,\n",
    "                        'pred_probs':pred_proba})\n",
    "pred_df.head()"
   ]
  },
  {
   "cell_type": "code",
   "execution_count": 266,
   "metadata": {},
   "outputs": [
    {
     "data": {
      "text/plain": [
       "0.9615293560606061"
      ]
     },
     "execution_count": 266,
     "metadata": {},
     "output_type": "execute_result"
    }
   ],
   "source": [
    "# Calculate ROC AUC.\n",
    "roc_auc_score(pred_df['validate_values'],pred_df['pred_probs'])"
   ]
  },
  {
   "cell_type": "code",
   "execution_count": 267,
   "metadata": {},
   "outputs": [
    {
     "data": {
      "image/png": "[encoded data removed]",
      "text/plain": [
       "<Figure size 720x504 with 1 Axes>"
      ]
     },
     "metadata": {
      "needs_background": "light"
     },
     "output_type": "display_data"
    }
   ],
   "source": [
    "#Create figure\n",
    "plt.figure(figsize = (10,7))\n",
    "\n",
    "# Create threshold values. (Dashed blue line in plot.)\n",
    "thresholds = np.linspace(0, 1, 200)\n",
    "\n",
    "# Define function to calculate sensitivity. (True positive rate.)\n",
    "def TPR(df, true_col, pred_prob_col, threshold):\n",
    "    true_positive = df[(df[true_col] == 1) & (df[pred_prob_col] >= threshold)].shape[0]\n",
    "    false_negative = df[(df[true_col] == 1) & (df[pred_prob_col] < threshold)].shape[0]\n",
    "    return true_positive / (true_positive + false_negative)\n",
    "    \n",
    "# Define function to calculate 1 - specificity. (False positive rate.)\n",
    "def FPR(df, true_col, pred_prob_col, threshold):\n",
    "    true_negative = df[(df[true_col] == 0) & (df[pred_prob_col] <= threshold)].shape[0]\n",
    "    false_positive = df[(df[true_col] == 0) & (df[pred_prob_col] > threshold)].shape[0]\n",
    "    return 1 - (true_negative / (true_negative + false_positive))\n",
    "    \n",
    "# Calculate sensitivity & 1-specificity for each threshold between 0 and 1.\n",
    "tpr_values = [TPR(pred_df, 'validate_values', 'pred_probs', prob) for prob in thresholds]\n",
    "fpr_values = [FPR(pred_df, 'validate_values', 'pred_probs', prob) for prob in thresholds]\n",
    "\n",
    "# Plot ROC curve.\n",
    "plt.plot(fpr_values, # False Positive Rate on X-axis\n",
    "         tpr_values, # True Positive Rate on Y-axis\n",
    "         label='ROC Curve')\n",
    "\n",
    "# Plot baseline. (Perfect overlap between the two populations.)\n",
    "plt.plot(np.linspace(0, 1, 200),\n",
    "         np.linspace(0, 1, 200),\n",
    "         label='baseline',\n",
    "         linestyle='--')\n",
    "\n",
    "# Label axes.\n",
    "plt.title(f'ROC Curve with AUC = {round(roc_auc_score(pred_df[\"validate_values\"], pred_df[\"pred_probs\"]),4)}', fontsize=22)\n",
    "plt.ylabel('Sensitivity', fontsize=18)\n",
    "plt.xlabel('1 - Specificity', fontsize=18)\n",
    "\n",
    "# Create legend.\n",
    "plt.legend(fontsize=16);"
   ]
  },
  {
   "cell_type": "markdown",
   "metadata": {},
   "source": [
    "The roc_auc of the Naive Bayes model is lower than that of the logistic regression models."
   ]
  },
  {
   "cell_type": "markdown",
   "metadata": {},
   "source": [
    "Now examine the NB model with identified words ['does', 'work', 'time', 'want', 'use', 'using', 'way', 'assistant', 've', 'tried'] removed."
   ]
  },
  {
   "cell_type": "code",
   "execution_count": 268,
   "metadata": {},
   "outputs": [],
   "source": [
    "# Set up a pipeline, p4 with two stages\n",
    "# 1.CountVectorizer (transformer)\n",
    "# 2.Naive Bayes(multinomial) (estimator)\n",
    "# 3.Remove the words ['does', 'work', 'time', 'want', 'use', 'using', 'way', 'assistant', 've', 'tried']\n",
    "\n",
    "pipe4 = Pipeline([('cvec',CountVectorizer(['googl', 'home', 'googl home', 'googlehom','pixel', 'googlepixel',\\\n",
    "                                           'nest', 'mini', 'hub', 'does', 'work', 'time', 'want', 'use',\\\n",
    "                                           'using', 'way', 'assistant', 've', 'tried'])),\\\n",
    "                  ('nb',MultinomialNB())\\\n",
    "                ])"
   ]
  },
  {
   "cell_type": "code",
   "execution_count": 269,
   "metadata": {
    "scrolled": true
   },
   "outputs": [
    {
     "data": {
      "text/plain": [
       "{'memory': None,\n",
       " 'steps': [('cvec',\n",
       "   CountVectorizer(analyzer='word', binary=False, decode_error='strict',\n",
       "                   dtype=<class 'numpy.int64'>, encoding='utf-8',\n",
       "                   input=['googl', 'home', 'googl home', 'googlehom', 'pixel',\n",
       "                          'googlepixel', 'nest', 'mini', 'hub', 'does', 'work',\n",
       "                          'time', 'want', 'use', 'using', 'way', 'assistant', 've',\n",
       "                          'tried'],\n",
       "                   lowercase=True, max_df=1.0, max_features=None, min_df=1,\n",
       "                   ngram_range=(1, 1), preprocessor=None, stop_words=None,\n",
       "                   strip_accents=None, token_pattern='(?u)\\\\b\\\\w\\\\w+\\\\b',\n",
       "                   tokenizer=None, vocabulary=None)),\n",
       "  ('nb', MultinomialNB(alpha=1.0, class_prior=None, fit_prior=True))],\n",
       " 'verbose': False,\n",
       " 'cvec': CountVectorizer(analyzer='word', binary=False, decode_error='strict',\n",
       "                 dtype=<class 'numpy.int64'>, encoding='utf-8',\n",
       "                 input=['googl', 'home', 'googl home', 'googlehom', 'pixel',\n",
       "                        'googlepixel', 'nest', 'mini', 'hub', 'does', 'work',\n",
       "                        'time', 'want', 'use', 'using', 'way', 'assistant', 've',\n",
       "                        'tried'],\n",
       "                 lowercase=True, max_df=1.0, max_features=None, min_df=1,\n",
       "                 ngram_range=(1, 1), preprocessor=None, stop_words=None,\n",
       "                 strip_accents=None, token_pattern='(?u)\\\\b\\\\w\\\\w+\\\\b',\n",
       "                 tokenizer=None, vocabulary=None),\n",
       " 'nb': MultinomialNB(alpha=1.0, class_prior=None, fit_prior=True),\n",
       " 'cvec__analyzer': 'word',\n",
       " 'cvec__binary': False,\n",
       " 'cvec__decode_error': 'strict',\n",
       " 'cvec__dtype': numpy.int64,\n",
       " 'cvec__encoding': 'utf-8',\n",
       " 'cvec__input': ['googl',\n",
       "  'home',\n",
       "  'googl home',\n",
       "  'googlehom',\n",
       "  'pixel',\n",
       "  'googlepixel',\n",
       "  'nest',\n",
       "  'mini',\n",
       "  'hub',\n",
       "  'does',\n",
       "  'work',\n",
       "  'time',\n",
       "  'want',\n",
       "  'use',\n",
       "  'using',\n",
       "  'way',\n",
       "  'assistant',\n",
       "  've',\n",
       "  'tried'],\n",
       " 'cvec__lowercase': True,\n",
       " 'cvec__max_df': 1.0,\n",
       " 'cvec__max_features': None,\n",
       " 'cvec__min_df': 1,\n",
       " 'cvec__ngram_range': (1, 1),\n",
       " 'cvec__preprocessor': None,\n",
       " 'cvec__stop_words': None,\n",
       " 'cvec__strip_accents': None,\n",
       " 'cvec__token_pattern': '(?u)\\\\b\\\\w\\\\w+\\\\b',\n",
       " 'cvec__tokenizer': None,\n",
       " 'cvec__vocabulary': None,\n",
       " 'nb__alpha': 1.0,\n",
       " 'nb__class_prior': None,\n",
       " 'nb__fit_prior': True}"
      ]
     },
     "execution_count": 269,
     "metadata": {},
     "output_type": "execute_result"
    }
   ],
   "source": [
    "# Parameters of pipeline object\n",
    "pipe4.get_params()"
   ]
  },
  {
   "cell_type": "code",
   "execution_count": 270,
   "metadata": {},
   "outputs": [],
   "source": [
    "# Load pipeline object into GridSearchCV to tune CountVectorizer\n",
    "# Search over the following values of hyperparameters:\n",
    "# Maximum number of features fit (top no. frequent occur words): 2000, 3000, 4000, 5000\n",
    "# Minimum number of documents (collection of text) needed to include token: 2, 3\n",
    "# Maximum number of documents needed to include token: 90%, 95%\n",
    "# Check (individual tokens) and also check (individual tokens and 2-grams).\n",
    "\n",
    "# n-gram: 1 token, 1-gram, or 1 token, 2-gram.\n",
    "pipe_params = {\n",
    "    'cvec__max_features': [2_000,3_000,4_000,5_000],\\\n",
    "    'cvec__min_df': [2,3],\\\n",
    "    'cvec__max_df': [0.9,0.95],\\\n",
    "    'cvec__ngram_range': [(1, 1), (1,2)]\\\n",
    "}"
   ]
  },
  {
   "cell_type": "code",
   "execution_count": 271,
   "metadata": {},
   "outputs": [],
   "source": [
    "# Instantiate GridSearchCV.\n",
    "\"\"\"pipe refers to the object to optimize.\"\"\"\n",
    "\"\"\"param_grid refer to parameter values to search.\"\"\"\n",
    "\"\"\"cv refers to number of cross-validate fold.\"\"\"\n",
    "gs4 = GridSearchCV(pipe4,\\\n",
    "                  param_grid=pipe_params,\\\n",
    "                  cv=10)"
   ]
  },
  {
   "cell_type": "code",
   "execution_count": 272,
   "metadata": {},
   "outputs": [
    {
     "data": {
      "text/plain": [
       "GridSearchCV(cv=10, error_score=nan,\n",
       "             estimator=Pipeline(memory=None,\n",
       "                                steps=[('cvec',\n",
       "                                        CountVectorizer(analyzer='word',\n",
       "                                                        binary=False,\n",
       "                                                        decode_error='strict',\n",
       "                                                        dtype=<class 'numpy.int64'>,\n",
       "                                                        encoding='utf-8',\n",
       "                                                        input=['googl', 'home',\n",
       "                                                               'googl home',\n",
       "                                                               'googlehom',\n",
       "                                                               'pixel',\n",
       "                                                               'googlepixel',\n",
       "                                                               'nest', 'mini',\n",
       "                                                               'hub', 'does',\n",
       "                                                               'work', 'time',\n",
       "                                                               'want', 'use',\n",
       "                                                               'using', 'way',\n",
       "                                                               'assistant',\n",
       "                                                               've', 'trie...\n",
       "                                                        tokenizer=None,\n",
       "                                                        vocabulary=None)),\n",
       "                                       ('nb',\n",
       "                                        MultinomialNB(alpha=1.0,\n",
       "                                                      class_prior=None,\n",
       "                                                      fit_prior=True))],\n",
       "                                verbose=False),\n",
       "             iid='deprecated', n_jobs=None,\n",
       "             param_grid={'cvec__max_df': [0.9, 0.95],\n",
       "                         'cvec__max_features': [2000, 3000, 4000, 5000],\n",
       "                         'cvec__min_df': [2, 3],\n",
       "                         'cvec__ngram_range': [(1, 1), (1, 2)]},\n",
       "             pre_dispatch='2*n_jobs', refit=True, return_train_score=False,\n",
       "             scoring=None, verbose=0)"
      ]
     },
     "execution_count": 272,
     "metadata": {},
     "output_type": "execute_result"
    }
   ],
   "source": [
    "# Fit GridSearch to the cleaned training data.\n",
    "gs4.fit(X_trainf_clean,y_trainf)"
   ]
  },
  {
   "cell_type": "code",
   "execution_count": 202,
   "metadata": {
    "scrolled": true
   },
   "outputs": [
    {
     "name": "stdout",
     "output_type": "stream",
     "text": [
      "Best parameters: {'cvec__max_df': 0.9, 'cvec__max_features': 4000, 'cvec__min_df': 3, 'cvec__ngram_range': (1, 2)}\n",
      "Best score: 0.9442307692307692\n"
     ]
    }
   ],
   "source": [
    "# Check the results of the grid search\n",
    "\n",
    "print(f\"Best parameters: {gs4.best_params_}\")\n",
    "print(f\"Best score: {gs4.best_score_}\")"
   ]
  },
  {
   "cell_type": "code",
   "execution_count": 273,
   "metadata": {},
   "outputs": [],
   "source": [
    "# Save best model as gs4_model.\n",
    "\n",
    "gs4_model = gs4.best_estimator_"
   ]
  },
  {
   "cell_type": "code",
   "execution_count": 274,
   "metadata": {
    "scrolled": true
   },
   "outputs": [
    {
     "name": "stdout",
     "output_type": "stream",
     "text": [
      "First Naive Bayes Model\n",
      "Accuracy on train set: 0.9528846153846153\n",
      "Accuracy on validate set: 0.8961538461538462\n",
      "\n",
      "Second Naive Bayes Model\n",
      "Accuracy on train set: 0.9701923076923077\n",
      "Accuracy on validate set: 0.9423076923076923\n"
     ]
    }
   ],
   "source": [
    "# Score model on training set & testing set\n",
    "print(f\"First Naive Bayes Model\")\n",
    "print(f\"Accuracy on train set: {gs3_model.score(X_trainf_clean, y_trainf)}\")\n",
    "print(f\"Accuracy on validate set: {gs3_model.score(X_validate_clean, y_validate)}\")\n",
    "print()\n",
    "print(f\"Second Naive Bayes Model\")\n",
    "print(f\"Accuracy on train set: {gs4_model.score(X_trainf_clean, y_trainf)}\")\n",
    "print(f\"Accuracy on validate set: {gs4_model.score(X_validate_clean, y_validate)}\")"
   ]
  },
  {
   "cell_type": "markdown",
   "metadata": {},
   "source": [
    "Removal of the identified words for the naive bayes model actually improved the validate accuracy. Again the model is slightly overfitted, byt the degree of overfitting is reduced (3% for second model vs. 6% for the first model).\n",
    "\n",
    "We review the sensitivity and specificity, and roc_auc scores before concluding which of the models is the better performing one."
   ]
  },
  {
   "cell_type": "code",
   "execution_count": 275,
   "metadata": {
    "scrolled": false
   },
   "outputs": [
    {
     "data": {
      "text/html": [
       "<div>\n",
       "<style scoped>\n",
       "    .dataframe tbody tr th:only-of-type {\n",
       "        vertical-align: middle;\n",
       "    }\n",
       "\n",
       "    .dataframe tbody tr th {\n",
       "        vertical-align: top;\n",
       "    }\n",
       "\n",
       "    .dataframe thead th {\n",
       "        text-align: right;\n",
       "    }\n",
       "</style>\n",
       "<table border=\"1\" class=\"dataframe\">\n",
       "  <thead>\n",
       "    <tr style=\"text-align: right;\">\n",
       "      <th></th>\n",
       "      <th>pred googlepixel</th>\n",
       "      <th>pred googlehome</th>\n",
       "    </tr>\n",
       "  </thead>\n",
       "  <tbody>\n",
       "    <tr>\n",
       "      <th>Actual googlepixel</th>\n",
       "      <td>116</td>\n",
       "      <td>12</td>\n",
       "    </tr>\n",
       "    <tr>\n",
       "      <th>Actual googlehome</th>\n",
       "      <td>3</td>\n",
       "      <td>129</td>\n",
       "    </tr>\n",
       "  </tbody>\n",
       "</table>\n",
       "</div>"
      ],
      "text/plain": [
       "                    pred googlepixel  pred googlehome\n",
       "Actual googlepixel               116               12\n",
       "Actual googlehome                  3              129"
      ]
     },
     "execution_count": 275,
     "metadata": {},
     "output_type": "execute_result"
    }
   ],
   "source": [
    "# Confusion matrix on the first naive bayes model\n",
    "# Pass in true values, predicted values to confusion matrix\n",
    "# Convert Confusion matrix into dataframe\n",
    "# Positive class (class 1) is googlehome\n",
    "preds4 = gs4.predict(X_validate_clean)\n",
    "cm = confusion_matrix(y_validate, preds4)\n",
    "cm_df = pd.DataFrame(cm,columns=['pred googlepixel','pred googlehome'], index=['Actual googlepixel','Actual googlehome'])\n",
    "cm_df"
   ]
  },
  {
   "cell_type": "markdown",
   "metadata": {},
   "source": [
    "With a higher test accuracy, there is an overall lower number of False positive/ False negatives in validate prediction for the second Naive Bayes model. In particular, there is a significant decrease in the number of false negatives compared to the first Naive Bayes model."
   ]
  },
  {
   "cell_type": "code",
   "execution_count": 276,
   "metadata": {},
   "outputs": [],
   "source": [
    "# return nparray as a 1-D array.\n",
    "confusion_matrix(y_validate, preds4).ravel()\n",
    "# Save TN/FP/FN/TP values.\n",
    "tn, fp, fn, tp = confusion_matrix(y_validate,preds4).ravel()"
   ]
  },
  {
   "cell_type": "code",
   "execution_count": 277,
   "metadata": {},
   "outputs": [
    {
     "name": "stdout",
     "output_type": "stream",
     "text": [
      "Specificity: 0.9062\n",
      "Sensitivity: 0.9773\n"
     ]
    }
   ],
   "source": [
    "# Summary of metrics for first naive bayes model\n",
    "spec = tn/(tn+fp)\n",
    "sens = tp/(tp+fn)\n",
    "print(f\"Specificity: {round(spec,4)}\")\n",
    "print(f\"Sensitivity: {round(sens,4)}\")"
   ]
  },
  {
   "cell_type": "code",
   "execution_count": 278,
   "metadata": {},
   "outputs": [
    {
     "data": {
      "text/html": [
       "<div>\n",
       "<style scoped>\n",
       "    .dataframe tbody tr th:only-of-type {\n",
       "        vertical-align: middle;\n",
       "    }\n",
       "\n",
       "    .dataframe tbody tr th {\n",
       "        vertical-align: top;\n",
       "    }\n",
       "\n",
       "    .dataframe thead th {\n",
       "        text-align: right;\n",
       "    }\n",
       "</style>\n",
       "<table border=\"1\" class=\"dataframe\">\n",
       "  <thead>\n",
       "    <tr style=\"text-align: right;\">\n",
       "      <th></th>\n",
       "      <th>validate_values</th>\n",
       "      <th>pred_probs</th>\n",
       "    </tr>\n",
       "  </thead>\n",
       "  <tbody>\n",
       "    <tr>\n",
       "      <th>1445</th>\n",
       "      <td>0</td>\n",
       "      <td>3.253193e-13</td>\n",
       "    </tr>\n",
       "    <tr>\n",
       "      <th>1152</th>\n",
       "      <td>0</td>\n",
       "      <td>9.396531e-28</td>\n",
       "    </tr>\n",
       "    <tr>\n",
       "      <th>216</th>\n",
       "      <td>1</td>\n",
       "      <td>9.662100e-01</td>\n",
       "    </tr>\n",
       "    <tr>\n",
       "      <th>1001</th>\n",
       "      <td>0</td>\n",
       "      <td>1.550664e-22</td>\n",
       "    </tr>\n",
       "    <tr>\n",
       "      <th>1120</th>\n",
       "      <td>0</td>\n",
       "      <td>7.710370e-12</td>\n",
       "    </tr>\n",
       "  </tbody>\n",
       "</table>\n",
       "</div>"
      ],
      "text/plain": [
       "      validate_values    pred_probs\n",
       "1445                0  3.253193e-13\n",
       "1152                0  9.396531e-28\n",
       "216                 1  9.662100e-01\n",
       "1001                0  1.550664e-22\n",
       "1120                0  7.710370e-12"
      ]
     },
     "execution_count": 278,
     "metadata": {},
     "output_type": "execute_result"
    }
   ],
   "source": [
    "# To visualize the ROC AUC curve, first\n",
    "# Create a dataframe called pred_df that contains:\n",
    "# 1. The list of true values of our test set.\n",
    "# 2. The list of predicted probabilities based on our model.\n",
    "\n",
    "pred_proba = [i[1] for i in gs4.predict_proba(X_validate_clean)]\n",
    "\n",
    "pred_df = pd.DataFrame({'validate_values': y_validate,\n",
    "                        'pred_probs':pred_proba})\n",
    "pred_df.head()"
   ]
  },
  {
   "cell_type": "code",
   "execution_count": 279,
   "metadata": {},
   "outputs": [
    {
     "data": {
      "text/plain": [
       "0.9923946496212122"
      ]
     },
     "execution_count": 279,
     "metadata": {},
     "output_type": "execute_result"
    }
   ],
   "source": [
    "# Calculate ROC AUC.\n",
    "roc_auc_score(pred_df['validate_values'],pred_df['pred_probs'])"
   ]
  },
  {
   "cell_type": "code",
   "execution_count": 280,
   "metadata": {},
   "outputs": [
    {
     "data": {
      "image/png": "[encoded data removed]",
      "text/plain": [
       "<Figure size 720x504 with 1 Axes>"
      ]
     },
     "metadata": {
      "needs_background": "light"
     },
     "output_type": "display_data"
    }
   ],
   "source": [
    "#Create figure\n",
    "plt.figure(figsize = (10,7))\n",
    "\n",
    "# Create threshold values. (Dashed blue line in plot.)\n",
    "thresholds = np.linspace(0, 1, 200)\n",
    "\n",
    "# Define function to calculate sensitivity. (True positive rate.)\n",
    "def TPR(df, true_col, pred_prob_col, threshold):\n",
    "    true_positive = df[(df[true_col] == 1) & (df[pred_prob_col] >= threshold)].shape[0]\n",
    "    false_negative = df[(df[true_col] == 1) & (df[pred_prob_col] < threshold)].shape[0]\n",
    "    return true_positive / (true_positive + false_negative)\n",
    "    \n",
    "# Define function to calculate 1 - specificity. (False positive rate.)\n",
    "def FPR(df, true_col, pred_prob_col, threshold):\n",
    "    true_negative = df[(df[true_col] == 0) & (df[pred_prob_col] <= threshold)].shape[0]\n",
    "    false_positive = df[(df[true_col] == 0) & (df[pred_prob_col] > threshold)].shape[0]\n",
    "    return 1 - (true_negative / (true_negative + false_positive))\n",
    "    \n",
    "# Calculate sensitivity & 1-specificity for each threshold between 0 and 1.\n",
    "tpr_values = [TPR(pred_df, 'validate_values', 'pred_probs', prob) for prob in thresholds]\n",
    "fpr_values = [FPR(pred_df, 'validate_values', 'pred_probs', prob) for prob in thresholds]\n",
    "\n",
    "# Plot ROC curve.\n",
    "plt.plot(fpr_values, # False Positive Rate on X-axis\n",
    "         tpr_values, # True Positive Rate on Y-axis\n",
    "         label='ROC Curve')\n",
    "\n",
    "# Plot baseline. (Perfect overlap between the two populations.)\n",
    "plt.plot(np.linspace(0, 1, 200),\n",
    "         np.linspace(0, 1, 200),\n",
    "         label='baseline',\n",
    "         linestyle='--')\n",
    "\n",
    "# Label axes.\n",
    "plt.title(f'ROC Curve with AUC = {round(roc_auc_score(pred_df[\"validate_values\"], pred_df[\"pred_probs\"]),4)}', fontsize=22)\n",
    "plt.ylabel('Sensitivity', fontsize=18)\n",
    "plt.xlabel('1 - Specificity', fontsize=18)\n",
    "\n",
    "# Create legend.\n",
    "plt.legend(fontsize=16);"
   ]
  },
  {
   "cell_type": "code",
   "execution_count": 282,
   "metadata": {},
   "outputs": [
    {
     "data": {
      "text/html": [
       "<div>\n",
       "<style scoped>\n",
       "    .dataframe tbody tr th:only-of-type {\n",
       "        vertical-align: middle;\n",
       "    }\n",
       "\n",
       "    .dataframe tbody tr th {\n",
       "        vertical-align: top;\n",
       "    }\n",
       "\n",
       "    .dataframe thead th {\n",
       "        text-align: right;\n",
       "    }\n",
       "</style>\n",
       "<table border=\"1\" class=\"dataframe\">\n",
       "  <thead>\n",
       "    <tr style=\"text-align: right;\">\n",
       "      <th></th>\n",
       "      <th>LogReg</th>\n",
       "      <th>LogReg(words_rmvd)</th>\n",
       "      <th>NB</th>\n",
       "      <th>NB(words_rmvd)</th>\n",
       "    </tr>\n",
       "  </thead>\n",
       "  <tbody>\n",
       "    <tr>\n",
       "      <th>accuracy</th>\n",
       "      <td>0.8731</td>\n",
       "      <td>0.8654</td>\n",
       "      <td>0.8962</td>\n",
       "      <td>0.9423</td>\n",
       "    </tr>\n",
       "    <tr>\n",
       "      <th>specificity</th>\n",
       "      <td>0.8438</td>\n",
       "      <td>0.8281</td>\n",
       "      <td>0.8750</td>\n",
       "      <td>0.9062</td>\n",
       "    </tr>\n",
       "    <tr>\n",
       "      <th>sensitivity</th>\n",
       "      <td>0.9015</td>\n",
       "      <td>0.9015</td>\n",
       "      <td>0.9167</td>\n",
       "      <td>0.9773</td>\n",
       "    </tr>\n",
       "    <tr>\n",
       "      <th>roc_auc</th>\n",
       "      <td>0.9633</td>\n",
       "      <td>0.9627</td>\n",
       "      <td>0.9615</td>\n",
       "      <td>0.9924</td>\n",
       "    </tr>\n",
       "  </tbody>\n",
       "</table>\n",
       "</div>"
      ],
      "text/plain": [
       "             LogReg  LogReg(words_rmvd)      NB  NB(words_rmvd)\n",
       "accuracy     0.8731              0.8654  0.8962          0.9423\n",
       "specificity  0.8438              0.8281  0.8750          0.9062\n",
       "sensitivity  0.9015              0.9015  0.9167          0.9773\n",
       "roc_auc      0.9633              0.9627  0.9615          0.9924"
      ]
     },
     "execution_count": 282,
     "metadata": {},
     "output_type": "execute_result"
    }
   ],
   "source": [
    "# Summary of Model scores in Dataframe\n",
    "summary_df = pd.DataFrame({'accuracy' : [0.8731, 0.8654, 0.8962, 0.9423],\n",
    "                          'specificity' : [0.8438, 0.8281, 0.875, 0.9062],\n",
    "                          'sensitivity' : [0.9015, 0.9015, 0.9167, 0.9773],\n",
    "                          'roc_auc' : [0.9633, 0.9627, 0.9615, 0.9924]})\n",
    "# Transpose dataframe\n",
    "summary_dft = summary_df.T\n",
    "# Rename columns\n",
    "summary_dft.columns = ['LogReg','LogReg(words_rmvd)', 'NB', 'NB(words_rmvd)']\n",
    "summary_dft"
   ]
  },
  {
   "cell_type": "markdown",
   "metadata": {},
   "source": [
    "The team prioritization is on correct classification of Google Home posts as google home devices holds the greater proportion of Google IoT devices. In this regard, we would want to pick the model with highest True Positive Rate (sensitivity), for as much correct classification of the google home posts as possible. Considering the models with highest roc_auc, and highest sensitivity (lowest false positives (Type I error)), we pick the NB model(words_rmvd) as the production model."
   ]
  },
  {
   "cell_type": "markdown",
   "metadata": {},
   "source": [
    "Deeper Look at the Production (Naive Bayes) Model \n",
    "---\n",
    "For the test accuracy and roc_auc scores, the Naive Bayes is selected as the better performing model. This section examines \n",
    "- model performance on test data\n",
    "- the features that helps with negative (googlepixel) and positive (googlehome) classifications,\n",
    "- what could be the features that lead to misclassifications."
   ]
  },
  {
   "cell_type": "code",
   "execution_count": 283,
   "metadata": {},
   "outputs": [
    {
     "name": "stderr",
     "output_type": "stream",
     "text": [
      "C:\\Users\\65943\\anaconda3\\lib\\site-packages\\bs4\\__init__.py:389: UserWarning: \"https://imgur.com/a/telb95S\" looks like a URL. Beautiful Soup is not an HTTP client. You should probably use an HTTP client like requests to get the document behind the URL, and feed that document to Beautiful Soup.\n",
      "  ' that document to Beautiful Soup.' % decoded_markup\n",
      "C:\\Users\\65943\\anaconda3\\lib\\site-packages\\bs4\\__init__.py:389: UserWarning: \"https://imgur.com/a/obeUnIH\" looks like a URL. Beautiful Soup is not an HTTP client. You should probably use an HTTP client like requests to get the document behind the URL, and feed that document to Beautiful Soup.\n",
      "  ' that document to Beautiful Soup.' % decoded_markup\n",
      "C:\\Users\\65943\\anaconda3\\lib\\site-packages\\bs4\\__init__.py:389: UserWarning: \"https://imgur.com/a/Wp9EwEn\" looks like a URL. Beautiful Soup is not an HTTP client. You should probably use an HTTP client like requests to get the document behind the URL, and feed that document to Beautiful Soup.\n",
      "  ' that document to Beautiful Soup.' % decoded_markup\n"
     ]
    }
   ],
   "source": [
    "#Initialize an empty list to hold the clean reviews.\n",
    "X_train_clean = []\n",
    "\n",
    "#For whole train set\n",
    "# Instantiate counter.\n",
    "j = 0\n",
    "for text in X_train['selftext']:\n",
    "    \"\"\"Convert text to words, then append to X_trainf_clean.\"\"\"\n",
    "    X_train_clean.append(selftext_to_words(text))"
   ]
  },
  {
   "cell_type": "code",
   "execution_count": 284,
   "metadata": {},
   "outputs": [],
   "source": [
    "# Review model coefficients to see which word is helping with negative / positive classifications)\n",
    "# As GridSearchCV' object has no attribute 'feature_log_prob_,\n",
    "# Build separate naive bayes model to enable model coefficient extraction\n",
    "# using best parameters discovered above in gs4\n",
    "\n",
    "# Instantiate our CountVectorizer\n",
    "cv = CountVectorizer(stop_words=['googl', 'home', 'googl home', 'googlehom','pixel','googlepixel', 'nest', 'mini',\\\n",
    "                                 'hub', 'does', 'work', 'time', 'want', 'use',\\\n",
    "                                 'using', 'way', 'assistant', 've', 'tried'],\\\n",
    "                     ngram_range=(1,2),max_df=0.9,min_df=3,max_features=4000)\n",
    "\n",
    "# Fit and transform on whole training data\n",
    "X_train_cleancv = cv.fit_transform(X_train_clean)\n",
    "\n",
    "# Transform test data\n",
    "X_test_cleancv = cv.transform(X_test_clean)"
   ]
  },
  {
   "cell_type": "code",
   "execution_count": 285,
   "metadata": {},
   "outputs": [],
   "source": [
    "# Instantiate model\n",
    "nb = MultinomialNB()\n",
    "\n",
    "# Fit model on whole training data\n",
    "model = nb.fit(X_train_cleancv,y_train)\n",
    "\n",
    "# Generate predictions from test set\n",
    "predictions = nb.predict(X_test_cleancv)"
   ]
  },
  {
   "cell_type": "code",
   "execution_count": 286,
   "metadata": {},
   "outputs": [
    {
     "name": "stdout",
     "output_type": "stream",
     "text": [
      "Accuracy on whole test set: 0.9202453987730062\n"
     ]
    }
   ],
   "source": [
    "print(f\"Accuracy on whole test set: {model.score(X_test_cleancv, y_test)}\")"
   ]
  },
  {
   "cell_type": "code",
   "execution_count": 287,
   "metadata": {
    "scrolled": false
   },
   "outputs": [
    {
     "data": {
      "text/html": [
       "<div>\n",
       "<style scoped>\n",
       "    .dataframe tbody tr th:only-of-type {\n",
       "        vertical-align: middle;\n",
       "    }\n",
       "\n",
       "    .dataframe tbody tr th {\n",
       "        vertical-align: top;\n",
       "    }\n",
       "\n",
       "    .dataframe thead th {\n",
       "        text-align: right;\n",
       "    }\n",
       "</style>\n",
       "<table border=\"1\" class=\"dataframe\">\n",
       "  <thead>\n",
       "    <tr style=\"text-align: right;\">\n",
       "      <th></th>\n",
       "      <th>pred googlepixel</th>\n",
       "      <th>pred googlehome</th>\n",
       "    </tr>\n",
       "  </thead>\n",
       "  <tbody>\n",
       "    <tr>\n",
       "      <th>Actual googlepixel</th>\n",
       "      <td>147</td>\n",
       "      <td>14</td>\n",
       "    </tr>\n",
       "    <tr>\n",
       "      <th>Actual googlehome</th>\n",
       "      <td>12</td>\n",
       "      <td>153</td>\n",
       "    </tr>\n",
       "  </tbody>\n",
       "</table>\n",
       "</div>"
      ],
      "text/plain": [
       "                    pred googlepixel  pred googlehome\n",
       "Actual googlepixel               147               14\n",
       "Actual googlehome                 12              153"
      ]
     },
     "execution_count": 287,
     "metadata": {},
     "output_type": "execute_result"
    }
   ],
   "source": [
    "# Confusion matrix for test set using NB model\n",
    "# Pass in true values, predicted values to confusion matrix\n",
    "# Convert Confusion matrix into dataframe\n",
    "# Positive class (class 1) is googlehome\n",
    "cm = confusion_matrix(y_test, predictions)\n",
    "cm_df = pd.DataFrame(cm,columns=['pred googlepixel','pred googlehome'], index=['Actual googlepixel','Actual googlehome'])\n",
    "cm_df"
   ]
  },
  {
   "cell_type": "code",
   "execution_count": 288,
   "metadata": {},
   "outputs": [],
   "source": [
    "# return nparray as a 1-D array.\n",
    "confusion_matrix(y_test, predictions).ravel()\n",
    "# Save TN/FP/FN/TP values.\n",
    "tn, fp, fn, tp = confusion_matrix(y_test, predictions).ravel()"
   ]
  },
  {
   "cell_type": "code",
   "execution_count": 289,
   "metadata": {},
   "outputs": [
    {
     "name": "stdout",
     "output_type": "stream",
     "text": [
      "Specificity: 0.913\n",
      "Sensitivity: 0.9273\n"
     ]
    }
   ],
   "source": [
    "# Summary of metrics for first naive bayes model\n",
    "spec = tn/(tn+fp)\n",
    "sens = tp/(tp+fn)\n",
    "print(f\"Specificity: {round(spec,4)}\")\n",
    "print(f\"Sensitivity: {round(sens,4)}\")"
   ]
  },
  {
   "cell_type": "code",
   "execution_count": 290,
   "metadata": {},
   "outputs": [],
   "source": [
    "# To visualize the ROC AUC curve, first\n",
    "# Create a dataframe called pred_df that contains:\n",
    "# 1. The list of true values of our test set.\n",
    "# 2. The list of predicted probabilities based on our model.\n",
    "\n",
    "pred_proba = [i[1] for i in nb.predict_proba(X_test_cleancv)]\n",
    "\n",
    "pred_df = pd.DataFrame({'test_values': y_test,\n",
    "                        'pred_probs':pred_proba})"
   ]
  },
  {
   "cell_type": "code",
   "execution_count": 291,
   "metadata": {},
   "outputs": [
    {
     "data": {
      "text/plain": [
       "0.9538490495012234"
      ]
     },
     "execution_count": 291,
     "metadata": {},
     "output_type": "execute_result"
    }
   ],
   "source": [
    "# Calculate ROC AUC.\n",
    "roc_auc_score(pred_df['test_values'],pred_df['pred_probs'])"
   ]
  },
  {
   "cell_type": "code",
   "execution_count": 292,
   "metadata": {},
   "outputs": [
    {
     "data": {
      "text/html": [
       "<div>\n",
       "<style scoped>\n",
       "    .dataframe tbody tr th:only-of-type {\n",
       "        vertical-align: middle;\n",
       "    }\n",
       "\n",
       "    .dataframe tbody tr th {\n",
       "        vertical-align: top;\n",
       "    }\n",
       "\n",
       "    .dataframe thead th {\n",
       "        text-align: right;\n",
       "    }\n",
       "</style>\n",
       "<table border=\"1\" class=\"dataframe\">\n",
       "  <thead>\n",
       "    <tr style=\"text-align: right;\">\n",
       "      <th></th>\n",
       "      <th>Whole Train set</th>\n",
       "      <th>Test set</th>\n",
       "    </tr>\n",
       "  </thead>\n",
       "  <tbody>\n",
       "    <tr>\n",
       "      <th>accuracy</th>\n",
       "      <td>0.9423</td>\n",
       "      <td>0.9202</td>\n",
       "    </tr>\n",
       "    <tr>\n",
       "      <th>specificity</th>\n",
       "      <td>0.9062</td>\n",
       "      <td>0.9130</td>\n",
       "    </tr>\n",
       "    <tr>\n",
       "      <th>sensitivity</th>\n",
       "      <td>0.9773</td>\n",
       "      <td>0.9273</td>\n",
       "    </tr>\n",
       "    <tr>\n",
       "      <th>roc_auc</th>\n",
       "      <td>0.9924</td>\n",
       "      <td>0.9538</td>\n",
       "    </tr>\n",
       "  </tbody>\n",
       "</table>\n",
       "</div>"
      ],
      "text/plain": [
       "             Whole Train set  Test set\n",
       "accuracy              0.9423    0.9202\n",
       "specificity           0.9062    0.9130\n",
       "sensitivity           0.9773    0.9273\n",
       "roc_auc               0.9924    0.9538"
      ]
     },
     "execution_count": 292,
     "metadata": {},
     "output_type": "execute_result"
    }
   ],
   "source": [
    "# Summary of the production NB Model scores in Dataframe\n",
    "summary_df = pd.DataFrame({'accuracy' : [0.9423, 0.9202],\n",
    "                          'specificity' : [0.9062, 0.913],\n",
    "                          'sensitivity' : [0.9773, 0.9273],\n",
    "                          'roc_auc' : [0.9924, 0.9538]})\n",
    "# Transpose dataframe\n",
    "summary_dft = summary_df.T\n",
    "# Rename columns\n",
    "summary_dft.columns = ['Whole Train set','Test set']\n",
    "summary_dft"
   ]
  },
  {
   "cell_type": "markdown",
   "metadata": {},
   "source": [
    "There is a drop in sensitivity and roc_auc for the test score of the production model. Model appears to have slight overfit on the whole train dataset, since accuracy on test set is higher than that of whole train set. We review the top features for positive and negative classifications."
   ]
  },
  {
   "cell_type": "code",
   "execution_count": 293,
   "metadata": {},
   "outputs": [],
   "source": [
    "# The Naive Bayes 'feature_log_prob_' is similar to '.coef_ for MultinomialNB' \n",
    "# Utilize this to find the top words (features) in the positive and negative class\n",
    "import numpy as np\n",
    "#prob for positive class\n",
    "pos_class_prob_sorted = nb.feature_log_prob_[1, :].argsort()\n",
    "#prob for negative class\n",
    "neg_class_prob_sorted = nb.feature_log_prob_[0, :].argsort()\n",
    "#getting the top features \n",
    "pos_top_features = np.take(cv.get_feature_names(), pos_class_prob_sorted)\n",
    "neg_top_features = np.take(cv.get_feature_names(), neg_class_prob_sorted)"
   ]
  },
  {
   "cell_type": "code",
   "execution_count": 294,
   "metadata": {},
   "outputs": [
    {
     "name": "stdout",
     "output_type": "stream",
     "text": [
      "['right bud' 'the design' 'com galleri' 'phone in' 'the cord' 'app like'\n",
      " 'truli wireless' 'the comput' 'app goo' 'my right' 'comfort' 'twitter'\n",
      " 'the charger' 'my pocket' 'ubreakifix' 'my order' 'my opinion'\n",
      " 'the charg' 'the buzz' 'the bud' 'the ear' 'phone so' 'the earbud'\n",
      " 'the experi' 'charg case' 'charg it' 'charg the' 'charger' 'charger and'\n",
      " 'the iphon' 'chat with' 'headset' 'it feel' 'the headphon' 'check for'\n",
      " 'tomorrow' 'the galaxi' 'the full' 'the flagship' 'the fingerprint'\n",
      " 'new bud' 'persist' 'aptx' 'touch control' 'comparison' 'unlock it'\n",
      " 'unlock the' 'data and' 'tax' 'and some']\n"
     ]
    }
   ],
   "source": [
    "# List of top 30 words that helps in 'googlehome' (positive) classification\n",
    "print(pos_top_features[:50])"
   ]
  },
  {
   "cell_type": "code",
   "execution_count": 295,
   "metadata": {},
   "outputs": [
    {
     "name": "stdout",
     "output_type": "stream",
     "text": [
      "['name of' 'chrome cast' 'onli play' 'my playlist' 'bluetooth speaker'\n",
      " 'just play' 'my roommat' 'command can' 'hop' 'roku' 'my son' 'my speaker'\n",
      " 'chromecast' 'my spotifi' 'chromecast and' 'chromecast audio' 'my tv'\n",
      " 'where my' 'tri differ' 'ifttt' 'video call' 'hous is' 'command it'\n",
      " 'one speaker' 'off light' 'my parent' 'tell it' 'my lenovo' 'gh to'\n",
      " 'in anoth']\n"
     ]
    }
   ],
   "source": [
    "# List of top 30 words that helps in 'googlepixel' (negative) classification\n",
    "print(neg_top_features[:30])"
   ]
  },
  {
   "cell_type": "markdown",
   "metadata": {},
   "source": [
    "**Googlehome**: For positive class (googlehome), some of the more common words are `charger` related among the top 50 word features. Interestingly, there are some words that are associated the pixel product, such as the word `bud`. Further analysis could be done to determine the reason they are featured within google home posts.\n",
    "\n",
    "**Googlepixel**: For negative class (googlepixel), the more common word features are `chromecast` related. Pixel phones, and Chromecast-connected TVs can be networked to form an audio entertainment system. So no surprise that `chromecast` is a feature here. Interestingly, there are some words that are more commonly associated with IoT device hubs, such as `off light`. These probably emerge as features for googlepixel classification as the pixel can serve as point of control in the smarthome devices set-up."
   ]
  },
  {
   "cell_type": "markdown",
   "metadata": {},
   "source": [
    "**Reviewing the misclassified samples**: What could be the features that lead to misclassifications?"
   ]
  },
  {
   "cell_type": "code",
   "execution_count": 304,
   "metadata": {
    "scrolled": true
   },
   "outputs": [
    {
     "data": {
      "text/html": [
       "<div>\n",
       "<style scoped>\n",
       "    .dataframe tbody tr th:only-of-type {\n",
       "        vertical-align: middle;\n",
       "    }\n",
       "\n",
       "    .dataframe tbody tr th {\n",
       "        vertical-align: top;\n",
       "    }\n",
       "\n",
       "    .dataframe thead th {\n",
       "        text-align: right;\n",
       "    }\n",
       "</style>\n",
       "<table border=\"1\" class=\"dataframe\">\n",
       "  <thead>\n",
       "    <tr style=\"text-align: right;\">\n",
       "      <th></th>\n",
       "      <th>googlehome</th>\n",
       "      <th>predicted_googlehome</th>\n",
       "      <th>selftext</th>\n",
       "    </tr>\n",
       "  </thead>\n",
       "  <tbody>\n",
       "    <tr>\n",
       "      <th>919</th>\n",
       "      <td>0</td>\n",
       "      <td>0</td>\n",
       "      <td>so i bought pixel after my phone die and i m s...</td>\n",
       "    </tr>\n",
       "    <tr>\n",
       "      <th>1029</th>\n",
       "      <td>0</td>\n",
       "      <td>0</td>\n",
       "      <td>hello i have a pixel xl the last time i use it...</td>\n",
       "    </tr>\n",
       "    <tr>\n",
       "      <th>764</th>\n",
       "      <td>1</td>\n",
       "      <td>0</td>\n",
       "      <td>but make sure no kid are around http photo app...</td>\n",
       "    </tr>\n",
       "    <tr>\n",
       "      <th>962</th>\n",
       "      <td>0</td>\n",
       "      <td>0</td>\n",
       "      <td>i ve had my p axl sinc launch still haven t go...</td>\n",
       "    </tr>\n",
       "    <tr>\n",
       "      <th>1064</th>\n",
       "      <td>0</td>\n",
       "      <td>0</td>\n",
       "      <td>i had a voicemail with case id and the number ...</td>\n",
       "    </tr>\n",
       "  </tbody>\n",
       "</table>\n",
       "</div>"
      ],
      "text/plain": [
       "      googlehome  predicted_googlehome  \\\n",
       "919            0                     0   \n",
       "1029           0                     0   \n",
       "764            1                     0   \n",
       "962            0                     0   \n",
       "1064           0                     0   \n",
       "\n",
       "                                               selftext  \n",
       "919   so i bought pixel after my phone die and i m s...  \n",
       "1029  hello i have a pixel xl the last time i use it...  \n",
       "764   but make sure no kid are around http photo app...  \n",
       "962   i ve had my p axl sinc launch still haven t go...  \n",
       "1064  i had a voicemail with case id and the number ...  "
      ]
     },
     "execution_count": 304,
     "metadata": {},
     "output_type": "execute_result"
    }
   ],
   "source": [
    "# Pass y_test (pandas series) into dataframe first\n",
    "# in order to use the original selftext indexes for traceability\n",
    "actual = pd.Series(y_test)\n",
    "df_rvw = actual.to_frame()\n",
    "\n",
    "# Create column of predicted classes from Naive Bayes model\n",
    "\n",
    "df_rvw['predicted_googlehome'] = predictions\n",
    "# Include the selftext data\n",
    "df_rvw['selftext'] = X_test_clean\n",
    "\n",
    "# Review the dataframe\n",
    "df_rvw.head()"
   ]
  },
  {
   "cell_type": "code",
   "execution_count": 305,
   "metadata": {},
   "outputs": [
    {
     "data": {
      "text/plain": [
       "Int64Index([ 764,  525, 1571, 1076,  856,  108,  465,  469, 1593, 1251, 1498,\n",
       "              74, 1416,  749, 1215, 1024,  888, 1316,  864,  729,  258,  145,\n",
       "             276, 1196,  922,  117],\n",
       "           dtype='int64')"
      ]
     },
     "execution_count": 305,
     "metadata": {},
     "output_type": "execute_result"
    }
   ],
   "source": [
    "# Index of misclassified classes\n",
    "row_ids = df_rvw[df_rvw['googlehome'] != df_rvw['predicted_googlehome']].index\n",
    "row_ids"
   ]
  },
  {
   "cell_type": "code",
   "execution_count": 306,
   "metadata": {
    "scrolled": true
   },
   "outputs": [
    {
     "data": {
      "text/plain": [
       "googlehome                                                              1\n",
       "predicted_googlehome                                                    0\n",
       "selftext                but make sure no kid are around http photo app...\n",
       "Name: 764, dtype: object"
      ]
     },
     "metadata": {},
     "output_type": "display_data"
    },
    {
     "data": {
      "text/plain": [
       "googlehome                                                              1\n",
       "predicted_googlehome                                                    0\n",
       "selftext                anyon have similar issu sinc lastest updat and...\n",
       "Name: 525, dtype: object"
      ]
     },
     "metadata": {},
     "output_type": "display_data"
    },
    {
     "data": {
      "text/plain": [
       "googlehome                                                              0\n",
       "predicted_googlehome                                                    1\n",
       "selftext                okay friend my googl assist ha stop talk to me...\n",
       "Name: 1571, dtype: object"
      ]
     },
     "metadata": {},
     "output_type": "display_data"
    },
    {
     "data": {
      "text/plain": [
       "googlehome                                                              0\n",
       "predicted_googlehome                                                    1\n",
       "selftext                hello just recent move from an s to a pixel xl...\n",
       "Name: 1076, dtype: object"
      ]
     },
     "metadata": {},
     "output_type": "display_data"
    },
    {
     "data": {
      "text/plain": [
       "googlehome                                                              0\n",
       "predicted_googlehome                                                    1\n",
       "selftext                i use turn off my wifi in pixel xl dure night ...\n",
       "Name: 856, dtype: object"
      ]
     },
     "metadata": {},
     "output_type": "display_data"
    },
    {
     "data": {
      "text/plain": [
       "googlehome                                                              1\n",
       "predicted_googlehome                                                    0\n",
       "selftext                the product page onli say w power adaptor dc p...\n",
       "Name: 108, dtype: object"
      ]
     },
     "metadata": {},
     "output_type": "display_data"
    },
    {
     "data": {
      "text/plain": [
       "googlehome                                                              1\n",
       "predicted_googlehome                                                    0\n",
       "selftext                i uncov one unwrap og one hub unwrap hub and o...\n",
       "Name: 465, dtype: object"
      ]
     },
     "metadata": {},
     "output_type": "display_data"
    },
    {
     "data": {
      "text/plain": [
       "googlehome                                                      1\n",
       "predicted_googlehome                                            0\n",
       "selftext                view poll http www reddit com poll g h ar\n",
       "Name: 469, dtype: object"
      ]
     },
     "metadata": {},
     "output_type": "display_data"
    },
    {
     "data": {
      "text/plain": [
       "googlehome                                                              0\n",
       "predicted_googlehome                                                    1\n",
       "selftext                when do a long press of the pixel bud to hear ...\n",
       "Name: 1593, dtype: object"
      ]
     },
     "metadata": {},
     "output_type": "display_data"
    },
    {
     "data": {
      "text/plain": [
       "googlehome                                                              0\n",
       "predicted_googlehome                                                    1\n",
       "selftext                there is a set that i disabl a long time ago t...\n",
       "Name: 1251, dtype: object"
      ]
     },
     "metadata": {},
     "output_type": "display_data"
    },
    {
     "data": {
      "text/plain": [
       "googlehome                                                              0\n",
       "predicted_googlehome                                                    1\n",
       "selftext                how is it possibl googl advertis a stabl bluet...\n",
       "Name: 1498, dtype: object"
      ]
     },
     "metadata": {},
     "output_type": "display_data"
    },
    {
     "data": {
      "text/plain": [
       "googlehome                                                              1\n",
       "predicted_googlehome                                                    0\n",
       "selftext                hello i have a brick googl home mini that wa h...\n",
       "Name: 74, dtype: object"
      ]
     },
     "metadata": {},
     "output_type": "display_data"
    },
    {
     "data": {
      "text/plain": [
       "googlehome                                                              0\n",
       "predicted_googlehome                                                    1\n",
       "selftext                so i have pixel phone one og pixel and x a s a...\n",
       "Name: 1416, dtype: object"
      ]
     },
     "metadata": {},
     "output_type": "display_data"
    },
    {
     "data": {
      "text/plain": [
       "googlehome                                                              1\n",
       "predicted_googlehome                                                    0\n",
       "selftext                the bull play everi fuck time wtf thi just sta...\n",
       "Name: 749, dtype: object"
      ]
     },
     "metadata": {},
     "output_type": "display_data"
    },
    {
     "data": {
      "text/plain": [
       "googlehome                                                              0\n",
       "predicted_googlehome                                                    1\n",
       "selftext                hi i m on my phone a pixel and whenev i m ask ...\n",
       "Name: 1215, dtype: object"
      ]
     },
     "metadata": {},
     "output_type": "display_data"
    },
    {
     "data": {
      "text/plain": [
       "googlehome                                                              0\n",
       "predicted_googlehome                                                    1\n",
       "selftext                i have a group text that i chang the group nam...\n",
       "Name: 1024, dtype: object"
      ]
     },
     "metadata": {},
     "output_type": "display_data"
    },
    {
     "data": {
      "text/plain": [
       "googlehome                                                              0\n",
       "predicted_googlehome                                                    1\n",
       "selftext                if you use it what do you use it for most of t...\n",
       "Name: 888, dtype: object"
      ]
     },
     "metadata": {},
     "output_type": "display_data"
    },
    {
     "data": {
      "text/plain": [
       "googlehome                                                              0\n",
       "predicted_googlehome                                                    1\n",
       "selftext                i m stuck work at home and i have to make a bu...\n",
       "Name: 1316, dtype: object"
      ]
     },
     "metadata": {},
     "output_type": "display_data"
    },
    {
     "data": {
      "text/plain": [
       "googlehome                                                              0\n",
       "predicted_googlehome                                                    1\n",
       "selftext                so i have one of those router with one wifi ne...\n",
       "Name: 864, dtype: object"
      ]
     },
     "metadata": {},
     "output_type": "display_data"
    },
    {
     "data": {
      "text/plain": [
       "googlehome                                                              1\n",
       "predicted_googlehome                                                    0\n",
       "selftext                my nest hub ha stop tell me when i have a remi...\n",
       "Name: 729, dtype: object"
      ]
     },
     "metadata": {},
     "output_type": "display_data"
    },
    {
     "data": {
      "text/plain": [
       "googlehome                                                              1\n",
       "predicted_googlehome                                                    0\n",
       "selftext                how loud is the googl home compar to the mini ...\n",
       "Name: 258, dtype: object"
      ]
     },
     "metadata": {},
     "output_type": "display_data"
    },
    {
     "data": {
      "text/plain": [
       "googlehome                                                              1\n",
       "predicted_googlehome                                                    0\n",
       "selftext                i ve seen argument for both but right now both...\n",
       "Name: 145, dtype: object"
      ]
     },
     "metadata": {},
     "output_type": "display_data"
    },
    {
     "data": {
      "text/plain": [
       "googlehome                                                              1\n",
       "predicted_googlehome                                                    0\n",
       "selftext                i went past the smart home section at low s ye...\n",
       "Name: 276, dtype: object"
      ]
     },
     "metadata": {},
     "output_type": "display_data"
    },
    {
     "data": {
      "text/plain": [
       "googlehome                                                              0\n",
       "predicted_googlehome                                                    1\n",
       "selftext                recent bought a pair of jaybird tarah pro sold...\n",
       "Name: 1196, dtype: object"
      ]
     },
     "metadata": {},
     "output_type": "display_data"
    },
    {
     "data": {
      "text/plain": [
       "googlehome                                                              0\n",
       "predicted_googlehome                                                    1\n",
       "selftext                hi guy ani idea whi my photo size rang from mb...\n",
       "Name: 922, dtype: object"
      ]
     },
     "metadata": {},
     "output_type": "display_data"
    },
    {
     "data": {
      "text/plain": [
       "googlehome                                                              1\n",
       "predicted_googlehome                                                    0\n",
       "selftext                http imgur com a g kxf t http imgur com a g kx...\n",
       "Name: 117, dtype: object"
      ]
     },
     "metadata": {},
     "output_type": "display_data"
    }
   ],
   "source": [
    "# Create overview of the misclassified samples\n",
    "# Use the display function to display objects with better spacing\n",
    "for i in row_ids:\n",
    "    display(df_rvw.loc[i])"
   ]
  },
  {
   "cell_type": "markdown",
   "metadata": {},
   "source": [
    "Two samples from each of misclassified samples are examined in further detail in this section.\n",
    "\n",
    "**False Negative**: Predicted as googlepixel post but is actually googlehome post. \n",
    "To gain insights into what are the words that caused this post to be misclassified as google pixel post, one approach is to compare the words with the list of words that are strongly associated with the negative class. \n",
    "\n",
    "We pick one sample from each of the misclassified examples to illustrate the approach. \n",
    "\n",
    "We'll start with the false negative sample."
   ]
  },
  {
   "cell_type": "code",
   "execution_count": 299,
   "metadata": {
    "scrolled": true
   },
   "outputs": [
    {
     "name": "stdout",
     "output_type": "stream",
     "text": [
      "the product page onli say w power adaptor dc power jack there are no replac cord on the googl store and i can t get through to support i m fine with get a third parti adapt but i m afraid i ll buy someth that either doesn t work with the nest mini or will somehow fri it ha anyon els had to replac the cord if i get an adapt that is more than w is that a problem or is w just a minimum ani help would be appreci\n"
     ]
    }
   ],
   "source": [
    "# Sample a false negative\n",
    "print(df_rvw['selftext'][108])"
   ]
  },
  {
   "cell_type": "code",
   "execution_count": 300,
   "metadata": {},
   "outputs": [],
   "source": [
    "# split the string of text into list of individual words\n",
    "review1 = df_rvw['selftext'][108].split() "
   ]
  },
  {
   "cell_type": "code",
   "execution_count": 301,
   "metadata": {},
   "outputs": [],
   "source": [
    "# Convert numpy array of words stongly associated with googlepixel post into a list\n",
    "neg_list = neg_top_features.tolist()"
   ]
  },
  {
   "cell_type": "code",
   "execution_count": 302,
   "metadata": {},
   "outputs": [
    {
     "name": "stdout",
     "output_type": "stream",
     "text": [
      "{'had', 'll', 'on', 'say', 'els', 'cord', 'with', 'will', 'either', 'and', 'ha', 'that', 'more', 'problem', 'just', 'get', 'an', 'anyon', 'someth', 'power', 'page', 'would', 'to', 'are', 'but', 'buy', 'if', 'than', 'help', 'be', 'it', 'there', 'no', 'or', 'is', 'onli', 'fine', 'ani', 'appreci', 'support', 'parti', 'can', 'store', 'jack', 'somehow', 'the', 'adapt', 'third', 'product', 'through', 'doesn', 'replac'}\n"
     ]
    }
   ],
   "source": [
    "# Print the words that likely contributed to false negative classification for this post\n",
    "print(set(review1) & set(neg_list))"
   ]
  },
  {
   "cell_type": "markdown",
   "metadata": {},
   "source": [
    "**False Positive**: Predicted as googlehome post but is actually googlepixel post. "
   ]
  },
  {
   "cell_type": "code",
   "execution_count": 313,
   "metadata": {
    "scrolled": true
   },
   "outputs": [
    {
     "name": "stdout",
     "output_type": "stream",
     "text": [
      "so i have pixel phone one og pixel and x a s all of them suffer the same symptom at random moment dure use the wifi connect would lose internet connect not wifi connect would not load anyth at all to fix it either i wait long enough and the phone disconnect and reconnect itself to the same wifi or i have to do it manual i have other phone as well and none of them do thi so it can t be a network issu also it doe thi on all wifi network i say all becaus i haven t test all my connect but all that i have use more than minut have had the same result anyon els see thi happen\n"
     ]
    }
   ],
   "source": [
    "# Sample a false positive\n",
    "# split the string of text into list of individual words\n",
    "print(df_rvw['selftext'][1416])"
   ]
  },
  {
   "cell_type": "code",
   "execution_count": 314,
   "metadata": {},
   "outputs": [],
   "source": [
    "# split the string of text into list of individual words\n",
    "review2 = df_rvw['selftext'][1416].split() "
   ]
  },
  {
   "cell_type": "code",
   "execution_count": 315,
   "metadata": {},
   "outputs": [],
   "source": [
    "# Convert numpy array of words stongly associated with googlehome post into a list\n",
    "pos_list = pos_top_features.tolist()"
   ]
  },
  {
   "cell_type": "code",
   "execution_count": 316,
   "metadata": {},
   "outputs": [
    {
     "name": "stdout",
     "output_type": "stream",
     "text": [
      "{'had', 'internet', 'on', 'all', 'say', 'els', 'connect', 'lose', 'fix', 'also', 'doe', 'of', 'load', 'moment', 'anyth', 'either', 'other', 'and', 'issu', 'result', 'that', 'more', 'dure', 'at', 'wait', 'random', 'itself', 'enough', 'og', 'anyon', 'so', 'have', 'them', 'would', 'to', 'but', 'disconnect', 'than', 'be', 'it', 'minut', 'or', 'see', 'happen', 'test', 'haven', 'my', 'not', 'one', 'becaus', 'network', 'long', 'phone', 'do', 'as', 'wifi', 'well', 'the', 'same', 'thi', 'reconnect', 'none', 'manual', 'can'}\n"
     ]
    }
   ],
   "source": [
    "# Return the words that likely contributed to false positive classification.\n",
    "print(set(review2) & set(pos_list))"
   ]
  },
  {
   "cell_type": "markdown",
   "metadata": {},
   "source": [
    "Theorectically, all the posts should be reviewed to better identify the 'culprit' words with strong influence on misclassification. However, care should also be excercised to not overtune the model such that it loses it's generalizability and ends up with increased false positives and false negatives in the predictions."
   ]
  },
  {
   "cell_type": "markdown",
   "metadata": {},
   "source": [
    "### Recommendations and Way Forward\n",
    "---\n",
    "The second Naive Bayes model is selected as the production model for the classification of googlehome and googlepixel reddit posts. \n",
    "\n",
    "Potential enhancements to classification accuracies could be done by \n",
    "- further reviewing and identification of the words that contributed to false positives and false negatives,\n",
    "- and remove these words through count vectorizer. \n",
    "\n",
    "Following deployment, further tuning of the model could also be done with the incoming new data. It is also recommended to review the list of words that have been removed so as to tune the production model should it be redeployed to classify rival's product reddit posts (e.g.Apple Iphone, Amazon Alexa)"
   ]
  },
  {
   "cell_type": "code",
   "execution_count": null,
   "metadata": {},
   "outputs": [],
   "source": []
  }
 ],
 "metadata": {
  "kernelspec": {
   "display_name": "Python 3",
   "language": "python",
   "name": "python3"
  },
  "language_info": {
   "codemirror_mode": {
    "name": "ipython",
    "version": 3
   },
   "file_extension": ".py",
   "mimetype": "text/x-python",
   "name": "python",
   "nbconvert_exporter": "python",
   "pygments_lexer": "ipython3",
   "version": "3.7.6"
  }
 },
 "nbformat": 4,
 "nbformat_minor": 4
}
