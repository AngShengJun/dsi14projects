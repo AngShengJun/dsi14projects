{
 "cells": [
  {
   "cell_type": "markdown",
   "metadata": {},
   "source": [
    "# Project 3.1.1 Data Cleaning and Data Science Process - Finalver.\n",
    "---\n",
    "Following scraping textual information from reddit posts, we now continue with the data science process of data cleaning, EDA, model building, evaluation and lastly recommendation of business solutions."
   ]
  },
  {
   "cell_type": "code",
   "execution_count": 1,
   "metadata": {},
   "outputs": [],
   "source": [
    "# Import libraries\n",
    "import pandas as pd\n",
    "import matplotlib.pyplot as plt\n",
    "# increase default figure and font sizes for easier viewing\n",
    "plt.rcParams['figure.figsize'] = (8, 6)\n",
    "plt.rcParams['font.size'] = 14\n",
    "\n",
    "# always be stylish\n",
    "plt.style.use('ggplot')\n",
    "\n",
    "from bs4 import BeautifulSoup\n",
    "import re\n",
    "from nltk.corpus import stopwords\n",
    "from nltk.stem.porter import PorterStemmer\n",
    "\n",
    "from sklearn.model_selection import train_test_split, GridSearchCV\n",
    "from sklearn.pipeline import Pipeline\n",
    "from sklearn.feature_extraction.text import CountVectorizer\n",
    "from sklearn.linear_model import LogisticRegression\n",
    "from sklearn.naive_bayes import MultinomialNB\n",
    "from sklearn import svm\n",
    "from sklearn.metrics import confusion_matrix"
   ]
  },
  {
   "cell_type": "code",
   "execution_count": 2,
   "metadata": {},
   "outputs": [
    {
     "data": {
      "text/html": [
       "<div>\n",
       "<style scoped>\n",
       "    .dataframe tbody tr th:only-of-type {\n",
       "        vertical-align: middle;\n",
       "    }\n",
       "\n",
       "    .dataframe tbody tr th {\n",
       "        vertical-align: top;\n",
       "    }\n",
       "\n",
       "    .dataframe thead th {\n",
       "        text-align: right;\n",
       "    }\n",
       "</style>\n",
       "<table border=\"1\" class=\"dataframe\">\n",
       "  <thead>\n",
       "    <tr style=\"text-align: right;\">\n",
       "      <th></th>\n",
       "      <th>approved_at_utc</th>\n",
       "      <th>subreddit</th>\n",
       "      <th>selftext</th>\n",
       "      <th>author_fullname</th>\n",
       "      <th>saved</th>\n",
       "      <th>mod_reason_title</th>\n",
       "      <th>gilded</th>\n",
       "      <th>clicked</th>\n",
       "      <th>title</th>\n",
       "      <th>link_flair_richtext</th>\n",
       "      <th>...</th>\n",
       "      <th>media</th>\n",
       "      <th>is_video</th>\n",
       "      <th>link_flair_template_id</th>\n",
       "      <th>post_hint</th>\n",
       "      <th>preview</th>\n",
       "      <th>media_metadata</th>\n",
       "      <th>crosspost_parent_list</th>\n",
       "      <th>crosspost_parent</th>\n",
       "      <th>author_cakeday</th>\n",
       "      <th>poll_data</th>\n",
       "    </tr>\n",
       "  </thead>\n",
       "  <tbody>\n",
       "    <tr>\n",
       "      <th>0</th>\n",
       "      <td>NaN</td>\n",
       "      <td>googlehome</td>\n",
       "      <td>[\\[FAQ - Frequently Asked Questions\\]](https:/...</td>\n",
       "      <td>t2_q648wkk</td>\n",
       "      <td>False</td>\n",
       "      <td>NaN</td>\n",
       "      <td>0</td>\n",
       "      <td>False</td>\n",
       "      <td>FAQ: Please read the subreddit FAQ before post...</td>\n",
       "      <td>[]</td>\n",
       "      <td>...</td>\n",
       "      <td>NaN</td>\n",
       "      <td>False</td>\n",
       "      <td>NaN</td>\n",
       "      <td>NaN</td>\n",
       "      <td>NaN</td>\n",
       "      <td>NaN</td>\n",
       "      <td>NaN</td>\n",
       "      <td>NaN</td>\n",
       "      <td>NaN</td>\n",
       "      <td>NaN</td>\n",
       "    </tr>\n",
       "    <tr>\n",
       "      <th>1</th>\n",
       "      <td>NaN</td>\n",
       "      <td>googlehome</td>\n",
       "      <td>Do you want to liberate your Google so it can ...</td>\n",
       "      <td>t2_8hlsb</td>\n",
       "      <td>False</td>\n",
       "      <td>NaN</td>\n",
       "      <td>0</td>\n",
       "      <td>False</td>\n",
       "      <td>My Google has Coronavirus! - Monthly Rants and...</td>\n",
       "      <td>[]</td>\n",
       "      <td>...</td>\n",
       "      <td>NaN</td>\n",
       "      <td>False</td>\n",
       "      <td>NaN</td>\n",
       "      <td>NaN</td>\n",
       "      <td>NaN</td>\n",
       "      <td>NaN</td>\n",
       "      <td>NaN</td>\n",
       "      <td>NaN</td>\n",
       "      <td>NaN</td>\n",
       "      <td>NaN</td>\n",
       "    </tr>\n",
       "    <tr>\n",
       "      <th>2</th>\n",
       "      <td>NaN</td>\n",
       "      <td>googlehome</td>\n",
       "      <td>Because that's all it is.</td>\n",
       "      <td>t2_1mgxh</td>\n",
       "      <td>False</td>\n",
       "      <td>NaN</td>\n",
       "      <td>0</td>\n",
       "      <td>False</td>\n",
       "      <td>[Subreddit Request] Can we rename this subredd...</td>\n",
       "      <td>[]</td>\n",
       "      <td>...</td>\n",
       "      <td>NaN</td>\n",
       "      <td>False</td>\n",
       "      <td>489ab03e-b78e-11e6-8fd6-0e00dc2f4472</td>\n",
       "      <td>NaN</td>\n",
       "      <td>NaN</td>\n",
       "      <td>NaN</td>\n",
       "      <td>NaN</td>\n",
       "      <td>NaN</td>\n",
       "      <td>NaN</td>\n",
       "      <td>NaN</td>\n",
       "    </tr>\n",
       "    <tr>\n",
       "      <th>3</th>\n",
       "      <td>NaN</td>\n",
       "      <td>googlehome</td>\n",
       "      <td>NaN</td>\n",
       "      <td>t2_mnm0w</td>\n",
       "      <td>False</td>\n",
       "      <td>NaN</td>\n",
       "      <td>0</td>\n",
       "      <td>False</td>\n",
       "      <td>This one really takes the cake.</td>\n",
       "      <td>[]</td>\n",
       "      <td>...</td>\n",
       "      <td>NaN</td>\n",
       "      <td>False</td>\n",
       "      <td>NaN</td>\n",
       "      <td>image</td>\n",
       "      <td>{'images': [{'source': {'url': 'https://extern...</td>\n",
       "      <td>NaN</td>\n",
       "      <td>NaN</td>\n",
       "      <td>NaN</td>\n",
       "      <td>NaN</td>\n",
       "      <td>NaN</td>\n",
       "    </tr>\n",
       "    <tr>\n",
       "      <th>4</th>\n",
       "      <td>NaN</td>\n",
       "      <td>googlehome</td>\n",
       "      <td>NaN</td>\n",
       "      <td>t2_me5yarn</td>\n",
       "      <td>False</td>\n",
       "      <td>NaN</td>\n",
       "      <td>0</td>\n",
       "      <td>False</td>\n",
       "      <td>Where did my routines go to? They're still in ...</td>\n",
       "      <td>[]</td>\n",
       "      <td>...</td>\n",
       "      <td>NaN</td>\n",
       "      <td>False</td>\n",
       "      <td>0ab35abe-b78e-11e6-9303-0ed3c72a1f42</td>\n",
       "      <td>image</td>\n",
       "      <td>{'images': [{'source': {'url': 'https://previe...</td>\n",
       "      <td>NaN</td>\n",
       "      <td>NaN</td>\n",
       "      <td>NaN</td>\n",
       "      <td>NaN</td>\n",
       "      <td>NaN</td>\n",
       "    </tr>\n",
       "  </tbody>\n",
       "</table>\n",
       "<p>5 rows × 111 columns</p>\n",
       "</div>"
      ],
      "text/plain": [
       "   approved_at_utc   subreddit  \\\n",
       "0              NaN  googlehome   \n",
       "1              NaN  googlehome   \n",
       "2              NaN  googlehome   \n",
       "3              NaN  googlehome   \n",
       "4              NaN  googlehome   \n",
       "\n",
       "                                            selftext author_fullname  saved  \\\n",
       "0  [\\[FAQ - Frequently Asked Questions\\]](https:/...      t2_q648wkk  False   \n",
       "1  Do you want to liberate your Google so it can ...        t2_8hlsb  False   \n",
       "2                          Because that's all it is.        t2_1mgxh  False   \n",
       "3                                                NaN        t2_mnm0w  False   \n",
       "4                                                NaN      t2_me5yarn  False   \n",
       "\n",
       "   mod_reason_title  gilded  clicked  \\\n",
       "0               NaN       0    False   \n",
       "1               NaN       0    False   \n",
       "2               NaN       0    False   \n",
       "3               NaN       0    False   \n",
       "4               NaN       0    False   \n",
       "\n",
       "                                               title link_flair_richtext  ...  \\\n",
       "0  FAQ: Please read the subreddit FAQ before post...                  []  ...   \n",
       "1  My Google has Coronavirus! - Monthly Rants and...                  []  ...   \n",
       "2  [Subreddit Request] Can we rename this subredd...                  []  ...   \n",
       "3                    This one really takes the cake.                  []  ...   \n",
       "4  Where did my routines go to? They're still in ...                  []  ...   \n",
       "\n",
       "  media  is_video                link_flair_template_id  post_hint  \\\n",
       "0   NaN     False                                   NaN        NaN   \n",
       "1   NaN     False                                   NaN        NaN   \n",
       "2   NaN     False  489ab03e-b78e-11e6-8fd6-0e00dc2f4472        NaN   \n",
       "3   NaN     False                                   NaN      image   \n",
       "4   NaN     False  0ab35abe-b78e-11e6-9303-0ed3c72a1f42      image   \n",
       "\n",
       "                                             preview  media_metadata  \\\n",
       "0                                                NaN             NaN   \n",
       "1                                                NaN             NaN   \n",
       "2                                                NaN             NaN   \n",
       "3  {'images': [{'source': {'url': 'https://extern...             NaN   \n",
       "4  {'images': [{'source': {'url': 'https://previe...             NaN   \n",
       "\n",
       "   crosspost_parent_list crosspost_parent  author_cakeday poll_data  \n",
       "0                    NaN              NaN             NaN       NaN  \n",
       "1                    NaN              NaN             NaN       NaN  \n",
       "2                    NaN              NaN             NaN       NaN  \n",
       "3                    NaN              NaN             NaN       NaN  \n",
       "4                    NaN              NaN             NaN       NaN  \n",
       "\n",
       "[5 rows x 111 columns]"
      ]
     },
     "execution_count": 2,
     "metadata": {},
     "output_type": "execute_result"
    }
   ],
   "source": [
    "# Read in google home reddit data\n",
    "df_gh = pd.read_csv('./reddit_gh.csv')\n",
    "df_gh.head()"
   ]
  },
  {
   "cell_type": "markdown",
   "metadata": {},
   "source": [
    "The columns with the more relevant textual data are from subreddit, selftext and title. "
   ]
  },
  {
   "cell_type": "code",
   "execution_count": 3,
   "metadata": {},
   "outputs": [
    {
     "data": {
      "text/plain": [
       "(996, 3)"
      ]
     },
     "execution_count": 3,
     "metadata": {},
     "output_type": "execute_result"
    }
   ],
   "source": [
    "# Set a new dataframe with the columns we want ()\n",
    "df_gh1 = pd.DataFrame(df_gh[['subreddit', 'selftext', 'title']])\n",
    "# Shape of dataframe\n",
    "df_gh1.shape"
   ]
  },
  {
   "cell_type": "code",
   "execution_count": 4,
   "metadata": {},
   "outputs": [
    {
     "data": {
      "text/plain": [
       "(825, 3)"
      ]
     },
     "execution_count": 4,
     "metadata": {},
     "output_type": "execute_result"
    }
   ],
   "source": [
    "# Drop duplicates in selftext column\n",
    "df_gh1.drop_duplicates(subset='selftext',inplace=True)\n",
    "# Shape of dataframe after removing duplicates\n",
    "df_gh1.shape"
   ]
  },
  {
   "cell_type": "code",
   "execution_count": 5,
   "metadata": {},
   "outputs": [
    {
     "data": {
      "text/plain": [
       "(824, 3)"
      ]
     },
     "execution_count": 5,
     "metadata": {},
     "output_type": "execute_result"
    }
   ],
   "source": [
    "# Drop NAs.\n",
    "df_gh1.dropna(inplace=True)\n",
    "# Shape of dataframe after removing NAs\n",
    "df_gh1.shape"
   ]
  },
  {
   "cell_type": "code",
   "execution_count": 6,
   "metadata": {},
   "outputs": [
    {
     "data": {
      "text/html": [
       "<div>\n",
       "<style scoped>\n",
       "    .dataframe tbody tr th:only-of-type {\n",
       "        vertical-align: middle;\n",
       "    }\n",
       "\n",
       "    .dataframe tbody tr th {\n",
       "        vertical-align: top;\n",
       "    }\n",
       "\n",
       "    .dataframe thead th {\n",
       "        text-align: right;\n",
       "    }\n",
       "</style>\n",
       "<table border=\"1\" class=\"dataframe\">\n",
       "  <thead>\n",
       "    <tr style=\"text-align: right;\">\n",
       "      <th></th>\n",
       "      <th>subreddit</th>\n",
       "      <th>selftext</th>\n",
       "      <th>title</th>\n",
       "    </tr>\n",
       "  </thead>\n",
       "  <tbody>\n",
       "    <tr>\n",
       "      <th>0</th>\n",
       "      <td>googlehome</td>\n",
       "      <td>[\\[FAQ - Frequently Asked Questions\\]](https:/...</td>\n",
       "      <td>FAQ: Please read the subreddit FAQ before post...</td>\n",
       "    </tr>\n",
       "    <tr>\n",
       "      <th>1</th>\n",
       "      <td>googlehome</td>\n",
       "      <td>Do you want to liberate your Google so it can ...</td>\n",
       "      <td>My Google has Coronavirus! - Monthly Rants and...</td>\n",
       "    </tr>\n",
       "    <tr>\n",
       "      <th>2</th>\n",
       "      <td>googlehome</td>\n",
       "      <td>Because that's all it is.</td>\n",
       "      <td>[Subreddit Request] Can we rename this subredd...</td>\n",
       "    </tr>\n",
       "    <tr>\n",
       "      <th>6</th>\n",
       "      <td>googlehome</td>\n",
       "      <td>So I set an alarm there and Google responded '...</td>\n",
       "      <td>Google just said no problem</td>\n",
       "    </tr>\n",
       "    <tr>\n",
       "      <th>7</th>\n",
       "      <td>googlehome</td>\n",
       "      <td>Recently got a Nest WiFi router. I currently l...</td>\n",
       "      <td>Nest WiFi - who can access router settings?</td>\n",
       "    </tr>\n",
       "  </tbody>\n",
       "</table>\n",
       "</div>"
      ],
      "text/plain": [
       "    subreddit                                           selftext  \\\n",
       "0  googlehome  [\\[FAQ - Frequently Asked Questions\\]](https:/...   \n",
       "1  googlehome  Do you want to liberate your Google so it can ...   \n",
       "2  googlehome                          Because that's all it is.   \n",
       "6  googlehome  So I set an alarm there and Google responded '...   \n",
       "7  googlehome  Recently got a Nest WiFi router. I currently l...   \n",
       "\n",
       "                                               title  \n",
       "0  FAQ: Please read the subreddit FAQ before post...  \n",
       "1  My Google has Coronavirus! - Monthly Rants and...  \n",
       "2  [Subreddit Request] Can we rename this subredd...  \n",
       "6                        Google just said no problem  \n",
       "7        Nest WiFi - who can access router settings?  "
      ]
     },
     "execution_count": 6,
     "metadata": {},
     "output_type": "execute_result"
    }
   ],
   "source": [
    "# Review first 5 rows of dataframe\n",
    "df_gh1.head()"
   ]
  },
  {
   "cell_type": "code",
   "execution_count": 7,
   "metadata": {},
   "outputs": [
    {
     "data": {
      "text/html": [
       "<div>\n",
       "<style scoped>\n",
       "    .dataframe tbody tr th:only-of-type {\n",
       "        vertical-align: middle;\n",
       "    }\n",
       "\n",
       "    .dataframe tbody tr th {\n",
       "        vertical-align: top;\n",
       "    }\n",
       "\n",
       "    .dataframe thead th {\n",
       "        text-align: right;\n",
       "    }\n",
       "</style>\n",
       "<table border=\"1\" class=\"dataframe\">\n",
       "  <thead>\n",
       "    <tr style=\"text-align: right;\">\n",
       "      <th></th>\n",
       "      <th>approved_at_utc</th>\n",
       "      <th>subreddit</th>\n",
       "      <th>selftext</th>\n",
       "      <th>author_fullname</th>\n",
       "      <th>saved</th>\n",
       "      <th>mod_reason_title</th>\n",
       "      <th>gilded</th>\n",
       "      <th>clicked</th>\n",
       "      <th>title</th>\n",
       "      <th>link_flair_richtext</th>\n",
       "      <th>...</th>\n",
       "      <th>event_start</th>\n",
       "      <th>post_hint</th>\n",
       "      <th>preview</th>\n",
       "      <th>event_end</th>\n",
       "      <th>event_is_live</th>\n",
       "      <th>link_flair_template_id</th>\n",
       "      <th>media_metadata</th>\n",
       "      <th>poll_data</th>\n",
       "      <th>crosspost_parent_list</th>\n",
       "      <th>crosspost_parent</th>\n",
       "    </tr>\n",
       "  </thead>\n",
       "  <tbody>\n",
       "    <tr>\n",
       "      <th>0</th>\n",
       "      <td>NaN</td>\n",
       "      <td>GooglePixel</td>\n",
       "      <td>This is the weekly photo megathread. Photos ca...</td>\n",
       "      <td>t2_6l4z3</td>\n",
       "      <td>False</td>\n",
       "      <td>NaN</td>\n",
       "      <td>0</td>\n",
       "      <td>False</td>\n",
       "      <td>Weekly #madebygoogle Photos Megathread - May 0...</td>\n",
       "      <td>[]</td>\n",
       "      <td>...</td>\n",
       "      <td>NaN</td>\n",
       "      <td>NaN</td>\n",
       "      <td>NaN</td>\n",
       "      <td>NaN</td>\n",
       "      <td>NaN</td>\n",
       "      <td>NaN</td>\n",
       "      <td>NaN</td>\n",
       "      <td>NaN</td>\n",
       "      <td>NaN</td>\n",
       "      <td>NaN</td>\n",
       "    </tr>\n",
       "    <tr>\n",
       "      <th>1</th>\n",
       "      <td>NaN</td>\n",
       "      <td>GooglePixel</td>\n",
       "      <td>*If you were redirected here from a removed po...</td>\n",
       "      <td>t2_zmjf4</td>\n",
       "      <td>False</td>\n",
       "      <td>NaN</td>\n",
       "      <td>0</td>\n",
       "      <td>False</td>\n",
       "      <td>The May 2020 Superthread: Pixel 4a, Battery, \"...</td>\n",
       "      <td>[]</td>\n",
       "      <td>...</td>\n",
       "      <td>1.588345e+09</td>\n",
       "      <td>self</td>\n",
       "      <td>{'images': [{'source': {'url': 'https://extern...</td>\n",
       "      <td>1.588360e+09</td>\n",
       "      <td>False</td>\n",
       "      <td>NaN</td>\n",
       "      <td>NaN</td>\n",
       "      <td>NaN</td>\n",
       "      <td>NaN</td>\n",
       "      <td>NaN</td>\n",
       "    </tr>\n",
       "    <tr>\n",
       "      <th>2</th>\n",
       "      <td>NaN</td>\n",
       "      <td>GooglePixel</td>\n",
       "      <td>It was supposed to take up to 10 days. But it ...</td>\n",
       "      <td>t2_10j65hn2</td>\n",
       "      <td>False</td>\n",
       "      <td>NaN</td>\n",
       "      <td>0</td>\n",
       "      <td>False</td>\n",
       "      <td>So I had some troubles with my phone, and sent...</td>\n",
       "      <td>[{'e': 'text', 't': 'Pixel 3a'}]</td>\n",
       "      <td>...</td>\n",
       "      <td>NaN</td>\n",
       "      <td>NaN</td>\n",
       "      <td>NaN</td>\n",
       "      <td>NaN</td>\n",
       "      <td>NaN</td>\n",
       "      <td>bd247e74-7476-11e9-b802-0e2121dcd2a2</td>\n",
       "      <td>NaN</td>\n",
       "      <td>NaN</td>\n",
       "      <td>NaN</td>\n",
       "      <td>NaN</td>\n",
       "    </tr>\n",
       "    <tr>\n",
       "      <th>3</th>\n",
       "      <td>NaN</td>\n",
       "      <td>GooglePixel</td>\n",
       "      <td>Yall weren't kidding about the battery. It's p...</td>\n",
       "      <td>t2_zfetx</td>\n",
       "      <td>False</td>\n",
       "      <td>NaN</td>\n",
       "      <td>0</td>\n",
       "      <td>False</td>\n",
       "      <td>Had my pixel 4 for a few days already and holy...</td>\n",
       "      <td>[{'e': 'text', 't': 'Pixel 4'}]</td>\n",
       "      <td>...</td>\n",
       "      <td>NaN</td>\n",
       "      <td>NaN</td>\n",
       "      <td>NaN</td>\n",
       "      <td>NaN</td>\n",
       "      <td>NaN</td>\n",
       "      <td>8697ce76-f2dc-11e9-8412-0eae23347634</td>\n",
       "      <td>NaN</td>\n",
       "      <td>NaN</td>\n",
       "      <td>NaN</td>\n",
       "      <td>NaN</td>\n",
       "    </tr>\n",
       "    <tr>\n",
       "      <th>4</th>\n",
       "      <td>NaN</td>\n",
       "      <td>GooglePixel</td>\n",
       "      <td>NaN</td>\n",
       "      <td>t2_bkfyp</td>\n",
       "      <td>False</td>\n",
       "      <td>NaN</td>\n",
       "      <td>0</td>\n",
       "      <td>False</td>\n",
       "      <td>Pixel 3a black screen after overnight charging</td>\n",
       "      <td>[{'e': 'text', 't': 'Pixel 3a'}]</td>\n",
       "      <td>...</td>\n",
       "      <td>NaN</td>\n",
       "      <td>hosted:video</td>\n",
       "      <td>{'images': [{'source': {'url': 'https://extern...</td>\n",
       "      <td>NaN</td>\n",
       "      <td>NaN</td>\n",
       "      <td>bd247e74-7476-11e9-b802-0e2121dcd2a2</td>\n",
       "      <td>NaN</td>\n",
       "      <td>NaN</td>\n",
       "      <td>NaN</td>\n",
       "      <td>NaN</td>\n",
       "    </tr>\n",
       "  </tbody>\n",
       "</table>\n",
       "<p>5 rows × 113 columns</p>\n",
       "</div>"
      ],
      "text/plain": [
       "   approved_at_utc    subreddit  \\\n",
       "0              NaN  GooglePixel   \n",
       "1              NaN  GooglePixel   \n",
       "2              NaN  GooglePixel   \n",
       "3              NaN  GooglePixel   \n",
       "4              NaN  GooglePixel   \n",
       "\n",
       "                                            selftext author_fullname  saved  \\\n",
       "0  This is the weekly photo megathread. Photos ca...        t2_6l4z3  False   \n",
       "1  *If you were redirected here from a removed po...        t2_zmjf4  False   \n",
       "2  It was supposed to take up to 10 days. But it ...     t2_10j65hn2  False   \n",
       "3  Yall weren't kidding about the battery. It's p...        t2_zfetx  False   \n",
       "4                                                NaN        t2_bkfyp  False   \n",
       "\n",
       "   mod_reason_title  gilded  clicked  \\\n",
       "0               NaN       0    False   \n",
       "1               NaN       0    False   \n",
       "2               NaN       0    False   \n",
       "3               NaN       0    False   \n",
       "4               NaN       0    False   \n",
       "\n",
       "                                               title  \\\n",
       "0  Weekly #madebygoogle Photos Megathread - May 0...   \n",
       "1  The May 2020 Superthread: Pixel 4a, Battery, \"...   \n",
       "2  So I had some troubles with my phone, and sent...   \n",
       "3  Had my pixel 4 for a few days already and holy...   \n",
       "4     Pixel 3a black screen after overnight charging   \n",
       "\n",
       "                link_flair_richtext  ...   event_start     post_hint  \\\n",
       "0                                []  ...           NaN           NaN   \n",
       "1                                []  ...  1.588345e+09          self   \n",
       "2  [{'e': 'text', 't': 'Pixel 3a'}]  ...           NaN           NaN   \n",
       "3   [{'e': 'text', 't': 'Pixel 4'}]  ...           NaN           NaN   \n",
       "4  [{'e': 'text', 't': 'Pixel 3a'}]  ...           NaN  hosted:video   \n",
       "\n",
       "                                             preview     event_end  \\\n",
       "0                                                NaN           NaN   \n",
       "1  {'images': [{'source': {'url': 'https://extern...  1.588360e+09   \n",
       "2                                                NaN           NaN   \n",
       "3                                                NaN           NaN   \n",
       "4  {'images': [{'source': {'url': 'https://extern...           NaN   \n",
       "\n",
       "   event_is_live                link_flair_template_id  media_metadata  \\\n",
       "0            NaN                                   NaN             NaN   \n",
       "1          False                                   NaN             NaN   \n",
       "2            NaN  bd247e74-7476-11e9-b802-0e2121dcd2a2             NaN   \n",
       "3            NaN  8697ce76-f2dc-11e9-8412-0eae23347634             NaN   \n",
       "4            NaN  bd247e74-7476-11e9-b802-0e2121dcd2a2             NaN   \n",
       "\n",
       "  poll_data  crosspost_parent_list crosspost_parent  \n",
       "0       NaN                    NaN              NaN  \n",
       "1       NaN                    NaN              NaN  \n",
       "2       NaN                    NaN              NaN  \n",
       "3       NaN                    NaN              NaN  \n",
       "4       NaN                    NaN              NaN  \n",
       "\n",
       "[5 rows x 113 columns]"
      ]
     },
     "execution_count": 7,
     "metadata": {},
     "output_type": "execute_result"
    }
   ],
   "source": [
    "# Read in google pixel reddit data\n",
    "df_gp = pd.read_csv('./reddit_gp.csv')\n",
    "df_gp.head()"
   ]
  },
  {
   "cell_type": "code",
   "execution_count": 8,
   "metadata": {},
   "outputs": [
    {
     "data": {
      "text/plain": [
       "(980, 3)"
      ]
     },
     "execution_count": 8,
     "metadata": {},
     "output_type": "execute_result"
    }
   ],
   "source": [
    "# Set a new dataframe with the columns we want ()\n",
    "df_gp1 = pd.DataFrame(df_gp[['subreddit', 'selftext', 'title']])\n",
    "# Shape of dataframe\n",
    "df_gp1.shape"
   ]
  },
  {
   "cell_type": "code",
   "execution_count": 9,
   "metadata": {},
   "outputs": [
    {
     "data": {
      "text/plain": [
       "(803, 3)"
      ]
     },
     "execution_count": 9,
     "metadata": {},
     "output_type": "execute_result"
    }
   ],
   "source": [
    "# Drop duplicates in selftext column\n",
    "df_gp1.drop_duplicates(subset='selftext',inplace=True)\n",
    "# Shape of dataframe after removing duplicates\n",
    "df_gp1.shape"
   ]
  },
  {
   "cell_type": "code",
   "execution_count": 10,
   "metadata": {},
   "outputs": [
    {
     "data": {
      "text/plain": [
       "(802, 3)"
      ]
     },
     "execution_count": 10,
     "metadata": {},
     "output_type": "execute_result"
    }
   ],
   "source": [
    "# Drop NAs.\n",
    "df_gp1.dropna(inplace=True)\n",
    "# Shape of dataframe after removing NAs\n",
    "df_gp1.shape"
   ]
  },
  {
   "cell_type": "code",
   "execution_count": 11,
   "metadata": {},
   "outputs": [
    {
     "data": {
      "text/plain": [
       "(1626, 3)"
      ]
     },
     "execution_count": 11,
     "metadata": {},
     "output_type": "execute_result"
    }
   ],
   "source": [
    "# Join the two dataframes together\n",
    "df = pd.concat([df_gh1,df_gp1])\n",
    "df.reset_index(drop=True, inplace=True)\n",
    "# Shape of concatenated dataframe \n",
    "df.shape"
   ]
  },
  {
   "cell_type": "code",
   "execution_count": 12,
   "metadata": {},
   "outputs": [
    {
     "data": {
      "text/plain": [
       "googlehome     824\n",
       "GooglePixel    802\n",
       "Name: subreddit, dtype: int64"
      ]
     },
     "execution_count": 12,
     "metadata": {},
     "output_type": "execute_result"
    }
   ],
   "source": [
    "df['subreddit'].value_counts()"
   ]
  },
  {
   "cell_type": "code",
   "execution_count": 13,
   "metadata": {},
   "outputs": [
    {
     "data": {
      "text/html": [
       "<div>\n",
       "<style scoped>\n",
       "    .dataframe tbody tr th:only-of-type {\n",
       "        vertical-align: middle;\n",
       "    }\n",
       "\n",
       "    .dataframe tbody tr th {\n",
       "        vertical-align: top;\n",
       "    }\n",
       "\n",
       "    .dataframe thead th {\n",
       "        text-align: right;\n",
       "    }\n",
       "</style>\n",
       "<table border=\"1\" class=\"dataframe\">\n",
       "  <thead>\n",
       "    <tr style=\"text-align: right;\">\n",
       "      <th></th>\n",
       "      <th>subreddit</th>\n",
       "      <th>selftext</th>\n",
       "      <th>title</th>\n",
       "      <th>googlehome</th>\n",
       "    </tr>\n",
       "  </thead>\n",
       "  <tbody>\n",
       "    <tr>\n",
       "      <th>0</th>\n",
       "      <td>googlehome</td>\n",
       "      <td>[\\[FAQ - Frequently Asked Questions\\]](https:/...</td>\n",
       "      <td>FAQ: Please read the subreddit FAQ before post...</td>\n",
       "      <td>1</td>\n",
       "    </tr>\n",
       "    <tr>\n",
       "      <th>1</th>\n",
       "      <td>googlehome</td>\n",
       "      <td>Do you want to liberate your Google so it can ...</td>\n",
       "      <td>My Google has Coronavirus! - Monthly Rants and...</td>\n",
       "      <td>1</td>\n",
       "    </tr>\n",
       "  </tbody>\n",
       "</table>\n",
       "</div>"
      ],
      "text/plain": [
       "    subreddit                                           selftext  \\\n",
       "0  googlehome  [\\[FAQ - Frequently Asked Questions\\]](https:/...   \n",
       "1  googlehome  Do you want to liberate your Google so it can ...   \n",
       "\n",
       "                                               title  googlehome  \n",
       "0  FAQ: Please read the subreddit FAQ before post...           1  \n",
       "1  My Google has Coronavirus! - Monthly Rants and...           1  "
      ]
     },
     "execution_count": 13,
     "metadata": {},
     "output_type": "execute_result"
    }
   ],
   "source": [
    "# Engineer a feature to turn subreddit into a 1/0 column, where 1 indicates googlehome.\n",
    "df['googlehome'] = df['subreddit'].map({'googlehome': 1, 'GooglePixel': 0})\n",
    "df.head(2)"
   ]
  },
  {
   "cell_type": "code",
   "execution_count": 14,
   "metadata": {},
   "outputs": [
    {
     "data": {
      "text/plain": [
       "1    0.506765\n",
       "0    0.493235\n",
       "Name: googlehome, dtype: float64"
      ]
     },
     "execution_count": 14,
     "metadata": {},
     "output_type": "execute_result"
    }
   ],
   "source": [
    "df['googlehome'].value_counts(normalize=True)"
   ]
  },
  {
   "cell_type": "markdown",
   "metadata": {},
   "source": [
    "The distribution of the classes is quite balanced. If the class is imblanced, the resulting model is likely to have low predictive accuracy for the infrequent class."
   ]
  },
  {
   "cell_type": "markdown",
   "metadata": {},
   "source": [
    "### Basic EDA\n",
    "---\n",
    "Building good performing classifers from data with easily separable classes is relatively straightforward but care should be excercised to determine if such data is representative of the actual world environment. In most real world environment, samples from different classes share similar characteristics or are overlapped. This means the boundaries of each class may not be clearly defined as desired. \n",
    "\n",
    "Common practices to address this problem includes:\n",
    "- i) modifying the original data by introducing/removing features which decrease the overlapping region,\n",
    "- ii) adapting algorithms to reduce the negative impact of overlapping features.\n",
    "\n",
    "Through the basic EDA process, we set out to discover what are the prevalent key words among the reddit posts, and their distribution across text data of googlehome and googlepixel reddit posts. With these insights we would then be in better position to fine-tune the subsequent models."
   ]
  },
  {
   "cell_type": "code",
   "execution_count": 15,
   "metadata": {},
   "outputs": [
    {
     "data": {
      "text/plain": [
       "0    [\\[FAQ - Frequently Asked Questions\\]](https:/...\n",
       "1    Do you want to liberate your Google so it can ...\n",
       "2                            Because that's all it is.\n",
       "3    So I set an alarm there and Google responded '...\n",
       "4    Recently got a Nest WiFi router. I currently l...\n",
       "Name: selftext, dtype: object"
      ]
     },
     "execution_count": 15,
     "metadata": {},
     "output_type": "execute_result"
    }
   ],
   "source": [
    "text = df['selftext']\n",
    "text[0:5]"
   ]
  },
  {
   "cell_type": "code",
   "execution_count": 16,
   "metadata": {},
   "outputs": [],
   "source": [
    "'''\n",
    "create a document term matrix with:\n",
    "-ngram range 1,2\n",
    "-minimum document appearance for any term = 2\n",
    "-removal of all English stop words\n",
    "'''\n",
    "# Instantiate countvectorizer\n",
    "cvec = CountVectorizer(ngram_range=(1, 2), stop_words='english', min_df=2)\n",
    "matrix = cvec.fit_transform(text)"
   ]
  },
  {
   "cell_type": "code",
   "execution_count": 17,
   "metadata": {},
   "outputs": [],
   "source": [
    "# Create a dataframe with feature names = words\n",
    "tf = pd.DataFrame(cvec.fit_transform(text).toarray(), columns=cvec.get_feature_names())"
   ]
  },
  {
   "cell_type": "code",
   "execution_count": 18,
   "metadata": {},
   "outputs": [
    {
     "data": {
      "text/plain": [
       "google         1731\n",
       "home           1054\n",
       "pixel           993\n",
       "phone           882\n",
       "just            736\n",
       "google home     606\n",
       "buds            559\n",
       "ve              547\n",
       "like            533\n",
       "app             429\n",
       "dtype: int64"
      ]
     },
     "execution_count": 18,
     "metadata": {},
     "output_type": "execute_result"
    }
   ],
   "source": [
    "# see most common terms\n",
    "tf.sum().sort_values(ascending=False).head(10)"
   ]
  },
  {
   "cell_type": "code",
   "execution_count": 19,
   "metadata": {},
   "outputs": [
    {
     "data": {
      "text/html": [
       "<div>\n",
       "<style scoped>\n",
       "    .dataframe tbody tr th:only-of-type {\n",
       "        vertical-align: middle;\n",
       "    }\n",
       "\n",
       "    .dataframe tbody tr th {\n",
       "        vertical-align: top;\n",
       "    }\n",
       "\n",
       "    .dataframe thead th {\n",
       "        text-align: right;\n",
       "    }\n",
       "</style>\n",
       "<table border=\"1\" class=\"dataframe\">\n",
       "  <thead>\n",
       "    <tr style=\"text-align: right;\">\n",
       "      <th></th>\n",
       "      <th>subreddit</th>\n",
       "      <th>selftext</th>\n",
       "      <th>title</th>\n",
       "      <th>googlehome</th>\n",
       "    </tr>\n",
       "  </thead>\n",
       "  <tbody>\n",
       "    <tr>\n",
       "      <th>0</th>\n",
       "      <td>googlehome</td>\n",
       "      <td>[\\[FAQ - Frequently Asked Questions\\]](https:/...</td>\n",
       "      <td>FAQ: Please read the subreddit FAQ before post...</td>\n",
       "      <td>1</td>\n",
       "    </tr>\n",
       "    <tr>\n",
       "      <th>1</th>\n",
       "      <td>googlehome</td>\n",
       "      <td>Do you want to liberate your Google so it can ...</td>\n",
       "      <td>My Google has Coronavirus! - Monthly Rants and...</td>\n",
       "      <td>1</td>\n",
       "    </tr>\n",
       "    <tr>\n",
       "      <th>2</th>\n",
       "      <td>googlehome</td>\n",
       "      <td>Because that's all it is.</td>\n",
       "      <td>[Subreddit Request] Can we rename this subredd...</td>\n",
       "      <td>1</td>\n",
       "    </tr>\n",
       "    <tr>\n",
       "      <th>3</th>\n",
       "      <td>googlehome</td>\n",
       "      <td>So I set an alarm there and Google responded '...</td>\n",
       "      <td>Google just said no problem</td>\n",
       "      <td>1</td>\n",
       "    </tr>\n",
       "    <tr>\n",
       "      <th>4</th>\n",
       "      <td>googlehome</td>\n",
       "      <td>Recently got a Nest WiFi router. I currently l...</td>\n",
       "      <td>Nest WiFi - who can access router settings?</td>\n",
       "      <td>1</td>\n",
       "    </tr>\n",
       "  </tbody>\n",
       "</table>\n",
       "</div>"
      ],
      "text/plain": [
       "    subreddit                                           selftext  \\\n",
       "0  googlehome  [\\[FAQ - Frequently Asked Questions\\]](https:/...   \n",
       "1  googlehome  Do you want to liberate your Google so it can ...   \n",
       "2  googlehome                          Because that's all it is.   \n",
       "3  googlehome  So I set an alarm there and Google responded '...   \n",
       "4  googlehome  Recently got a Nest WiFi router. I currently l...   \n",
       "\n",
       "                                               title  googlehome  \n",
       "0  FAQ: Please read the subreddit FAQ before post...           1  \n",
       "1  My Google has Coronavirus! - Monthly Rants and...           1  \n",
       "2  [Subreddit Request] Can we rename this subredd...           1  \n",
       "3                        Google just said no problem           1  \n",
       "4        Nest WiFi - who can access router settings?           1  "
      ]
     },
     "execution_count": 19,
     "metadata": {},
     "output_type": "execute_result"
    }
   ],
   "source": [
    "# Create googlehome text df\n",
    "googlehome_tdf = df[df['googlehome'] ==1]\n",
    "googlehome_tdf.shape\n",
    "googlehome_tdf.head()"
   ]
  },
  {
   "cell_type": "code",
   "execution_count": 20,
   "metadata": {},
   "outputs": [
    {
     "data": {
      "text/plain": [
       "(802, 4)"
      ]
     },
     "execution_count": 20,
     "metadata": {},
     "output_type": "execute_result"
    }
   ],
   "source": [
    "# Create googlepixel text df\n",
    "googlepixel_tdf = df[df['googlehome'] == 0]\n",
    "googlepixel_tdf.shape"
   ]
  },
  {
   "cell_type": "code",
   "execution_count": 21,
   "metadata": {},
   "outputs": [],
   "source": [
    "# vectorize selftext from googlehome text\n",
    "tf1 = pd.DataFrame(cvec.fit_transform(googlehome_tdf['selftext']).toarray(), columns=cvec.get_feature_names())"
   ]
  },
  {
   "cell_type": "code",
   "execution_count": 22,
   "metadata": {},
   "outputs": [
    {
     "data": {
      "text/plain": [
       "(824, 4502)"
      ]
     },
     "execution_count": 22,
     "metadata": {},
     "output_type": "execute_result"
    }
   ],
   "source": [
    "# No.of features fitted\n",
    "tf1.shape"
   ]
  },
  {
   "cell_type": "code",
   "execution_count": 23,
   "metadata": {},
   "outputs": [
    {
     "data": {
      "text/plain": [
       "google         1260\n",
       "home            992\n",
       "google home     600\n",
       "just            312\n",
       "play            283\n",
       "app             265\n",
       "ve              254\n",
       "nest            248\n",
       "set             246\n",
       "mini            230\n",
       "dtype: int64"
      ]
     },
     "execution_count": 23,
     "metadata": {},
     "output_type": "execute_result"
    }
   ],
   "source": [
    "# check value counts\n",
    "tf1.sum().sort_values(ascending=False).head(10)"
   ]
  },
  {
   "cell_type": "markdown",
   "metadata": {},
   "source": [
    "As expected, the words `google`, `home` and `google home` have high prevalence in google home reddit posts."
   ]
  },
  {
   "cell_type": "code",
   "execution_count": 24,
   "metadata": {},
   "outputs": [],
   "source": [
    "# vectorize selftext from googlehome text\n",
    "tf2 = pd.DataFrame(cvec.fit_transform(googlepixel_tdf['selftext']).toarray(), columns=cvec.get_feature_names())"
   ]
  },
  {
   "cell_type": "code",
   "execution_count": 25,
   "metadata": {},
   "outputs": [
    {
     "data": {
      "text/plain": [
       "(802, 5352)"
      ]
     },
     "execution_count": 25,
     "metadata": {},
     "output_type": "execute_result"
    }
   ],
   "source": [
    "# No.of features fitted\n",
    "tf2.shape"
   ]
  },
  {
   "cell_type": "code",
   "execution_count": 26,
   "metadata": {},
   "outputs": [
    {
     "data": {
      "text/plain": [
       "pixel         980\n",
       "phone         672\n",
       "buds          559\n",
       "google        471\n",
       "just          424\n",
       "like          321\n",
       "ve            293\n",
       "pixel buds    265\n",
       "battery       225\n",
       "don           208\n",
       "dtype: int64"
      ]
     },
     "execution_count": 26,
     "metadata": {},
     "output_type": "execute_result"
    }
   ],
   "source": [
    "# check value counts\n",
    "tf2.sum().sort_values(ascending=False).head(10)"
   ]
  },
  {
   "cell_type": "markdown",
   "metadata": {},
   "source": [
    "The words `google`, `phone` and `pixel` have high prevalence in google pixel reddit posts. Are any of these words common among the two reddit groups, and what is their distribution? Let's find out."
   ]
  },
  {
   "cell_type": "code",
   "execution_count": 27,
   "metadata": {},
   "outputs": [
    {
     "name": "stdout",
     "output_type": "stream",
     "text": [
      "              0_x   0_y\n",
      "00            4.0   2.0\n",
      "04            NaN   5.0\n",
      "05            NaN   2.0\n",
      "09            NaN   2.0\n",
      "10           38.0  77.0\n",
      "...           ...   ...\n",
      "zero issues   NaN   2.0\n",
      "zoom          NaN  24.0\n",
      "zoom app      NaN   2.0\n",
      "zoom video    NaN   2.0\n",
      "zoomed        NaN   2.0\n",
      "\n",
      "[8019 rows x 2 columns]\n"
     ]
    }
   ],
   "source": [
    "# word counts of googlehome text and google pixel text\n",
    "\"\"\"Merge the two dataframes on Outer join, align with both dataframe indexes.\"\"\"\n",
    "word_counts = pd.merge(pd.DataFrame(data=tf1.sum().sort_values(ascending=False)),\\\n",
    "                       pd.DataFrame(data=tf2.sum().sort_values(ascending=False)),\\\n",
    "                       how='outer',left_index=True,right_index=True)\n",
    "print(word_counts)"
   ]
  },
  {
   "cell_type": "code",
   "execution_count": 28,
   "metadata": {},
   "outputs": [],
   "source": [
    "# rename columns\n",
    "word_counts.columns = ['googlehome', 'googlepixel']"
   ]
  },
  {
   "cell_type": "code",
   "execution_count": 29,
   "metadata": {},
   "outputs": [
    {
     "data": {
      "text/html": [
       "<div>\n",
       "<style scoped>\n",
       "    .dataframe tbody tr th:only-of-type {\n",
       "        vertical-align: middle;\n",
       "    }\n",
       "\n",
       "    .dataframe tbody tr th {\n",
       "        vertical-align: top;\n",
       "    }\n",
       "\n",
       "    .dataframe thead th {\n",
       "        text-align: right;\n",
       "    }\n",
       "</style>\n",
       "<table border=\"1\" class=\"dataframe\">\n",
       "  <thead>\n",
       "    <tr style=\"text-align: right;\">\n",
       "      <th></th>\n",
       "      <th>googlehome</th>\n",
       "      <th>googlepixel</th>\n",
       "    </tr>\n",
       "  </thead>\n",
       "  <tbody>\n",
       "    <tr>\n",
       "      <th>00</th>\n",
       "      <td>4.0</td>\n",
       "      <td>2.0</td>\n",
       "    </tr>\n",
       "    <tr>\n",
       "      <th>04</th>\n",
       "      <td>NaN</td>\n",
       "      <td>5.0</td>\n",
       "    </tr>\n",
       "  </tbody>\n",
       "</table>\n",
       "</div>"
      ],
      "text/plain": [
       "    googlehome  googlepixel\n",
       "00         4.0          2.0\n",
       "04         NaN          5.0"
      ]
     },
     "execution_count": 29,
     "metadata": {},
     "output_type": "execute_result"
    }
   ],
   "source": [
    "# view the df to ensure correct column naming\n",
    "word_counts.head(2)"
   ]
  },
  {
   "cell_type": "code",
   "execution_count": 30,
   "metadata": {},
   "outputs": [
    {
     "data": {
      "text/html": [
       "<div>\n",
       "<style scoped>\n",
       "    .dataframe tbody tr th:only-of-type {\n",
       "        vertical-align: middle;\n",
       "    }\n",
       "\n",
       "    .dataframe tbody tr th {\n",
       "        vertical-align: top;\n",
       "    }\n",
       "\n",
       "    .dataframe thead th {\n",
       "        text-align: right;\n",
       "    }\n",
       "</style>\n",
       "<table border=\"1\" class=\"dataframe\">\n",
       "  <thead>\n",
       "    <tr style=\"text-align: right;\">\n",
       "      <th></th>\n",
       "      <th>googlehome</th>\n",
       "      <th>googlepixel</th>\n",
       "      <th>sum</th>\n",
       "    </tr>\n",
       "  </thead>\n",
       "  <tbody>\n",
       "    <tr>\n",
       "      <th>google</th>\n",
       "      <td>1260.0</td>\n",
       "      <td>471.0</td>\n",
       "      <td>1731.0</td>\n",
       "    </tr>\n",
       "    <tr>\n",
       "      <th>home</th>\n",
       "      <td>992.0</td>\n",
       "      <td>62.0</td>\n",
       "      <td>1054.0</td>\n",
       "    </tr>\n",
       "    <tr>\n",
       "      <th>pixel</th>\n",
       "      <td>13.0</td>\n",
       "      <td>980.0</td>\n",
       "      <td>993.0</td>\n",
       "    </tr>\n",
       "    <tr>\n",
       "      <th>phone</th>\n",
       "      <td>210.0</td>\n",
       "      <td>672.0</td>\n",
       "      <td>882.0</td>\n",
       "    </tr>\n",
       "    <tr>\n",
       "      <th>just</th>\n",
       "      <td>312.0</td>\n",
       "      <td>424.0</td>\n",
       "      <td>736.0</td>\n",
       "    </tr>\n",
       "    <tr>\n",
       "      <th>google home</th>\n",
       "      <td>600.0</td>\n",
       "      <td>6.0</td>\n",
       "      <td>606.0</td>\n",
       "    </tr>\n",
       "    <tr>\n",
       "      <th>ve</th>\n",
       "      <td>254.0</td>\n",
       "      <td>293.0</td>\n",
       "      <td>547.0</td>\n",
       "    </tr>\n",
       "    <tr>\n",
       "      <th>like</th>\n",
       "      <td>212.0</td>\n",
       "      <td>321.0</td>\n",
       "      <td>533.0</td>\n",
       "    </tr>\n",
       "    <tr>\n",
       "      <th>app</th>\n",
       "      <td>265.0</td>\n",
       "      <td>164.0</td>\n",
       "      <td>429.0</td>\n",
       "    </tr>\n",
       "    <tr>\n",
       "      <th>use</th>\n",
       "      <td>197.0</td>\n",
       "      <td>177.0</td>\n",
       "      <td>374.0</td>\n",
       "    </tr>\n",
       "  </tbody>\n",
       "</table>\n",
       "</div>"
      ],
      "text/plain": [
       "             googlehome  googlepixel     sum\n",
       "google           1260.0        471.0  1731.0\n",
       "home              992.0         62.0  1054.0\n",
       "pixel              13.0        980.0   993.0\n",
       "phone             210.0        672.0   882.0\n",
       "just              312.0        424.0   736.0\n",
       "google home       600.0          6.0   606.0\n",
       "ve                254.0        293.0   547.0\n",
       "like              212.0        321.0   533.0\n",
       "app               265.0        164.0   429.0\n",
       "use               197.0        177.0   374.0"
      ]
     },
     "execution_count": 30,
     "metadata": {},
     "output_type": "execute_result"
    }
   ],
   "source": [
    "# find sums\n",
    "word_counts['sum'] = word_counts['googlehome'] + word_counts['googlepixel']\n",
    "# sort by most used values\n",
    "word_counts.sort_values(['sum'], ascending=False).head(10)"
   ]
  },
  {
   "cell_type": "code",
   "execution_count": 31,
   "metadata": {},
   "outputs": [
    {
     "data": {
      "text/html": [
       "<div>\n",
       "<style scoped>\n",
       "    .dataframe tbody tr th:only-of-type {\n",
       "        vertical-align: middle;\n",
       "    }\n",
       "\n",
       "    .dataframe tbody tr th {\n",
       "        vertical-align: top;\n",
       "    }\n",
       "\n",
       "    .dataframe thead th {\n",
       "        text-align: right;\n",
       "    }\n",
       "</style>\n",
       "<table border=\"1\" class=\"dataframe\">\n",
       "  <thead>\n",
       "    <tr style=\"text-align: right;\">\n",
       "      <th></th>\n",
       "      <th>googlehome</th>\n",
       "      <th>googlepixel</th>\n",
       "      <th>sum</th>\n",
       "    </tr>\n",
       "  </thead>\n",
       "  <tbody>\n",
       "    <tr>\n",
       "      <th>does recognize</th>\n",
       "      <td>2.0</td>\n",
       "      <td>2.0</td>\n",
       "      <td>4.0</td>\n",
       "    </tr>\n",
       "    <tr>\n",
       "      <th>google help</th>\n",
       "      <td>2.0</td>\n",
       "      <td>2.0</td>\n",
       "      <td>4.0</td>\n",
       "    </tr>\n",
       "    <tr>\n",
       "      <th>just getting</th>\n",
       "      <td>2.0</td>\n",
       "      <td>2.0</td>\n",
       "      <td>4.0</td>\n",
       "    </tr>\n",
       "    <tr>\n",
       "      <th>refusing</th>\n",
       "      <td>2.0</td>\n",
       "      <td>2.0</td>\n",
       "      <td>4.0</td>\n",
       "    </tr>\n",
       "    <tr>\n",
       "      <th>app issue</th>\n",
       "      <td>2.0</td>\n",
       "      <td>2.0</td>\n",
       "      <td>4.0</td>\n",
       "    </tr>\n",
       "  </tbody>\n",
       "</table>\n",
       "</div>"
      ],
      "text/plain": [
       "                googlehome  googlepixel  sum\n",
       "does recognize         2.0          2.0  4.0\n",
       "google help            2.0          2.0  4.0\n",
       "just getting           2.0          2.0  4.0\n",
       "refusing               2.0          2.0  4.0\n",
       "app issue              2.0          2.0  4.0"
      ]
     },
     "execution_count": 31,
     "metadata": {},
     "output_type": "execute_result"
    }
   ],
   "source": [
    "# Minimum occurrence of words\n",
    "word_counts.sort_values(['sum'], ascending=True).head(5)"
   ]
  },
  {
   "cell_type": "code",
   "execution_count": 32,
   "metadata": {},
   "outputs": [
    {
     "data": {
      "image/png": "[encoded data removed]",
      "text/plain": [
       "<Figure size 1080x432 with 1 Axes>"
      ]
     },
     "metadata": {},
     "output_type": "display_data"
    }
   ],
   "source": [
    "# plot 20 most used words\n",
    "word_counts.sort_values(['googlehome','googlepixel'], ascending=False).drop('sum', axis=1).head(30).\\\n",
    "plot(kind='bar',figsize=(15,6),fontsize=12,title='Top 20 common words across reddits');"
   ]
  },
  {
   "cell_type": "code",
   "execution_count": 33,
   "metadata": {},
   "outputs": [
    {
     "name": "stdout",
     "output_type": "stream",
     "text": [
      "googlehome total posts: 824, word count: 39648.0\n",
      "googlepixel total posts: 802, word count: 45369.0\n"
     ]
    }
   ],
   "source": [
    "print(f\"googlehome total posts: {df_gh1.shape[0]}, word count: {word_counts['googlehome'].sum()}\")\n",
    "print(f\"googlepixel total posts: {df_gp1.shape[0]}, word count: {word_counts['googlepixel'].sum()}\")"
   ]
  },
  {
   "cell_type": "markdown",
   "metadata": {},
   "source": [
    "While the word `google` is unexpectedly common with 1731 instances, an interestingly observation is that it is not as prevalent for google pixel posts compared to google home. This could be due to consumers referring the google handphone simply as `pixel`. \n",
    "For (binary) classification problem, the ideal case is perfect separation in features for the classes. However, this is rarely the case in actual world environment. Observe that there are words that are common between `googlehome` and `googlepixel`. \n",
    "We remove words that have two characteristics:\n",
    "- significant overlaps (smallest difference in word count occurrence in both classes)\n",
    "- occur frequently. From the plot above, word count occurrence of more than 200 is determined emohirically to be a suitable  measure. "
   ]
  },
  {
   "cell_type": "code",
   "execution_count": 34,
   "metadata": {},
   "outputs": [
    {
     "data": {
      "text/html": [
       "<div>\n",
       "<style scoped>\n",
       "    .dataframe tbody tr th:only-of-type {\n",
       "        vertical-align: middle;\n",
       "    }\n",
       "\n",
       "    .dataframe tbody tr th {\n",
       "        vertical-align: top;\n",
       "    }\n",
       "\n",
       "    .dataframe thead th {\n",
       "        text-align: right;\n",
       "    }\n",
       "</style>\n",
       "<table border=\"1\" class=\"dataframe\">\n",
       "  <thead>\n",
       "    <tr style=\"text-align: right;\">\n",
       "      <th></th>\n",
       "      <th>googlehome</th>\n",
       "      <th>googlepixel</th>\n",
       "      <th>sum</th>\n",
       "      <th>gap</th>\n",
       "    </tr>\n",
       "  </thead>\n",
       "  <tbody>\n",
       "    <tr>\n",
       "      <th>work</th>\n",
       "      <td>150.0</td>\n",
       "      <td>158.0</td>\n",
       "      <td>308.0</td>\n",
       "      <td>8.0</td>\n",
       "    </tr>\n",
       "    <tr>\n",
       "      <th>time</th>\n",
       "      <td>164.0</td>\n",
       "      <td>174.0</td>\n",
       "      <td>338.0</td>\n",
       "      <td>10.0</td>\n",
       "    </tr>\n",
       "    <tr>\n",
       "      <th>use</th>\n",
       "      <td>197.0</td>\n",
       "      <td>177.0</td>\n",
       "      <td>374.0</td>\n",
       "      <td>20.0</td>\n",
       "    </tr>\n",
       "    <tr>\n",
       "      <th>ve</th>\n",
       "      <td>254.0</td>\n",
       "      <td>293.0</td>\n",
       "      <td>547.0</td>\n",
       "      <td>39.0</td>\n",
       "    </tr>\n",
       "  </tbody>\n",
       "</table>\n",
       "</div>"
      ],
      "text/plain": [
       "      googlehome  googlepixel    sum   gap\n",
       "work       150.0        158.0  308.0   8.0\n",
       "time       164.0        174.0  338.0  10.0\n",
       "use        197.0        177.0  374.0  20.0\n",
       "ve         254.0        293.0  547.0  39.0"
      ]
     },
     "execution_count": 34,
     "metadata": {},
     "output_type": "execute_result"
    }
   ],
   "source": [
    "# find words with \n",
    "# 1. significant overlaps\n",
    "# 2. measure by gap (difference of word count between googlehome & googlepixel class)\n",
    "# 3. identify the more significant occuring ones by population proportion\n",
    "word_counts['gap'] = abs(word_counts['googlehome'] - word_counts['googlepixel'])\n",
    "# sort by most used values\n",
    "word_counts.sort_values(['gap'], ascending=True).loc[(word_counts['sum']>300) & (word_counts['gap']<50)]"
   ]
  },
  {
   "cell_type": "code",
   "execution_count": 35,
   "metadata": {},
   "outputs": [
    {
     "data": {
      "text/html": [
       "<div>\n",
       "<style scoped>\n",
       "    .dataframe tbody tr th:only-of-type {\n",
       "        vertical-align: middle;\n",
       "    }\n",
       "\n",
       "    .dataframe tbody tr th {\n",
       "        vertical-align: top;\n",
       "    }\n",
       "\n",
       "    .dataframe thead th {\n",
       "        text-align: right;\n",
       "    }\n",
       "</style>\n",
       "<table border=\"1\" class=\"dataframe\">\n",
       "  <thead>\n",
       "    <tr style=\"text-align: right;\">\n",
       "      <th></th>\n",
       "      <th>googlehome</th>\n",
       "      <th>googlepixel</th>\n",
       "      <th>sum</th>\n",
       "      <th>gap</th>\n",
       "    </tr>\n",
       "  </thead>\n",
       "  <tbody>\n",
       "    <tr>\n",
       "      <th>does</th>\n",
       "      <td>138.0</td>\n",
       "      <td>140.0</td>\n",
       "      <td>278.0</td>\n",
       "      <td>2.0</td>\n",
       "    </tr>\n",
       "    <tr>\n",
       "      <th>work</th>\n",
       "      <td>150.0</td>\n",
       "      <td>158.0</td>\n",
       "      <td>308.0</td>\n",
       "      <td>8.0</td>\n",
       "    </tr>\n",
       "    <tr>\n",
       "      <th>time</th>\n",
       "      <td>164.0</td>\n",
       "      <td>174.0</td>\n",
       "      <td>338.0</td>\n",
       "      <td>10.0</td>\n",
       "    </tr>\n",
       "    <tr>\n",
       "      <th>want</th>\n",
       "      <td>139.0</td>\n",
       "      <td>120.0</td>\n",
       "      <td>259.0</td>\n",
       "      <td>19.0</td>\n",
       "    </tr>\n",
       "    <tr>\n",
       "      <th>use</th>\n",
       "      <td>197.0</td>\n",
       "      <td>177.0</td>\n",
       "      <td>374.0</td>\n",
       "      <td>20.0</td>\n",
       "    </tr>\n",
       "    <tr>\n",
       "      <th>using</th>\n",
       "      <td>129.0</td>\n",
       "      <td>162.0</td>\n",
       "      <td>291.0</td>\n",
       "      <td>33.0</td>\n",
       "    </tr>\n",
       "    <tr>\n",
       "      <th>way</th>\n",
       "      <td>155.0</td>\n",
       "      <td>121.0</td>\n",
       "      <td>276.0</td>\n",
       "      <td>34.0</td>\n",
       "    </tr>\n",
       "    <tr>\n",
       "      <th>assistant</th>\n",
       "      <td>138.0</td>\n",
       "      <td>102.0</td>\n",
       "      <td>240.0</td>\n",
       "      <td>36.0</td>\n",
       "    </tr>\n",
       "    <tr>\n",
       "      <th>ve</th>\n",
       "      <td>254.0</td>\n",
       "      <td>293.0</td>\n",
       "      <td>547.0</td>\n",
       "      <td>39.0</td>\n",
       "    </tr>\n",
       "    <tr>\n",
       "      <th>tried</th>\n",
       "      <td>156.0</td>\n",
       "      <td>116.0</td>\n",
       "      <td>272.0</td>\n",
       "      <td>40.0</td>\n",
       "    </tr>\n",
       "  </tbody>\n",
       "</table>\n",
       "</div>"
      ],
      "text/plain": [
       "           googlehome  googlepixel    sum   gap\n",
       "does            138.0        140.0  278.0   2.0\n",
       "work            150.0        158.0  308.0   8.0\n",
       "time            164.0        174.0  338.0  10.0\n",
       "want            139.0        120.0  259.0  19.0\n",
       "use             197.0        177.0  374.0  20.0\n",
       "using           129.0        162.0  291.0  33.0\n",
       "way             155.0        121.0  276.0  34.0\n",
       "assistant       138.0        102.0  240.0  36.0\n",
       "ve              254.0        293.0  547.0  39.0\n",
       "tried           156.0        116.0  272.0  40.0"
      ]
     },
     "execution_count": 35,
     "metadata": {},
     "output_type": "execute_result"
    }
   ],
   "source": [
    "word_counts.sort_values(['gap'], ascending=True).loc[(word_counts['sum']>200) & (word_counts['gap']<50)]"
   ]
  },
  {
   "cell_type": "markdown",
   "metadata": {},
   "source": [
    "The top 10 words commonly overlapping words are [`does`, `work`, `time`, `want`, `use`, `using`, `way`, `assistant`, `ve`, `tried`] are the more common words among the two reddits with significant overlap (similar distribution, with word count aprrox. 200). To measure the impact on model predictive accuracy, it is proposed compare a logreg model without removing these key words and another logreg model with these key words removed.  "
   ]
  },
  {
   "cell_type": "markdown",
   "metadata": {},
   "source": [
    "### Word Art\n",
    "---\n",
    "Following the EDA process, we received a request from the marketing department. They wanted to understand the hot topics for google home and google pixel by inference of the keywords from Reddit posts. While word cloud is technically not data science, we make a small detour to help them out."
   ]
  },
  {
   "cell_type": "code",
   "execution_count": 36,
   "metadata": {},
   "outputs": [],
   "source": [
    "# Import libraries\n",
    "from wordcloud import WordCloud, STOPWORDS, ImageColorGenerator\n",
    "\n",
    "from matplotlib.pyplot import imread\n",
    "%matplotlib inline\n",
    "\n",
    "import numpy as np"
   ]
  },
  {
   "cell_type": "code",
   "execution_count": 37,
   "metadata": {},
   "outputs": [],
   "source": [
    "# create a list of all the text from googlehome\n",
    "wa_gh = pd.DataFrame(cvec.fit_transform(googlehome_tdf['selftext']).toarray(), columns=cvec.get_feature_names())\n",
    "all_textgh = []\n",
    "for x in wa_gh:\n",
    "    all_textgh.append(x)"
   ]
  },
  {
   "cell_type": "code",
   "execution_count": 38,
   "metadata": {},
   "outputs": [],
   "source": [
    "# create a list of all the text from googlepixel\n",
    "wa_gp = pd.DataFrame(cvec.fit_transform(googlepixel_tdf['selftext']).toarray(), columns=cvec.get_feature_names())\n",
    "all_textgp = []\n",
    "for x in wa_gp:\n",
    "    all_textgp.append(x)"
   ]
  },
  {
   "cell_type": "code",
   "execution_count": 39,
   "metadata": {},
   "outputs": [],
   "source": [
    "# format it into str\n",
    "# In Python 3, unicode has been renamed to str.\n",
    "googlehome_text = str(all_textgh)\n",
    "googlepixel_text = str(all_textgp)"
   ]
  },
  {
   "cell_type": "code",
   "execution_count": 40,
   "metadata": {},
   "outputs": [],
   "source": [
    "# Define function to generate wordart (wordcloud)\n",
    "def cloud(source_text):\n",
    "    stop_words = [\"ve'\"] + list(STOPWORDS)\n",
    "    wordcloud = WordCloud(max_words=200,\\\n",
    "                          stopwords=stop_words,\\\n",
    "                          background_color=\"black\",\\\n",
    "                          min_font_size=10,\\\n",
    "                          colormap='viridis').generate(source_text)\n",
    "    \n",
    "    plt.figure(figsize=(9,6))\n",
    "    plt.imshow(wordcloud)\n",
    "    plt.axis(\"off\")\n",
    "    plt.show()"
   ]
  },
  {
   "cell_type": "code",
   "execution_count": 41,
   "metadata": {},
   "outputs": [
    {
     "data": {
      "image/png": "[encoded data removed]",
      "text/plain": [
       "<Figure size 648x432 with 1 Axes>"
      ]
     },
     "metadata": {
      "needs_background": "light"
     },
     "output_type": "display_data"
    }
   ],
   "source": [
    "# Generate word cloud image for googlehome\n",
    "cloud(googlehome_text)"
   ]
  },
  {
   "cell_type": "code",
   "execution_count": 42,
   "metadata": {},
   "outputs": [
    {
     "data": {
      "image/png": "[encoded data removed]",
      "text/plain": [
       "<Figure size 648x432 with 1 Axes>"
      ]
     },
     "metadata": {
      "needs_background": "light"
     },
     "output_type": "display_data"
    }
   ],
   "source": [
    "# Generate word cloud image for googlepixel\n",
    "cloud(googlepixel_text)"
   ]
  },
  {
   "cell_type": "markdown",
   "metadata": {},
   "source": [
    "### Model Prep\n",
    "---\n",
    "In model learning, data is usually segregated into \n",
    "- training set; where model learns from the pattern within this set of data,\n",
    "- validate set; where model or group of models are evaluated. This is the performance the model is expected to have on unseen data.  \n",
    "- test set; the best performing model is then shortlisted and tested on the test set.\n",
    "\n",
    "We first split data into i) train and test set, then split the train set into train subsets and validate subsets.\n",
    "\n",
    "Dataleakage is an issue where a learned model is overfitted on the train data and not generalize well to new, unseen data. This can be mitigated by spliting the data upfront, fitting only on the train set and transform the validate set. This is to prevent data leakage from the validate set to the train set. (Similar principle applies on test set). This also means excercise caution not to inadvertently countvectorize (a transformer) the data first before doing train-test-split."
   ]
  },
  {
   "cell_type": "code",
   "execution_count": 43,
   "metadata": {},
   "outputs": [],
   "source": [
    "# Create Train-Test split (80-20 split)\n",
    "# X is selftext. y is googlehome.\n",
    "X_train,X_test,y_train,y_test = train_test_split(df[['selftext']],df['googlehome'],test_size=0.20,\\\n",
    "                                                 stratify=df['googlehome'],\\\n",
    "                                                 random_state=42)"
   ]
  },
  {
   "cell_type": "code",
   "execution_count": 44,
   "metadata": {},
   "outputs": [
    {
     "name": "stdout",
     "output_type": "stream",
     "text": [
      "1    659\n",
      "0    641\n",
      "Name: googlehome, dtype: int64\n"
     ]
    },
    {
     "data": {
      "text/plain": [
       "1    165\n",
       "0    161\n",
       "Name: googlehome, dtype: int64"
      ]
     },
     "execution_count": 44,
     "metadata": {},
     "output_type": "execute_result"
    }
   ],
   "source": [
    "# Equal proportion of classes split across train and test set\n",
    "print(y_train.value_counts())\n",
    "y_test.value_counts()"
   ]
  },
  {
   "cell_type": "code",
   "execution_count": 63,
   "metadata": {},
   "outputs": [],
   "source": [
    "# Create Train-Validate subsets (80-20 split) from the parent Train set\n",
    "# X is selftext. y is googlehome.\n",
    "X_trainf,X_validate,y_trainf,y_validate = train_test_split(X_train[['selftext']],y_train,test_size=0.20,\\\n",
    "                                                           stratify=y_train,random_state=42)"
   ]
  },
  {
   "cell_type": "code",
   "execution_count": 64,
   "metadata": {},
   "outputs": [
    {
     "name": "stdout",
     "output_type": "stream",
     "text": [
      "Lines in train set: 1040.\n",
      "Lines in validate set: 260.\n",
      "Lines in test set: 326.\n"
     ]
    }
   ],
   "source": [
    "# Lines of text in train set, validate set and test set\n",
    "lines_trainf = X_trainf.shape[0]\n",
    "lines_validate = X_validate.shape[0]\n",
    "lines_test = X_test.shape[0]\n",
    "print(f\"Lines in train set: {lines_trainf}.\")\n",
    "print(f\"Lines in validate set: {lines_validate}.\")\n",
    "print(f\"Lines in test set: {lines_test}.\")"
   ]
  },
  {
   "cell_type": "code",
   "execution_count": 65,
   "metadata": {},
   "outputs": [],
   "source": [
    "# Instantiate porterstemmer\n",
    "p_stemmer = PorterStemmer()"
   ]
  },
  {
   "cell_type": "code",
   "execution_count": 66,
   "metadata": {},
   "outputs": [],
   "source": [
    "# Define function to convert a raw selftext to a string of words\n",
    "# The input is a single string (a raw selftext), and \n",
    "# the output is a single string (a preprocessed selftext)\n",
    "\n",
    "def selftext_to_words(raw_selftext):\n",
    "    \n",
    "    # 1. Remove HTML.\n",
    "    selftext_text = BeautifulSoup(raw_selftext).get_text()\n",
    "    \n",
    "    # 2. Remove non-letters.\n",
    "    letters_only = re.sub(\"[^a-zA-Z]\", \" \", selftext_text)\n",
    "    \n",
    "    # 3. Convert to lower case, split into individual words\n",
    "    words = letters_only.lower().split()\n",
    "    \n",
    "    # 4. In Python, searching a set is much faster than searching\n",
    "    # a list, so convert the stopwords to a set.\n",
    "    stops = set(stopwords.words('english'))\n",
    "\n",
    "    # 5. Remove stopwords.\n",
    "    meaningful_words = [w for w in words if w not in stops]\n",
    "    \n",
    "    # 5.5 Stemming of words\n",
    "    meaningful_words = [p_stemmer.stem(w) for w in words]\n",
    "    \n",
    "    # 6. Join the words back into one string separated by space, \n",
    "    # and return the result\n",
    "    return(\" \".join(meaningful_words))"
   ]
  },
  {
   "cell_type": "code",
   "execution_count": 68,
   "metadata": {},
   "outputs": [
    {
     "name": "stdout",
     "output_type": "stream",
     "text": [
      "Clean & parse 1000 of 1626.\n",
      "Clean and parse 1626 of 1626.\n"
     ]
    }
   ],
   "source": [
    "#Initialize an empty list to hold the clean reviews.\n",
    "X_trainf_clean = []\n",
    "X_validate_clean = []\n",
    "X_test_clean = []\n",
    "\n",
    "#For train set\n",
    "# Instantiate counter.\n",
    "j = 0\n",
    "for text in X_trainf['selftext']:\n",
    "    \"\"\"Convert text to words, then append to X_trainf_clean.\"\"\"\n",
    "    X_trainf_clean.append(selftext_to_words(text))\n",
    "    \n",
    "    # If the index is divisible by 1000, print a message.\n",
    "    if (j + 1) % 1000 == 0:\n",
    "        print(f'Clean & parse {j + 1} of {lines_trainf+lines_validate+lines_test}.')\n",
    "    \n",
    "    j += 1\n",
    "    \n",
    "# For validate set\n",
    "for text in X_validate['selftext']:\n",
    "    \"\"\"Convert text to words, then append to X_validate_clean.\"\"\"\n",
    "    X_validate_clean.append(selftext_to_words(text))\n",
    "    \n",
    "    # If the index is divisible by 1629, print a message.\n",
    "    if (j + 1) % (lines_train+lines_test) == 0:\n",
    "        print(f'Clean and parse {j + 1} of {lines_train+lines_test}.')\n",
    "    \n",
    "    j += 1\n",
    "    \n",
    "# For test set\n",
    "for text in X_test['selftext']:\n",
    "    \"\"\"Convert text to words, then append to X_test_clean.\"\"\"\n",
    "    X_test_clean.append(selftext_to_words(text))\n",
    "    \n",
    "    # If the index is divisible by 1629, print a message.\n",
    "    if (j + 1) % (lines_trainf+lines_validate+lines_test) == 0:\n",
    "        print(f'Clean and parse {j + 1} of {lines_trainf+lines_validate+lines_test}.')\n",
    "    \n",
    "    j += 1"
   ]
  },
  {
   "cell_type": "markdown",
   "metadata": {},
   "source": [
    "### Baseline accuracy\n",
    "---\n",
    "We first derive the baseline accuracy so as to be able to determine if the subsequent models are better than the baseline (null) model (predicting the plurality class)."
   ]
  },
  {
   "cell_type": "code",
   "execution_count": 69,
   "metadata": {},
   "outputs": [
    {
     "data": {
      "text/plain": [
       "1    0.506135\n",
       "0    0.493865\n",
       "Name: googlehome, dtype: float64"
      ]
     },
     "execution_count": 69,
     "metadata": {},
     "output_type": "execute_result"
    }
   ],
   "source": [
    "y_test.value_counts(normalize=True)"
   ]
  },
  {
   "cell_type": "markdown",
   "metadata": {},
   "source": [
    "The Baseline accuracy is the percentage of the majority class. In this case, the baseline accuracy is 0.506135. \n",
    "This serves as benchmark for measuring model performance (i.e. model accuracy should be higher than this baseline)."
   ]
  },
  {
   "cell_type": "markdown",
   "metadata": {},
   "source": [
    "### Logistic Regression Model\n",
    "---\n",
    "For this project, Logistic Regression and Naive Bayes models are explored. Logistic Regression models are examined in this section."
   ]
  },
  {
   "cell_type": "code",
   "execution_count": 74,
   "metadata": {},
   "outputs": [],
   "source": [
    "# Set up a pipeline with two stages\n",
    "# 1.CountVectorizer (transformer)\n",
    "# 2.LogisticRegression (estimator)\n",
    "pipe1 = Pipeline([('cvec',CountVectorizer()),\\\n",
    "                 ('logreg',LogisticRegression(solver='lbfgs',max_iter=200,random_state=42))\\\n",
    "                ])"
   ]
  },
  {
   "cell_type": "code",
   "execution_count": 75,
   "metadata": {
    "scrolled": true
   },
   "outputs": [
    {
     "data": {
      "text/plain": [
       "{'memory': None,\n",
       " 'steps': [('cvec',\n",
       "   CountVectorizer(analyzer='word', binary=False, decode_error='strict',\n",
       "                   dtype=<class 'numpy.int64'>, encoding='utf-8', input='content',\n",
       "                   lowercase=True, max_df=1.0, max_features=None, min_df=1,\n",
       "                   ngram_range=(1, 1), preprocessor=None, stop_words=None,\n",
       "                   strip_accents=None, token_pattern='(?u)\\\\b\\\\w\\\\w+\\\\b',\n",
       "                   tokenizer=None, vocabulary=None)),\n",
       "  ('logreg',\n",
       "   LogisticRegression(C=1.0, class_weight=None, dual=False, fit_intercept=True,\n",
       "                      intercept_scaling=1, l1_ratio=None, max_iter=200,\n",
       "                      multi_class='auto', n_jobs=None, penalty='l2',\n",
       "                      random_state=42, solver='lbfgs', tol=0.0001, verbose=0,\n",
       "                      warm_start=False))],\n",
       " 'verbose': False,\n",
       " 'cvec': CountVectorizer(analyzer='word', binary=False, decode_error='strict',\n",
       "                 dtype=<class 'numpy.int64'>, encoding='utf-8', input='content',\n",
       "                 lowercase=True, max_df=1.0, max_features=None, min_df=1,\n",
       "                 ngram_range=(1, 1), preprocessor=None, stop_words=None,\n",
       "                 strip_accents=None, token_pattern='(?u)\\\\b\\\\w\\\\w+\\\\b',\n",
       "                 tokenizer=None, vocabulary=None),\n",
       " 'logreg': LogisticRegression(C=1.0, class_weight=None, dual=False, fit_intercept=True,\n",
       "                    intercept_scaling=1, l1_ratio=None, max_iter=200,\n",
       "                    multi_class='auto', n_jobs=None, penalty='l2',\n",
       "                    random_state=42, solver='lbfgs', tol=0.0001, verbose=0,\n",
       "                    warm_start=False),\n",
       " 'cvec__analyzer': 'word',\n",
       " 'cvec__binary': False,\n",
       " 'cvec__decode_error': 'strict',\n",
       " 'cvec__dtype': numpy.int64,\n",
       " 'cvec__encoding': 'utf-8',\n",
       " 'cvec__input': 'content',\n",
       " 'cvec__lowercase': True,\n",
       " 'cvec__max_df': 1.0,\n",
       " 'cvec__max_features': None,\n",
       " 'cvec__min_df': 1,\n",
       " 'cvec__ngram_range': (1, 1),\n",
       " 'cvec__preprocessor': None,\n",
       " 'cvec__stop_words': None,\n",
       " 'cvec__strip_accents': None,\n",
       " 'cvec__token_pattern': '(?u)\\\\b\\\\w\\\\w+\\\\b',\n",
       " 'cvec__tokenizer': None,\n",
       " 'cvec__vocabulary': None,\n",
       " 'logreg__C': 1.0,\n",
       " 'logreg__class_weight': None,\n",
       " 'logreg__dual': False,\n",
       " 'logreg__fit_intercept': True,\n",
       " 'logreg__intercept_scaling': 1,\n",
       " 'logreg__l1_ratio': None,\n",
       " 'logreg__max_iter': 200,\n",
       " 'logreg__multi_class': 'auto',\n",
       " 'logreg__n_jobs': None,\n",
       " 'logreg__penalty': 'l2',\n",
       " 'logreg__random_state': 42,\n",
       " 'logreg__solver': 'lbfgs',\n",
       " 'logreg__tol': 0.0001,\n",
       " 'logreg__verbose': 0,\n",
       " 'logreg__warm_start': False}"
      ]
     },
     "execution_count": 75,
     "metadata": {},
     "output_type": "execute_result"
    }
   ],
   "source": [
    "# Parameters of pipeline object\n",
    "pipe1.get_params()"
   ]
  },
  {
   "cell_type": "code",
   "execution_count": 76,
   "metadata": {},
   "outputs": [],
   "source": [
    "# Load pipeline object into GridSearchCV to tune CountVectorizer\n",
    "# Search over the following values of hyperparameters:\n",
    "# Maximum number of features fit (top no. frequent occur words): 2000, 3000, 4000, 5000\n",
    "# Minimum number of documents (collection of text) needed to include token: 2, 3\n",
    "# Maximum number of documents needed to include token: 90%, 95%\n",
    "# Check (individual tokens) and also check (individual tokens and 2-grams).\n",
    "\n",
    "# n-gram: 1 token, 1-gram, or 1 token, 2-gram.\n",
    "pipe_params = {\n",
    "    'cvec__max_features': [2_000,3_000,4_000,5_000],\\\n",
    "    'cvec__min_df': [2,3],\\\n",
    "    'cvec__max_df': [0.9,0.95],\\\n",
    "    'cvec__ngram_range': [(1, 1), (1,2)]\\\n",
    "}"
   ]
  },
  {
   "cell_type": "code",
   "execution_count": 77,
   "metadata": {},
   "outputs": [],
   "source": [
    "# Instantiate GridSearchCV.\n",
    "\"\"\"pipe refers to the object to optimize.\"\"\"\n",
    "\"\"\"param_grid refer to parameter values to search.\"\"\"\n",
    "\"\"\"cv refers to number of cross-validate fold.\"\"\"\n",
    "gs1 = GridSearchCV(pipe1,\\\n",
    "                  param_grid=pipe_params,\\\n",
    "                  cv=10)"
   ]
  },
  {
   "cell_type": "code",
   "execution_count": 80,
   "metadata": {},
   "outputs": [
    {
     "data": {
      "text/plain": [
       "GridSearchCV(cv=10, error_score=nan,\n",
       "             estimator=Pipeline(memory=None,\n",
       "                                steps=[('cvec',\n",
       "                                        CountVectorizer(analyzer='word',\n",
       "                                                        binary=False,\n",
       "                                                        decode_error='strict',\n",
       "                                                        dtype=<class 'numpy.int64'>,\n",
       "                                                        encoding='utf-8',\n",
       "                                                        input='content',\n",
       "                                                        lowercase=True,\n",
       "                                                        max_df=1.0,\n",
       "                                                        max_features=None,\n",
       "                                                        min_df=1,\n",
       "                                                        ngram_range=(1, 1),\n",
       "                                                        preprocessor=None,\n",
       "                                                        stop_words=None,\n",
       "                                                        strip_accents=None,\n",
       "                                                        token_pattern='(?u...\n",
       "                                                           n_jobs=None,\n",
       "                                                           penalty='l2',\n",
       "                                                           random_state=42,\n",
       "                                                           solver='lbfgs',\n",
       "                                                           tol=0.0001,\n",
       "                                                           verbose=0,\n",
       "                                                           warm_start=False))],\n",
       "                                verbose=False),\n",
       "             iid='deprecated', n_jobs=None,\n",
       "             param_grid={'cvec__max_df': [0.9, 0.95],\n",
       "                         'cvec__max_features': [2000, 3000, 4000, 5000],\n",
       "                         'cvec__min_df': [2, 3],\n",
       "                         'cvec__ngram_range': [(1, 1), (1, 2)]},\n",
       "             pre_dispatch='2*n_jobs', refit=True, return_train_score=False,\n",
       "             scoring=None, verbose=0)"
      ]
     },
     "execution_count": 80,
     "metadata": {},
     "output_type": "execute_result"
    }
   ],
   "source": [
    "# Fit GridSearch to the cleaned training data.\n",
    "gs1.fit(X_trainf_clean,y_trainf)"
   ]
  },
  {
   "cell_type": "code",
   "execution_count": 81,
   "metadata": {},
   "outputs": [
    {
     "name": "stdout",
     "output_type": "stream",
     "text": [
      "Best parameters: {'cvec__max_df': 0.9, 'cvec__max_features': 3000, 'cvec__min_df': 2, 'cvec__ngram_range': (1, 1)}\n",
      "Best score: 0.9307692307692308\n"
     ]
    }
   ],
   "source": [
    "# Check the results of the grid search\n",
    "\n",
    "print(f\"Best parameters: {gs1.best_params_}\")\n",
    "print(f\"Best score: {gs1.best_score_}\")"
   ]
  },
  {
   "cell_type": "code",
   "execution_count": 84,
   "metadata": {},
   "outputs": [],
   "source": [
    "# Save best model as gs_model.\n",
    "\n",
    "gs1_model = gs1.best_estimator_"
   ]
  },
  {
   "cell_type": "code",
   "execution_count": 103,
   "metadata": {
    "scrolled": true
   },
   "outputs": [
    {
     "name": "stdout",
     "output_type": "stream",
     "text": [
      "Accuracy on train set: 0.9980769230769231\n",
      "Accuracy on validate set: 0.9307692307692308\n"
     ]
    }
   ],
   "source": [
    "# Score model on training set & testing set\n",
    "print(f\"Accuracy on train set: {gs1_model.score(X_trainf_clean, y_trainf)}\")\n",
    "print(f\"Accuracy on validate set: {gs1_model.score(X_validate_clean, y_validate)}\")"
   ]
  },
  {
   "cell_type": "markdown",
   "metadata": {},
   "source": [
    "The model accuracy is higher than the baseline accuracy (0.506). However, the model is overfitted with about 7% drop in test accuracy compared to train accuracy."
   ]
  },
  {
   "cell_type": "code",
   "execution_count": 86,
   "metadata": {},
   "outputs": [
    {
     "data": {
      "text/html": [
       "<div>\n",
       "<style scoped>\n",
       "    .dataframe tbody tr th:only-of-type {\n",
       "        vertical-align: middle;\n",
       "    }\n",
       "\n",
       "    .dataframe tbody tr th {\n",
       "        vertical-align: top;\n",
       "    }\n",
       "\n",
       "    .dataframe thead th {\n",
       "        text-align: right;\n",
       "    }\n",
       "</style>\n",
       "<table border=\"1\" class=\"dataframe\">\n",
       "  <thead>\n",
       "    <tr style=\"text-align: right;\">\n",
       "      <th></th>\n",
       "      <th>pred googlepixel</th>\n",
       "      <th>pred googlehome</th>\n",
       "    </tr>\n",
       "  </thead>\n",
       "  <tbody>\n",
       "    <tr>\n",
       "      <th>Actual googlepixel</th>\n",
       "      <td>146</td>\n",
       "      <td>15</td>\n",
       "    </tr>\n",
       "    <tr>\n",
       "      <th>Actual googlehome</th>\n",
       "      <td>14</td>\n",
       "      <td>151</td>\n",
       "    </tr>\n",
       "  </tbody>\n",
       "</table>\n",
       "</div>"
      ],
      "text/plain": [
       "                    pred googlepixel  pred googlehome\n",
       "Actual googlepixel               146               15\n",
       "Actual googlehome                 14              151"
      ]
     },
     "execution_count": 86,
     "metadata": {},
     "output_type": "execute_result"
    }
   ],
   "source": [
    "# Confusion matrix on the first log reg model\n",
    "# Pass in true values, predicted values to confusion matrix\n",
    "# Convert Confusion matrix into dataframe\n",
    "# Positive class (class 1) is googlehome\n",
    "preds = gs1.predict(X_test_clean)\n",
    "cm = confusion_matrix(y_test, preds)\n",
    "cm_df = pd.DataFrame(cm,columns=['pred googlepixel','pred googlehome'], index=['Actual googlepixel','Actual googlehome'])\n",
    "cm_df"
   ]
  },
  {
   "cell_type": "markdown",
   "metadata": {},
   "source": [
    "The positive class (class 1) refers to `googlehome`. False positive means the observation is classified as `googlehome` when it is actually `googlepixel`. \n",
    "False negative means the ovservation is classified as `googlepixel` when it is actually `googlehome`."
   ]
  },
  {
   "cell_type": "code",
   "execution_count": 87,
   "metadata": {},
   "outputs": [],
   "source": [
    "# return nparray as a 1-D array.\n",
    "confusion_matrix(y_test, preds).ravel()\n",
    "# Save TN/FP/FN/TP values.\n",
    "tn, fp, fn, tp = confusion_matrix(y_test,preds).ravel()"
   ]
  },
  {
   "cell_type": "code",
   "execution_count": 90,
   "metadata": {},
   "outputs": [
    {
     "name": "stdout",
     "output_type": "stream",
     "text": [
      "Specificity: 0.9068\n",
      "Sensitivity: 0.9152\n",
      "Accuracy: 0.9308\n"
     ]
    }
   ],
   "source": [
    "# Summary of metrics for first log reg model\n",
    "spec = tn/(tn+fp)\n",
    "sens = tp/(tp+fn)\n",
    "print(f\"Specificity: {round(spec,4)}\")\n",
    "print(f\"Sensitivity: {round(sens,4)}\")\n",
    "print(f\"Accuracy: {round(gs1.score(X_validate_clean,y_validate),4)}\")"
   ]
  },
  {
   "cell_type": "markdown",
   "metadata": {},
   "source": [
    "The Receiver Operating Characteristic curve is a way to visualize the overlap between our positive class and negative class by moving our classification threshold from 0 to 1. \n",
    "\n",
    "The ROC curve shows the trade-off between sensitivity (or TruePositiveRate) and specificity (1 – FalsePositiveRate). Classifiers that give curves closer to the top-left corner indicate a better performance. As a baseline, a no-skill classifier is expected to give points lying along the diagonal (FPRate = TPRate). The closer the curve is to the diagonal line, the less accurate the classifier is. \n",
    "\n",
    "Hence, the more area under the blue curve, the better separated the class distributions are. The best trade-off between sensitivity and specificity is the top-left point along the ROC curve."
   ]
  },
  {
   "cell_type": "code",
   "execution_count": 92,
   "metadata": {},
   "outputs": [
    {
     "data": {
      "text/html": [
       "<div>\n",
       "<style scoped>\n",
       "    .dataframe tbody tr th:only-of-type {\n",
       "        vertical-align: middle;\n",
       "    }\n",
       "\n",
       "    .dataframe tbody tr th {\n",
       "        vertical-align: top;\n",
       "    }\n",
       "\n",
       "    .dataframe thead th {\n",
       "        text-align: right;\n",
       "    }\n",
       "</style>\n",
       "<table border=\"1\" class=\"dataframe\">\n",
       "  <thead>\n",
       "    <tr style=\"text-align: right;\">\n",
       "      <th></th>\n",
       "      <th>validate_values</th>\n",
       "      <th>pred_probs</th>\n",
       "    </tr>\n",
       "  </thead>\n",
       "  <tbody>\n",
       "    <tr>\n",
       "      <th>1445</th>\n",
       "      <td>0</td>\n",
       "      <td>3.905379e-02</td>\n",
       "    </tr>\n",
       "    <tr>\n",
       "      <th>1152</th>\n",
       "      <td>0</td>\n",
       "      <td>1.932087e-09</td>\n",
       "    </tr>\n",
       "    <tr>\n",
       "      <th>216</th>\n",
       "      <td>1</td>\n",
       "      <td>4.094079e-01</td>\n",
       "    </tr>\n",
       "    <tr>\n",
       "      <th>1001</th>\n",
       "      <td>0</td>\n",
       "      <td>4.466822e-06</td>\n",
       "    </tr>\n",
       "    <tr>\n",
       "      <th>1120</th>\n",
       "      <td>0</td>\n",
       "      <td>2.030855e-03</td>\n",
       "    </tr>\n",
       "  </tbody>\n",
       "</table>\n",
       "</div>"
      ],
      "text/plain": [
       "      validate_values    pred_probs\n",
       "1445                0  3.905379e-02\n",
       "1152                0  1.932087e-09\n",
       "216                 1  4.094079e-01\n",
       "1001                0  4.466822e-06\n",
       "1120                0  2.030855e-03"
      ]
     },
     "execution_count": 92,
     "metadata": {},
     "output_type": "execute_result"
    }
   ],
   "source": [
    "# To visualize the ROC AUC curve, first\n",
    "# Create a dataframe called pred_df that contains:\n",
    "# 1. The list of true values of our validate set.\n",
    "# 2. The list of predicted probabilities based on our model.\n",
    "\n",
    "pred_proba = [i[1] for i in gs1.predict_proba(X_validate_clean)]\n",
    "\n",
    "pred_df = pd.DataFrame({'validate_values': y_validate,\n",
    "                        'pred_probs':pred_proba})\n",
    "pred_df.head()"
   ]
  },
  {
   "cell_type": "code",
   "execution_count": 93,
   "metadata": {},
   "outputs": [],
   "source": [
    "# Import roc_auc_score.\n",
    "from sklearn.metrics import roc_auc_score"
   ]
  },
  {
   "cell_type": "code",
   "execution_count": 94,
   "metadata": {},
   "outputs": [
    {
     "data": {
      "text/plain": [
       "0.9909741950757576"
      ]
     },
     "execution_count": 94,
     "metadata": {},
     "output_type": "execute_result"
    }
   ],
   "source": [
    "# Calculate ROC AUC.\n",
    "roc_auc_score(pred_df['validate_values'],pred_df['pred_probs'])"
   ]
  },
  {
   "cell_type": "code",
   "execution_count": 155,
   "metadata": {},
   "outputs": [
    {
     "data": {
      "image/png": "[encoded data removed]",
      "text/plain": [
       "<Figure size 720x504 with 1 Axes>"
      ]
     },
     "metadata": {
      "needs_background": "light"
     },
     "output_type": "display_data"
    }
   ],
   "source": [
    "#Create figure\n",
    "plt.figure(figsize = (10,7))\n",
    "\n",
    "# Create threshold values. (Dashed orange line in plot.)\n",
    "thresholds = np.linspace(0, 1, 200)\n",
    "\n",
    "# Define function to calculate sensitivity. (True positive rate.)\n",
    "def TPR(df, true_col, pred_prob_col, threshold):\n",
    "    true_positive = df[(df[true_col] == 1) & (df[pred_prob_col] >= threshold)].shape[0]\n",
    "    false_negative = df[(df[true_col] == 1) & (df[pred_prob_col] < threshold)].shape[0]\n",
    "    return true_positive / (true_positive + false_negative)\n",
    "    \n",
    "# Define function to calculate 1 - specificity. (False positive rate.)\n",
    "def FPR(df, true_col, pred_prob_col, threshold):\n",
    "    true_negative = df[(df[true_col] == 0) & (df[pred_prob_col] <= threshold)].shape[0]\n",
    "    false_positive = df[(df[true_col] == 0) & (df[pred_prob_col] > threshold)].shape[0]\n",
    "    return 1 - (true_negative / (true_negative + false_positive))\n",
    "    \n",
    "# Calculate sensitivity & 1-specificity for each threshold between 0 and 1.\n",
    "tpr_values = [TPR(pred_df, 'validate_values', 'pred_probs', prob) for prob in thresholds]\n",
    "fpr_values = [FPR(pred_df, 'validate_values', 'pred_probs', prob) for prob in thresholds]\n",
    "\n",
    "# Plot ROC curve.\n",
    "plt.plot(fpr_values, # False Positive Rate on X-axis\n",
    "         tpr_values, # True Positive Rate on Y-axis\n",
    "         label='ROC Curve')\n",
    "\n",
    "# Plot baseline. (Perfect overlap between the two populations.)\n",
    "plt.plot(np.linspace(0, 1, 200),\n",
    "         np.linspace(0, 1, 200),\n",
    "         label='baseline',\n",
    "         linestyle='--')\n",
    "\n",
    "# Label axes.\n",
    "plt.title(f'ROC Curve with AUC = {round(roc_auc_score(pred_df[\"validate_values\"], pred_df[\"pred_probs\"]),4)}', fontsize=22)\n",
    "plt.ylabel('Sensitivity', fontsize=18)\n",
    "plt.xlabel('1 - Specificity', fontsize=18)\n",
    "\n",
    "# Create legend.\n",
    "plt.legend(fontsize=16);"
   ]
  },
  {
   "cell_type": "markdown",
   "metadata": {},
   "source": [
    "An ROC AUC of 1 means the positive and negative populations are perfectly separated and that the model is as good as it can get. The closer the ROC AUC is to 1, the better. (1 is the maximum score.)"
   ]
  },
  {
   "cell_type": "markdown",
   "metadata": {},
   "source": [
    "What would be the impact on model accuracy with the removal of the discovered overlapping key words? Let's find out."
   ]
  },
  {
   "cell_type": "code",
   "execution_count": 96,
   "metadata": {},
   "outputs": [],
   "source": [
    "# Set up a pipeline, pipe2 with two stages\n",
    "# 1.CountVectorizer (transformer)\n",
    "# 2.LogisticRegression (estimator)\n",
    "# 3.Remove the words ['does', 'work', 'time', 'want', 'use', 'using', 'way', 'assistant', 've', 'tried'] \n",
    "# via CountVectorizer\n",
    "pipe2 = Pipeline([('cvec',CountVectorizer(stop_words=['does', 'work', 'time', 'want', 'use',\\\n",
    "                                                      'using', 'way', 'assistant', 've', 'tried'])),\\\n",
    "                  ('logreg',LogisticRegression(solver='lbfgs',max_iter=200,random_state=42))\\\n",
    "                 ])"
   ]
  },
  {
   "cell_type": "code",
   "execution_count": 97,
   "metadata": {},
   "outputs": [
    {
     "data": {
      "text/plain": [
       "{'memory': None,\n",
       " 'steps': [('cvec',\n",
       "   CountVectorizer(analyzer='word', binary=False, decode_error='strict',\n",
       "                   dtype=<class 'numpy.int64'>, encoding='utf-8', input='content',\n",
       "                   lowercase=True, max_df=1.0, max_features=None, min_df=1,\n",
       "                   ngram_range=(1, 1), preprocessor=None,\n",
       "                   stop_words=['does', 'work', 'time', 'want', 'use', 'using',\n",
       "                               'way', 'assistant', 've', 'tried'],\n",
       "                   strip_accents=None, token_pattern='(?u)\\\\b\\\\w\\\\w+\\\\b',\n",
       "                   tokenizer=None, vocabulary=None)),\n",
       "  ('logreg',\n",
       "   LogisticRegression(C=1.0, class_weight=None, dual=False, fit_intercept=True,\n",
       "                      intercept_scaling=1, l1_ratio=None, max_iter=200,\n",
       "                      multi_class='auto', n_jobs=None, penalty='l2',\n",
       "                      random_state=42, solver='lbfgs', tol=0.0001, verbose=0,\n",
       "                      warm_start=False))],\n",
       " 'verbose': False,\n",
       " 'cvec': CountVectorizer(analyzer='word', binary=False, decode_error='strict',\n",
       "                 dtype=<class 'numpy.int64'>, encoding='utf-8', input='content',\n",
       "                 lowercase=True, max_df=1.0, max_features=None, min_df=1,\n",
       "                 ngram_range=(1, 1), preprocessor=None,\n",
       "                 stop_words=['does', 'work', 'time', 'want', 'use', 'using',\n",
       "                             'way', 'assistant', 've', 'tried'],\n",
       "                 strip_accents=None, token_pattern='(?u)\\\\b\\\\w\\\\w+\\\\b',\n",
       "                 tokenizer=None, vocabulary=None),\n",
       " 'logreg': LogisticRegression(C=1.0, class_weight=None, dual=False, fit_intercept=True,\n",
       "                    intercept_scaling=1, l1_ratio=None, max_iter=200,\n",
       "                    multi_class='auto', n_jobs=None, penalty='l2',\n",
       "                    random_state=42, solver='lbfgs', tol=0.0001, verbose=0,\n",
       "                    warm_start=False),\n",
       " 'cvec__analyzer': 'word',\n",
       " 'cvec__binary': False,\n",
       " 'cvec__decode_error': 'strict',\n",
       " 'cvec__dtype': numpy.int64,\n",
       " 'cvec__encoding': 'utf-8',\n",
       " 'cvec__input': 'content',\n",
       " 'cvec__lowercase': True,\n",
       " 'cvec__max_df': 1.0,\n",
       " 'cvec__max_features': None,\n",
       " 'cvec__min_df': 1,\n",
       " 'cvec__ngram_range': (1, 1),\n",
       " 'cvec__preprocessor': None,\n",
       " 'cvec__stop_words': ['does',\n",
       "  'work',\n",
       "  'time',\n",
       "  'want',\n",
       "  'use',\n",
       "  'using',\n",
       "  'way',\n",
       "  'assistant',\n",
       "  've',\n",
       "  'tried'],\n",
       " 'cvec__strip_accents': None,\n",
       " 'cvec__token_pattern': '(?u)\\\\b\\\\w\\\\w+\\\\b',\n",
       " 'cvec__tokenizer': None,\n",
       " 'cvec__vocabulary': None,\n",
       " 'logreg__C': 1.0,\n",
       " 'logreg__class_weight': None,\n",
       " 'logreg__dual': False,\n",
       " 'logreg__fit_intercept': True,\n",
       " 'logreg__intercept_scaling': 1,\n",
       " 'logreg__l1_ratio': None,\n",
       " 'logreg__max_iter': 200,\n",
       " 'logreg__multi_class': 'auto',\n",
       " 'logreg__n_jobs': None,\n",
       " 'logreg__penalty': 'l2',\n",
       " 'logreg__random_state': 42,\n",
       " 'logreg__solver': 'lbfgs',\n",
       " 'logreg__tol': 0.0001,\n",
       " 'logreg__verbose': 0,\n",
       " 'logreg__warm_start': False}"
      ]
     },
     "execution_count": 97,
     "metadata": {},
     "output_type": "execute_result"
    }
   ],
   "source": [
    "# Parameters of pipeline object\n",
    "pipe2.get_params()"
   ]
  },
  {
   "cell_type": "code",
   "execution_count": 98,
   "metadata": {},
   "outputs": [],
   "source": [
    "# Load pipeline object into GridSearchCV to tune CountVectorizer\n",
    "# Search over the following values of hyperparameters:\n",
    "# Maximum number of features fit (top no. frequent occur words): 2000, 3000, 4000, 5000\n",
    "# Minimum number of documents (collection of text) needed to include token: 2, 3\n",
    "# Maximum number of documents needed to include token: 90%, 95%\n",
    "# Check (individual tokens) and also check (individual tokens and 2-grams).\n",
    "\n",
    "# n-gram: 1 token, 1-gram, or 1 token, 2-gram.\n",
    "pipe2_params = {\n",
    "    'cvec__max_features': [2_000,3_000,4_000,5_000],\\\n",
    "    'cvec__min_df': [2,3],\\\n",
    "    'cvec__max_df': [0.9,0.95],\\\n",
    "    'cvec__ngram_range': [(1, 1), (1,2)]\\\n",
    "}"
   ]
  },
  {
   "cell_type": "code",
   "execution_count": 99,
   "metadata": {},
   "outputs": [],
   "source": [
    "# Instantiate GridSearchCV.\n",
    "\"\"\"pipe refers to the object to optimize.\"\"\"\n",
    "\"\"\"param_grid refer to parameter values to search.\"\"\"\n",
    "\"\"\"cv refers to number of cross-validate fold.\"\"\"\n",
    "gs2 = GridSearchCV(pipe2,\\\n",
    "                  param_grid=pipe2_params,\\\n",
    "                  cv=10)"
   ]
  },
  {
   "cell_type": "code",
   "execution_count": 100,
   "metadata": {},
   "outputs": [
    {
     "data": {
      "text/plain": [
       "GridSearchCV(cv=10, error_score=nan,\n",
       "             estimator=Pipeline(memory=None,\n",
       "                                steps=[('cvec',\n",
       "                                        CountVectorizer(analyzer='word',\n",
       "                                                        binary=False,\n",
       "                                                        decode_error='strict',\n",
       "                                                        dtype=<class 'numpy.int64'>,\n",
       "                                                        encoding='utf-8',\n",
       "                                                        input='content',\n",
       "                                                        lowercase=True,\n",
       "                                                        max_df=1.0,\n",
       "                                                        max_features=None,\n",
       "                                                        min_df=1,\n",
       "                                                        ngram_range=(1, 1),\n",
       "                                                        preprocessor=None,\n",
       "                                                        stop_words=['does',\n",
       "                                                                    'work',\n",
       "                                                                    'time',\n",
       "                                                                    'want',\n",
       "                                                                    'use',\n",
       "                                                                    'using'...\n",
       "                                                           n_jobs=None,\n",
       "                                                           penalty='l2',\n",
       "                                                           random_state=42,\n",
       "                                                           solver='lbfgs',\n",
       "                                                           tol=0.0001,\n",
       "                                                           verbose=0,\n",
       "                                                           warm_start=False))],\n",
       "                                verbose=False),\n",
       "             iid='deprecated', n_jobs=None,\n",
       "             param_grid={'cvec__max_df': [0.9, 0.95],\n",
       "                         'cvec__max_features': [2000, 3000, 4000, 5000],\n",
       "                         'cvec__min_df': [2, 3],\n",
       "                         'cvec__ngram_range': [(1, 1), (1, 2)]},\n",
       "             pre_dispatch='2*n_jobs', refit=True, return_train_score=False,\n",
       "             scoring=None, verbose=0)"
      ]
     },
     "execution_count": 100,
     "metadata": {},
     "output_type": "execute_result"
    }
   ],
   "source": [
    "# Fit GridSearch to the cleaned training data.\n",
    "gs2.fit(X_trainf_clean,y_trainf)"
   ]
  },
  {
   "cell_type": "code",
   "execution_count": 101,
   "metadata": {},
   "outputs": [
    {
     "name": "stdout",
     "output_type": "stream",
     "text": [
      "Best parameters: {'cvec__max_df': 0.9, 'cvec__max_features': 4000, 'cvec__min_df': 3, 'cvec__ngram_range': (1, 2)}\n",
      "Best score: 0.9336538461538462\n"
     ]
    }
   ],
   "source": [
    "# Check the results of the grid search\n",
    "\n",
    "print(f\"Best parameters: {gs2.best_params_}\")\n",
    "print(f\"Best score: {gs2.best_score_}\")"
   ]
  },
  {
   "cell_type": "code",
   "execution_count": 102,
   "metadata": {},
   "outputs": [],
   "source": [
    "# Save best model as gs_model.\n",
    "\n",
    "gs2_model = gs2.best_estimator_"
   ]
  },
  {
   "cell_type": "code",
   "execution_count": 104,
   "metadata": {},
   "outputs": [
    {
     "name": "stdout",
     "output_type": "stream",
     "text": [
      "Accuracy on train set: 0.9990384615384615\n",
      "Accuracy on validate set: 0.9346153846153846\n"
     ]
    }
   ],
   "source": [
    "# Score model on training set & testing set\n",
    "print(f\"Accuracy on train set: {gs2_model.score(X_trainf_clean, y_trainf)}\")\n",
    "print(f\"Accuracy on validate set: {gs2_model.score(X_validate_clean, y_validate)}\")"
   ]
  },
  {
   "cell_type": "markdown",
   "metadata": {},
   "source": [
    "The removal of the identified key words has a slight improvment to accuracy score on validate set."
   ]
  },
  {
   "cell_type": "code",
   "execution_count": 105,
   "metadata": {},
   "outputs": [
    {
     "data": {
      "text/html": [
       "<div>\n",
       "<style scoped>\n",
       "    .dataframe tbody tr th:only-of-type {\n",
       "        vertical-align: middle;\n",
       "    }\n",
       "\n",
       "    .dataframe tbody tr th {\n",
       "        vertical-align: top;\n",
       "    }\n",
       "\n",
       "    .dataframe thead th {\n",
       "        text-align: right;\n",
       "    }\n",
       "</style>\n",
       "<table border=\"1\" class=\"dataframe\">\n",
       "  <thead>\n",
       "    <tr style=\"text-align: right;\">\n",
       "      <th></th>\n",
       "      <th>pred googlepixel</th>\n",
       "      <th>pred googlehome</th>\n",
       "    </tr>\n",
       "  </thead>\n",
       "  <tbody>\n",
       "    <tr>\n",
       "      <th>Actual googlepixel</th>\n",
       "      <td>121</td>\n",
       "      <td>7</td>\n",
       "    </tr>\n",
       "    <tr>\n",
       "      <th>Actual googlehome</th>\n",
       "      <td>10</td>\n",
       "      <td>122</td>\n",
       "    </tr>\n",
       "  </tbody>\n",
       "</table>\n",
       "</div>"
      ],
      "text/plain": [
       "                    pred googlepixel  pred googlehome\n",
       "Actual googlepixel               121                7\n",
       "Actual googlehome                 10              122"
      ]
     },
     "execution_count": 105,
     "metadata": {},
     "output_type": "execute_result"
    }
   ],
   "source": [
    "# Confusion matrix on the second log reg model\n",
    "# Pass in true values, predicted values to confusion matrix\n",
    "# Convert Confusion matrix into dataframe\n",
    "# Positive class (class 1) is googlehome\n",
    "preds2 = gs2.predict(X_validate_clean)\n",
    "cm = confusion_matrix(y_validate, preds2)\n",
    "cm_df = pd.DataFrame(cm,columns=['pred googlepixel','pred googlehome'], index=['Actual googlepixel','Actual googlehome'])\n",
    "cm_df"
   ]
  },
  {
   "cell_type": "markdown",
   "metadata": {},
   "source": [
    "Compared to the first logistic regression model. Not surprisingly, the number of False positive/ False negatives increased with the slight decreased in test accuracy, "
   ]
  },
  {
   "cell_type": "code",
   "execution_count": 107,
   "metadata": {},
   "outputs": [],
   "source": [
    "# return nparray as a 1-D array.\n",
    "confusion_matrix(y_validate, preds2).ravel()\n",
    "# Save TN/FP/FN/TP values.\n",
    "tn, fp, fn, tp = confusion_matrix(y_validate,preds2).ravel()"
   ]
  },
  {
   "cell_type": "code",
   "execution_count": 108,
   "metadata": {},
   "outputs": [
    {
     "name": "stdout",
     "output_type": "stream",
     "text": [
      "Specificity: 0.9453\n",
      "Sensitivity: 0.9242\n",
      "Accuracy: 0.9346\n"
     ]
    }
   ],
   "source": [
    "# Summary of metrics for second log reg model\n",
    "spec = tn/(tn+fp)\n",
    "sens = tp/(tp+fn)\n",
    "print(f\"Specificity: {round(spec,4)}\")\n",
    "print(f\"Sensitivity: {round(sens,4)}\")\n",
    "print(f\"Accuracy: {round(gs2.score(X_validate_clean,y_validate),4)}\")"
   ]
  },
  {
   "cell_type": "markdown",
   "metadata": {},
   "source": [
    "Compared to the first logistic regression model, the second logistic regression model has higher specificity (True Negative Rate) and sensitivity (True Positive Rate). Overall accuracy as reported is also higher."
   ]
  },
  {
   "cell_type": "code",
   "execution_count": 111,
   "metadata": {},
   "outputs": [
    {
     "data": {
      "text/html": [
       "<div>\n",
       "<style scoped>\n",
       "    .dataframe tbody tr th:only-of-type {\n",
       "        vertical-align: middle;\n",
       "    }\n",
       "\n",
       "    .dataframe tbody tr th {\n",
       "        vertical-align: top;\n",
       "    }\n",
       "\n",
       "    .dataframe thead th {\n",
       "        text-align: right;\n",
       "    }\n",
       "</style>\n",
       "<table border=\"1\" class=\"dataframe\">\n",
       "  <thead>\n",
       "    <tr style=\"text-align: right;\">\n",
       "      <th></th>\n",
       "      <th>validate_values</th>\n",
       "      <th>pred_probs</th>\n",
       "    </tr>\n",
       "  </thead>\n",
       "  <tbody>\n",
       "    <tr>\n",
       "      <th>1445</th>\n",
       "      <td>0</td>\n",
       "      <td>2.744111e-01</td>\n",
       "    </tr>\n",
       "    <tr>\n",
       "      <th>1152</th>\n",
       "      <td>0</td>\n",
       "      <td>3.377627e-09</td>\n",
       "    </tr>\n",
       "    <tr>\n",
       "      <th>216</th>\n",
       "      <td>1</td>\n",
       "      <td>4.924773e-01</td>\n",
       "    </tr>\n",
       "    <tr>\n",
       "      <th>1001</th>\n",
       "      <td>0</td>\n",
       "      <td>9.500101e-06</td>\n",
       "    </tr>\n",
       "    <tr>\n",
       "      <th>1120</th>\n",
       "      <td>0</td>\n",
       "      <td>4.137363e-03</td>\n",
       "    </tr>\n",
       "  </tbody>\n",
       "</table>\n",
       "</div>"
      ],
      "text/plain": [
       "      validate_values    pred_probs\n",
       "1445                0  2.744111e-01\n",
       "1152                0  3.377627e-09\n",
       "216                 1  4.924773e-01\n",
       "1001                0  9.500101e-06\n",
       "1120                0  4.137363e-03"
      ]
     },
     "execution_count": 111,
     "metadata": {},
     "output_type": "execute_result"
    }
   ],
   "source": [
    "# To visualize the ROC AUC curve, first\n",
    "# Create a dataframe called pred_df that contains:\n",
    "# 1. The list of true values of our validate set.\n",
    "# 2. The list of predicted probabilities based on our model.\n",
    "\n",
    "pred_proba = [i[1] for i in gs2.predict_proba(X_validate_clean)]\n",
    "\n",
    "pred_df = pd.DataFrame({'validate_values': y_validate,\n",
    "                        'pred_probs':pred_proba})\n",
    "pred_df.head()"
   ]
  },
  {
   "cell_type": "code",
   "execution_count": 112,
   "metadata": {},
   "outputs": [
    {
     "data": {
      "text/plain": [
       "0.990915009469697"
      ]
     },
     "execution_count": 112,
     "metadata": {},
     "output_type": "execute_result"
    }
   ],
   "source": [
    "# Calculate ROC AUC.\n",
    "roc_auc_score(pred_df['validate_values'],pred_df['pred_probs'])"
   ]
  },
  {
   "cell_type": "code",
   "execution_count": 160,
   "metadata": {},
   "outputs": [
    {
     "data": {
      "image/png": "[encoded data removed]",
      "text/plain": [
       "<Figure size 720x504 with 1 Axes>"
      ]
     },
     "metadata": {
      "needs_background": "light"
     },
     "output_type": "display_data"
    }
   ],
   "source": [
    "#Create figure\n",
    "plt.figure(figsize = (10,7))\n",
    "\n",
    "# Create threshold values. (Dashed orange line in plot.)\n",
    "thresholds = np.linspace(0, 1, 200)\n",
    "\n",
    "# Define function to calculate sensitivity. (True positive rate.)\n",
    "def TPR(df, true_col, pred_prob_col, threshold):\n",
    "    true_positive = df[(df[true_col] == 1) & (df[pred_prob_col] >= threshold)].shape[0]\n",
    "    false_negative = df[(df[true_col] == 1) & (df[pred_prob_col] < threshold)].shape[0]\n",
    "    return true_positive / (true_positive + false_negative)\n",
    "    \n",
    "# Define function to calculate 1 - specificity. (False positive rate.)\n",
    "def FPR(df, true_col, pred_prob_col, threshold):\n",
    "    true_negative = df[(df[true_col] == 0) & (df[pred_prob_col] <= threshold)].shape[0]\n",
    "    false_positive = df[(df[true_col] == 0) & (df[pred_prob_col] > threshold)].shape[0]\n",
    "    return 1 - (true_negative / (true_negative + false_positive))\n",
    "    \n",
    "# Calculate sensitivity & 1-specificity for each threshold between 0 and 1.\n",
    "tpr_values = [TPR(pred_df, 'validate_values', 'pred_probs', prob) for prob in thresholds]\n",
    "fpr_values = [FPR(pred_df, 'validate_values', 'pred_probs', prob) for prob in thresholds]\n",
    "\n",
    "# Plot ROC curve.\n",
    "plt.plot(fpr_values, # False Positive Rate on X-axis\n",
    "         tpr_values, # True Positive Rate on Y-axis\n",
    "         label='ROC Curve')\n",
    "\n",
    "# Plot baseline. (Perfect overlap between the two populations.)\n",
    "plt.plot(np.linspace(0, 1, 200),\n",
    "         np.linspace(0, 1, 200),\n",
    "         label='baseline',\n",
    "         linestyle='--')\n",
    "\n",
    "# Label axes.\n",
    "plt.title(f'ROC Curve with AUC = {round(roc_auc_score(pred_df[\"validate_values\"], pred_df[\"pred_probs\"]),4)}', fontsize=22)\n",
    "plt.ylabel('Sensitivity', fontsize=18)\n",
    "plt.xlabel('1 - Specificity', fontsize=18)\n",
    "\n",
    "# Create legend.\n",
    "plt.legend(fontsize=16);"
   ]
  },
  {
   "cell_type": "markdown",
   "metadata": {},
   "source": [
    "We see that effect in removal of the identified common overlapping words has minimal effect on boosting the roc_auc."
   ]
  },
  {
   "cell_type": "markdown",
   "metadata": {},
   "source": [
    "### Naive Bayes Model\n",
    "---\n",
    "We explore the Naive Bayes Model, and apply the removal of identifed common overlapped words identified earlier. First the NB model without removing the identified words."
   ]
  },
  {
   "cell_type": "code",
   "execution_count": 138,
   "metadata": {},
   "outputs": [],
   "source": [
    "# Set up a pipeline, p3 with two stages\n",
    "# 1.CountVectorizer (transformer)\n",
    "# 2.Naive Bayes(multinomial) (estimator)\n",
    "pipe3 = Pipeline([('cvec',CountVectorizer()),\\\n",
    "                  ('nb',MultinomialNB())\\\n",
    "                ])"
   ]
  },
  {
   "cell_type": "code",
   "execution_count": 139,
   "metadata": {
    "scrolled": true
   },
   "outputs": [
    {
     "data": {
      "text/plain": [
       "{'memory': None,\n",
       " 'steps': [('cvec',\n",
       "   CountVectorizer(analyzer='word', binary=False, decode_error='strict',\n",
       "                   dtype=<class 'numpy.int64'>, encoding='utf-8', input='content',\n",
       "                   lowercase=True, max_df=1.0, max_features=None, min_df=1,\n",
       "                   ngram_range=(1, 1), preprocessor=None, stop_words=None,\n",
       "                   strip_accents=None, token_pattern='(?u)\\\\b\\\\w\\\\w+\\\\b',\n",
       "                   tokenizer=None, vocabulary=None)),\n",
       "  ('nb', MultinomialNB(alpha=1.0, class_prior=None, fit_prior=True))],\n",
       " 'verbose': False,\n",
       " 'cvec': CountVectorizer(analyzer='word', binary=False, decode_error='strict',\n",
       "                 dtype=<class 'numpy.int64'>, encoding='utf-8', input='content',\n",
       "                 lowercase=True, max_df=1.0, max_features=None, min_df=1,\n",
       "                 ngram_range=(1, 1), preprocessor=None, stop_words=None,\n",
       "                 strip_accents=None, token_pattern='(?u)\\\\b\\\\w\\\\w+\\\\b',\n",
       "                 tokenizer=None, vocabulary=None),\n",
       " 'nb': MultinomialNB(alpha=1.0, class_prior=None, fit_prior=True),\n",
       " 'cvec__analyzer': 'word',\n",
       " 'cvec__binary': False,\n",
       " 'cvec__decode_error': 'strict',\n",
       " 'cvec__dtype': numpy.int64,\n",
       " 'cvec__encoding': 'utf-8',\n",
       " 'cvec__input': 'content',\n",
       " 'cvec__lowercase': True,\n",
       " 'cvec__max_df': 1.0,\n",
       " 'cvec__max_features': None,\n",
       " 'cvec__min_df': 1,\n",
       " 'cvec__ngram_range': (1, 1),\n",
       " 'cvec__preprocessor': None,\n",
       " 'cvec__stop_words': None,\n",
       " 'cvec__strip_accents': None,\n",
       " 'cvec__token_pattern': '(?u)\\\\b\\\\w\\\\w+\\\\b',\n",
       " 'cvec__tokenizer': None,\n",
       " 'cvec__vocabulary': None,\n",
       " 'nb__alpha': 1.0,\n",
       " 'nb__class_prior': None,\n",
       " 'nb__fit_prior': True}"
      ]
     },
     "execution_count": 139,
     "metadata": {},
     "output_type": "execute_result"
    }
   ],
   "source": [
    "# Parameters of pipeline object\n",
    "pipe3.get_params()"
   ]
  },
  {
   "cell_type": "code",
   "execution_count": 140,
   "metadata": {},
   "outputs": [],
   "source": [
    "# Load pipeline object into GridSearchCV to tune CountVectorizer\n",
    "# Search over the following values of hyperparameters:\n",
    "# Maximum number of features fit (top no. frequent occur words): 2000, 3000, 4000, 5000\n",
    "# Minimum number of documents (collection of text) needed to include token: 2, 3\n",
    "# Maximum number of documents needed to include token: 90%, 95%\n",
    "# Check (individual tokens) and also check (individual tokens and 2-grams).\n",
    "\n",
    "# n-gram: 1 token, 1-gram, or 1 token, 2-gram.\n",
    "pipe_params = {\n",
    "    'cvec__max_features': [2_000,3_000,4_000,5_000],\\\n",
    "    'cvec__min_df': [2,3],\\\n",
    "    'cvec__max_df': [0.9,0.95],\\\n",
    "    'cvec__ngram_range': [(1, 1), (1,2)]\\\n",
    "}"
   ]
  },
  {
   "cell_type": "code",
   "execution_count": 141,
   "metadata": {},
   "outputs": [],
   "source": [
    "# Instantiate GridSearchCV.\n",
    "\"\"\"pipe refers to the object to optimize.\"\"\"\n",
    "\"\"\"param_grid refer to parameter values to search.\"\"\"\n",
    "\"\"\"cv refers to number of cross-validate fold.\"\"\"\n",
    "gs3 = GridSearchCV(pipe3,\\\n",
    "                  param_grid=pipe_params,\\\n",
    "                  cv=10)"
   ]
  },
  {
   "cell_type": "code",
   "execution_count": 142,
   "metadata": {},
   "outputs": [
    {
     "data": {
      "text/plain": [
       "GridSearchCV(cv=10, error_score=nan,\n",
       "             estimator=Pipeline(memory=None,\n",
       "                                steps=[('cvec',\n",
       "                                        CountVectorizer(analyzer='word',\n",
       "                                                        binary=False,\n",
       "                                                        decode_error='strict',\n",
       "                                                        dtype=<class 'numpy.int64'>,\n",
       "                                                        encoding='utf-8',\n",
       "                                                        input='content',\n",
       "                                                        lowercase=True,\n",
       "                                                        max_df=1.0,\n",
       "                                                        max_features=None,\n",
       "                                                        min_df=1,\n",
       "                                                        ngram_range=(1, 1),\n",
       "                                                        preprocessor=None,\n",
       "                                                        stop_words=None,\n",
       "                                                        strip_accents=None,\n",
       "                                                        token_pattern='(?u...\n",
       "                                                        tokenizer=None,\n",
       "                                                        vocabulary=None)),\n",
       "                                       ('nb',\n",
       "                                        MultinomialNB(alpha=1.0,\n",
       "                                                      class_prior=None,\n",
       "                                                      fit_prior=True))],\n",
       "                                verbose=False),\n",
       "             iid='deprecated', n_jobs=None,\n",
       "             param_grid={'cvec__max_df': [0.9, 0.95],\n",
       "                         'cvec__max_features': [2000, 3000, 4000, 5000],\n",
       "                         'cvec__min_df': [2, 3],\n",
       "                         'cvec__ngram_range': [(1, 1), (1, 2)]},\n",
       "             pre_dispatch='2*n_jobs', refit=True, return_train_score=False,\n",
       "             scoring=None, verbose=0)"
      ]
     },
     "execution_count": 142,
     "metadata": {},
     "output_type": "execute_result"
    }
   ],
   "source": [
    "# Fit GridSearch to the cleaned training data.\n",
    "gs3.fit(X_trainf_clean,y_trainf)"
   ]
  },
  {
   "cell_type": "code",
   "execution_count": 143,
   "metadata": {
    "scrolled": true
   },
   "outputs": [
    {
     "name": "stdout",
     "output_type": "stream",
     "text": [
      "Best parameters: {'cvec__max_df': 0.9, 'cvec__max_features': 4000, 'cvec__min_df': 3, 'cvec__ngram_range': (1, 2)}\n",
      "Best score: 0.9442307692307692\n"
     ]
    }
   ],
   "source": [
    "# Check the results of the grid search\n",
    "\n",
    "print(f\"Best parameters: {gs3.best_params_}\")\n",
    "print(f\"Best score: {gs3.best_score_}\")"
   ]
  },
  {
   "cell_type": "code",
   "execution_count": 144,
   "metadata": {},
   "outputs": [],
   "source": [
    "# Save best model as gs_model.\n",
    "\n",
    "gs3_model = gs3.best_estimator_"
   ]
  },
  {
   "cell_type": "code",
   "execution_count": 145,
   "metadata": {
    "scrolled": true
   },
   "outputs": [
    {
     "name": "stdout",
     "output_type": "stream",
     "text": [
      "Accuracy on train set: 0.9701923076923077\n",
      "Accuracy on validate set: 0.9423076923076923\n"
     ]
    }
   ],
   "source": [
    "# Score model on training set & testing set\n",
    "print(f\"Accuracy on train set: {gs3_model.score(X_trainf_clean, y_trainf)}\")\n",
    "print(f\"Accuracy on validate set: {gs3_model.score(X_validate_clean, y_validate)}\")"
   ]
  },
  {
   "cell_type": "markdown",
   "metadata": {},
   "source": [
    "The naive bayes validate accuracy is higher than the train accuracy, so the model doesn't appear to be overfitted on the training data.\n",
    "Compared to the logistic regression models, naive bayes model has:\n",
    "- lower accuracy on train set\n",
    "- higher accuracy on test set.\n",
    "\n",
    "We review the sensitivity and specificity, and roc_auc scores before concluding which of the models is the better performing one."
   ]
  },
  {
   "cell_type": "code",
   "execution_count": 146,
   "metadata": {},
   "outputs": [
    {
     "data": {
      "text/html": [
       "<div>\n",
       "<style scoped>\n",
       "    .dataframe tbody tr th:only-of-type {\n",
       "        vertical-align: middle;\n",
       "    }\n",
       "\n",
       "    .dataframe tbody tr th {\n",
       "        vertical-align: top;\n",
       "    }\n",
       "\n",
       "    .dataframe thead th {\n",
       "        text-align: right;\n",
       "    }\n",
       "</style>\n",
       "<table border=\"1\" class=\"dataframe\">\n",
       "  <thead>\n",
       "    <tr style=\"text-align: right;\">\n",
       "      <th></th>\n",
       "      <th>pred googlepixel</th>\n",
       "      <th>pred googlehome</th>\n",
       "    </tr>\n",
       "  </thead>\n",
       "  <tbody>\n",
       "    <tr>\n",
       "      <th>Actual googlepixel</th>\n",
       "      <td>116</td>\n",
       "      <td>12</td>\n",
       "    </tr>\n",
       "    <tr>\n",
       "      <th>Actual googlehome</th>\n",
       "      <td>3</td>\n",
       "      <td>129</td>\n",
       "    </tr>\n",
       "  </tbody>\n",
       "</table>\n",
       "</div>"
      ],
      "text/plain": [
       "                    pred googlepixel  pred googlehome\n",
       "Actual googlepixel               116               12\n",
       "Actual googlehome                  3              129"
      ]
     },
     "execution_count": 146,
     "metadata": {},
     "output_type": "execute_result"
    }
   ],
   "source": [
    "# Confusion matrix on the first naive bayes model\n",
    "# Pass in true values, predicted values to confusion matrix\n",
    "# Convert Confusion matrix into dataframe\n",
    "# Positive class (class 1) is googlehome\n",
    "preds3 = gs3.predict(X_validate_clean)\n",
    "cm = confusion_matrix(y_validate, preds3)\n",
    "cm_df = pd.DataFrame(cm,columns=['pred googlepixel','pred googlehome'], index=['Actual googlepixel','Actual googlehome'])\n",
    "cm_df"
   ]
  },
  {
   "cell_type": "markdown",
   "metadata": {},
   "source": [
    "With a higher test accuracy, there is an overall lower number of False positive/ False negatives in validate prediction for Bayes model, compared to logistic regression model. "
   ]
  },
  {
   "cell_type": "code",
   "execution_count": 147,
   "metadata": {},
   "outputs": [],
   "source": [
    "# return nparray as a 1-D array.\n",
    "confusion_matrix(y_validate, preds3).ravel()\n",
    "# Save TN/FP/FN/TP values.\n",
    "tn, fp, fn, tp = confusion_matrix(y_validate,preds3).ravel()"
   ]
  },
  {
   "cell_type": "code",
   "execution_count": 148,
   "metadata": {},
   "outputs": [
    {
     "name": "stdout",
     "output_type": "stream",
     "text": [
      "Specificity: 0.9062\n",
      "Sensitivity: 0.9773\n",
      "Accuracy: 0.9423\n"
     ]
    }
   ],
   "source": [
    "# Summary of metrics for first naive bayes model\n",
    "spec = tn/(tn+fp)\n",
    "sens = tp/(tp+fn)\n",
    "print(f\"Specificity: {round(spec,4)}\")\n",
    "print(f\"Sensitivity: {round(sens,4)}\")\n",
    "print(f\"Accuracy: {round(gs3.score(X_validate_clean,y_validate),4)}\")"
   ]
  },
  {
   "cell_type": "code",
   "execution_count": 149,
   "metadata": {},
   "outputs": [
    {
     "data": {
      "text/html": [
       "<div>\n",
       "<style scoped>\n",
       "    .dataframe tbody tr th:only-of-type {\n",
       "        vertical-align: middle;\n",
       "    }\n",
       "\n",
       "    .dataframe tbody tr th {\n",
       "        vertical-align: top;\n",
       "    }\n",
       "\n",
       "    .dataframe thead th {\n",
       "        text-align: right;\n",
       "    }\n",
       "</style>\n",
       "<table border=\"1\" class=\"dataframe\">\n",
       "  <thead>\n",
       "    <tr style=\"text-align: right;\">\n",
       "      <th></th>\n",
       "      <th>validate_values</th>\n",
       "      <th>pred_probs</th>\n",
       "    </tr>\n",
       "  </thead>\n",
       "  <tbody>\n",
       "    <tr>\n",
       "      <th>1445</th>\n",
       "      <td>0</td>\n",
       "      <td>3.253193e-13</td>\n",
       "    </tr>\n",
       "    <tr>\n",
       "      <th>1152</th>\n",
       "      <td>0</td>\n",
       "      <td>9.396531e-28</td>\n",
       "    </tr>\n",
       "    <tr>\n",
       "      <th>216</th>\n",
       "      <td>1</td>\n",
       "      <td>9.662100e-01</td>\n",
       "    </tr>\n",
       "    <tr>\n",
       "      <th>1001</th>\n",
       "      <td>0</td>\n",
       "      <td>1.550664e-22</td>\n",
       "    </tr>\n",
       "    <tr>\n",
       "      <th>1120</th>\n",
       "      <td>0</td>\n",
       "      <td>7.710370e-12</td>\n",
       "    </tr>\n",
       "  </tbody>\n",
       "</table>\n",
       "</div>"
      ],
      "text/plain": [
       "      validate_values    pred_probs\n",
       "1445                0  3.253193e-13\n",
       "1152                0  9.396531e-28\n",
       "216                 1  9.662100e-01\n",
       "1001                0  1.550664e-22\n",
       "1120                0  7.710370e-12"
      ]
     },
     "execution_count": 149,
     "metadata": {},
     "output_type": "execute_result"
    }
   ],
   "source": [
    "# To visualize the ROC AUC curve, first\n",
    "# Create a dataframe called pred_df that contains:\n",
    "# 1. The list of true values of our test set.\n",
    "# 2. The list of predicted probabilities based on our model.\n",
    "\n",
    "pred_proba = [i[1] for i in gs3.predict_proba(X_validate_clean)]\n",
    "\n",
    "pred_df = pd.DataFrame({'validate_values': y_validate,\n",
    "                        'pred_probs':pred_proba})\n",
    "pred_df.head()"
   ]
  },
  {
   "cell_type": "code",
   "execution_count": 161,
   "metadata": {},
   "outputs": [
    {
     "data": {
      "text/plain": [
       "0.9923946496212122"
      ]
     },
     "execution_count": 161,
     "metadata": {},
     "output_type": "execute_result"
    }
   ],
   "source": [
    "# Calculate ROC AUC.\n",
    "roc_auc_score(pred_df['validate_values'],pred_df['pred_probs'])"
   ]
  },
  {
   "cell_type": "code",
   "execution_count": 163,
   "metadata": {},
   "outputs": [
    {
     "data": {
      "image/png": "[encoded data removed]",
      "text/plain": [
       "<Figure size 720x504 with 1 Axes>"
      ]
     },
     "metadata": {
      "needs_background": "light"
     },
     "output_type": "display_data"
    }
   ],
   "source": [
    "#Create figure\n",
    "plt.figure(figsize = (10,7))\n",
    "\n",
    "# Create threshold values. (Dashed blue line in plot.)\n",
    "thresholds = np.linspace(0, 1, 200)\n",
    "\n",
    "# Define function to calculate sensitivity. (True positive rate.)\n",
    "def TPR(df, true_col, pred_prob_col, threshold):\n",
    "    true_positive = df[(df[true_col] == 1) & (df[pred_prob_col] >= threshold)].shape[0]\n",
    "    false_negative = df[(df[true_col] == 1) & (df[pred_prob_col] < threshold)].shape[0]\n",
    "    return true_positive / (true_positive + false_negative)\n",
    "    \n",
    "# Define function to calculate 1 - specificity. (False positive rate.)\n",
    "def FPR(df, true_col, pred_prob_col, threshold):\n",
    "    true_negative = df[(df[true_col] == 0) & (df[pred_prob_col] <= threshold)].shape[0]\n",
    "    false_positive = df[(df[true_col] == 0) & (df[pred_prob_col] > threshold)].shape[0]\n",
    "    return 1 - (true_negative / (true_negative + false_positive))\n",
    "    \n",
    "# Calculate sensitivity & 1-specificity for each threshold between 0 and 1.\n",
    "tpr_values = [TPR(pred_df, 'validate_values', 'pred_probs', prob) for prob in thresholds]\n",
    "fpr_values = [FPR(pred_df, 'validate_values', 'pred_probs', prob) for prob in thresholds]\n",
    "\n",
    "# Plot ROC curve.\n",
    "plt.plot(fpr_values, # False Positive Rate on X-axis\n",
    "         tpr_values, # True Positive Rate on Y-axis\n",
    "         label='ROC Curve')\n",
    "\n",
    "# Plot baseline. (Perfect overlap between the two populations.)\n",
    "plt.plot(np.linspace(0, 1, 200),\n",
    "         np.linspace(0, 1, 200),\n",
    "         label='baseline',\n",
    "         linestyle='--')\n",
    "\n",
    "# Label axes.\n",
    "plt.title(f'ROC Curve with AUC = {round(roc_auc_score(pred_df[\"validate_values\"], pred_df[\"pred_probs\"]),4)}', fontsize=22)\n",
    "plt.ylabel('Sensitivity', fontsize=18)\n",
    "plt.xlabel('1 - Specificity', fontsize=18)\n",
    "\n",
    "# Create legend.\n",
    "plt.legend(fontsize=16);"
   ]
  },
  {
   "cell_type": "markdown",
   "metadata": {},
   "source": [
    "The roc_auc of the Naive Bayes model is similar to that of the logistic regression models."
   ]
  },
  {
   "cell_type": "markdown",
   "metadata": {},
   "source": [
    "Now examine the NB model with identified words ['does', 'work', 'time', 'want', 'use', 'using', 'way', 'assistant', 've', 'tried'] removed."
   ]
  },
  {
   "cell_type": "code",
   "execution_count": 168,
   "metadata": {},
   "outputs": [],
   "source": [
    "# Set up a pipeline, p4 with two stages\n",
    "# 1.CountVectorizer (transformer)\n",
    "# 2.Naive Bayes(multinomial) (estimator)\n",
    "# 3.Remove the words ['does', 'work', 'time', 'want', 'use', 'using', 'way', 'assistant', 've', 'tried']\n",
    "\n",
    "pipe4 = Pipeline([('cvec',CountVectorizer(['does', 'work', 'time', 'want', 'use',\\\n",
    "                                           'using', 'way', 'assistant', 've', 'tried'])),\\\n",
    "                  ('nb',MultinomialNB())\\\n",
    "                ])"
   ]
  },
  {
   "cell_type": "code",
   "execution_count": 169,
   "metadata": {
    "scrolled": true
   },
   "outputs": [
    {
     "data": {
      "text/plain": [
       "{'memory': None,\n",
       " 'steps': [('cvec',\n",
       "   CountVectorizer(analyzer='word', binary=False, decode_error='strict',\n",
       "                   dtype=<class 'numpy.int64'>, encoding='utf-8',\n",
       "                   input=['does', 'work', 'time', 'want', 'use', 'using', 'way',\n",
       "                          'assistant', 've', 'tried'],\n",
       "                   lowercase=True, max_df=1.0, max_features=None, min_df=1,\n",
       "                   ngram_range=(1, 1), preprocessor=None, stop_words=None,\n",
       "                   strip_accents=None, token_pattern='(?u)\\\\b\\\\w\\\\w+\\\\b',\n",
       "                   tokenizer=None, vocabulary=None)),\n",
       "  ('nb', MultinomialNB(alpha=1.0, class_prior=None, fit_prior=True))],\n",
       " 'verbose': False,\n",
       " 'cvec': CountVectorizer(analyzer='word', binary=False, decode_error='strict',\n",
       "                 dtype=<class 'numpy.int64'>, encoding='utf-8',\n",
       "                 input=['does', 'work', 'time', 'want', 'use', 'using', 'way',\n",
       "                        'assistant', 've', 'tried'],\n",
       "                 lowercase=True, max_df=1.0, max_features=None, min_df=1,\n",
       "                 ngram_range=(1, 1), preprocessor=None, stop_words=None,\n",
       "                 strip_accents=None, token_pattern='(?u)\\\\b\\\\w\\\\w+\\\\b',\n",
       "                 tokenizer=None, vocabulary=None),\n",
       " 'nb': MultinomialNB(alpha=1.0, class_prior=None, fit_prior=True),\n",
       " 'cvec__analyzer': 'word',\n",
       " 'cvec__binary': False,\n",
       " 'cvec__decode_error': 'strict',\n",
       " 'cvec__dtype': numpy.int64,\n",
       " 'cvec__encoding': 'utf-8',\n",
       " 'cvec__input': ['does',\n",
       "  'work',\n",
       "  'time',\n",
       "  'want',\n",
       "  'use',\n",
       "  'using',\n",
       "  'way',\n",
       "  'assistant',\n",
       "  've',\n",
       "  'tried'],\n",
       " 'cvec__lowercase': True,\n",
       " 'cvec__max_df': 1.0,\n",
       " 'cvec__max_features': None,\n",
       " 'cvec__min_df': 1,\n",
       " 'cvec__ngram_range': (1, 1),\n",
       " 'cvec__preprocessor': None,\n",
       " 'cvec__stop_words': None,\n",
       " 'cvec__strip_accents': None,\n",
       " 'cvec__token_pattern': '(?u)\\\\b\\\\w\\\\w+\\\\b',\n",
       " 'cvec__tokenizer': None,\n",
       " 'cvec__vocabulary': None,\n",
       " 'nb__alpha': 1.0,\n",
       " 'nb__class_prior': None,\n",
       " 'nb__fit_prior': True}"
      ]
     },
     "execution_count": 169,
     "metadata": {},
     "output_type": "execute_result"
    }
   ],
   "source": [
    "# Parameters of pipeline object\n",
    "pipe4.get_params()"
   ]
  },
  {
   "cell_type": "code",
   "execution_count": 170,
   "metadata": {},
   "outputs": [],
   "source": [
    "# Load pipeline object into GridSearchCV to tune CountVectorizer\n",
    "# Search over the following values of hyperparameters:\n",
    "# Maximum number of features fit (top no. frequent occur words): 2000, 3000, 4000, 5000\n",
    "# Minimum number of documents (collection of text) needed to include token: 2, 3\n",
    "# Maximum number of documents needed to include token: 90%, 95%\n",
    "# Check (individual tokens) and also check (individual tokens and 2-grams).\n",
    "\n",
    "# n-gram: 1 token, 1-gram, or 1 token, 2-gram.\n",
    "pipe_params = {\n",
    "    'cvec__max_features': [2_000,3_000,4_000,5_000],\\\n",
    "    'cvec__min_df': [2,3],\\\n",
    "    'cvec__max_df': [0.9,0.95],\\\n",
    "    'cvec__ngram_range': [(1, 1), (1,2)]\\\n",
    "}"
   ]
  },
  {
   "cell_type": "code",
   "execution_count": 171,
   "metadata": {},
   "outputs": [],
   "source": [
    "# Instantiate GridSearchCV.\n",
    "\"\"\"pipe refers to the object to optimize.\"\"\"\n",
    "\"\"\"param_grid refer to parameter values to search.\"\"\"\n",
    "\"\"\"cv refers to number of cross-validate fold.\"\"\"\n",
    "gs4 = GridSearchCV(pipe4,\\\n",
    "                  param_grid=pipe_params,\\\n",
    "                  cv=10)"
   ]
  },
  {
   "cell_type": "code",
   "execution_count": 172,
   "metadata": {},
   "outputs": [
    {
     "data": {
      "text/plain": [
       "GridSearchCV(cv=10, error_score=nan,\n",
       "             estimator=Pipeline(memory=None,\n",
       "                                steps=[('cvec',\n",
       "                                        CountVectorizer(analyzer='word',\n",
       "                                                        binary=False,\n",
       "                                                        decode_error='strict',\n",
       "                                                        dtype=<class 'numpy.int64'>,\n",
       "                                                        encoding='utf-8',\n",
       "                                                        input=['does', 'work',\n",
       "                                                               'time', 'want',\n",
       "                                                               'use', 'using',\n",
       "                                                               'way',\n",
       "                                                               'assistant',\n",
       "                                                               've', 'tried'],\n",
       "                                                        lowercase=True,\n",
       "                                                        max_df=1.0,\n",
       "                                                        max_features=None,\n",
       "                                                        min_df=1,\n",
       "                                                        ngram_range=(1, 1),\n",
       "                                                        prepro...\n",
       "                                                        tokenizer=None,\n",
       "                                                        vocabulary=None)),\n",
       "                                       ('nb',\n",
       "                                        MultinomialNB(alpha=1.0,\n",
       "                                                      class_prior=None,\n",
       "                                                      fit_prior=True))],\n",
       "                                verbose=False),\n",
       "             iid='deprecated', n_jobs=None,\n",
       "             param_grid={'cvec__max_df': [0.9, 0.95],\n",
       "                         'cvec__max_features': [2000, 3000, 4000, 5000],\n",
       "                         'cvec__min_df': [2, 3],\n",
       "                         'cvec__ngram_range': [(1, 1), (1, 2)]},\n",
       "             pre_dispatch='2*n_jobs', refit=True, return_train_score=False,\n",
       "             scoring=None, verbose=0)"
      ]
     },
     "execution_count": 172,
     "metadata": {},
     "output_type": "execute_result"
    }
   ],
   "source": [
    "# Fit GridSearch to the cleaned training data.\n",
    "gs4.fit(X_trainf_clean,y_trainf)"
   ]
  },
  {
   "cell_type": "code",
   "execution_count": 173,
   "metadata": {
    "scrolled": true
   },
   "outputs": [
    {
     "name": "stdout",
     "output_type": "stream",
     "text": [
      "Best parameters: {'cvec__max_df': 0.9, 'cvec__max_features': 4000, 'cvec__min_df': 3, 'cvec__ngram_range': (1, 2)}\n",
      "Best score: 0.9442307692307692\n"
     ]
    }
   ],
   "source": [
    "# Check the results of the grid search\n",
    "\n",
    "print(f\"Best parameters: {gs4.best_params_}\")\n",
    "print(f\"Best score: {gs4.best_score_}\")"
   ]
  },
  {
   "cell_type": "code",
   "execution_count": 174,
   "metadata": {},
   "outputs": [],
   "source": [
    "# Save best model as gs_model.\n",
    "\n",
    "gs4_model = gs4.best_estimator_"
   ]
  },
  {
   "cell_type": "code",
   "execution_count": 175,
   "metadata": {
    "scrolled": true
   },
   "outputs": [
    {
     "name": "stdout",
     "output_type": "stream",
     "text": [
      "Accuracy on train set: 0.9701923076923077\n",
      "Accuracy on validate set: 0.9423076923076923\n"
     ]
    }
   ],
   "source": [
    "# Score model on training set & testing set\n",
    "print(f\"Accuracy on train set: {gs4_model.score(X_trainf_clean, y_trainf)}\")\n",
    "print(f\"Accuracy on validate set: {gs4_model.score(X_validate_clean, y_validate)}\")"
   ]
  },
  {
   "cell_type": "markdown",
   "metadata": {},
   "source": [
    "Removal of the identified words for the naive bayes model has not impact on the train and validate accuracies.\n",
    "\n",
    "We review the sensitivity and specificity, and roc_auc scores before concluding which of the models is the better performing one."
   ]
  },
  {
   "cell_type": "code",
   "execution_count": 176,
   "metadata": {
    "scrolled": false
   },
   "outputs": [
    {
     "data": {
      "text/html": [
       "<div>\n",
       "<style scoped>\n",
       "    .dataframe tbody tr th:only-of-type {\n",
       "        vertical-align: middle;\n",
       "    }\n",
       "\n",
       "    .dataframe tbody tr th {\n",
       "        vertical-align: top;\n",
       "    }\n",
       "\n",
       "    .dataframe thead th {\n",
       "        text-align: right;\n",
       "    }\n",
       "</style>\n",
       "<table border=\"1\" class=\"dataframe\">\n",
       "  <thead>\n",
       "    <tr style=\"text-align: right;\">\n",
       "      <th></th>\n",
       "      <th>pred googlepixel</th>\n",
       "      <th>pred googlehome</th>\n",
       "    </tr>\n",
       "  </thead>\n",
       "  <tbody>\n",
       "    <tr>\n",
       "      <th>Actual googlepixel</th>\n",
       "      <td>116</td>\n",
       "      <td>12</td>\n",
       "    </tr>\n",
       "    <tr>\n",
       "      <th>Actual googlehome</th>\n",
       "      <td>3</td>\n",
       "      <td>129</td>\n",
       "    </tr>\n",
       "  </tbody>\n",
       "</table>\n",
       "</div>"
      ],
      "text/plain": [
       "                    pred googlepixel  pred googlehome\n",
       "Actual googlepixel               116               12\n",
       "Actual googlehome                  3              129"
      ]
     },
     "execution_count": 176,
     "metadata": {},
     "output_type": "execute_result"
    }
   ],
   "source": [
    "# Confusion matrix on the first naive bayes model\n",
    "# Pass in true values, predicted values to confusion matrix\n",
    "# Convert Confusion matrix into dataframe\n",
    "# Positive class (class 1) is googlehome\n",
    "preds4 = gs4.predict(X_validate_clean)\n",
    "cm = confusion_matrix(y_validate, preds4)\n",
    "cm_df = pd.DataFrame(cm,columns=['pred googlepixel','pred googlehome'], index=['Actual googlepixel','Actual googlehome'])\n",
    "cm_df"
   ]
  },
  {
   "cell_type": "markdown",
   "metadata": {},
   "source": [
    "With a higher test accuracy, there is an overall lower number of False positive/ False negatives in validate prediction for Bayes model, compared to logistic regression model. "
   ]
  },
  {
   "cell_type": "code",
   "execution_count": 177,
   "metadata": {},
   "outputs": [],
   "source": [
    "# return nparray as a 1-D array.\n",
    "confusion_matrix(y_validate, preds4).ravel()\n",
    "# Save TN/FP/FN/TP values.\n",
    "tn, fp, fn, tp = confusion_matrix(y_validate,preds4).ravel()"
   ]
  },
  {
   "cell_type": "code",
   "execution_count": 178,
   "metadata": {},
   "outputs": [
    {
     "name": "stdout",
     "output_type": "stream",
     "text": [
      "Specificity: 0.9062\n",
      "Sensitivity: 0.9773\n",
      "Accuracy: 0.9423\n"
     ]
    }
   ],
   "source": [
    "# Summary of metrics for first naive bayes model\n",
    "spec = tn/(tn+fp)\n",
    "sens = tp/(tp+fn)\n",
    "print(f\"Specificity: {round(spec,4)}\")\n",
    "print(f\"Sensitivity: {round(sens,4)}\")\n",
    "print(f\"Accuracy: {round(gs4.score(X_validate_clean,y_validate),4)}\")"
   ]
  },
  {
   "cell_type": "code",
   "execution_count": 179,
   "metadata": {},
   "outputs": [
    {
     "data": {
      "text/html": [
       "<div>\n",
       "<style scoped>\n",
       "    .dataframe tbody tr th:only-of-type {\n",
       "        vertical-align: middle;\n",
       "    }\n",
       "\n",
       "    .dataframe tbody tr th {\n",
       "        vertical-align: top;\n",
       "    }\n",
       "\n",
       "    .dataframe thead th {\n",
       "        text-align: right;\n",
       "    }\n",
       "</style>\n",
       "<table border=\"1\" class=\"dataframe\">\n",
       "  <thead>\n",
       "    <tr style=\"text-align: right;\">\n",
       "      <th></th>\n",
       "      <th>validate_values</th>\n",
       "      <th>pred_probs</th>\n",
       "    </tr>\n",
       "  </thead>\n",
       "  <tbody>\n",
       "    <tr>\n",
       "      <th>1445</th>\n",
       "      <td>0</td>\n",
       "      <td>3.253193e-13</td>\n",
       "    </tr>\n",
       "    <tr>\n",
       "      <th>1152</th>\n",
       "      <td>0</td>\n",
       "      <td>9.396531e-28</td>\n",
       "    </tr>\n",
       "    <tr>\n",
       "      <th>216</th>\n",
       "      <td>1</td>\n",
       "      <td>9.662100e-01</td>\n",
       "    </tr>\n",
       "    <tr>\n",
       "      <th>1001</th>\n",
       "      <td>0</td>\n",
       "      <td>1.550664e-22</td>\n",
       "    </tr>\n",
       "    <tr>\n",
       "      <th>1120</th>\n",
       "      <td>0</td>\n",
       "      <td>7.710370e-12</td>\n",
       "    </tr>\n",
       "  </tbody>\n",
       "</table>\n",
       "</div>"
      ],
      "text/plain": [
       "      validate_values    pred_probs\n",
       "1445                0  3.253193e-13\n",
       "1152                0  9.396531e-28\n",
       "216                 1  9.662100e-01\n",
       "1001                0  1.550664e-22\n",
       "1120                0  7.710370e-12"
      ]
     },
     "execution_count": 179,
     "metadata": {},
     "output_type": "execute_result"
    }
   ],
   "source": [
    "# To visualize the ROC AUC curve, first\n",
    "# Create a dataframe called pred_df that contains:\n",
    "# 1. The list of true values of our test set.\n",
    "# 2. The list of predicted probabilities based on our model.\n",
    "\n",
    "pred_proba = [i[1] for i in gs4.predict_proba(X_validate_clean)]\n",
    "\n",
    "pred_df = pd.DataFrame({'validate_values': y_validate,\n",
    "                        'pred_probs':pred_proba})\n",
    "pred_df.head()"
   ]
  },
  {
   "cell_type": "code",
   "execution_count": 180,
   "metadata": {},
   "outputs": [
    {
     "data": {
      "text/plain": [
       "0.9923946496212122"
      ]
     },
     "execution_count": 180,
     "metadata": {},
     "output_type": "execute_result"
    }
   ],
   "source": [
    "# Calculate ROC AUC.\n",
    "roc_auc_score(pred_df['validate_values'],pred_df['pred_probs'])"
   ]
  },
  {
   "cell_type": "code",
   "execution_count": 181,
   "metadata": {},
   "outputs": [
    {
     "data": {
      "image/png": "[encoded data removed]",
      "text/plain": [
       "<Figure size 720x504 with 1 Axes>"
      ]
     },
     "metadata": {
      "needs_background": "light"
     },
     "output_type": "display_data"
    }
   ],
   "source": [
    "#Create figure\n",
    "plt.figure(figsize = (10,7))\n",
    "\n",
    "# Create threshold values. (Dashed blue line in plot.)\n",
    "thresholds = np.linspace(0, 1, 200)\n",
    "\n",
    "# Define function to calculate sensitivity. (True positive rate.)\n",
    "def TPR(df, true_col, pred_prob_col, threshold):\n",
    "    true_positive = df[(df[true_col] == 1) & (df[pred_prob_col] >= threshold)].shape[0]\n",
    "    false_negative = df[(df[true_col] == 1) & (df[pred_prob_col] < threshold)].shape[0]\n",
    "    return true_positive / (true_positive + false_negative)\n",
    "    \n",
    "# Define function to calculate 1 - specificity. (False positive rate.)\n",
    "def FPR(df, true_col, pred_prob_col, threshold):\n",
    "    true_negative = df[(df[true_col] == 0) & (df[pred_prob_col] <= threshold)].shape[0]\n",
    "    false_positive = df[(df[true_col] == 0) & (df[pred_prob_col] > threshold)].shape[0]\n",
    "    return 1 - (true_negative / (true_negative + false_positive))\n",
    "    \n",
    "# Calculate sensitivity & 1-specificity for each threshold between 0 and 1.\n",
    "tpr_values = [TPR(pred_df, 'validate_values', 'pred_probs', prob) for prob in thresholds]\n",
    "fpr_values = [FPR(pred_df, 'validate_values', 'pred_probs', prob) for prob in thresholds]\n",
    "\n",
    "# Plot ROC curve.\n",
    "plt.plot(fpr_values, # False Positive Rate on X-axis\n",
    "         tpr_values, # True Positive Rate on Y-axis\n",
    "         label='ROC Curve')\n",
    "\n",
    "# Plot baseline. (Perfect overlap between the two populations.)\n",
    "plt.plot(np.linspace(0, 1, 200),\n",
    "         np.linspace(0, 1, 200),\n",
    "         label='baseline',\n",
    "         linestyle='--')\n",
    "\n",
    "# Label axes.\n",
    "plt.title(f'ROC Curve with AUC = {round(roc_auc_score(pred_df[\"validate_values\"], pred_df[\"pred_probs\"]),4)}', fontsize=22)\n",
    "plt.ylabel('Sensitivity', fontsize=18)\n",
    "plt.xlabel('1 - Specificity', fontsize=18)\n",
    "\n",
    "# Create legend.\n",
    "plt.legend(fontsize=16);"
   ]
  },
  {
   "cell_type": "code",
   "execution_count": 182,
   "metadata": {},
   "outputs": [
    {
     "data": {
      "text/html": [
       "<div>\n",
       "<style scoped>\n",
       "    .dataframe tbody tr th:only-of-type {\n",
       "        vertical-align: middle;\n",
       "    }\n",
       "\n",
       "    .dataframe tbody tr th {\n",
       "        vertical-align: top;\n",
       "    }\n",
       "\n",
       "    .dataframe thead th {\n",
       "        text-align: right;\n",
       "    }\n",
       "</style>\n",
       "<table border=\"1\" class=\"dataframe\">\n",
       "  <thead>\n",
       "    <tr style=\"text-align: right;\">\n",
       "      <th></th>\n",
       "      <th>LogReg</th>\n",
       "      <th>LogReg(words_rmvd)</th>\n",
       "      <th>NB</th>\n",
       "      <th>NB(words_rmvd)</th>\n",
       "    </tr>\n",
       "  </thead>\n",
       "  <tbody>\n",
       "    <tr>\n",
       "      <th>accuracy</th>\n",
       "      <td>0.9308</td>\n",
       "      <td>0.9346</td>\n",
       "      <td>0.9423</td>\n",
       "      <td>0.9423</td>\n",
       "    </tr>\n",
       "    <tr>\n",
       "      <th>specificity</th>\n",
       "      <td>0.9068</td>\n",
       "      <td>0.9453</td>\n",
       "      <td>0.9062</td>\n",
       "      <td>0.9062</td>\n",
       "    </tr>\n",
       "    <tr>\n",
       "      <th>sensitivity</th>\n",
       "      <td>0.9152</td>\n",
       "      <td>0.9242</td>\n",
       "      <td>0.9773</td>\n",
       "      <td>0.9773</td>\n",
       "    </tr>\n",
       "    <tr>\n",
       "      <th>roc_auc</th>\n",
       "      <td>0.9924</td>\n",
       "      <td>0.9924</td>\n",
       "      <td>0.9924</td>\n",
       "      <td>0.9924</td>\n",
       "    </tr>\n",
       "  </tbody>\n",
       "</table>\n",
       "</div>"
      ],
      "text/plain": [
       "             LogReg  LogReg(words_rmvd)      NB  NB(words_rmvd)\n",
       "accuracy     0.9308              0.9346  0.9423          0.9423\n",
       "specificity  0.9068              0.9453  0.9062          0.9062\n",
       "sensitivity  0.9152              0.9242  0.9773          0.9773\n",
       "roc_auc      0.9924              0.9924  0.9924          0.9924"
      ]
     },
     "execution_count": 182,
     "metadata": {},
     "output_type": "execute_result"
    }
   ],
   "source": [
    "# Summary of Model scores in Dataframe\n",
    "summary_df = pd.DataFrame({'accuracy' : [0.9308, 0.9346, 0.9423, 0.9423],\n",
    "                          'specificity' : [0.9068, 0.9453, 0.9062, 0.9062],\n",
    "                          'sensitivity' : [0.9152, 0.9242, 0.9773, 0.9773],\n",
    "                          'roc_auc' : [0.9924, 0.9924, 0.9924, 0.9924]})\n",
    "# Transpose dataframe\n",
    "summary_dft = summary_df.T\n",
    "# Rename columns\n",
    "summary_dft.columns = ['LogReg','LogReg(words_rmvd)', 'NB', 'NB(words_rmvd)']\n",
    "summary_dft"
   ]
  },
  {
   "cell_type": "markdown",
   "metadata": {},
   "source": [
    "The team prioritization is on correct classification of Google Home posts as google home devices holds the greater proportion of Google IoT devices. In this regard, we pick model with higher True Positive Rate (sensitivity), for as much correct classification of google home posts as possible. Since both NB and NB(words_rmvd) model have equivalent performance, we pick the NB model as the production model."
   ]
  },
  {
   "cell_type": "markdown",
   "metadata": {},
   "source": [
    "Deeper Look at the Production (Naive Bayes) Model \n",
    "---\n",
    "For the test accuracy and roc_auc scores, the Naive Bayes is selected as the better performing model. This section examines \n",
    "- model performance on test data\n",
    "- the features that helps with negative (googlepixel) and positive (googlehome) classifications,\n",
    "- what could be the features that lead to misclassifications."
   ]
  },
  {
   "cell_type": "code",
   "execution_count": 184,
   "metadata": {},
   "outputs": [],
   "source": [
    "# Review model coefficients to see which word is helping with negative / positive classifications)\n",
    "# As GridSearchCV' object has no attribute 'feature_log_prob_,\n",
    "# Build separate naive bayes model to enable model coefficient extraction\n",
    "# using best parameters discovered above in gs3\n",
    "\n",
    "# Instantiate our CountVectorizer\n",
    "cv = CountVectorizer(ngram_range=(1,2),max_df=0.9,min_df=3,max_features=4000)\n",
    "\n",
    "# Fit and transform training data\n",
    "X_trainf_cleancv = cv.fit_transform(X_trainf_clean)\n",
    "\n",
    "# Transform test data\n",
    "X_test_cleancv = cv.transform(X_test_clean)"
   ]
  },
  {
   "cell_type": "code",
   "execution_count": 185,
   "metadata": {},
   "outputs": [],
   "source": [
    "# Instantiate model\n",
    "nb = MultinomialNB()\n",
    "\n",
    "# Fit model\n",
    "model = nb.fit(X_trainf_cleancv,y_trainf)\n",
    "\n",
    "# Generate predictions from test set\n",
    "predictions = nb.predict(X_test_cleancv)"
   ]
  },
  {
   "cell_type": "code",
   "execution_count": 187,
   "metadata": {},
   "outputs": [
    {
     "name": "stdout",
     "output_type": "stream",
     "text": [
      "Accuracy on test set: 0.9386503067484663\n"
     ]
    }
   ],
   "source": [
    "print(f\"Accuracy on test set: {model.score(X_test_cleancv, y_test)}\")"
   ]
  },
  {
   "cell_type": "code",
   "execution_count": 232,
   "metadata": {
    "scrolled": false
   },
   "outputs": [
    {
     "data": {
      "text/html": [
       "<div>\n",
       "<style scoped>\n",
       "    .dataframe tbody tr th:only-of-type {\n",
       "        vertical-align: middle;\n",
       "    }\n",
       "\n",
       "    .dataframe tbody tr th {\n",
       "        vertical-align: top;\n",
       "    }\n",
       "\n",
       "    .dataframe thead th {\n",
       "        text-align: right;\n",
       "    }\n",
       "</style>\n",
       "<table border=\"1\" class=\"dataframe\">\n",
       "  <thead>\n",
       "    <tr style=\"text-align: right;\">\n",
       "      <th></th>\n",
       "      <th>pred googlepixel</th>\n",
       "      <th>pred googlehome</th>\n",
       "    </tr>\n",
       "  </thead>\n",
       "  <tbody>\n",
       "    <tr>\n",
       "      <th>Actual googlepixel</th>\n",
       "      <td>150</td>\n",
       "      <td>11</td>\n",
       "    </tr>\n",
       "    <tr>\n",
       "      <th>Actual googlehome</th>\n",
       "      <td>9</td>\n",
       "      <td>156</td>\n",
       "    </tr>\n",
       "  </tbody>\n",
       "</table>\n",
       "</div>"
      ],
      "text/plain": [
       "                    pred googlepixel  pred googlehome\n",
       "Actual googlepixel               150               11\n",
       "Actual googlehome                  9              156"
      ]
     },
     "execution_count": 232,
     "metadata": {},
     "output_type": "execute_result"
    }
   ],
   "source": [
    "# Confusion matrix for test set using NB model\n",
    "# Pass in true values, predicted values to confusion matrix\n",
    "# Convert Confusion matrix into dataframe\n",
    "# Positive class (class 1) is googlehome\n",
    "cm = confusion_matrix(y_test, predictions)\n",
    "cm_df = pd.DataFrame(cm,columns=['pred googlepixel','pred googlehome'], index=['Actual googlepixel','Actual googlehome'])\n",
    "cm_df"
   ]
  },
  {
   "cell_type": "code",
   "execution_count": 233,
   "metadata": {},
   "outputs": [],
   "source": [
    "# return nparray as a 1-D array.\n",
    "confusion_matrix(y_test, predictions).ravel()\n",
    "# Save TN/FP/FN/TP values.\n",
    "tn, fp, fn, tp = confusion_matrix(y_test, predictions).ravel()"
   ]
  },
  {
   "cell_type": "code",
   "execution_count": 234,
   "metadata": {},
   "outputs": [
    {
     "name": "stdout",
     "output_type": "stream",
     "text": [
      "Specificity: 0.9317\n",
      "Sensitivity: 0.9455\n"
     ]
    }
   ],
   "source": [
    "# Summary of metrics for first naive bayes model\n",
    "spec = tn/(tn+fp)\n",
    "sens = tp/(tp+fn)\n",
    "print(f\"Specificity: {round(spec,4)}\")\n",
    "print(f\"Sensitivity: {round(sens,4)}\")"
   ]
  },
  {
   "cell_type": "code",
   "execution_count": 236,
   "metadata": {},
   "outputs": [],
   "source": [
    "# To visualize the ROC AUC curve, first\n",
    "# Create a dataframe called pred_df that contains:\n",
    "# 1. The list of true values of our test set.\n",
    "# 2. The list of predicted probabilities based on our model.\n",
    "\n",
    "pred_proba = [i[1] for i in nb.predict_proba(X_test_cleancv)]\n",
    "\n",
    "pred_df = pd.DataFrame({'test_values': y_test,\n",
    "                        'pred_probs':pred_proba})"
   ]
  },
  {
   "cell_type": "code",
   "execution_count": 237,
   "metadata": {},
   "outputs": [
    {
     "data": {
      "text/plain": [
       "0.9806135893092415"
      ]
     },
     "execution_count": 237,
     "metadata": {},
     "output_type": "execute_result"
    }
   ],
   "source": [
    "# Calculate ROC AUC.\n",
    "roc_auc_score(pred_df['test_values'],pred_df['pred_probs'])"
   ]
  },
  {
   "cell_type": "code",
   "execution_count": 238,
   "metadata": {},
   "outputs": [
    {
     "data": {
      "text/html": [
       "<div>\n",
       "<style scoped>\n",
       "    .dataframe tbody tr th:only-of-type {\n",
       "        vertical-align: middle;\n",
       "    }\n",
       "\n",
       "    .dataframe tbody tr th {\n",
       "        vertical-align: top;\n",
       "    }\n",
       "\n",
       "    .dataframe thead th {\n",
       "        text-align: right;\n",
       "    }\n",
       "</style>\n",
       "<table border=\"1\" class=\"dataframe\">\n",
       "  <thead>\n",
       "    <tr style=\"text-align: right;\">\n",
       "      <th></th>\n",
       "      <th>Validate set</th>\n",
       "      <th>Test set</th>\n",
       "    </tr>\n",
       "  </thead>\n",
       "  <tbody>\n",
       "    <tr>\n",
       "      <th>accuracy</th>\n",
       "      <td>0.9423</td>\n",
       "      <td>0.9387</td>\n",
       "    </tr>\n",
       "    <tr>\n",
       "      <th>specificity</th>\n",
       "      <td>0.9062</td>\n",
       "      <td>0.9317</td>\n",
       "    </tr>\n",
       "    <tr>\n",
       "      <th>sensitivity</th>\n",
       "      <td>0.9773</td>\n",
       "      <td>0.9455</td>\n",
       "    </tr>\n",
       "    <tr>\n",
       "      <th>roc_auc</th>\n",
       "      <td>0.9924</td>\n",
       "      <td>0.9806</td>\n",
       "    </tr>\n",
       "  </tbody>\n",
       "</table>\n",
       "</div>"
      ],
      "text/plain": [
       "             Validate set  Test set\n",
       "accuracy           0.9423    0.9387\n",
       "specificity        0.9062    0.9317\n",
       "sensitivity        0.9773    0.9455\n",
       "roc_auc            0.9924    0.9806"
      ]
     },
     "execution_count": 238,
     "metadata": {},
     "output_type": "execute_result"
    }
   ],
   "source": [
    "# Summary of NB Model scores in Dataframe\n",
    "summary_df = pd.DataFrame({'accuracy' : [0.9423, 0.9387],\n",
    "                          'specificity' : [0.9062, 0.9317],\n",
    "                          'sensitivity' : [0.9773, 0.9455],\n",
    "                          'roc_auc' : [0.9924, 0.9806]})\n",
    "# Transpose dataframe\n",
    "summary_dft = summary_df.T\n",
    "# Rename columns\n",
    "summary_dft.columns = ['Validate set','Test set']\n",
    "summary_dft"
   ]
  },
  {
   "cell_type": "markdown",
   "metadata": {},
   "source": [
    "Slight drop in the model scores for the test set. Model is not overfitted."
   ]
  },
  {
   "cell_type": "code",
   "execution_count": 188,
   "metadata": {},
   "outputs": [],
   "source": [
    "import numpy as np\n",
    "#prob for positive class\n",
    "pos_class_prob_sorted = nb.feature_log_prob_[1, :].argsort()\n",
    "#prob for negative class\n",
    "neg_class_prob_sorted = nb.feature_log_prob_[0, :].argsort()\n",
    "#getting the top features \n",
    "pos_top_features = np.take(cv.get_feature_names(), pos_class_prob_sorted)\n",
    "neg_top_features = np.take(cv.get_feature_names(), neg_class_prob_sorted)\n"
   ]
  },
  {
   "cell_type": "code",
   "execution_count": 189,
   "metadata": {},
   "outputs": [
    {
     "name": "stdout",
     "output_type": "stream",
     "text": [
      "['for what' 'bother' 'love my' 'both bud' 'love them' 'bose' 'bootload'\n",
      " 'true' 'bluetooth devic' 'quick set' 'macbook' 'mail' 'truli wireless'\n",
      " 'bike' 'right bud' 'other headphon' 'twitter' 'in ear' 'ubreakifix'\n",
      " 'right ear' 'system updat' 'freez' 'these bud' 'mask' 'right earbud'\n",
      " 'becaus the' 'master slave' 'swipe' 'right one' 'surfac']\n"
     ]
    }
   ],
   "source": [
    "# List of top 30 words that helps in 'googlehome' (positive) classification\n",
    "print(pos_top_features[:30])"
   ]
  },
  {
   "cell_type": "code",
   "execution_count": 190,
   "metadata": {},
   "outputs": [
    {
     "name": "stdout",
     "output_type": "stream",
     "text": [
      "['someth went' 'light to' 'the nest' 'command that' 'the network'\n",
      " 'command or' 'the news' 'command it' 'command for' 'command can'\n",
      " 'light strip' 'com googlehom' 'off light' 'light bulb' 'have two'\n",
      " 'chromecast audio' 'chromecast and' 'chromecast' 'can control'\n",
      " 'thermostat' 'can set' 'lamp' 'can think' 'anoth room' 'have nest'\n",
      " 'cast from' 'cast to' 'insignia' 'on light' 'video call']\n"
     ]
    }
   ],
   "source": [
    "# List of top 30 words that helps in 'googlepixel' (negative) classification\n",
    "print(neg_top_features[:30])"
   ]
  },
  {
   "cell_type": "markdown",
   "metadata": {},
   "source": [
    "Surprisingly, the top 30 words that aided in postive/ negative classifications are neither `google home` nor `google pixel`. \n",
    "\n",
    "**Googlehome**: For positive class (googlehome), it could be inferred that words relevant to IoT device connectivity and interoperability played a part in assisting with classification. Examples of such words include `bose`, `bluetooth devic`, `master slav`. It is noted that word related to `bud` is likely referring to the Google pixel bud (wireless in-ear headphone designed for the google pixel.) Further analysis could be done to determine the reason why these buds are featured within google home posts.\n",
    "\n",
    "**Googlepixel**: For negative class (googlepixel), interestingly, words more associated with IoT device hubs such as `the nest`, `the network`, `chromecast` actually featured in googlepixel posts. It is a fact that \n",
    "- the Nest speakers and displays, Pixel phones, and Chromecast-connected TVs work together to form interconnected audio entertainment systems,\n",
    "- Audio can be casted from Pixel phones, once they are on the same Wi-Fi network as the Chromecast Audio devices.\n",
    "\n",
    "The team could review the posts with such words to detemrine if there are actual user pain points for product improvements."
   ]
  },
  {
   "cell_type": "markdown",
   "metadata": {},
   "source": [
    "**Reviewing the misclassified samples**: What could be the features that lead to misclassifications?"
   ]
  },
  {
   "cell_type": "code",
   "execution_count": 194,
   "metadata": {},
   "outputs": [
    {
     "data": {
      "text/plain": [
       "919     0\n",
       "1029    0\n",
       "764     1\n",
       "962     0\n",
       "1064    0\n",
       "       ..\n",
       "984     0\n",
       "362     1\n",
       "503     1\n",
       "424     1\n",
       "1283    0\n",
       "Name: googlehome, Length: 326, dtype: int64"
      ]
     },
     "execution_count": 194,
     "metadata": {},
     "output_type": "execute_result"
    }
   ],
   "source": [
    "y_test"
   ]
  },
  {
   "cell_type": "code",
   "execution_count": 195,
   "metadata": {},
   "outputs": [
    {
     "data": {
      "text/html": [
       "<div>\n",
       "<style scoped>\n",
       "    .dataframe tbody tr th:only-of-type {\n",
       "        vertical-align: middle;\n",
       "    }\n",
       "\n",
       "    .dataframe tbody tr th {\n",
       "        vertical-align: top;\n",
       "    }\n",
       "\n",
       "    .dataframe thead th {\n",
       "        text-align: right;\n",
       "    }\n",
       "</style>\n",
       "<table border=\"1\" class=\"dataframe\">\n",
       "  <thead>\n",
       "    <tr style=\"text-align: right;\">\n",
       "      <th></th>\n",
       "      <th>selftext</th>\n",
       "    </tr>\n",
       "  </thead>\n",
       "  <tbody>\n",
       "    <tr>\n",
       "      <th>919</th>\n",
       "      <td>So I bought pixel 4 after my phone died, and I...</td>\n",
       "    </tr>\n",
       "    <tr>\n",
       "      <th>1029</th>\n",
       "      <td>Hello, I have a Pixel XL the last time I used ...</td>\n",
       "    </tr>\n",
       "    <tr>\n",
       "      <th>764</th>\n",
       "      <td>But make sure no kids are around\\n\\nhttps://ph...</td>\n",
       "    </tr>\n",
       "    <tr>\n",
       "      <th>962</th>\n",
       "      <td>I've had my P3aXL since launch. Still haven't ...</td>\n",
       "    </tr>\n",
       "    <tr>\n",
       "      <th>1064</th>\n",
       "      <td>I had a voicemail with case ID and the number ...</td>\n",
       "    </tr>\n",
       "    <tr>\n",
       "      <th>...</th>\n",
       "      <td>...</td>\n",
       "    </tr>\n",
       "    <tr>\n",
       "      <th>984</th>\n",
       "      <td>Sorry if this is a basic question but I really...</td>\n",
       "    </tr>\n",
       "    <tr>\n",
       "      <th>362</th>\n",
       "      <td>I saw awhile ago that Lenovo was making ambien...</td>\n",
       "    </tr>\n",
       "    <tr>\n",
       "      <th>503</th>\n",
       "      <td>I’m extremely rude to my google home... like: ...</td>\n",
       "    </tr>\n",
       "    <tr>\n",
       "      <th>424</th>\n",
       "      <td>The study aims to understand how various house...</td>\n",
       "    </tr>\n",
       "    <tr>\n",
       "      <th>1283</th>\n",
       "      <td>Right before the Coronavirus ravaged the world...</td>\n",
       "    </tr>\n",
       "  </tbody>\n",
       "</table>\n",
       "<p>326 rows × 1 columns</p>\n",
       "</div>"
      ],
      "text/plain": [
       "                                               selftext\n",
       "919   So I bought pixel 4 after my phone died, and I...\n",
       "1029  Hello, I have a Pixel XL the last time I used ...\n",
       "764   But make sure no kids are around\\n\\nhttps://ph...\n",
       "962   I've had my P3aXL since launch. Still haven't ...\n",
       "1064  I had a voicemail with case ID and the number ...\n",
       "...                                                 ...\n",
       "984   Sorry if this is a basic question but I really...\n",
       "362   I saw awhile ago that Lenovo was making ambien...\n",
       "503   I’m extremely rude to my google home... like: ...\n",
       "424   The study aims to understand how various house...\n",
       "1283  Right before the Coronavirus ravaged the world...\n",
       "\n",
       "[326 rows x 1 columns]"
      ]
     },
     "execution_count": 195,
     "metadata": {},
     "output_type": "execute_result"
    }
   ],
   "source": [
    "X_test"
   ]
  },
  {
   "cell_type": "code",
   "execution_count": 198,
   "metadata": {
    "scrolled": true
   },
   "outputs": [
    {
     "data": {
      "text/html": [
       "<div>\n",
       "<style scoped>\n",
       "    .dataframe tbody tr th:only-of-type {\n",
       "        vertical-align: middle;\n",
       "    }\n",
       "\n",
       "    .dataframe tbody tr th {\n",
       "        vertical-align: top;\n",
       "    }\n",
       "\n",
       "    .dataframe thead th {\n",
       "        text-align: right;\n",
       "    }\n",
       "</style>\n",
       "<table border=\"1\" class=\"dataframe\">\n",
       "  <thead>\n",
       "    <tr style=\"text-align: right;\">\n",
       "      <th></th>\n",
       "      <th>googlehome</th>\n",
       "      <th>pred</th>\n",
       "      <th>selftext</th>\n",
       "    </tr>\n",
       "  </thead>\n",
       "  <tbody>\n",
       "    <tr>\n",
       "      <th>919</th>\n",
       "      <td>0</td>\n",
       "      <td>0</td>\n",
       "      <td>so i bought pixel after my phone die and i m s...</td>\n",
       "    </tr>\n",
       "    <tr>\n",
       "      <th>1029</th>\n",
       "      <td>0</td>\n",
       "      <td>0</td>\n",
       "      <td>hello i have a pixel xl the last time i use it...</td>\n",
       "    </tr>\n",
       "    <tr>\n",
       "      <th>764</th>\n",
       "      <td>1</td>\n",
       "      <td>0</td>\n",
       "      <td>but make sure no kid are around http photo app...</td>\n",
       "    </tr>\n",
       "    <tr>\n",
       "      <th>962</th>\n",
       "      <td>0</td>\n",
       "      <td>0</td>\n",
       "      <td>i ve had my p axl sinc launch still haven t go...</td>\n",
       "    </tr>\n",
       "    <tr>\n",
       "      <th>1064</th>\n",
       "      <td>0</td>\n",
       "      <td>0</td>\n",
       "      <td>i had a voicemail with case id and the number ...</td>\n",
       "    </tr>\n",
       "  </tbody>\n",
       "</table>\n",
       "</div>"
      ],
      "text/plain": [
       "      googlehome  pred                                           selftext\n",
       "919            0     0  so i bought pixel after my phone die and i m s...\n",
       "1029           0     0  hello i have a pixel xl the last time i use it...\n",
       "764            1     0  but make sure no kid are around http photo app...\n",
       "962            0     0  i ve had my p axl sinc launch still haven t go...\n",
       "1064           0     0  i had a voicemail with case id and the number ..."
      ]
     },
     "execution_count": 198,
     "metadata": {},
     "output_type": "execute_result"
    }
   ],
   "source": [
    "# Pass y_test (pandas series) into dataframe first\n",
    "# in order to use the original selftext indexes for traceability\n",
    "actual = pd.Series(y_test)\n",
    "df_rvw = actual.to_frame()\n",
    "\n",
    "# Create column of predicted classes from Naive Bayes model\n",
    "\n",
    "df_rvw['pred'] = predictions\n",
    "# Include the selftext data\n",
    "df_rvw['selftext'] = X_test_clean\n",
    "\n",
    "# Review the dataframe\n",
    "df_rvw.head()"
   ]
  },
  {
   "cell_type": "code",
   "execution_count": 199,
   "metadata": {},
   "outputs": [
    {
     "data": {
      "text/plain": [
       "Int64Index([ 764,  525, 1571,  108,  594, 1139,  469, 1498,    2,  749, 1215,\n",
       "            1024,  888, 1316,  864,  276, 1196,  922, 1132,  117],\n",
       "           dtype='int64')"
      ]
     },
     "execution_count": 199,
     "metadata": {},
     "output_type": "execute_result"
    }
   ],
   "source": [
    "# Index of misclassified classes\n",
    "row_ids = df_rvw[df_rvw['googlehome'] != df_rvw['pred']].index\n",
    "row_ids"
   ]
  },
  {
   "cell_type": "code",
   "execution_count": 200,
   "metadata": {},
   "outputs": [
    {
     "name": "stdout",
     "output_type": "stream",
     "text": [
      "googlehome                                                    1\n",
      "pred                                                          0\n",
      "selftext      but make sure no kid are around http photo app...\n",
      "Name: 764, dtype: object\n",
      "googlehome                                                    1\n",
      "pred                                                          0\n",
      "selftext      anyon have similar issu sinc lastest updat and...\n",
      "Name: 525, dtype: object\n",
      "googlehome                                                    0\n",
      "pred                                                          1\n",
      "selftext      okay friend my googl assist ha stop talk to me...\n",
      "Name: 1571, dtype: object\n",
      "googlehome                                                    1\n",
      "pred                                                          0\n",
      "selftext      the product page onli say w power adaptor dc p...\n",
      "Name: 108, dtype: object\n",
      "googlehome                                                    1\n",
      "pred                                                          0\n",
      "selftext      i want to see if thi wa possibl as a babi monitor\n",
      "Name: 594, dtype: object\n",
      "googlehome                                                    0\n",
      "pred                                                          1\n",
      "selftext      all of a sudden my bottom speaker stop work on...\n",
      "Name: 1139, dtype: object\n",
      "googlehome                                            1\n",
      "pred                                                  0\n",
      "selftext      view poll http www reddit com poll g h ar\n",
      "Name: 469, dtype: object\n",
      "googlehome                                                    0\n",
      "pred                                                          1\n",
      "selftext      how is it possibl googl advertis a stabl bluet...\n",
      "Name: 1498, dtype: object\n",
      "googlehome                          1\n",
      "pred                                0\n",
      "selftext      becaus that s all it is\n",
      "Name: 2, dtype: object\n",
      "googlehome                                                    1\n",
      "pred                                                          0\n",
      "selftext      the bull play everi fuck time wtf thi just sta...\n",
      "Name: 749, dtype: object\n",
      "googlehome                                                    0\n",
      "pred                                                          1\n",
      "selftext      hi i m on my phone a pixel and whenev i m ask ...\n",
      "Name: 1215, dtype: object\n",
      "googlehome                                                    0\n",
      "pred                                                          1\n",
      "selftext      i have a group text that i chang the group nam...\n",
      "Name: 1024, dtype: object\n",
      "googlehome                                                    0\n",
      "pred                                                          1\n",
      "selftext      if you use it what do you use it for most of t...\n",
      "Name: 888, dtype: object\n",
      "googlehome                                                    0\n",
      "pred                                                          1\n",
      "selftext      i m stuck work at home and i have to make a bu...\n",
      "Name: 1316, dtype: object\n",
      "googlehome                                                    0\n",
      "pred                                                          1\n",
      "selftext      so i have one of those router with one wifi ne...\n",
      "Name: 864, dtype: object\n",
      "googlehome                                                    1\n",
      "pred                                                          0\n",
      "selftext      i went past the smart home section at low s ye...\n",
      "Name: 276, dtype: object\n",
      "googlehome                                                    0\n",
      "pred                                                          1\n",
      "selftext      recent bought a pair of jaybird tarah pro sold...\n",
      "Name: 1196, dtype: object\n",
      "googlehome                                                    0\n",
      "pred                                                          1\n",
      "selftext      hi guy ani idea whi my photo size rang from mb...\n",
      "Name: 922, dtype: object\n",
      "googlehome                                                    0\n",
      "pred                                                          1\n",
      "selftext      the messag say the sim card ha lock pleas powe...\n",
      "Name: 1132, dtype: object\n",
      "googlehome                                                    1\n",
      "pred                                                          0\n",
      "selftext      http imgur com a g kxf t http imgur com a g kx...\n",
      "Name: 117, dtype: object\n"
     ]
    }
   ],
   "source": [
    "# Create overview of the misclassified samples\n",
    "for i in row_ids:\n",
    "    print(df_rvw.loc[i])"
   ]
  },
  {
   "cell_type": "markdown",
   "metadata": {},
   "source": [
    "Two samples from each of misclassified samples are examined in further detail in this section.\n",
    "\n",
    "**False Negative**: Predicted as googlepixel post but is actually googlehome post. \n",
    "To gain insights into what are the words that caused this post to be misclassified as google pixel post, one approach is to compare the words with the list of words that are strongly associated with the negative class. \n",
    "\n",
    "Theorectically, all the posts should be reviewed to better identify the 'culprit' words with strong influence on misclassification. We pick one sample from each of the misclassified examples to illustrate the approach. \n",
    "\n",
    "We'll start with the false negative sample."
   ]
  },
  {
   "cell_type": "code",
   "execution_count": 205,
   "metadata": {
    "scrolled": true
   },
   "outputs": [
    {
     "name": "stdout",
     "output_type": "stream",
     "text": [
      "the product page onli say w power adaptor dc power jack there are no replac cord on the googl store and i can t get through to support i m fine with get a third parti adapt but i m afraid i ll buy someth that either doesn t work with the nest mini or will somehow fri it ha anyon els had to replac the cord if i get an adapt that is more than w is that a problem or is w just a minimum ani help would be appreci\n"
     ]
    }
   ],
   "source": [
    "# Index 108 is a false negative\n",
    "print(df_rvw['selftext'][108])"
   ]
  },
  {
   "cell_type": "code",
   "execution_count": 222,
   "metadata": {},
   "outputs": [],
   "source": [
    "# split the string of text into list of individual words\n",
    "review1 = df_rvw['selftext'][108].split() "
   ]
  },
  {
   "cell_type": "code",
   "execution_count": 221,
   "metadata": {},
   "outputs": [],
   "source": [
    "# Convert numpy array of words stongly associated with googlepixel post into a list\n",
    "neg_list = neg_top_features.tolist()"
   ]
  },
  {
   "cell_type": "code",
   "execution_count": 230,
   "metadata": {},
   "outputs": [
    {
     "data": {
      "text/plain": [
       "{'adapt',\n",
       " 'an',\n",
       " 'and',\n",
       " 'ani',\n",
       " 'anyon',\n",
       " 'appreci',\n",
       " 'are',\n",
       " 'be',\n",
       " 'but',\n",
       " 'buy',\n",
       " 'can',\n",
       " 'cord',\n",
       " 'doesn',\n",
       " 'either',\n",
       " 'els',\n",
       " 'fine',\n",
       " 'get',\n",
       " 'googl',\n",
       " 'ha',\n",
       " 'had',\n",
       " 'help',\n",
       " 'if',\n",
       " 'is',\n",
       " 'it',\n",
       " 'jack',\n",
       " 'just',\n",
       " 'll',\n",
       " 'mini',\n",
       " 'more',\n",
       " 'nest',\n",
       " 'no',\n",
       " 'on',\n",
       " 'onli',\n",
       " 'or',\n",
       " 'page',\n",
       " 'parti',\n",
       " 'power',\n",
       " 'problem',\n",
       " 'product',\n",
       " 'replac',\n",
       " 'say',\n",
       " 'somehow',\n",
       " 'someth',\n",
       " 'store',\n",
       " 'support',\n",
       " 'than',\n",
       " 'that',\n",
       " 'the',\n",
       " 'there',\n",
       " 'third',\n",
       " 'through',\n",
       " 'to',\n",
       " 'will',\n",
       " 'with',\n",
       " 'work',\n",
       " 'would'}"
      ]
     },
     "execution_count": 230,
     "metadata": {},
     "output_type": "execute_result"
    }
   ],
   "source": [
    "# Return the words that likely contributed to false negative classification.\n",
    "set(review1) & set (neg_list)"
   ]
  },
  {
   "cell_type": "markdown",
   "metadata": {},
   "source": [
    "**False Positive**: Predicted as googlehome post but is actually googlepixel post. "
   ]
  },
  {
   "cell_type": "code",
   "execution_count": 227,
   "metadata": {
    "scrolled": true
   },
   "outputs": [
    {
     "name": "stdout",
     "output_type": "stream",
     "text": [
      "all of a sudden my bottom speaker stop work onli the top speaker work now and i can t seem to take call on speaker i haven t drop it or anyth i even restart to see if it get fix nada still broken anybodi have a clue what it s about or should i send it to googl for repair\n"
     ]
    }
   ],
   "source": [
    "# Index 1139 is a false positive.\n",
    "# split the string of text into list of individual words.\n",
    "print(df_rvw['selftext'][1139])"
   ]
  },
  {
   "cell_type": "code",
   "execution_count": 228,
   "metadata": {},
   "outputs": [],
   "source": [
    "# split the string of text into list of individual words\n",
    "review2 = df_rvw['selftext'][1139].split() "
   ]
  },
  {
   "cell_type": "code",
   "execution_count": 229,
   "metadata": {},
   "outputs": [],
   "source": [
    "# Convert numpy array of words stongly associated with googlehome post into a list\n",
    "pos_list = pos_top_features.tolist()"
   ]
  },
  {
   "cell_type": "code",
   "execution_count": 231,
   "metadata": {},
   "outputs": [
    {
     "data": {
      "text/plain": [
       "{'about',\n",
       " 'all',\n",
       " 'and',\n",
       " 'anybodi',\n",
       " 'anyth',\n",
       " 'bottom',\n",
       " 'broken',\n",
       " 'call',\n",
       " 'can',\n",
       " 'drop',\n",
       " 'even',\n",
       " 'fix',\n",
       " 'for',\n",
       " 'get',\n",
       " 'googl',\n",
       " 'have',\n",
       " 'haven',\n",
       " 'if',\n",
       " 'it',\n",
       " 'my',\n",
       " 'now',\n",
       " 'of',\n",
       " 'on',\n",
       " 'onli',\n",
       " 'or',\n",
       " 'repair',\n",
       " 'restart',\n",
       " 'see',\n",
       " 'seem',\n",
       " 'send',\n",
       " 'should',\n",
       " 'speaker',\n",
       " 'still',\n",
       " 'stop',\n",
       " 'sudden',\n",
       " 'take',\n",
       " 'the',\n",
       " 'to',\n",
       " 'top',\n",
       " 'what',\n",
       " 'work'}"
      ]
     },
     "execution_count": 231,
     "metadata": {},
     "output_type": "execute_result"
    }
   ],
   "source": [
    "# Return the words that likely contributed to false positive classification.\n",
    "set(review2) & set (pos_list)"
   ]
  },
  {
   "cell_type": "markdown",
   "metadata": {},
   "source": [
    "### Recommendations and Way Forward\n",
    "---\n",
    "Naive Bayes model is selected as the production model for classification of googlehome and googlepixel reddit posts. With this model, the team can proceed to with the classification of posts.\n",
    "\n",
    "To further enhance classification accuracies, we could further review the words that contributed to false positives and false negatives, and remove these words through count vectorizer. Further tuning of the model could continue with the incoming new data.\n"
   ]
  },
  {
   "cell_type": "code",
   "execution_count": null,
   "metadata": {},
   "outputs": [],
   "source": []
  }
 ],
 "metadata": {
  "kernelspec": {
   "display_name": "Python 3",
   "language": "python",
   "name": "python3"
  },
  "language_info": {
   "codemirror_mode": {
    "name": "ipython",
    "version": 3
   },
   "file_extension": ".py",
   "mimetype": "text/x-python",
   "name": "python",
   "nbconvert_exporter": "python",
   "pygments_lexer": "ipython3",
   "version": "3.7.6"
  }
 },
 "nbformat": 4,
 "nbformat_minor": 4
}
