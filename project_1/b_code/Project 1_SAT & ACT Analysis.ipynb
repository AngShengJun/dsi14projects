{
 "cells": [
  {
   "cell_type": "markdown",
   "metadata": {},
   "source": [
    "# Project 1: SAT & ACT Analysis"
   ]
  },
  {
   "cell_type": "markdown",
   "metadata": {},
   "source": [
    "The first markdown cell in a notebook is a great place to provide an overview of your entire project. You will likely want to at least state your\n",
    "\n",
    "## Problem Statement"
   ]
  },
  {
   "cell_type": "markdown",
   "metadata": {},
   "source": [
    "From the data provided, supported with insights from outside research,\n",
    ">i) Identify the factors influencing participation rates and scores in a state of interest,\\\n",
    ">ii) Make recommendations about how the College Board might work to increase the participation rate. "
   ]
  },
  {
   "cell_type": "markdown",
   "metadata": {},
   "source": [
    "## Executive Summary\n",
    "\n",
    "If you want to, it's great to use relative links to direct your audience to various sections of a notebook. **HERE'S A DEMONSTRATION WITH THE CURRENT SECTION HEADERS**:\n",
    "\n",
    "### Contents:\n",
    "- [2017 Data Import & Cleaning](#Data-Import-and-Cleaning)\n",
    "- [2018 Data Import and Cleaning](#2018-Data-Import-and-Cleaning)\n",
    "- [Exploratory Data Analysis](#Exploratory-Data-Analysis)\n",
    "- [Data Visualization](#Visualize-the-data)\n",
    "- [Descriptive and Inferential Statistics](#Descriptive-and-Inferential-Statistics)\n",
    "- [Outside Research](#Outside-Research)\n",
    "- [Conclusions and Recommendations](#Conclusions-and-Recommendations)"
   ]
  },
  {
   "cell_type": "markdown",
   "metadata": {},
   "source": [
    "**If you combine your problem statement, executive summary, data dictionary, and conclusions/recommendations, you have an amazing README.md file that quickly aligns your audience to the contents of your project.** Don't forget to cite your data sources!"
   ]
  },
  {
   "cell_type": "markdown",
   "metadata": {},
   "source": [
    "*All libraries used should be added here*"
   ]
  },
  {
   "cell_type": "code",
   "execution_count": 1,
   "metadata": {},
   "outputs": [],
   "source": [
    "# Imports:\n",
    "import numpy as np   #import numpy with alias np\n",
    "import pandas as pd  #import pandas with alias pd\n",
    "from math import sqrt\n",
    "from statistics import mean\n",
    "import seaborn as sns           #import seaborn with alias sns\n",
    "import matplotlib.pyplot as plt #import matplotlib.pyplot with alias plt\n",
    "import matplotlib.colors as mcolors #import matplotlib.colors with alias mcolors\n",
    "\n",
    "plt.style.use('fivethirtyeight')\n",
    "%matplotlib inline\n",
    "\n",
    "# Increase default figure and font sizes for easier viewing.\n",
    "plt.rcParams['figure.figsize'] = (8, 6)\n",
    "plt.rcParams['font.size'] = 14"
   ]
  },
  {
   "cell_type": "markdown",
   "metadata": {},
   "source": [
    "## 2017 Data Import and Cleaning"
   ]
  },
  {
   "cell_type": "markdown",
   "metadata": {},
   "source": [
    "#### 1. Read In SAT & ACT  Data\n",
    "\n",
    "Read in the `sat_2017.csv` and `act_2017.csv` files and assign them to appropriately named pandas dataframes."
   ]
  },
  {
   "cell_type": "code",
   "execution_count": 2,
   "metadata": {},
   "outputs": [],
   "source": [
    "# Read .csv files as pandas dataframes. \n",
    "sat2017_df = pd.read_csv('../data/sat_2017.csv')\n",
    "act2017_df = pd.read_csv('../data/act_2017.csv')"
   ]
  },
  {
   "cell_type": "markdown",
   "metadata": {},
   "source": [
    "#### 2. Display Data\n",
    "\n",
    "Print the first 10 rows of each dataframe to your jupyter notebook"
   ]
  },
  {
   "cell_type": "code",
   "execution_count": 3,
   "metadata": {},
   "outputs": [
    {
     "name": "stdout",
     "output_type": "stream",
     "text": [
      "                  State Participation  Evidence-Based Reading and Writing  \\\n",
      "0               Alabama            5%                                 593   \n",
      "1                Alaska           38%                                 547   \n",
      "2               Arizona           30%                                 563   \n",
      "3              Arkansas            3%                                 614   \n",
      "4            California           53%                                 531   \n",
      "5              Colorado           11%                                 606   \n",
      "6           Connecticut          100%                                 530   \n",
      "7              Delaware          100%                                 503   \n",
      "8  District of Columbia          100%                                 482   \n",
      "9               Florida           83%                                 520   \n",
      "\n",
      "   Math  Total  \n",
      "0   572   1165  \n",
      "1   533   1080  \n",
      "2   553   1116  \n",
      "3   594   1208  \n",
      "4   524   1055  \n",
      "5   595   1201  \n",
      "6   512   1041  \n",
      "7   492    996  \n",
      "8   468    950  \n",
      "9   497   1017  \n"
     ]
    }
   ],
   "source": [
    "# Display first 10 rows of sat2017_df.\n",
    "print(sat2017_df.head(10))"
   ]
  },
  {
   "cell_type": "code",
   "execution_count": 4,
   "metadata": {},
   "outputs": [
    {
     "name": "stdout",
     "output_type": "stream",
     "text": [
      "                  State Participation  English  Math  Reading  Science  \\\n",
      "0              National           60%     20.3  20.7     21.4     21.0   \n",
      "1               Alabama          100%     18.9  18.4     19.7     19.4   \n",
      "2                Alaska           65%     18.7  19.8     20.4     19.9   \n",
      "3               Arizona           62%     18.6  19.8     20.1     19.8   \n",
      "4              Arkansas          100%     18.9  19.0     19.7     19.5   \n",
      "5            California           31%     22.5  22.7     23.1     22.2   \n",
      "6              Colorado          100%     20.1  20.3     21.2     20.9   \n",
      "7           Connecticut           31%     25.5  24.6     25.6     24.6   \n",
      "8              Delaware           18%     24.1  23.4     24.8     23.6   \n",
      "9  District of Columbia           32%     24.4  23.5     24.9     23.5   \n",
      "\n",
      "  Composite  \n",
      "0      21.0  \n",
      "1      19.2  \n",
      "2      19.8  \n",
      "3      19.7  \n",
      "4      19.4  \n",
      "5      22.8  \n",
      "6      20.8  \n",
      "7      25.2  \n",
      "8      24.1  \n",
      "9      24.2  \n"
     ]
    }
   ],
   "source": [
    "# First 10 rows of act2017_df.\n",
    "print(act2017_df.head(10))"
   ]
  },
  {
   "cell_type": "markdown",
   "metadata": {},
   "source": [
    "#### 3. Verbally Describe Data\n",
    "\n",
    "Take your time looking through the data and thoroughly describe the data in the markdown cell below. "
   ]
  },
  {
   "cell_type": "code",
   "execution_count": 5,
   "metadata": {},
   "outputs": [
    {
     "name": "stdout",
     "output_type": "stream",
     "text": [
      "(51, 5)\n",
      "(52, 7)\n"
     ]
    }
   ],
   "source": [
    "# Number of rows and columns in sat2017_df and act2017_df.\n",
    "print(sat2017_df.shape)\n",
    "print(act2017_df.shape)"
   ]
  },
  {
   "cell_type": "markdown",
   "metadata": {},
   "source": [
    "**Answer:**\n",
    "- sat2017 dataframe contains data on the participation and SAT scores (i.e. Evidence-Based Reading and Writing, Math and Total for the 51 states in U.S..\n",
    "- act2017 dataframe contains data on the participation and ACT scores (i.e. English, Math, Reading, Science and Composite for the 51 states in U.S.\n",
    "- There are inconsistent rows between sat2017(51rows) and act2017(52rows) dataframes. The additional row in act2017 dataframe is identified as one with 'National' entered for 'State' header. Also, the Composite score for Wyoming state in act2017_df is '20.2x'. This may cause issue with computational analysis later on. "
   ]
  },
  {
   "cell_type": "markdown",
   "metadata": {},
   "source": [
    "#### 4a. Does the data look complete? "
   ]
  },
  {
   "cell_type": "code",
   "execution_count": 6,
   "metadata": {},
   "outputs": [
    {
     "name": "stdout",
     "output_type": "stream",
     "text": [
      "<class 'pandas.core.frame.DataFrame'>\n",
      "RangeIndex: 51 entries, 0 to 50\n",
      "Data columns (total 5 columns):\n",
      " #   Column                              Non-Null Count  Dtype \n",
      "---  ------                              --------------  ----- \n",
      " 0   State                               51 non-null     object\n",
      " 1   Participation                       51 non-null     object\n",
      " 2   Evidence-Based Reading and Writing  51 non-null     int64 \n",
      " 3   Math                                51 non-null     int64 \n",
      " 4   Total                               51 non-null     int64 \n",
      "dtypes: int64(3), object(2)\n",
      "memory usage: 2.1+ KB\n"
     ]
    }
   ],
   "source": [
    "# Use .info() to review datatypes of the cell values of sat2017_df.\n",
    "sat2017_df.info()"
   ]
  },
  {
   "cell_type": "code",
   "execution_count": 7,
   "metadata": {},
   "outputs": [
    {
     "name": "stdout",
     "output_type": "stream",
     "text": [
      "<class 'pandas.core.frame.DataFrame'>\n",
      "RangeIndex: 52 entries, 0 to 51\n",
      "Data columns (total 7 columns):\n",
      " #   Column         Non-Null Count  Dtype  \n",
      "---  ------         --------------  -----  \n",
      " 0   State          52 non-null     object \n",
      " 1   Participation  52 non-null     object \n",
      " 2   English        52 non-null     float64\n",
      " 3   Math           52 non-null     float64\n",
      " 4   Reading        52 non-null     float64\n",
      " 5   Science        52 non-null     float64\n",
      " 6   Composite      52 non-null     object \n",
      "dtypes: float64(4), object(3)\n",
      "memory usage: 3.0+ KB\n"
     ]
    }
   ],
   "source": [
    "# Use .info() to review datatypes of the cell values of act2017_df.\n",
    "act2017_df.info()"
   ]
  },
  {
   "cell_type": "markdown",
   "metadata": {},
   "source": [
    "**Answer:** For both dataframes, the data looks complete; number of rows tallies with the respective RangeIndex. In addition, there are no null values."
   ]
  },
  {
   "cell_type": "markdown",
   "metadata": {},
   "source": [
    "#### 4b. Are there any obvious issues with the observations?\n",
    "\n",
    "**What is the minimum *possible* value for each test/subtest? What is the maximum *possible* value?**\n",
    "\n",
    "Consider comparing any questionable values to the sources of your data:\n",
    "- [SAT](https://blog.collegevine.com/here-are-the-average-sat-scores-by-state/)\n",
    "- [ACT](https://blog.prepscholar.com/act-scores-by-state-averages-highs-and-lows)"
   ]
  },
  {
   "cell_type": "code",
   "execution_count": 8,
   "metadata": {},
   "outputs": [
    {
     "data": {
      "text/html": [
       "<div>\n",
       "<style scoped>\n",
       "    .dataframe tbody tr th:only-of-type {\n",
       "        vertical-align: middle;\n",
       "    }\n",
       "\n",
       "    .dataframe tbody tr th {\n",
       "        vertical-align: top;\n",
       "    }\n",
       "\n",
       "    .dataframe thead th {\n",
       "        text-align: right;\n",
       "    }\n",
       "</style>\n",
       "<table border=\"1\" class=\"dataframe\">\n",
       "  <thead>\n",
       "    <tr style=\"text-align: right;\">\n",
       "      <th></th>\n",
       "      <th>Evidence-Based Reading and Writing</th>\n",
       "      <th>Math</th>\n",
       "      <th>Total</th>\n",
       "    </tr>\n",
       "  </thead>\n",
       "  <tbody>\n",
       "    <tr>\n",
       "      <th>min</th>\n",
       "      <td>482</td>\n",
       "      <td>52</td>\n",
       "      <td>950</td>\n",
       "    </tr>\n",
       "    <tr>\n",
       "      <th>max</th>\n",
       "      <td>644</td>\n",
       "      <td>651</td>\n",
       "      <td>1295</td>\n",
       "    </tr>\n",
       "  </tbody>\n",
       "</table>\n",
       "</div>"
      ],
      "text/plain": [
       "     Evidence-Based Reading and Writing  Math  Total\n",
       "min                                 482    52    950\n",
       "max                                 644   651   1295"
      ]
     },
     "execution_count": 8,
     "metadata": {},
     "output_type": "execute_result"
    }
   ],
   "source": [
    "# Aggregate function to return min, max of the tests for sat2017.\n",
    "sat2017_df[['Evidence-Based Reading and Writing', 'Math', 'Total']].agg(['min', 'max'])"
   ]
  },
  {
   "cell_type": "code",
   "execution_count": 9,
   "metadata": {},
   "outputs": [
    {
     "data": {
      "text/html": [
       "<div>\n",
       "<style scoped>\n",
       "    .dataframe tbody tr th:only-of-type {\n",
       "        vertical-align: middle;\n",
       "    }\n",
       "\n",
       "    .dataframe tbody tr th {\n",
       "        vertical-align: top;\n",
       "    }\n",
       "\n",
       "    .dataframe thead th {\n",
       "        text-align: right;\n",
       "    }\n",
       "</style>\n",
       "<table border=\"1\" class=\"dataframe\">\n",
       "  <thead>\n",
       "    <tr style=\"text-align: right;\">\n",
       "      <th></th>\n",
       "      <th>English</th>\n",
       "      <th>Math</th>\n",
       "      <th>Reading</th>\n",
       "      <th>Science</th>\n",
       "    </tr>\n",
       "  </thead>\n",
       "  <tbody>\n",
       "    <tr>\n",
       "      <th>min</th>\n",
       "      <td>16.3</td>\n",
       "      <td>18.0</td>\n",
       "      <td>18.1</td>\n",
       "      <td>2.3</td>\n",
       "    </tr>\n",
       "    <tr>\n",
       "      <th>max</th>\n",
       "      <td>25.5</td>\n",
       "      <td>25.3</td>\n",
       "      <td>26.0</td>\n",
       "      <td>24.9</td>\n",
       "    </tr>\n",
       "  </tbody>\n",
       "</table>\n",
       "</div>"
      ],
      "text/plain": [
       "     English  Math  Reading  Science\n",
       "min     16.3  18.0     18.1      2.3\n",
       "max     25.5  25.3     26.0     24.9"
      ]
     },
     "execution_count": 9,
     "metadata": {},
     "output_type": "execute_result"
    }
   ],
   "source": [
    "# Aggregate function to return min, max of the tests for act2017.\n",
    "act2017_df[['English', 'Math', 'Reading', 'Science']].agg(['min', 'max'])"
   ]
  },
  {
   "cell_type": "markdown",
   "metadata": {},
   "source": [
    "**Answer:** From the min. and max. of the test scores, it appears the minimum for Math score in sat2017 dataframe is too low."
   ]
  },
  {
   "cell_type": "markdown",
   "metadata": {},
   "source": [
    "#### 4c. Fix any errors you identified\n",
    "\n",
    "**The data is available** so there's no need to guess or calculate anything. If you didn't find any errors, continue to the next step."
   ]
  },
  {
   "cell_type": "code",
   "execution_count": 10,
   "metadata": {},
   "outputs": [
    {
     "data": {
      "text/html": [
       "<div>\n",
       "<style scoped>\n",
       "    .dataframe tbody tr th:only-of-type {\n",
       "        vertical-align: middle;\n",
       "    }\n",
       "\n",
       "    .dataframe tbody tr th {\n",
       "        vertical-align: top;\n",
       "    }\n",
       "\n",
       "    .dataframe thead th {\n",
       "        text-align: right;\n",
       "    }\n",
       "</style>\n",
       "<table border=\"1\" class=\"dataframe\">\n",
       "  <thead>\n",
       "    <tr style=\"text-align: right;\">\n",
       "      <th></th>\n",
       "      <th>State</th>\n",
       "      <th>Participation</th>\n",
       "      <th>Evidence-Based Reading and Writing</th>\n",
       "      <th>Math</th>\n",
       "      <th>Total</th>\n",
       "    </tr>\n",
       "  </thead>\n",
       "  <tbody>\n",
       "    <tr>\n",
       "      <th>20</th>\n",
       "      <td>Maryland</td>\n",
       "      <td>69%</td>\n",
       "      <td>536</td>\n",
       "      <td>52</td>\n",
       "      <td>1060</td>\n",
       "    </tr>\n",
       "  </tbody>\n",
       "</table>\n",
       "</div>"
      ],
      "text/plain": [
       "       State Participation  Evidence-Based Reading and Writing  Math  Total\n",
       "20  Maryland           69%                                 536    52   1060"
      ]
     },
     "execution_count": 10,
     "metadata": {},
     "output_type": "execute_result"
    }
   ],
   "source": [
    "# Identify the problematic row in sat2017.\n",
    "sat2017_df[sat2017_df['Math'] == sat2017_df['Math'].min()]  #we see the issue lies with row20, Maryland"
   ]
  },
  {
   "cell_type": "code",
   "execution_count": 11,
   "metadata": {},
   "outputs": [
    {
     "data": {
      "text/html": [
       "<div>\n",
       "<style scoped>\n",
       "    .dataframe tbody tr th:only-of-type {\n",
       "        vertical-align: middle;\n",
       "    }\n",
       "\n",
       "    .dataframe tbody tr th {\n",
       "        vertical-align: top;\n",
       "    }\n",
       "\n",
       "    .dataframe thead th {\n",
       "        text-align: right;\n",
       "    }\n",
       "</style>\n",
       "<table border=\"1\" class=\"dataframe\">\n",
       "  <thead>\n",
       "    <tr style=\"text-align: right;\">\n",
       "      <th></th>\n",
       "      <th>State</th>\n",
       "      <th>Participation</th>\n",
       "      <th>Evidence-Based Reading and Writing</th>\n",
       "      <th>Math</th>\n",
       "      <th>Total</th>\n",
       "    </tr>\n",
       "  </thead>\n",
       "  <tbody>\n",
       "    <tr>\n",
       "      <th>20</th>\n",
       "      <td>Maryland</td>\n",
       "      <td>69%</td>\n",
       "      <td>536</td>\n",
       "      <td>524</td>\n",
       "      <td>1060</td>\n",
       "    </tr>\n",
       "  </tbody>\n",
       "</table>\n",
       "</div>"
      ],
      "text/plain": [
       "       State Participation  Evidence-Based Reading and Writing  Math  Total\n",
       "20  Maryland           69%                                 536   524   1060"
      ]
     },
     "execution_count": 11,
     "metadata": {},
     "output_type": "execute_result"
    }
   ],
   "source": [
    "# The correct Math score for Maryland is '524'.\n",
    "# Update sat2017_df.\n",
    "sat2017_df.iloc[20, 3] = 524\n",
    "\n",
    "# Check that Math score for the dataframe is updated.\n",
    "sat2017_df.loc[sat2017_df['State'] == 'Maryland']"
   ]
  },
  {
   "cell_type": "markdown",
   "metadata": {},
   "source": [
    "#### 5. What are your data types? \n",
    "Display the data types of each feature. "
   ]
  },
  {
   "cell_type": "code",
   "execution_count": 12,
   "metadata": {},
   "outputs": [
    {
     "name": "stdout",
     "output_type": "stream",
     "text": [
      "<class 'pandas.core.frame.DataFrame'>\n",
      "RangeIndex: 51 entries, 0 to 50\n",
      "Data columns (total 5 columns):\n",
      " #   Column                              Non-Null Count  Dtype \n",
      "---  ------                              --------------  ----- \n",
      " 0   State                               51 non-null     object\n",
      " 1   Participation                       51 non-null     object\n",
      " 2   Evidence-Based Reading and Writing  51 non-null     int64 \n",
      " 3   Math                                51 non-null     int64 \n",
      " 4   Total                               51 non-null     int64 \n",
      "dtypes: int64(3), object(2)\n",
      "memory usage: 2.1+ KB\n"
     ]
    }
   ],
   "source": [
    "# Datatype information for sat2017_df.\n",
    "sat2017_df.info()"
   ]
  },
  {
   "cell_type": "code",
   "execution_count": 13,
   "metadata": {},
   "outputs": [
    {
     "name": "stdout",
     "output_type": "stream",
     "text": [
      "<class 'pandas.core.frame.DataFrame'>\n",
      "RangeIndex: 52 entries, 0 to 51\n",
      "Data columns (total 7 columns):\n",
      " #   Column         Non-Null Count  Dtype  \n",
      "---  ------         --------------  -----  \n",
      " 0   State          52 non-null     object \n",
      " 1   Participation  52 non-null     object \n",
      " 2   English        52 non-null     float64\n",
      " 3   Math           52 non-null     float64\n",
      " 4   Reading        52 non-null     float64\n",
      " 5   Science        52 non-null     float64\n",
      " 6   Composite      52 non-null     object \n",
      "dtypes: float64(4), object(3)\n",
      "memory usage: 3.0+ KB\n"
     ]
    }
   ],
   "source": [
    "# Datatype information for act2017_df.\n",
    "act2017_df.info()"
   ]
  },
  {
   "cell_type": "markdown",
   "metadata": {},
   "source": [
    "What did you learn?\n",
    "- Do any of them seem odd?  \n",
    "- Which ones are not as they should be?  "
   ]
  },
  {
   "cell_type": "markdown",
   "metadata": {},
   "source": [
    "**Answer:** For both sat2017_df and act2017_df 'participation' values, these should be in numeric datatype (i.e. float or integer), not object for statistical computation. Similar observation applies for the 'Composite' values in act2017_df."
   ]
  },
  {
   "cell_type": "markdown",
   "metadata": {},
   "source": [
    "#### 6. Fix Incorrect Data Types\n",
    "Based on what you discovered above, use appropriate methods to re-type incorrectly typed data.\n",
    "- Define a function that will allow you to convert participation rates to an appropriate numeric type. Use `map` or `apply` to change these columns in each dataframe."
   ]
  },
  {
   "cell_type": "code",
   "execution_count": 14,
   "metadata": {},
   "outputs": [],
   "source": [
    "# Function to convert datatype 'object' to 'float'.\n",
    "\"\"\"Drop the last '%' in participation values, then convert to float.\"\"\"\n",
    "def drop_convert(object_):\n",
    "    return object_.apply(lambda x: float(x[:-1]))"
   ]
  },
  {
   "cell_type": "code",
   "execution_count": 15,
   "metadata": {},
   "outputs": [
    {
     "data": {
      "text/html": [
       "<div>\n",
       "<style scoped>\n",
       "    .dataframe tbody tr th:only-of-type {\n",
       "        vertical-align: middle;\n",
       "    }\n",
       "\n",
       "    .dataframe tbody tr th {\n",
       "        vertical-align: top;\n",
       "    }\n",
       "\n",
       "    .dataframe thead th {\n",
       "        text-align: right;\n",
       "    }\n",
       "</style>\n",
       "<table border=\"1\" class=\"dataframe\">\n",
       "  <thead>\n",
       "    <tr style=\"text-align: right;\">\n",
       "      <th></th>\n",
       "      <th>State</th>\n",
       "      <th>Participation</th>\n",
       "      <th>Evidence-Based Reading and Writing</th>\n",
       "      <th>Math</th>\n",
       "      <th>Total</th>\n",
       "    </tr>\n",
       "  </thead>\n",
       "  <tbody>\n",
       "    <tr>\n",
       "      <th>0</th>\n",
       "      <td>Alabama</td>\n",
       "      <td>5%</td>\n",
       "      <td>593</td>\n",
       "      <td>572</td>\n",
       "      <td>1165</td>\n",
       "    </tr>\n",
       "    <tr>\n",
       "      <th>1</th>\n",
       "      <td>Alaska</td>\n",
       "      <td>38%</td>\n",
       "      <td>547</td>\n",
       "      <td>533</td>\n",
       "      <td>1080</td>\n",
       "    </tr>\n",
       "    <tr>\n",
       "      <th>2</th>\n",
       "      <td>Arizona</td>\n",
       "      <td>30%</td>\n",
       "      <td>563</td>\n",
       "      <td>553</td>\n",
       "      <td>1116</td>\n",
       "    </tr>\n",
       "    <tr>\n",
       "      <th>3</th>\n",
       "      <td>Arkansas</td>\n",
       "      <td>3%</td>\n",
       "      <td>614</td>\n",
       "      <td>594</td>\n",
       "      <td>1208</td>\n",
       "    </tr>\n",
       "    <tr>\n",
       "      <th>4</th>\n",
       "      <td>California</td>\n",
       "      <td>53%</td>\n",
       "      <td>531</td>\n",
       "      <td>524</td>\n",
       "      <td>1055</td>\n",
       "    </tr>\n",
       "  </tbody>\n",
       "</table>\n",
       "</div>"
      ],
      "text/plain": [
       "        State Participation  Evidence-Based Reading and Writing  Math  Total\n",
       "0     Alabama            5%                                 593   572   1165\n",
       "1      Alaska           38%                                 547   533   1080\n",
       "2     Arizona           30%                                 563   553   1116\n",
       "3    Arkansas            3%                                 614   594   1208\n",
       "4  California           53%                                 531   524   1055"
      ]
     },
     "execution_count": 15,
     "metadata": {},
     "output_type": "execute_result"
    }
   ],
   "source": [
    "sat2017_df.head()"
   ]
  },
  {
   "cell_type": "code",
   "execution_count": 16,
   "metadata": {},
   "outputs": [
    {
     "data": {
      "text/html": [
       "<div>\n",
       "<style scoped>\n",
       "    .dataframe tbody tr th:only-of-type {\n",
       "        vertical-align: middle;\n",
       "    }\n",
       "\n",
       "    .dataframe tbody tr th {\n",
       "        vertical-align: top;\n",
       "    }\n",
       "\n",
       "    .dataframe thead th {\n",
       "        text-align: right;\n",
       "    }\n",
       "</style>\n",
       "<table border=\"1\" class=\"dataframe\">\n",
       "  <thead>\n",
       "    <tr style=\"text-align: right;\">\n",
       "      <th></th>\n",
       "      <th>State</th>\n",
       "      <th>Participation</th>\n",
       "      <th>Evidence-Based Reading and Writing</th>\n",
       "      <th>Math</th>\n",
       "      <th>Total</th>\n",
       "    </tr>\n",
       "  </thead>\n",
       "  <tbody>\n",
       "    <tr>\n",
       "      <th>0</th>\n",
       "      <td>Alabama</td>\n",
       "      <td>5.0</td>\n",
       "      <td>593</td>\n",
       "      <td>572</td>\n",
       "      <td>1165</td>\n",
       "    </tr>\n",
       "    <tr>\n",
       "      <th>1</th>\n",
       "      <td>Alaska</td>\n",
       "      <td>38.0</td>\n",
       "      <td>547</td>\n",
       "      <td>533</td>\n",
       "      <td>1080</td>\n",
       "    </tr>\n",
       "  </tbody>\n",
       "</table>\n",
       "</div>"
      ],
      "text/plain": [
       "     State  Participation  Evidence-Based Reading and Writing  Math  Total\n",
       "0  Alabama            5.0                                 593   572   1165\n",
       "1   Alaska           38.0                                 547   533   1080"
      ]
     },
     "execution_count": 16,
     "metadata": {},
     "output_type": "execute_result"
    }
   ],
   "source": [
    "# Apply the function to 'Participation' column from sat2017_df.\n",
    "sat2017_df['Participation'] = drop_convert(sat2017_df['Participation'])\n",
    "sat2017_df.head(2)"
   ]
  },
  {
   "cell_type": "code",
   "execution_count": 17,
   "metadata": {},
   "outputs": [
    {
     "data": {
      "text/html": [
       "<div>\n",
       "<style scoped>\n",
       "    .dataframe tbody tr th:only-of-type {\n",
       "        vertical-align: middle;\n",
       "    }\n",
       "\n",
       "    .dataframe tbody tr th {\n",
       "        vertical-align: top;\n",
       "    }\n",
       "\n",
       "    .dataframe thead th {\n",
       "        text-align: right;\n",
       "    }\n",
       "</style>\n",
       "<table border=\"1\" class=\"dataframe\">\n",
       "  <thead>\n",
       "    <tr style=\"text-align: right;\">\n",
       "      <th></th>\n",
       "      <th>State</th>\n",
       "      <th>Participation</th>\n",
       "      <th>English</th>\n",
       "      <th>Math</th>\n",
       "      <th>Reading</th>\n",
       "      <th>Science</th>\n",
       "      <th>Composite</th>\n",
       "    </tr>\n",
       "  </thead>\n",
       "  <tbody>\n",
       "    <tr>\n",
       "      <th>0</th>\n",
       "      <td>National</td>\n",
       "      <td>60.0</td>\n",
       "      <td>20.3</td>\n",
       "      <td>20.7</td>\n",
       "      <td>21.4</td>\n",
       "      <td>21.0</td>\n",
       "      <td>21.0</td>\n",
       "    </tr>\n",
       "    <tr>\n",
       "      <th>1</th>\n",
       "      <td>Alabama</td>\n",
       "      <td>100.0</td>\n",
       "      <td>18.9</td>\n",
       "      <td>18.4</td>\n",
       "      <td>19.7</td>\n",
       "      <td>19.4</td>\n",
       "      <td>19.2</td>\n",
       "    </tr>\n",
       "  </tbody>\n",
       "</table>\n",
       "</div>"
      ],
      "text/plain": [
       "      State  Participation  English  Math  Reading  Science Composite\n",
       "0  National           60.0     20.3  20.7     21.4     21.0      21.0\n",
       "1   Alabama          100.0     18.9  18.4     19.7     19.4      19.2"
      ]
     },
     "execution_count": 17,
     "metadata": {},
     "output_type": "execute_result"
    }
   ],
   "source": [
    "# Apply the function to 'Participation' column from sat2017_df.\n",
    "act2017_df['Participation'] = drop_convert(act2017_df['Participation'])\n",
    "act2017_df.head(2)"
   ]
  },
  {
   "cell_type": "code",
   "execution_count": 18,
   "metadata": {},
   "outputs": [],
   "source": [
    "# Function to convert datatype 'object' to 'float'.\n",
    "\"\"\"Convert the values to float on numeric columns (exclude 'State' column).\"\"\"\n",
    "def convert_float(dataframe):\n",
    "    cells = [col for col in dataframe.columns if col != 'State']\n",
    "    dataframe[cells] = dataframe[cells].astype(float)\n",
    "    return dataframe"
   ]
  },
  {
   "cell_type": "code",
   "execution_count": 19,
   "metadata": {},
   "outputs": [],
   "source": [
    "# Convert sat2017_df cell value datatype to float (except 'State' column).\n",
    "sat2017_df = convert_float(sat2017_df)"
   ]
  },
  {
   "cell_type": "code",
   "execution_count": 20,
   "metadata": {},
   "outputs": [],
   "source": [
    "# Commented out as float conversion will throw an error.\n",
    "#act2017_df = convert_float(act2017_df)"
   ]
  },
  {
   "cell_type": "markdown",
   "metadata": {},
   "source": [
    "- Fix any individual values preventing other columns from being the appropriate type."
   ]
  },
  {
   "cell_type": "code",
   "execution_count": 21,
   "metadata": {},
   "outputs": [],
   "source": [
    "# Composite score for Wyoming State is '20.2x'.\n",
    "\"\"\"Remove the 'x'.\"\"\"\n",
    "act2017_df.iloc[51, -1] = act2017_df.iloc[51, -1].strip('x')"
   ]
  },
  {
   "cell_type": "code",
   "execution_count": 22,
   "metadata": {},
   "outputs": [
    {
     "data": {
      "text/html": [
       "<div>\n",
       "<style scoped>\n",
       "    .dataframe tbody tr th:only-of-type {\n",
       "        vertical-align: middle;\n",
       "    }\n",
       "\n",
       "    .dataframe tbody tr th {\n",
       "        vertical-align: top;\n",
       "    }\n",
       "\n",
       "    .dataframe thead th {\n",
       "        text-align: right;\n",
       "    }\n",
       "</style>\n",
       "<table border=\"1\" class=\"dataframe\">\n",
       "  <thead>\n",
       "    <tr style=\"text-align: right;\">\n",
       "      <th></th>\n",
       "      <th>State</th>\n",
       "      <th>Participation</th>\n",
       "      <th>English</th>\n",
       "      <th>Math</th>\n",
       "      <th>Reading</th>\n",
       "      <th>Science</th>\n",
       "      <th>Composite</th>\n",
       "    </tr>\n",
       "  </thead>\n",
       "  <tbody>\n",
       "    <tr>\n",
       "      <th>51</th>\n",
       "      <td>Wyoming</td>\n",
       "      <td>100.0</td>\n",
       "      <td>19.4</td>\n",
       "      <td>19.8</td>\n",
       "      <td>20.8</td>\n",
       "      <td>20.6</td>\n",
       "      <td>20.2</td>\n",
       "    </tr>\n",
       "  </tbody>\n",
       "</table>\n",
       "</div>"
      ],
      "text/plain": [
       "      State  Participation  English  Math  Reading  Science Composite\n",
       "51  Wyoming          100.0     19.4  19.8     20.8     20.6      20.2"
      ]
     },
     "execution_count": 22,
     "metadata": {},
     "output_type": "execute_result"
    }
   ],
   "source": [
    "# Display the problematic row.\n",
    "act2017_df.tail(1)"
   ]
  },
  {
   "cell_type": "markdown",
   "metadata": {},
   "source": [
    "- Finish your data modifications by making sure the columns are now typed appropriately."
   ]
  },
  {
   "cell_type": "code",
   "execution_count": 23,
   "metadata": {},
   "outputs": [],
   "source": [
    "# Convert act2017_df cell value datatype to float (except 'State' column).\n",
    "act2017_df = convert_float(act2017_df)"
   ]
  },
  {
   "cell_type": "markdown",
   "metadata": {},
   "source": [
    "- Display the data types again to confirm they are correct."
   ]
  },
  {
   "cell_type": "code",
   "execution_count": 24,
   "metadata": {},
   "outputs": [
    {
     "name": "stdout",
     "output_type": "stream",
     "text": [
      "<class 'pandas.core.frame.DataFrame'>\n",
      "RangeIndex: 51 entries, 0 to 50\n",
      "Data columns (total 5 columns):\n",
      " #   Column                              Non-Null Count  Dtype  \n",
      "---  ------                              --------------  -----  \n",
      " 0   State                               51 non-null     object \n",
      " 1   Participation                       51 non-null     float64\n",
      " 2   Evidence-Based Reading and Writing  51 non-null     float64\n",
      " 3   Math                                51 non-null     float64\n",
      " 4   Total                               51 non-null     float64\n",
      "dtypes: float64(4), object(1)\n",
      "memory usage: 2.1+ KB\n"
     ]
    }
   ],
   "source": [
    "# sat2017_df Datatypes.\n",
    "sat2017_df.info()"
   ]
  },
  {
   "cell_type": "code",
   "execution_count": 25,
   "metadata": {},
   "outputs": [
    {
     "name": "stdout",
     "output_type": "stream",
     "text": [
      "<class 'pandas.core.frame.DataFrame'>\n",
      "RangeIndex: 52 entries, 0 to 51\n",
      "Data columns (total 7 columns):\n",
      " #   Column         Non-Null Count  Dtype  \n",
      "---  ------         --------------  -----  \n",
      " 0   State          52 non-null     object \n",
      " 1   Participation  52 non-null     float64\n",
      " 2   English        52 non-null     float64\n",
      " 3   Math           52 non-null     float64\n",
      " 4   Reading        52 non-null     float64\n",
      " 5   Science        52 non-null     float64\n",
      " 6   Composite      52 non-null     float64\n",
      "dtypes: float64(6), object(1)\n",
      "memory usage: 3.0+ KB\n"
     ]
    }
   ],
   "source": [
    "# act2017_df Datatypes.\n",
    "act2017_df.info()"
   ]
  },
  {
   "cell_type": "markdown",
   "metadata": {},
   "source": [
    "#### 7. Rename Columns\n",
    "Change the names of the columns to more expressive names so that you can tell the difference the SAT columns and the ACT columns. Your solution should map all column names being changed at once (no repeated singular name-changes). **We will be combining these data with some of the data from 2018, and so you should name columns in an appropriate way**.\n",
    "\n",
    "**Guidelines**:\n",
    "- Column names should be all lowercase (you will thank yourself when you start pushing data to SQL later in the course)\n",
    "- Column names should not contain spaces (underscores will suffice--this allows for using the `df.column_name` method to access columns in addition to `df['column_name']`.\n",
    "- Column names should be unique and informative (the only feature that we actually share between dataframes is the state)."
   ]
  },
  {
   "cell_type": "code",
   "execution_count": 26,
   "metadata": {},
   "outputs": [
    {
     "data": {
      "text/html": [
       "<div>\n",
       "<style scoped>\n",
       "    .dataframe tbody tr th:only-of-type {\n",
       "        vertical-align: middle;\n",
       "    }\n",
       "\n",
       "    .dataframe tbody tr th {\n",
       "        vertical-align: top;\n",
       "    }\n",
       "\n",
       "    .dataframe thead th {\n",
       "        text-align: right;\n",
       "    }\n",
       "</style>\n",
       "<table border=\"1\" class=\"dataframe\">\n",
       "  <thead>\n",
       "    <tr style=\"text-align: right;\">\n",
       "      <th></th>\n",
       "      <th>state</th>\n",
       "      <th>sat_participate_17</th>\n",
       "      <th>sat_evrw_17</th>\n",
       "      <th>sat_math_17</th>\n",
       "      <th>sat_total_17</th>\n",
       "    </tr>\n",
       "  </thead>\n",
       "  <tbody>\n",
       "    <tr>\n",
       "      <th>0</th>\n",
       "      <td>Alabama</td>\n",
       "      <td>5.0</td>\n",
       "      <td>593.0</td>\n",
       "      <td>572.0</td>\n",
       "      <td>1165.0</td>\n",
       "    </tr>\n",
       "  </tbody>\n",
       "</table>\n",
       "</div>"
      ],
      "text/plain": [
       "     state  sat_participate_17  sat_evrw_17  sat_math_17  sat_total_17\n",
       "0  Alabama                 5.0        593.0        572.0        1165.0"
      ]
     },
     "execution_count": 26,
     "metadata": {},
     "output_type": "execute_result"
    }
   ],
   "source": [
    "# Rename sat2017_df headers.\n",
    "sat2017_df.rename(columns={\n",
    "    \"State\" : \"state\",\n",
    "    \"Participation\" : \"sat_participate_17\",\n",
    "    \"Evidence-Based Reading and Writing\" : \"sat_evrw_17\",\n",
    "    \"Math\" : \"sat_math_17\",\n",
    "    \"Total\" : \"sat_total_17\"\n",
    "}, inplace=True)\n",
    "sat2017_df.head(1) #Check updated headers."
   ]
  },
  {
   "cell_type": "code",
   "execution_count": 27,
   "metadata": {},
   "outputs": [
    {
     "data": {
      "text/html": [
       "<div>\n",
       "<style scoped>\n",
       "    .dataframe tbody tr th:only-of-type {\n",
       "        vertical-align: middle;\n",
       "    }\n",
       "\n",
       "    .dataframe tbody tr th {\n",
       "        vertical-align: top;\n",
       "    }\n",
       "\n",
       "    .dataframe thead th {\n",
       "        text-align: right;\n",
       "    }\n",
       "</style>\n",
       "<table border=\"1\" class=\"dataframe\">\n",
       "  <thead>\n",
       "    <tr style=\"text-align: right;\">\n",
       "      <th></th>\n",
       "      <th>state</th>\n",
       "      <th>act_participate_17</th>\n",
       "      <th>act_eng_17</th>\n",
       "      <th>act_math_17</th>\n",
       "      <th>act_rding_17</th>\n",
       "      <th>act_science_17</th>\n",
       "      <th>act_composite_17</th>\n",
       "    </tr>\n",
       "  </thead>\n",
       "  <tbody>\n",
       "    <tr>\n",
       "      <th>0</th>\n",
       "      <td>National</td>\n",
       "      <td>60.0</td>\n",
       "      <td>20.3</td>\n",
       "      <td>20.7</td>\n",
       "      <td>21.4</td>\n",
       "      <td>21.0</td>\n",
       "      <td>21.0</td>\n",
       "    </tr>\n",
       "  </tbody>\n",
       "</table>\n",
       "</div>"
      ],
      "text/plain": [
       "      state  act_participate_17  act_eng_17  act_math_17  act_rding_17  \\\n",
       "0  National                60.0        20.3         20.7          21.4   \n",
       "\n",
       "   act_science_17  act_composite_17  \n",
       "0            21.0              21.0  "
      ]
     },
     "execution_count": 27,
     "metadata": {},
     "output_type": "execute_result"
    }
   ],
   "source": [
    "# Rename act2017_df headers.\n",
    "act2017_df.rename(columns={\n",
    "    \"State\" : \"state\",\n",
    "    \"Participation\" : \"act_participate_17\",\n",
    "    \"English\" : \"act_eng_17\",\n",
    "    \"Math\" : \"act_math_17\",\n",
    "    \"Reading\" : \"act_rding_17\",\n",
    "    \"Science\" : \"act_science_17\",\n",
    "    \"Composite\" : \"act_composite_17\",\n",
    "}, inplace=True)\n",
    "act2017_df.head(1) #Check updated headers."
   ]
  },
  {
   "cell_type": "markdown",
   "metadata": {},
   "source": [
    "#### 8. Create a data dictionary\n",
    "\n",
    "Now that we've fixed our data, and given it appropriate names, let's create a [data dictionary](http://library.ucmerced.edu/node/10249). \n",
    "\n",
    "A data dictionary provides a quick overview of features/variables/columns, alongside data types and descriptions. The more descriptive you can be, the more useful this document is.\n",
    "\n",
    "Example of a Fictional Data Dictionary Entry: \n",
    "\n",
    "|Feature|Type|Dataset|Description|\n",
    "|---|---|---|---|\n",
    "|**county_pop**|*integer*|2010 census|The population of the county (units in thousands, where 2.5 represents 2500 people).| \n",
    "|**per_poverty**|*float*|2010 census|The percent of the county over the age of 18 living below the 200% of official US poverty rate (units percent to two decimal places 98.10 means 98.1%)|\n",
    "\n",
    "[Here's a quick link to a short guide for formatting markdown in Jupyter notebooks](https://jupyter-notebook.readthedocs.io/en/stable/examples/Notebook/Working%20With%20Markdown%20Cells.html).\n",
    "\n",
    "Provided is the skeleton for formatting a markdown table, with columns headers that will help you create a data dictionary to quickly summarize your data, as well as some examples. **This would be a great thing to copy and paste into your custom README for this project.**"
   ]
  },
  {
   "cell_type": "markdown",
   "metadata": {},
   "source": [
    "|Feature|Type|Dataset|Description|\n",
    "|---|---|---|---|\n",
    "|column name|int/float/object|ACT/SAT|This is an example| \n"
   ]
  },
  {
   "cell_type": "markdown",
   "metadata": {},
   "source": [
    "\n",
    "#### Data dictionary for SAT 2017 and ACT 2017 data frames\n",
    "\n",
    "The dataframes for SAT and ACT scores have been cleaned and standardised iaw. data dictionary summarised below. \n"
   ]
  },
  {
   "cell_type": "markdown",
   "metadata": {},
   "source": [
    "|Feature|Type|Dataset|Description|\n",
    "|----|----|----|----|\n",
    "|**state**|*object*|ACT/SAT|Name of one of 51 states in the U.S.|\n",
    "|**sat_participate_17**|*float*|SAT|Participation rate(%) for SAT 2017 (units percent to one decimal place, 1.0 means 1.0%)|\n",
    "|**act_participate_17**|*float*|ACT|Participation rate(%) for ACT 2017 (units percent to one decimal place, 1.0 means 1.0%)|\n",
    "||||For 'participate', the last 2 numbers denotes the year (e.g.17 means 2017 and so on)|\n",
    "|**sat_evrw_17**|*float*|SAT|Evidence-Based Reading and Writing (EBRW) SAT 2017 score|\n",
    "|**sat_math_17**|*float*|SAT|Math SAT 2017 score |\n",
    "|**sat_total_17**|*float*|SAT|Sum of EVRW and Math scores for SAT 2017|\n",
    "|**act_eng_17**|*float*|ACT|English ACT 2017 score|\n",
    "|**act_math_17**|*float*|ACT|Math ACT 2017 score|\n",
    "|**act_rding_17**|*float*|ACT|Reading ACT 2017 score|\n",
    "|**act_science_17**|*float*|ACT|Science ACT 2017 score|\n",
    "|**act_composite_17**|*float*|ACT|Average of English, Math, Reading and Science scores for ACT 2017|\n",
    "||||For all scores, last 2 numbers denotes respective score for the year (e.g.17 means 2017 and so on)|"
   ]
  },
  {
   "cell_type": "markdown",
   "metadata": {},
   "source": [
    "#### 9. Drop unnecessary rows\n",
    "\n",
    "One of our dataframes contains an extra row. Identify and remove this from the dataframe."
   ]
  },
  {
   "cell_type": "code",
   "execution_count": 28,
   "metadata": {},
   "outputs": [],
   "source": [
    "# The extra row was earlier identified to be the row with 'state' being 'National'.\n",
    "# Drop this row in the original dataframe.\n",
    "act2017_df.drop([0],inplace=True)"
   ]
  },
  {
   "cell_type": "code",
   "execution_count": 29,
   "metadata": {},
   "outputs": [
    {
     "data": {
      "text/html": [
       "<div>\n",
       "<style scoped>\n",
       "    .dataframe tbody tr th:only-of-type {\n",
       "        vertical-align: middle;\n",
       "    }\n",
       "\n",
       "    .dataframe tbody tr th {\n",
       "        vertical-align: top;\n",
       "    }\n",
       "\n",
       "    .dataframe thead th {\n",
       "        text-align: right;\n",
       "    }\n",
       "</style>\n",
       "<table border=\"1\" class=\"dataframe\">\n",
       "  <thead>\n",
       "    <tr style=\"text-align: right;\">\n",
       "      <th></th>\n",
       "      <th>state</th>\n",
       "      <th>act_participate_17</th>\n",
       "      <th>act_eng_17</th>\n",
       "      <th>act_math_17</th>\n",
       "      <th>act_rding_17</th>\n",
       "      <th>act_science_17</th>\n",
       "      <th>act_composite_17</th>\n",
       "    </tr>\n",
       "  </thead>\n",
       "  <tbody>\n",
       "    <tr>\n",
       "      <th>0</th>\n",
       "      <td>Alabama</td>\n",
       "      <td>100.0</td>\n",
       "      <td>18.9</td>\n",
       "      <td>18.4</td>\n",
       "      <td>19.7</td>\n",
       "      <td>19.4</td>\n",
       "      <td>19.2</td>\n",
       "    </tr>\n",
       "    <tr>\n",
       "      <th>1</th>\n",
       "      <td>Alaska</td>\n",
       "      <td>65.0</td>\n",
       "      <td>18.7</td>\n",
       "      <td>19.8</td>\n",
       "      <td>20.4</td>\n",
       "      <td>19.9</td>\n",
       "      <td>19.8</td>\n",
       "    </tr>\n",
       "  </tbody>\n",
       "</table>\n",
       "</div>"
      ],
      "text/plain": [
       "     state  act_participate_17  act_eng_17  act_math_17  act_rding_17  \\\n",
       "0  Alabama               100.0        18.9         18.4          19.7   \n",
       "1   Alaska                65.0        18.7         19.8          20.4   \n",
       "\n",
       "   act_science_17  act_composite_17  \n",
       "0            19.4              19.2  \n",
       "1            19.9              19.8  "
      ]
     },
     "execution_count": 29,
     "metadata": {},
     "output_type": "execute_result"
    }
   ],
   "source": [
    "# After dropping the row, reset the index to start from '0'.\n",
    "act2017_df = act2017_df.reset_index(drop=True)\n",
    "act2017_df.head(2) #Check correct row dropped and index."
   ]
  },
  {
   "cell_type": "markdown",
   "metadata": {},
   "source": [
    "#### 10. Merge Dataframes\n",
    "\n",
    "Join the 2017 ACT and SAT dataframes using the state in each dataframe as the key. Assign this to a new variable."
   ]
  },
  {
   "cell_type": "code",
   "execution_count": 30,
   "metadata": {},
   "outputs": [
    {
     "data": {
      "text/html": [
       "<div>\n",
       "<style scoped>\n",
       "    .dataframe tbody tr th:only-of-type {\n",
       "        vertical-align: middle;\n",
       "    }\n",
       "\n",
       "    .dataframe tbody tr th {\n",
       "        vertical-align: top;\n",
       "    }\n",
       "\n",
       "    .dataframe thead th {\n",
       "        text-align: right;\n",
       "    }\n",
       "</style>\n",
       "<table border=\"1\" class=\"dataframe\">\n",
       "  <thead>\n",
       "    <tr style=\"text-align: right;\">\n",
       "      <th></th>\n",
       "      <th>sat_participate_17</th>\n",
       "      <th>sat_evrw_17</th>\n",
       "      <th>sat_math_17</th>\n",
       "      <th>sat_total_17</th>\n",
       "      <th>act_participate_17</th>\n",
       "      <th>act_eng_17</th>\n",
       "      <th>act_math_17</th>\n",
       "      <th>act_rding_17</th>\n",
       "      <th>act_science_17</th>\n",
       "      <th>act_composite_17</th>\n",
       "    </tr>\n",
       "    <tr>\n",
       "      <th>state</th>\n",
       "      <th></th>\n",
       "      <th></th>\n",
       "      <th></th>\n",
       "      <th></th>\n",
       "      <th></th>\n",
       "      <th></th>\n",
       "      <th></th>\n",
       "      <th></th>\n",
       "      <th></th>\n",
       "      <th></th>\n",
       "    </tr>\n",
       "  </thead>\n",
       "  <tbody>\n",
       "    <tr>\n",
       "      <th>Alabama</th>\n",
       "      <td>5.0</td>\n",
       "      <td>593.0</td>\n",
       "      <td>572.0</td>\n",
       "      <td>1165.0</td>\n",
       "      <td>100.0</td>\n",
       "      <td>18.9</td>\n",
       "      <td>18.4</td>\n",
       "      <td>19.7</td>\n",
       "      <td>19.4</td>\n",
       "      <td>19.2</td>\n",
       "    </tr>\n",
       "    <tr>\n",
       "      <th>Alaska</th>\n",
       "      <td>38.0</td>\n",
       "      <td>547.0</td>\n",
       "      <td>533.0</td>\n",
       "      <td>1080.0</td>\n",
       "      <td>65.0</td>\n",
       "      <td>18.7</td>\n",
       "      <td>19.8</td>\n",
       "      <td>20.4</td>\n",
       "      <td>19.9</td>\n",
       "      <td>19.8</td>\n",
       "    </tr>\n",
       "  </tbody>\n",
       "</table>\n",
       "</div>"
      ],
      "text/plain": [
       "         sat_participate_17  sat_evrw_17  sat_math_17  sat_total_17  \\\n",
       "state                                                                 \n",
       "Alabama                 5.0        593.0        572.0        1165.0   \n",
       "Alaska                 38.0        547.0        533.0        1080.0   \n",
       "\n",
       "         act_participate_17  act_eng_17  act_math_17  act_rding_17  \\\n",
       "state                                                                \n",
       "Alabama               100.0        18.9         18.4          19.7   \n",
       "Alaska                 65.0        18.7         19.8          20.4   \n",
       "\n",
       "         act_science_17  act_composite_17  \n",
       "state                                      \n",
       "Alabama            19.4              19.2  \n",
       "Alaska             19.9              19.8  "
      ]
     },
     "execution_count": 30,
     "metadata": {},
     "output_type": "execute_result"
    }
   ],
   "source": [
    "# Join act2017_df and sat2017_df on 'state' column as key.\n",
    "# Assign merged dataframe to variable 'combined17_df'. \n",
    "\n",
    "combined17_df = sat2017_df.set_index(keys='state').join(act2017_df.set_index('state'))\n",
    "combined17_df.head(2)"
   ]
  },
  {
   "cell_type": "markdown",
   "metadata": {},
   "source": [
    "#### 11. Save your cleaned, merged dataframe\n",
    "\n",
    "Use a relative path to save out your data as `combined_2017.csv`."
   ]
  },
  {
   "cell_type": "code",
   "execution_count": 31,
   "metadata": {},
   "outputs": [],
   "source": [
    "# Export cleaned, merged dataframe to a csv file.\n",
    "combined17_df.to_csv('../data/combined_2017.csv')"
   ]
  },
  {
   "cell_type": "markdown",
   "metadata": {},
   "source": [
    "## 2018 Data Import and Cleaning"
   ]
  },
  {
   "cell_type": "markdown",
   "metadata": {},
   "source": [
    "Links to the 2018 ACT and SAT data are provided in the README. These data live in PDFs, and so you'll get to enjoy practicing some *manual* data collection. Save these data as a CSV in your `data` directory, and import, explore, and clean these data in the same way you did above. **Make sure you comment on your steps so it is clear *why* you are doing each process**."
   ]
  },
  {
   "cell_type": "code",
   "execution_count": 32,
   "metadata": {},
   "outputs": [],
   "source": [
    "# Read .csv files as pandas dataframes. \n",
    "sat2018_df = pd.read_csv('../data/sat_2018.csv')\n",
    "act2018_df = pd.read_csv('../data/act_2018_updated.csv')"
   ]
  },
  {
   "cell_type": "code",
   "execution_count": 33,
   "metadata": {},
   "outputs": [
    {
     "name": "stdout",
     "output_type": "stream",
     "text": [
      "     State Participation  Evidence-Based Reading and Writing  Math  Total\n",
      "0  Alabama            6%                                 595   571   1166\n",
      "1   Alaska           43%                                 562   544   1106\n",
      "2  Arizona           29%                                 577   572   1149\n"
     ]
    }
   ],
   "source": [
    "# Display first 3 rows of sat2018_df.\n",
    "print(sat2018_df.head(3))"
   ]
  },
  {
   "cell_type": "code",
   "execution_count": 34,
   "metadata": {},
   "outputs": [
    {
     "name": "stdout",
     "output_type": "stream",
     "text": [
      "     State  Percentage of Students Tested  Average Composite Score  \\\n",
      "0  Alabama                            100                     19.1   \n",
      "1   Alaska                             33                     20.8   \n",
      "2  Arizona                             66                     19.2   \n",
      "\n",
      "   Average English Score  Average Math Score  Average Reading Score  \\\n",
      "0                   18.9                18.3                   19.6   \n",
      "1                   19.8                20.6                   21.6   \n",
      "2                   18.2                19.4                   19.5   \n",
      "\n",
      "   Average Science Score  \n",
      "0                   19.0  \n",
      "1                   20.7  \n",
      "2                   19.2  \n"
     ]
    }
   ],
   "source": [
    "# Display first 3 rows of act2018_df.\n",
    "print(act2018_df.head(3))"
   ]
  },
  {
   "cell_type": "code",
   "execution_count": 35,
   "metadata": {},
   "outputs": [
    {
     "name": "stdout",
     "output_type": "stream",
     "text": [
      "(51, 5)\n",
      "(51, 7)\n"
     ]
    }
   ],
   "source": [
    "# Number of rows and columns in sat2018_df and act2018_df.\n",
    "print(sat2018_df.shape)\n",
    "print(act2018_df.shape)"
   ]
  },
  {
   "cell_type": "code",
   "execution_count": 36,
   "metadata": {},
   "outputs": [
    {
     "name": "stdout",
     "output_type": "stream",
     "text": [
      "<class 'pandas.core.frame.DataFrame'>\n",
      "RangeIndex: 51 entries, 0 to 50\n",
      "Data columns (total 5 columns):\n",
      " #   Column                              Non-Null Count  Dtype \n",
      "---  ------                              --------------  ----- \n",
      " 0   State                               51 non-null     object\n",
      " 1   Participation                       51 non-null     object\n",
      " 2   Evidence-Based Reading and Writing  51 non-null     int64 \n",
      " 3   Math                                51 non-null     int64 \n",
      " 4   Total                               51 non-null     int64 \n",
      "dtypes: int64(3), object(2)\n",
      "memory usage: 2.1+ KB\n"
     ]
    }
   ],
   "source": [
    "# Use .info() to review datatypes of the cell values of sat2018_df.\n",
    "sat2018_df.info()"
   ]
  },
  {
   "cell_type": "code",
   "execution_count": 37,
   "metadata": {},
   "outputs": [
    {
     "name": "stdout",
     "output_type": "stream",
     "text": [
      "<class 'pandas.core.frame.DataFrame'>\n",
      "RangeIndex: 51 entries, 0 to 50\n",
      "Data columns (total 7 columns):\n",
      " #   Column                         Non-Null Count  Dtype  \n",
      "---  ------                         --------------  -----  \n",
      " 0   State                          51 non-null     object \n",
      " 1   Percentage of Students Tested  51 non-null     int64  \n",
      " 2   Average Composite Score        51 non-null     float64\n",
      " 3   Average English Score          51 non-null     float64\n",
      " 4   Average Math Score             51 non-null     float64\n",
      " 5   Average Reading Score          51 non-null     float64\n",
      " 6   Average Science Score          51 non-null     float64\n",
      "dtypes: float64(5), int64(1), object(1)\n",
      "memory usage: 2.9+ KB\n"
     ]
    }
   ],
   "source": [
    "# Use .info() to review datatypes of the cell values of act2017_df.\n",
    "act2018_df.info()"
   ]
  },
  {
   "cell_type": "code",
   "execution_count": 38,
   "metadata": {},
   "outputs": [
    {
     "data": {
      "text/html": [
       "<div>\n",
       "<style scoped>\n",
       "    .dataframe tbody tr th:only-of-type {\n",
       "        vertical-align: middle;\n",
       "    }\n",
       "\n",
       "    .dataframe tbody tr th {\n",
       "        vertical-align: top;\n",
       "    }\n",
       "\n",
       "    .dataframe thead th {\n",
       "        text-align: right;\n",
       "    }\n",
       "</style>\n",
       "<table border=\"1\" class=\"dataframe\">\n",
       "  <thead>\n",
       "    <tr style=\"text-align: right;\">\n",
       "      <th></th>\n",
       "      <th>Evidence-Based Reading and Writing</th>\n",
       "      <th>Math</th>\n",
       "      <th>Total</th>\n",
       "    </tr>\n",
       "  </thead>\n",
       "  <tbody>\n",
       "    <tr>\n",
       "      <th>min</th>\n",
       "      <td>480</td>\n",
       "      <td>480</td>\n",
       "      <td>977</td>\n",
       "    </tr>\n",
       "    <tr>\n",
       "      <th>max</th>\n",
       "      <td>643</td>\n",
       "      <td>655</td>\n",
       "      <td>1298</td>\n",
       "    </tr>\n",
       "  </tbody>\n",
       "</table>\n",
       "</div>"
      ],
      "text/plain": [
       "     Evidence-Based Reading and Writing  Math  Total\n",
       "min                                 480   480    977\n",
       "max                                 643   655   1298"
      ]
     },
     "execution_count": 38,
     "metadata": {},
     "output_type": "execute_result"
    }
   ],
   "source": [
    "# Aggregate function to return min, max of the tests for sat2018.\n",
    "sat2018_df[['Evidence-Based Reading and Writing', 'Math', 'Total']].agg(['min', 'max'])"
   ]
  },
  {
   "cell_type": "code",
   "execution_count": 39,
   "metadata": {},
   "outputs": [
    {
     "data": {
      "text/html": [
       "<div>\n",
       "<style scoped>\n",
       "    .dataframe tbody tr th:only-of-type {\n",
       "        vertical-align: middle;\n",
       "    }\n",
       "\n",
       "    .dataframe tbody tr th {\n",
       "        vertical-align: top;\n",
       "    }\n",
       "\n",
       "    .dataframe thead th {\n",
       "        text-align: right;\n",
       "    }\n",
       "</style>\n",
       "<table border=\"1\" class=\"dataframe\">\n",
       "  <thead>\n",
       "    <tr style=\"text-align: right;\">\n",
       "      <th></th>\n",
       "      <th>Average English Score</th>\n",
       "      <th>Average Math Score</th>\n",
       "      <th>Average Reading Score</th>\n",
       "      <th>Average Science Score</th>\n",
       "    </tr>\n",
       "  </thead>\n",
       "  <tbody>\n",
       "    <tr>\n",
       "      <th>min</th>\n",
       "      <td>16.6</td>\n",
       "      <td>17.8</td>\n",
       "      <td>18.0</td>\n",
       "      <td>17.9</td>\n",
       "    </tr>\n",
       "    <tr>\n",
       "      <th>max</th>\n",
       "      <td>26.0</td>\n",
       "      <td>25.2</td>\n",
       "      <td>26.1</td>\n",
       "      <td>24.9</td>\n",
       "    </tr>\n",
       "  </tbody>\n",
       "</table>\n",
       "</div>"
      ],
      "text/plain": [
       "     Average English Score  Average Math Score  Average Reading Score  \\\n",
       "min                   16.6                17.8                   18.0   \n",
       "max                   26.0                25.2                   26.1   \n",
       "\n",
       "     Average Science Score  \n",
       "min                   17.9  \n",
       "max                   24.9  "
      ]
     },
     "execution_count": 39,
     "metadata": {},
     "output_type": "execute_result"
    }
   ],
   "source": [
    "# Aggregate function to return min, max of the tests for act2018.\n",
    "act2018_df[['Average English Score', 'Average Math Score', 'Average Reading Score',\\\n",
    "            'Average Science Score']].agg(['min', 'max'])"
   ]
  },
  {
   "cell_type": "markdown",
   "metadata": {},
   "source": [
    "**Answer:** \n",
    "The data for SAT 2018 and ACT 2018 is generally complete as there is no null values. The rows are also consistent.\\\n",
    "Comparing datatypes for 2018 dataset to 2017 dataset, the following steps is necessary if we are to merge them later on.\\\n",
    "i) Remove % sign from 'Participation' values for sat2018_df;\\\n",
    "ii) Convert all numeric values to float;\\\n",
    "iii) Header names of act2018 dataframe be updated."
   ]
  },
  {
   "cell_type": "code",
   "execution_count": 40,
   "metadata": {},
   "outputs": [
    {
     "data": {
      "text/html": [
       "<div>\n",
       "<style scoped>\n",
       "    .dataframe tbody tr th:only-of-type {\n",
       "        vertical-align: middle;\n",
       "    }\n",
       "\n",
       "    .dataframe tbody tr th {\n",
       "        vertical-align: top;\n",
       "    }\n",
       "\n",
       "    .dataframe thead th {\n",
       "        text-align: right;\n",
       "    }\n",
       "</style>\n",
       "<table border=\"1\" class=\"dataframe\">\n",
       "  <thead>\n",
       "    <tr style=\"text-align: right;\">\n",
       "      <th></th>\n",
       "      <th>State</th>\n",
       "      <th>Participation</th>\n",
       "      <th>Evidence-Based Reading and Writing</th>\n",
       "      <th>Math</th>\n",
       "      <th>Total</th>\n",
       "    </tr>\n",
       "  </thead>\n",
       "  <tbody>\n",
       "    <tr>\n",
       "      <th>0</th>\n",
       "      <td>Alabama</td>\n",
       "      <td>6.0</td>\n",
       "      <td>595</td>\n",
       "      <td>571</td>\n",
       "      <td>1166</td>\n",
       "    </tr>\n",
       "    <tr>\n",
       "      <th>1</th>\n",
       "      <td>Alaska</td>\n",
       "      <td>43.0</td>\n",
       "      <td>562</td>\n",
       "      <td>544</td>\n",
       "      <td>1106</td>\n",
       "    </tr>\n",
       "  </tbody>\n",
       "</table>\n",
       "</div>"
      ],
      "text/plain": [
       "     State  Participation  Evidence-Based Reading and Writing  Math  Total\n",
       "0  Alabama            6.0                                 595   571   1166\n",
       "1   Alaska           43.0                                 562   544   1106"
      ]
     },
     "execution_count": 40,
     "metadata": {},
     "output_type": "execute_result"
    }
   ],
   "source": [
    "# Remove the '%' from cells in 'Particiaption' column and\\\n",
    "# convert to float (except 'State' column) for sat2018_df.\n",
    "sat2018_df['Participation'] = drop_convert(sat2018_df['Participation'])\n",
    "sat2018_df.head(2)"
   ]
  },
  {
   "cell_type": "code",
   "execution_count": 41,
   "metadata": {},
   "outputs": [
    {
     "data": {
      "text/html": [
       "<div>\n",
       "<style scoped>\n",
       "    .dataframe tbody tr th:only-of-type {\n",
       "        vertical-align: middle;\n",
       "    }\n",
       "\n",
       "    .dataframe tbody tr th {\n",
       "        vertical-align: top;\n",
       "    }\n",
       "\n",
       "    .dataframe thead th {\n",
       "        text-align: right;\n",
       "    }\n",
       "</style>\n",
       "<table border=\"1\" class=\"dataframe\">\n",
       "  <thead>\n",
       "    <tr style=\"text-align: right;\">\n",
       "      <th></th>\n",
       "      <th>State</th>\n",
       "      <th>Participation</th>\n",
       "      <th>Evidence-Based Reading and Writing</th>\n",
       "      <th>Math</th>\n",
       "      <th>Total</th>\n",
       "    </tr>\n",
       "  </thead>\n",
       "  <tbody>\n",
       "    <tr>\n",
       "      <th>0</th>\n",
       "      <td>Alabama</td>\n",
       "      <td>6.0</td>\n",
       "      <td>595.0</td>\n",
       "      <td>571.0</td>\n",
       "      <td>1166.0</td>\n",
       "    </tr>\n",
       "    <tr>\n",
       "      <th>1</th>\n",
       "      <td>Alaska</td>\n",
       "      <td>43.0</td>\n",
       "      <td>562.0</td>\n",
       "      <td>544.0</td>\n",
       "      <td>1106.0</td>\n",
       "    </tr>\n",
       "  </tbody>\n",
       "</table>\n",
       "</div>"
      ],
      "text/plain": [
       "     State  Participation  Evidence-Based Reading and Writing   Math   Total\n",
       "0  Alabama            6.0                               595.0  571.0  1166.0\n",
       "1   Alaska           43.0                               562.0  544.0  1106.0"
      ]
     },
     "execution_count": 41,
     "metadata": {},
     "output_type": "execute_result"
    }
   ],
   "source": [
    "# Convert sat2018_df cell value datatype to float (except 'State' column).\n",
    "sat2018_df = convert_float(sat2018_df)\n",
    "sat2018_df.head(2)"
   ]
  },
  {
   "cell_type": "code",
   "execution_count": 42,
   "metadata": {},
   "outputs": [
    {
     "data": {
      "text/html": [
       "<div>\n",
       "<style scoped>\n",
       "    .dataframe tbody tr th:only-of-type {\n",
       "        vertical-align: middle;\n",
       "    }\n",
       "\n",
       "    .dataframe tbody tr th {\n",
       "        vertical-align: top;\n",
       "    }\n",
       "\n",
       "    .dataframe thead th {\n",
       "        text-align: right;\n",
       "    }\n",
       "</style>\n",
       "<table border=\"1\" class=\"dataframe\">\n",
       "  <thead>\n",
       "    <tr style=\"text-align: right;\">\n",
       "      <th></th>\n",
       "      <th>State</th>\n",
       "      <th>Percentage of Students Tested</th>\n",
       "      <th>Average Composite Score</th>\n",
       "      <th>Average English Score</th>\n",
       "      <th>Average Math Score</th>\n",
       "      <th>Average Reading Score</th>\n",
       "      <th>Average Science Score</th>\n",
       "    </tr>\n",
       "  </thead>\n",
       "  <tbody>\n",
       "    <tr>\n",
       "      <th>0</th>\n",
       "      <td>Alabama</td>\n",
       "      <td>100.0</td>\n",
       "      <td>19.1</td>\n",
       "      <td>18.9</td>\n",
       "      <td>18.3</td>\n",
       "      <td>19.6</td>\n",
       "      <td>19.0</td>\n",
       "    </tr>\n",
       "    <tr>\n",
       "      <th>1</th>\n",
       "      <td>Alaska</td>\n",
       "      <td>33.0</td>\n",
       "      <td>20.8</td>\n",
       "      <td>19.8</td>\n",
       "      <td>20.6</td>\n",
       "      <td>21.6</td>\n",
       "      <td>20.7</td>\n",
       "    </tr>\n",
       "  </tbody>\n",
       "</table>\n",
       "</div>"
      ],
      "text/plain": [
       "     State  Percentage of Students Tested  Average Composite Score  \\\n",
       "0  Alabama                          100.0                     19.1   \n",
       "1   Alaska                           33.0                     20.8   \n",
       "\n",
       "   Average English Score  Average Math Score  Average Reading Score  \\\n",
       "0                   18.9                18.3                   19.6   \n",
       "1                   19.8                20.6                   21.6   \n",
       "\n",
       "   Average Science Score  \n",
       "0                   19.0  \n",
       "1                   20.7  "
      ]
     },
     "execution_count": 42,
     "metadata": {},
     "output_type": "execute_result"
    }
   ],
   "source": [
    "# Convert act2018_df cell value datatype to float (except 'State' column).\n",
    "act2018_df = convert_float(act2018_df)\n",
    "act2018_df.head(2)"
   ]
  },
  {
   "cell_type": "code",
   "execution_count": 43,
   "metadata": {},
   "outputs": [
    {
     "name": "stdout",
     "output_type": "stream",
     "text": [
      "<class 'pandas.core.frame.DataFrame'>\n",
      "RangeIndex: 51 entries, 0 to 50\n",
      "Data columns (total 5 columns):\n",
      " #   Column                              Non-Null Count  Dtype  \n",
      "---  ------                              --------------  -----  \n",
      " 0   State                               51 non-null     object \n",
      " 1   Participation                       51 non-null     float64\n",
      " 2   Evidence-Based Reading and Writing  51 non-null     float64\n",
      " 3   Math                                51 non-null     float64\n",
      " 4   Total                               51 non-null     float64\n",
      "dtypes: float64(4), object(1)\n",
      "memory usage: 2.1+ KB\n"
     ]
    }
   ],
   "source": [
    "# Check correct datatypes implemented for both dataframes.\n",
    "sat2018_df.info()"
   ]
  },
  {
   "cell_type": "code",
   "execution_count": 44,
   "metadata": {},
   "outputs": [
    {
     "name": "stdout",
     "output_type": "stream",
     "text": [
      "<class 'pandas.core.frame.DataFrame'>\n",
      "RangeIndex: 51 entries, 0 to 50\n",
      "Data columns (total 7 columns):\n",
      " #   Column                         Non-Null Count  Dtype  \n",
      "---  ------                         --------------  -----  \n",
      " 0   State                          51 non-null     object \n",
      " 1   Percentage of Students Tested  51 non-null     float64\n",
      " 2   Average Composite Score        51 non-null     float64\n",
      " 3   Average English Score          51 non-null     float64\n",
      " 4   Average Math Score             51 non-null     float64\n",
      " 5   Average Reading Score          51 non-null     float64\n",
      " 6   Average Science Score          51 non-null     float64\n",
      "dtypes: float64(6), object(1)\n",
      "memory usage: 2.9+ KB\n"
     ]
    }
   ],
   "source": [
    "act2018_df.info()"
   ]
  },
  {
   "cell_type": "code",
   "execution_count": 45,
   "metadata": {},
   "outputs": [
    {
     "data": {
      "text/html": [
       "<div>\n",
       "<style scoped>\n",
       "    .dataframe tbody tr th:only-of-type {\n",
       "        vertical-align: middle;\n",
       "    }\n",
       "\n",
       "    .dataframe tbody tr th {\n",
       "        vertical-align: top;\n",
       "    }\n",
       "\n",
       "    .dataframe thead th {\n",
       "        text-align: right;\n",
       "    }\n",
       "</style>\n",
       "<table border=\"1\" class=\"dataframe\">\n",
       "  <thead>\n",
       "    <tr style=\"text-align: right;\">\n",
       "      <th></th>\n",
       "      <th>state</th>\n",
       "      <th>sat_participate_18</th>\n",
       "      <th>sat_evrw_18</th>\n",
       "      <th>sat_math_18</th>\n",
       "      <th>sat_total_18</th>\n",
       "    </tr>\n",
       "  </thead>\n",
       "  <tbody>\n",
       "    <tr>\n",
       "      <th>0</th>\n",
       "      <td>Alabama</td>\n",
       "      <td>6.0</td>\n",
       "      <td>595.0</td>\n",
       "      <td>571.0</td>\n",
       "      <td>1166.0</td>\n",
       "    </tr>\n",
       "  </tbody>\n",
       "</table>\n",
       "</div>"
      ],
      "text/plain": [
       "     state  sat_participate_18  sat_evrw_18  sat_math_18  sat_total_18\n",
       "0  Alabama                 6.0        595.0        571.0        1166.0"
      ]
     },
     "execution_count": 45,
     "metadata": {},
     "output_type": "execute_result"
    }
   ],
   "source": [
    "# Rename sat2018_df headers.\n",
    "sat2018_df.rename(columns={\n",
    "    \"State\" : \"state\",\n",
    "    \"Participation\" : \"sat_participate_18\",\n",
    "    \"Evidence-Based Reading and Writing\" : \"sat_evrw_18\",\n",
    "    \"Math\" : \"sat_math_18\",\n",
    "    \"Total\" : \"sat_total_18\"\n",
    "}, inplace=True)\n",
    "sat2018_df.head(1) #check updated headers"
   ]
  },
  {
   "cell_type": "code",
   "execution_count": 46,
   "metadata": {},
   "outputs": [
    {
     "data": {
      "text/html": [
       "<div>\n",
       "<style scoped>\n",
       "    .dataframe tbody tr th:only-of-type {\n",
       "        vertical-align: middle;\n",
       "    }\n",
       "\n",
       "    .dataframe tbody tr th {\n",
       "        vertical-align: top;\n",
       "    }\n",
       "\n",
       "    .dataframe thead th {\n",
       "        text-align: right;\n",
       "    }\n",
       "</style>\n",
       "<table border=\"1\" class=\"dataframe\">\n",
       "  <thead>\n",
       "    <tr style=\"text-align: right;\">\n",
       "      <th></th>\n",
       "      <th>state</th>\n",
       "      <th>act_participate_18</th>\n",
       "      <th>act_composite_18</th>\n",
       "      <th>act_eng_18</th>\n",
       "      <th>act_math_18</th>\n",
       "      <th>act_rding_18</th>\n",
       "      <th>act_science_18</th>\n",
       "    </tr>\n",
       "  </thead>\n",
       "  <tbody>\n",
       "    <tr>\n",
       "      <th>0</th>\n",
       "      <td>Alabama</td>\n",
       "      <td>100.0</td>\n",
       "      <td>19.1</td>\n",
       "      <td>18.9</td>\n",
       "      <td>18.3</td>\n",
       "      <td>19.6</td>\n",
       "      <td>19.0</td>\n",
       "    </tr>\n",
       "  </tbody>\n",
       "</table>\n",
       "</div>"
      ],
      "text/plain": [
       "     state  act_participate_18  act_composite_18  act_eng_18  act_math_18  \\\n",
       "0  Alabama               100.0              19.1        18.9         18.3   \n",
       "\n",
       "   act_rding_18  act_science_18  \n",
       "0          19.6            19.0  "
      ]
     },
     "execution_count": 46,
     "metadata": {},
     "output_type": "execute_result"
    }
   ],
   "source": [
    "# Rename act2018_df headers.\n",
    "act2018_df.rename(columns={\n",
    "    \"State\" : \"state\",\n",
    "    \"Percentage of Students Tested\" : \"act_participate_18\",\n",
    "    \"Average English Score\" : \"act_eng_18\",\n",
    "    \"Average Math Score\" : \"act_math_18\",\n",
    "    \"Average Reading Score\" : \"act_rding_18\",\n",
    "    \"Average Science Score\" : \"act_science_18\",\n",
    "    \"Average Composite Score\" : \"act_composite_18\",\n",
    "}, inplace=True)\n",
    "act2018_df.head(1) #Check updated headers"
   ]
  },
  {
   "cell_type": "code",
   "execution_count": 47,
   "metadata": {},
   "outputs": [
    {
     "data": {
      "text/html": [
       "<div>\n",
       "<style scoped>\n",
       "    .dataframe tbody tr th:only-of-type {\n",
       "        vertical-align: middle;\n",
       "    }\n",
       "\n",
       "    .dataframe tbody tr th {\n",
       "        vertical-align: top;\n",
       "    }\n",
       "\n",
       "    .dataframe thead th {\n",
       "        text-align: right;\n",
       "    }\n",
       "</style>\n",
       "<table border=\"1\" class=\"dataframe\">\n",
       "  <thead>\n",
       "    <tr style=\"text-align: right;\">\n",
       "      <th></th>\n",
       "      <th>sat_participate_18</th>\n",
       "      <th>sat_evrw_18</th>\n",
       "      <th>sat_math_18</th>\n",
       "      <th>sat_total_18</th>\n",
       "      <th>act_participate_18</th>\n",
       "      <th>act_composite_18</th>\n",
       "      <th>act_eng_18</th>\n",
       "      <th>act_math_18</th>\n",
       "      <th>act_rding_18</th>\n",
       "      <th>act_science_18</th>\n",
       "    </tr>\n",
       "    <tr>\n",
       "      <th>state</th>\n",
       "      <th></th>\n",
       "      <th></th>\n",
       "      <th></th>\n",
       "      <th></th>\n",
       "      <th></th>\n",
       "      <th></th>\n",
       "      <th></th>\n",
       "      <th></th>\n",
       "      <th></th>\n",
       "      <th></th>\n",
       "    </tr>\n",
       "  </thead>\n",
       "  <tbody>\n",
       "    <tr>\n",
       "      <th>Alabama</th>\n",
       "      <td>6.0</td>\n",
       "      <td>595.0</td>\n",
       "      <td>571.0</td>\n",
       "      <td>1166.0</td>\n",
       "      <td>100.0</td>\n",
       "      <td>19.1</td>\n",
       "      <td>18.9</td>\n",
       "      <td>18.3</td>\n",
       "      <td>19.6</td>\n",
       "      <td>19.0</td>\n",
       "    </tr>\n",
       "    <tr>\n",
       "      <th>Alaska</th>\n",
       "      <td>43.0</td>\n",
       "      <td>562.0</td>\n",
       "      <td>544.0</td>\n",
       "      <td>1106.0</td>\n",
       "      <td>33.0</td>\n",
       "      <td>20.8</td>\n",
       "      <td>19.8</td>\n",
       "      <td>20.6</td>\n",
       "      <td>21.6</td>\n",
       "      <td>20.7</td>\n",
       "    </tr>\n",
       "  </tbody>\n",
       "</table>\n",
       "</div>"
      ],
      "text/plain": [
       "         sat_participate_18  sat_evrw_18  sat_math_18  sat_total_18  \\\n",
       "state                                                                 \n",
       "Alabama                 6.0        595.0        571.0        1166.0   \n",
       "Alaska                 43.0        562.0        544.0        1106.0   \n",
       "\n",
       "         act_participate_18  act_composite_18  act_eng_18  act_math_18  \\\n",
       "state                                                                    \n",
       "Alabama               100.0              19.1        18.9         18.3   \n",
       "Alaska                 33.0              20.8        19.8         20.6   \n",
       "\n",
       "         act_rding_18  act_science_18  \n",
       "state                                  \n",
       "Alabama          19.6            19.0  \n",
       "Alaska           21.6            20.7  "
      ]
     },
     "execution_count": 47,
     "metadata": {},
     "output_type": "execute_result"
    }
   ],
   "source": [
    "# Merge sat2018_df and act2018_df on 'state' column as key.\n",
    "# Assign merged dataframe to variable 'combined18_df'.\n",
    "combined18_df = sat2018_df.set_index(keys='state').join(act2018_df.set_index('state'))\n",
    "combined18_df.head(2)"
   ]
  },
  {
   "cell_type": "markdown",
   "metadata": {},
   "source": [
    "#### Combine your 2017 and 2018 data into a single dataframe\n",
    "Joining on state names should work, assuming you formatted all your state names identically. Make sure none of your columns (other than state) have identical names. Do yourself a favor and decide if you're encoding participation rates as floats or integers and standardize this across your datasets.\n",
    "\n",
    "Save the contents of this merged dataframe as `final.csv`.\n",
    "\n",
    "**Use this combined dataframe for the remainder of the project**."
   ]
  },
  {
   "cell_type": "code",
   "execution_count": 48,
   "metadata": {},
   "outputs": [
    {
     "data": {
      "text/html": [
       "<div>\n",
       "<style scoped>\n",
       "    .dataframe tbody tr th:only-of-type {\n",
       "        vertical-align: middle;\n",
       "    }\n",
       "\n",
       "    .dataframe tbody tr th {\n",
       "        vertical-align: top;\n",
       "    }\n",
       "\n",
       "    .dataframe thead th {\n",
       "        text-align: right;\n",
       "    }\n",
       "</style>\n",
       "<table border=\"1\" class=\"dataframe\">\n",
       "  <thead>\n",
       "    <tr style=\"text-align: right;\">\n",
       "      <th></th>\n",
       "      <th>sat_participate_17</th>\n",
       "      <th>sat_evrw_17</th>\n",
       "      <th>sat_math_17</th>\n",
       "      <th>sat_total_17</th>\n",
       "      <th>act_participate_17</th>\n",
       "      <th>act_eng_17</th>\n",
       "      <th>act_math_17</th>\n",
       "      <th>act_rding_17</th>\n",
       "      <th>act_science_17</th>\n",
       "      <th>act_composite_17</th>\n",
       "    </tr>\n",
       "    <tr>\n",
       "      <th>state</th>\n",
       "      <th></th>\n",
       "      <th></th>\n",
       "      <th></th>\n",
       "      <th></th>\n",
       "      <th></th>\n",
       "      <th></th>\n",
       "      <th></th>\n",
       "      <th></th>\n",
       "      <th></th>\n",
       "      <th></th>\n",
       "    </tr>\n",
       "  </thead>\n",
       "  <tbody>\n",
       "    <tr>\n",
       "      <th>Alabama</th>\n",
       "      <td>5.0</td>\n",
       "      <td>593.0</td>\n",
       "      <td>572.0</td>\n",
       "      <td>1165.0</td>\n",
       "      <td>100.0</td>\n",
       "      <td>18.9</td>\n",
       "      <td>18.4</td>\n",
       "      <td>19.7</td>\n",
       "      <td>19.4</td>\n",
       "      <td>19.2</td>\n",
       "    </tr>\n",
       "    <tr>\n",
       "      <th>Alaska</th>\n",
       "      <td>38.0</td>\n",
       "      <td>547.0</td>\n",
       "      <td>533.0</td>\n",
       "      <td>1080.0</td>\n",
       "      <td>65.0</td>\n",
       "      <td>18.7</td>\n",
       "      <td>19.8</td>\n",
       "      <td>20.4</td>\n",
       "      <td>19.9</td>\n",
       "      <td>19.8</td>\n",
       "    </tr>\n",
       "  </tbody>\n",
       "</table>\n",
       "</div>"
      ],
      "text/plain": [
       "         sat_participate_17  sat_evrw_17  sat_math_17  sat_total_17  \\\n",
       "state                                                                 \n",
       "Alabama                 5.0        593.0        572.0        1165.0   \n",
       "Alaska                 38.0        547.0        533.0        1080.0   \n",
       "\n",
       "         act_participate_17  act_eng_17  act_math_17  act_rding_17  \\\n",
       "state                                                                \n",
       "Alabama               100.0        18.9         18.4          19.7   \n",
       "Alaska                 65.0        18.7         19.8          20.4   \n",
       "\n",
       "         act_science_17  act_composite_17  \n",
       "state                                      \n",
       "Alabama            19.4              19.2  \n",
       "Alaska             19.9              19.8  "
      ]
     },
     "execution_count": 48,
     "metadata": {},
     "output_type": "execute_result"
    }
   ],
   "source": [
    "# Overview of combined17_df. Call up first 2 rows for brevity.\n",
    "combined17_df.head(2)"
   ]
  },
  {
   "cell_type": "code",
   "execution_count": 49,
   "metadata": {},
   "outputs": [
    {
     "data": {
      "text/html": [
       "<div>\n",
       "<style scoped>\n",
       "    .dataframe tbody tr th:only-of-type {\n",
       "        vertical-align: middle;\n",
       "    }\n",
       "\n",
       "    .dataframe tbody tr th {\n",
       "        vertical-align: top;\n",
       "    }\n",
       "\n",
       "    .dataframe thead th {\n",
       "        text-align: right;\n",
       "    }\n",
       "</style>\n",
       "<table border=\"1\" class=\"dataframe\">\n",
       "  <thead>\n",
       "    <tr style=\"text-align: right;\">\n",
       "      <th></th>\n",
       "      <th>sat_participate_18</th>\n",
       "      <th>sat_evrw_18</th>\n",
       "      <th>sat_math_18</th>\n",
       "      <th>sat_total_18</th>\n",
       "      <th>act_participate_18</th>\n",
       "      <th>act_composite_18</th>\n",
       "      <th>act_eng_18</th>\n",
       "      <th>act_math_18</th>\n",
       "      <th>act_rding_18</th>\n",
       "      <th>act_science_18</th>\n",
       "    </tr>\n",
       "    <tr>\n",
       "      <th>state</th>\n",
       "      <th></th>\n",
       "      <th></th>\n",
       "      <th></th>\n",
       "      <th></th>\n",
       "      <th></th>\n",
       "      <th></th>\n",
       "      <th></th>\n",
       "      <th></th>\n",
       "      <th></th>\n",
       "      <th></th>\n",
       "    </tr>\n",
       "  </thead>\n",
       "  <tbody>\n",
       "    <tr>\n",
       "      <th>Alabama</th>\n",
       "      <td>6.0</td>\n",
       "      <td>595.0</td>\n",
       "      <td>571.0</td>\n",
       "      <td>1166.0</td>\n",
       "      <td>100.0</td>\n",
       "      <td>19.1</td>\n",
       "      <td>18.9</td>\n",
       "      <td>18.3</td>\n",
       "      <td>19.6</td>\n",
       "      <td>19.0</td>\n",
       "    </tr>\n",
       "    <tr>\n",
       "      <th>Alaska</th>\n",
       "      <td>43.0</td>\n",
       "      <td>562.0</td>\n",
       "      <td>544.0</td>\n",
       "      <td>1106.0</td>\n",
       "      <td>33.0</td>\n",
       "      <td>20.8</td>\n",
       "      <td>19.8</td>\n",
       "      <td>20.6</td>\n",
       "      <td>21.6</td>\n",
       "      <td>20.7</td>\n",
       "    </tr>\n",
       "  </tbody>\n",
       "</table>\n",
       "</div>"
      ],
      "text/plain": [
       "         sat_participate_18  sat_evrw_18  sat_math_18  sat_total_18  \\\n",
       "state                                                                 \n",
       "Alabama                 6.0        595.0        571.0        1166.0   \n",
       "Alaska                 43.0        562.0        544.0        1106.0   \n",
       "\n",
       "         act_participate_18  act_composite_18  act_eng_18  act_math_18  \\\n",
       "state                                                                    \n",
       "Alabama               100.0              19.1        18.9         18.3   \n",
       "Alaska                 33.0              20.8        19.8         20.6   \n",
       "\n",
       "         act_rding_18  act_science_18  \n",
       "state                                  \n",
       "Alabama          19.6            19.0  \n",
       "Alaska           21.6            20.7  "
      ]
     },
     "execution_count": 49,
     "metadata": {},
     "output_type": "execute_result"
    }
   ],
   "source": [
    "#Overview of combined18_df. Call up first 2 rows for brevity.\n",
    "combined18_df.head(2)"
   ]
  },
  {
   "cell_type": "code",
   "execution_count": 50,
   "metadata": {},
   "outputs": [
    {
     "data": {
      "text/html": [
       "<div>\n",
       "<style scoped>\n",
       "    .dataframe tbody tr th:only-of-type {\n",
       "        vertical-align: middle;\n",
       "    }\n",
       "\n",
       "    .dataframe tbody tr th {\n",
       "        vertical-align: top;\n",
       "    }\n",
       "\n",
       "    .dataframe thead th {\n",
       "        text-align: right;\n",
       "    }\n",
       "</style>\n",
       "<table border=\"1\" class=\"dataframe\">\n",
       "  <thead>\n",
       "    <tr style=\"text-align: right;\">\n",
       "      <th></th>\n",
       "      <th>sat_participate_17</th>\n",
       "      <th>sat_evrw_17</th>\n",
       "      <th>sat_math_17</th>\n",
       "      <th>sat_total_17</th>\n",
       "      <th>act_participate_17</th>\n",
       "      <th>act_eng_17</th>\n",
       "      <th>act_math_17</th>\n",
       "      <th>act_rding_17</th>\n",
       "      <th>act_science_17</th>\n",
       "      <th>act_composite_17</th>\n",
       "      <th>sat_participate_18</th>\n",
       "      <th>sat_evrw_18</th>\n",
       "      <th>sat_math_18</th>\n",
       "      <th>sat_total_18</th>\n",
       "      <th>act_participate_18</th>\n",
       "      <th>act_composite_18</th>\n",
       "      <th>act_eng_18</th>\n",
       "      <th>act_math_18</th>\n",
       "      <th>act_rding_18</th>\n",
       "      <th>act_science_18</th>\n",
       "    </tr>\n",
       "    <tr>\n",
       "      <th>state</th>\n",
       "      <th></th>\n",
       "      <th></th>\n",
       "      <th></th>\n",
       "      <th></th>\n",
       "      <th></th>\n",
       "      <th></th>\n",
       "      <th></th>\n",
       "      <th></th>\n",
       "      <th></th>\n",
       "      <th></th>\n",
       "      <th></th>\n",
       "      <th></th>\n",
       "      <th></th>\n",
       "      <th></th>\n",
       "      <th></th>\n",
       "      <th></th>\n",
       "      <th></th>\n",
       "      <th></th>\n",
       "      <th></th>\n",
       "      <th></th>\n",
       "    </tr>\n",
       "  </thead>\n",
       "  <tbody>\n",
       "    <tr>\n",
       "      <th>Alabama</th>\n",
       "      <td>5.0</td>\n",
       "      <td>593.0</td>\n",
       "      <td>572.0</td>\n",
       "      <td>1165.0</td>\n",
       "      <td>100.0</td>\n",
       "      <td>18.9</td>\n",
       "      <td>18.4</td>\n",
       "      <td>19.7</td>\n",
       "      <td>19.4</td>\n",
       "      <td>19.2</td>\n",
       "      <td>6.0</td>\n",
       "      <td>595.0</td>\n",
       "      <td>571.0</td>\n",
       "      <td>1166.0</td>\n",
       "      <td>100.0</td>\n",
       "      <td>19.1</td>\n",
       "      <td>18.9</td>\n",
       "      <td>18.3</td>\n",
       "      <td>19.6</td>\n",
       "      <td>19.0</td>\n",
       "    </tr>\n",
       "    <tr>\n",
       "      <th>Alaska</th>\n",
       "      <td>38.0</td>\n",
       "      <td>547.0</td>\n",
       "      <td>533.0</td>\n",
       "      <td>1080.0</td>\n",
       "      <td>65.0</td>\n",
       "      <td>18.7</td>\n",
       "      <td>19.8</td>\n",
       "      <td>20.4</td>\n",
       "      <td>19.9</td>\n",
       "      <td>19.8</td>\n",
       "      <td>43.0</td>\n",
       "      <td>562.0</td>\n",
       "      <td>544.0</td>\n",
       "      <td>1106.0</td>\n",
       "      <td>33.0</td>\n",
       "      <td>20.8</td>\n",
       "      <td>19.8</td>\n",
       "      <td>20.6</td>\n",
       "      <td>21.6</td>\n",
       "      <td>20.7</td>\n",
       "    </tr>\n",
       "  </tbody>\n",
       "</table>\n",
       "</div>"
      ],
      "text/plain": [
       "         sat_participate_17  sat_evrw_17  sat_math_17  sat_total_17  \\\n",
       "state                                                                 \n",
       "Alabama                 5.0        593.0        572.0        1165.0   \n",
       "Alaska                 38.0        547.0        533.0        1080.0   \n",
       "\n",
       "         act_participate_17  act_eng_17  act_math_17  act_rding_17  \\\n",
       "state                                                                \n",
       "Alabama               100.0        18.9         18.4          19.7   \n",
       "Alaska                 65.0        18.7         19.8          20.4   \n",
       "\n",
       "         act_science_17  act_composite_17  sat_participate_18  sat_evrw_18  \\\n",
       "state                                                                        \n",
       "Alabama            19.4              19.2                 6.0        595.0   \n",
       "Alaska             19.9              19.8                43.0        562.0   \n",
       "\n",
       "         sat_math_18  sat_total_18  act_participate_18  act_composite_18  \\\n",
       "state                                                                      \n",
       "Alabama        571.0        1166.0               100.0              19.1   \n",
       "Alaska         544.0        1106.0                33.0              20.8   \n",
       "\n",
       "         act_eng_18  act_math_18  act_rding_18  act_science_18  \n",
       "state                                                           \n",
       "Alabama        18.9         18.3          19.6            19.0  \n",
       "Alaska         19.8         20.6          21.6            20.7  "
      ]
     },
     "execution_count": 50,
     "metadata": {},
     "output_type": "execute_result"
    }
   ],
   "source": [
    "# Merge combined17_df and combined18_df on 'state' column.\n",
    "# Assign merged dataframe to variable 'final_df'. \n",
    "final_df = combined17_df.join(combined18_df, on = 'state')\n",
    "\n",
    "final_df.head(2)"
   ]
  },
  {
   "cell_type": "code",
   "execution_count": 51,
   "metadata": {},
   "outputs": [],
   "source": [
    "# Save the contents of this merged dataframe as final.csv\n",
    "final_df.to_csv('../data/final.csv')"
   ]
  },
  {
   "cell_type": "markdown",
   "metadata": {},
   "source": [
    "## Exploratory Data Analysis\n",
    "\n",
    "\n",
    "### Summary Statistics\n",
    "Transpose the output of pandas `describe` method to create a quick overview of each numeric feature."
   ]
  },
  {
   "cell_type": "code",
   "execution_count": 52,
   "metadata": {},
   "outputs": [],
   "source": [
    "# Import the combined dataframe.\n",
    "final_df = pd.read_csv('../data/final.csv', index_col='state')"
   ]
  },
  {
   "cell_type": "code",
   "execution_count": 53,
   "metadata": {},
   "outputs": [
    {
     "data": {
      "text/html": [
       "<div>\n",
       "<style scoped>\n",
       "    .dataframe tbody tr th:only-of-type {\n",
       "        vertical-align: middle;\n",
       "    }\n",
       "\n",
       "    .dataframe tbody tr th {\n",
       "        vertical-align: top;\n",
       "    }\n",
       "\n",
       "    .dataframe thead th {\n",
       "        text-align: right;\n",
       "    }\n",
       "</style>\n",
       "<table border=\"1\" class=\"dataframe\">\n",
       "  <thead>\n",
       "    <tr style=\"text-align: right;\">\n",
       "      <th></th>\n",
       "      <th>sat_participate_17</th>\n",
       "      <th>sat_evrw_17</th>\n",
       "      <th>sat_math_17</th>\n",
       "      <th>sat_total_17</th>\n",
       "      <th>act_participate_17</th>\n",
       "      <th>act_eng_17</th>\n",
       "      <th>act_math_17</th>\n",
       "      <th>act_rding_17</th>\n",
       "      <th>act_science_17</th>\n",
       "      <th>act_composite_17</th>\n",
       "      <th>sat_participate_18</th>\n",
       "      <th>sat_evrw_18</th>\n",
       "      <th>sat_math_18</th>\n",
       "      <th>sat_total_18</th>\n",
       "      <th>act_participate_18</th>\n",
       "      <th>act_composite_18</th>\n",
       "      <th>act_eng_18</th>\n",
       "      <th>act_math_18</th>\n",
       "      <th>act_rding_18</th>\n",
       "      <th>act_science_18</th>\n",
       "    </tr>\n",
       "  </thead>\n",
       "  <tbody>\n",
       "    <tr>\n",
       "      <th>count</th>\n",
       "      <td>51.000000</td>\n",
       "      <td>51.000000</td>\n",
       "      <td>51.000000</td>\n",
       "      <td>51.000000</td>\n",
       "      <td>51.000000</td>\n",
       "      <td>51.000000</td>\n",
       "      <td>51.000000</td>\n",
       "      <td>51.000000</td>\n",
       "      <td>51.000000</td>\n",
       "      <td>51.000000</td>\n",
       "      <td>51.000000</td>\n",
       "      <td>51.000000</td>\n",
       "      <td>51.000000</td>\n",
       "      <td>51.000000</td>\n",
       "      <td>51.000000</td>\n",
       "      <td>51.000000</td>\n",
       "      <td>51.000000</td>\n",
       "      <td>51.000000</td>\n",
       "      <td>51.000000</td>\n",
       "      <td>51.000000</td>\n",
       "    </tr>\n",
       "    <tr>\n",
       "      <th>mean</th>\n",
       "      <td>39.803922</td>\n",
       "      <td>569.117647</td>\n",
       "      <td>556.882353</td>\n",
       "      <td>1126.098039</td>\n",
       "      <td>65.254902</td>\n",
       "      <td>20.931373</td>\n",
       "      <td>21.182353</td>\n",
       "      <td>22.013725</td>\n",
       "      <td>21.041176</td>\n",
       "      <td>21.519608</td>\n",
       "      <td>45.745098</td>\n",
       "      <td>563.686275</td>\n",
       "      <td>556.235294</td>\n",
       "      <td>1120.019608</td>\n",
       "      <td>61.647059</td>\n",
       "      <td>21.486275</td>\n",
       "      <td>20.988235</td>\n",
       "      <td>21.125490</td>\n",
       "      <td>22.015686</td>\n",
       "      <td>21.345098</td>\n",
       "    </tr>\n",
       "    <tr>\n",
       "      <th>std</th>\n",
       "      <td>35.276632</td>\n",
       "      <td>45.666901</td>\n",
       "      <td>47.121395</td>\n",
       "      <td>92.494812</td>\n",
       "      <td>32.140842</td>\n",
       "      <td>2.353677</td>\n",
       "      <td>1.981989</td>\n",
       "      <td>2.067271</td>\n",
       "      <td>3.182463</td>\n",
       "      <td>2.020695</td>\n",
       "      <td>37.314256</td>\n",
       "      <td>47.502627</td>\n",
       "      <td>47.772623</td>\n",
       "      <td>94.155083</td>\n",
       "      <td>34.080976</td>\n",
       "      <td>2.106278</td>\n",
       "      <td>2.446356</td>\n",
       "      <td>2.035765</td>\n",
       "      <td>2.167245</td>\n",
       "      <td>1.870114</td>\n",
       "    </tr>\n",
       "    <tr>\n",
       "      <th>min</th>\n",
       "      <td>2.000000</td>\n",
       "      <td>482.000000</td>\n",
       "      <td>468.000000</td>\n",
       "      <td>950.000000</td>\n",
       "      <td>8.000000</td>\n",
       "      <td>16.300000</td>\n",
       "      <td>18.000000</td>\n",
       "      <td>18.100000</td>\n",
       "      <td>2.300000</td>\n",
       "      <td>17.800000</td>\n",
       "      <td>2.000000</td>\n",
       "      <td>480.000000</td>\n",
       "      <td>480.000000</td>\n",
       "      <td>977.000000</td>\n",
       "      <td>7.000000</td>\n",
       "      <td>17.700000</td>\n",
       "      <td>16.600000</td>\n",
       "      <td>17.800000</td>\n",
       "      <td>18.000000</td>\n",
       "      <td>17.900000</td>\n",
       "    </tr>\n",
       "    <tr>\n",
       "      <th>25%</th>\n",
       "      <td>4.000000</td>\n",
       "      <td>533.500000</td>\n",
       "      <td>523.500000</td>\n",
       "      <td>1055.500000</td>\n",
       "      <td>31.000000</td>\n",
       "      <td>19.000000</td>\n",
       "      <td>19.400000</td>\n",
       "      <td>20.450000</td>\n",
       "      <td>19.900000</td>\n",
       "      <td>19.800000</td>\n",
       "      <td>4.500000</td>\n",
       "      <td>534.500000</td>\n",
       "      <td>522.500000</td>\n",
       "      <td>1057.500000</td>\n",
       "      <td>28.500000</td>\n",
       "      <td>19.950000</td>\n",
       "      <td>19.100000</td>\n",
       "      <td>19.400000</td>\n",
       "      <td>20.450000</td>\n",
       "      <td>19.850000</td>\n",
       "    </tr>\n",
       "    <tr>\n",
       "      <th>50%</th>\n",
       "      <td>38.000000</td>\n",
       "      <td>559.000000</td>\n",
       "      <td>548.000000</td>\n",
       "      <td>1107.000000</td>\n",
       "      <td>69.000000</td>\n",
       "      <td>20.700000</td>\n",
       "      <td>20.900000</td>\n",
       "      <td>21.800000</td>\n",
       "      <td>21.300000</td>\n",
       "      <td>21.400000</td>\n",
       "      <td>52.000000</td>\n",
       "      <td>552.000000</td>\n",
       "      <td>544.000000</td>\n",
       "      <td>1098.000000</td>\n",
       "      <td>66.000000</td>\n",
       "      <td>21.300000</td>\n",
       "      <td>20.200000</td>\n",
       "      <td>20.700000</td>\n",
       "      <td>21.600000</td>\n",
       "      <td>21.100000</td>\n",
       "    </tr>\n",
       "    <tr>\n",
       "      <th>75%</th>\n",
       "      <td>66.000000</td>\n",
       "      <td>613.000000</td>\n",
       "      <td>599.000000</td>\n",
       "      <td>1212.000000</td>\n",
       "      <td>100.000000</td>\n",
       "      <td>23.300000</td>\n",
       "      <td>23.100000</td>\n",
       "      <td>24.150000</td>\n",
       "      <td>22.750000</td>\n",
       "      <td>23.600000</td>\n",
       "      <td>77.500000</td>\n",
       "      <td>610.500000</td>\n",
       "      <td>593.500000</td>\n",
       "      <td>1204.000000</td>\n",
       "      <td>100.000000</td>\n",
       "      <td>23.550000</td>\n",
       "      <td>23.700000</td>\n",
       "      <td>23.150000</td>\n",
       "      <td>24.100000</td>\n",
       "      <td>23.050000</td>\n",
       "    </tr>\n",
       "    <tr>\n",
       "      <th>max</th>\n",
       "      <td>100.000000</td>\n",
       "      <td>644.000000</td>\n",
       "      <td>651.000000</td>\n",
       "      <td>1295.000000</td>\n",
       "      <td>100.000000</td>\n",
       "      <td>25.500000</td>\n",
       "      <td>25.300000</td>\n",
       "      <td>26.000000</td>\n",
       "      <td>24.900000</td>\n",
       "      <td>25.500000</td>\n",
       "      <td>100.000000</td>\n",
       "      <td>643.000000</td>\n",
       "      <td>655.000000</td>\n",
       "      <td>1298.000000</td>\n",
       "      <td>100.000000</td>\n",
       "      <td>25.600000</td>\n",
       "      <td>26.000000</td>\n",
       "      <td>25.200000</td>\n",
       "      <td>26.100000</td>\n",
       "      <td>24.900000</td>\n",
       "    </tr>\n",
       "  </tbody>\n",
       "</table>\n",
       "</div>"
      ],
      "text/plain": [
       "       sat_participate_17  sat_evrw_17  sat_math_17  sat_total_17  \\\n",
       "count           51.000000    51.000000    51.000000     51.000000   \n",
       "mean            39.803922   569.117647   556.882353   1126.098039   \n",
       "std             35.276632    45.666901    47.121395     92.494812   \n",
       "min              2.000000   482.000000   468.000000    950.000000   \n",
       "25%              4.000000   533.500000   523.500000   1055.500000   \n",
       "50%             38.000000   559.000000   548.000000   1107.000000   \n",
       "75%             66.000000   613.000000   599.000000   1212.000000   \n",
       "max            100.000000   644.000000   651.000000   1295.000000   \n",
       "\n",
       "       act_participate_17  act_eng_17  act_math_17  act_rding_17  \\\n",
       "count           51.000000   51.000000    51.000000     51.000000   \n",
       "mean            65.254902   20.931373    21.182353     22.013725   \n",
       "std             32.140842    2.353677     1.981989      2.067271   \n",
       "min              8.000000   16.300000    18.000000     18.100000   \n",
       "25%             31.000000   19.000000    19.400000     20.450000   \n",
       "50%             69.000000   20.700000    20.900000     21.800000   \n",
       "75%            100.000000   23.300000    23.100000     24.150000   \n",
       "max            100.000000   25.500000    25.300000     26.000000   \n",
       "\n",
       "       act_science_17  act_composite_17  sat_participate_18  sat_evrw_18  \\\n",
       "count       51.000000         51.000000           51.000000    51.000000   \n",
       "mean        21.041176         21.519608           45.745098   563.686275   \n",
       "std          3.182463          2.020695           37.314256    47.502627   \n",
       "min          2.300000         17.800000            2.000000   480.000000   \n",
       "25%         19.900000         19.800000            4.500000   534.500000   \n",
       "50%         21.300000         21.400000           52.000000   552.000000   \n",
       "75%         22.750000         23.600000           77.500000   610.500000   \n",
       "max         24.900000         25.500000          100.000000   643.000000   \n",
       "\n",
       "       sat_math_18  sat_total_18  act_participate_18  act_composite_18  \\\n",
       "count    51.000000     51.000000           51.000000         51.000000   \n",
       "mean    556.235294   1120.019608           61.647059         21.486275   \n",
       "std      47.772623     94.155083           34.080976          2.106278   \n",
       "min     480.000000    977.000000            7.000000         17.700000   \n",
       "25%     522.500000   1057.500000           28.500000         19.950000   \n",
       "50%     544.000000   1098.000000           66.000000         21.300000   \n",
       "75%     593.500000   1204.000000          100.000000         23.550000   \n",
       "max     655.000000   1298.000000          100.000000         25.600000   \n",
       "\n",
       "       act_eng_18  act_math_18  act_rding_18  act_science_18  \n",
       "count   51.000000    51.000000     51.000000       51.000000  \n",
       "mean    20.988235    21.125490     22.015686       21.345098  \n",
       "std      2.446356     2.035765      2.167245        1.870114  \n",
       "min     16.600000    17.800000     18.000000       17.900000  \n",
       "25%     19.100000    19.400000     20.450000       19.850000  \n",
       "50%     20.200000    20.700000     21.600000       21.100000  \n",
       "75%     23.700000    23.150000     24.100000       23.050000  \n",
       "max     26.000000    25.200000     26.100000       24.900000  "
      ]
     },
     "execution_count": 53,
     "metadata": {},
     "output_type": "execute_result"
    }
   ],
   "source": [
    "# Transpose the output of pandas describe method.\n",
    "final_df.describe().transpose()\n",
    "final_df.describe()"
   ]
  },
  {
   "cell_type": "markdown",
   "metadata": {},
   "source": [
    "#### Manually calculate standard deviation\n",
    "\n",
    "$$\\sigma = \\sqrt{\\frac{1}{n}\\sum_{i=1}^n(x_i - \\mu)^2}$$\n",
    "\n",
    "- Write a function to calculate standard deviation using the formula above"
   ]
  },
  {
   "cell_type": "code",
   "execution_count": 54,
   "metadata": {},
   "outputs": [],
   "source": [
    "def stddev(lst):\n",
    "    \"\"\"returns the standard deviation of lst\"\"\"\n",
    "    mn = mean(lst)\n",
    "    variance = sum([(element-mn)**2 for element in lst]) / len(lst)\n",
    "    return sqrt(variance)"
   ]
  },
  {
   "cell_type": "markdown",
   "metadata": {},
   "source": [
    "- Use a **dictionary comprehension** to apply your standard deviation function to each numeric column in the dataframe.  **No loops**  \n",
    "- Assign the output to variable `sd` as a dictionary where: \n",
    "    - Each column name is now a key \n",
    "    - That standard deviation of the column is the value \n",
    "     \n",
    "*Example Output :* `{'ACT_Math': 120, 'ACT_Reading': 120, ...}`"
   ]
  },
  {
   "cell_type": "code",
   "execution_count": 55,
   "metadata": {},
   "outputs": [
    {
     "data": {
      "text/plain": [
       "{'sat_participate_17': 34.92907076664508,\n",
       " 'sat_evrw_17': 45.21697020437866,\n",
       " 'sat_math_17': 46.65713364485503,\n",
       " 'sat_total_17': 91.58351056778743,\n",
       " 'act_participate_17': 31.824175751231806,\n",
       " 'act_eng_17': 2.3304876369363363,\n",
       " 'act_math_17': 1.9624620273436784,\n",
       " 'act_rding_17': 2.0469029314842646,\n",
       " 'act_science_17': 3.151107895464408,\n",
       " 'act_composite_17': 2.000786081581989,\n",
       " 'sat_participate_18': 36.946619223539415,\n",
       " 'sat_evrw_18': 47.03460978357609,\n",
       " 'sat_math_18': 47.30194550378352,\n",
       " 'sat_total_18': 93.22742384464433,\n",
       " 'act_participate_18': 33.745194881997506,\n",
       " 'act_composite_18': 2.0855261815801147,\n",
       " 'act_eng_18': 2.4222536143202795,\n",
       " 'act_math_18': 2.0157072555557174,\n",
       " 'act_rding_18': 2.145891884510421,\n",
       " 'act_science_18': 1.851688548483354}"
      ]
     },
     "execution_count": 55,
     "metadata": {},
     "output_type": "execute_result"
    }
   ],
   "source": [
    "# Dictionary comprehension to apply standard deviation function to each numeric column in the dataframe.\n",
    "\"\"\"Apply stddev function for each column in final_df dataframe,\n",
    "    provided that the value in the column cell are of float64 datatype,\n",
    "    then assign output to variable sd.\"\"\"\n",
    "\n",
    "sd = {col.name:stddev(col) for col in [final_df[i] for i in final_df.columns if (final_df[i].dtype=='float64')]}\n",
    "# Call up the output for stddev function.\n",
    "sd "
   ]
  },
  {
   "cell_type": "markdown",
   "metadata": {},
   "source": [
    "Do your manually calculated standard deviations match up with the output from pandas `describe`? What about numpy's `std` method?"
   ]
  },
  {
   "cell_type": "code",
   "execution_count": 56,
   "metadata": {},
   "outputs": [
    {
     "data": {
      "text/plain": [
       "91.58351056778743"
      ]
     },
     "execution_count": 56,
     "metadata": {},
     "output_type": "execute_result"
    }
   ],
   "source": [
    "# Check the standard deviation using numpy's std, for sat_total_17.\n",
    "np.std(final_df['sat_total_17'])"
   ]
  },
  {
   "cell_type": "markdown",
   "metadata": {},
   "source": [
    "Answer: Manually calculated standard deviations matches with numpy's std method. They are close to pandas describe's output, but not exact.\\\n",
    "The reason is likely Pandas uses Bessel's correction by default; in the standard deviation formula denominator is N-1 instead of N.\\\n",
    "Setting the ddof=1 in Numpy's std should arrive at same result with Pandas standard deviation. "
   ]
  },
  {
   "cell_type": "markdown",
   "metadata": {},
   "source": [
    "#### Investigate trends in the data\n",
    "Using sorting and/or masking (along with the `.head` method to not print our entire dataframe), consider the following questions:\n",
    "\n",
    "- Which states have the highest and lowest participation rates for the:\n",
    "    - 2017 SAT?\n",
    "    - 2018 SAT?\n",
    "    - 2017 ACT?\n",
    "    - 2018 ACT?\n",
    "- Which states have the highest and lowest mean total/composite scores for the:\n",
    "    - 2017 SAT?\n",
    "    - 2018 SAT?\n",
    "    - 2017 ACT?\n",
    "    - 2018 ACT?\n",
    "- Do any states with 100% participation on a given test have a rate change year-to-year?\n",
    "- Do any states show have >50% participation on *both* tests either year?\n",
    "\n",
    "Based on what you've just observed, have you identified any states that you're especially interested in? **Make a note of these and state *why* you think they're interesting**.\n",
    "\n",
    "**You should comment on your findings at each step in a markdown cell below your code block**. Make sure you include at least one example of sorting your dataframe by a column, and one example of using boolean filtering (i.e., masking) to select a subset of the dataframe."
   ]
  },
  {
   "cell_type": "markdown",
   "metadata": {},
   "source": [
    "#### Investigating which State(s) has highest and lowest participation rates for SAT and ACT."
   ]
  },
  {
   "cell_type": "code",
   "execution_count": 57,
   "metadata": {
    "scrolled": true
   },
   "outputs": [
    {
     "data": {
      "text/html": [
       "<div>\n",
       "<style scoped>\n",
       "    .dataframe tbody tr th:only-of-type {\n",
       "        vertical-align: middle;\n",
       "    }\n",
       "\n",
       "    .dataframe tbody tr th {\n",
       "        vertical-align: top;\n",
       "    }\n",
       "\n",
       "    .dataframe thead th {\n",
       "        text-align: right;\n",
       "    }\n",
       "</style>\n",
       "<table border=\"1\" class=\"dataframe\">\n",
       "  <thead>\n",
       "    <tr style=\"text-align: right;\">\n",
       "      <th></th>\n",
       "      <th>sat_participate_17</th>\n",
       "      <th>sat_evrw_17</th>\n",
       "      <th>sat_math_17</th>\n",
       "      <th>sat_total_17</th>\n",
       "      <th>act_participate_17</th>\n",
       "      <th>act_eng_17</th>\n",
       "      <th>act_math_17</th>\n",
       "      <th>act_rding_17</th>\n",
       "      <th>act_science_17</th>\n",
       "      <th>act_composite_17</th>\n",
       "      <th>sat_participate_18</th>\n",
       "      <th>sat_evrw_18</th>\n",
       "      <th>sat_math_18</th>\n",
       "      <th>sat_total_18</th>\n",
       "      <th>act_participate_18</th>\n",
       "      <th>act_composite_18</th>\n",
       "      <th>act_eng_18</th>\n",
       "      <th>act_math_18</th>\n",
       "      <th>act_rding_18</th>\n",
       "      <th>act_science_18</th>\n",
       "    </tr>\n",
       "    <tr>\n",
       "      <th>state</th>\n",
       "      <th></th>\n",
       "      <th></th>\n",
       "      <th></th>\n",
       "      <th></th>\n",
       "      <th></th>\n",
       "      <th></th>\n",
       "      <th></th>\n",
       "      <th></th>\n",
       "      <th></th>\n",
       "      <th></th>\n",
       "      <th></th>\n",
       "      <th></th>\n",
       "      <th></th>\n",
       "      <th></th>\n",
       "      <th></th>\n",
       "      <th></th>\n",
       "      <th></th>\n",
       "      <th></th>\n",
       "      <th></th>\n",
       "      <th></th>\n",
       "    </tr>\n",
       "  </thead>\n",
       "  <tbody>\n",
       "    <tr>\n",
       "      <th>Alabama</th>\n",
       "      <td>5.0</td>\n",
       "      <td>593.0</td>\n",
       "      <td>572.0</td>\n",
       "      <td>1165.0</td>\n",
       "      <td>100.0</td>\n",
       "      <td>18.9</td>\n",
       "      <td>18.4</td>\n",
       "      <td>19.7</td>\n",
       "      <td>19.4</td>\n",
       "      <td>19.2</td>\n",
       "      <td>6.0</td>\n",
       "      <td>595.0</td>\n",
       "      <td>571.0</td>\n",
       "      <td>1166.0</td>\n",
       "      <td>100.0</td>\n",
       "      <td>19.1</td>\n",
       "      <td>18.9</td>\n",
       "      <td>18.3</td>\n",
       "      <td>19.6</td>\n",
       "      <td>19.0</td>\n",
       "    </tr>\n",
       "    <tr>\n",
       "      <th>Alaska</th>\n",
       "      <td>38.0</td>\n",
       "      <td>547.0</td>\n",
       "      <td>533.0</td>\n",
       "      <td>1080.0</td>\n",
       "      <td>65.0</td>\n",
       "      <td>18.7</td>\n",
       "      <td>19.8</td>\n",
       "      <td>20.4</td>\n",
       "      <td>19.9</td>\n",
       "      <td>19.8</td>\n",
       "      <td>43.0</td>\n",
       "      <td>562.0</td>\n",
       "      <td>544.0</td>\n",
       "      <td>1106.0</td>\n",
       "      <td>33.0</td>\n",
       "      <td>20.8</td>\n",
       "      <td>19.8</td>\n",
       "      <td>20.6</td>\n",
       "      <td>21.6</td>\n",
       "      <td>20.7</td>\n",
       "    </tr>\n",
       "  </tbody>\n",
       "</table>\n",
       "</div>"
      ],
      "text/plain": [
       "         sat_participate_17  sat_evrw_17  sat_math_17  sat_total_17  \\\n",
       "state                                                                 \n",
       "Alabama                 5.0        593.0        572.0        1165.0   \n",
       "Alaska                 38.0        547.0        533.0        1080.0   \n",
       "\n",
       "         act_participate_17  act_eng_17  act_math_17  act_rding_17  \\\n",
       "state                                                                \n",
       "Alabama               100.0        18.9         18.4          19.7   \n",
       "Alaska                 65.0        18.7         19.8          20.4   \n",
       "\n",
       "         act_science_17  act_composite_17  sat_participate_18  sat_evrw_18  \\\n",
       "state                                                                        \n",
       "Alabama            19.4              19.2                 6.0        595.0   \n",
       "Alaska             19.9              19.8                43.0        562.0   \n",
       "\n",
       "         sat_math_18  sat_total_18  act_participate_18  act_composite_18  \\\n",
       "state                                                                      \n",
       "Alabama        571.0        1166.0               100.0              19.1   \n",
       "Alaska         544.0        1106.0                33.0              20.8   \n",
       "\n",
       "         act_eng_18  act_math_18  act_rding_18  act_science_18  \n",
       "state                                                           \n",
       "Alabama        18.9         18.3          19.6            19.0  \n",
       "Alaska         19.8         20.6          21.6            20.7  "
      ]
     },
     "execution_count": 57,
     "metadata": {},
     "output_type": "execute_result"
    }
   ],
   "source": [
    "# Overview of final_df; call up first 2 rows for brevity.\n",
    "final_df.head(2)"
   ]
  },
  {
   "cell_type": "code",
   "execution_count": 58,
   "metadata": {},
   "outputs": [
    {
     "data": {
      "text/html": [
       "<div>\n",
       "<style scoped>\n",
       "    .dataframe tbody tr th:only-of-type {\n",
       "        vertical-align: middle;\n",
       "    }\n",
       "\n",
       "    .dataframe tbody tr th {\n",
       "        vertical-align: top;\n",
       "    }\n",
       "\n",
       "    .dataframe thead th {\n",
       "        text-align: right;\n",
       "    }\n",
       "</style>\n",
       "<table border=\"1\" class=\"dataframe\">\n",
       "  <thead>\n",
       "    <tr style=\"text-align: right;\">\n",
       "      <th></th>\n",
       "      <th>sat_participate_17</th>\n",
       "      <th>sat_participate_18</th>\n",
       "      <th>act_participate_17</th>\n",
       "      <th>act_participate_18</th>\n",
       "    </tr>\n",
       "  </thead>\n",
       "  <tbody>\n",
       "    <tr>\n",
       "      <th>min</th>\n",
       "      <td>2.0</td>\n",
       "      <td>2.0</td>\n",
       "      <td>8.0</td>\n",
       "      <td>7.0</td>\n",
       "    </tr>\n",
       "    <tr>\n",
       "      <th>max</th>\n",
       "      <td>100.0</td>\n",
       "      <td>100.0</td>\n",
       "      <td>100.0</td>\n",
       "      <td>100.0</td>\n",
       "    </tr>\n",
       "  </tbody>\n",
       "</table>\n",
       "</div>"
      ],
      "text/plain": [
       "     sat_participate_17  sat_participate_18  act_participate_17  \\\n",
       "min                 2.0                 2.0                 8.0   \n",
       "max               100.0               100.0               100.0   \n",
       "\n",
       "     act_participate_18  \n",
       "min                 7.0  \n",
       "max               100.0  "
      ]
     },
     "execution_count": 58,
     "metadata": {},
     "output_type": "execute_result"
    }
   ],
   "source": [
    "# Aggregate the min, max of participation rates for sat2017,2018 and act2017,2018.\n",
    "final_df[['sat_participate_17', 'sat_participate_18',\\\n",
    "          'act_participate_17', 'act_participate_18']].agg(['min', 'max'])"
   ]
  },
  {
   "cell_type": "code",
   "execution_count": 59,
   "metadata": {},
   "outputs": [
    {
     "data": {
      "text/html": [
       "<div>\n",
       "<style scoped>\n",
       "    .dataframe tbody tr th:only-of-type {\n",
       "        vertical-align: middle;\n",
       "    }\n",
       "\n",
       "    .dataframe tbody tr th {\n",
       "        vertical-align: top;\n",
       "    }\n",
       "\n",
       "    .dataframe thead th {\n",
       "        text-align: right;\n",
       "    }\n",
       "</style>\n",
       "<table border=\"1\" class=\"dataframe\">\n",
       "  <thead>\n",
       "    <tr style=\"text-align: right;\">\n",
       "      <th></th>\n",
       "      <th>sat_participate_17</th>\n",
       "      <th>sat_participate_18</th>\n",
       "    </tr>\n",
       "    <tr>\n",
       "      <th>state</th>\n",
       "      <th></th>\n",
       "      <th></th>\n",
       "    </tr>\n",
       "  </thead>\n",
       "  <tbody>\n",
       "    <tr>\n",
       "      <th>Alabama</th>\n",
       "      <td>5.0</td>\n",
       "      <td>6.0</td>\n",
       "    </tr>\n",
       "    <tr>\n",
       "      <th>Alaska</th>\n",
       "      <td>38.0</td>\n",
       "      <td>43.0</td>\n",
       "    </tr>\n",
       "  </tbody>\n",
       "</table>\n",
       "</div>"
      ],
      "text/plain": [
       "         sat_participate_17  sat_participate_18\n",
       "state                                          \n",
       "Alabama                 5.0                 6.0\n",
       "Alaska                 38.0                43.0"
      ]
     },
     "execution_count": 59,
     "metadata": {},
     "output_type": "execute_result"
    }
   ],
   "source": [
    "# Create a sub dataframe for all participation rates.\n",
    "psat_df = final_df[['sat_participate_17', 'sat_participate_18']]\n",
    "pact_df = final_df[['act_participate_17', 'act_participate_18']]\n",
    "psat_df.head(2) #Check the sub dataframe."
   ]
  },
  {
   "cell_type": "code",
   "execution_count": 60,
   "metadata": {},
   "outputs": [
    {
     "data": {
      "text/html": [
       "<div>\n",
       "<style scoped>\n",
       "    .dataframe tbody tr th:only-of-type {\n",
       "        vertical-align: middle;\n",
       "    }\n",
       "\n",
       "    .dataframe tbody tr th {\n",
       "        vertical-align: top;\n",
       "    }\n",
       "\n",
       "    .dataframe thead th {\n",
       "        text-align: right;\n",
       "    }\n",
       "</style>\n",
       "<table border=\"1\" class=\"dataframe\">\n",
       "  <thead>\n",
       "    <tr style=\"text-align: right;\">\n",
       "      <th></th>\n",
       "      <th>sat_participate_17</th>\n",
       "      <th>sat_participate_18</th>\n",
       "    </tr>\n",
       "    <tr>\n",
       "      <th>state</th>\n",
       "      <th></th>\n",
       "      <th></th>\n",
       "    </tr>\n",
       "  </thead>\n",
       "  <tbody>\n",
       "    <tr>\n",
       "      <th>North Dakota</th>\n",
       "      <td>2.0</td>\n",
       "      <td>2.0</td>\n",
       "    </tr>\n",
       "    <tr>\n",
       "      <th>Mississippi</th>\n",
       "      <td>2.0</td>\n",
       "      <td>3.0</td>\n",
       "    </tr>\n",
       "    <tr>\n",
       "      <th>Iowa</th>\n",
       "      <td>2.0</td>\n",
       "      <td>3.0</td>\n",
       "    </tr>\n",
       "    <tr>\n",
       "      <th>Missouri</th>\n",
       "      <td>3.0</td>\n",
       "      <td>4.0</td>\n",
       "    </tr>\n",
       "    <tr>\n",
       "      <th>Utah</th>\n",
       "      <td>3.0</td>\n",
       "      <td>4.0</td>\n",
       "    </tr>\n",
       "  </tbody>\n",
       "</table>\n",
       "</div>"
      ],
      "text/plain": [
       "              sat_participate_17  sat_participate_18\n",
       "state                                               \n",
       "North Dakota                 2.0                 2.0\n",
       "Mississippi                  2.0                 3.0\n",
       "Iowa                         2.0                 3.0\n",
       "Missouri                     3.0                 4.0\n",
       "Utah                         3.0                 4.0"
      ]
     },
     "execution_count": 60,
     "metadata": {},
     "output_type": "execute_result"
    }
   ],
   "source": [
    "# Lowest participation rate for sat 2017.\n",
    "psat_df.sort_values('sat_participate_17').head()"
   ]
  },
  {
   "cell_type": "code",
   "execution_count": 61,
   "metadata": {},
   "outputs": [
    {
     "data": {
      "text/html": [
       "<div>\n",
       "<style scoped>\n",
       "    .dataframe tbody tr th:only-of-type {\n",
       "        vertical-align: middle;\n",
       "    }\n",
       "\n",
       "    .dataframe tbody tr th {\n",
       "        vertical-align: top;\n",
       "    }\n",
       "\n",
       "    .dataframe thead th {\n",
       "        text-align: right;\n",
       "    }\n",
       "</style>\n",
       "<table border=\"1\" class=\"dataframe\">\n",
       "  <thead>\n",
       "    <tr style=\"text-align: right;\">\n",
       "      <th></th>\n",
       "      <th>sat_participate_17</th>\n",
       "      <th>sat_participate_18</th>\n",
       "    </tr>\n",
       "    <tr>\n",
       "      <th>state</th>\n",
       "      <th></th>\n",
       "      <th></th>\n",
       "    </tr>\n",
       "  </thead>\n",
       "  <tbody>\n",
       "    <tr>\n",
       "      <th>District of Columbia</th>\n",
       "      <td>100.0</td>\n",
       "      <td>92.0</td>\n",
       "    </tr>\n",
       "    <tr>\n",
       "      <th>Michigan</th>\n",
       "      <td>100.0</td>\n",
       "      <td>100.0</td>\n",
       "    </tr>\n",
       "    <tr>\n",
       "      <th>Connecticut</th>\n",
       "      <td>100.0</td>\n",
       "      <td>100.0</td>\n",
       "    </tr>\n",
       "    <tr>\n",
       "      <th>Delaware</th>\n",
       "      <td>100.0</td>\n",
       "      <td>100.0</td>\n",
       "    </tr>\n",
       "    <tr>\n",
       "      <th>New Hampshire</th>\n",
       "      <td>96.0</td>\n",
       "      <td>96.0</td>\n",
       "    </tr>\n",
       "  </tbody>\n",
       "</table>\n",
       "</div>"
      ],
      "text/plain": [
       "                      sat_participate_17  sat_participate_18\n",
       "state                                                       \n",
       "District of Columbia               100.0                92.0\n",
       "Michigan                           100.0               100.0\n",
       "Connecticut                        100.0               100.0\n",
       "Delaware                           100.0               100.0\n",
       "New Hampshire                       96.0                96.0"
      ]
     },
     "execution_count": 61,
     "metadata": {},
     "output_type": "execute_result"
    }
   ],
   "source": [
    "# Highest participation rate for sat 2017.\n",
    "psat_df.sort_values('sat_participate_17', ascending = False).head()"
   ]
  },
  {
   "cell_type": "markdown",
   "metadata": {},
   "source": [
    "**Answer:** For SAT 2017 particiaption rates, North Dakota, Mississippi, Iowa, Missouri and Utah have lowest rates.\\\n",
    "District of Columbia, Michigan, Connecticut, Delaware, and New Hampshire have the highest rates."
   ]
  },
  {
   "cell_type": "code",
   "execution_count": 62,
   "metadata": {},
   "outputs": [
    {
     "data": {
      "text/html": [
       "<div>\n",
       "<style scoped>\n",
       "    .dataframe tbody tr th:only-of-type {\n",
       "        vertical-align: middle;\n",
       "    }\n",
       "\n",
       "    .dataframe tbody tr th {\n",
       "        vertical-align: top;\n",
       "    }\n",
       "\n",
       "    .dataframe thead th {\n",
       "        text-align: right;\n",
       "    }\n",
       "</style>\n",
       "<table border=\"1\" class=\"dataframe\">\n",
       "  <thead>\n",
       "    <tr style=\"text-align: right;\">\n",
       "      <th></th>\n",
       "      <th>sat_participate_17</th>\n",
       "      <th>sat_participate_18</th>\n",
       "    </tr>\n",
       "    <tr>\n",
       "      <th>state</th>\n",
       "      <th></th>\n",
       "      <th></th>\n",
       "    </tr>\n",
       "  </thead>\n",
       "  <tbody>\n",
       "    <tr>\n",
       "      <th>North Dakota</th>\n",
       "      <td>2.0</td>\n",
       "      <td>2.0</td>\n",
       "    </tr>\n",
       "    <tr>\n",
       "      <th>Wyoming</th>\n",
       "      <td>3.0</td>\n",
       "      <td>3.0</td>\n",
       "    </tr>\n",
       "    <tr>\n",
       "      <th>South Dakota</th>\n",
       "      <td>3.0</td>\n",
       "      <td>3.0</td>\n",
       "    </tr>\n",
       "    <tr>\n",
       "      <th>Nebraska</th>\n",
       "      <td>3.0</td>\n",
       "      <td>3.0</td>\n",
       "    </tr>\n",
       "    <tr>\n",
       "      <th>Wisconsin</th>\n",
       "      <td>3.0</td>\n",
       "      <td>3.0</td>\n",
       "    </tr>\n",
       "  </tbody>\n",
       "</table>\n",
       "</div>"
      ],
      "text/plain": [
       "              sat_participate_17  sat_participate_18\n",
       "state                                               \n",
       "North Dakota                 2.0                 2.0\n",
       "Wyoming                      3.0                 3.0\n",
       "South Dakota                 3.0                 3.0\n",
       "Nebraska                     3.0                 3.0\n",
       "Wisconsin                    3.0                 3.0"
      ]
     },
     "execution_count": 62,
     "metadata": {},
     "output_type": "execute_result"
    }
   ],
   "source": [
    "# Lowest participation rate for sat 2018.\n",
    "psat_df.sort_values('sat_participate_18').head()"
   ]
  },
  {
   "cell_type": "code",
   "execution_count": 63,
   "metadata": {},
   "outputs": [
    {
     "data": {
      "text/html": [
       "<div>\n",
       "<style scoped>\n",
       "    .dataframe tbody tr th:only-of-type {\n",
       "        vertical-align: middle;\n",
       "    }\n",
       "\n",
       "    .dataframe tbody tr th {\n",
       "        vertical-align: top;\n",
       "    }\n",
       "\n",
       "    .dataframe thead th {\n",
       "        text-align: right;\n",
       "    }\n",
       "</style>\n",
       "<table border=\"1\" class=\"dataframe\">\n",
       "  <thead>\n",
       "    <tr style=\"text-align: right;\">\n",
       "      <th></th>\n",
       "      <th>sat_participate_17</th>\n",
       "      <th>sat_participate_18</th>\n",
       "    </tr>\n",
       "    <tr>\n",
       "      <th>state</th>\n",
       "      <th></th>\n",
       "      <th></th>\n",
       "    </tr>\n",
       "  </thead>\n",
       "  <tbody>\n",
       "    <tr>\n",
       "      <th>Colorado</th>\n",
       "      <td>11.0</td>\n",
       "      <td>100.0</td>\n",
       "    </tr>\n",
       "    <tr>\n",
       "      <th>Connecticut</th>\n",
       "      <td>100.0</td>\n",
       "      <td>100.0</td>\n",
       "    </tr>\n",
       "    <tr>\n",
       "      <th>Delaware</th>\n",
       "      <td>100.0</td>\n",
       "      <td>100.0</td>\n",
       "    </tr>\n",
       "    <tr>\n",
       "      <th>Michigan</th>\n",
       "      <td>100.0</td>\n",
       "      <td>100.0</td>\n",
       "    </tr>\n",
       "    <tr>\n",
       "      <th>Idaho</th>\n",
       "      <td>93.0</td>\n",
       "      <td>100.0</td>\n",
       "    </tr>\n",
       "    <tr>\n",
       "      <th>Maine</th>\n",
       "      <td>95.0</td>\n",
       "      <td>99.0</td>\n",
       "    </tr>\n",
       "    <tr>\n",
       "      <th>Illinois</th>\n",
       "      <td>9.0</td>\n",
       "      <td>99.0</td>\n",
       "    </tr>\n",
       "    <tr>\n",
       "      <th>Rhode Island</th>\n",
       "      <td>71.0</td>\n",
       "      <td>97.0</td>\n",
       "    </tr>\n",
       "    <tr>\n",
       "      <th>New Hampshire</th>\n",
       "      <td>96.0</td>\n",
       "      <td>96.0</td>\n",
       "    </tr>\n",
       "    <tr>\n",
       "      <th>District of Columbia</th>\n",
       "      <td>100.0</td>\n",
       "      <td>92.0</td>\n",
       "    </tr>\n",
       "  </tbody>\n",
       "</table>\n",
       "</div>"
      ],
      "text/plain": [
       "                      sat_participate_17  sat_participate_18\n",
       "state                                                       \n",
       "Colorado                            11.0               100.0\n",
       "Connecticut                        100.0               100.0\n",
       "Delaware                           100.0               100.0\n",
       "Michigan                           100.0               100.0\n",
       "Idaho                               93.0               100.0\n",
       "Maine                               95.0                99.0\n",
       "Illinois                             9.0                99.0\n",
       "Rhode Island                        71.0                97.0\n",
       "New Hampshire                       96.0                96.0\n",
       "District of Columbia               100.0                92.0"
      ]
     },
     "execution_count": 63,
     "metadata": {},
     "output_type": "execute_result"
    }
   ],
   "source": [
    "# Highest participation rate for sat 2018.\n",
    "psat_df.sort_values('sat_participate_18', ascending = False).head(10)"
   ]
  },
  {
   "cell_type": "markdown",
   "metadata": {},
   "source": [
    "**Answer:** For SAT 2018 particiaption rates, North Dakota, Wyoming, South Dakota, Nebraska and Wincousin have lowest rates.\\\n",
    "Colorado, Connecticut, Delaware, Idaho and Michigan have the highest rates (100%).\\\n",
    "**Observe that Colorado, Illinois and Rhode Island have the largest increases in SAT participation rates between 2017 to 2018.**"
   ]
  },
  {
   "cell_type": "code",
   "execution_count": 64,
   "metadata": {},
   "outputs": [
    {
     "data": {
      "text/html": [
       "<div>\n",
       "<style scoped>\n",
       "    .dataframe tbody tr th:only-of-type {\n",
       "        vertical-align: middle;\n",
       "    }\n",
       "\n",
       "    .dataframe tbody tr th {\n",
       "        vertical-align: top;\n",
       "    }\n",
       "\n",
       "    .dataframe thead th {\n",
       "        text-align: right;\n",
       "    }\n",
       "</style>\n",
       "<table border=\"1\" class=\"dataframe\">\n",
       "  <thead>\n",
       "    <tr style=\"text-align: right;\">\n",
       "      <th></th>\n",
       "      <th>act_participate_17</th>\n",
       "      <th>act_participate_18</th>\n",
       "    </tr>\n",
       "    <tr>\n",
       "      <th>state</th>\n",
       "      <th></th>\n",
       "      <th></th>\n",
       "    </tr>\n",
       "  </thead>\n",
       "  <tbody>\n",
       "    <tr>\n",
       "      <th>Maine</th>\n",
       "      <td>8.0</td>\n",
       "      <td>7.0</td>\n",
       "    </tr>\n",
       "    <tr>\n",
       "      <th>New Hampshire</th>\n",
       "      <td>18.0</td>\n",
       "      <td>16.0</td>\n",
       "    </tr>\n",
       "    <tr>\n",
       "      <th>Delaware</th>\n",
       "      <td>18.0</td>\n",
       "      <td>17.0</td>\n",
       "    </tr>\n",
       "    <tr>\n",
       "      <th>Rhode Island</th>\n",
       "      <td>21.0</td>\n",
       "      <td>15.0</td>\n",
       "    </tr>\n",
       "    <tr>\n",
       "      <th>Pennsylvania</th>\n",
       "      <td>23.0</td>\n",
       "      <td>20.0</td>\n",
       "    </tr>\n",
       "  </tbody>\n",
       "</table>\n",
       "</div>"
      ],
      "text/plain": [
       "               act_participate_17  act_participate_18\n",
       "state                                                \n",
       "Maine                         8.0                 7.0\n",
       "New Hampshire                18.0                16.0\n",
       "Delaware                     18.0                17.0\n",
       "Rhode Island                 21.0                15.0\n",
       "Pennsylvania                 23.0                20.0"
      ]
     },
     "execution_count": 64,
     "metadata": {},
     "output_type": "execute_result"
    }
   ],
   "source": [
    "# Lowest participation rate for act 2017.\n",
    "pact_df.sort_values('act_participate_17').head()"
   ]
  },
  {
   "cell_type": "code",
   "execution_count": 65,
   "metadata": {},
   "outputs": [
    {
     "data": {
      "text/html": [
       "<div>\n",
       "<style scoped>\n",
       "    .dataframe tbody tr th:only-of-type {\n",
       "        vertical-align: middle;\n",
       "    }\n",
       "\n",
       "    .dataframe tbody tr th {\n",
       "        vertical-align: top;\n",
       "    }\n",
       "\n",
       "    .dataframe thead th {\n",
       "        text-align: right;\n",
       "    }\n",
       "</style>\n",
       "<table border=\"1\" class=\"dataframe\">\n",
       "  <thead>\n",
       "    <tr style=\"text-align: right;\">\n",
       "      <th></th>\n",
       "      <th>act_participate_17</th>\n",
       "      <th>act_participate_18</th>\n",
       "    </tr>\n",
       "    <tr>\n",
       "      <th>state</th>\n",
       "      <th></th>\n",
       "      <th></th>\n",
       "    </tr>\n",
       "  </thead>\n",
       "  <tbody>\n",
       "    <tr>\n",
       "      <th>Alabama</th>\n",
       "      <td>100.0</td>\n",
       "      <td>100.0</td>\n",
       "    </tr>\n",
       "    <tr>\n",
       "      <th>Arkansas</th>\n",
       "      <td>100.0</td>\n",
       "      <td>100.0</td>\n",
       "    </tr>\n",
       "    <tr>\n",
       "      <th>Colorado</th>\n",
       "      <td>100.0</td>\n",
       "      <td>30.0</td>\n",
       "    </tr>\n",
       "    <tr>\n",
       "      <th>Kentucky</th>\n",
       "      <td>100.0</td>\n",
       "      <td>100.0</td>\n",
       "    </tr>\n",
       "    <tr>\n",
       "      <th>Louisiana</th>\n",
       "      <td>100.0</td>\n",
       "      <td>100.0</td>\n",
       "    </tr>\n",
       "    <tr>\n",
       "      <th>Minnesota</th>\n",
       "      <td>100.0</td>\n",
       "      <td>99.0</td>\n",
       "    </tr>\n",
       "    <tr>\n",
       "      <th>Mississippi</th>\n",
       "      <td>100.0</td>\n",
       "      <td>100.0</td>\n",
       "    </tr>\n",
       "    <tr>\n",
       "      <th>Missouri</th>\n",
       "      <td>100.0</td>\n",
       "      <td>100.0</td>\n",
       "    </tr>\n",
       "    <tr>\n",
       "      <th>Montana</th>\n",
       "      <td>100.0</td>\n",
       "      <td>100.0</td>\n",
       "    </tr>\n",
       "    <tr>\n",
       "      <th>Nevada</th>\n",
       "      <td>100.0</td>\n",
       "      <td>100.0</td>\n",
       "    </tr>\n",
       "    <tr>\n",
       "      <th>North Carolina</th>\n",
       "      <td>100.0</td>\n",
       "      <td>100.0</td>\n",
       "    </tr>\n",
       "    <tr>\n",
       "      <th>Oklahoma</th>\n",
       "      <td>100.0</td>\n",
       "      <td>100.0</td>\n",
       "    </tr>\n",
       "    <tr>\n",
       "      <th>South Carolina</th>\n",
       "      <td>100.0</td>\n",
       "      <td>100.0</td>\n",
       "    </tr>\n",
       "    <tr>\n",
       "      <th>Tennessee</th>\n",
       "      <td>100.0</td>\n",
       "      <td>100.0</td>\n",
       "    </tr>\n",
       "    <tr>\n",
       "      <th>Utah</th>\n",
       "      <td>100.0</td>\n",
       "      <td>100.0</td>\n",
       "    </tr>\n",
       "    <tr>\n",
       "      <th>Wisconsin</th>\n",
       "      <td>100.0</td>\n",
       "      <td>100.0</td>\n",
       "    </tr>\n",
       "    <tr>\n",
       "      <th>Wyoming</th>\n",
       "      <td>100.0</td>\n",
       "      <td>100.0</td>\n",
       "    </tr>\n",
       "  </tbody>\n",
       "</table>\n",
       "</div>"
      ],
      "text/plain": [
       "                act_participate_17  act_participate_18\n",
       "state                                                 \n",
       "Alabama                      100.0               100.0\n",
       "Arkansas                     100.0               100.0\n",
       "Colorado                     100.0                30.0\n",
       "Kentucky                     100.0               100.0\n",
       "Louisiana                    100.0               100.0\n",
       "Minnesota                    100.0                99.0\n",
       "Mississippi                  100.0               100.0\n",
       "Missouri                     100.0               100.0\n",
       "Montana                      100.0               100.0\n",
       "Nevada                       100.0               100.0\n",
       "North Carolina               100.0               100.0\n",
       "Oklahoma                     100.0               100.0\n",
       "South Carolina               100.0               100.0\n",
       "Tennessee                    100.0               100.0\n",
       "Utah                         100.0               100.0\n",
       "Wisconsin                    100.0               100.0\n",
       "Wyoming                      100.0               100.0"
      ]
     },
     "execution_count": 65,
     "metadata": {},
     "output_type": "execute_result"
    }
   ],
   "source": [
    "# Highest participation rate for act 2017.\n",
    "# From exploring the data earlier, observed more states participating in ACT.\n",
    "pact_df.loc[(pact_df['act_participate_17'] == 100.0)]"
   ]
  },
  {
   "cell_type": "markdown",
   "metadata": {},
   "source": [
    "**Answer:** For ACT 2017 particiaption rates, Maine, New Hampshire, Delaware, Rhode Island and Pennsylvania have lowest rate.\\\n",
    "17 States (Alabama, Arkansas, Colorado, Kentucky, Louisiana, Minnesota, Mississipi, Missouri, Montana\\\n",
    "Nevada, North Carolina, Oklahoma, South Carolina, Tennessee, Utah, Wiscousin and Wyoming) have the highest\\\n",
    "rates.\\\n",
    "**ACT appears to be more popular than SAT, which higher participation rates for many States.**\\\n",
    "**Between ACT 2017 and 2018, among the states with high participation rates, Colorado has the largest drop of 70%. "
   ]
  },
  {
   "cell_type": "code",
   "execution_count": 66,
   "metadata": {},
   "outputs": [
    {
     "data": {
      "text/html": [
       "<div>\n",
       "<style scoped>\n",
       "    .dataframe tbody tr th:only-of-type {\n",
       "        vertical-align: middle;\n",
       "    }\n",
       "\n",
       "    .dataframe tbody tr th {\n",
       "        vertical-align: top;\n",
       "    }\n",
       "\n",
       "    .dataframe thead th {\n",
       "        text-align: right;\n",
       "    }\n",
       "</style>\n",
       "<table border=\"1\" class=\"dataframe\">\n",
       "  <thead>\n",
       "    <tr style=\"text-align: right;\">\n",
       "      <th></th>\n",
       "      <th>act_participate_17</th>\n",
       "      <th>act_participate_18</th>\n",
       "    </tr>\n",
       "    <tr>\n",
       "      <th>state</th>\n",
       "      <th></th>\n",
       "      <th></th>\n",
       "    </tr>\n",
       "  </thead>\n",
       "  <tbody>\n",
       "    <tr>\n",
       "      <th>Maine</th>\n",
       "      <td>8.0</td>\n",
       "      <td>7.0</td>\n",
       "    </tr>\n",
       "    <tr>\n",
       "      <th>Rhode Island</th>\n",
       "      <td>21.0</td>\n",
       "      <td>15.0</td>\n",
       "    </tr>\n",
       "    <tr>\n",
       "      <th>New Hampshire</th>\n",
       "      <td>18.0</td>\n",
       "      <td>16.0</td>\n",
       "    </tr>\n",
       "    <tr>\n",
       "      <th>Delaware</th>\n",
       "      <td>18.0</td>\n",
       "      <td>17.0</td>\n",
       "    </tr>\n",
       "    <tr>\n",
       "      <th>Pennsylvania</th>\n",
       "      <td>23.0</td>\n",
       "      <td>20.0</td>\n",
       "    </tr>\n",
       "  </tbody>\n",
       "</table>\n",
       "</div>"
      ],
      "text/plain": [
       "               act_participate_17  act_participate_18\n",
       "state                                                \n",
       "Maine                         8.0                 7.0\n",
       "Rhode Island                 21.0                15.0\n",
       "New Hampshire                18.0                16.0\n",
       "Delaware                     18.0                17.0\n",
       "Pennsylvania                 23.0                20.0"
      ]
     },
     "execution_count": 66,
     "metadata": {},
     "output_type": "execute_result"
    }
   ],
   "source": [
    "# Lowest participation rate for act 2018.\n",
    "pact_df.sort_values('act_participate_18').head()"
   ]
  },
  {
   "cell_type": "code",
   "execution_count": 67,
   "metadata": {},
   "outputs": [
    {
     "data": {
      "text/html": [
       "<div>\n",
       "<style scoped>\n",
       "    .dataframe tbody tr th:only-of-type {\n",
       "        vertical-align: middle;\n",
       "    }\n",
       "\n",
       "    .dataframe tbody tr th {\n",
       "        vertical-align: top;\n",
       "    }\n",
       "\n",
       "    .dataframe thead th {\n",
       "        text-align: right;\n",
       "    }\n",
       "</style>\n",
       "<table border=\"1\" class=\"dataframe\">\n",
       "  <thead>\n",
       "    <tr style=\"text-align: right;\">\n",
       "      <th></th>\n",
       "      <th>act_participate_17</th>\n",
       "      <th>act_participate_18</th>\n",
       "    </tr>\n",
       "    <tr>\n",
       "      <th>state</th>\n",
       "      <th></th>\n",
       "      <th></th>\n",
       "    </tr>\n",
       "  </thead>\n",
       "  <tbody>\n",
       "    <tr>\n",
       "      <th>Alabama</th>\n",
       "      <td>100.0</td>\n",
       "      <td>100.0</td>\n",
       "    </tr>\n",
       "    <tr>\n",
       "      <th>Kentucky</th>\n",
       "      <td>100.0</td>\n",
       "      <td>100.0</td>\n",
       "    </tr>\n",
       "    <tr>\n",
       "      <th>Wisconsin</th>\n",
       "      <td>100.0</td>\n",
       "      <td>100.0</td>\n",
       "    </tr>\n",
       "    <tr>\n",
       "      <th>Utah</th>\n",
       "      <td>100.0</td>\n",
       "      <td>100.0</td>\n",
       "    </tr>\n",
       "    <tr>\n",
       "      <th>Tennessee</th>\n",
       "      <td>100.0</td>\n",
       "      <td>100.0</td>\n",
       "    </tr>\n",
       "    <tr>\n",
       "      <th>South Carolina</th>\n",
       "      <td>100.0</td>\n",
       "      <td>100.0</td>\n",
       "    </tr>\n",
       "    <tr>\n",
       "      <th>Oklahoma</th>\n",
       "      <td>100.0</td>\n",
       "      <td>100.0</td>\n",
       "    </tr>\n",
       "    <tr>\n",
       "      <th>Ohio</th>\n",
       "      <td>75.0</td>\n",
       "      <td>100.0</td>\n",
       "    </tr>\n",
       "    <tr>\n",
       "      <th>North Carolina</th>\n",
       "      <td>100.0</td>\n",
       "      <td>100.0</td>\n",
       "    </tr>\n",
       "    <tr>\n",
       "      <th>Nevada</th>\n",
       "      <td>100.0</td>\n",
       "      <td>100.0</td>\n",
       "    </tr>\n",
       "  </tbody>\n",
       "</table>\n",
       "</div>"
      ],
      "text/plain": [
       "                act_participate_17  act_participate_18\n",
       "state                                                 \n",
       "Alabama                      100.0               100.0\n",
       "Kentucky                     100.0               100.0\n",
       "Wisconsin                    100.0               100.0\n",
       "Utah                         100.0               100.0\n",
       "Tennessee                    100.0               100.0\n",
       "South Carolina               100.0               100.0\n",
       "Oklahoma                     100.0               100.0\n",
       "Ohio                          75.0               100.0\n",
       "North Carolina               100.0               100.0\n",
       "Nevada                       100.0               100.0"
      ]
     },
     "execution_count": 67,
     "metadata": {},
     "output_type": "execute_result"
    }
   ],
   "source": [
    "# Locate the rows, hence, State with highest participation rate for act 2018.\n",
    "pact_df.sort_values('act_participate_18', ascending = False).head(10)"
   ]
  },
  {
   "cell_type": "markdown",
   "metadata": {},
   "source": [
    "**Answer:** For ACT 2018 particiaption rates, the same five states: Maine, New Hampshire, Delaware, Rhode Island and Pennsylvania have the lowest rates.\\\n",
    "Alabama, Kentucky, Wiscousin, Utah, Tennessee, South Carolina, Oklahoma, Ohio, North Carolina and Nevada, have the highest rates. **Among the states with low participation rates, Rhode Island has the largest relative drop.**"
   ]
  },
  {
   "cell_type": "markdown",
   "metadata": {},
   "source": [
    "\n",
    "#### Investigating which State(s) has highest and lowest mean total/composite scores for SAT and ACT."
   ]
  },
  {
   "cell_type": "code",
   "execution_count": 68,
   "metadata": {},
   "outputs": [
    {
     "data": {
      "text/html": [
       "<div>\n",
       "<style scoped>\n",
       "    .dataframe tbody tr th:only-of-type {\n",
       "        vertical-align: middle;\n",
       "    }\n",
       "\n",
       "    .dataframe tbody tr th {\n",
       "        vertical-align: top;\n",
       "    }\n",
       "\n",
       "    .dataframe thead th {\n",
       "        text-align: right;\n",
       "    }\n",
       "</style>\n",
       "<table border=\"1\" class=\"dataframe\">\n",
       "  <thead>\n",
       "    <tr style=\"text-align: right;\">\n",
       "      <th></th>\n",
       "      <th>sat_total_17</th>\n",
       "      <th>sat_total_18</th>\n",
       "      <th>act_composite_17</th>\n",
       "      <th>act_composite_18</th>\n",
       "    </tr>\n",
       "  </thead>\n",
       "  <tbody>\n",
       "    <tr>\n",
       "      <th>min</th>\n",
       "      <td>950.0</td>\n",
       "      <td>977.0</td>\n",
       "      <td>17.8</td>\n",
       "      <td>17.7</td>\n",
       "    </tr>\n",
       "    <tr>\n",
       "      <th>max</th>\n",
       "      <td>1295.0</td>\n",
       "      <td>1298.0</td>\n",
       "      <td>25.5</td>\n",
       "      <td>25.6</td>\n",
       "    </tr>\n",
       "  </tbody>\n",
       "</table>\n",
       "</div>"
      ],
      "text/plain": [
       "     sat_total_17  sat_total_18  act_composite_17  act_composite_18\n",
       "min         950.0         977.0              17.8              17.7\n",
       "max        1295.0        1298.0              25.5              25.6"
      ]
     },
     "execution_count": 68,
     "metadata": {},
     "output_type": "execute_result"
    }
   ],
   "source": [
    "# Aggregate the min, max of sat total score and act composite score for sat2017,2018 and act2017,2018.\n",
    "final_df[['sat_total_17', 'sat_total_18',\\\n",
    "          'act_composite_17', 'act_composite_18']].agg(['min', 'max'])"
   ]
  },
  {
   "cell_type": "code",
   "execution_count": 69,
   "metadata": {},
   "outputs": [],
   "source": [
    "# Create a sub dataframe for sat total.\n",
    "sat_df = final_df[['sat_total_17', 'sat_total_18']]"
   ]
  },
  {
   "cell_type": "code",
   "execution_count": 70,
   "metadata": {},
   "outputs": [],
   "source": [
    "# Create a sub dataframe for act total.\n",
    "act_df = final_df[['act_composite_17', 'act_composite_18']]"
   ]
  },
  {
   "cell_type": "code",
   "execution_count": 71,
   "metadata": {},
   "outputs": [
    {
     "data": {
      "text/html": [
       "<div>\n",
       "<style scoped>\n",
       "    .dataframe tbody tr th:only-of-type {\n",
       "        vertical-align: middle;\n",
       "    }\n",
       "\n",
       "    .dataframe tbody tr th {\n",
       "        vertical-align: top;\n",
       "    }\n",
       "\n",
       "    .dataframe thead th {\n",
       "        text-align: right;\n",
       "    }\n",
       "</style>\n",
       "<table border=\"1\" class=\"dataframe\">\n",
       "  <thead>\n",
       "    <tr style=\"text-align: right;\">\n",
       "      <th></th>\n",
       "      <th>sat_total_17</th>\n",
       "      <th>sat_total_18</th>\n",
       "    </tr>\n",
       "    <tr>\n",
       "      <th>state</th>\n",
       "      <th></th>\n",
       "      <th></th>\n",
       "    </tr>\n",
       "  </thead>\n",
       "  <tbody>\n",
       "    <tr>\n",
       "      <th>District of Columbia</th>\n",
       "      <td>950.0</td>\n",
       "      <td>977.0</td>\n",
       "    </tr>\n",
       "    <tr>\n",
       "      <th>Delaware</th>\n",
       "      <td>996.0</td>\n",
       "      <td>998.0</td>\n",
       "    </tr>\n",
       "    <tr>\n",
       "      <th>Idaho</th>\n",
       "      <td>1005.0</td>\n",
       "      <td>1001.0</td>\n",
       "    </tr>\n",
       "    <tr>\n",
       "      <th>Michigan</th>\n",
       "      <td>1005.0</td>\n",
       "      <td>1011.0</td>\n",
       "    </tr>\n",
       "    <tr>\n",
       "      <th>Maine</th>\n",
       "      <td>1012.0</td>\n",
       "      <td>1013.0</td>\n",
       "    </tr>\n",
       "  </tbody>\n",
       "</table>\n",
       "</div>"
      ],
      "text/plain": [
       "                      sat_total_17  sat_total_18\n",
       "state                                           \n",
       "District of Columbia         950.0         977.0\n",
       "Delaware                     996.0         998.0\n",
       "Idaho                       1005.0        1001.0\n",
       "Michigan                    1005.0        1011.0\n",
       "Maine                       1012.0        1013.0"
      ]
     },
     "execution_count": 71,
     "metadata": {},
     "output_type": "execute_result"
    }
   ],
   "source": [
    "# Lowest sat total score for sat 2017.\n",
    "sat_df.sort_values('sat_total_17').head()"
   ]
  },
  {
   "cell_type": "code",
   "execution_count": 72,
   "metadata": {},
   "outputs": [
    {
     "data": {
      "text/html": [
       "<div>\n",
       "<style scoped>\n",
       "    .dataframe tbody tr th:only-of-type {\n",
       "        vertical-align: middle;\n",
       "    }\n",
       "\n",
       "    .dataframe tbody tr th {\n",
       "        vertical-align: top;\n",
       "    }\n",
       "\n",
       "    .dataframe thead th {\n",
       "        text-align: right;\n",
       "    }\n",
       "</style>\n",
       "<table border=\"1\" class=\"dataframe\">\n",
       "  <thead>\n",
       "    <tr style=\"text-align: right;\">\n",
       "      <th></th>\n",
       "      <th>sat_total_17</th>\n",
       "      <th>sat_total_18</th>\n",
       "    </tr>\n",
       "    <tr>\n",
       "      <th>state</th>\n",
       "      <th></th>\n",
       "      <th></th>\n",
       "    </tr>\n",
       "  </thead>\n",
       "  <tbody>\n",
       "    <tr>\n",
       "      <th>Minnesota</th>\n",
       "      <td>1295.0</td>\n",
       "      <td>1298.0</td>\n",
       "    </tr>\n",
       "    <tr>\n",
       "      <th>Wisconsin</th>\n",
       "      <td>1291.0</td>\n",
       "      <td>1294.0</td>\n",
       "    </tr>\n",
       "    <tr>\n",
       "      <th>Iowa</th>\n",
       "      <td>1275.0</td>\n",
       "      <td>1265.0</td>\n",
       "    </tr>\n",
       "    <tr>\n",
       "      <th>Missouri</th>\n",
       "      <td>1271.0</td>\n",
       "      <td>1262.0</td>\n",
       "    </tr>\n",
       "    <tr>\n",
       "      <th>Kansas</th>\n",
       "      <td>1260.0</td>\n",
       "      <td>1265.0</td>\n",
       "    </tr>\n",
       "  </tbody>\n",
       "</table>\n",
       "</div>"
      ],
      "text/plain": [
       "           sat_total_17  sat_total_18\n",
       "state                                \n",
       "Minnesota        1295.0        1298.0\n",
       "Wisconsin        1291.0        1294.0\n",
       "Iowa             1275.0        1265.0\n",
       "Missouri         1271.0        1262.0\n",
       "Kansas           1260.0        1265.0"
      ]
     },
     "execution_count": 72,
     "metadata": {},
     "output_type": "execute_result"
    }
   ],
   "source": [
    "# Highest sat total score for sat 2017.\n",
    "sat_df.sort_values('sat_total_17',ascending=False).head()"
   ]
  },
  {
   "cell_type": "markdown",
   "metadata": {},
   "source": [
    "**Answer:** For SAT 2017 total scores, District of Columbia, Delaware, Idaho, Michigan and Maine have the lowest scores. \n",
    "Minnesota, Wincosin, Iowa, Missouri and Kansas have the highest scores."
   ]
  },
  {
   "cell_type": "code",
   "execution_count": 73,
   "metadata": {},
   "outputs": [
    {
     "data": {
      "text/html": [
       "<div>\n",
       "<style scoped>\n",
       "    .dataframe tbody tr th:only-of-type {\n",
       "        vertical-align: middle;\n",
       "    }\n",
       "\n",
       "    .dataframe tbody tr th {\n",
       "        vertical-align: top;\n",
       "    }\n",
       "\n",
       "    .dataframe thead th {\n",
       "        text-align: right;\n",
       "    }\n",
       "</style>\n",
       "<table border=\"1\" class=\"dataframe\">\n",
       "  <thead>\n",
       "    <tr style=\"text-align: right;\">\n",
       "      <th></th>\n",
       "      <th>sat_total_17</th>\n",
       "      <th>sat_total_18</th>\n",
       "    </tr>\n",
       "    <tr>\n",
       "      <th>state</th>\n",
       "      <th></th>\n",
       "      <th></th>\n",
       "    </tr>\n",
       "  </thead>\n",
       "  <tbody>\n",
       "    <tr>\n",
       "      <th>District of Columbia</th>\n",
       "      <td>950.0</td>\n",
       "      <td>977.0</td>\n",
       "    </tr>\n",
       "    <tr>\n",
       "      <th>Delaware</th>\n",
       "      <td>996.0</td>\n",
       "      <td>998.0</td>\n",
       "    </tr>\n",
       "    <tr>\n",
       "      <th>West Virginia</th>\n",
       "      <td>1086.0</td>\n",
       "      <td>999.0</td>\n",
       "    </tr>\n",
       "    <tr>\n",
       "      <th>Idaho</th>\n",
       "      <td>1005.0</td>\n",
       "      <td>1001.0</td>\n",
       "    </tr>\n",
       "    <tr>\n",
       "      <th>Utah</th>\n",
       "      <td>1238.0</td>\n",
       "      <td>1010.0</td>\n",
       "    </tr>\n",
       "  </tbody>\n",
       "</table>\n",
       "</div>"
      ],
      "text/plain": [
       "                      sat_total_17  sat_total_18\n",
       "state                                           \n",
       "District of Columbia         950.0         977.0\n",
       "Delaware                     996.0         998.0\n",
       "West Virginia               1086.0         999.0\n",
       "Idaho                       1005.0        1001.0\n",
       "Utah                        1238.0        1010.0"
      ]
     },
     "execution_count": 73,
     "metadata": {},
     "output_type": "execute_result"
    }
   ],
   "source": [
    "# Lowest sat total score for sat 2018.\n",
    "sat_df.sort_values('sat_total_18').head()"
   ]
  },
  {
   "cell_type": "code",
   "execution_count": 74,
   "metadata": {},
   "outputs": [
    {
     "data": {
      "text/html": [
       "<div>\n",
       "<style scoped>\n",
       "    .dataframe tbody tr th:only-of-type {\n",
       "        vertical-align: middle;\n",
       "    }\n",
       "\n",
       "    .dataframe tbody tr th {\n",
       "        vertical-align: top;\n",
       "    }\n",
       "\n",
       "    .dataframe thead th {\n",
       "        text-align: right;\n",
       "    }\n",
       "</style>\n",
       "<table border=\"1\" class=\"dataframe\">\n",
       "  <thead>\n",
       "    <tr style=\"text-align: right;\">\n",
       "      <th></th>\n",
       "      <th>sat_total_17</th>\n",
       "      <th>sat_total_18</th>\n",
       "    </tr>\n",
       "    <tr>\n",
       "      <th>state</th>\n",
       "      <th></th>\n",
       "      <th></th>\n",
       "    </tr>\n",
       "  </thead>\n",
       "  <tbody>\n",
       "    <tr>\n",
       "      <th>Minnesota</th>\n",
       "      <td>1295.0</td>\n",
       "      <td>1298.0</td>\n",
       "    </tr>\n",
       "    <tr>\n",
       "      <th>Wisconsin</th>\n",
       "      <td>1291.0</td>\n",
       "      <td>1294.0</td>\n",
       "    </tr>\n",
       "    <tr>\n",
       "      <th>North Dakota</th>\n",
       "      <td>1256.0</td>\n",
       "      <td>1283.0</td>\n",
       "    </tr>\n",
       "    <tr>\n",
       "      <th>Iowa</th>\n",
       "      <td>1275.0</td>\n",
       "      <td>1265.0</td>\n",
       "    </tr>\n",
       "    <tr>\n",
       "      <th>Kansas</th>\n",
       "      <td>1260.0</td>\n",
       "      <td>1265.0</td>\n",
       "    </tr>\n",
       "  </tbody>\n",
       "</table>\n",
       "</div>"
      ],
      "text/plain": [
       "              sat_total_17  sat_total_18\n",
       "state                                   \n",
       "Minnesota           1295.0        1298.0\n",
       "Wisconsin           1291.0        1294.0\n",
       "North Dakota        1256.0        1283.0\n",
       "Iowa                1275.0        1265.0\n",
       "Kansas              1260.0        1265.0"
      ]
     },
     "execution_count": 74,
     "metadata": {},
     "output_type": "execute_result"
    }
   ],
   "source": [
    "# Highest sat total score for sat 2018.\n",
    "sat_df.sort_values('sat_total_18',ascending=False).head()"
   ]
  },
  {
   "cell_type": "markdown",
   "metadata": {},
   "source": [
    "**Answer:** For SAT 2018 total scores, District of Columbia, Delaware, and Idaho again have the lowest scores. \n",
    "Minnesota, Wincosin, Iowa and Kansas have again the highest scores. "
   ]
  },
  {
   "cell_type": "code",
   "execution_count": 75,
   "metadata": {},
   "outputs": [
    {
     "data": {
      "text/html": [
       "<div>\n",
       "<style scoped>\n",
       "    .dataframe tbody tr th:only-of-type {\n",
       "        vertical-align: middle;\n",
       "    }\n",
       "\n",
       "    .dataframe tbody tr th {\n",
       "        vertical-align: top;\n",
       "    }\n",
       "\n",
       "    .dataframe thead th {\n",
       "        text-align: right;\n",
       "    }\n",
       "</style>\n",
       "<table border=\"1\" class=\"dataframe\">\n",
       "  <thead>\n",
       "    <tr style=\"text-align: right;\">\n",
       "      <th></th>\n",
       "      <th>act_composite_17</th>\n",
       "      <th>act_composite_18</th>\n",
       "    </tr>\n",
       "    <tr>\n",
       "      <th>state</th>\n",
       "      <th></th>\n",
       "      <th></th>\n",
       "    </tr>\n",
       "  </thead>\n",
       "  <tbody>\n",
       "    <tr>\n",
       "      <th>Nevada</th>\n",
       "      <td>17.8</td>\n",
       "      <td>17.7</td>\n",
       "    </tr>\n",
       "    <tr>\n",
       "      <th>Mississippi</th>\n",
       "      <td>18.6</td>\n",
       "      <td>18.6</td>\n",
       "    </tr>\n",
       "    <tr>\n",
       "      <th>South Carolina</th>\n",
       "      <td>18.7</td>\n",
       "      <td>18.3</td>\n",
       "    </tr>\n",
       "    <tr>\n",
       "      <th>Hawaii</th>\n",
       "      <td>19.0</td>\n",
       "      <td>18.9</td>\n",
       "    </tr>\n",
       "    <tr>\n",
       "      <th>North Carolina</th>\n",
       "      <td>19.1</td>\n",
       "      <td>19.1</td>\n",
       "    </tr>\n",
       "  </tbody>\n",
       "</table>\n",
       "</div>"
      ],
      "text/plain": [
       "                act_composite_17  act_composite_18\n",
       "state                                             \n",
       "Nevada                      17.8              17.7\n",
       "Mississippi                 18.6              18.6\n",
       "South Carolina              18.7              18.3\n",
       "Hawaii                      19.0              18.9\n",
       "North Carolina              19.1              19.1"
      ]
     },
     "execution_count": 75,
     "metadata": {},
     "output_type": "execute_result"
    }
   ],
   "source": [
    "# Lowest act composite score for act 2017.\n",
    "act_df.sort_values('act_composite_17').head()"
   ]
  },
  {
   "cell_type": "code",
   "execution_count": 76,
   "metadata": {},
   "outputs": [
    {
     "data": {
      "text/html": [
       "<div>\n",
       "<style scoped>\n",
       "    .dataframe tbody tr th:only-of-type {\n",
       "        vertical-align: middle;\n",
       "    }\n",
       "\n",
       "    .dataframe tbody tr th {\n",
       "        vertical-align: top;\n",
       "    }\n",
       "\n",
       "    .dataframe thead th {\n",
       "        text-align: right;\n",
       "    }\n",
       "</style>\n",
       "<table border=\"1\" class=\"dataframe\">\n",
       "  <thead>\n",
       "    <tr style=\"text-align: right;\">\n",
       "      <th></th>\n",
       "      <th>act_composite_17</th>\n",
       "      <th>act_composite_18</th>\n",
       "    </tr>\n",
       "    <tr>\n",
       "      <th>state</th>\n",
       "      <th></th>\n",
       "      <th></th>\n",
       "    </tr>\n",
       "  </thead>\n",
       "  <tbody>\n",
       "    <tr>\n",
       "      <th>New Hampshire</th>\n",
       "      <td>25.5</td>\n",
       "      <td>25.1</td>\n",
       "    </tr>\n",
       "    <tr>\n",
       "      <th>Massachusetts</th>\n",
       "      <td>25.4</td>\n",
       "      <td>25.5</td>\n",
       "    </tr>\n",
       "    <tr>\n",
       "      <th>Connecticut</th>\n",
       "      <td>25.2</td>\n",
       "      <td>25.6</td>\n",
       "    </tr>\n",
       "    <tr>\n",
       "      <th>Maine</th>\n",
       "      <td>24.3</td>\n",
       "      <td>24.0</td>\n",
       "    </tr>\n",
       "    <tr>\n",
       "      <th>District of Columbia</th>\n",
       "      <td>24.2</td>\n",
       "      <td>23.6</td>\n",
       "    </tr>\n",
       "  </tbody>\n",
       "</table>\n",
       "</div>"
      ],
      "text/plain": [
       "                      act_composite_17  act_composite_18\n",
       "state                                                   \n",
       "New Hampshire                     25.5              25.1\n",
       "Massachusetts                     25.4              25.5\n",
       "Connecticut                       25.2              25.6\n",
       "Maine                             24.3              24.0\n",
       "District of Columbia              24.2              23.6"
      ]
     },
     "execution_count": 76,
     "metadata": {},
     "output_type": "execute_result"
    }
   ],
   "source": [
    "# Highest act composite score for act 2017.\n",
    "act_df.sort_values('act_composite_17',ascending=False).head()"
   ]
  },
  {
   "cell_type": "markdown",
   "metadata": {},
   "source": [
    "**Answer:** For ACT 2017 composite scores, Nevada, Mississipi, South Carolina, Hawaii and North Carolina have lowest. Massachusetts, Connecticut, Maine and District of Columbia have the highest."
   ]
  },
  {
   "cell_type": "code",
   "execution_count": 77,
   "metadata": {},
   "outputs": [
    {
     "data": {
      "text/html": [
       "<div>\n",
       "<style scoped>\n",
       "    .dataframe tbody tr th:only-of-type {\n",
       "        vertical-align: middle;\n",
       "    }\n",
       "\n",
       "    .dataframe tbody tr th {\n",
       "        vertical-align: top;\n",
       "    }\n",
       "\n",
       "    .dataframe thead th {\n",
       "        text-align: right;\n",
       "    }\n",
       "</style>\n",
       "<table border=\"1\" class=\"dataframe\">\n",
       "  <thead>\n",
       "    <tr style=\"text-align: right;\">\n",
       "      <th></th>\n",
       "      <th>act_composite_17</th>\n",
       "      <th>act_composite_18</th>\n",
       "    </tr>\n",
       "    <tr>\n",
       "      <th>state</th>\n",
       "      <th></th>\n",
       "      <th></th>\n",
       "    </tr>\n",
       "  </thead>\n",
       "  <tbody>\n",
       "    <tr>\n",
       "      <th>Nevada</th>\n",
       "      <td>17.8</td>\n",
       "      <td>17.7</td>\n",
       "    </tr>\n",
       "    <tr>\n",
       "      <th>South Carolina</th>\n",
       "      <td>18.7</td>\n",
       "      <td>18.3</td>\n",
       "    </tr>\n",
       "    <tr>\n",
       "      <th>Mississippi</th>\n",
       "      <td>18.6</td>\n",
       "      <td>18.6</td>\n",
       "    </tr>\n",
       "    <tr>\n",
       "      <th>Hawaii</th>\n",
       "      <td>19.0</td>\n",
       "      <td>18.9</td>\n",
       "    </tr>\n",
       "    <tr>\n",
       "      <th>Alabama</th>\n",
       "      <td>19.2</td>\n",
       "      <td>19.1</td>\n",
       "    </tr>\n",
       "  </tbody>\n",
       "</table>\n",
       "</div>"
      ],
      "text/plain": [
       "                act_composite_17  act_composite_18\n",
       "state                                             \n",
       "Nevada                      17.8              17.7\n",
       "South Carolina              18.7              18.3\n",
       "Mississippi                 18.6              18.6\n",
       "Hawaii                      19.0              18.9\n",
       "Alabama                     19.2              19.1"
      ]
     },
     "execution_count": 77,
     "metadata": {},
     "output_type": "execute_result"
    }
   ],
   "source": [
    "# Lowest act composite score for act 2018.\n",
    "act_df.sort_values('act_composite_18').head()"
   ]
  },
  {
   "cell_type": "code",
   "execution_count": 78,
   "metadata": {},
   "outputs": [
    {
     "data": {
      "text/html": [
       "<div>\n",
       "<style scoped>\n",
       "    .dataframe tbody tr th:only-of-type {\n",
       "        vertical-align: middle;\n",
       "    }\n",
       "\n",
       "    .dataframe tbody tr th {\n",
       "        vertical-align: top;\n",
       "    }\n",
       "\n",
       "    .dataframe thead th {\n",
       "        text-align: right;\n",
       "    }\n",
       "</style>\n",
       "<table border=\"1\" class=\"dataframe\">\n",
       "  <thead>\n",
       "    <tr style=\"text-align: right;\">\n",
       "      <th></th>\n",
       "      <th>act_composite_17</th>\n",
       "      <th>act_composite_18</th>\n",
       "    </tr>\n",
       "    <tr>\n",
       "      <th>state</th>\n",
       "      <th></th>\n",
       "      <th></th>\n",
       "    </tr>\n",
       "  </thead>\n",
       "  <tbody>\n",
       "    <tr>\n",
       "      <th>Connecticut</th>\n",
       "      <td>25.2</td>\n",
       "      <td>25.6</td>\n",
       "    </tr>\n",
       "    <tr>\n",
       "      <th>Massachusetts</th>\n",
       "      <td>25.4</td>\n",
       "      <td>25.5</td>\n",
       "    </tr>\n",
       "    <tr>\n",
       "      <th>New Hampshire</th>\n",
       "      <td>25.5</td>\n",
       "      <td>25.1</td>\n",
       "    </tr>\n",
       "    <tr>\n",
       "      <th>New York</th>\n",
       "      <td>24.2</td>\n",
       "      <td>24.5</td>\n",
       "    </tr>\n",
       "    <tr>\n",
       "      <th>Michigan</th>\n",
       "      <td>24.1</td>\n",
       "      <td>24.4</td>\n",
       "    </tr>\n",
       "  </tbody>\n",
       "</table>\n",
       "</div>"
      ],
      "text/plain": [
       "               act_composite_17  act_composite_18\n",
       "state                                            \n",
       "Connecticut                25.2              25.6\n",
       "Massachusetts              25.4              25.5\n",
       "New Hampshire              25.5              25.1\n",
       "New York                   24.2              24.5\n",
       "Michigan                   24.1              24.4"
      ]
     },
     "execution_count": 78,
     "metadata": {},
     "output_type": "execute_result"
    }
   ],
   "source": [
    "# Highest act composite score for act 2018.\n",
    "act_df.sort_values('act_composite_18',ascending=False).head()"
   ]
  },
  {
   "cell_type": "markdown",
   "metadata": {},
   "source": [
    "**Answer:** For ACT 2018 composite scores, Nevada, Mississipi, South Carolina, Hawaii again have the lowest. Massachusetts, Connecticut, again have the highest."
   ]
  },
  {
   "cell_type": "markdown",
   "metadata": {},
   "source": [
    "#### Investigating which state(s) with 100% participation on a given test have a rate change year-to-year"
   ]
  },
  {
   "cell_type": "code",
   "execution_count": 79,
   "metadata": {},
   "outputs": [
    {
     "data": {
      "text/html": [
       "<div>\n",
       "<style scoped>\n",
       "    .dataframe tbody tr th:only-of-type {\n",
       "        vertical-align: middle;\n",
       "    }\n",
       "\n",
       "    .dataframe tbody tr th {\n",
       "        vertical-align: top;\n",
       "    }\n",
       "\n",
       "    .dataframe thead th {\n",
       "        text-align: right;\n",
       "    }\n",
       "</style>\n",
       "<table border=\"1\" class=\"dataframe\">\n",
       "  <thead>\n",
       "    <tr style=\"text-align: right;\">\n",
       "      <th></th>\n",
       "      <th>sat_participate_17</th>\n",
       "      <th>sat_participate_18</th>\n",
       "    </tr>\n",
       "    <tr>\n",
       "      <th>state</th>\n",
       "      <th></th>\n",
       "      <th></th>\n",
       "    </tr>\n",
       "  </thead>\n",
       "  <tbody>\n",
       "    <tr>\n",
       "      <th>District of Columbia</th>\n",
       "      <td>100.0</td>\n",
       "      <td>92.0</td>\n",
       "    </tr>\n",
       "  </tbody>\n",
       "</table>\n",
       "</div>"
      ],
      "text/plain": [
       "                      sat_participate_17  sat_participate_18\n",
       "state                                                       \n",
       "District of Columbia               100.0                92.0"
      ]
     },
     "execution_count": 79,
     "metadata": {},
     "output_type": "execute_result"
    }
   ],
   "source": [
    "# Identify which State(s) which 100% participation rate on sat has a rate change.\n",
    "\"\"\"Assign the filtered dataframe with max. participation rates for sat 2017\n",
    "to variable satmax_df.\"\"\"\n",
    "satmax_df = final_df[['sat_participate_17', 'sat_participate_18']]\n",
    "\n",
    "\"\"\"Return the State(s) with rate change, if any\"\"\"\n",
    "satmax_df.loc[(satmax_df['sat_participate_17'] == 100.0) & (satmax_df['sat_participate_18'] != 100.0)]\n"
   ]
  },
  {
   "cell_type": "markdown",
   "metadata": {},
   "source": [
    "**Answer:** District of Columbia had 100% participation rate in SAT 2017. It dropped 8% to 92% in 2018."
   ]
  },
  {
   "cell_type": "code",
   "execution_count": 80,
   "metadata": {},
   "outputs": [
    {
     "data": {
      "text/html": [
       "<div>\n",
       "<style scoped>\n",
       "    .dataframe tbody tr th:only-of-type {\n",
       "        vertical-align: middle;\n",
       "    }\n",
       "\n",
       "    .dataframe tbody tr th {\n",
       "        vertical-align: top;\n",
       "    }\n",
       "\n",
       "    .dataframe thead th {\n",
       "        text-align: right;\n",
       "    }\n",
       "</style>\n",
       "<table border=\"1\" class=\"dataframe\">\n",
       "  <thead>\n",
       "    <tr style=\"text-align: right;\">\n",
       "      <th></th>\n",
       "      <th>act_participate_17</th>\n",
       "      <th>act_participate_18</th>\n",
       "    </tr>\n",
       "    <tr>\n",
       "      <th>state</th>\n",
       "      <th></th>\n",
       "      <th></th>\n",
       "    </tr>\n",
       "  </thead>\n",
       "  <tbody>\n",
       "    <tr>\n",
       "      <th>Colorado</th>\n",
       "      <td>100.0</td>\n",
       "      <td>30.0</td>\n",
       "    </tr>\n",
       "    <tr>\n",
       "      <th>Minnesota</th>\n",
       "      <td>100.0</td>\n",
       "      <td>99.0</td>\n",
       "    </tr>\n",
       "  </tbody>\n",
       "</table>\n",
       "</div>"
      ],
      "text/plain": [
       "           act_participate_17  act_participate_18\n",
       "state                                            \n",
       "Colorado                100.0                30.0\n",
       "Minnesota               100.0                99.0"
      ]
     },
     "execution_count": 80,
     "metadata": {},
     "output_type": "execute_result"
    }
   ],
   "source": [
    "# Identify which State(s) which 100% participation rate on act has a rate change.\n",
    "\"\"\"Create a new dataframe with act participations. Assign to variable d\"\"\"\n",
    "d = final_df[['act_participate_17','act_participate_18']]\n",
    "\n",
    "\"\"\"Return the State(s) with rate change, if any\"\"\"\n",
    "d.loc[(d['act_participate_17'] == 100.0) & (d['act_participate_18'] != 100.0)]"
   ]
  },
  {
   "cell_type": "markdown",
   "metadata": {},
   "source": [
    "**Answer:** Colorado and Minnesota both had 100% participation in ACT 2017. **Colorado dropped 70%** while Minnesota dropped 1% in ACT 2018."
   ]
  },
  {
   "cell_type": "markdown",
   "metadata": {},
   "source": [
    "\n",
    "#### Investigating any states have >50% participation on both tests either year"
   ]
  },
  {
   "cell_type": "code",
   "execution_count": 81,
   "metadata": {},
   "outputs": [
    {
     "data": {
      "text/html": [
       "<div>\n",
       "<style scoped>\n",
       "    .dataframe tbody tr th:only-of-type {\n",
       "        vertical-align: middle;\n",
       "    }\n",
       "\n",
       "    .dataframe tbody tr th {\n",
       "        vertical-align: top;\n",
       "    }\n",
       "\n",
       "    .dataframe thead th {\n",
       "        text-align: right;\n",
       "    }\n",
       "</style>\n",
       "<table border=\"1\" class=\"dataframe\">\n",
       "  <thead>\n",
       "    <tr style=\"text-align: right;\">\n",
       "      <th></th>\n",
       "      <th>sat_participate_17</th>\n",
       "      <th>sat_participate_18</th>\n",
       "      <th>act_participate_17</th>\n",
       "      <th>act_participate_18</th>\n",
       "    </tr>\n",
       "    <tr>\n",
       "      <th>state</th>\n",
       "      <th></th>\n",
       "      <th></th>\n",
       "      <th></th>\n",
       "      <th></th>\n",
       "    </tr>\n",
       "  </thead>\n",
       "  <tbody>\n",
       "    <tr>\n",
       "      <th>Alabama</th>\n",
       "      <td>5.0</td>\n",
       "      <td>6.0</td>\n",
       "      <td>100.0</td>\n",
       "      <td>100.0</td>\n",
       "    </tr>\n",
       "    <tr>\n",
       "      <th>Alaska</th>\n",
       "      <td>38.0</td>\n",
       "      <td>43.0</td>\n",
       "      <td>65.0</td>\n",
       "      <td>33.0</td>\n",
       "    </tr>\n",
       "  </tbody>\n",
       "</table>\n",
       "</div>"
      ],
      "text/plain": [
       "         sat_participate_17  sat_participate_18  act_participate_17  \\\n",
       "state                                                                 \n",
       "Alabama                 5.0                 6.0               100.0   \n",
       "Alaska                 38.0                43.0                65.0   \n",
       "\n",
       "         act_participate_18  \n",
       "state                        \n",
       "Alabama               100.0  \n",
       "Alaska                 33.0  "
      ]
     },
     "execution_count": 81,
     "metadata": {},
     "output_type": "execute_result"
    }
   ],
   "source": [
    "\"\"\"Create a new dataframe with the participation rates,\n",
    "    assign it to variable 'p_df' (e.g. participation).\"\"\"\n",
    "p = final_df[['sat_participate_17','sat_participate_18','act_participate_17','act_participate_18']]\n",
    "p.head(2)"
   ]
  },
  {
   "cell_type": "code",
   "execution_count": 82,
   "metadata": {},
   "outputs": [
    {
     "data": {
      "text/html": [
       "<div>\n",
       "<style scoped>\n",
       "    .dataframe tbody tr th:only-of-type {\n",
       "        vertical-align: middle;\n",
       "    }\n",
       "\n",
       "    .dataframe tbody tr th {\n",
       "        vertical-align: top;\n",
       "    }\n",
       "\n",
       "    .dataframe thead th {\n",
       "        text-align: right;\n",
       "    }\n",
       "</style>\n",
       "<table border=\"1\" class=\"dataframe\">\n",
       "  <thead>\n",
       "    <tr style=\"text-align: right;\">\n",
       "      <th></th>\n",
       "      <th>sat_participate_17</th>\n",
       "      <th>sat_participate_18</th>\n",
       "      <th>act_participate_17</th>\n",
       "      <th>act_participate_18</th>\n",
       "    </tr>\n",
       "    <tr>\n",
       "      <th>state</th>\n",
       "      <th></th>\n",
       "      <th></th>\n",
       "      <th></th>\n",
       "      <th></th>\n",
       "    </tr>\n",
       "  </thead>\n",
       "  <tbody>\n",
       "    <tr>\n",
       "      <th>Florida</th>\n",
       "      <td>83.0</td>\n",
       "      <td>56.0</td>\n",
       "      <td>73.0</td>\n",
       "      <td>66.0</td>\n",
       "    </tr>\n",
       "    <tr>\n",
       "      <th>Georgia</th>\n",
       "      <td>61.0</td>\n",
       "      <td>70.0</td>\n",
       "      <td>55.0</td>\n",
       "      <td>53.0</td>\n",
       "    </tr>\n",
       "    <tr>\n",
       "      <th>Hawaii</th>\n",
       "      <td>55.0</td>\n",
       "      <td>56.0</td>\n",
       "      <td>90.0</td>\n",
       "      <td>89.0</td>\n",
       "    </tr>\n",
       "    <tr>\n",
       "      <th>North Carolina</th>\n",
       "      <td>49.0</td>\n",
       "      <td>52.0</td>\n",
       "      <td>100.0</td>\n",
       "      <td>100.0</td>\n",
       "    </tr>\n",
       "    <tr>\n",
       "      <th>South Carolina</th>\n",
       "      <td>50.0</td>\n",
       "      <td>55.0</td>\n",
       "      <td>100.0</td>\n",
       "      <td>100.0</td>\n",
       "    </tr>\n",
       "  </tbody>\n",
       "</table>\n",
       "</div>"
      ],
      "text/plain": [
       "                sat_participate_17  sat_participate_18  act_participate_17  \\\n",
       "state                                                                        \n",
       "Florida                       83.0                56.0                73.0   \n",
       "Georgia                       61.0                70.0                55.0   \n",
       "Hawaii                        55.0                56.0                90.0   \n",
       "North Carolina                49.0                52.0               100.0   \n",
       "South Carolina                50.0                55.0               100.0   \n",
       "\n",
       "                act_participate_18  \n",
       "state                               \n",
       "Florida                       66.0  \n",
       "Georgia                       53.0  \n",
       "Hawaii                        89.0  \n",
       "North Carolina               100.0  \n",
       "South Carolina               100.0  "
      ]
     },
     "execution_count": 82,
     "metadata": {},
     "output_type": "execute_result"
    }
   ],
   "source": [
    "# Filter and return States with >50% participation rates on both tests, either year.\n",
    "\"\"\"Select only States with >50% participation on both tests for 2017, \n",
    "and combine this with the results for States with >50% participation on both tests for 2018.\"\"\"\n",
    "p.loc[(p['sat_participate_17'] > 50.0) & (p['act_participate_17'] > 50.0)|\\\n",
    "      (p['sat_participate_18'] > 50.0) & (p['act_participate_18'] > 50.0)]"
   ]
  },
  {
   "cell_type": "markdown",
   "metadata": {},
   "source": [
    "**Answer:** Florida, Georgia, Hawaii, North Carolina and South Carolina have more than 50% participation on both tests either year."
   ]
  },
  {
   "cell_type": "markdown",
   "metadata": {},
   "source": [
    "**Which state is of particular interest?**\n",
    "\n",
    "**Answer:**\n",
    "From literature research, both ACT and SAT are both universally accepted University entrance tests. Both tests are offered by __[nonprofit organisations](https://www.usnews.com/education/best-colleges/articles/act-vs-sat-how-to-decide-which-test-to-take)__. The **College Board offers the SAT**, while the ACT organization offers the ACT tests.\n",
    "\n",
    "From the exploratory data analysis so far, Colorado seem interesting:\n",
    "- Between ACT 2017 and 2018, among the states with high participation rates, Colorado has the largest drop of 70%. We could delve deeper into this observation."
   ]
  },
  {
   "cell_type": "code",
   "execution_count": 83,
   "metadata": {},
   "outputs": [
    {
     "data": {
      "text/html": [
       "<div>\n",
       "<style scoped>\n",
       "    .dataframe tbody tr th:only-of-type {\n",
       "        vertical-align: middle;\n",
       "    }\n",
       "\n",
       "    .dataframe tbody tr th {\n",
       "        vertical-align: top;\n",
       "    }\n",
       "\n",
       "    .dataframe thead th {\n",
       "        text-align: right;\n",
       "    }\n",
       "</style>\n",
       "<table border=\"1\" class=\"dataframe\">\n",
       "  <thead>\n",
       "    <tr style=\"text-align: right;\">\n",
       "      <th></th>\n",
       "      <th>sat_participate_17</th>\n",
       "      <th>sat_total_17</th>\n",
       "      <th>sat_participate_18</th>\n",
       "      <th>sat_total_18</th>\n",
       "    </tr>\n",
       "    <tr>\n",
       "      <th>state</th>\n",
       "      <th></th>\n",
       "      <th></th>\n",
       "      <th></th>\n",
       "      <th></th>\n",
       "    </tr>\n",
       "  </thead>\n",
       "  <tbody>\n",
       "    <tr>\n",
       "      <th>Colorado</th>\n",
       "      <td>11.0</td>\n",
       "      <td>1201.0</td>\n",
       "      <td>100.0</td>\n",
       "      <td>1025.0</td>\n",
       "    </tr>\n",
       "  </tbody>\n",
       "</table>\n",
       "</div>"
      ],
      "text/plain": [
       "          sat_participate_17  sat_total_17  sat_participate_18  sat_total_18\n",
       "state                                                                       \n",
       "Colorado                11.0        1201.0               100.0        1025.0"
      ]
     },
     "execution_count": 83,
     "metadata": {},
     "output_type": "execute_result"
    }
   ],
   "source": [
    "final_df.loc[['Colorado'],['sat_participate_17', 'sat_total_17', 'sat_participate_18', 'sat_total_18']]"
   ]
  },
  {
   "cell_type": "code",
   "execution_count": 84,
   "metadata": {},
   "outputs": [
    {
     "data": {
      "text/html": [
       "<div>\n",
       "<style scoped>\n",
       "    .dataframe tbody tr th:only-of-type {\n",
       "        vertical-align: middle;\n",
       "    }\n",
       "\n",
       "    .dataframe tbody tr th {\n",
       "        vertical-align: top;\n",
       "    }\n",
       "\n",
       "    .dataframe thead th {\n",
       "        text-align: right;\n",
       "    }\n",
       "</style>\n",
       "<table border=\"1\" class=\"dataframe\">\n",
       "  <thead>\n",
       "    <tr style=\"text-align: right;\">\n",
       "      <th></th>\n",
       "      <th>sat_participate_17</th>\n",
       "      <th>sat_total_17</th>\n",
       "      <th>sat_participate_18</th>\n",
       "      <th>sat_total_18</th>\n",
       "    </tr>\n",
       "  </thead>\n",
       "  <tbody>\n",
       "    <tr>\n",
       "      <th>min</th>\n",
       "      <td>2.0</td>\n",
       "      <td>950.0</td>\n",
       "      <td>2.0</td>\n",
       "      <td>977.0</td>\n",
       "    </tr>\n",
       "    <tr>\n",
       "      <th>max</th>\n",
       "      <td>100.0</td>\n",
       "      <td>1295.0</td>\n",
       "      <td>100.0</td>\n",
       "      <td>1298.0</td>\n",
       "    </tr>\n",
       "  </tbody>\n",
       "</table>\n",
       "</div>"
      ],
      "text/plain": [
       "     sat_participate_17  sat_total_17  sat_participate_18  sat_total_18\n",
       "min                 2.0         950.0                 2.0         977.0\n",
       "max               100.0        1295.0               100.0        1298.0"
      ]
     },
     "execution_count": 84,
     "metadata": {},
     "output_type": "execute_result"
    }
   ],
   "source": [
    "# Aggregate the min, max of participation rates for sat2017,2018 and act2017,2018.\n",
    "final_df[['sat_participate_17', 'sat_total_17',\\\n",
    "          'sat_participate_18', 'sat_total_18']].agg(['min', 'max'])"
   ]
  },
  {
   "cell_type": "markdown",
   "metadata": {},
   "source": [
    "**Answer:** While Colorado's SAT participation increased significantly in 2018, its total score decreased."
   ]
  },
  {
   "cell_type": "code",
   "execution_count": 85,
   "metadata": {},
   "outputs": [
    {
     "data": {
      "text/html": [
       "<div>\n",
       "<style scoped>\n",
       "    .dataframe tbody tr th:only-of-type {\n",
       "        vertical-align: middle;\n",
       "    }\n",
       "\n",
       "    .dataframe tbody tr th {\n",
       "        vertical-align: top;\n",
       "    }\n",
       "\n",
       "    .dataframe thead th {\n",
       "        text-align: right;\n",
       "    }\n",
       "</style>\n",
       "<table border=\"1\" class=\"dataframe\">\n",
       "  <thead>\n",
       "    <tr style=\"text-align: right;\">\n",
       "      <th></th>\n",
       "      <th>act_participate_17</th>\n",
       "      <th>act_composite_17</th>\n",
       "      <th>act_participate_18</th>\n",
       "      <th>act_composite_18</th>\n",
       "    </tr>\n",
       "    <tr>\n",
       "      <th>state</th>\n",
       "      <th></th>\n",
       "      <th></th>\n",
       "      <th></th>\n",
       "      <th></th>\n",
       "    </tr>\n",
       "  </thead>\n",
       "  <tbody>\n",
       "    <tr>\n",
       "      <th>Colorado</th>\n",
       "      <td>100.0</td>\n",
       "      <td>20.8</td>\n",
       "      <td>30.0</td>\n",
       "      <td>23.9</td>\n",
       "    </tr>\n",
       "  </tbody>\n",
       "</table>\n",
       "</div>"
      ],
      "text/plain": [
       "          act_participate_17  act_composite_17  act_participate_18  \\\n",
       "state                                                                \n",
       "Colorado               100.0              20.8                30.0   \n",
       "\n",
       "          act_composite_18  \n",
       "state                       \n",
       "Colorado              23.9  "
      ]
     },
     "execution_count": 85,
     "metadata": {},
     "output_type": "execute_result"
    }
   ],
   "source": [
    "final_df.loc[['Colorado'],['act_participate_17', 'act_composite_17', 'act_participate_18', 'act_composite_18']]"
   ]
  },
  {
   "cell_type": "code",
   "execution_count": 86,
   "metadata": {},
   "outputs": [
    {
     "data": {
      "text/html": [
       "<div>\n",
       "<style scoped>\n",
       "    .dataframe tbody tr th:only-of-type {\n",
       "        vertical-align: middle;\n",
       "    }\n",
       "\n",
       "    .dataframe tbody tr th {\n",
       "        vertical-align: top;\n",
       "    }\n",
       "\n",
       "    .dataframe thead th {\n",
       "        text-align: right;\n",
       "    }\n",
       "</style>\n",
       "<table border=\"1\" class=\"dataframe\">\n",
       "  <thead>\n",
       "    <tr style=\"text-align: right;\">\n",
       "      <th></th>\n",
       "      <th>act_participate_17</th>\n",
       "      <th>act_composite_17</th>\n",
       "      <th>act_participate_18</th>\n",
       "      <th>act_composite_18</th>\n",
       "    </tr>\n",
       "  </thead>\n",
       "  <tbody>\n",
       "    <tr>\n",
       "      <th>min</th>\n",
       "      <td>8.0</td>\n",
       "      <td>17.8</td>\n",
       "      <td>7.0</td>\n",
       "      <td>17.7</td>\n",
       "    </tr>\n",
       "    <tr>\n",
       "      <th>max</th>\n",
       "      <td>100.0</td>\n",
       "      <td>25.5</td>\n",
       "      <td>100.0</td>\n",
       "      <td>25.6</td>\n",
       "    </tr>\n",
       "  </tbody>\n",
       "</table>\n",
       "</div>"
      ],
      "text/plain": [
       "     act_participate_17  act_composite_17  act_participate_18  \\\n",
       "min                 8.0              17.8                 7.0   \n",
       "max               100.0              25.5               100.0   \n",
       "\n",
       "     act_composite_18  \n",
       "min              17.7  \n",
       "max              25.6  "
      ]
     },
     "execution_count": 86,
     "metadata": {},
     "output_type": "execute_result"
    }
   ],
   "source": [
    "# Aggregate the min, max of sat total score and act composite score for sat2017,2018 and act2017,2018.\n",
    "final_df[['act_participate_17', 'act_composite_17',\\\n",
    "          'act_participate_18', 'act_composite_18']].agg(['min', 'max'])"
   ]
  },
  {
   "cell_type": "markdown",
   "metadata": {},
   "source": [
    "**Answer:** Here we see a reverse trend. Colorado's ACT participation decreased significantly in 2018, and its composite score increased. The increase in ACT score could be due to a sizeable cohort of lower performing students shifting to the SAT tests."
   ]
  },
  {
   "cell_type": "markdown",
   "metadata": {},
   "source": [
    "## Visualize the data\n",
    "\n",
    "There's not a magic bullet recommendation for the right number of plots to understand a given dataset, but visualizing your data is *always* a good idea. Not only does it allow you to quickly convey your findings (even if you have a non-technical audience), it will often reveal trends in your data that escaped you when you were looking only at numbers.\n",
    "\n",
    "Some recommendations on plotting:\n",
    "- Plots have titles\n",
    "- Plots have axis labels\n",
    "- Plots have appropriate tick labels\n",
    "- All text is legible in a plot\n",
    "- Plots demonstrate meaningful and valid relationships\n",
    "- Plots are interpreted to aid understanding\n",
    "\n",
    "There is such a thing as too many plots, and there are a *lot* of bad plots. You might make some! (But hopefully not with the guided prompts below)."
   ]
  },
  {
   "cell_type": "markdown",
   "metadata": {},
   "source": [
    "#### Use Seaborn's heatmap with pandas `.corr()` to visualize correlations between all numeric features\n",
    "\n",
    "Heatmaps are generally not appropriate for presentations, and should often be excluded from reports as they can be visually overwhelming. **However**, they can be extremely useful in identify relationships of potential interest (as well as identifying potential collinearity before modeling).\n",
    "\n",
    "*example*:\n",
    "```python\n",
    "sns.heatmap(df.corr())\n",
    "```\n",
    "\n",
    "Please take time to format your output, adding a title. Look through some of the additional arguments and options. (Axis labels aren't really necessary, as long as the title is informative)."
   ]
  },
  {
   "cell_type": "code",
   "execution_count": 87,
   "metadata": {},
   "outputs": [
    {
     "data": {
      "image/png": "[encoded data removed]",
      "text/plain": [
       "<Figure size 1296x720 with 2 Axes>"
      ]
     },
     "metadata": {},
     "output_type": "display_data"
    }
   ],
   "source": [
    "# Apply pandas.corr() on final_df dataframe, assign to variable 'satact_correlations'.\n",
    "satact_correlations = final_df.corr()\n",
    "\n",
    "# Set up mask to be \"True\" in the upper triangle.\n",
    "mask = np.zeros_like(satact_correlations)\n",
    "mask[np.triu_indices_from(mask)] = True\n",
    "\n",
    "# Plot our correlation heatmap.\n",
    "\"\"\"Maskstyle of upper triangle to be white.\"\"\"\n",
    "with sns.axes_style(\"white\"):\n",
    "    \"\"\"Establish figsize\"\"\"\n",
    "    fig, ax = plt.subplots(figsize=(18,10))\n",
    "    sns.heatmap(satact_correlations, mask=mask, annot=True)\n",
    "    \n",
    "# Set title. \n",
    "# Heatmap is an axes-level function, so either plt.title or ax.set_title can be used.\n",
    "plt.title(\"Correlations of numeric features for SAT & ACT 2017-2018 data\", fontsize =25);"
   ]
  },
  {
   "cell_type": "markdown",
   "metadata": {},
   "source": [
    "**Answer:** \n",
    "- There is a positive correlation among the SAT consistuent subjects and total scores. This is similar for the ACT scores. This is to be expected as the total scores is aggregated from the consistuent subject scores.\n",
    "- Between ACT and SAT scores, we observe that the correlation is weakly negative. This would infer that one doing well in act test would not necessary do well in the other.\n",
    "- Betwen ACT and SAT participation rates, we observe a strong negative correlation. This infers the students taking ACT may not been inclined to take SAT tests, and vice versa.\n",
    "- For participation rates and scores, they are negatively correlated. Low particiation rates means the students participating in the tests tend to be better performing ones.\n",
    "- For SAT, there is a decrease in the negative correlation between participation rates and scores, from 2017 to 2018."
   ]
  },
  {
   "cell_type": "markdown",
   "metadata": {},
   "source": [
    "#### Define a custom function to subplot histograms\n",
    "\n",
    "We have data for two tests for two years. We only have composite (and not subtest scores) for the 2018 ACT. We should write a function that will take the names of 2+ columns and subplot histograms. While you can use pandas plotting or Seaborn here, matplotlib gives you greater control over all aspects of your plots.\n",
    "\n",
    "[Helpful Link for Plotting Multiple Figures](https://matplotlib.org/users/pyplot_tutorial.html#working-with-multiple-figures-and-axes)\n",
    "\n",
    "Here's some starter code:"
   ]
  },
  {
   "cell_type": "code",
   "execution_count": 88,
   "metadata": {},
   "outputs": [
    {
     "data": {
      "text/plain": [
       "\"def subplot_histograms(dataframe, list_of_columns, list_of_titles, list_of_xlabels):\\n    nrows = int(np.ceil(len(list_of_columns)/2)) # Makes sure you have enough rows\\n    fig, ax = plt.subplots(nrows=nrows, ncols=2, figsize=(18, 10)) # You'll want to specify your figsize\\n    ax = ax.ravel() # Ravel turns a matrix into a vector, which is easier to iterate\\n    for i, column in enumerate(list_of_columns): # Gives us an index value to get into all our lists\\n        ax[i].hist(dataframe[column]) # feel free to add more settings\\n        # Set titles, labels, etc here for each subplot\""
      ]
     },
     "execution_count": 88,
     "metadata": {},
     "output_type": "execute_result"
    }
   ],
   "source": [
    "\"\"\"def subplot_histograms(dataframe, list_of_columns, list_of_titles, list_of_xlabels):\n",
    "    nrows = int(np.ceil(len(list_of_columns)/2)) # Makes sure you have enough rows\n",
    "    fig, ax = plt.subplots(nrows=nrows, ncols=2, figsize=(18, 10)) # You'll want to specify your figsize\n",
    "    ax = ax.ravel() # Ravel turns a matrix into a vector, which is easier to iterate\n",
    "    for i, column in enumerate(list_of_columns): # Gives us an index value to get into all our lists\n",
    "        ax[i].hist(dataframe[column]) # feel free to add more settings\n",
    "        # Set titles, labels, etc here for each subplot\"\"\""
   ]
  },
  {
   "cell_type": "markdown",
   "metadata": {},
   "source": [
    "#### Plot and interpret histograms \n",
    "For each of the following:\n",
    "- Participation rates for SAT & ACT\n",
    "- Math scores for SAT & ACT\n",
    "- Reading/verbal scores for SAT & ACT"
   ]
  },
  {
   "cell_type": "code",
   "execution_count": 89,
   "metadata": {},
   "outputs": [],
   "source": [
    "#Define function for histogram subplots\n",
    "def subplot_histograms(dataframe, list_of_columns, list_of_titles, list_of_xlabels):\n",
    "    nrows = int(np.ceil(len(list_of_columns)/2)) # Makes sure you have enough rows\n",
    "    fig, ax = plt.subplots(nrows=nrows, ncols=2, figsize=(15, 13)) # You'll want to specify your figsize\n",
    "    ax = ax.ravel() # Ravel turns a matrix into a vector, which is easier to iterate\n",
    "    for i, column in enumerate(list_of_columns): # Gives us an index value to get into all our lists\n",
    "        ax[i].hist(dataframe[column],color='midnightblue', bins = 10, alpha=0.7) # feel free to add more settings\n",
    "        # Set titles, labels, etc here for each subplot\n",
    "        #for i, title in enumerate(list_of_titles):\n",
    "        ax[i].set_title(list_of_titles[i], fontsize=16)\n",
    "            #for i, label in enumerate(list_of_xlabels):\n",
    "        ax[i].set_xlabel(list_of_xlabels[i], fontsize=12)"
   ]
  },
  {
   "cell_type": "markdown",
   "metadata": {},
   "source": [
    "#### Histogram set 1: Participation rates for SAT & ACT"
   ]
  },
  {
   "cell_type": "code",
   "execution_count": 90,
   "metadata": {},
   "outputs": [
    {
     "data": {
      "image/png": "[encoded data removed]",
      "text/plain": [
       "<Figure size 1080x936 with 4 Axes>"
      ]
     },
     "metadata": {
      "needs_background": "light"
     },
     "output_type": "display_data"
    }
   ],
   "source": [
    "# Define the variables relevant to SAT & ACT Participation rates.\n",
    "list_of_columns1 = ['sat_participate_17', 'act_participate_17','sat_participate_18', 'act_participate_18']\n",
    "list_of_titles1 = ['sat_participation_17', 'act_participation_17', 'sat_participation_18', 'act_participation_18']\n",
    "list_of_xlabels1 = ['Participation rate', 'Participation rate', 'Participation rate', 'Participation rate']\n",
    "# Plot the Histograms.\n",
    "subplot_histograms(final_df,list_of_columns1, list_of_titles1, list_of_xlabels1)"
   ]
  },
  {
   "cell_type": "markdown",
   "metadata": {},
   "source": [
    "**Answer:** Histograms shows frequency distribution of observations across the observation classes.\n",
    "- The number of states and participation rates are represented on the y-axis and x-axis respectively.\n",
    "- The SAT participation is generally right skewed and appears bi-modal. \n",
    "- The ACT participation is generally left skewed.\n",
    "- SAT has a higher number of states around the 10% participation rate. This is not the case for ACT."
   ]
  },
  {
   "cell_type": "markdown",
   "metadata": {},
   "source": [
    "#### Histogram set 2: Math scores for SAT & ACT"
   ]
  },
  {
   "cell_type": "code",
   "execution_count": 91,
   "metadata": {},
   "outputs": [
    {
     "data": {
      "image/png": "[encoded data removed]",
      "text/plain": [
       "<Figure size 1080x936 with 4 Axes>"
      ]
     },
     "metadata": {
      "needs_background": "light"
     },
     "output_type": "display_data"
    }
   ],
   "source": [
    "# Define the variables relevant to SAT & ACT Math scores.\n",
    "list_of_columns1 = ['sat_math_17', 'act_math_17', 'sat_math_18', 'act_math_18']\n",
    "list_of_titles1 = ['SAT Math 2017', 'ACT Math 2017', 'SAT Math 2018', 'ACT Math 2018']\n",
    "list_of_xlabels1 = ['Math score', 'Math score', 'Math score', 'Math score']\n",
    "# Plot the Histograms.\n",
    "subplot_histograms(final_df,list_of_columns1, list_of_titles1, list_of_xlabels1)"
   ]
  },
  {
   "cell_type": "markdown",
   "metadata": {},
   "source": [
    "**Answer:** The number of states and math scores are represented on the y-axis and x-axis respectively.\n",
    "- The SAT math score plots are generally bi-modal with valley in between. They are slightly right-skewed. \n",
    "- The ACT math score plots are bi-modal as well with valley in between.\n",
    "- The second mode across the four histograms infer that a cluster of states have higher math scores. In the case of SAT math score, the mode is lower, which infers that the better performing states have lower participate rates."
   ]
  },
  {
   "cell_type": "markdown",
   "metadata": {},
   "source": [
    "#### Histogram set 3: Reading/verbal scores for SAT & ACT"
   ]
  },
  {
   "cell_type": "code",
   "execution_count": 92,
   "metadata": {},
   "outputs": [
    {
     "data": {
      "image/png": "[encoded data removed]",
      "text/plain": [
       "<Figure size 1080x936 with 4 Axes>"
      ]
     },
     "metadata": {
      "needs_background": "light"
     },
     "output_type": "display_data"
    }
   ],
   "source": [
    "# Define the variables relevant to SAT & ACT reading and verbal scores.\n",
    "list_of_columns1 = ['sat_evrw_17', 'act_rding_17','sat_evrw_18', 'act_rding_18']\n",
    "list_of_titles1 = ['SAT EVRW 2017', 'ACT Reading 2017', 'SAT EVRW 2018', 'ACT Reading 2018']\n",
    "list_of_xlabels1 = ['Evidence-Based reading & writing score', 'Reading score',\\\n",
    "                    'Evidence-Based reading & writng score', 'Reading score']\n",
    "# Plot the Histograms.\n",
    "subplot_histograms(final_df,list_of_columns1, list_of_titles1, list_of_xlabels1)"
   ]
  },
  {
   "cell_type": "markdown",
   "metadata": {},
   "source": [
    "**Answer:** The number of states and reading/verbal scores are represented on the y-axis and x-axis respectively.\n",
    "- The SAT scores plots are generally bi-modal, with valley in between.\n",
    "- Similar distribution is observed for ACT reading scores. \n",
    "- Quite similar to SAT math scores, the SAT reading the second mode is lower, which infers that the better performing states have lower participate rates."
   ]
  },
  {
   "cell_type": "markdown",
   "metadata": {},
   "source": [
    "#### Plot and interpret scatter plots\n",
    "\n",
    "For each of the following:\n",
    "- SAT vs. ACT math scores for 2017\n",
    "- SAT vs. ACT verbal/reading scores for 2017\n",
    "- SAT vs. ACT total/composite scores for 2017\n",
    "- Total scores for SAT 2017 vs. 2018\n",
    "- Composite scores for ACT 2017 vs. 2018\n",
    "\n",
    "Plot the two variables against each other using matplotlib or Seaborn\n",
    "\n",
    "Your plots should show:\n",
    "- Two clearly labeled axes\n",
    "- A proper title\n",
    "- Using colors and symbols that are clear and unmistakable\n",
    "\n",
    "**Feel free to write a custom function, and subplot if you'd like.** Functions save both time and space.\n"
   ]
  },
  {
   "cell_type": "code",
   "execution_count": 93,
   "metadata": {},
   "outputs": [
    {
     "data": {
      "image/png": "[encoded data removed]",
      "text/plain": [
       "<Figure size 1080x360 with 3 Axes>"
      ]
     },
     "metadata": {
      "needs_background": "light"
     },
     "output_type": "display_data"
    }
   ],
   "source": [
    "fig, ax = plt.subplots(1,3,figsize=(15, 5))\n",
    "ax = ax.ravel()\n",
    "\"\"\"Left plot - SAT math vs. ACT math (2017).\"\"\"\n",
    "ax[0].scatter(final_df['sat_math_17'], final_df['act_math_17'], marker = 'p', s=7**2,c='forestgreen')\n",
    "ax[0].set_title('SAT vs. ACT math scores 2017', fontsize=14)\n",
    "ax[0].set_xlabel('SAT Math score')\n",
    "ax[0].set_ylabel('ACT Math score')\n",
    "\n",
    "\"\"\"Middle plot - SAT vs. ACT verbal/reading scores for 2017.\"\"\"\n",
    "ax[1].scatter(final_df['sat_evrw_17'], final_df['act_rding_17'], marker = '^', s=7**2,c='royalblue')\n",
    "ax[1].set_title('SAT vs. ACT verbal/reading scores 2017', fontsize=14)\n",
    "ax[1].set_xlabel('SAT Verbal/reading score', fontsize=12)\n",
    "ax[1].set_ylabel('ACT Reading score',fontsize=12)\n",
    "\n",
    "\"\"\"Right plot - SAT vs. ACT total/composite scores for 2017.\"\"\"\n",
    "ax[2].scatter(final_df['sat_total_17'], final_df['act_composite_17'], marker = 'o', s=7**2,c='teal')\n",
    "ax[2].set_title('SAT vs. ACT total/composite scores 2017', fontsize=14)\n",
    "ax[2].set_xlabel('SAT Total score',fontsize=12)\n",
    "ax[2].set_ylabel('ACT Composite score',fontsize=12);"
   ]
  },
  {
   "cell_type": "markdown",
   "metadata": {},
   "source": [
    "**Answer:** The general observation is that there is a weak negative correlation between the ACT scores and SAT scores for each above three scatterplots. Doing well in ACT test does not guarantee good performance in SAT test. This could be one reason there is negative correlation between SAT and ACT participations (i.e. students are not inclined to take ACT if taken SAT and vice versa)."
   ]
  },
  {
   "cell_type": "code",
   "execution_count": 94,
   "metadata": {},
   "outputs": [
    {
     "data": {
      "image/png": "[encoded data removed]",
      "text/plain": [
       "<Figure size 864x432 with 2 Axes>"
      ]
     },
     "metadata": {
      "needs_background": "light"
     },
     "output_type": "display_data"
    }
   ],
   "source": [
    "fig, ax = plt.subplots(1,2,figsize=(12, 6))\n",
    "ax = ax.ravel()\n",
    "\"\"\"Left plot - Total scores for SAT 2017 vs. 2018.\"\"\"\n",
    "ax[0].scatter(final_df['sat_total_17'], final_df['sat_total_18'], marker = 'o', s=7**2,c='orange')\n",
    "ax[0].set_title('Total scores for SAT 2017 vs. 2018', fontsize=16)\n",
    "ax[0].set_xlabel('SAT Total score 2017', fontsize=14)\n",
    "ax[0].set_ylabel('SAT Total score 2018', fontsize=14)\n",
    "\n",
    "\"\"\"Right right plot - Composite scores for ACT 2017 vs. 2018.\"\"\"\n",
    "ax[1].scatter(final_df['act_composite_17'], final_df['act_composite_18'], marker = 'd', s=7**2,c='maroon')\n",
    "ax[1].set_title('Composite scores for ACT 2017 vs. 2018', fontsize=16)\n",
    "ax[1].set_xlabel('ACT Composite score 2017', fontsize=14)\n",
    "ax[1].set_ylabel('ACT Composite score 2018', fontsize=14);"
   ]
  },
  {
   "cell_type": "markdown",
   "metadata": {},
   "source": [
    "**Answer:** There is a strong positive correlations between SAT total scores 2017 and 2018, though there are a few outliers observed. Similar phenomena is observed between ACT composite scores 2017 and 2018."
   ]
  },
  {
   "cell_type": "markdown",
   "metadata": {},
   "source": [
    "#### Plot and interpret boxplots\n",
    "\n",
    "For each numeric variable in the dataframe create a boxplot using Seaborn. Boxplots demonstrate central tendency and spread in variables. In a certain sense, these are somewhat redundant with histograms, but you may be better able to identify clear outliers or differences in IQR, etc.\n",
    "\n",
    "Multiple values can be plotted to a single boxplot as long as they are of the same relative scale (meaning they have similar min/max values).\n",
    "\n",
    "Each boxplot should:\n",
    "- Only include variables of a similar scale\n",
    "- Have clear labels for each variable\n",
    "- Have appropriate titles and labels"
   ]
  },
  {
   "cell_type": "code",
   "execution_count": 95,
   "metadata": {},
   "outputs": [
    {
     "data": {
      "image/png": "[encoded data removed]",
      "text/plain": [
       "<Figure size 720x432 with 1 Axes>"
      ]
     },
     "metadata": {
      "needs_background": "light"
     },
     "output_type": "display_data"
    }
   ],
   "source": [
    "#SAT scores 2017 and 2018\n",
    "plt.figure(figsize = (10, 6))\n",
    "plt.title(\"SAT scores 2017 and 2018 by subjects\", size = 16)\n",
    "sns.boxplot(data = final_df[[\"sat_evrw_17\", \"sat_evrw_18\", \"sat_math_17\", \"sat_math_18\"]], linewidth=2, fliersize=4)\n",
    "plt.ylabel(\"Score\", size = 14)\n",
    "plt.xlabel(\"Subjects\", size = 14)\n",
    "plt.xticks(size = 14)\n",
    "plt.yticks(size = 14);"
   ]
  },
  {
   "cell_type": "markdown",
   "metadata": {},
   "source": [
    "**Answer:** The median and range for SAT i) Evidence-based reading and writing and ii) Math across 2017 and 2018 are generally consistent. There are no outliers observed."
   ]
  },
  {
   "cell_type": "code",
   "execution_count": 96,
   "metadata": {},
   "outputs": [
    {
     "data": {
      "image/png": "[encoded data removed]",
      "text/plain": [
       "<Figure size 720x432 with 1 Axes>"
      ]
     },
     "metadata": {
      "needs_background": "light"
     },
     "output_type": "display_data"
    }
   ],
   "source": [
    "#ACT scores 2017 and 2018 (English and Math)\n",
    "plt.figure(figsize = (10, 6))\n",
    "plt.title(\"ACT scores 2017 and 2018 by subjects (English and Math)\", size = 16)\n",
    "\"\"\"Define color palette for box plots\"\"\"\n",
    "my_palette = {\"act_eng_17\" : \"goldenrod\", \"act_eng_18\" : \"darkgoldenrod\",\n",
    "              \"act_math_17\" : \"limegreen\", \"act_math_18\" : \"forestgreen\"}\n",
    "\n",
    "sns.boxplot(data = final_df[[\"act_eng_17\", \"act_eng_18\", \"act_math_17\", \"act_math_18\"]],\\\n",
    "            linewidth=2, fliersize=4, palette=my_palette)\n",
    "plt.ylabel(\"Score\", size = 14)\n",
    "plt.xlabel(\"Subjects\", size = 14)\n",
    "plt.xticks(size = 14)\n",
    "plt.yticks(size = 14);"
   ]
  },
  {
   "cell_type": "markdown",
   "metadata": {},
   "source": [
    "**Answer:** The median and range for ACT i) Evidence-based reading and writing and ii) Math across 2017 and 2018 are generally consistent. There are no outliers observed."
   ]
  },
  {
   "cell_type": "code",
   "execution_count": 97,
   "metadata": {},
   "outputs": [
    {
     "data": {
      "image/png": "[encoded data removed]",
      "text/plain": [
       "<Figure size 720x432 with 1 Axes>"
      ]
     },
     "metadata": {
      "needs_background": "light"
     },
     "output_type": "display_data"
    }
   ],
   "source": [
    "#ACT scores 2017 and 2018 (Reading and Science)\n",
    "plt.figure(figsize = (10, 6))\n",
    "plt.title(\"ACT scores 2017 and 2018 by subjects (English and Math)\", size = 16)\n",
    "\"\"\"Define color palette for box plots\"\"\"\n",
    "my_palette = {\"act_rding_17\" : \"cornflowerblue\", \"act_rding_18\" : \"royalblue\",\n",
    "              \"act_science_17\" : \"darkorchid\", \"act_science_18\" : \"darkviolet\"}\n",
    "\n",
    "sns.boxplot(data = final_df[[\"act_rding_17\", \"act_rding_18\", \"act_science_17\", \"act_science_18\"]],\\\n",
    "            linewidth=2, fliersize=4, palette=my_palette)\n",
    "plt.ylabel(\"Score\", size = 14)\n",
    "plt.xlabel(\"Subjects\", size = 14)\n",
    "plt.xticks(size = 14)\n",
    "plt.yticks(size = 14);"
   ]
  },
  {
   "cell_type": "markdown",
   "metadata": {},
   "source": [
    "**Answer:** The median and range for ACT i) Evidence-based reading and writing and ii) Math across 2017 and 2018 are generally consistent. There is an outlier observed for ACT science score 2017."
   ]
  },
  {
   "cell_type": "markdown",
   "metadata": {},
   "source": [
    "#### Feel free to do additional plots below\n",
    "*(do research and choose your own chart types & variables)*\n",
    "\n",
    "Are there any additional trends or relationships you haven't explored? Was there something interesting you saw that you'd like to dive further into? It's likely that there are a few more plots you might want to generate to support your narrative and recommendations that you are building toward. **As always, make sure you're interpreting your plots as you go**."
   ]
  },
  {
   "cell_type": "markdown",
   "metadata": {},
   "source": [
    "**Answer:** \n",
    "From the EDA thus far, there are several areas for further exploration:\n",
    "- Between ACT 2017 and 2018, Colorado has the largest drop of 70% in participation rates. What is the effect on ACT composite test scores? \n",
    "- What about its SAT participation rates and scores?"
   ]
  },
  {
   "cell_type": "code",
   "execution_count": 98,
   "metadata": {},
   "outputs": [
    {
     "data": {
      "text/html": [
       "<div>\n",
       "<style scoped>\n",
       "    .dataframe tbody tr th:only-of-type {\n",
       "        vertical-align: middle;\n",
       "    }\n",
       "\n",
       "    .dataframe tbody tr th {\n",
       "        vertical-align: top;\n",
       "    }\n",
       "\n",
       "    .dataframe thead th {\n",
       "        text-align: right;\n",
       "    }\n",
       "</style>\n",
       "<table border=\"1\" class=\"dataframe\">\n",
       "  <thead>\n",
       "    <tr style=\"text-align: right;\">\n",
       "      <th></th>\n",
       "      <th>sat_participate_17</th>\n",
       "      <th>sat_participate_18</th>\n",
       "      <th>act_participate_17</th>\n",
       "      <th>act_participate_18</th>\n",
       "    </tr>\n",
       "    <tr>\n",
       "      <th>state</th>\n",
       "      <th></th>\n",
       "      <th></th>\n",
       "      <th></th>\n",
       "      <th></th>\n",
       "    </tr>\n",
       "  </thead>\n",
       "  <tbody>\n",
       "    <tr>\n",
       "      <th>Colorado</th>\n",
       "      <td>11.0</td>\n",
       "      <td>100.0</td>\n",
       "      <td>100.0</td>\n",
       "      <td>30.0</td>\n",
       "    </tr>\n",
       "  </tbody>\n",
       "</table>\n",
       "</div>"
      ],
      "text/plain": [
       "          sat_participate_17  sat_participate_18  act_participate_17  \\\n",
       "state                                                                  \n",
       "Colorado                11.0               100.0               100.0   \n",
       "\n",
       "          act_participate_18  \n",
       "state                         \n",
       "Colorado                30.0  "
      ]
     },
     "execution_count": 98,
     "metadata": {},
     "output_type": "execute_result"
    }
   ],
   "source": [
    "# Summary of Colorado's participation rates 2017-2018.\n",
    "final_df.loc[['Colorado'],['sat_participate_17','sat_participate_18','act_participate_17', 'act_participate_18']]"
   ]
  },
  {
   "cell_type": "code",
   "execution_count": 99,
   "metadata": {},
   "outputs": [
    {
     "data": {
      "text/html": [
       "<div>\n",
       "<style scoped>\n",
       "    .dataframe tbody tr th:only-of-type {\n",
       "        vertical-align: middle;\n",
       "    }\n",
       "\n",
       "    .dataframe tbody tr th {\n",
       "        vertical-align: top;\n",
       "    }\n",
       "\n",
       "    .dataframe thead th {\n",
       "        text-align: right;\n",
       "    }\n",
       "</style>\n",
       "<table border=\"1\" class=\"dataframe\">\n",
       "  <thead>\n",
       "    <tr style=\"text-align: right;\">\n",
       "      <th></th>\n",
       "      <th>sat_total_17</th>\n",
       "      <th>sat_total_18</th>\n",
       "      <th>act_composite_17</th>\n",
       "      <th>act_composite_18</th>\n",
       "    </tr>\n",
       "    <tr>\n",
       "      <th>state</th>\n",
       "      <th></th>\n",
       "      <th></th>\n",
       "      <th></th>\n",
       "      <th></th>\n",
       "    </tr>\n",
       "  </thead>\n",
       "  <tbody>\n",
       "    <tr>\n",
       "      <th>Colorado</th>\n",
       "      <td>1201.0</td>\n",
       "      <td>1025.0</td>\n",
       "      <td>20.8</td>\n",
       "      <td>23.9</td>\n",
       "    </tr>\n",
       "  </tbody>\n",
       "</table>\n",
       "</div>"
      ],
      "text/plain": [
       "          sat_total_17  sat_total_18  act_composite_17  act_composite_18\n",
       "state                                                                   \n",
       "Colorado        1201.0        1025.0              20.8              23.9"
      ]
     },
     "execution_count": 99,
     "metadata": {},
     "output_type": "execute_result"
    }
   ],
   "source": [
    "# Summary of Colorado's total scores 2017-2018.\n",
    "final_df.loc[['Colorado'],['sat_total_17','sat_total_18','act_composite_17', 'act_composite_18']]"
   ]
  },
  {
   "cell_type": "markdown",
   "metadata": {},
   "source": [
    "**Answer:** Participation rates for SAT surged to 100%, while ACT participation dropped to 30%  in 2018. Correspondingly, there is a decrease in SAT total score, and increase in ACT composite score. The magnitude in change should be attributed to a reason localised to Colorado.  "
   ]
  },
  {
   "cell_type": "code",
   "execution_count": 100,
   "metadata": {},
   "outputs": [
    {
     "data": {
      "image/png": "[encoded data removed]",
      "text/plain": [
       "<Figure size 864x432 with 2 Axes>"
      ]
     },
     "metadata": {
      "needs_background": "light"
     },
     "output_type": "display_data"
    }
   ],
   "source": [
    "# Plot distribution of total scores by State, across 2017 and 2018.\n",
    "fig, ax = plt.subplots(1,2,figsize=(12, 6))\n",
    "ax = ax.ravel()\n",
    "\"\"\"Left plot - Total scores for SAT 2017 vs. 2018.\"\"\"\n",
    "ax[0].scatter(final_df['sat_total_17'], final_df['sat_total_18'], marker = 'o', s=7**2,c='orange')\n",
    "ax[0].set_title('Total scores for SAT 2017 vs. 2018', fontsize=16)\n",
    "ax[0].set_xlabel('SAT Total score 2017', fontsize=14)\n",
    "ax[0].set_ylabel('SAT Total score 2018', fontsize=14)\n",
    "\n",
    "\"\"\"Right right plot - Composite scores for ACT 2017 vs. 2018.\"\"\"\n",
    "ax[1].scatter(final_df['act_composite_17'], final_df['act_composite_18'], marker = 'd', s=7**2,c='maroon')\n",
    "ax[1].set_title('Composite scores for ACT 2017 vs. 2018', fontsize=16)\n",
    "ax[1].set_xlabel('ACT Composite score 2017', fontsize=14)\n",
    "ax[1].set_ylabel('ACT Composite score 2018', fontsize=14);"
   ]
  },
  {
   "cell_type": "markdown",
   "metadata": {},
   "source": [
    "**Answer:** SAT total scores by states is postively correlated across 2017 and 2018. There are two outliers observed, of which one of them is Colorado. (The other is likely Illinois with 90% increase in participation rates for SAT from 2017 and 2018.) With the increase in SAT participation, ACT participation decreased. This led to the drop in SAT score and increase in ACT score across years 2017-2018."
   ]
  },
  {
   "cell_type": "markdown",
   "metadata": {},
   "source": [
    "#### (Optional): Using Tableau, create a choropleth map for each variable using a map of the US. \n",
    "\n",
    "Save this plot as an image file in an images directory, provide a relative path, and insert the image into notebook in markdown."
   ]
  },
  {
   "cell_type": "code",
   "execution_count": null,
   "metadata": {},
   "outputs": [],
   "source": []
  },
  {
   "cell_type": "markdown",
   "metadata": {},
   "source": [
    "## Descriptive and Inferential Statistics"
   ]
  },
  {
   "cell_type": "markdown",
   "metadata": {},
   "source": [
    "#### Summarizing Distributions\n",
    "\n",
    "Above, we used pandas `describe` to provide quick summary statistics of our numeric columns. We also demonstrated many visual relationships.\n",
    "\n",
    "As data scientists, having a complete understanding of data is imperative prior to modeling.\n",
    "\n",
    "While we will continue to build our analytic tools, we know that measures of *central tendency*, *spread*, and *shape/skewness* provide a quick summary of distributions.\n",
    "\n",
    "For each variable in your data, summarize the underlying distributions (in words & statistics)\n",
    " - Be thorough in your verbal description of these distributions.\n",
    " - Be sure to back up these summaries with statistics."
   ]
  },
  {
   "cell_type": "code",
   "execution_count": 101,
   "metadata": {},
   "outputs": [
    {
     "data": {
      "text/html": [
       "<div>\n",
       "<style scoped>\n",
       "    .dataframe tbody tr th:only-of-type {\n",
       "        vertical-align: middle;\n",
       "    }\n",
       "\n",
       "    .dataframe tbody tr th {\n",
       "        vertical-align: top;\n",
       "    }\n",
       "\n",
       "    .dataframe thead th {\n",
       "        text-align: right;\n",
       "    }\n",
       "</style>\n",
       "<table border=\"1\" class=\"dataframe\">\n",
       "  <thead>\n",
       "    <tr style=\"text-align: right;\">\n",
       "      <th></th>\n",
       "      <th>sat_participate_17</th>\n",
       "      <th>sat_evrw_17</th>\n",
       "      <th>sat_math_17</th>\n",
       "      <th>sat_total_17</th>\n",
       "      <th>act_participate_17</th>\n",
       "      <th>act_eng_17</th>\n",
       "      <th>act_math_17</th>\n",
       "      <th>act_rding_17</th>\n",
       "      <th>act_science_17</th>\n",
       "      <th>act_composite_17</th>\n",
       "      <th>sat_participate_18</th>\n",
       "      <th>sat_evrw_18</th>\n",
       "      <th>sat_math_18</th>\n",
       "      <th>sat_total_18</th>\n",
       "      <th>act_participate_18</th>\n",
       "      <th>act_composite_18</th>\n",
       "      <th>act_eng_18</th>\n",
       "      <th>act_math_18</th>\n",
       "      <th>act_rding_18</th>\n",
       "      <th>act_science_18</th>\n",
       "    </tr>\n",
       "  </thead>\n",
       "  <tbody>\n",
       "    <tr>\n",
       "      <th>count</th>\n",
       "      <td>51.000000</td>\n",
       "      <td>51.000000</td>\n",
       "      <td>51.000000</td>\n",
       "      <td>51.000000</td>\n",
       "      <td>51.000000</td>\n",
       "      <td>51.000000</td>\n",
       "      <td>51.000000</td>\n",
       "      <td>51.000000</td>\n",
       "      <td>51.000000</td>\n",
       "      <td>51.000000</td>\n",
       "      <td>51.000000</td>\n",
       "      <td>51.000000</td>\n",
       "      <td>51.000000</td>\n",
       "      <td>51.000000</td>\n",
       "      <td>51.000000</td>\n",
       "      <td>51.000000</td>\n",
       "      <td>51.000000</td>\n",
       "      <td>51.000000</td>\n",
       "      <td>51.000000</td>\n",
       "      <td>51.000000</td>\n",
       "    </tr>\n",
       "    <tr>\n",
       "      <th>mean</th>\n",
       "      <td>39.803922</td>\n",
       "      <td>569.117647</td>\n",
       "      <td>556.882353</td>\n",
       "      <td>1126.098039</td>\n",
       "      <td>65.254902</td>\n",
       "      <td>20.931373</td>\n",
       "      <td>21.182353</td>\n",
       "      <td>22.013725</td>\n",
       "      <td>21.041176</td>\n",
       "      <td>21.519608</td>\n",
       "      <td>45.745098</td>\n",
       "      <td>563.686275</td>\n",
       "      <td>556.235294</td>\n",
       "      <td>1120.019608</td>\n",
       "      <td>61.647059</td>\n",
       "      <td>21.486275</td>\n",
       "      <td>20.988235</td>\n",
       "      <td>21.125490</td>\n",
       "      <td>22.015686</td>\n",
       "      <td>21.345098</td>\n",
       "    </tr>\n",
       "    <tr>\n",
       "      <th>std</th>\n",
       "      <td>35.276632</td>\n",
       "      <td>45.666901</td>\n",
       "      <td>47.121395</td>\n",
       "      <td>92.494812</td>\n",
       "      <td>32.140842</td>\n",
       "      <td>2.353677</td>\n",
       "      <td>1.981989</td>\n",
       "      <td>2.067271</td>\n",
       "      <td>3.182463</td>\n",
       "      <td>2.020695</td>\n",
       "      <td>37.314256</td>\n",
       "      <td>47.502627</td>\n",
       "      <td>47.772623</td>\n",
       "      <td>94.155083</td>\n",
       "      <td>34.080976</td>\n",
       "      <td>2.106278</td>\n",
       "      <td>2.446356</td>\n",
       "      <td>2.035765</td>\n",
       "      <td>2.167245</td>\n",
       "      <td>1.870114</td>\n",
       "    </tr>\n",
       "    <tr>\n",
       "      <th>min</th>\n",
       "      <td>2.000000</td>\n",
       "      <td>482.000000</td>\n",
       "      <td>468.000000</td>\n",
       "      <td>950.000000</td>\n",
       "      <td>8.000000</td>\n",
       "      <td>16.300000</td>\n",
       "      <td>18.000000</td>\n",
       "      <td>18.100000</td>\n",
       "      <td>2.300000</td>\n",
       "      <td>17.800000</td>\n",
       "      <td>2.000000</td>\n",
       "      <td>480.000000</td>\n",
       "      <td>480.000000</td>\n",
       "      <td>977.000000</td>\n",
       "      <td>7.000000</td>\n",
       "      <td>17.700000</td>\n",
       "      <td>16.600000</td>\n",
       "      <td>17.800000</td>\n",
       "      <td>18.000000</td>\n",
       "      <td>17.900000</td>\n",
       "    </tr>\n",
       "    <tr>\n",
       "      <th>25%</th>\n",
       "      <td>4.000000</td>\n",
       "      <td>533.500000</td>\n",
       "      <td>523.500000</td>\n",
       "      <td>1055.500000</td>\n",
       "      <td>31.000000</td>\n",
       "      <td>19.000000</td>\n",
       "      <td>19.400000</td>\n",
       "      <td>20.450000</td>\n",
       "      <td>19.900000</td>\n",
       "      <td>19.800000</td>\n",
       "      <td>4.500000</td>\n",
       "      <td>534.500000</td>\n",
       "      <td>522.500000</td>\n",
       "      <td>1057.500000</td>\n",
       "      <td>28.500000</td>\n",
       "      <td>19.950000</td>\n",
       "      <td>19.100000</td>\n",
       "      <td>19.400000</td>\n",
       "      <td>20.450000</td>\n",
       "      <td>19.850000</td>\n",
       "    </tr>\n",
       "    <tr>\n",
       "      <th>50%</th>\n",
       "      <td>38.000000</td>\n",
       "      <td>559.000000</td>\n",
       "      <td>548.000000</td>\n",
       "      <td>1107.000000</td>\n",
       "      <td>69.000000</td>\n",
       "      <td>20.700000</td>\n",
       "      <td>20.900000</td>\n",
       "      <td>21.800000</td>\n",
       "      <td>21.300000</td>\n",
       "      <td>21.400000</td>\n",
       "      <td>52.000000</td>\n",
       "      <td>552.000000</td>\n",
       "      <td>544.000000</td>\n",
       "      <td>1098.000000</td>\n",
       "      <td>66.000000</td>\n",
       "      <td>21.300000</td>\n",
       "      <td>20.200000</td>\n",
       "      <td>20.700000</td>\n",
       "      <td>21.600000</td>\n",
       "      <td>21.100000</td>\n",
       "    </tr>\n",
       "    <tr>\n",
       "      <th>75%</th>\n",
       "      <td>66.000000</td>\n",
       "      <td>613.000000</td>\n",
       "      <td>599.000000</td>\n",
       "      <td>1212.000000</td>\n",
       "      <td>100.000000</td>\n",
       "      <td>23.300000</td>\n",
       "      <td>23.100000</td>\n",
       "      <td>24.150000</td>\n",
       "      <td>22.750000</td>\n",
       "      <td>23.600000</td>\n",
       "      <td>77.500000</td>\n",
       "      <td>610.500000</td>\n",
       "      <td>593.500000</td>\n",
       "      <td>1204.000000</td>\n",
       "      <td>100.000000</td>\n",
       "      <td>23.550000</td>\n",
       "      <td>23.700000</td>\n",
       "      <td>23.150000</td>\n",
       "      <td>24.100000</td>\n",
       "      <td>23.050000</td>\n",
       "    </tr>\n",
       "    <tr>\n",
       "      <th>max</th>\n",
       "      <td>100.000000</td>\n",
       "      <td>644.000000</td>\n",
       "      <td>651.000000</td>\n",
       "      <td>1295.000000</td>\n",
       "      <td>100.000000</td>\n",
       "      <td>25.500000</td>\n",
       "      <td>25.300000</td>\n",
       "      <td>26.000000</td>\n",
       "      <td>24.900000</td>\n",
       "      <td>25.500000</td>\n",
       "      <td>100.000000</td>\n",
       "      <td>643.000000</td>\n",
       "      <td>655.000000</td>\n",
       "      <td>1298.000000</td>\n",
       "      <td>100.000000</td>\n",
       "      <td>25.600000</td>\n",
       "      <td>26.000000</td>\n",
       "      <td>25.200000</td>\n",
       "      <td>26.100000</td>\n",
       "      <td>24.900000</td>\n",
       "    </tr>\n",
       "  </tbody>\n",
       "</table>\n",
       "</div>"
      ],
      "text/plain": [
       "       sat_participate_17  sat_evrw_17  sat_math_17  sat_total_17  \\\n",
       "count           51.000000    51.000000    51.000000     51.000000   \n",
       "mean            39.803922   569.117647   556.882353   1126.098039   \n",
       "std             35.276632    45.666901    47.121395     92.494812   \n",
       "min              2.000000   482.000000   468.000000    950.000000   \n",
       "25%              4.000000   533.500000   523.500000   1055.500000   \n",
       "50%             38.000000   559.000000   548.000000   1107.000000   \n",
       "75%             66.000000   613.000000   599.000000   1212.000000   \n",
       "max            100.000000   644.000000   651.000000   1295.000000   \n",
       "\n",
       "       act_participate_17  act_eng_17  act_math_17  act_rding_17  \\\n",
       "count           51.000000   51.000000    51.000000     51.000000   \n",
       "mean            65.254902   20.931373    21.182353     22.013725   \n",
       "std             32.140842    2.353677     1.981989      2.067271   \n",
       "min              8.000000   16.300000    18.000000     18.100000   \n",
       "25%             31.000000   19.000000    19.400000     20.450000   \n",
       "50%             69.000000   20.700000    20.900000     21.800000   \n",
       "75%            100.000000   23.300000    23.100000     24.150000   \n",
       "max            100.000000   25.500000    25.300000     26.000000   \n",
       "\n",
       "       act_science_17  act_composite_17  sat_participate_18  sat_evrw_18  \\\n",
       "count       51.000000         51.000000           51.000000    51.000000   \n",
       "mean        21.041176         21.519608           45.745098   563.686275   \n",
       "std          3.182463          2.020695           37.314256    47.502627   \n",
       "min          2.300000         17.800000            2.000000   480.000000   \n",
       "25%         19.900000         19.800000            4.500000   534.500000   \n",
       "50%         21.300000         21.400000           52.000000   552.000000   \n",
       "75%         22.750000         23.600000           77.500000   610.500000   \n",
       "max         24.900000         25.500000          100.000000   643.000000   \n",
       "\n",
       "       sat_math_18  sat_total_18  act_participate_18  act_composite_18  \\\n",
       "count    51.000000     51.000000           51.000000         51.000000   \n",
       "mean    556.235294   1120.019608           61.647059         21.486275   \n",
       "std      47.772623     94.155083           34.080976          2.106278   \n",
       "min     480.000000    977.000000            7.000000         17.700000   \n",
       "25%     522.500000   1057.500000           28.500000         19.950000   \n",
       "50%     544.000000   1098.000000           66.000000         21.300000   \n",
       "75%     593.500000   1204.000000          100.000000         23.550000   \n",
       "max     655.000000   1298.000000          100.000000         25.600000   \n",
       "\n",
       "       act_eng_18  act_math_18  act_rding_18  act_science_18  \n",
       "count   51.000000    51.000000     51.000000       51.000000  \n",
       "mean    20.988235    21.125490     22.015686       21.345098  \n",
       "std      2.446356     2.035765      2.167245        1.870114  \n",
       "min     16.600000    17.800000     18.000000       17.900000  \n",
       "25%     19.100000    19.400000     20.450000       19.850000  \n",
       "50%     20.200000    20.700000     21.600000       21.100000  \n",
       "75%     23.700000    23.150000     24.100000       23.050000  \n",
       "max     26.000000    25.200000     26.100000       24.900000  "
      ]
     },
     "execution_count": 101,
     "metadata": {},
     "output_type": "execute_result"
    }
   ],
   "source": [
    "final_df.describe()"
   ]
  },
  {
   "cell_type": "markdown",
   "metadata": {},
   "source": [
    "##### **Answers:**\n",
    "SAT\n",
    "- sat_participate_17 and 18 have similar ranges (2% to 100%). sat_participate_17 mean(39.8)is lower than median(38.0) ; right skewed distribution. sat_participate_18 mean(45.7) is lower than median(52); left-skewed distribution. Respective histograms confirms this. \n",
    "- sat_math_17 mean(556.9) is lower than median(548.0); right-skewed. Similar observation for sat_math_18 with mean(556.2) and median(552). The quantiles, min and max are represented in respective box plots. No outliers in boxplots.\n",
    "- The mean is higher than the median for both sat_evrw_17 and 18, infers a right-skewed distribution. Histogram plots showed both sat_evrw_17 and sat_evrw_18 have a bi-modal distribution. The quantiles, min and max are represented in respective box plots. No outliers in boxplots.\n",
    "\n",
    "ACT\n",
    "- act_participate_17 and act_participate_18 have similar ranges (7 to 100%). act_participate_17 mean(65.3) is lower than median(69.0); left-skewed. act_participate_18 mean(61.6) is lower than median(66); left-skewed. Respective histograms confirms this. \n",
    "- act_eng_17 appears to be symmetrically distributed from the summmary statistics figures and box plots (no outliers). act_eng_18 has a median closer to the 25th percentile from the box plot. No outliers observed.\n",
    "- The mean is higher than median for both act_math_17 and 18, inferring right-skewed distributions. Further information from histogram shows act_math_17 is uni-modal (one mode at 19), and act_math_18 is bi-modal (two modes at 19.5 and 23.5). No outliers in boxplots.  \n",
    "- act_rding_17 and act_rding_18 have right-skewed distributions. The modes from the histogram (both at 21.0) are lower than the mean and median. \n",
    "- The min(2.3) for act_science_17 infers there is potential outlier(s), and this is confirmed via the boxplot. act_science_18 appears to be symmetrically distributed. There are no outliers from the boxplot."
   ]
  },
  {
   "cell_type": "markdown",
   "metadata": {},
   "source": [
    "\n",
    "#### Distributions in the data\n",
    "\n",
    "In this dataset, each data represents a sample from a population.                        \n",
    "For example, for ACT math test:\n",
    "- Population: the test results of all the students who take this test, nation-wide.\n",
    "- Population mean: is the national average of ACT math test (total scores/total no. of test takers) \n",
    "- Sample: the state means of ACT math test. We have 51 samples (51 states)\n",
    "\n",
    "***According to CLT, we generally assume that data we sample from a population will be normally distributed. Do we observe this trend?***"
   ]
  },
  {
   "cell_type": "markdown",
   "metadata": {},
   "source": [
    "**Answer:** Yes, should observe this trend when repeatedly take a random sample from the collection of 51 states n number of times to calculate the means of the samples."
   ]
  },
  {
   "cell_type": "markdown",
   "metadata": {},
   "source": [
    "Does This Assumption Hold for:\n",
    "    - Math\n",
    "    - Reading\n",
    "    - Rates\n",
    "Explain your answers for each distribution and how you think this will affect estimates made from these data."
   ]
  },
  {
   "cell_type": "code",
   "execution_count": 102,
   "metadata": {},
   "outputs": [],
   "source": [
    "# Function to plot distribution\n",
    "def dist_plotter(sample):\n",
    "    fig, ax = plt.subplots(figsize=(6,6))\n",
    "    ax = sns.distplot(sample, bins=50, kde=False)"
   ]
  },
  {
   "cell_type": "code",
   "execution_count": 103,
   "metadata": {},
   "outputs": [],
   "source": [
    "# Function for sampling\n",
    "def sampler(population, n=30, k=1000):\n",
    "    sample_means = []\n",
    "    for i in range(k):\n",
    "        sample = np.random.choice(population, size=n, replace=True)\n",
    "        sample_means.append(np.mean(sample))\n",
    "    return sample_means"
   ]
  },
  {
   "cell_type": "code",
   "execution_count": 104,
   "metadata": {},
   "outputs": [
    {
     "data": {
      "image/png": "[encoded data removed]",
      "text/plain": [
       "<Figure size 432x432 with 1 Axes>"
      ]
     },
     "metadata": {
      "needs_background": "light"
     },
     "output_type": "display_data"
    }
   ],
   "source": [
    "# Visualise the distribution of population mean for SAT Math 2018 scores\n",
    "dist_plotter(final_df['sat_math_18'])"
   ]
  },
  {
   "cell_type": "code",
   "execution_count": 105,
   "metadata": {},
   "outputs": [
    {
     "data": {
      "image/png": "[encoded data removed]",
      "text/plain": [
       "<Figure size 432x432 with 1 Axes>"
      ]
     },
     "metadata": {
      "needs_background": "light"
     },
     "output_type": "display_data"
    }
   ],
   "source": [
    "# Sampling SAT Math 2018 scores\n",
    "means_sat_math_18 = sampler(final_df['sat_math_18'])\n",
    "\n",
    "# Visualise the distribution of sampling means\n",
    "dist_plotter(means_sat_math_18)"
   ]
  },
  {
   "cell_type": "code",
   "execution_count": 106,
   "metadata": {},
   "outputs": [
    {
     "data": {
      "image/png": "[encoded data removed]",
      "text/plain": [
       "<Figure size 432x432 with 1 Axes>"
      ]
     },
     "metadata": {
      "needs_background": "light"
     },
     "output_type": "display_data"
    }
   ],
   "source": [
    "# Visualise the distribution of population mean for SAT Evidence-based Read/Writing 2017 scores\n",
    "dist_plotter(final_df['sat_evrw_17'])"
   ]
  },
  {
   "cell_type": "code",
   "execution_count": 107,
   "metadata": {},
   "outputs": [
    {
     "data": {
      "image/png": "[encoded data removed]",
      "text/plain": [
       "<Figure size 432x432 with 1 Axes>"
      ]
     },
     "metadata": {
      "needs_background": "light"
     },
     "output_type": "display_data"
    }
   ],
   "source": [
    "# Sampling SAT EVRW 2017 scores\n",
    "means_sat_evrw_17 = sampler(final_df['sat_math_17'])\n",
    "\n",
    "# Visualise the distribution of sampling means\n",
    "dist_plotter(means_sat_evrw_17)"
   ]
  },
  {
   "cell_type": "code",
   "execution_count": null,
   "metadata": {},
   "outputs": [],
   "source": []
  },
  {
   "cell_type": "code",
   "execution_count": 108,
   "metadata": {},
   "outputs": [
    {
     "data": {
      "image/png": "[encoded data removed]",
      "text/plain": [
       "<Figure size 432x432 with 1 Axes>"
      ]
     },
     "metadata": {
      "needs_background": "light"
     },
     "output_type": "display_data"
    }
   ],
   "source": [
    "# Visualise SAT 2017 participation rates\n",
    "dist_plotter(final_df['sat_participate_17'])"
   ]
  },
  {
   "cell_type": "code",
   "execution_count": 109,
   "metadata": {},
   "outputs": [
    {
     "data": {
      "image/png": "[encoded data removed]",
      "text/plain": [
       "<Figure size 432x432 with 1 Axes>"
      ]
     },
     "metadata": {
      "needs_background": "light"
     },
     "output_type": "display_data"
    }
   ],
   "source": [
    "# Sampling SAT 2017 Participation rates\n",
    "means_sat_participate_17 = sampler(final_df['sat_participate_17'])\n",
    "\n",
    "# Visualise the distribution of sampling means\n",
    "dist_plotter(means_sat_participate_17)"
   ]
  },
  {
   "cell_type": "markdown",
   "metadata": {},
   "source": [
    "Answer: In general, we observe this is the sample will be normally distributed."
   ]
  },
  {
   "cell_type": "markdown",
   "metadata": {},
   "source": [
    "#### Estimate Limits of Data\n",
    "\n",
    "Suppose we only seek to understand the relationship between SAT and ACT participation rates in 2017. \n",
    "\n",
    "##### Does it make sense to conduct statistical inference given these data specifically? \n",
    "\n",
    "Why or why not?\n",
    "\n",
    "*(think about granularity, aggregation, the relationships between populations size & rates...consider the actual populations these data describe in answering this question)*"
   ]
  },
  {
   "cell_type": "markdown",
   "metadata": {},
   "source": [
    "**Answer:** If we want to understand only the relationship between SAT and ACT participation rates in 2017, descriptive statistics should be sufficient for this purpose. The samples represents all 51 states. Graphical representations and summary statistics provides a quick method to make comparisons between different datasets."
   ]
  },
  {
   "cell_type": "markdown",
   "metadata": {},
   "source": [
    "##### Is it appropriate to compare *these* specific SAT and ACT math scores  - can we say students with higher SAT math score is better than those with lower ACT math score, or vice versa?\n",
    "\n",
    "Why or why not?"
   ]
  },
  {
   "cell_type": "markdown",
   "metadata": {},
   "source": [
    "**Answer:** No, while we can make inferrence on the relationships between SAT and ACT math scores, we cannot say that students with higher SAT math score is necessarily better than those with lower ACT math score. This is because of the potential differences between the format, structure and requirements between SAT and ACT math tests."
   ]
  },
  {
   "cell_type": "markdown",
   "metadata": {},
   "source": [
    "#### Statistical Evaluation of Distributions \n",
    "\n",
    "**If you feel it's appropriate**, using methods we discussed in class, run hypothesis tests to compare variables of interest in our dataset. "
   ]
  },
  {
   "cell_type": "markdown",
   "metadata": {},
   "source": [
    "**Answer:** Hypothesis testing is not necessary since the relationships we want to draw between variables can be achieved through descriptive statistics. For example, the relationship between participation rates and scores."
   ]
  },
  {
   "cell_type": "markdown",
   "metadata": {},
   "source": [
    "## Outside Research"
   ]
  },
  {
   "cell_type": "markdown",
   "metadata": {},
   "source": [
    "Based upon your observations, choose **three** states that demonstrate interesting trends in their SAT and/or ACT participation rates. Spend some time doing outside research on state policies that might influence these rates, and summarize your findings below. **Feel free to go back and create new plots that highlight these states of interest**. If you bring in any outside tables or charts, make sure you are explicit about having borrowed them. If you quote any text, make sure that it renders as being quoted. (Make sure that you cite your sources -- check with you local instructor for citation preferences)."
   ]
  },
  {
   "cell_type": "markdown",
   "metadata": {},
   "source": [
    "**Answer:** The three states of interest are Colorado, Illinois and Rhode Island. \n",
    "- Colorado's participation rates for SAT surged from 11% to 100%, while ACT participation dropped from 100% to 30% between 2017 and 2018. Correspondingly, there is a decrease in SAT total score, and increase in ACT composite score.\n",
    "- Similar trends are observed for Illinois and Rhode Island.\n",
    "\n",
    "- From literature research, Colorado, Illinois and Illinois partnered with the the College Board partnered to administer SAT as a mandatory test __[mandatory test](https://blog.prepscholar.com/which-states-require-the-sat)__. As part of the implementation efforts, the College Board introduced a program in 2010 __[SAT school day](https://collegereadiness.collegeboard.org/sat/k12-educators/sat-school-day/about)__ meant to increase access to the SAT by waivering test fees (__[USD64.50](https://www.timeshighereducation.com/student/advice/difference-between-sats-and-acts#survey-answer)__ with essay vs. no cost) for low-income family students. In 2016, the SAT was redesigned to to align the SAT with __[Common Core Standards](https://blog.prepscholar.com/what-is-the-common-core)__. In general terms, the standards emphasize critical thinking and real-world problem-solving skills as opposed to rote memorization, which should better prepare students for College and their careers.\n",
    "\n"
   ]
  },
  {
   "cell_type": "code",
   "execution_count": 110,
   "metadata": {},
   "outputs": [
    {
     "data": {
      "text/html": [
       "<div>\n",
       "<style scoped>\n",
       "    .dataframe tbody tr th:only-of-type {\n",
       "        vertical-align: middle;\n",
       "    }\n",
       "\n",
       "    .dataframe tbody tr th {\n",
       "        vertical-align: top;\n",
       "    }\n",
       "\n",
       "    .dataframe thead th {\n",
       "        text-align: right;\n",
       "    }\n",
       "</style>\n",
       "<table border=\"1\" class=\"dataframe\">\n",
       "  <thead>\n",
       "    <tr style=\"text-align: right;\">\n",
       "      <th></th>\n",
       "      <th>sat_participate_17</th>\n",
       "      <th>sat_participate_18</th>\n",
       "      <th>act_participate_17</th>\n",
       "      <th>act_participate_18</th>\n",
       "    </tr>\n",
       "    <tr>\n",
       "      <th>state</th>\n",
       "      <th></th>\n",
       "      <th></th>\n",
       "      <th></th>\n",
       "      <th></th>\n",
       "    </tr>\n",
       "  </thead>\n",
       "  <tbody>\n",
       "    <tr>\n",
       "      <th>Colorado</th>\n",
       "      <td>11.0</td>\n",
       "      <td>100.0</td>\n",
       "      <td>100.0</td>\n",
       "      <td>30.0</td>\n",
       "    </tr>\n",
       "    <tr>\n",
       "      <th>Illinois</th>\n",
       "      <td>9.0</td>\n",
       "      <td>99.0</td>\n",
       "      <td>93.0</td>\n",
       "      <td>43.0</td>\n",
       "    </tr>\n",
       "    <tr>\n",
       "      <th>Rhode Island</th>\n",
       "      <td>71.0</td>\n",
       "      <td>97.0</td>\n",
       "      <td>21.0</td>\n",
       "      <td>15.0</td>\n",
       "    </tr>\n",
       "  </tbody>\n",
       "</table>\n",
       "</div>"
      ],
      "text/plain": [
       "              sat_participate_17  sat_participate_18  act_participate_17  \\\n",
       "state                                                                      \n",
       "Colorado                    11.0               100.0               100.0   \n",
       "Illinois                     9.0                99.0                93.0   \n",
       "Rhode Island                71.0                97.0                21.0   \n",
       "\n",
       "              act_participate_18  \n",
       "state                             \n",
       "Colorado                    30.0  \n",
       "Illinois                    43.0  \n",
       "Rhode Island                15.0  "
      ]
     },
     "execution_count": 110,
     "metadata": {},
     "output_type": "execute_result"
    }
   ],
   "source": [
    "# Summary of Illinois's participation rates 2017-2018.\n",
    "final_df.loc[['Colorado','Illinois', 'Rhode Island'],['sat_participate_17','sat_participate_18','act_participate_17', 'act_participate_18']]"
   ]
  },
  {
   "cell_type": "code",
   "execution_count": 111,
   "metadata": {},
   "outputs": [
    {
     "data": {
      "text/html": [
       "<div>\n",
       "<style scoped>\n",
       "    .dataframe tbody tr th:only-of-type {\n",
       "        vertical-align: middle;\n",
       "    }\n",
       "\n",
       "    .dataframe tbody tr th {\n",
       "        vertical-align: top;\n",
       "    }\n",
       "\n",
       "    .dataframe thead th {\n",
       "        text-align: right;\n",
       "    }\n",
       "</style>\n",
       "<table border=\"1\" class=\"dataframe\">\n",
       "  <thead>\n",
       "    <tr style=\"text-align: right;\">\n",
       "      <th></th>\n",
       "      <th>sat_total_17</th>\n",
       "      <th>sat_total_18</th>\n",
       "      <th>act_composite_17</th>\n",
       "      <th>act_composite_18</th>\n",
       "    </tr>\n",
       "    <tr>\n",
       "      <th>state</th>\n",
       "      <th></th>\n",
       "      <th></th>\n",
       "      <th></th>\n",
       "      <th></th>\n",
       "    </tr>\n",
       "  </thead>\n",
       "  <tbody>\n",
       "    <tr>\n",
       "      <th>Colorado</th>\n",
       "      <td>1201.0</td>\n",
       "      <td>1025.0</td>\n",
       "      <td>20.8</td>\n",
       "      <td>23.9</td>\n",
       "    </tr>\n",
       "    <tr>\n",
       "      <th>Illinois</th>\n",
       "      <td>1115.0</td>\n",
       "      <td>1019.0</td>\n",
       "      <td>21.4</td>\n",
       "      <td>23.9</td>\n",
       "    </tr>\n",
       "    <tr>\n",
       "      <th>Rhode Island</th>\n",
       "      <td>1062.0</td>\n",
       "      <td>1018.0</td>\n",
       "      <td>24.0</td>\n",
       "      <td>24.2</td>\n",
       "    </tr>\n",
       "  </tbody>\n",
       "</table>\n",
       "</div>"
      ],
      "text/plain": [
       "              sat_total_17  sat_total_18  act_composite_17  act_composite_18\n",
       "state                                                                       \n",
       "Colorado            1201.0        1025.0              20.8              23.9\n",
       "Illinois            1115.0        1019.0              21.4              23.9\n",
       "Rhode Island        1062.0        1018.0              24.0              24.2"
      ]
     },
     "execution_count": 111,
     "metadata": {},
     "output_type": "execute_result"
    }
   ],
   "source": [
    "# Summary of Colorado's total scores 2017-2018.\n",
    "final_df.loc[['Colorado','Illinois', 'Rhode Island'],['sat_total_17','sat_total_18','act_composite_17', 'act_composite_18']]"
   ]
  },
  {
   "cell_type": "markdown",
   "metadata": {},
   "source": [
    "## Conclusions and Recommendations"
   ]
  },
  {
   "cell_type": "markdown",
   "metadata": {},
   "source": [
    "Based on your exploration of the data, what are you key takeaways and recommendations? Choose one state with a lower participation rate and provide a suggestion for how the College Board might increase participation amongst graduating seniors in this state. Are there additional data you desire that would better inform your investigations?"
   ]
  },
  {
   "cell_type": "code",
   "execution_count": 112,
   "metadata": {},
   "outputs": [
    {
     "data": {
      "text/html": [
       "<div>\n",
       "<style scoped>\n",
       "    .dataframe tbody tr th:only-of-type {\n",
       "        vertical-align: middle;\n",
       "    }\n",
       "\n",
       "    .dataframe tbody tr th {\n",
       "        vertical-align: top;\n",
       "    }\n",
       "\n",
       "    .dataframe thead th {\n",
       "        text-align: right;\n",
       "    }\n",
       "</style>\n",
       "<table border=\"1\" class=\"dataframe\">\n",
       "  <thead>\n",
       "    <tr style=\"text-align: right;\">\n",
       "      <th></th>\n",
       "      <th>sat_participate_17</th>\n",
       "      <th>sat_total_17</th>\n",
       "      <th>sat_participate_18</th>\n",
       "      <th>sat_total_18</th>\n",
       "    </tr>\n",
       "    <tr>\n",
       "      <th>state</th>\n",
       "      <th></th>\n",
       "      <th></th>\n",
       "      <th></th>\n",
       "      <th></th>\n",
       "    </tr>\n",
       "  </thead>\n",
       "  <tbody>\n",
       "    <tr>\n",
       "      <th>Colorado</th>\n",
       "      <td>11.0</td>\n",
       "      <td>1201.0</td>\n",
       "      <td>100.0</td>\n",
       "      <td>1025.0</td>\n",
       "    </tr>\n",
       "    <tr>\n",
       "      <th>Illinois</th>\n",
       "      <td>9.0</td>\n",
       "      <td>1115.0</td>\n",
       "      <td>99.0</td>\n",
       "      <td>1019.0</td>\n",
       "    </tr>\n",
       "    <tr>\n",
       "      <th>Montana</th>\n",
       "      <td>10.0</td>\n",
       "      <td>1196.0</td>\n",
       "      <td>10.0</td>\n",
       "      <td>1198.0</td>\n",
       "    </tr>\n",
       "    <tr>\n",
       "      <th>New Mexico</th>\n",
       "      <td>11.0</td>\n",
       "      <td>1138.0</td>\n",
       "      <td>16.0</td>\n",
       "      <td>1093.0</td>\n",
       "    </tr>\n",
       "    <tr>\n",
       "      <th>Ohio</th>\n",
       "      <td>12.0</td>\n",
       "      <td>1149.0</td>\n",
       "      <td>18.0</td>\n",
       "      <td>1099.0</td>\n",
       "    </tr>\n",
       "    <tr>\n",
       "      <th>West Virginia</th>\n",
       "      <td>14.0</td>\n",
       "      <td>1086.0</td>\n",
       "      <td>28.0</td>\n",
       "      <td>999.0</td>\n",
       "    </tr>\n",
       "  </tbody>\n",
       "</table>\n",
       "</div>"
      ],
      "text/plain": [
       "               sat_participate_17  sat_total_17  sat_participate_18  \\\n",
       "state                                                                 \n",
       "Colorado                     11.0        1201.0               100.0   \n",
       "Illinois                      9.0        1115.0                99.0   \n",
       "Montana                      10.0        1196.0                10.0   \n",
       "New Mexico                   11.0        1138.0                16.0   \n",
       "Ohio                         12.0        1149.0                18.0   \n",
       "West Virginia                14.0        1086.0                28.0   \n",
       "\n",
       "               sat_total_18  \n",
       "state                        \n",
       "Colorado             1025.0  \n",
       "Illinois             1019.0  \n",
       "Montana              1198.0  \n",
       "New Mexico           1093.0  \n",
       "Ohio                 1099.0  \n",
       "West Virginia         999.0  "
      ]
     },
     "execution_count": 112,
     "metadata": {},
     "output_type": "execute_result"
    }
   ],
   "source": [
    "# Function to display states with SAT 2017 participation ranges between 9 to 20%.\n",
    "x = final_df[['sat_participate_17', 'sat_total_17', 'sat_participate_18', 'sat_total_18']]\n",
    "x.loc[(psat_df['sat_participate_17']>=9.0) & (psat_df['sat_participate_17']<20.0)]"
   ]
  },
  {
   "cell_type": "code",
   "execution_count": 113,
   "metadata": {},
   "outputs": [
    {
     "data": {
      "text/html": [
       "<div>\n",
       "<style scoped>\n",
       "    .dataframe tbody tr th:only-of-type {\n",
       "        vertical-align: middle;\n",
       "    }\n",
       "\n",
       "    .dataframe tbody tr th {\n",
       "        vertical-align: top;\n",
       "    }\n",
       "\n",
       "    .dataframe thead th {\n",
       "        text-align: right;\n",
       "    }\n",
       "</style>\n",
       "<table border=\"1\" class=\"dataframe\">\n",
       "  <thead>\n",
       "    <tr style=\"text-align: right;\">\n",
       "      <th></th>\n",
       "      <th>sat_total_17</th>\n",
       "      <th>sat_total_18</th>\n",
       "    </tr>\n",
       "    <tr>\n",
       "      <th>state</th>\n",
       "      <th></th>\n",
       "      <th></th>\n",
       "    </tr>\n",
       "  </thead>\n",
       "  <tbody>\n",
       "    <tr>\n",
       "      <th>Montana</th>\n",
       "      <td>1196.0</td>\n",
       "      <td>1198.0</td>\n",
       "    </tr>\n",
       "  </tbody>\n",
       "</table>\n",
       "</div>"
      ],
      "text/plain": [
       "         sat_total_17  sat_total_18\n",
       "state                              \n",
       "Montana        1196.0        1198.0"
      ]
     },
     "execution_count": 113,
     "metadata": {},
     "output_type": "execute_result"
    }
   ],
   "source": [
    "# Summary of candidate Montana's total scores 2017-2018.\n",
    "final_df.loc[['Montana'],['sat_total_17','sat_total_18']]"
   ]
  },
  {
   "cell_type": "markdown",
   "metadata": {},
   "source": [
    "**Answer:** The SAT participation rates are generally consistent between 2017 and 2018. Similar observation applies for ACT as well. SAT has a small cluster of states with high participation rates, and another cluster with 50-70% participation rates. ACT has a large cluster of states with high participation. For participation rates and scores, they are negatively correlated. Low particiation rates means the students participating in the tests tend to be better performing ones.\n",
    "\n",
    "Generally, the states with significant increase in SAT participations between 2017 and 2018 have prior participation rates around the 9-11% range. The national __[average](https://www.testive.com/colorado-sat-change-2017/)__ score is 1020 in 2016 then. This could soften the ground further for the three states to adopt mandatory SAT test in 2017.\n",
    "\n",
    "The College Board could consider focusing on states with i) similar participation rates for the coming year (i.e. 2018 participation rates for 2019 efforts), and total scores close to the national average. Moving forwards, one potential candidate is **Montana**, with its 2018 participation rates 10% and mean SAT total score 1198. The national avaerage SAT score for 2018 is __[1060](https://blog.prepscholar.com/good-sat-score-for-2018)__. \n",
    "Understandably, transition from ACT to SAT is not an easy decision, with high stakes involved for students and families. Parents of the students would not concerned regarding whether their children can adjust to the new SAT test format and requirements. As part of the outreach effort, the College Board could consider working with the State's educational board to create materials to ease student's transition from ACT to SAT. "
   ]
  },
  {
   "cell_type": "markdown",
   "metadata": {},
   "source": []
  }
 ],
 "metadata": {
  "anaconda-cloud": {},
  "kernelspec": {
   "display_name": "Python 3",
   "language": "python",
   "name": "python3"
  },
  "language_info": {
   "codemirror_mode": {
    "name": "ipython",
    "version": 3
   },
   "file_extension": ".py",
   "mimetype": "text/x-python",
   "name": "python",
   "nbconvert_exporter": "python",
   "pygments_lexer": "ipython3",
   "version": "3.7.6"
  },
  "varInspector": {
   "cols": {
    "lenName": 16,
    "lenType": 16,
    "lenVar": 40
   },
   "kernels_config": {
    "python": {
     "delete_cmd_postfix": "",
     "delete_cmd_prefix": "del ",
     "library": "var_list.py",
     "varRefreshCmd": "print(var_dic_list())"
    },
    "r": {
     "delete_cmd_postfix": ") ",
     "delete_cmd_prefix": "rm(",
     "library": "var_list.r",
     "varRefreshCmd": "cat(var_dic_list()) "
    }
   },
   "types_to_exclude": [
    "module",
    "function",
    "builtin_function_or_method",
    "instance",
    "_Feature"
   ],
   "window_display": false
  }
 },
 "nbformat": 4,
 "nbformat_minor": 2
}
